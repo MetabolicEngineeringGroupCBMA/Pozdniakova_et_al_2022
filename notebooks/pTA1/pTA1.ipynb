{
 "cells": [
  {
   "cell_type": "markdown",
   "metadata": {},
   "source": [
    "# Design of yeast/E. coli shuttle vector pTA1\n",
    "\n",
    "The pTA1 was made by in-vivo homologous recombination between five DNA fragments \n",
    "carrying 30 bp long flanking recombination sequences (s1 - s5).\n",
    "\n",
    "              s1\n",
    "     -|ampR|30\n",
    "    |       \\/                                           \n",
    "    |       /\\       s2                                  \n",
    "    |       30|pBR|30\n",
    "    |              \\/\n",
    "    |              /\\        s3\n",
    "    |              30|_2µ_|30\n",
    "    |                      \\/\n",
    "    |                      /\\        s4\n",
    "    |                      30|LEU2|30\n",
    "    |                              \\/\n",
    "    |                              /\\        s5\n",
    "    |                              30|CRPΔ|30\n",
    "    |                                      \\/\n",
    "    |                                      /\\\n",
    "    |                                      30-\n",
    "    |                                         |\n",
    "     -----------------------------------------\n",
    "\n",
    "| Designation | Sequence                       |\n",
    "|-------------|--------------------------------|\n",
    "| s1          | AATCCAATCAGCGTAAGGTGTAGACTTTCT |\n",
    "| s2          | ATCGTATCTGCTGCGTAAATAGTAGTCAAC |\n",
    "| s3          | TAAAATCTCGTAAAGGAACTGTCTGCTCTG |\n",
    "| s4          | AACTGTAAAATCAGGTATCTCGTAGTCCGT |\n",
    "| s5          | GAAAAGCGTTTACCTCGGAACTCTATTGTA |\n",
    "\n",
    "\n",
    "\n",
    "| Primer             | Sequence                                                  |\n",
    "|--------------------|-----------------------------------------------------------|\n",
    "| 980_Leu2.FW        | TAAAATCTCGTAAAGGAACTGTCTGCTCTGTTAACTGTGGGAATACTC          |\n",
    "| 979_Leu2.REV       | ACGGACTACGAGATACCTGATTTTACAGTTTCTACCCTATGAACATATTC        |\n",
    "| 1113_Amp.fw.nw     | GAAAAGCGTTTACCTCGGAACTCTATTGTAGAACCCCTATTTGTTTATTTTTCTA   |\n",
    "| 987_Amp.REV        | AGAAAGTCTACACCTTACGCTGATTGGATTTGAAGTTTTAAATCAATCTAAA      |\n",
    "| 1196_Pbr.FW        | AATCCAATCAGCGTAAGGTGTAGACTTTCTCTGTCAGACCAAGTTTACT         |\n",
    "| 1195_Pbr.REV       | GTTGACTACTATTTACGCAGCAGATACGATCTCGTTTCATCGGT              |\n",
    "| 978_Crp.FW         | AACTGTAAAATCAGGTATCTCGTAGTCCGTGTTCTGATCCTCGAGC            |\n",
    "| 977_Crp.REV        | TACAATAGAGTTCCGAGGTAAACGCTTTTCGTTCTTGTCTCATTGCC           |\n",
    "| 984_Micron.FW      | ATCGTATCTGCTGCGTAAATAGTAGTCAACGATCGTACTTGTTACCCAT         |\n",
    "| 983_Micron.REV     | CAGAGCAGACAGTTCCTTTACGAGATTTTAGATCCAATATCAAAGGAA          |\n",
    "\n"
   ]
  },
  {
   "cell_type": "markdown",
   "metadata": {},
   "source": [
    "from pydna.all import *"
   ]
  },
  {
   "cell_type": "code",
   "execution_count": 1,
   "metadata": {},
   "outputs": [],
   "source": [
    "parts = []"
   ]
  },
  {
   "cell_type": "code",
   "execution_count": 2,
   "metadata": {},
   "outputs": [],
   "source": [
    "from pydna.all import *"
   ]
  },
  {
   "cell_type": "markdown",
   "metadata": {},
   "source": [
    "# AmpR\n",
    "\n",
    "Source: pUG35\n",
    "\n",
    "Here I will try to elucidate what would constitute a minimum functional ampicillin resistance gene (ampR). \n",
    "\n",
    "I will try to extract this information from the features of selected Genbank files and sequence alignments.\n",
    "\n",
    "There is an amp gene in the widely used [pBR322](https://www.ncbi.nlm.nih.gov/nuccore/J01749) vector."
   ]
  },
  {
   "cell_type": "code",
   "execution_count": 3,
   "metadata": {},
   "outputs": [],
   "source": [
    "# pBR322 = genbank(\"J01749.1\")\n",
    "# pBR322.write(\"pBR322.gb\")\n",
    "pBR322 = read(\"pBR322.gb\")"
   ]
  },
  {
   "cell_type": "code",
   "execution_count": 4,
   "metadata": {},
   "outputs": [],
   "source": [
    "assert pBR322.cseguid() == \"5vBUdkLAnsJe0nwUsivmKmiZNAc\""
   ]
  },
  {
   "cell_type": "code",
   "execution_count": 5,
   "metadata": {},
   "outputs": [
    {
     "data": {
      "text/html": [
       "<table>\n",
       "    <thead>\n",
       "        <tr>\n",
       "            <th>Ft#</th>\n",
       "            <th>Label or Note</th>\n",
       "            <th>Dir</th>\n",
       "            <th>Sta</th>\n",
       "            <th>End</th>\n",
       "            <th>Len</th>\n",
       "            <th>type</th>\n",
       "            <th>orf?</th>\n",
       "        </tr>\n",
       "    </thead>\n",
       "    <tbody>\n",
       "        <tr>\n",
       "            <td>0</td>\n",
       "            <td>nd</td>\n",
       "            <td>--&gt;</td>\n",
       "            <td>0</td>\n",
       "            <td>4361</td>\n",
       "            <td>4361</td>\n",
       "            <td>source</td>\n",
       "            <td>no</td>\n",
       "        </tr>\n",
       "        <tr>\n",
       "            <td>1</td>\n",
       "            <td>nd</td>\n",
       "            <td>--&gt;</td>\n",
       "            <td>0</td>\n",
       "            <td>1762</td>\n",
       "            <td>1762</td>\n",
       "            <td>source</td>\n",
       "            <td>no</td>\n",
       "        </tr>\n",
       "        <tr>\n",
       "            <td>2</td>\n",
       "            <td>nd</td>\n",
       "            <td>--&gt;</td>\n",
       "            <td>23</td>\n",
       "            <td>27</td>\n",
       "            <td>4</td>\n",
       "            <td>misc_binding</td>\n",
       "            <td>no</td>\n",
       "        </tr>\n",
       "        <tr>\n",
       "            <td>3</td>\n",
       "            <td>N:promoter P1 (6</td>\n",
       "            <td>&lt;--</td>\n",
       "            <td>26</td>\n",
       "            <td>33</td>\n",
       "            <td>7</td>\n",
       "            <td>regulatory</td>\n",
       "            <td>no</td>\n",
       "        </tr>\n",
       "        <tr>\n",
       "            <td>4</td>\n",
       "            <td>nd</td>\n",
       "            <td>--&gt;</td>\n",
       "            <td>38</td>\n",
       "            <td>42</td>\n",
       "            <td>4</td>\n",
       "            <td>misc_binding</td>\n",
       "            <td>no</td>\n",
       "        </tr>\n",
       "        <tr>\n",
       "            <td>5</td>\n",
       "            <td>N:promoter P2 (6</td>\n",
       "            <td>--&gt;</td>\n",
       "            <td>42</td>\n",
       "            <td>49</td>\n",
       "            <td>7</td>\n",
       "            <td>regulatory</td>\n",
       "            <td>no</td>\n",
       "        </tr>\n",
       "        <tr>\n",
       "            <td>6</td>\n",
       "            <td>nd</td>\n",
       "            <td>--&gt;</td>\n",
       "            <td>52</td>\n",
       "            <td>56</td>\n",
       "            <td>4</td>\n",
       "            <td>misc_binding</td>\n",
       "            <td>no</td>\n",
       "        </tr>\n",
       "        <tr>\n",
       "            <td>7</td>\n",
       "            <td>nd</td>\n",
       "            <td>--&gt;</td>\n",
       "            <td>66</td>\n",
       "            <td>70</td>\n",
       "            <td>4</td>\n",
       "            <td>misc_binding</td>\n",
       "            <td>no</td>\n",
       "        </tr>\n",
       "        <tr>\n",
       "            <td>8</td>\n",
       "            <td>nd</td>\n",
       "            <td>--&gt;</td>\n",
       "            <td>79</td>\n",
       "            <td>83</td>\n",
       "            <td>4</td>\n",
       "            <td>misc_binding</td>\n",
       "            <td>no</td>\n",
       "        </tr>\n",
       "        <tr>\n",
       "            <td>9</td>\n",
       "            <td>nd</td>\n",
       "            <td>--&gt;</td>\n",
       "            <td>85</td>\n",
       "            <td>1276</td>\n",
       "            <td>1191</td>\n",
       "            <td>gene</td>\n",
       "            <td>yes</td>\n",
       "        </tr>\n",
       "        <tr>\n",
       "            <td>10</td>\n",
       "            <td>nd</td>\n",
       "            <td>--&gt;</td>\n",
       "            <td>85</td>\n",
       "            <td>1276</td>\n",
       "            <td>1191</td>\n",
       "            <td>CDS</td>\n",
       "            <td>yes</td>\n",
       "        </tr>\n",
       "        <tr>\n",
       "            <td>11</td>\n",
       "            <td>N:Endo.Sce I cle</td>\n",
       "            <td>&lt;--</td>\n",
       "            <td>140</td>\n",
       "            <td>142</td>\n",
       "            <td>2</td>\n",
       "            <td>misc_feature</td>\n",
       "            <td>no</td>\n",
       "        </tr>\n",
       "        <tr>\n",
       "            <td>12</td>\n",
       "            <td>N:Endo.Sce I cle</td>\n",
       "            <td>--&gt;</td>\n",
       "            <td>145</td>\n",
       "            <td>147</td>\n",
       "            <td>2</td>\n",
       "            <td>misc_feature</td>\n",
       "            <td>no</td>\n",
       "        </tr>\n",
       "        <tr>\n",
       "            <td>13</td>\n",
       "            <td>nd</td>\n",
       "            <td>--&gt;</td>\n",
       "            <td>410</td>\n",
       "            <td>414</td>\n",
       "            <td>4</td>\n",
       "            <td>misc_binding</td>\n",
       "            <td>no</td>\n",
       "        </tr>\n",
       "        <tr>\n",
       "            <td>14</td>\n",
       "            <td>N:conflict</td>\n",
       "            <td>--&gt;</td>\n",
       "            <td>425</td>\n",
       "            <td>426</td>\n",
       "            <td>1</td>\n",
       "            <td>misc_difference</td>\n",
       "            <td>no</td>\n",
       "        </tr>\n",
       "        <tr>\n",
       "            <td>15</td>\n",
       "            <td>nd</td>\n",
       "            <td>--&gt;</td>\n",
       "            <td>468</td>\n",
       "            <td>472</td>\n",
       "            <td>4</td>\n",
       "            <td>misc_binding</td>\n",
       "            <td>no</td>\n",
       "        </tr>\n",
       "        <tr>\n",
       "            <td>16</td>\n",
       "            <td>nd</td>\n",
       "            <td>--&gt;</td>\n",
       "            <td>525</td>\n",
       "            <td>528</td>\n",
       "            <td>3</td>\n",
       "            <td>old_sequence</td>\n",
       "            <td>no</td>\n",
       "        </tr>\n",
       "        <tr>\n",
       "            <td>17</td>\n",
       "            <td>N:gamma-delta in</td>\n",
       "            <td>&lt;--</td>\n",
       "            <td>1514</td>\n",
       "            <td>1519</td>\n",
       "            <td>5</td>\n",
       "            <td>repeat_region</td>\n",
       "            <td>no</td>\n",
       "        </tr>\n",
       "        <tr>\n",
       "            <td>18</td>\n",
       "            <td>N:from pSC101 (b</td>\n",
       "            <td>--&gt;</td>\n",
       "            <td>1635</td>\n",
       "            <td>1762</td>\n",
       "            <td>127</td>\n",
       "            <td>misc_feature</td>\n",
       "            <td>no</td>\n",
       "        </tr>\n",
       "        <tr>\n",
       "            <td>19</td>\n",
       "            <td>N:gamma-delta in</td>\n",
       "            <td>&lt;--</td>\n",
       "            <td>1787</td>\n",
       "            <td>1792</td>\n",
       "            <td>5</td>\n",
       "            <td>repeat_region</td>\n",
       "            <td>no</td>\n",
       "        </tr>\n",
       "        <tr>\n",
       "            <td>20</td>\n",
       "            <td>N:conflict</td>\n",
       "            <td>--&gt;</td>\n",
       "            <td>1890</td>\n",
       "            <td>1892</td>\n",
       "            <td>2</td>\n",
       "            <td>misc_difference</td>\n",
       "            <td>no</td>\n",
       "        </tr>\n",
       "        <tr>\n",
       "            <td>21</td>\n",
       "            <td>nd</td>\n",
       "            <td>--&gt;</td>\n",
       "            <td>1891</td>\n",
       "            <td>1893</td>\n",
       "            <td>2</td>\n",
       "            <td>old_sequence</td>\n",
       "            <td>no</td>\n",
       "        </tr>\n",
       "        <tr>\n",
       "            <td>22</td>\n",
       "            <td>nd</td>\n",
       "            <td>--&gt;</td>\n",
       "            <td>1904</td>\n",
       "            <td>1910</td>\n",
       "            <td>6</td>\n",
       "            <td>regulatory</td>\n",
       "            <td>no</td>\n",
       "        </tr>\n",
       "        <tr>\n",
       "            <td>23</td>\n",
       "            <td>N:Shine-Dalgarno</td>\n",
       "            <td>--&gt;</td>\n",
       "            <td>1904</td>\n",
       "            <td>1909</td>\n",
       "            <td>5</td>\n",
       "            <td>regulatory</td>\n",
       "            <td>no</td>\n",
       "        </tr>\n",
       "        <tr>\n",
       "            <td>24</td>\n",
       "            <td>N:conflict</td>\n",
       "            <td>--&gt;</td>\n",
       "            <td>1912</td>\n",
       "            <td>1914</td>\n",
       "            <td>2</td>\n",
       "            <td>misc_difference</td>\n",
       "            <td>no</td>\n",
       "        </tr>\n",
       "        <tr>\n",
       "            <td>25</td>\n",
       "            <td>nd</td>\n",
       "            <td>--&gt;</td>\n",
       "            <td>1913</td>\n",
       "            <td>1915</td>\n",
       "            <td>2</td>\n",
       "            <td>old_sequence</td>\n",
       "            <td>no</td>\n",
       "        </tr>\n",
       "        <tr>\n",
       "            <td>26</td>\n",
       "            <td>nd</td>\n",
       "            <td>--&gt;</td>\n",
       "            <td>1914</td>\n",
       "            <td>2106</td>\n",
       "            <td>192</td>\n",
       "            <td>CDS</td>\n",
       "            <td>no</td>\n",
       "        </tr>\n",
       "        <tr>\n",
       "            <td>27</td>\n",
       "            <td>N:H-strand Y eff</td>\n",
       "            <td>--&gt;</td>\n",
       "            <td>2010</td>\n",
       "            <td>2167</td>\n",
       "            <td>157</td>\n",
       "            <td>misc_feature</td>\n",
       "            <td>no</td>\n",
       "        </tr>\n",
       "        <tr>\n",
       "            <td>28</td>\n",
       "            <td>N:gamma-delta in</td>\n",
       "            <td>&lt;--</td>\n",
       "            <td>2244</td>\n",
       "            <td>2249</td>\n",
       "            <td>5</td>\n",
       "            <td>repeat_region</td>\n",
       "            <td>no</td>\n",
       "        </tr>\n",
       "        <tr>\n",
       "            <td>29</td>\n",
       "            <td>N:L-strand Y eff</td>\n",
       "            <td>&lt;--</td>\n",
       "            <td>2350</td>\n",
       "            <td>2414</td>\n",
       "            <td>64</td>\n",
       "            <td>misc_feature</td>\n",
       "            <td>no</td>\n",
       "        </tr>\n",
       "        <tr>\n",
       "            <td>30</td>\n",
       "            <td>nd</td>\n",
       "            <td>--&gt;</td>\n",
       "            <td>2438</td>\n",
       "            <td>2447</td>\n",
       "            <td>9</td>\n",
       "            <td>misc_binding</td>\n",
       "            <td>no</td>\n",
       "        </tr>\n",
       "        <tr>\n",
       "            <td>31</td>\n",
       "            <td>nd</td>\n",
       "            <td>--&gt;</td>\n",
       "            <td>2534</td>\n",
       "            <td>2535</td>\n",
       "            <td>1</td>\n",
       "            <td>rep_origin</td>\n",
       "            <td>no</td>\n",
       "        </tr>\n",
       "        <tr>\n",
       "            <td>32</td>\n",
       "            <td>N:revision accor</td>\n",
       "            <td>--&gt;</td>\n",
       "            <td>2728</td>\n",
       "            <td>2730</td>\n",
       "            <td>2</td>\n",
       "            <td>old_sequence</td>\n",
       "            <td>no</td>\n",
       "        </tr>\n",
       "        <tr>\n",
       "            <td>33</td>\n",
       "            <td>nd</td>\n",
       "            <td>--&gt;</td>\n",
       "            <td>2728</td>\n",
       "            <td>2729</td>\n",
       "            <td>1</td>\n",
       "            <td>old_sequence</td>\n",
       "            <td>no</td>\n",
       "        </tr>\n",
       "        <tr>\n",
       "            <td>34</td>\n",
       "            <td>N:revision accor</td>\n",
       "            <td>--&gt;</td>\n",
       "            <td>2729</td>\n",
       "            <td>2730</td>\n",
       "            <td>1</td>\n",
       "            <td>old_sequence</td>\n",
       "            <td>no</td>\n",
       "        </tr>\n",
       "        <tr>\n",
       "            <td>35</td>\n",
       "            <td>nd</td>\n",
       "            <td>--&gt;</td>\n",
       "            <td>3147</td>\n",
       "            <td>4361</td>\n",
       "            <td>1214</td>\n",
       "            <td>mobile_element</td>\n",
       "            <td>no</td>\n",
       "        </tr>\n",
       "        <tr>\n",
       "            <td>36</td>\n",
       "            <td>N:corresponds to</td>\n",
       "            <td>--&gt;</td>\n",
       "            <td>3147</td>\n",
       "            <td>3185</td>\n",
       "            <td>38</td>\n",
       "            <td>repeat_region</td>\n",
       "            <td>no</td>\n",
       "        </tr>\n",
       "        <tr>\n",
       "            <td>37</td>\n",
       "            <td>nd</td>\n",
       "            <td>&lt;--</td>\n",
       "            <td>3292</td>\n",
       "            <td>4153</td>\n",
       "            <td>861</td>\n",
       "            <td>gene</td>\n",
       "            <td>yes</td>\n",
       "        </tr>\n",
       "        <tr>\n",
       "            <td>38</td>\n",
       "            <td>N:E-286</td>\n",
       "            <td>&lt;--</td>\n",
       "            <td>3292</td>\n",
       "            <td>4153</td>\n",
       "            <td>861</td>\n",
       "            <td>CDS</td>\n",
       "            <td>yes</td>\n",
       "        </tr>\n",
       "        <tr>\n",
       "            <td>39</td>\n",
       "            <td>nd</td>\n",
       "            <td>&lt;--</td>\n",
       "            <td>4084</td>\n",
       "            <td>4153</td>\n",
       "            <td>69</td>\n",
       "            <td>sig_peptide</td>\n",
       "            <td>no</td>\n",
       "        </tr>\n",
       "        <tr>\n",
       "            <td>40</td>\n",
       "            <td>nd</td>\n",
       "            <td>&lt;--</td>\n",
       "            <td>3295</td>\n",
       "            <td>4084</td>\n",
       "            <td>789</td>\n",
       "            <td>mat_peptide</td>\n",
       "            <td>no</td>\n",
       "        </tr>\n",
       "        <tr>\n",
       "            <td>41</td>\n",
       "            <td>N:Shine-Dalgarno</td>\n",
       "            <td>&lt;--</td>\n",
       "            <td>4160</td>\n",
       "            <td>4165</td>\n",
       "            <td>5</td>\n",
       "            <td>regulatory</td>\n",
       "            <td>no</td>\n",
       "        </tr>\n",
       "        <tr>\n",
       "            <td>42</td>\n",
       "            <td>N:promoter P3 (6</td>\n",
       "            <td>&lt;--</td>\n",
       "            <td>4187</td>\n",
       "            <td>4194</td>\n",
       "            <td>7</td>\n",
       "            <td>regulatory</td>\n",
       "            <td>no</td>\n",
       "        </tr>\n",
       "        <tr>\n",
       "            <td>43</td>\n",
       "            <td>nd</td>\n",
       "            <td>&lt;--</td>\n",
       "            <td>4267</td>\n",
       "            <td>4271</td>\n",
       "            <td>4</td>\n",
       "            <td>misc_binding</td>\n",
       "            <td>no</td>\n",
       "        </tr>\n",
       "        <tr>\n",
       "            <td>44</td>\n",
       "            <td>nd</td>\n",
       "            <td>&lt;--</td>\n",
       "            <td>4279</td>\n",
       "            <td>4283</td>\n",
       "            <td>4</td>\n",
       "            <td>misc_binding</td>\n",
       "            <td>no</td>\n",
       "        </tr>\n",
       "        <tr>\n",
       "            <td>45</td>\n",
       "            <td>nd</td>\n",
       "            <td>&lt;--</td>\n",
       "            <td>4284</td>\n",
       "            <td>4288</td>\n",
       "            <td>4</td>\n",
       "            <td>misc_binding</td>\n",
       "            <td>no</td>\n",
       "        </tr>\n",
       "        <tr>\n",
       "            <td>46</td>\n",
       "            <td>nd</td>\n",
       "            <td>&lt;--</td>\n",
       "            <td>4295</td>\n",
       "            <td>4299</td>\n",
       "            <td>4</td>\n",
       "            <td>misc_binding</td>\n",
       "            <td>no</td>\n",
       "        </tr>\n",
       "        <tr>\n",
       "            <td>47</td>\n",
       "            <td>nd</td>\n",
       "            <td>&lt;--</td>\n",
       "            <td>4310</td>\n",
       "            <td>4314</td>\n",
       "            <td>4</td>\n",
       "            <td>misc_binding</td>\n",
       "            <td>no</td>\n",
       "        </tr>\n",
       "        <tr>\n",
       "            <td>48</td>\n",
       "            <td>nd</td>\n",
       "            <td>&lt;--</td>\n",
       "            <td>4316</td>\n",
       "            <td>4320</td>\n",
       "            <td>4</td>\n",
       "            <td>misc_binding</td>\n",
       "            <td>no</td>\n",
       "        </tr>\n",
       "        <tr>\n",
       "            <td>49</td>\n",
       "            <td>nd</td>\n",
       "            <td>&lt;--</td>\n",
       "            <td>4330</td>\n",
       "            <td>4334</td>\n",
       "            <td>4</td>\n",
       "            <td>misc_binding</td>\n",
       "            <td>no</td>\n",
       "        </tr>\n",
       "    </tbody>\n",
       "</table>"
      ],
      "text/markdown": [
       "| Ft# | Label or Note    | Dir | Sta  | End  |  Len | type            | orf? |\n",
       "|----:|:-----------------|:---:|:-----|:-----|-----:|:----------------|:----:|\n",
       "|   0 | nd               | --> | 0    | 4361 | 4361 | source          |  no  |\n",
       "|   1 | nd               | --> | 0    | 1762 | 1762 | source          |  no  |\n",
       "|   2 | nd               | --> | 23   | 27   |    4 | misc_binding    |  no  |\n",
       "|   3 | N:promoter P1 (6 | <-- | 26   | 33   |    7 | regulatory      |  no  |\n",
       "|   4 | nd               | --> | 38   | 42   |    4 | misc_binding    |  no  |\n",
       "|   5 | N:promoter P2 (6 | --> | 42   | 49   |    7 | regulatory      |  no  |\n",
       "|   6 | nd               | --> | 52   | 56   |    4 | misc_binding    |  no  |\n",
       "|   7 | nd               | --> | 66   | 70   |    4 | misc_binding    |  no  |\n",
       "|   8 | nd               | --> | 79   | 83   |    4 | misc_binding    |  no  |\n",
       "|   9 | nd               | --> | 85   | 1276 | 1191 | gene            | yes  |\n",
       "|  10 | nd               | --> | 85   | 1276 | 1191 | CDS             | yes  |\n",
       "|  11 | N:Endo.Sce I cle | <-- | 140  | 142  |    2 | misc_feature    |  no  |\n",
       "|  12 | N:Endo.Sce I cle | --> | 145  | 147  |    2 | misc_feature    |  no  |\n",
       "|  13 | nd               | --> | 410  | 414  |    4 | misc_binding    |  no  |\n",
       "|  14 | N:conflict       | --> | 425  | 426  |    1 | misc_difference |  no  |\n",
       "|  15 | nd               | --> | 468  | 472  |    4 | misc_binding    |  no  |\n",
       "|  16 | nd               | --> | 525  | 528  |    3 | old_sequence    |  no  |\n",
       "|  17 | N:gamma-delta in | <-- | 1514 | 1519 |    5 | repeat_region   |  no  |\n",
       "|  18 | N:from pSC101 (b | --> | 1635 | 1762 |  127 | misc_feature    |  no  |\n",
       "|  19 | N:gamma-delta in | <-- | 1787 | 1792 |    5 | repeat_region   |  no  |\n",
       "|  20 | N:conflict       | --> | 1890 | 1892 |    2 | misc_difference |  no  |\n",
       "|  21 | nd               | --> | 1891 | 1893 |    2 | old_sequence    |  no  |\n",
       "|  22 | nd               | --> | 1904 | 1910 |    6 | regulatory      |  no  |\n",
       "|  23 | N:Shine-Dalgarno | --> | 1904 | 1909 |    5 | regulatory      |  no  |\n",
       "|  24 | N:conflict       | --> | 1912 | 1914 |    2 | misc_difference |  no  |\n",
       "|  25 | nd               | --> | 1913 | 1915 |    2 | old_sequence    |  no  |\n",
       "|  26 | nd               | --> | 1914 | 2106 |  192 | CDS             |  no  |\n",
       "|  27 | N:H-strand Y eff | --> | 2010 | 2167 |  157 | misc_feature    |  no  |\n",
       "|  28 | N:gamma-delta in | <-- | 2244 | 2249 |    5 | repeat_region   |  no  |\n",
       "|  29 | N:L-strand Y eff | <-- | 2350 | 2414 |   64 | misc_feature    |  no  |\n",
       "|  30 | nd               | --> | 2438 | 2447 |    9 | misc_binding    |  no  |\n",
       "|  31 | nd               | --> | 2534 | 2535 |    1 | rep_origin      |  no  |\n",
       "|  32 | N:revision accor | --> | 2728 | 2730 |    2 | old_sequence    |  no  |\n",
       "|  33 | nd               | --> | 2728 | 2729 |    1 | old_sequence    |  no  |\n",
       "|  34 | N:revision accor | --> | 2729 | 2730 |    1 | old_sequence    |  no  |\n",
       "|  35 | nd               | --> | 3147 | 4361 | 1214 | mobile_element  |  no  |\n",
       "|  36 | N:corresponds to | --> | 3147 | 3185 |   38 | repeat_region   |  no  |\n",
       "|  37 | nd               | <-- | 3292 | 4153 |  861 | gene            | yes  |\n",
       "|  38 | N:E-286          | <-- | 3292 | 4153 |  861 | CDS             | yes  |\n",
       "|  39 | nd               | <-- | 4084 | 4153 |   69 | sig_peptide     |  no  |\n",
       "|  40 | nd               | <-- | 3295 | 4084 |  789 | mat_peptide     |  no  |\n",
       "|  41 | N:Shine-Dalgarno | <-- | 4160 | 4165 |    5 | regulatory      |  no  |\n",
       "|  42 | N:promoter P3 (6 | <-- | 4187 | 4194 |    7 | regulatory      |  no  |\n",
       "|  43 | nd               | <-- | 4267 | 4271 |    4 | misc_binding    |  no  |\n",
       "|  44 | nd               | <-- | 4279 | 4283 |    4 | misc_binding    |  no  |\n",
       "|  45 | nd               | <-- | 4284 | 4288 |    4 | misc_binding    |  no  |\n",
       "|  46 | nd               | <-- | 4295 | 4299 |    4 | misc_binding    |  no  |\n",
       "|  47 | nd               | <-- | 4310 | 4314 |    4 | misc_binding    |  no  |\n",
       "|  48 | nd               | <-- | 4316 | 4320 |    4 | misc_binding    |  no  |\n",
       "|  49 | nd               | <-- | 4330 | 4334 |    4 | misc_binding    |  no  |"
      ],
      "text/plain": [
       "+-----+------------------+-----+------+------+------+-----------------+------+\n",
       "| Ft# | Label or Note    | Dir | Sta  | End  |  Len | type            | orf? |\n",
       "+-----+------------------+-----+------+------+------+-----------------+------+\n",
       "|   0 | nd               | --> | 0    | 4361 | 4361 | source          |  no  |\n",
       "|   1 | nd               | --> | 0    | 1762 | 1762 | source          |  no  |\n",
       "|   2 | nd               | --> | 23   | 27   |    4 | misc_binding    |  no  |\n",
       "|   3 | N:promoter P1 (6 | <-- | 26   | 33   |    7 | regulatory      |  no  |\n",
       "|   4 | nd               | --> | 38   | 42   |    4 | misc_binding    |  no  |\n",
       "|   5 | N:promoter P2 (6 | --> | 42   | 49   |    7 | regulatory      |  no  |\n",
       "|   6 | nd               | --> | 52   | 56   |    4 | misc_binding    |  no  |\n",
       "|   7 | nd               | --> | 66   | 70   |    4 | misc_binding    |  no  |\n",
       "|   8 | nd               | --> | 79   | 83   |    4 | misc_binding    |  no  |\n",
       "|   9 | nd               | --> | 85   | 1276 | 1191 | gene            | yes  |\n",
       "|  10 | nd               | --> | 85   | 1276 | 1191 | CDS             | yes  |\n",
       "|  11 | N:Endo.Sce I cle | <-- | 140  | 142  |    2 | misc_feature    |  no  |\n",
       "|  12 | N:Endo.Sce I cle | --> | 145  | 147  |    2 | misc_feature    |  no  |\n",
       "|  13 | nd               | --> | 410  | 414  |    4 | misc_binding    |  no  |\n",
       "|  14 | N:conflict       | --> | 425  | 426  |    1 | misc_difference |  no  |\n",
       "|  15 | nd               | --> | 468  | 472  |    4 | misc_binding    |  no  |\n",
       "|  16 | nd               | --> | 525  | 528  |    3 | old_sequence    |  no  |\n",
       "|  17 | N:gamma-delta in | <-- | 1514 | 1519 |    5 | repeat_region   |  no  |\n",
       "|  18 | N:from pSC101 (b | --> | 1635 | 1762 |  127 | misc_feature    |  no  |\n",
       "|  19 | N:gamma-delta in | <-- | 1787 | 1792 |    5 | repeat_region   |  no  |\n",
       "|  20 | N:conflict       | --> | 1890 | 1892 |    2 | misc_difference |  no  |\n",
       "|  21 | nd               | --> | 1891 | 1893 |    2 | old_sequence    |  no  |\n",
       "|  22 | nd               | --> | 1904 | 1910 |    6 | regulatory      |  no  |\n",
       "|  23 | N:Shine-Dalgarno | --> | 1904 | 1909 |    5 | regulatory      |  no  |\n",
       "|  24 | N:conflict       | --> | 1912 | 1914 |    2 | misc_difference |  no  |\n",
       "|  25 | nd               | --> | 1913 | 1915 |    2 | old_sequence    |  no  |\n",
       "|  26 | nd               | --> | 1914 | 2106 |  192 | CDS             |  no  |\n",
       "|  27 | N:H-strand Y eff | --> | 2010 | 2167 |  157 | misc_feature    |  no  |\n",
       "|  28 | N:gamma-delta in | <-- | 2244 | 2249 |    5 | repeat_region   |  no  |\n",
       "|  29 | N:L-strand Y eff | <-- | 2350 | 2414 |   64 | misc_feature    |  no  |\n",
       "|  30 | nd               | --> | 2438 | 2447 |    9 | misc_binding    |  no  |\n",
       "|  31 | nd               | --> | 2534 | 2535 |    1 | rep_origin      |  no  |\n",
       "|  32 | N:revision accor | --> | 2728 | 2730 |    2 | old_sequence    |  no  |\n",
       "|  33 | nd               | --> | 2728 | 2729 |    1 | old_sequence    |  no  |\n",
       "|  34 | N:revision accor | --> | 2729 | 2730 |    1 | old_sequence    |  no  |\n",
       "|  35 | nd               | --> | 3147 | 4361 | 1214 | mobile_element  |  no  |\n",
       "|  36 | N:corresponds to | --> | 3147 | 3185 |   38 | repeat_region   |  no  |\n",
       "|  37 | nd               | <-- | 3292 | 4153 |  861 | gene            | yes  |\n",
       "|  38 | N:E-286          | <-- | 3292 | 4153 |  861 | CDS             | yes  |\n",
       "|  39 | nd               | <-- | 4084 | 4153 |   69 | sig_peptide     |  no  |\n",
       "|  40 | nd               | <-- | 3295 | 4084 |  789 | mat_peptide     |  no  |\n",
       "|  41 | N:Shine-Dalgarno | <-- | 4160 | 4165 |    5 | regulatory      |  no  |\n",
       "|  42 | N:promoter P3 (6 | <-- | 4187 | 4194 |    7 | regulatory      |  no  |\n",
       "|  43 | nd               | <-- | 4267 | 4271 |    4 | misc_binding    |  no  |\n",
       "|  44 | nd               | <-- | 4279 | 4283 |    4 | misc_binding    |  no  |\n",
       "|  45 | nd               | <-- | 4284 | 4288 |    4 | misc_binding    |  no  |\n",
       "|  46 | nd               | <-- | 4295 | 4299 |    4 | misc_binding    |  no  |\n",
       "|  47 | nd               | <-- | 4310 | 4314 |    4 | misc_binding    |  no  |\n",
       "|  48 | nd               | <-- | 4316 | 4320 |    4 | misc_binding    |  no  |\n",
       "|  49 | nd               | <-- | 4330 | 4334 |    4 | misc_binding    |  no  |\n",
       "+-----+------------------+-----+------+------+------+-----------------+------+"
      ]
     },
     "execution_count": 5,
     "metadata": {},
     "output_type": "execute_result"
    }
   ],
   "source": [
    "pBR322.list_features()"
   ]
  },
  {
   "cell_type": "markdown",
   "metadata": {},
   "source": [
    "The ampR coding sequence CDS is in feature 37 and 38 positioned at 3292..4153 on the crick strand (above).\n",
    "\n",
    "Immediately upstream, there is a Shine-Dalgarno sequence (feature 41) and a \"promoter p3\" (feature 42 positioned 4187..4194)\n",
    "\n",
    "The comment section of the pBR322 file (J01749.1) file contains the following:\n",
    "\n",
    "    Promoters P1 and P3 are for the beta-lactamase gene. P3 is the \n",
    "    natural promoter, and P1 is artificially created by the ligation \n",
    "    of two different DNA fragments to create pBR322. \n",
    "    \n",
    "    P2 is in the same region as P1, but it is on the opposite strand and\n",
    "    initiates transcription in the direction of the tetracycline\n",
    "    resistance gene.\n",
    "    \n",
    "It seems like a combination of promoter P3 and the ampR coding sequence should be sufficient to have expression.\n",
    "\n",
    "The p3 promoter starts at 4194 and the coding sequence ends at 3292 in the pBR322 sequence.\n",
    "\n",
    "This does *not* inlude a terminator."
   ]
  },
  {
   "cell_type": "code",
   "execution_count": 6,
   "metadata": {},
   "outputs": [],
   "source": [
    "P3_amp_pBR322 = pBR322[3292:4194].rc()"
   ]
  },
  {
   "cell_type": "code",
   "execution_count": 7,
   "metadata": {},
   "outputs": [],
   "source": [
    "assert P3_amp_pBR322.useguid() == 'b6Nh5K2cAXPnaYJr8_cXC48_udg'"
   ]
  },
  {
   "cell_type": "code",
   "execution_count": 8,
   "metadata": {},
   "outputs": [
    {
     "data": {
      "text/plain": [
       "902"
      ]
     },
     "execution_count": 8,
     "metadata": {},
     "output_type": "execute_result"
    }
   ],
   "source": [
    "len(P3_amp_pBR322)"
   ]
  },
  {
   "cell_type": "code",
   "execution_count": 9,
   "metadata": {},
   "outputs": [
    {
     "name": "stdout",
     "output_type": "stream",
     "text": [
      "AACCCTGATAAATGCTTCAATAATATTGAAAAAGGAAGAGTATGAGTATTCAACATTTCCGTGTCGCCCTTATTCCCTTTTTTGCGGCATTTTGCCTTCCTGTTTTTGCTCACCCAGAAACGCTGGTGAAAGTAAAAGATGCTGAAGATCAGTTGGGTGCACGAGTGGGTTACATCGAACTGGATCTCAACAGCGGTAAGATCCTTGAGAGTTTTCGCCCCGAAGAACGTTTTCCAATGATGAGCACTTTTAAAGTTCTGCTATGTGGCGCGGTATTATCCCGTGTTGACGCCGGGCAAGAGCAACTCGGTCGCCGCATACACTATTCTCAGAATGACTTGGTTGAGTACTCACCAGTCACAGAAAAGCATCTTACGGATGGCATGACAGTAAGAGAATTATGCAGTGCTGCCATAACCATGAGTGATAACACTGCGGCCAACTTACTTCTGACAACGATCGGAGGACCGAAGGAGCTAACCGCTTTTTTGCACAACATGGGGGATCATGTAACTCGCCTTGATCGTTGGGAACCGGAGCTGAATGAAGCCATACCAAACGACGAGCGTGACACCACGATGCCTGCAGCAATGGCAACAACGTTGCGCAAACTATTAACTGGCGAACTACTTACTCTAGCTTCCCGGCAACAATTAATAGACTGGATGGAGGCGGATAAAGTTGCAGGACCACTTCTGCGCTCGGCCCTTCCGGCTGGCTGGTTTATTGCTGATAAATCTGGAGCCGGTGAGCGTGGGTCTCGCGGTATCATTGCAGCACTGGGGCCAGATGGTAAGCCCTCCCGTATCGTAGTTATCTACACGACGGGGAGTCAGGCAACTATGGATGAACGAAATAGACAGATCGCTGAGATAGGTGCCTCACTGATTAAGCATTGGTAA\n"
     ]
    }
   ],
   "source": [
    "print(P3_amp_pBR322.seq)"
   ]
  },
  {
   "cell_type": "markdown",
   "metadata": {},
   "source": [
    "The ampicillin marker gene ampR comes originally from the [TN3 transposon](https://en.wikipedia.org/wiki/Tn3_transposon).\n",
    "The TN3 sequence is available from Genbank [V00613.1](http://www.ncbi.nlm.nih.gov/nuccore/43710)."
   ]
  },
  {
   "cell_type": "code",
   "execution_count": 10,
   "metadata": {},
   "outputs": [],
   "source": [
    "# TN3 = genbank(\"V00613.1\")\n",
    "# TN3.write(\"TN3.gb\")\n",
    "\n",
    "TN3 = read(\"TN3.gb\")"
   ]
  },
  {
   "cell_type": "code",
   "execution_count": 11,
   "metadata": {},
   "outputs": [
    {
     "data": {
      "text/html": [
       "<table>\n",
       "    <thead>\n",
       "        <tr>\n",
       "            <th>Ft#</th>\n",
       "            <th>Label or Note</th>\n",
       "            <th>Dir</th>\n",
       "            <th>Sta</th>\n",
       "            <th>End</th>\n",
       "            <th>Len</th>\n",
       "            <th>type</th>\n",
       "            <th>orf?</th>\n",
       "        </tr>\n",
       "    </thead>\n",
       "    <tbody>\n",
       "        <tr>\n",
       "            <td>0</td>\n",
       "            <td>nd</td>\n",
       "            <td>--&gt;</td>\n",
       "            <td>0</td>\n",
       "            <td>4957</td>\n",
       "            <td>4957</td>\n",
       "            <td>source</td>\n",
       "            <td>no</td>\n",
       "        </tr>\n",
       "        <tr>\n",
       "            <td>1</td>\n",
       "            <td>N:inverted repea</td>\n",
       "            <td>--&gt;</td>\n",
       "            <td>0</td>\n",
       "            <td>38</td>\n",
       "            <td>38</td>\n",
       "            <td>misc_feature</td>\n",
       "            <td>no</td>\n",
       "        </tr>\n",
       "        <tr>\n",
       "            <td>2</td>\n",
       "            <td>nd</td>\n",
       "            <td>&lt;--</td>\n",
       "            <td>33</td>\n",
       "            <td>3081</td>\n",
       "            <td>3048</td>\n",
       "            <td>CDS</td>\n",
       "            <td>no</td>\n",
       "        </tr>\n",
       "        <tr>\n",
       "            <td>3</td>\n",
       "            <td>nd</td>\n",
       "            <td>--&gt;</td>\n",
       "            <td>3209</td>\n",
       "            <td>3767</td>\n",
       "            <td>558</td>\n",
       "            <td>CDS</td>\n",
       "            <td>yes</td>\n",
       "        </tr>\n",
       "        <tr>\n",
       "            <td>4</td>\n",
       "            <td>nd</td>\n",
       "            <td>--&gt;</td>\n",
       "            <td>3949</td>\n",
       "            <td>4810</td>\n",
       "            <td>861</td>\n",
       "            <td>CDS</td>\n",
       "            <td>yes</td>\n",
       "        </tr>\n",
       "        <tr>\n",
       "            <td>5</td>\n",
       "            <td>N:inverted repea</td>\n",
       "            <td>--&gt;</td>\n",
       "            <td>4919</td>\n",
       "            <td>4957</td>\n",
       "            <td>38</td>\n",
       "            <td>misc_feature</td>\n",
       "            <td>no</td>\n",
       "        </tr>\n",
       "    </tbody>\n",
       "</table>"
      ],
      "text/markdown": [
       "| Ft# | Label or Note    | Dir | Sta  | End  |  Len | type         | orf? |\n",
       "|----:|:-----------------|:---:|:-----|:-----|-----:|:-------------|:----:|\n",
       "|   0 | nd               | --> | 0    | 4957 | 4957 | source       |  no  |\n",
       "|   1 | N:inverted repea | --> | 0    | 38   |   38 | misc_feature |  no  |\n",
       "|   2 | nd               | <-- | 33   | 3081 | 3048 | CDS          |  no  |\n",
       "|   3 | nd               | --> | 3209 | 3767 |  558 | CDS          | yes  |\n",
       "|   4 | nd               | --> | 3949 | 4810 |  861 | CDS          | yes  |\n",
       "|   5 | N:inverted repea | --> | 4919 | 4957 |   38 | misc_feature |  no  |"
      ],
      "text/plain": [
       "+-----+------------------+-----+------+------+------+--------------+------+\n",
       "| Ft# | Label or Note    | Dir | Sta  | End  |  Len | type         | orf? |\n",
       "+-----+------------------+-----+------+------+------+--------------+------+\n",
       "|   0 | nd               | --> | 0    | 4957 | 4957 | source       |  no  |\n",
       "|   1 | N:inverted repea | --> | 0    | 38   |   38 | misc_feature |  no  |\n",
       "|   2 | nd               | <-- | 33   | 3081 | 3048 | CDS          |  no  |\n",
       "|   3 | nd               | --> | 3209 | 3767 |  558 | CDS          | yes  |\n",
       "|   4 | nd               | --> | 3949 | 4810 |  861 | CDS          | yes  |\n",
       "|   5 | N:inverted repea | --> | 4919 | 4957 |   38 | misc_feature |  no  |\n",
       "+-----+------------------+-----+------+------+------+--------------+------+"
      ]
     },
     "execution_count": 11,
     "metadata": {},
     "output_type": "execute_result"
    }
   ],
   "source": [
    "TN3.list_features()"
   ]
  },
  {
   "cell_type": "markdown",
   "metadata": {
    "tags": []
   },
   "source": [
    "The feature # 4 in the table above is the ampR open reading frame of 861 bp. Unfortunately, there is no information regarding the promoter in this file.\n",
    "\n",
    "[Mandecki 1990](http://www.ncbi.nlm.nih.gov/pubmed/2227445) describe a series of compact plasmids pWM521, pWM528 and pWM529. The pWM521 is only 1993 bp long, compared to 2686 bp for the pUC19.  \n",
    "\n",
    "Mandecki et al. refer to [Brosius 1982](Brosius1982.pdf) for the precise location of the P3 promoter that is the important one transcribing the ampR gene. \n",
    "\n",
    "Figure 5 (below) from Brosius 1982 show a -35 and a -10 region for the P3 promoter. The -35 region was marked by a blue line.\n",
    "\n",
    "![fig5](Brosius1982_fig5.png)\n",
    "\n",
    "Comparing the information from Brosius 1982 with the pBR322 sequence file, it is obvious that the P3 feature in pBR322 is only a partial -10 region and that the -35 region is not marked as a feature in the pBR322 sequence.\n",
    "\n",
    "The -35 and -10 regions were added as features `P3-35_Brosius_1982` and `P3-10_Brosius_1982` in the [pBR322_Brosius_1982.gb](pBR322_Brosius_1982.gb) file.\n",
    "\n",
    "\n",
    "The pWM521 plasmid is available from genbank [M34519.1](https://www.ncbi.nlm.nih.gov/nuccore/M34519.1). Another very short plasmid containing the ampR gene is pUCmu (1669 bp) [pUCmu.gb](https://www.ncbi.nlm.nih.gov/nuccore/LT827034.1)."
   ]
  },
  {
   "cell_type": "code",
   "execution_count": 12,
   "metadata": {},
   "outputs": [],
   "source": [
    "# pWM521 = genbank(\"M34519.1\")\n",
    "# pWM521 = pWM521.looped()\n",
    "# pWM521.write(\"pWM521.gb\")\n",
    "pWM521 = read(\"pWM521.gb\")"
   ]
  },
  {
   "cell_type": "code",
   "execution_count": 13,
   "metadata": {},
   "outputs": [
    {
     "data": {
      "text/html": [
       "<table>\n",
       "    <thead>\n",
       "        <tr>\n",
       "            <th>Ft#</th>\n",
       "            <th>Label or Note</th>\n",
       "            <th>Dir</th>\n",
       "            <th>Sta</th>\n",
       "            <th>End</th>\n",
       "            <th>Len</th>\n",
       "            <th>type</th>\n",
       "            <th>orf?</th>\n",
       "        </tr>\n",
       "    </thead>\n",
       "    <tbody>\n",
       "        <tr>\n",
       "            <td>0</td>\n",
       "            <td>nd</td>\n",
       "            <td>--&gt;</td>\n",
       "            <td>0</td>\n",
       "            <td>1993</td>\n",
       "            <td>1993</td>\n",
       "            <td>source</td>\n",
       "            <td>no</td>\n",
       "        </tr>\n",
       "        <tr>\n",
       "            <td>1</td>\n",
       "            <td>N:lacZ fragment </td>\n",
       "            <td>--&gt;</td>\n",
       "            <td>80</td>\n",
       "            <td>327</td>\n",
       "            <td>247</td>\n",
       "            <td>misc_feature</td>\n",
       "            <td>no</td>\n",
       "        </tr>\n",
       "        <tr>\n",
       "            <td>2</td>\n",
       "            <td>N:b-galactosidas</td>\n",
       "            <td>--&gt;</td>\n",
       "            <td>118</td>\n",
       "            <td>301</td>\n",
       "            <td>183</td>\n",
       "            <td>CDS</td>\n",
       "            <td>yes</td>\n",
       "        </tr>\n",
       "        <tr>\n",
       "            <td>3</td>\n",
       "            <td>N:SmaI site for </td>\n",
       "            <td>--&gt;</td>\n",
       "            <td>135</td>\n",
       "            <td>137</td>\n",
       "            <td>2</td>\n",
       "            <td>misc_feature</td>\n",
       "            <td>no</td>\n",
       "        </tr>\n",
       "        <tr>\n",
       "            <td>4</td>\n",
       "            <td>N:trpA terminato</td>\n",
       "            <td>--&gt;</td>\n",
       "            <td>300</td>\n",
       "            <td>336</td>\n",
       "            <td>36</td>\n",
       "            <td>regulatory</td>\n",
       "            <td>no</td>\n",
       "        </tr>\n",
       "        <tr>\n",
       "            <td>5</td>\n",
       "            <td>N:bla promoter P</td>\n",
       "            <td>--&gt;</td>\n",
       "            <td>336</td>\n",
       "            <td>402</td>\n",
       "            <td>66</td>\n",
       "            <td>regulatory</td>\n",
       "            <td>no</td>\n",
       "        </tr>\n",
       "        <tr>\n",
       "            <td>6</td>\n",
       "            <td>nd</td>\n",
       "            <td>--&gt;</td>\n",
       "            <td>402</td>\n",
       "            <td>1329</td>\n",
       "            <td>927</td>\n",
       "            <td>mRNA</td>\n",
       "            <td>no</td>\n",
       "        </tr>\n",
       "        <tr>\n",
       "            <td>7</td>\n",
       "            <td>N:b-lactamase</td>\n",
       "            <td>--&gt;</td>\n",
       "            <td>437</td>\n",
       "            <td>1298</td>\n",
       "            <td>861</td>\n",
       "            <td>CDS</td>\n",
       "            <td>yes</td>\n",
       "        </tr>\n",
       "        <tr>\n",
       "            <td>8</td>\n",
       "            <td>N:phage fd termi</td>\n",
       "            <td>--&gt;</td>\n",
       "            <td>1298</td>\n",
       "            <td>1342</td>\n",
       "            <td>44</td>\n",
       "            <td>regulatory</td>\n",
       "            <td>no</td>\n",
       "        </tr>\n",
       "        <tr>\n",
       "            <td>9</td>\n",
       "            <td>N:RNAII promoter</td>\n",
       "            <td>--&gt;</td>\n",
       "            <td>1342</td>\n",
       "            <td>1408</td>\n",
       "            <td>66</td>\n",
       "            <td>regulatory</td>\n",
       "            <td>no</td>\n",
       "        </tr>\n",
       "        <tr>\n",
       "            <td>10</td>\n",
       "            <td>nd</td>\n",
       "            <td>--&gt;</td>\n",
       "            <td>1408</td>\n",
       "            <td>1962</td>\n",
       "            <td>554</td>\n",
       "            <td>mRNA</td>\n",
       "            <td>no</td>\n",
       "        </tr>\n",
       "        <tr>\n",
       "            <td>11</td>\n",
       "            <td>N:RNAI terminato</td>\n",
       "            <td>--&gt;</td>\n",
       "            <td>1414</td>\n",
       "            <td>1440</td>\n",
       "            <td>26</td>\n",
       "            <td>regulatory</td>\n",
       "            <td>no</td>\n",
       "        </tr>\n",
       "        <tr>\n",
       "            <td>12</td>\n",
       "            <td>nd</td>\n",
       "            <td>--&gt;</td>\n",
       "            <td>1421</td>\n",
       "            <td>1517</td>\n",
       "            <td>96</td>\n",
       "            <td>mRNA</td>\n",
       "            <td>no</td>\n",
       "        </tr>\n",
       "        <tr>\n",
       "            <td>13</td>\n",
       "            <td>N:RNAI promoter</td>\n",
       "            <td>--&gt;</td>\n",
       "            <td>1517</td>\n",
       "            <td>1555</td>\n",
       "            <td>38</td>\n",
       "            <td>regulatory</td>\n",
       "            <td>no</td>\n",
       "        </tr>\n",
       "        <tr>\n",
       "            <td>14</td>\n",
       "            <td>N:RNaseH cleavag</td>\n",
       "            <td>--&gt;</td>\n",
       "            <td>1960</td>\n",
       "            <td>1962</td>\n",
       "            <td>2</td>\n",
       "            <td>misc_feature</td>\n",
       "            <td>no</td>\n",
       "        </tr>\n",
       "    </tbody>\n",
       "</table>"
      ],
      "text/markdown": [
       "| Ft# | Label or Note    | Dir | Sta  | End  |  Len | type         | orf? |\n",
       "|----:|:-----------------|:---:|:-----|:-----|-----:|:-------------|:----:|\n",
       "|   0 | nd               | --> | 0    | 1993 | 1993 | source       |  no  |\n",
       "|   1 | N:lacZ fragment  | --> | 80   | 327  |  247 | misc_feature |  no  |\n",
       "|   2 | N:b-galactosidas | --> | 118  | 301  |  183 | CDS          | yes  |\n",
       "|   3 | N:SmaI site for  | --> | 135  | 137  |    2 | misc_feature |  no  |\n",
       "|   4 | N:trpA terminato | --> | 300  | 336  |   36 | regulatory   |  no  |\n",
       "|   5 | N:bla promoter P | --> | 336  | 402  |   66 | regulatory   |  no  |\n",
       "|   6 | nd               | --> | 402  | 1329 |  927 | mRNA         |  no  |\n",
       "|   7 | N:b-lactamase    | --> | 437  | 1298 |  861 | CDS          | yes  |\n",
       "|   8 | N:phage fd termi | --> | 1298 | 1342 |   44 | regulatory   |  no  |\n",
       "|   9 | N:RNAII promoter | --> | 1342 | 1408 |   66 | regulatory   |  no  |\n",
       "|  10 | nd               | --> | 1408 | 1962 |  554 | mRNA         |  no  |\n",
       "|  11 | N:RNAI terminato | --> | 1414 | 1440 |   26 | regulatory   |  no  |\n",
       "|  12 | nd               | --> | 1421 | 1517 |   96 | mRNA         |  no  |\n",
       "|  13 | N:RNAI promoter  | --> | 1517 | 1555 |   38 | regulatory   |  no  |\n",
       "|  14 | N:RNaseH cleavag | --> | 1960 | 1962 |    2 | misc_feature |  no  |"
      ],
      "text/plain": [
       "+-----+------------------+-----+------+------+------+--------------+------+\n",
       "| Ft# | Label or Note    | Dir | Sta  | End  |  Len | type         | orf? |\n",
       "+-----+------------------+-----+------+------+------+--------------+------+\n",
       "|   0 | nd               | --> | 0    | 1993 | 1993 | source       |  no  |\n",
       "|   1 | N:lacZ fragment  | --> | 80   | 327  |  247 | misc_feature |  no  |\n",
       "|   2 | N:b-galactosidas | --> | 118  | 301  |  183 | CDS          | yes  |\n",
       "|   3 | N:SmaI site for  | --> | 135  | 137  |    2 | misc_feature |  no  |\n",
       "|   4 | N:trpA terminato | --> | 300  | 336  |   36 | regulatory   |  no  |\n",
       "|   5 | N:bla promoter P | --> | 336  | 402  |   66 | regulatory   |  no  |\n",
       "|   6 | nd               | --> | 402  | 1329 |  927 | mRNA         |  no  |\n",
       "|   7 | N:b-lactamase    | --> | 437  | 1298 |  861 | CDS          | yes  |\n",
       "|   8 | N:phage fd termi | --> | 1298 | 1342 |   44 | regulatory   |  no  |\n",
       "|   9 | N:RNAII promoter | --> | 1342 | 1408 |   66 | regulatory   |  no  |\n",
       "|  10 | nd               | --> | 1408 | 1962 |  554 | mRNA         |  no  |\n",
       "|  11 | N:RNAI terminato | --> | 1414 | 1440 |   26 | regulatory   |  no  |\n",
       "|  12 | nd               | --> | 1421 | 1517 |   96 | mRNA         |  no  |\n",
       "|  13 | N:RNAI promoter  | --> | 1517 | 1555 |   38 | regulatory   |  no  |\n",
       "|  14 | N:RNaseH cleavag | --> | 1960 | 1962 |    2 | misc_feature |  no  |\n",
       "+-----+------------------+-----+------+------+------+--------------+------+"
      ]
     },
     "execution_count": 13,
     "metadata": {},
     "output_type": "execute_result"
    }
   ],
   "source": [
    "pWM521.list_features()"
   ]
  },
  {
   "cell_type": "markdown",
   "metadata": {},
   "source": [
    "The feature 5 is the P3 promoter and the feature 7 is the amp cds."
   ]
  },
  {
   "cell_type": "markdown",
   "metadata": {},
   "source": [
    "The feature indicating amp in pMW521 starts 101 bp upstream of the amp reading frame. This is 60 bp upstream of the promoter P3 feature in pBR322."
   ]
  },
  {
   "cell_type": "code",
   "execution_count": 14,
   "metadata": {},
   "outputs": [],
   "source": [
    "# pUCmu = genbank(\"LT827034.1\")\n",
    "# pUCmu = pUCmu.looped()\n",
    "# pUCmu.write(\"pUCmu.gb\")\n",
    "pUCmu = read(\"pUCmu.gb\")"
   ]
  },
  {
   "cell_type": "markdown",
   "metadata": {},
   "source": [
    "pUCmu contains essentially the same 861 bp ORF (Ft#3) as pWM521. The pUCmu sequence file does not contain \n",
    "any suggestion of where the amp promoter (P3) starts.\n",
    "\n",
    "[T-Coffee](http://tcoffee.crg.cat) was used to make a multiple sequence alignment (MSA) of the relevant sequences from:\n",
    "\n",
    "- pBR322\n",
    "- pUCmu\n",
    "- pWM521\n",
    "- TN3\n",
    "\n",
    "The files were saved in the file [tcoffee-all-files-17cb336a.zip](tcoffee-all-files-17cb336a.zip).\n",
    "\n",
    "This alignment revealed that the shortest ampR promoter+gene is in pUCmu and it starts with `TATGTATCCGCTCATG` including about half of the -35 sequence according to Brosius 1982.\n",
    "\n",
    "![MSA4.png](MSA4.png)\n",
    "\n",
    "\n",
    "Removing the `pUCMu` and aligning again with the three remaining sequences yield a longer shared sequence starting with `CCCCTATT`.\n",
    "\n",
    "![MSA3.png](MSA3.png)\n",
    "\n",
    "I decided for safety that I will use the consensus sequence of the aligment with three sequences as building block for the amp functionality.\n",
    "\n",
    "I decided to use the consensus sequence (starting at `CCCCTATT`) and three nucleotides upstream to avoid a primer sequence ending with a run of c's. \n",
    "\n",
    "I added 50 nt in the other end to include a terminator.\n",
    "\n",
    "This sequence was added to pBR322_minimal_ampR.gb as the feature \"selected\"."
   ]
  },
  {
   "cell_type": "code",
   "execution_count": 15,
   "metadata": {},
   "outputs": [],
   "source": [
    "pBR322_minimal_ampR = read(\"pBR322_minimal_ampR.gb\")"
   ]
  },
  {
   "cell_type": "code",
   "execution_count": 16,
   "metadata": {},
   "outputs": [],
   "source": [
    "assert pBR322_minimal_ampR.useguid() == 'ZGXCZFNKnoJ-KRQEeCcic6Oc5aA'"
   ]
  },
  {
   "cell_type": "code",
   "execution_count": 17,
   "metadata": {},
   "outputs": [],
   "source": [
    "amp_candidate = pBR322_minimal_ampR.extract_feature(0)"
   ]
  },
  {
   "cell_type": "code",
   "execution_count": 18,
   "metadata": {},
   "outputs": [
    {
     "data": {
      "text/plain": [
       "1012"
      ]
     },
     "execution_count": 18,
     "metadata": {},
     "output_type": "execute_result"
    }
   ],
   "source": [
    "len(amp_candidate)"
   ]
  },
  {
   "cell_type": "code",
   "execution_count": 19,
   "metadata": {},
   "outputs": [],
   "source": [
    "assert amp_candidate.useguid() == 'GtfCmx5cmO26hI6lgf_CLNErgUo'"
   ]
  },
  {
   "cell_type": "code",
   "execution_count": 20,
   "metadata": {},
   "outputs": [
    {
     "name": "stdout",
     "output_type": "stream",
     "text": [
      "GAACCCCTATTTGTTTATTTTTCTAAATACATTCAAATATGTATCCGCTCATGAGACAATAACCCTGATAAATGCTTCAATAATATTGAAAAAGGAAGAGTATGAGTATTCAACATTTCCGTGTCGCCCTTATTCCCTTTTTTGCGGCATTTTGCCTTCCTGTTTTTGCTCACCCAGAAACGCTGGTGAAAGTAAAAGATGCTGAAGATCAGTTGGGTGCACGAGTGGGTTACATCGAACTGGATCTCAACAGCGGTAAGATCCTTGAGAGTTTTCGCCCCGAAGAACGTTTTCCAATGATGAGCACTTTTAAAGTTCTGCTATGTGGCGCGGTATTATCCCGTGTTGACGCCGGGCAAGAGCAACTCGGTCGCCGCATACACTATTCTCAGAATGACTTGGTTGAGTACTCACCAGTCACAGAAAAGCATCTTACGGATGGCATGACAGTAAGAGAATTATGCAGTGCTGCCATAACCATGAGTGATAACACTGCGGCCAACTTACTTCTGACAACGATCGGAGGACCGAAGGAGCTAACCGCTTTTTTGCACAACATGGGGGATCATGTAACTCGCCTTGATCGTTGGGAACCGGAGCTGAATGAAGCCATACCAAACGACGAGCGTGACACCACGATGCCTGCAGCAATGGCAACAACGTTGCGCAAACTATTAACTGGCGAACTACTTACTCTAGCTTCCCGGCAACAATTAATAGACTGGATGGAGGCGGATAAAGTTGCAGGACCACTTCTGCGCTCGGCCCTTCCGGCTGGCTGGTTTATTGCTGATAAATCTGGAGCCGGTGAGCGTGGGTCTCGCGGTATCATTGCAGCACTGGGGCCAGATGGTAAGCCCTCCCGTATCGTAGTTATCTACACGACGGGGAGTCAGGCAACTATGGATGAACGAAATAGACAGATCGCTGAGATAGGTGCCTCACTGATTAAGCATTGGTAACTGTCAGACCAAGTTTACTCATATATACTTTAGATTGATTTAAAACTTCA\n"
     ]
    }
   ],
   "source": [
    "print(amp_candidate.seq)"
   ]
  },
  {
   "cell_type": "code",
   "execution_count": 21,
   "metadata": {},
   "outputs": [],
   "source": [
    "from pydna.parsers import parse_primers\n",
    "\n",
    "p = {}\n",
    "\n",
    "p[1113], p[987] = parse_primers('''\n",
    "\n",
    ">1113_Amp.fw.nw\n",
    "GAAAAGCGTTTACCTCGGAACTCTATTGTAGAACCCCTATTTGTTTATTTTTCTA\n",
    "\n",
    ">987_Amp.REV  Amp.REV\n",
    "AGAAAGTCTACACCTTACGCTGATTGGATTTGAAGTTTTAAATCAATCTAAA\n",
    "\n",
    "''')"
   ]
  },
  {
   "cell_type": "code",
   "execution_count": 22,
   "metadata": {},
   "outputs": [],
   "source": [
    "pUG35 = read(\"pUG35.gb\")"
   ]
  },
  {
   "cell_type": "code",
   "execution_count": 23,
   "metadata": {},
   "outputs": [],
   "source": [
    "amp = pcr(p[1113],p[987], pUG35)"
   ]
  },
  {
   "cell_type": "code",
   "execution_count": 24,
   "metadata": {},
   "outputs": [],
   "source": [
    "# assert str(amp_candidate.seq) in amp"
   ]
  },
  {
   "cell_type": "code",
   "execution_count": 25,
   "metadata": {},
   "outputs": [
    {
     "data": {
      "text/plain": [
       "                              5TGAAGTTTTAAATCAATCTAAA...TAGAAAAATAAACAAATAGGGGTTC3\n",
       "                                                        |||||||||||||||||||||||||\n",
       "                                                       3ATCTTTTTATTTGTTTATCCCCAAGATGTTATCTCAAGGCTCCATTTGCGAAAAG5\n",
       "5AGAAAGTCTACACCTTACGCTGATTGGATTTGAAGTTTTAAATCAATCTAAA3\n",
       "                               ||||||||||||||||||||||\n",
       "                              3ACTTCAAAATTTAGTTAGATTT...ATCTTTTTATTTGTTTATCCCCAAG5"
      ]
     },
     "execution_count": 25,
     "metadata": {},
     "output_type": "execute_result"
    }
   ],
   "source": [
    "amp.figure()"
   ]
  },
  {
   "cell_type": "code",
   "execution_count": 26,
   "metadata": {},
   "outputs": [
    {
     "name": "stdout",
     "output_type": "stream",
     "text": [
      "AGAAAGTCTACACCTTACGCTGATTGGATTTGAAGTTTTAAATCAATCTAAAGTATATATGAGTAAACTTGGTCTGACAGTTACCAATGCTTAATCAGTGAGGCACCTATCTCAGCGATCTGTCTATTTCGTTCATCCATAGTTGCCTGACTCCCCGTCGTGTAGATAACTACGATACGGGAGGGCTTACCATCTGGCCCCAGTGCTGCAATGATACCGCGAGACCCACGCTCACCGGCTCCAGATTTATCAGCAATAAACCAGCCAGCCGGAAGGGCCGAGCGCAGAAGTGGTCCTGCAACTTTATCCGCCTCCATCCAGTCTATTAATTGTTGCCGGGAAGCTAGAGTAAGTAGTTCGCCAGTTAATAGTTTGCGCAACGTTGTTGCCATTGCTACAGGCATCGTGGTGTCACGCTCGTCGTTTGGTATGGCTTCATTCAGCTCCGGTTCCCAACGATCAAGGCGAGTTACATGATCCCCCATGTTGTGCAAAAAAGCGGTTAGCTCCTTCGGTCCTCCGATCGTTGTCAGAAGTAAGTTGGCCGCAGTGTTATCACTCATGGTTATGGCAGCACTGCATAATTCTCTTACTGTCATGCCATCCGTAAGATGCTTTTCTGTGACTGGTGAGTACTCAACCAAGTCATTCTGAGAATAGTGTATGCGGCGACCGAGTTGCTCTTGCCCGGCGTCAATACGGGATAATACCGCGCCACATAGCAGAACTTTAAAAGTGCTCATCATTGGAAAACGTTCTTCGGGGCGAAAACTCTCAAGGATCTTACCGCTGTTGAGATCCAGTTCGATGTAACCCACTCGTGCACCCAACTGATCTTCAGCATCTTTTACTTTCACCAGCGTTTCTGGGTGAGCAAAAACAGGAAGGCAAAATGCCGCAAAAAAGGGAATAAGGGCGACACGGAAATGTTGAATACTCATACTCTTCCTTTTTCAATATTATTGAAGCATTTATCAGGGTTATTGTCTCATGAGCGGATACATATTTGAATGTATTTAGAAAAATAAACAAATAGGGGTTCTACAATAGAGTTCCGAGGTAAACGCTTTTC\n"
     ]
    }
   ],
   "source": [
    "print(amp.seq)"
   ]
  },
  {
   "cell_type": "code",
   "execution_count": 27,
   "metadata": {},
   "outputs": [],
   "source": [
    "amp.name = \"ampR\""
   ]
  },
  {
   "cell_type": "code",
   "execution_count": 28,
   "metadata": {},
   "outputs": [],
   "source": [
    "parts.append(amp)"
   ]
  },
  {
   "cell_type": "markdown",
   "metadata": {},
   "source": [
    "# pBR \n",
    "\n",
    "Origin of Replication for E. coli\n",
    "\n",
    "Source: pBR322\n",
    "\n",
    "The pBR322 ori instead of the pUC ori should lower the copy number in E.coli.\n",
    "Maybe this will improve plasmid stability of plasmids when maintained in E. coli.\n",
    "\n",
    "The low copy number of the pBR322 compared to the pUC19 is partly due to the rop gene (see figure below).\n",
    "\n",
    "![](pBR322.jpg)\n",
    "\n",
    "According to the figure above a 1915 - 3133 fragment should include both the rep and rop genes. \n",
    "It is not clear if this fragment includes the promoter for the ROP gene.\n",
    "\n",
    "Most fragments used in plasmids are large, It should be sufficient to add the fragment from \n",
    "the end of the amp gene (3292) to ~50 bp before the shine delgarno sequence of the rop gene (1905).\n",
    "\n",
    "\n",
    "References:\n",
    "\n",
    "[Addgene blog post on origins of replication](http://blog.addgene.org/plasmid-101-origin-of-replication) \n",
    "\n",
    "[bitesizebio article on plasmid origins of replications](http://bitesizebio.com/21466/article-series-e-coli-plasmid-origins-of-replication-the-origin)\n",
    "\n",
    "[A page explaining the mechanism of plasmid copy number regulation](http://www.sci.sdsu.edu/~smaloy/MicrobialGenetics/topics/plasmids/plasmid-repln.html)\n",
    "\n",
    "There are several origins of replication available from iGEM:\n",
    "[igem replication_origins](http://parts.igem.org/DNA/Replication_origins)"
   ]
  },
  {
   "cell_type": "code",
   "execution_count": 29,
   "metadata": {},
   "outputs": [],
   "source": [
    "#pBR322 = genbank(\"J01749.1\")\n",
    "#pBR322.write(\"pBR322.gb\")\n",
    "pBR322 = read(\"pBR322.gb\")"
   ]
  },
  {
   "cell_type": "code",
   "execution_count": 30,
   "metadata": {},
   "outputs": [],
   "source": [
    "assert pBR322.cseguid() == '5vBUdkLAnsJe0nwUsivmKmiZNAc'"
   ]
  },
  {
   "cell_type": "code",
   "execution_count": 31,
   "metadata": {},
   "outputs": [
    {
     "data": {
      "text/plain": [
       "Dseqrecord(-1437)"
      ]
     },
     "execution_count": 31,
     "metadata": {},
     "output_type": "execute_result"
    }
   ],
   "source": [
    "pbr_section = pBR322[1905-50:3292].reverse_complement()\n",
    "pbr_section"
   ]
  },
  {
   "cell_type": "markdown",
   "metadata": {},
   "source": [
    "The direction of the fragment saved below is the forward direction given in pBR322, so it is the reverse complement of a fragment of the pBR322 database sequence."
   ]
  },
  {
   "cell_type": "code",
   "execution_count": 32,
   "metadata": {},
   "outputs": [],
   "source": [
    "from pydna.parsers import parse_primers\n",
    "\n",
    "p = {}\n",
    "\n",
    "p[1196], p[1195] = parse_primers('''\n",
    "\n",
    ">1196_Pbr.FW\n",
    "AATCCAATCAGCGTAAGGTGTAGACTTTCTCTGTCAGACCAAGTTTACT\n",
    "\n",
    ">1195_Pbr.REV\n",
    "GTTGACTACTATTTACGCAGCAGATACGATCTCGTTTCATCGGT\n",
    "\n",
    "''')"
   ]
  },
  {
   "cell_type": "code",
   "execution_count": 33,
   "metadata": {},
   "outputs": [],
   "source": [
    "pBR = pcr(p[1196], p[1195], pbr_section)"
   ]
  },
  {
   "cell_type": "code",
   "execution_count": 34,
   "metadata": {},
   "outputs": [],
   "source": [
    "assert str(pbr_section.seq) in pBR"
   ]
  },
  {
   "cell_type": "code",
   "execution_count": 35,
   "metadata": {},
   "outputs": [
    {
     "data": {
      "text/plain": [
       "                              5CTGTCAGACCAAGTTTACT...ACCGATGAAACGAG3\n",
       "                                                     ||||||||||||||\n",
       "                                                    3TGGCTACTTTGCTCTAGCATAGACGACGCATTTATCATCAGTTG5\n",
       "5AATCCAATCAGCGTAAGGTGTAGACTTTCTCTGTCAGACCAAGTTTACT3\n",
       "                               |||||||||||||||||||\n",
       "                              3GACAGTCTGGTTCAAATGA...TGGCTACTTTGCTC5"
      ]
     },
     "execution_count": 35,
     "metadata": {},
     "output_type": "execute_result"
    }
   ],
   "source": [
    "pBR.figure()"
   ]
  },
  {
   "cell_type": "code",
   "execution_count": 36,
   "metadata": {},
   "outputs": [
    {
     "name": "stdout",
     "output_type": "stream",
     "text": [
      "AATCCAATCAGCGTAAGGTGTAGACTTTCTCTGTCAGACCAAGTTTACTCATATATACTTTAGATTGATTTAAAACTTCATTTTTAATTTAAAAGGATCTAGGTGAAGATCCTTTTTGATAATCTCATGACCAAAATCCCTTAACGTGAGTTTTCGTTCCACTGAGCGTCAGACCCCGTAGAAAAGATCAAAGGATCTTCTTGAGATCCTTTTTTTCTGCGCGTAATCTGCTGCTTGCAAACAAAAAAACCACCGCTACCAGCGGTGGTTTGTTTGCCGGATCAAGAGCTACCAACTCTTTTTCCGAAGGTAACTGGCTTCAGCAGAGCGCAGATACCAAATACTGTCCTTCTAGTGTAGCCGTAGTTAGGCCACCACTTCAAGAACTCTGTAGCACCGCCTACATACCTCGCTCTGCTAATCCTGTTACCAGTGGCTGCTGCCAGTGGCGATAAGTCGTGTCTTACCGGGTTGGACTCAAGACGATAGTTACCGGATAAGGCGCAGCGGTCGGGCTGAACGGGGGGTTCGTGCACACAGCCCAGCTTGGAGCGAACGACCTACACCGAACTGAGATACCTACAGCGTGAGCTATGAGAAAGCGCCACGCTTCCCGAAGGGAGAAAGGCGGACAGGTATCCGGTAAGCGGCAGGGTCGGAACAGGAGAGCGCACGAGGGAGCTTCCAGGGGGAAACGCCTGGTATCTTTATAGTCCTGTCGGGTTTCGCCACCTCTGACTTGAGCGTCGATTTTTGTGATGCTCGTCAGGGGGGCGGAGCCTATGGAAAAACGCCAGCAACGCGGCCTTTTTACGGTTCCTGGCCTTTTGCTGGCCTTTTGCTCACATGTTCTTTCCTGCGTTATCCCCTGATTCTGTGGATAACCGTATTACCGCCTTTGAGTGAGCTGATACCGCTCGCCGCAGCCGAACGACCGAGCGCAGCGAGTCAGTGAGCGAGGAAGCGGAAGAGCGCCTGATGCGGTATTTTCTCCTTACGCATCTGTGCGGTATTTCACACCGCATATGGTGCACTCTCAGTACAATCTGCTCTGATGCCGCATAGTTAAGCCAGTATACACTCCGCTATCGCTACGTGACTGGGTCATGGCTGCGCCCCGACACCCGCCAACACCCGCTGACGCGCCCTGACGGGCTTGTCTGCTCCCGGCATCCGCTTACAGACAAGCTGTGACCGTCTCCGGGAGCTGCATGTGTCAGAGGTTTTCACCGTCATCACCGAAACGCGCGAGGCAGCTGCGGTAAAGCTCATCAGCGTGGTCGTGAAGCGATTCACAGATGTCTGCCTGTTCATCCGCGTCCAGCTCGTTGAGTTTCTCCAGAAGCGTTAATGTCTGGCTTCTGATAAAGCGGGCCATGTTAAGGGCGGTTTTTTCCTGTTTGGTCACTGATGCCTCCGTGTAAGGGGGATTTCTGTTCATGGGGGTAATGATACCGATGAAACGAGATCGTATCTGCTGCGTAAATAGTAGTCAAC\n"
     ]
    }
   ],
   "source": [
    "print(pBR.seq)"
   ]
  },
  {
   "cell_type": "code",
   "execution_count": 37,
   "metadata": {},
   "outputs": [],
   "source": [
    "pBR.name = \"pBR\""
   ]
  },
  {
   "cell_type": "code",
   "execution_count": 38,
   "metadata": {},
   "outputs": [],
   "source": [
    "parts.append(pBR)"
   ]
  },
  {
   "cell_type": "markdown",
   "metadata": {},
   "source": [
    "# 2µ \n",
    "\n",
    "2 micron origin of replication for yeast\n",
    "\n",
    "Source: YEplac112\n",
    "\n",
    "The cells below is an attempt to define the smallest 2µ sequence that would reliably replicate a plasmid in Saccharomyces cerevisiae.\n",
    "\n",
    "The 2 micron origin comes from the 2 micron circle that can be found in Genbank record: [J01347.1](http://www.ncbi.nlm.nih.gov/nuccore/J01347.1)."
   ]
  },
  {
   "cell_type": "code",
   "execution_count": 39,
   "metadata": {},
   "outputs": [],
   "source": [
    "# twomicron = genbank(\"J01347.1\")\n",
    "# twomicron.write(\"2micron.gb\")\n",
    "twomicron_section = read(\"2micron.gb\")"
   ]
  },
  {
   "cell_type": "markdown",
   "metadata": {},
   "source": [
    "The 2µ sequence used in pYPKpw comes from the pSU0 plasmid:\n",
    "\n",
    "![](pSU0.png)\n",
    "\n",
    "\n",
    "\n",
    "The sequence is available [here](https://www.ncbi.nlm.nih.gov/nuccore/AB215109.1). \n",
    "\n",
    "\n",
    "\n",
    "\n",
    "\n",
    "[paper](https://www.ncbi.nlm.nih.gov/pubmed/16454044)"
   ]
  },
  {
   "cell_type": "code",
   "execution_count": 40,
   "metadata": {},
   "outputs": [],
   "source": [
    "# pSU0 = genbank(\"AB215109.1\")\n",
    "# pSU0.write(\"pSU0.gb\")\n",
    "pSU0 = read(\"pSU0_2µ.gb\")"
   ]
  },
  {
   "cell_type": "code",
   "execution_count": 41,
   "metadata": {},
   "outputs": [],
   "source": [
    "assert pSU0.cseguid() == 'fzXVMVR4-lIsvU_eXXMG10U18s4'"
   ]
  },
  {
   "cell_type": "markdown",
   "metadata": {},
   "source": [
    "The shared sequence between the 2 micron plasmid and the pSU0 was indicated in the pSU0_2µ.gb file as feature \"2micron\".\n",
    "\n",
    "It turns out that the 2 micron sequences in YEplac112 is 321 bp shorter than in pSU0:\n",
    "\n",
    "    aattccacggactatagacta ................... gcaatgtttgtggaagcggtattcgcaat  1439 bp  pSU0\n",
    "\n",
    "                    atcgtacttgttacccatca .... gcaatgtttgtggaagcggtattcgcaat  1117 bp  YEplac112\n",
    "    \n",
    "Primers were designed for the YEplac112 sequence as it is short and still works."
   ]
  },
  {
   "cell_type": "code",
   "execution_count": 42,
   "metadata": {},
   "outputs": [],
   "source": [
    "from pydna.parsers import parse_primers\n",
    "\n",
    "p = {}\n",
    "\n",
    "p[984], p[983] = parse_primers('''\n",
    "\n",
    ">984_Micron.FW  Micron.FW\n",
    "ATCGTATCTGCTGCGTAAATAGTAGTCAACGATCGTACTTGTTACCCAT\n",
    "\n",
    ">983_Micron.REV  Micron.REV\n",
    "CAGAGCAGACAGTTCCTTTACGAGATTTTAGATCCAATATCAAAGGAA\n",
    "\n",
    "''')"
   ]
  },
  {
   "cell_type": "code",
   "execution_count": 43,
   "metadata": {},
   "outputs": [],
   "source": [
    "# YEplac112 = genbank(\"X75458.1\")\n",
    "# YEplac112.write(\"YEplac112.gb\")\n",
    "YEplac112 = read(\"YEplac112.gb\").looped()"
   ]
  },
  {
   "cell_type": "code",
   "execution_count": 44,
   "metadata": {},
   "outputs": [
    {
     "data": {
      "text/plain": [
       "'SNqGOdhCuREZADkT4E-PmR4DvU8'"
      ]
     },
     "execution_count": 44,
     "metadata": {},
     "output_type": "execute_result"
    }
   ],
   "source": [
    "YEplac112.cseguid()"
   ]
  },
  {
   "cell_type": "markdown",
   "metadata": {},
   "source": [
    "The primers were designed for the YEplac112 sequence:"
   ]
  },
  {
   "cell_type": "code",
   "execution_count": 45,
   "metadata": {},
   "outputs": [],
   "source": [
    "two_micron = pcr(p[984], p[983], YEplac112)"
   ]
  },
  {
   "cell_type": "code",
   "execution_count": 46,
   "metadata": {},
   "outputs": [
    {
     "data": {
      "text/plain": [
       "                              5GATCGTACTTGTTACCCAT...TTCCTTTGATATTGGATC3\n",
       "                                                     ||||||||||||||||||\n",
       "                                                    3AAGGAAACTATAACCTAGATTTTAGAGCATTTCCTTGACAGACGAGAC5\n",
       "5ATCGTATCTGCTGCGTAAATAGTAGTCAACGATCGTACTTGTTACCCAT3\n",
       "                               |||||||||||||||||||\n",
       "                              3CTAGCATGAACAATGGGTA...AAGGAAACTATAACCTAG5"
      ]
     },
     "execution_count": 46,
     "metadata": {},
     "output_type": "execute_result"
    }
   ],
   "source": [
    "two_micron.figure()"
   ]
  },
  {
   "cell_type": "code",
   "execution_count": 47,
   "metadata": {},
   "outputs": [
    {
     "name": "stdout",
     "output_type": "stream",
     "text": [
      "ATCGTATCTGCTGCGTAAATAGTAGTCAACGATCGTACTTGTTACCCATCATTGAATTTTGAACATCCGAACCTGGGAGTTTTCCCTGAAACAGATAGTATATTTGAACCTGTATAATAATATATAGTCTAGCGCTTTACGGAAGACAATGTATGTATTTCGGTTCCTGGAGAAACTATTGCATCTATTGCATAGGTAATCTTGCACGTCGCATCCCCGGTTCATTTTCTGCGTTTCCATCTTGCACTTCAATAGCATATCTTTGTTAACGAAGCATCTGTGCTTCATTTTGTAGAACAAAAATGCAACGCGAGAGCGCTAATTTTTCAAACAAAGAATCTGAGCTGCATTTTTACAGAACAGAAATGCAACGCGAAAGCGCTATTTTACCAACGAAGAATCTGTGCTTCATTTTTGTAAAACAAAAATGCAACGCGAGAGCGCTAATTTTTCAAACAAAGAATCTGAGCTGCATTTTTACAGAACAGAAATGCAACGCGAGAGCGCTATTTTACCAACAAAGAATCTATACTTCTTTTTTGTTCTACAAAAATGCATCCCGAGAGCGCTATTTTTCTAACAAAGCATCTTAGATTACTTTTTTTCTCCTTTGTGCGCTCTATAATGCAGTCTCTTGATAACTTTTTGCACTGTAGGTCCGTTAAGGTTAGAAGAAGGCTACTTTGGTGTCTATTTTCTCTTCCATAAAAAAAGCCTGACTCCACTTCCCGCGTTTACTGATTACTAGCGAAGCTGCGGGTGCATTTTTTCAAGATAAAGGCATCCCCGATTATATTCTATACCGATGTGGATTGCGCATACTTTGTGAACAGAAAGTGATAGCGTTGATGATTCTTCATTGGTCAGAAAATTATGAACGGTTTCTTCTATTTTGTCTCTATATACTACGTATAGGAAATGTTTACATTTTCGTATTGTTTTCGATTCACTCTATGAATAGTTCTTACTACAATTTTTTTGTCTAAAGAGTAATACTAGAGATAAACATAAAAAATGTAGAGGTCGAGTTTAGATGCAAGTTCAAGGAGCGAAAGGTGGATGGGTAGGTTATATAGGGATATAGCACAGAGATATATAGCAAAGAGATACTTTTGAGCAATGTTTGTGGAAGCGGTATTCGCAATATTTTAGTAGCTCGTTACAGTCCGGTGCGTTTTTGGTTTTTTGAAAGTGCGTCTTCAGAGCGCTTTTGGTTTTCAAAAGCGCTCTGAAGTTCCTATACTTTCTAGCTAGAGAATAGGAACTTCGGAATAGGAACTTCAAAGCGTTTCCGAAAACGAGCGCTTCCGAAAATGCAACGCGAGCTGCGCACATACAGCTCACTGTTCACGTCGCACCTATATCTGCGTGTTGCCTGTATATATATATACATGAGAAGAACGGCATAGTGCGTGTTTATGCTTAAATGCGTACTTATATGCGTCTATTTATGTAGGATGAAAGGTAGTCTAGTACCTCCTGTGATATTATCCCATTCCATGCGGGGTATCGTATGCTTCCTTCAGCACTACCCTTTAGCTGTTCTATATGCTGCCACTCCTCAATTGGATTAGTCTCATCCTTCAATGCTATCATTTCCTTTGATATTGGATCTAAAATCTCGTAAAGGAACTGTCTGCTCTG\n"
     ]
    }
   ],
   "source": [
    "print(two_micron.seq)"
   ]
  },
  {
   "cell_type": "code",
   "execution_count": 48,
   "metadata": {},
   "outputs": [],
   "source": [
    "two_micron.name = \"2µ\""
   ]
  },
  {
   "cell_type": "code",
   "execution_count": 49,
   "metadata": {},
   "outputs": [],
   "source": [
    "parts.append(two_micron)"
   ]
  },
  {
   "cell_type": "markdown",
   "metadata": {
    "tags": []
   },
   "source": [
    "# LEU2\n",
    "\n",
    "Source: YEplac181 sequence\n",
    "\n",
    "The E. coli/S. cerevisiae shuttle vector YEplac181 (5741 bp) was used as a source for the [LEU2](https://www.yeastgenome.org/locus/S000000523) gene. \n",
    "The construction of YEplac181 was described in [Gietz and Sugino 1988](https://pubmed.ncbi.nlm.nih.gov/3073106/).\n",
    "\n",
    "![YEplac181](YEplac181.png)\n",
    "\n",
    "The LEU2 gene in YEplac181 is originally from the YEp213 plasmid Genbank: [U03499.1](https://www.ncbi.nlm.nih.gov/nuccore/U03499.1) [addgene](https://www.addgene.org/vector-database/4864), but the KpnI and EcoRI sites were removed by site directed mutagenesis.\n",
    "\n",
    "![](LEU2_mutagenesis.png)\n",
    "\n",
    "The YEp213 vector is referenced to Sherman et. al 1982, but I was unable to find the source strain of the LEU2 gene.\n",
    "\n",
    "Surprisingly, at least two sequences are publicly available for YEplac181. All sequences in that table below are of the same size, but \n",
    "the snapgene sequence below is different from the others.\n",
    "\n",
    "| # | cSEGUID                     | Source                                                                                         |\n",
    "|---|-----------------------------|------------------------------------------------------------------------------------------------|\n",
    "| 1 | -NXceRmkWfFFK2fl4_qPKkNQupU | Genbank X75460.1                                                                               |\n",
    "| 1 | -NXceRmkWfFFK2fl4_qPKkNQupU | Genbank L26354.1 (marked as obsolete in genbank)                                               |\n",
    "| 1 | -NXceRmkWfFFK2fl4_qPKkNQupU | [vectordb](http://genome-www.stanford.edu/vectordb/vector_descrip/COMPLETE/YEPLAC181.SEQ.html) |\n",
    "| 1 | -NXceRmkWfFFK2fl4_qPKkNQupU | [addgene](https://www.addgene.org/browse/sequence_vdb/4893/)                                   |\n",
    "| 2 | pqQARoEt-XNyt1pPylGFP9kBN30 | [snapgene](http://www.snapgene.com/resources/plasmid__files/yeast_plasmids/YEplac181/)         |\n",
    "\n",
    "The LEU2 locus in sequence *1* in the table above has twelve sequence variations compared to the reference sequence of s288c.\n",
    "Notably in sequence 1, the first twelve nucleotides of the LEU2 open reading frame are duplicated compared the reference sequence of s288c.\n",
    "\n",
    "    atg tct gcc cct atg tct gcc cct ...   sequence 1\n",
    "                    ATG TCT GCC CCT ...   s288c\n",
    "                     M   S   A   P\n",
    "\n",
    "Sequence 2 does not have this repetition and is has only four sequence variations compared to the reference.\n",
    "\n",
    "Sequence 1, ignoring the changes made to remove the restriction sites, can be found in the Genbank record [X03840.1](https://www.ncbi.nlm.nih.gov/nucleotide/X03840.1) and also in the genbank record for [YEp13](https://www.ncbi.nlm.nih.gov/nucleotide/U03498.1).\n",
    "\n",
    "Sequence 2 is available from snapgene and also from [here](https://gist.github.com/BjornFJohansson/e445e5039d61bdcdf933c435438b4585) in genbank format.\n",
    "\n",
    "The Sequence 2 (pqQARoEt-XNyt1pPylGFP9kBN30) was chosen as a basis for constructing the pTA1 as this sequence is most likely to be correct."
   ]
  },
  {
   "cell_type": "code",
   "execution_count": 50,
   "metadata": {},
   "outputs": [],
   "source": [
    "YEplac181 = read(\"YEplac181_snapgene.gb\")"
   ]
  },
  {
   "cell_type": "code",
   "execution_count": 51,
   "metadata": {},
   "outputs": [],
   "source": [
    "assert YEplac181.cseguid() == \"pqQARoEt-XNyt1pPylGFP9kBN30\""
   ]
  },
  {
   "cell_type": "code",
   "execution_count": 52,
   "metadata": {},
   "outputs": [],
   "source": [
    "from pydna.parsers import parse_primers\n",
    "\n",
    "p = {}\n",
    "\n",
    "p[980], p[979] = parse_primers('''\n",
    "\n",
    ">980_Leu2.FW  Leu2.FW\n",
    "TAAAATCTCGTAAAGGAACTGTCTGCTCTGTTAACTGTGGGAATACTC\n",
    "\n",
    ">979_Leu2.REV  Leu2.REV\n",
    "ACGGACTACGAGATACCTGATTTTACAGTTTCTACCCTATGAACATATTC\n",
    "\n",
    "''')"
   ]
  },
  {
   "cell_type": "code",
   "execution_count": 53,
   "metadata": {},
   "outputs": [],
   "source": [
    "LEU2 = pcr(p[980],p[979], YEplac181)"
   ]
  },
  {
   "cell_type": "code",
   "execution_count": 54,
   "metadata": {},
   "outputs": [
    {
     "data": {
      "text/plain": [
       "                              5TTAACTGTGGGAATACTC...GAATATGTTCATAGGGTAGAA3\n",
       "                                                    |||||||||||||||||||||\n",
       "                                                   3CTTATACAAGTATCCCATCTTTGACATTTTAGTCCATAGAGCATCAGGCA5\n",
       "5TAAAATCTCGTAAAGGAACTGTCTGCTCTGTTAACTGTGGGAATACTC3\n",
       "                               ||||||||||||||||||\n",
       "                              3AATTGACACCCTTATGAG...CTTATACAAGTATCCCATCTT5"
      ]
     },
     "execution_count": 54,
     "metadata": {},
     "output_type": "execute_result"
    }
   ],
   "source": [
    "LEU2.figure()"
   ]
  },
  {
   "cell_type": "code",
   "execution_count": 55,
   "metadata": {},
   "outputs": [
    {
     "data": {
      "text/plain": [
       "Q6mf__6DJC0eCiWStZh6zmvf6-c"
      ]
     },
     "execution_count": 55,
     "metadata": {},
     "output_type": "execute_result"
    }
   ],
   "source": [
    "LEU2.stamp(\"uSEGUID\")"
   ]
  },
  {
   "cell_type": "code",
   "execution_count": 56,
   "metadata": {},
   "outputs": [
    {
     "name": "stdout",
     "output_type": "stream",
     "text": [
      "TAAAATCTCGTAAAGGAACTGTCTGCTCTGTTAACTGTGGGAATACTCAGGTATCGTAAGATGCAAGAGTTCGAATCTCTTAGCAACCATTATTTTTTTCCTCAACATAACGAGAACACACAGGGGCGCTATCGCACAGAATCAAATTCGATGACTGGAAATTTTTTGTTAATTTCAGAGGTCGCCTGACGCATATACCTTTTTCAACTGAAAAATTGGGAGAAAAAGGAAAGGTGAGAGCCGCGGAACCGGCTTTTCATATAGAATAGAGAAGCGTTCATGACTAAATGCTTGCATCACAATACTTGAAGTTGACAATATTATTTAAGGACCTATTGTTTTTTCCAATAGGTGGTTAGCAATCGTCTTACTTTCTAACTTTTCTTACCTTTTACATTTCAGCAATATATATATATATATTTCAAGGATATACCATTCTAATGTCTGCCCCTAAGAAGATCGTCGTTTTGCCAGGTGACCACGTTGGTCAAGAAATCACAGCCGAAGCCATTAAGGTTCTTAAAGCTATTTCTGATGTTCGTTCCAATGTCAAGTTCGATTTCGAAAATCATTTAATTGGTGGTGCTGCTATCGATGCTACAGGTGTCCCACTTCCAGATGAGGCGCTGGAAGCCTCCAAGAAGGTTGATGCCGTTTTGTTAGGTGCTGTGGGTGGTCCTAAATGGGGTACAGGTAGTGTTAGACCTGAACAAGGTTTACTAAAAATCCGTAAAGAACTTCAATTGTACGCCAACTTAAGACCATGTAACTTTGCATCCGACTCTCTTTTAGACTTATCTCCAATCAAGCCACAATTTGCTAAAGGTACTGACTTCGTTGTTGTCAGAGAATTAGTGGGAGGTATTTACTTTGGTAAGAGAAAGGAAGACGATGGTGATGGTGTCGCTTGGGATAGTGAACAATACACCGTTCCAGAAGTGCAAAGAATCACAAGAATGGCCGCTTTCATGGCCCTACAACATGAGCCACCATTGCCTATTTGGTCCTTGGATAAAGCTAATGTTTTGGCCTCTTCAAGATTATGGAGAAAAACTGTGGAGGAAACCATCAAGAACGAATTTCCTACATTGAAGGTTCAACATCAATTGATTGATTCTGCCGCCATGATCCTAGTTAAGAACCCAACCCACCTAAATGGTATTATAATCACCAGCAACATGTTTGGTGATATCATCTCCGATGAAGCCTCCGTTATCCCAGGTTCCTTGGGTTTGTTGCCATCTGCGTCCTTGGCCTCTTTGCCAGACAAGAACACCGCATTTGGTTTGTACGAACCATGCCACGGTTCTGCTCCAGATTTGCCAAAGAATAAGGTCAACCCTATCGCCACTATCTTGTCTGCTGCAATGATGTTGAAATTGTCATTGAACTTGCCTGAAGAAGGTAAGGCCATTGAAGATGCAGTTAAAAAGGTTTTGGATGCAGGTATCAGAACTGGTGATTTAGGTGGTTCCAACAGTACCACGGAAGTCGGTGATGCTGTCGCCGAAGAAGTTAAGAAAATCCTTGCTTAAAAAGATTCTCTTTTTTTATGATATTTGTACATAAACTTTATAAATGAAATTCATAATAGAAACGACACGAAATTACAAAATGGAATATGTTCATAGGGTAGAAACTGTAAAATCAGGTATCTCGTAGTCCGT\n"
     ]
    }
   ],
   "source": [
    "print(LEU2.seq)"
   ]
  },
  {
   "cell_type": "code",
   "execution_count": 57,
   "metadata": {},
   "outputs": [],
   "source": [
    "LEU2.name = \"LEU2\""
   ]
  },
  {
   "cell_type": "code",
   "execution_count": 58,
   "metadata": {},
   "outputs": [],
   "source": [
    "parts.append(LEU2)"
   ]
  },
  {
   "cell_type": "markdown",
   "metadata": {},
   "source": [
    "# CRP∆\n",
    "\n",
    "The CRP∆ is a non-functional version of the the E. coli catabolite gene activator protein CAP3 gene (also known as the cyclic AMP receptor protein CRP).\n",
    "\n",
    "The [pYPKpw](https://github.com/BjornFJohansson/ypk-xylose-pathways/blob/master/pYPKpw.gb) vector contains the CRP∆ gene.\n",
    "\n",
    "This sequence is needed in the pTA1 vector to guide recombination for the [YeastPathwayKit](https://github.com/MetabolicEngineeringGroupCBMA/YeastPathwayKit)."
   ]
  },
  {
   "cell_type": "code",
   "execution_count": 59,
   "metadata": {},
   "outputs": [],
   "source": [
    "pYPKpw = read(\"pYPKpw.gb\")"
   ]
  },
  {
   "cell_type": "code",
   "execution_count": 60,
   "metadata": {},
   "outputs": [],
   "source": [
    "assert pYPKpw.cseguid() == \"WeyovdMmqwA4bc9EqEwUDmbo3Lg\""
   ]
  },
  {
   "cell_type": "markdown",
   "metadata": {},
   "source": [
    "We need the fragment defined by the 577 and 578 primers"
   ]
  },
  {
   "cell_type": "code",
   "execution_count": 61,
   "metadata": {},
   "outputs": [],
   "source": [
    "from pydna.parsers import parse_primers\n",
    "\n",
    "p = {}\n",
    "\n",
    "p[578], p[577] = parse_primers('''\n",
    "\n",
    ">578_crp42-70 (29-mer)                                                                                                                                                                                                                                                                                                                                                                                                                                 \n",
    "gttcttgtctcattgccacattcataagt                                                                                                                                                                                                                                                                                                                                                                                                                          \n",
    "                                                                                                                                                                                                                                                                                                                                                                                                                                                       \n",
    ">577_crp585-557 (29-mer)                                                                                                                                                                                                                                                                                                                                                                                                                               \n",
    "gttctgatcctcgagcatcttaagaattc\n",
    "\n",
    "''')"
   ]
  },
  {
   "cell_type": "code",
   "execution_count": 62,
   "metadata": {},
   "outputs": [],
   "source": [
    "crpd = pcr(p[577], p[578], pYPKpw.rc())"
   ]
  },
  {
   "cell_type": "code",
   "execution_count": 63,
   "metadata": {},
   "outputs": [
    {
     "data": {
      "text/plain": [
       "5gttcttgtctcattgccacattcataagt...gaattcttaagatgctcgaggatcagaac3\n",
       "                                 |||||||||||||||||||||||||||||\n",
       "                                3cttaagaattctacgagctcctagtcttg5\n",
       "5gttcttgtctcattgccacattcataagt3\n",
       " |||||||||||||||||||||||||||||\n",
       "3caagaacagagtaacggtgtaagtattca...cttaagaattctacgagctcctagtcttg5"
      ]
     },
     "execution_count": 63,
     "metadata": {},
     "output_type": "execute_result"
    }
   ],
   "source": [
    "crpd.figure()"
   ]
  },
  {
   "cell_type": "code",
   "execution_count": 64,
   "metadata": {},
   "outputs": [],
   "source": [
    "from Bio.Restriction import ZraI, FspAI, EcoRV"
   ]
  },
  {
   "cell_type": "code",
   "execution_count": 65,
   "metadata": {},
   "outputs": [
    {
     "data": {
      "text/plain": [
       "(Dseqrecord(-258), Dseqrecord(-127))"
      ]
     },
     "execution_count": 65,
     "metadata": {},
     "output_type": "execute_result"
    }
   ],
   "source": [
    "crpd.cut(ZraI)"
   ]
  },
  {
   "cell_type": "code",
   "execution_count": 66,
   "metadata": {},
   "outputs": [
    {
     "data": {
      "text/plain": [
       "(Dseqrecord(-251), Dseqrecord(-134))"
      ]
     },
     "execution_count": 66,
     "metadata": {},
     "output_type": "execute_result"
    }
   ],
   "source": [
    "crpd.cut(FspAI)"
   ]
  },
  {
   "cell_type": "code",
   "execution_count": 67,
   "metadata": {},
   "outputs": [
    {
     "data": {
      "text/plain": [
       "(Dseqrecord(-244), Dseqrecord(-141))"
      ]
     },
     "execution_count": 67,
     "metadata": {},
     "output_type": "execute_result"
    }
   ],
   "source": [
    "crpd.cut(EcoRV)"
   ]
  },
  {
   "cell_type": "code",
   "execution_count": 68,
   "metadata": {},
   "outputs": [],
   "source": [
    "from pydna.parsers import parse_primers\n",
    "\n",
    "p = {}\n",
    "\n",
    "p[978], p[977] = parse_primers('''\n",
    "\n",
    ">978_Crp.FW  Crp.FW\n",
    "AACTGTAAAATCAGGTATCTCGTAGTCCGTGTTCTGATCCTCGAGC\n",
    "\n",
    ">977_Crp.REV  Crp.REV\n",
    "TACAATAGAGTTCCGAGGTAAACGCTTTTCGTTCTTGTCTCATTGCC\n",
    "\n",
    "''')"
   ]
  },
  {
   "cell_type": "code",
   "execution_count": 69,
   "metadata": {},
   "outputs": [],
   "source": [
    "CRPdelta = pcr(p[977], p[978], crpd)"
   ]
  },
  {
   "cell_type": "code",
   "execution_count": 70,
   "metadata": {},
   "outputs": [],
   "source": [
    "assert str(crpd.seq) in CRPdelta"
   ]
  },
  {
   "cell_type": "code",
   "execution_count": 71,
   "metadata": {},
   "outputs": [
    {
     "data": {
      "text/plain": [
       "                              5GTTCTTGTCTCATTGCC...GCTCGAGGATCAGAAC3\n",
       "                                                   ||||||||||||||||\n",
       "                                                  3CGAGCTCCTAGTCTTGTGCCTGATGCTCTATGGACTAAAATGTCAA5\n",
       "5TACAATAGAGTTCCGAGGTAAACGCTTTTCGTTCTTGTCTCATTGCC3\n",
       "                               |||||||||||||||||\n",
       "                              3CAAGAACAGAGTAACGG...CGAGCTCCTAGTCTTG5"
      ]
     },
     "execution_count": 71,
     "metadata": {},
     "output_type": "execute_result"
    }
   ],
   "source": [
    "CRPdelta.figure()"
   ]
  },
  {
   "cell_type": "code",
   "execution_count": 72,
   "metadata": {},
   "outputs": [
    {
     "name": "stdout",
     "output_type": "stream",
     "text": [
      "TACAATAGAGTTCCGAGGTAAACGCTTTTCGTTCTTGTCTCATTGCCACATTCATAAGTACCCATCCAAGAGCACGCTTATTCACCAGGGTGAAAAAGCGGAAACGCTGTACTACATCGTTAAAGGCTCTGTGGCAGTGCTGATCAAAGACGAAGAGGGTAAAGAAATGATCCTCTCCTATCTGAATCAGGGTGATTTTATTGGCGAACTGGGCCTGTTTGAAGAGGGCCAGGAACGTAGCGCATGGGTACGTGCGAAAACCGCCTGTGAAGATATCATGCGCATGACGTCACCAGACGCTATGACTCACCCGGACGGCATGCAAATCAAAATTACCCGTCAGGAAATTGGCCAGATTGTCGGCTGCTCTAGACAAACCGTGGGACGAATTCTTAAGATGCTCGAGGATCAGAACACGGACTACGAGATACCTGATTTTACAGTT\n"
     ]
    }
   ],
   "source": [
    "print(CRPdelta.seq)"
   ]
  },
  {
   "cell_type": "code",
   "execution_count": 73,
   "metadata": {},
   "outputs": [],
   "source": [
    "CRPdelta.name = \"CRP∆\""
   ]
  },
  {
   "cell_type": "code",
   "execution_count": 74,
   "metadata": {},
   "outputs": [],
   "source": [
    "parts.append(CRPdelta)"
   ]
  },
  {
   "cell_type": "code",
   "execution_count": 75,
   "metadata": {},
   "outputs": [
    {
     "data": {
      "text/plain": [
       "[Amplicon(1072), Amplicon(1497), Amplicon(1644), Amplicon(1667), Amplicon(445)]"
      ]
     },
     "execution_count": 75,
     "metadata": {},
     "output_type": "execute_result"
    }
   ],
   "source": [
    "parts"
   ]
  },
  {
   "cell_type": "code",
   "execution_count": 76,
   "metadata": {},
   "outputs": [
    {
     "data": {
      "text/plain": [
       "['ampR', 'pBR', '2µ', 'LEU2', 'CRP∆']"
      ]
     },
     "execution_count": 76,
     "metadata": {},
     "output_type": "execute_result"
    }
   ],
   "source": [
    "[p.name for p in parts]"
   ]
  },
  {
   "cell_type": "code",
   "execution_count": 77,
   "metadata": {},
   "outputs": [],
   "source": [
    "asm = Assembly(parts)"
   ]
  },
  {
   "cell_type": "code",
   "execution_count": 78,
   "metadata": {},
   "outputs": [
    {
     "data": {
      "text/plain": [
       "Assembly\n",
       "fragments..: 1072bp 1497bp 1644bp 1667bp 445bp\n",
       "limit(bp)..: 25\n",
       "G.nodes....: 12\n",
       "algorithm..: common_sub_strings"
      ]
     },
     "execution_count": 78,
     "metadata": {},
     "output_type": "execute_result"
    }
   ],
   "source": [
    "asm"
   ]
  },
  {
   "cell_type": "code",
   "execution_count": 79,
   "metadata": {},
   "outputs": [],
   "source": [
    "candidates = asm.assemble_circular()"
   ]
  },
  {
   "cell_type": "code",
   "execution_count": 80,
   "metadata": {},
   "outputs": [
    {
     "data": {
      "text/plain": [
       "[Contig(o6175),\n",
       " Contig(o6175),\n",
       " Contig(o6095),\n",
       " Contig(o6095),\n",
       " Contig(o80),\n",
       " Contig(o80)]"
      ]
     },
     "execution_count": 80,
     "metadata": {},
     "output_type": "execute_result"
    }
   ],
   "source": [
    "candidates"
   ]
  },
  {
   "cell_type": "code",
   "execution_count": 81,
   "metadata": {},
   "outputs": [],
   "source": [
    "candidate, *rest = candidates"
   ]
  },
  {
   "cell_type": "code",
   "execution_count": 82,
   "metadata": {},
   "outputs": [
    {
     "data": {
      "text/plain": [
       " -|ampR|30\n",
       "|       \\/\n",
       "|       /\\\n",
       "|       30|CRP∆|30\n",
       "|               \\/\n",
       "|               /\\\n",
       "|               30|LEU2_rc|30\n",
       "|                          \\/\n",
       "|                          /\\\n",
       "|                          30|2µ_rc|30\n",
       "|                                   \\/\n",
       "|                                   /\\\n",
       "|                                   30|pBR_rc|30\n",
       "|                                             \\/\n",
       "|                                             /\\\n",
       "|                                             30-\n",
       "|                                                |\n",
       " ------------------------------------------------"
      ]
     },
     "execution_count": 82,
     "metadata": {},
     "output_type": "execute_result"
    }
   ],
   "source": [
    "candidate.figure()"
   ]
  },
  {
   "cell_type": "code",
   "execution_count": 83,
   "metadata": {},
   "outputs": [],
   "source": [
    "assert len(candidate) == 6175"
   ]
  },
  {
   "cell_type": "code",
   "execution_count": 84,
   "metadata": {},
   "outputs": [],
   "source": [
    "pTA1 = candidate.synced(\"gttctgatcctcgagcatcttaagaattc\")"
   ]
  },
  {
   "cell_type": "code",
   "execution_count": 85,
   "metadata": {},
   "outputs": [
    {
     "data": {
      "text/plain": [
       "_E-9A37sZOIs9RFYPb3ENzud6FI"
      ]
     },
     "execution_count": 85,
     "metadata": {},
     "output_type": "execute_result"
    }
   ],
   "source": [
    "pTA1.stamp(\"cSEGUID\")"
   ]
  },
  {
   "cell_type": "code",
   "execution_count": 86,
   "metadata": {},
   "outputs": [],
   "source": [
    "pTA1.name = \"pTA1\""
   ]
  },
  {
   "cell_type": "code",
   "execution_count": 87,
   "metadata": {},
   "outputs": [],
   "source": [
    "pTA1.description = \"pTA1 = ampR pBR 2µ LEU2 CRPΔ µ828\""
   ]
  },
  {
   "cell_type": "code",
   "execution_count": 88,
   "metadata": {},
   "outputs": [
    {
     "data": {
      "text/plain": [
       "RestrictionBatch(['AatII', 'AleI', 'BalI', 'BclI', 'EcoRI', 'FbaI', 'FspAI', 'Ksp22I', 'MlsI', 'MluNI', 'Mox20I', 'MscI', 'Msp20I', 'OliI', 'PaeI', 'PaeR7I', 'PspXI', 'Sfr274I', 'SlaI', 'SphI', 'XbaI', 'XhoI', 'ZraI'])"
      ]
     },
     "execution_count": 88,
     "metadata": {},
     "output_type": "execute_result"
    }
   ],
   "source": [
    "CRPdelta[30:-30].cutters(pTA1.unique_cutters())"
   ]
  },
  {
   "cell_type": "code",
   "execution_count": 89,
   "metadata": {},
   "outputs": [
    {
     "data": {
      "text/html": [
       "<font face=monospace><a href='pTA1.gb' target='_blank'>pTA1.gb</a></font><br>"
      ]
     },
     "metadata": {},
     "output_type": "display_data"
    }
   ],
   "source": [
    "pTA1.write(\"pTA1.gb\")"
   ]
  },
  {
   "cell_type": "code",
   "execution_count": 90,
   "metadata": {},
   "outputs": [],
   "source": [
    "from Bio.Restriction import Eco32I, EcoRI, AflII"
   ]
  },
  {
   "cell_type": "code",
   "execution_count": 91,
   "metadata": {},
   "outputs": [],
   "source": [
    "from pydna.gel import gel\n",
    "from pydna.ladders import PennStateLadder, GeneRuler_1kb"
   ]
  },
  {
   "cell_type": "code",
   "execution_count": 92,
   "metadata": {},
   "outputs": [
    {
     "data": {
      "image/png": "[encoded data removed]",
      "text/plain": [
       "<PIL.Image.Image image mode=RGB size=240x600 at 0x7F666AD7FFD0>"
      ]
     },
     "execution_count": 92,
     "metadata": {},
     "output_type": "execute_result"
    }
   ],
   "source": [
    "gel([PennStateLadder, pTA1.cut(Eco32I), pTA1.cut(EcoRI)])"
   ]
  },
  {
   "cell_type": "markdown",
   "metadata": {},
   "source": [
    "![gel1](2019-10-31(2.2).png)\n",
    "\n",
    "Loaded on gel from left to right:\n",
    "\n",
    "1. pTA1 clone 7 µ828\n",
    "2. pTA1 clone 8 µ928\n",
    "3. pTA1 clone 9 µ929\n",
    "4. pTA1 clone 7 Eco32I (EcoRV)\n",
    "5. pTA1 clone 8 \"\n",
    "6. pTA1 clone 9 \"\n",
    "7. PennStateLadder\n",
    "8. pTA1 clone 7 EcoRI\n",
    "9. pTA1 clone 8 \"\n",
    "10. pTA1 clone 9 \"\n",
    "\n",
    "PennStateLadder\n",
    "![PennStateLadder](PennStateLadder_small.png)\n"
   ]
  },
  {
   "cell_type": "markdown",
   "metadata": {},
   "source": [
    "![gel2](2022-11-08.jpg)\n",
    "\n",
    "\n",
    "Loaded on gel from left to right:\n",
    "\n",
    "1. pTA1 cln#7\n",
    "2. pTA1 cln#7 Acc65I   (no cut)\n",
    "3. pTA1 cln#7 PstI     (no cut)\n",
    "4. pTA1 cln#7 EcoR32I  (two cuts)\n",
    "5. pTA1 cln#7 AflII    (two cuts)\n",
    "6. pTA1 cln#8\n",
    "7. pTA1 cln#8 Acc65I   \n",
    "8. pTA1 cln#8 PstI    \n",
    "9. pTA1 cln#8 EcoR32I\n",
    "10. pTA1 cln#8 AflII\n",
    "11. marcador\n",
    "12. pTA1 cln#9\n",
    "13. pTA1 cln#9 Acc65I  \n",
    "14. pTA1 cln#9 PstI   \n",
    "15. pTA1 cln#9 EcoR32I\n",
    "16. pTA1 cln#9 AflII\n"
   ]
  },
  {
   "cell_type": "code",
   "execution_count": 93,
   "metadata": {},
   "outputs": [
    {
     "data": {
      "image/png": "[encoded data removed]",
      "text/plain": [
       "<PIL.Image.Image image mode=RGB size=240x600 at 0x7F6669249B50>"
      ]
     },
     "execution_count": 93,
     "metadata": {},
     "output_type": "execute_result"
    }
   ],
   "source": [
    "gel([ pTA1.cut(Eco32I), pTA1.cut(AflII), GeneRuler_1kb,])"
   ]
  }
 ],
 "metadata": {
  "anaconda-cloud": {},
  "kernelspec": {
   "display_name": "Python [conda env:bjorn39]",
   "language": "python",
   "name": "conda-env-bjorn39-py"
  },
  "language_info": {
   "codemirror_mode": {
    "name": "ipython",
    "version": 3
   },
   "file_extension": ".py",
   "mimetype": "text/x-python",
   "name": "python",
   "nbconvert_exporter": "python",
   "pygments_lexer": "ipython3",
   "version": "3.9.12"
  }
 },
 "nbformat": 4,
 "nbformat_minor": 4
}
