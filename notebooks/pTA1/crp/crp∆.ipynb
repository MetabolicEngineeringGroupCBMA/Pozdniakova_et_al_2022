{
 "cells": [
  {
   "cell_type": "markdown",
   "metadata": {},
   "source": [
    "## CRP∆\n",
    "\n",
    "The [pYPKpw](https://github.com/BjornFJohansson/ypk-xylose-pathways/blob/master/pYPKpw.gb) vector contains the CRP gene with an internal deletion (CRP∆). This is needed in the pTA1 vector to guide recombination."
   ]
  },
  {
   "cell_type": "code",
   "execution_count": 1,
   "metadata": {},
   "outputs": [],
   "source": [
    "from pydna.all import *"
   ]
  },
  {
   "cell_type": "code",
   "execution_count": 3,
   "metadata": {},
   "outputs": [],
   "source": [
    "pYPKpw = read(\"pYPKpw.gb\")"
   ]
  },
  {
   "cell_type": "code",
   "execution_count": 5,
   "metadata": {},
   "outputs": [],
   "source": [
    "assert pYPKpw.cseguid() == \"WeyovdMmqwA4bc9EqEwUDmbo3Lg\""
   ]
  },
  {
   "cell_type": "markdown",
   "metadata": {},
   "source": [
    "We need the fragment defined by the 577 and 578 primers"
   ]
  },
  {
   "cell_type": "code",
   "execution_count": 6,
   "metadata": {},
   "outputs": [],
   "source": [
    "p578, p577 = parse_primers('''\n",
    ">578_crp42-70 (29-mer)                                                                                                                                                                                                                                                                                                                                                                                                                                 \n",
    "gttcttgtctcattgccacattcataagt                                                                                                                                                                                                                                                                                                                                                                                                                          \n",
    "                                                                                                                                                                                                                                                                                                                                                                                                                                                       \n",
    ">577_crp585-557 (29-mer)                                                                                                                                                                                                                                                                                                                                                                                                                               \n",
    "gttctgatcctcgagcatcttaagaattc''')"
   ]
  },
  {
   "cell_type": "code",
   "execution_count": 11,
   "metadata": {},
   "outputs": [],
   "source": [
    "crpd = pcr(p577, p578, pYPKpw.rc())"
   ]
  },
  {
   "cell_type": "code",
   "execution_count": 12,
   "metadata": {},
   "outputs": [
    {
     "data": {
      "text/plain": [
       "5gttcttgtctcattgccacattcataagt...gaattcttaagatgctcgaggatcagaac3\n",
       "                                 |||||||||||||||||||||||||||||\n",
       "                                3cttaagaattctacgagctcctagtcttg5\n",
       "5gttcttgtctcattgccacattcataagt3\n",
       " |||||||||||||||||||||||||||||\n",
       "3caagaacagagtaacggtgtaagtattca...cttaagaattctacgagctcctagtcttg5"
      ]
     },
     "execution_count": 12,
     "metadata": {},
     "output_type": "execute_result"
    }
   ],
   "source": [
    "crpd.figure()"
   ]
  },
  {
   "cell_type": "code",
   "execution_count": 13,
   "metadata": {},
   "outputs": [],
   "source": [
    "from Bio.Restriction import ZraI, FspAI, EcoRV"
   ]
  },
  {
   "cell_type": "code",
   "execution_count": 14,
   "metadata": {},
   "outputs": [
    {
     "data": {
      "text/plain": [
       "(Dseqrecord(-258), Dseqrecord(-127))"
      ]
     },
     "execution_count": 14,
     "metadata": {},
     "output_type": "execute_result"
    }
   ],
   "source": [
    "crpd.cut(ZraI)"
   ]
  },
  {
   "cell_type": "code",
   "execution_count": 15,
   "metadata": {},
   "outputs": [
    {
     "data": {
      "text/plain": [
       "(Dseqrecord(-251), Dseqrecord(-134))"
      ]
     },
     "execution_count": 15,
     "metadata": {},
     "output_type": "execute_result"
    }
   ],
   "source": [
    "crpd.cut(FspAI)"
   ]
  },
  {
   "cell_type": "code",
   "execution_count": 16,
   "metadata": {},
   "outputs": [
    {
     "data": {
      "text/plain": [
       "(Dseqrecord(-244), Dseqrecord(-141))"
      ]
     },
     "execution_count": 16,
     "metadata": {},
     "output_type": "execute_result"
    }
   ],
   "source": [
    "crpd.cut(EcoRV)"
   ]
  },
  {
   "cell_type": "code",
   "execution_count": 19,
   "metadata": {},
   "outputs": [],
   "source": [
    "from pydna.myprimers import PrimerList\n",
    "p = PrimerList()"
   ]
  },
  {
   "cell_type": "code",
   "execution_count": 22,
   "metadata": {},
   "outputs": [],
   "source": [
    "product = pcr(p[978], p[977], crpd)"
   ]
  },
  {
   "cell_type": "code",
   "execution_count": 23,
   "metadata": {},
   "outputs": [],
   "source": [
    "assert str(crpd.seq) in product"
   ]
  },
  {
   "cell_type": "code",
   "execution_count": 24,
   "metadata": {},
   "outputs": [
    {
     "data": {
      "text/plain": [
       "                              5GTTCTTGTCTCATTGCC...GCTCGAGGATCAGAAC3\n",
       "                                                   ||||||||||||||||\n",
       "                                                  3CGAGCTCCTAGTCTTGTGCCTGATGCTCTATGGACTAAAATGTCAA5\n",
       "5TACAATAGAGTTCCGAGGTAAACGCTTTTCGTTCTTGTCTCATTGCC3\n",
       "                               |||||||||||||||||\n",
       "                              3CAAGAACAGAGTAACGG...CGAGCTCCTAGTCTTG5"
      ]
     },
     "execution_count": 24,
     "metadata": {},
     "output_type": "execute_result"
    }
   ],
   "source": [
    "product.figure()"
   ]
  }
 ],
 "metadata": {
  "anaconda-cloud": {},
  "kernelspec": {
   "display_name": "Python [conda env:bjorn39]",
   "language": "python",
   "name": "conda-env-bjorn39-py"
  },
  "language_info": {
   "codemirror_mode": {
    "name": "ipython",
    "version": 3
   },
   "file_extension": ".py",
   "mimetype": "text/x-python",
   "name": "python",
   "nbconvert_exporter": "python",
   "pygments_lexer": "ipython3",
   "version": "3.9.7"
  }
 },
 "nbformat": 4,
 "nbformat_minor": 4
}
