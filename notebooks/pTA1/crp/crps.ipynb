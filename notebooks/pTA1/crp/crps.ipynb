{
 "cells": [
  {
   "cell_type": "code",
   "execution_count": 1,
   "metadata": {},
   "outputs": [],
   "source": [
    "from pydna.all import *"
   ]
  },
  {
   "cell_type": "markdown",
   "metadata": {},
   "source": [
    "## CRP\n",
    "\n",
    "The [pYPKpw](https://github.com/BjornFJohansson/ypk-xylose-pathways/blob/master/pYPKpw.gb) vector contains the CRP gene with an internal deletion"
   ]
  },
  {
   "cell_type": "code",
   "execution_count": 2,
   "metadata": {},
   "outputs": [
    {
     "data": {
      "text/plain": [
       "WeyovdMmqwA4bc9EqEwUDmbo3Lg"
      ]
     },
     "execution_count": 2,
     "metadata": {},
     "output_type": "execute_result"
    }
   ],
   "source": [
    "pYPKpw = read(download_text(\"https://raw.githubusercontent.com/MetabolicEngineeringGroupCBMA/ypk-xylose-pathways/master/notebooks/pYPKpw.gb\"))\n",
    "pYPKpw.cseguid()"
   ]
  },
  {
   "cell_type": "code",
   "execution_count": 3,
   "metadata": {},
   "outputs": [
    {
     "data": {
      "text/html": [
       "<font face=monospace><a href='pYPKpw.gb' target='_blank'>pYPKpw.gb</a></font><br>"
      ]
     },
     "metadata": {},
     "output_type": "display_data"
    }
   ],
   "source": [
    "pYPKpw.write(\"pYPKpw.gb\")"
   ]
  },
  {
   "cell_type": "markdown",
   "metadata": {},
   "source": [
    "We need the fragment defined by the 577 and 578 primers"
   ]
  },
  {
   "cell_type": "code",
   "execution_count": 4,
   "metadata": {},
   "outputs": [],
   "source": [
    "p578, p577 = parse_primers('''\n",
    ">578_crp42-70 (29-mer)                                                                                                                                                                                                                                                                                                                                                                                                                                 \n",
    "gttcttgtctcattgccacattcataagt                                                                                                                                                                                                                                                                                                                                                                                                                          \n",
    "                                                                                                                                                                                                                                                                                                                                                                                                                                                       \n",
    ">577_crp585-557 (29-mer)                                                                                                                                                                                                                                                                                                                                                                                                                               \n",
    "gttctgatcctcgagcatcttaagaattc''')"
   ]
  },
  {
   "cell_type": "code",
   "execution_count": 5,
   "metadata": {},
   "outputs": [],
   "source": [
    "crpd = pcr(p577, p578, pYPKpw.rc())"
   ]
  },
  {
   "cell_type": "code",
   "execution_count": 6,
   "metadata": {},
   "outputs": [
    {
     "data": {
      "text/html": [
       "Amplicon(385)"
      ],
      "text/plain": [
       "Amplicon(385)"
      ]
     },
     "execution_count": 6,
     "metadata": {},
     "output_type": "execute_result"
    }
   ],
   "source": [
    "crpd"
   ]
  },
  {
   "cell_type": "code",
   "execution_count": 7,
   "metadata": {},
   "outputs": [
    {
     "data": {
      "text/plain": [
       "5gttcttgtctcattgccacattcataagt...gaattcttaagatgctcgaggatcagaac3\n",
       "                                 |||||||||||||||||||||||||||||\n",
       "                                3cttaagaattctacgagctcctagtcttg5\n",
       "5gttcttgtctcattgccacattcataagt3\n",
       " |||||||||||||||||||||||||||||\n",
       "3caagaacagagtaacggtgtaagtattca...cttaagaattctacgagctcctagtcttg5"
      ]
     },
     "execution_count": 7,
     "metadata": {},
     "output_type": "execute_result"
    }
   ],
   "source": [
    "crpd.figure()"
   ]
  },
  {
   "cell_type": "code",
   "execution_count": 8,
   "metadata": {},
   "outputs": [],
   "source": [
    "from Bio.Restriction import ZraI, FspAI, EcoRV"
   ]
  },
  {
   "cell_type": "code",
   "execution_count": 9,
   "metadata": {},
   "outputs": [
    {
     "data": {
      "text/plain": [
       "(Dseqrecord(-258), Dseqrecord(-127))"
      ]
     },
     "execution_count": 9,
     "metadata": {},
     "output_type": "execute_result"
    }
   ],
   "source": [
    "crpd.cut(ZraI)"
   ]
  },
  {
   "cell_type": "code",
   "execution_count": 10,
   "metadata": {},
   "outputs": [
    {
     "data": {
      "text/plain": [
       "(Dseqrecord(-251), Dseqrecord(-134))"
      ]
     },
     "execution_count": 10,
     "metadata": {},
     "output_type": "execute_result"
    }
   ],
   "source": [
    "crpd.cut(FspAI)"
   ]
  },
  {
   "cell_type": "code",
   "execution_count": 11,
   "metadata": {},
   "outputs": [
    {
     "data": {
      "text/plain": [
       "(Dseqrecord(-244), Dseqrecord(-141))"
      ]
     },
     "execution_count": 11,
     "metadata": {},
     "output_type": "execute_result"
    }
   ],
   "source": [
    "crpd.cut(EcoRV)"
   ]
  },
  {
   "cell_type": "code",
   "execution_count": 12,
   "metadata": {},
   "outputs": [
    {
     "data": {
      "text/html": [
       "<font face=monospace><a href='crpd.gb' target='_blank'>crpd.gb</a></font><br>"
      ]
     },
     "metadata": {},
     "output_type": "display_data"
    }
   ],
   "source": [
    "crpd.write(\"crpd.gb\")"
   ]
  },
  {
   "cell_type": "code",
   "execution_count": 13,
   "metadata": {},
   "outputs": [],
   "source": [
    "from pydna.parsers import parse_primers"
   ]
  },
  {
   "cell_type": "code",
   "execution_count": 14,
   "metadata": {},
   "outputs": [],
   "source": [
    "fp,rp = parse_primers('''\n",
    "\n",
    ">978_Crp.FW  Crp.FW\n",
    "AACTGTAAAATCAGGTATCTCGTAGTCCGTGTTCTGATCCTCGAGC\n",
    "\n",
    ">977_Crp.REV  Crp.REV\n",
    "TACAATAGAGTTCCGAGGTAAACGCTTTTCGTTCTTGTCTCATTGCC\n",
    "\n",
    "''')"
   ]
  },
  {
   "cell_type": "code",
   "execution_count": 15,
   "metadata": {},
   "outputs": [],
   "source": [
    "from pydna.amplify import pcr"
   ]
  },
  {
   "cell_type": "code",
   "execution_count": 16,
   "metadata": {},
   "outputs": [],
   "source": [
    "tailed_product = pcr(fp,rp,crpd.rc())"
   ]
  },
  {
   "cell_type": "code",
   "execution_count": 17,
   "metadata": {},
   "outputs": [
    {
     "data": {
      "text/html": [
       "Amplicon(445)"
      ],
      "text/plain": [
       "Amplicon(445)"
      ]
     },
     "execution_count": 17,
     "metadata": {},
     "output_type": "execute_result"
    }
   ],
   "source": [
    "tailed_product"
   ]
  },
  {
   "cell_type": "code",
   "execution_count": 18,
   "metadata": {},
   "outputs": [
    {
     "data": {
      "text/plain": [
       "                              5GTTCTGATCCTCGAGC...GGCAATGAGACAAGAAC3\n",
       "                                                  |||||||||||||||||\n",
       "                                                 3CCGTTACTCTGTTCTTGCTTTTCGCAAATGGAGCCTTGAGATAACAT5\n",
       "5AACTGTAAAATCAGGTATCTCGTAGTCCGTGTTCTGATCCTCGAGC3\n",
       "                               ||||||||||||||||\n",
       "                              3CAAGACTAGGAGCTCG...CCGTTACTCTGTTCTTG5"
      ]
     },
     "execution_count": 18,
     "metadata": {},
     "output_type": "execute_result"
    }
   ],
   "source": [
    "tailed_product.figure()"
   ]
  },
  {
   "cell_type": "code",
   "execution_count": 19,
   "metadata": {},
   "outputs": [
    {
     "data": {
      "text/plain": [
       "crp.pickle"
      ]
     },
     "execution_count": 19,
     "metadata": {},
     "output_type": "execute_result"
    }
   ],
   "source": [
    "tailed_product.dump('crp.pickle')"
   ]
  }
 ],
 "metadata": {
  "anaconda-cloud": {},
  "kernelspec": {
   "display_name": "Python [conda env:bjorn39]",
   "language": "python",
   "name": "conda-env-bjorn39-py"
  },
  "language_info": {
   "codemirror_mode": {
    "name": "ipython",
    "version": 3
   },
   "file_extension": ".py",
   "mimetype": "text/x-python",
   "name": "python",
   "nbconvert_exporter": "python",
   "pygments_lexer": "ipython3",
   "version": "3.9.0"
  }
 },
 "nbformat": 4,
 "nbformat_minor": 4
}
