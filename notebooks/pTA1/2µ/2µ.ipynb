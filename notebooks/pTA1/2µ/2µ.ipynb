{
 "cells": [
  {
   "cell_type": "markdown",
   "metadata": {},
   "source": [
    "# 2 micron origin of replication\n",
    "\n",
    "The purpose of this notebook is to define the smallest 2µ sequence that would reliably replicate a plasmid in Saccharomyces cerevisiae.\n",
    "\n",
    "The 2 micron origin comes from the 2 micron circle that can be found in Genbank record: [J01347.1](http://www.ncbi.nlm.nih.gov/nuccore/J01347.1)."
   ]
  },
  {
   "cell_type": "code",
   "execution_count": 9,
   "metadata": {},
   "outputs": [],
   "source": [
    "from pydna.all import *"
   ]
  },
  {
   "cell_type": "code",
   "execution_count": 10,
   "metadata": {},
   "outputs": [],
   "source": [
    "# twomicron = genbank(\"J01347.1\")\n",
    "# twomicron.write(\"2micron.gb\")\n",
    "twomicron = read(\"2micron.gb\")"
   ]
  },
  {
   "cell_type": "markdown",
   "metadata": {},
   "source": [
    "The 2µ sequence used in pYPKpw comes from the pSU0 plasmid:\n",
    "\n",
    "![](pSU0.png)\n",
    "\n",
    "\n",
    "\n",
    "The sequence is available [here](https://www.ncbi.nlm.nih.gov/nuccore/AB215109.1). \n",
    "\n",
    "\n",
    "\n",
    "\n",
    "\n",
    "[paper](https://www.ncbi.nlm.nih.gov/pubmed/16454044)"
   ]
  },
  {
   "cell_type": "code",
   "execution_count": 11,
   "metadata": {},
   "outputs": [],
   "source": [
    "# pSU0 = genbank(\"AB215109.1\")\n",
    "# pSU0.write(\"pSU0.gb\")\n",
    "pSU0 = read(\"pSU0_2µ.gb\")"
   ]
  },
  {
   "cell_type": "markdown",
   "metadata": {},
   "source": [
    "This 2 micron sequence should be the canonical sequence. \n",
    "The acual sequence was amplified from the YEplac112 vector.\n",
    "\n",
    "The shared sequence beween the 2 micron plasmid and the pSU0 was indicated in the pSU0_2µ.gb file as feature \"2micron\".\n",
    "\n",
    "It turns out that the 2 micron sequences in pSU0 and YEplac112 are quite different. The pSU0 sequence is about 471 bp\n",
    "shorter on one side.\n",
    "\n",
    "\n",
    "    atcgtacttgttacccatca ... gcaatgtttgtggaagcggtattcgcaat  1114 bp  pSU0\n",
    "    \n",
    "    atcgtacttgttacccatca .......................... aatgctatcatttcctttgatattggatc  1579 bp  YEplac112\n",
    "    \n",
    "Primers were designed for the YEplac112 sequence"
   ]
  },
  {
   "cell_type": "code",
   "execution_count": 27,
   "metadata": {},
   "outputs": [],
   "source": [
    "from pydna.myprimers import PrimerList\n",
    "p = PrimerList()"
   ]
  },
  {
   "cell_type": "code",
   "execution_count": 21,
   "metadata": {},
   "outputs": [],
   "source": [
    "# YEplac112 = genbank(\"X75458.1\")\n",
    "# YEplac112.write(\"YEplac112.gb\")\n",
    "YEplac112 = read(\"YEplac112.gb\")"
   ]
  },
  {
   "cell_type": "markdown",
   "metadata": {},
   "source": [
    "The primers were designed for the YXplac sequence:"
   ]
  },
  {
   "cell_type": "code",
   "execution_count": 24,
   "metadata": {},
   "outputs": [],
   "source": [
    "product = pcr(p[984], p[983], YEplac112)"
   ]
  },
  {
   "cell_type": "code",
   "execution_count": 26,
   "metadata": {},
   "outputs": [
    {
     "data": {
      "text/plain": [
       "                              5GATCGTACTTGTTACCCAT...TTCCTTTGATATTGGATC3\n",
       "                                                     ||||||||||||||||||\n",
       "                                                    3AAGGAAACTATAACCTAGATTTTAGAGCATTTCCTTGACAGACGAGAC5\n",
       "5ATCGTATCTGCTGCGTAAATAGTAGTCAACGATCGTACTTGTTACCCAT3\n",
       "                               |||||||||||||||||||\n",
       "                              3CTAGCATGAACAATGGGTA...AAGGAAACTATAACCTAG5"
      ]
     },
     "execution_count": 26,
     "metadata": {},
     "output_type": "execute_result"
    }
   ],
   "source": [
    "product.figure()"
   ]
  },
  {
   "cell_type": "code",
   "execution_count": 29,
   "metadata": {},
   "outputs": [
    {
     "name": "stdout",
     "output_type": "stream",
     "text": [
      "ATCGTATCTGCTGCGTAAATAGTAGTCAACGATCGTACTTGTTACCCATCATTGAATTTTGAACATCCGAACCTGGGAGTTTTCCCTGAAACAGATAGTATATTTGAACCTGTATAATAATATATAGTCTAGCGCTTTACGGAAGACAATGTATGTATTTCGGTTCCTGGAGAAACTATTGCATCTATTGCATAGGTAATCTTGCACGTCGCATCCCCGGTTCATTTTCTGCGTTTCCATCTTGCACTTCAATAGCATATCTTTGTTAACGAAGCATCTGTGCTTCATTTTGTAGAACAAAAATGCAACGCGAGAGCGCTAATTTTTCAAACAAAGAATCTGAGCTGCATTTTTACAGAACAGAAATGCAACGCGAAAGCGCTATTTTACCAACGAAGAATCTGTGCTTCATTTTTGTAAAACAAAAATGCAACGCGAGAGCGCTAATTTTTCAAACAAAGAATCTGAGCTGCATTTTTACAGAACAGAAATGCAACGCGAGAGCGCTATTTTACCAACAAAGAATCTATACTTCTTTTTTGTTCTACAAAAATGCATCCCGAGAGCGCTATTTTTCTAACAAAGCATCTTAGATTACTTTTTTTCTCCTTTGTGCGCTCTATAATGCAGTCTCTTGATAACTTTTTGCACTGTAGGTCCGTTAAGGTTAGAAGAAGGCTACTTTGGTGTCTATTTTCTCTTCCATAAAAAAAGCCTGACTCCACTTCCCGCGTTTACTGATTACTAGCGAAGCTGCGGGTGCATTTTTTCAAGATAAAGGCATCCCCGATTATATTCTATACCGATGTGGATTGCGCATACTTTGTGAACAGAAAGTGATAGCGTTGATGATTCTTCATTGGTCAGAAAATTATGAACGGTTTCTTCTATTTTGTCTCTATATACTACGTATAGGAAATGTTTACATTTTCGTATTGTTTTCGATTCACTCTATGAATAGTTCTTACTACAATTTTTTTGTCTAAAGAGTAATACTAGAGATAAACATAAAAAATGTAGAGGTCGAGTTTAGATGCAAGTTCAAGGAGCGAAAGGTGGATGGGTAGGTTATATAGGGATATAGCACAGAGATATATAGCAAAGAGATACTTTTGAGCAATGTTTGTGGAAGCGGTATTCGCAATATTTTAGTAGCTCGTTACAGTCCGGTGCGTTTTTGGTTTTTTGAAAGTGCGTCTTCAGAGCGCTTTTGGTTTTCAAAAGCGCTCTGAAGTTCCTATACTTTCTAGCTAGAGAATAGGAACTTCGGAATAGGAACTTCAAAGCGTTTCCGAAAACGAGCGCTTCCGAAAATGCAACGCGAGCTGCGCACATACAGCTCACTGTTCACGTCGCACCTATATCTGCGTGTTGCCTGTATATATATATACATGAGAAGAACGGCATAGTGCGTGTTTATGCTTAAATGCGTACTTATATGCGTCTATTTATGTAGGATGAAAGGTAGTCTAGTACCTCCTGTGATATTATCCCATTCCATGCGGGGTATCGTATGCTTCCTTCAGCACTACCCTTTAGCTGTTCTATATGCTGCCACTCCTCAATTGGATTAGTCTCATCCTTCAATGCTATCATTTCCTTTGATATTGGATCTAAAATCTCGTAAAGGAACTGTCTGCTCTG\n"
     ]
    }
   ],
   "source": [
    "print(product.seq)"
   ]
  },
  {
   "cell_type": "code",
   "execution_count": null,
   "metadata": {},
   "outputs": [],
   "source": []
  }
 ],
 "metadata": {
  "anaconda-cloud": {},
  "kernelspec": {
   "display_name": "Python [conda env:bjorn39]",
   "language": "python",
   "name": "conda-env-bjorn39-py"
  },
  "language_info": {
   "codemirror_mode": {
    "name": "ipython",
    "version": 3
   },
   "file_extension": ".py",
   "mimetype": "text/x-python",
   "name": "python",
   "nbconvert_exporter": "python",
   "pygments_lexer": "ipython3",
   "version": "3.9.7"
  }
 },
 "nbformat": 4,
 "nbformat_minor": 4
}
