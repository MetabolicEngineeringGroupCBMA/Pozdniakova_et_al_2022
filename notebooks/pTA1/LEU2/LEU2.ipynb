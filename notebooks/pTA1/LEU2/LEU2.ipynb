{
 "cells": [
  {
   "cell_type": "markdown",
   "metadata": {
    "tags": []
   },
   "source": [
    "# YEplac181 sequence\n",
    "\n",
    "The E. coli/S. cerevisiae shuttle vector YEplac181 (5741 bp) was used as a source for the [LEU2](https://www.yeastgenome.org/locus/S000000523) gene. \n",
    "The construction of YEplac181 was described in [Gietz and Sugino 1988](https://pubmed.ncbi.nlm.nih.gov/3073106/).\n",
    "\n",
    "![YEplac181](YEplac181.png)\n",
    "\n",
    "The LEU2 gene in YEplac181 is from the YEp213 plasmid Genbank: [U03499.1](https://www.ncbi.nlm.nih.gov/nuccore/U03499.1) [addgene](https://www.addgene.org/vector-database/4864), but the KpnI and EcoRI sites were removed by site directed mutagenesis.\n",
    "\n",
    "The YEp213 vector is referenced to Sherman et. al 1982, but I was unable to find the source strain of the LEU2 gene.\n",
    "At least two sequences are publicly available for YEplac181. All sequences in that table below are of the same size, but \n",
    "the snapgene sequence below is different from the others.\n",
    "\n",
    "| # | cSEGUID                     | Source                                                                                         |\n",
    "|---|-----------------------------|------------------------------------------------------------------------------------------------|\n",
    "| 1 | -NXceRmkWfFFK2fl4_qPKkNQupU | Genbank X75460.1                                                                               |\n",
    "| 1 | -NXceRmkWfFFK2fl4_qPKkNQupU | Genbank L26354.1 (marked as obsolete in genbank)                                               |\n",
    "| 1 | -NXceRmkWfFFK2fl4_qPKkNQupU | [vectordb](http://genome-www.stanford.edu/vectordb/vector_descrip/COMPLETE/YEPLAC181.SEQ.html) |\n",
    "| 1 | -NXceRmkWfFFK2fl4_qPKkNQupU | [addgene](https://www.addgene.org/browse/sequence_vdb/4893/)                                   |\n",
    "| 2 | pqQARoEt-XNyt1pPylGFP9kBN30 | [snapgene](http://www.snapgene.com/resources/plasmid__files/yeast_plasmids/YEplac181/)         |\n",
    "\n",
    "The LEU2 locus in sequence 1 has twelve sequence variations compared to the reference sequence of s288c.\n",
    "Notably in sequence 1, the first twelve nucleotides of the LEU2 open reading frame are duplicated compared the reference sequence of s288c.\n",
    "\n",
    "    atg tct gcc cct atg tct gcc cct ...   sequence 1\n",
    "                    ATG TCT GCC CCT ...   s288c\n",
    "                     M   S   A   P\n",
    "\n",
    "Sequence 2 does not have this repetition and is has only four sequence variations compared to the reference.\n",
    "\n",
    "The exact LEU2 locus sequence from Sequence 1, ignoring the changes made to remove the restriction sites, can be found in the Genbank record [X03840.1](https://www.ncbi.nlm.nih.gov/nucleotide/X03840.1) and also in the genbank record for [YEp13](https://www.ncbi.nlm.nih.gov/nucleotide/U03498.1).\n",
    "\n",
    "The Sequence 2 was used as a basis for contructing the pTA1.\n",
    "\n",
    "Sequence 2 is available [here](https://gist.github.com/BjornFJohansson/e445e5039d61bdcdf933c435438b4585) genbank format.\n",
    "\n",
    "Sherman, F., Fink, G. and Lawrence, C.W.: Methods in Yeast Genetics. \n",
    "Cold Spring Harbor Laboratory, Cold Spring Harbor, NY, 1982."
   ]
  },
  {
   "cell_type": "code",
   "execution_count": 4,
   "metadata": {},
   "outputs": [],
   "source": [
    "from pydna.all import *"
   ]
  },
  {
   "cell_type": "code",
   "execution_count": 5,
   "metadata": {},
   "outputs": [],
   "source": [
    "plasmid = read(\"YEplac181.gb\")"
   ]
  },
  {
   "cell_type": "code",
   "execution_count": 6,
   "metadata": {},
   "outputs": [],
   "source": [
    "from pydna.myprimers import PrimerList"
   ]
  },
  {
   "cell_type": "code",
   "execution_count": 7,
   "metadata": {},
   "outputs": [],
   "source": [
    "p = PrimerList()"
   ]
  },
  {
   "cell_type": "code",
   "execution_count": 13,
   "metadata": {},
   "outputs": [],
   "source": [
    "product = pcr(p[980],p[979], plasmid)"
   ]
  },
  {
   "cell_type": "code",
   "execution_count": 14,
   "metadata": {},
   "outputs": [
    {
     "data": {
      "text/plain": [
       "                              5TTAACTGTGGGAATACTC...GAATATGTTCATAGGGTAGAA3\n",
       "                                                    |||||||||||||||||||||\n",
       "                                                   3CTTATACAAGTATCCCATCTTTGACATTTTAGTCCATAGAGCATCAGGCA5\n",
       "5TAAAATCTCGTAAAGGAACTGTCTGCTCTGTTAACTGTGGGAATACTC3\n",
       "                               ||||||||||||||||||\n",
       "                              3AATTGACACCCTTATGAG...CTTATACAAGTATCCCATCTT5"
      ]
     },
     "execution_count": 14,
     "metadata": {},
     "output_type": "execute_result"
    }
   ],
   "source": [
    "product.figure()"
   ]
  },
  {
   "cell_type": "code",
   "execution_count": 17,
   "metadata": {},
   "outputs": [
    {
     "data": {
      "text/plain": [
       "LOCUS       1667bp_PCR_prod         1667 bp    DNA     linear   UNK 01-JAN-1980\n",
       "DEFINITION  pcr_product_980_Leu2.FW  Leu2.FW_979_Leu2.REV  Leu2.REV.\n",
       "ACCESSION   1667bp_Q6mf__6DJC0eCiWStZh6zmvf6-c\n",
       "VERSION     1667bp_Q6mf__6DJC0eCiWStZh6zmvf6-c\n",
       "KEYWORDS    .\n",
       "SOURCE      .\n",
       "  ORGANISM  .\n",
       "            .\n",
       "FEATURES             Location/Qualifiers\n",
       "     misc_feature    31..440\n",
       "                     /label=\"leu2prom\"\n",
       "                     /ApEinfo_fwdcolor=\"#a966ff\"\n",
       "                     /ApEinfo_revcolor=\"green\"\n",
       "                     /ApEinfo_graphicformat=\"arrow_data {{0 1 2 0 0 -1} {} 0}\n",
       "                     width 5 offset 0\"\n",
       "     misc_feature    31..48\n",
       "                     /label=\"fp\"\n",
       "                     /ApEinfo_fwdcolor=\"cyan\"\n",
       "                     /ApEinfo_revcolor=\"green\"\n",
       "                     /ApEinfo_graphicformat=\"arrow_data {{0 1 2 0 0 -1} {} 0}\n",
       "                     width 5 offset 0\"\n",
       "     primer_bind     31..48\n",
       "                     /label=\"980_Leu2.FW\"\n",
       "                     /ApEinfo_fwdcolor=\"#baffa3\"\n",
       "                     /ApEinfo_revcolor=\"#ffbaba\"\n",
       "     misc_feature    412..437\n",
       "                     /label=\"dleu2f\"\n",
       "                     /ApEinfo_fwdcolor=\"cyan\"\n",
       "                     /ApEinfo_revcolor=\"green\"\n",
       "                     /ApEinfo_graphicformat=\"arrow_data {{0 1 2 0 0 -1} {} 0}\n",
       "                     width 5 offset 0\"\n",
       "     misc_feature    441..1535\n",
       "                     /label=\"leu2\"\n",
       "                     /ApEinfo_fwdcolor=\"cyan\"\n",
       "                     /ApEinfo_revcolor=\"green\"\n",
       "                     /ApEinfo_graphicformat=\"arrow_data {{0 1 2 0 0 -1} {} 0}\n",
       "                     width 5 offset 0\"\n",
       "     misc_feature    1618..1637\n",
       "                     /label=\"revprimer\"\n",
       "                     /ApEinfo_fwdcolor=\"cyan\"\n",
       "                     /ApEinfo_revcolor=\"green\"\n",
       "                     /ApEinfo_graphicformat=\"arrow_data {{0 1 2 0 0 -1} {} 0}\n",
       "                     width 5 offset 0\"\n",
       "     primer_bind     complement(1618..1638)\n",
       "                     /label=\"979_Leu2.REV\"\n",
       "                     /ApEinfo_fwdcolor=\"#baffa3\"\n",
       "                     /ApEinfo_revcolor=\"#ffbaba\"\n",
       "ORIGIN\n",
       "        1 taaaatctcg taaaggaact gtctgctctg ttaactgtgg gaatactcag gtatcgtaag\n",
       "       61 atgcaagagt tcgaatctct tagcaaccat tatttttttc ctcaacataa cgagaacaca\n",
       "      121 caggggcgct atcgcacaga atcaaattcg atgactggaa attttttgtt aatttcagag\n",
       "      181 gtcgcctgac gcatatacct ttttcaactg aaaaattggg agaaaaagga aaggtgagag\n",
       "      241 ccgcggaacc ggcttttcat atagaataga gaagcgttca tgactaaatg cttgcatcac\n",
       "      301 aatacttgaa gttgacaata ttatttaagg acctattgtt ttttccaata ggtggttagc\n",
       "      361 aatcgtctta ctttctaact tttcttacct tttacatttc agcaatatat atatatatat\n",
       "      421 ttcaaggata taccattcta atgtctgccc ctaagaagat cgtcgttttg ccaggtgacc\n",
       "      481 acgttggtca agaaatcaca gccgaagcca ttaaggttct taaagctatt tctgatgttc\n",
       "      541 gttccaatgt caagttcgat ttcgaaaatc atttaattgg tggtgctgct atcgatgcta\n",
       "      601 caggtgtccc acttccagat gaggcgctgg aagcctccaa gaaggttgat gccgttttgt\n",
       "      661 taggtgctgt gggtggtcct aaatggggta caggtagtgt tagacctgaa caaggtttac\n",
       "      721 taaaaatccg taaagaactt caattgtacg ccaacttaag accatgtaac tttgcatccg\n",
       "      781 actctctttt agacttatct ccaatcaagc cacaatttgc taaaggtact gacttcgttg\n",
       "      841 ttgtcagaga attagtggga ggtatttact ttggtaagag aaaggaagac gatggtgatg\n",
       "      901 gtgtcgcttg ggatagtgaa caatacaccg ttccagaagt gcaaagaatc acaagaatgg\n",
       "      961 ccgctttcat ggccctacaa catgagccac cattgcctat ttggtccttg gataaagcta\n",
       "     1021 atgttttggc ctcttcaaga ttatggagaa aaactgtgga ggaaaccatc aagaacgaat\n",
       "     1081 ttcctacatt gaaggttcaa catcaattga ttgattctgc cgccatgatc ctagttaaga\n",
       "     1141 acccaaccca cctaaatggt attataatca ccagcaacat gtttggtgat atcatctccg\n",
       "     1201 atgaagcctc cgttatccca ggttccttgg gtttgttgcc atctgcgtcc ttggcctctt\n",
       "     1261 tgccagacaa gaacaccgca tttggtttgt acgaaccatg ccacggttct gctccagatt\n",
       "     1321 tgccaaagaa taaggtcaac cctatcgcca ctatcttgtc tgctgcaatg atgttgaaat\n",
       "     1381 tgtcattgaa cttgcctgaa gaaggtaagg ccattgaaga tgcagttaaa aaggttttgg\n",
       "     1441 atgcaggtat cagaactggt gatttaggtg gttccaacag taccacggaa gtcggtgatg\n",
       "     1501 ctgtcgccga agaagttaag aaaatccttg cttaaaaaga ttctcttttt ttatgatatt\n",
       "     1561 tgtacataaa ctttataaat gaaattcata atagaaacga cacgaaatta caaaatggaa\n",
       "     1621 tatgttcata gggtagaaac tgtaaaatca ggtatctcgt agtccgt\n",
       "//"
      ]
     },
     "execution_count": 17,
     "metadata": {},
     "output_type": "execute_result"
    }
   ],
   "source": [
    "product.format()"
   ]
  }
 ],
 "metadata": {
  "anaconda-cloud": {},
  "kernelspec": {
   "display_name": "Python [conda env:bjorn39]",
   "language": "python",
   "name": "conda-env-bjorn39-py"
  },
  "language_info": {
   "codemirror_mode": {
    "name": "ipython",
    "version": 3
   },
   "file_extension": ".py",
   "mimetype": "text/x-python",
   "name": "python",
   "nbconvert_exporter": "python",
   "pygments_lexer": "ipython3",
   "version": "3.9.7"
  }
 },
 "nbformat": 4,
 "nbformat_minor": 4
}
