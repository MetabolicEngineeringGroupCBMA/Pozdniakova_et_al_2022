{
 "cells": [
  {
   "cell_type": "markdown",
   "metadata": {},
   "source": [
    "## pBR322 Origin of Replication\n",
    "\n",
    "I would like to incorporate the pBR322 ori instead of the pUC ori to lower the copy number in E.coli. Maybe this will improve plasmid stability of rescued plasmids.\n",
    "\n",
    "[Addgene blog post on origins of replication](http://blog.addgene.org/plasmid-101-origin-of-replication) \n",
    "\n",
    "[bitesizebio article on plasmid origins of replications](http://bitesizebio.com/21466/article-series-e-coli-plasmid-origins-of-replication-the-origin)\n",
    "\n",
    "[A page explaining the mechanism of plasmid copy number regulation](http://www.sci.sdsu.edu/~smaloy/MicrobialGenetics/topics/plasmids/plasmid-repln.html)\n",
    "\n",
    "There are several origins of replication available from igem:\n",
    "[igem replication_origins](http://parts.igem.org/DNA/Replication_origins)\n",
    "\n",
    "The low copy number of the pBR322 compared to the pUC19 is partly due to the rop gene (see figure below).\n",
    "\n",
    "![](pBR322.jpg)\n",
    "\n",
    "According to the figure a 1915 - 3133 would include both the rep and rop genes. It is not clear whether this fragment includes the promoter for the ROP gene.\n",
    "\n",
    "Most fragments used in plasmids are large, It should be sufficient to add the fragment from \n",
    "the end of the amp gene (3292) to ~50 bp before the shine delgarno sequence of the rop gene (1905).\n"
   ]
  },
  {
   "cell_type": "code",
   "execution_count": 1,
   "metadata": {},
   "outputs": [],
   "source": [
    "from pydna.all import *"
   ]
  },
  {
   "cell_type": "code",
   "execution_count": 2,
   "metadata": {},
   "outputs": [],
   "source": [
    "#pBR322 = genbank(\"J01749.1\")\n",
    "#pBR322.write(\"pBR322.gb\")\n",
    "pBR322 = read(\"pBR322.gb\")"
   ]
  },
  {
   "cell_type": "code",
   "execution_count": 3,
   "metadata": {},
   "outputs": [
    {
     "data": {
      "text/plain": [
       "Dseqrecord(-1437)"
      ]
     },
     "execution_count": 3,
     "metadata": {},
     "output_type": "execute_result"
    }
   ],
   "source": [
    "pbr = pBR322[1905-50:3292].reverse_complement()\n",
    "pbr"
   ]
  },
  {
   "cell_type": "markdown",
   "metadata": {},
   "source": [
    "The direction of the fragment saved below is the forward direction given in pBR322, so it is the reverse complement of a fragment of the pBR322 database sequence."
   ]
  },
  {
   "cell_type": "code",
   "execution_count": 5,
   "metadata": {},
   "outputs": [],
   "source": [
    "from pydna.myprimers import PrimerList\n",
    "p = PrimerList()"
   ]
  },
  {
   "cell_type": "code",
   "execution_count": 6,
   "metadata": {},
   "outputs": [],
   "source": [
    "product = pcr(p[1196], p[1195], pbr)"
   ]
  },
  {
   "cell_type": "code",
   "execution_count": 7,
   "metadata": {},
   "outputs": [
    {
     "data": {
      "text/plain": [
       "                              5CTGTCAGACCAAGTTTACT...ACCGATGAAACGAG3\n",
       "                                                     ||||||||||||||\n",
       "                                                    3TGGCTACTTTGCTCTAGCATAGACGACGCATTTATCATCAGTTG5\n",
       "5AATCCAATCAGCGTAAGGTGTAGACTTTCTCTGTCAGACCAAGTTTACT3\n",
       "                               |||||||||||||||||||\n",
       "                              3GACAGTCTGGTTCAAATGA...TGGCTACTTTGCTC5"
      ]
     },
     "execution_count": 7,
     "metadata": {},
     "output_type": "execute_result"
    }
   ],
   "source": [
    "product.figure()"
   ]
  }
 ],
 "metadata": {
  "anaconda-cloud": {},
  "kernelspec": {
   "display_name": "Python [conda env:bjorn38]",
   "language": "python",
   "name": "conda-env-bjorn38-py"
  },
  "language_info": {
   "codemirror_mode": {
    "name": "ipython",
    "version": 3
   },
   "file_extension": ".py",
   "mimetype": "text/x-python",
   "name": "python",
   "nbconvert_exporter": "python",
   "pygments_lexer": "ipython3",
   "version": "3.8.5"
  }
 },
 "nbformat": 4,
 "nbformat_minor": 4
}
