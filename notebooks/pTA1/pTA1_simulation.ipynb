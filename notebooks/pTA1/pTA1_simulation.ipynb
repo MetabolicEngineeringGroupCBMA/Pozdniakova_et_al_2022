{
 "cells": [
  {
   "cell_type": "markdown",
   "metadata": {},
   "source": [
    "## Design of yeast/E. coli shuttle vector pTA1\n",
    "\n",
    "The pTA1 was made by in-vivo homologous recombination between five DNA fragments \n",
    "carrying 30 bp long flanking recombination sequences (s1 - s5).\n",
    "\n",
    "              s1\n",
    "     -|ampR|30\n",
    "    |       \\/                                           \n",
    "    |       /\\       s2                                  \n",
    "    |       30|pBR|30\n",
    "    |              \\/\n",
    "    |              /\\        s3\n",
    "    |              30|_2µ_|30\n",
    "    |                      \\/\n",
    "    |                      /\\        s4\n",
    "    |                      30|LEU2|30\n",
    "    |                              \\/\n",
    "    |                              /\\        s5\n",
    "    |                              30|ΔCRP|30\n",
    "    |                                      \\/\n",
    "    |                                      /\\\n",
    "    |                                      30-\n",
    "    |                                         |\n",
    "     -----------------------------------------\n",
    "\n",
    "| Designation | Sequence                       |\n",
    "|-------------|--------------------------------|\n",
    "| s1          | AATCCAATCAGCGTAAGGTGTAGACTTTCT |\n",
    "| s2          | ATCGTATCTGCTGCGTAAATAGTAGTCAAC |\n",
    "| s3          | TAAAATCTCGTAAAGGAACTGTCTGCTCTG |\n",
    "| s4          | AACTGTAAAATCAGGTATCTCGTAGTCCGT |\n",
    "| s5          | GAAAAGCGTTTACCTCGGAACTCTATTGTA |\n",
    "\n",
    "\n",
    "\n",
    "| Primer             | Sequence                                                  |\n",
    "|--------------------|-----------------------------------------------------------|\n",
    "| 980_Leu2.FW        | TAAAATCTCGTAAAGGAACTGTCTGCTCTGTTAACTGTGGGAATACTC          |\n",
    "| 979_Leu2.REV       | ACGGACTACGAGATACCTGATTTTACAGTTTCTACCCTATGAACATATTC        |\n",
    "| 1113_Amp.fw.nw     | GAAAAGCGTTTACCTCGGAACTCTATTGTAGAACCCCTATTTGTTTATTTTTCTA   |\n",
    "| 987_Amp.REV        | AGAAAGTCTACACCTTACGCTGATTGGATTTGAAGTTTTAAATCAATCTAAA      |\n",
    "| 1196_Pbr.FW        | AATCCAATCAGCGTAAGGTGTAGACTTTCTCTGTCAGACCAAGTTTACT         |\n",
    "| 1195_Pbr.REV       | GTTGACTACTATTTACGCAGCAGATACGATCTCGTTTCATCGGT              |\n",
    "| 978_Crp.FW         | AACTGTAAAATCAGGTATCTCGTAGTCCGTGTTCTGATCCTCGAGC            |\n",
    "| 977_Crp.REV        | TACAATAGAGTTCCGAGGTAAACGCTTTTCGTTCTTGTCTCATTGCC           |\n",
    "| 984_Micron.FW      | ATCGTATCTGCTGCGTAAATAGTAGTCAACGATCGTACTTGTTACCCAT         |\n",
    "| 983_Micron.REV     | CAGAGCAGACAGTTCCTTTACGAGATTTTAGATCCAATATCAAAGGAA          |\n",
    "\n"
   ]
  },
  {
   "cell_type": "code",
   "execution_count": 1,
   "metadata": {},
   "outputs": [],
   "source": [
    "from pydna.readers import read\n",
    "from pydna.amplify import pcr\n",
    "from pydna.assembly import Assembly\n",
    "from pydna.myprimers import PrimerList\n",
    "p = PrimerList()"
   ]
  },
  {
   "cell_type": "code",
   "execution_count": 2,
   "metadata": {},
   "outputs": [],
   "source": [
    "from io import StringIO"
   ]
  },
  {
   "cell_type": "code",
   "execution_count": 3,
   "metadata": {},
   "outputs": [
    {
     "data": {
      "text/html": [
       "<div>\n",
       "<style scoped>\n",
       "    .dataframe tbody tr th:only-of-type {\n",
       "        vertical-align: middle;\n",
       "    }\n",
       "\n",
       "    .dataframe tbody tr th {\n",
       "        vertical-align: top;\n",
       "    }\n",
       "\n",
       "    .dataframe thead th {\n",
       "        text-align: right;\n",
       "    }\n",
       "</style>\n",
       "<table border=\"1\" class=\"dataframe\">\n",
       "  <thead>\n",
       "    <tr style=\"text-align: right;\">\n",
       "      <th></th>\n",
       "      <th>Primer1</th>\n",
       "      <th>Primer2</th>\n",
       "      <th>Target</th>\n",
       "      <th>Template</th>\n",
       "    </tr>\n",
       "  </thead>\n",
       "  <tbody>\n",
       "    <tr>\n",
       "      <th>0</th>\n",
       "      <td>1113</td>\n",
       "      <td>987</td>\n",
       "      <td>ampR</td>\n",
       "      <td>ampR/pBR322.gb</td>\n",
       "    </tr>\n",
       "    <tr>\n",
       "      <th>1</th>\n",
       "      <td>1196</td>\n",
       "      <td>1195</td>\n",
       "      <td>pBR</td>\n",
       "      <td>pbr/pBR322.gb</td>\n",
       "    </tr>\n",
       "    <tr>\n",
       "      <th>2</th>\n",
       "      <td>984</td>\n",
       "      <td>983</td>\n",
       "      <td>2µ</td>\n",
       "      <td>2µ/YEplac112.gb</td>\n",
       "    </tr>\n",
       "    <tr>\n",
       "      <th>3</th>\n",
       "      <td>980</td>\n",
       "      <td>979</td>\n",
       "      <td>LEU2</td>\n",
       "      <td>LEU2/YEplac181.gb</td>\n",
       "    </tr>\n",
       "    <tr>\n",
       "      <th>4</th>\n",
       "      <td>978</td>\n",
       "      <td>977</td>\n",
       "      <td>CRP∆</td>\n",
       "      <td>crp/pYPKpw.gb</td>\n",
       "    </tr>\n",
       "  </tbody>\n",
       "</table>\n",
       "</div>"
      ],
      "text/plain": [
       "   Primer1  Primer2 Target           Template\n",
       "0     1113      987   ampR     ampR/pBR322.gb\n",
       "1     1196     1195    pBR      pbr/pBR322.gb\n",
       "2      984      983     2µ    2µ/YEplac112.gb\n",
       "3      980      979   LEU2  LEU2/YEplac181.gb\n",
       "4      978      977   CRP∆      crp/pYPKpw.gb"
      ]
     },
     "execution_count": 3,
     "metadata": {},
     "output_type": "execute_result"
    }
   ],
   "source": [
    "from markdown_it import MarkdownIt\n",
    "md = MarkdownIt().enable('table')\n",
    "from pandas import read_html\n",
    "\n",
    "text = (\"\"\"\\\n",
    "| Primer1 | Primer2 | Target | Template          |\n",
    "|---------|---------|--------|-------------------|\n",
    "| 1113    | 987     | ampR   | ampR/pBR322.gb    |\n",
    "| 1196    | 1195    | pBR    | pbr/pBR322.gb     |\n",
    "| 984     | 983     | 2µ     | 2µ/YEplac112.gb   |\n",
    "| 980     | 979     | LEU2   | LEU2/YEplac181.gb |\n",
    "| 978     | 977     | CRP∆   | crp/pYPKpw.gb     |\n",
    "\n",
    "\"\"\")\n",
    "\n",
    "md.parse(text)\n",
    "dfrm, *rest = read_html(md.render(text))\n",
    "dfrm"
   ]
  },
  {
   "cell_type": "code",
   "execution_count": 4,
   "metadata": {},
   "outputs": [],
   "source": [
    "products = []\n",
    "for r, row in dfrm.iterrows():\n",
    "    fp = p[int(row[\"Primer1\"])]\n",
    "    rp = p[int(row[\"Primer2\"])]\n",
    "    template = read(row[\"Template\"])\n",
    "    product = pcr(fp, rp, template)\n",
    "    product.name = row[\"Target\"]\n",
    "    products.append(product)"
   ]
  },
  {
   "cell_type": "code",
   "execution_count": 5,
   "metadata": {},
   "outputs": [],
   "source": [
    "mcs = product"
   ]
  },
  {
   "cell_type": "code",
   "execution_count": 6,
   "metadata": {},
   "outputs": [
    {
     "data": {
      "text/plain": [
       "'CRP∆'"
      ]
     },
     "execution_count": 6,
     "metadata": {},
     "output_type": "execute_result"
    }
   ],
   "source": [
    "product.name"
   ]
  },
  {
   "cell_type": "code",
   "execution_count": 7,
   "metadata": {},
   "outputs": [
    {
     "data": {
      "text/plain": [
       "[Amplicon(1072), Amplicon(1497), Amplicon(1644), Amplicon(1667), Amplicon(445)]"
      ]
     },
     "execution_count": 7,
     "metadata": {},
     "output_type": "execute_result"
    }
   ],
   "source": [
    "products"
   ]
  },
  {
   "cell_type": "code",
   "execution_count": 8,
   "metadata": {},
   "outputs": [],
   "source": [
    "asm = Assembly(products)"
   ]
  },
  {
   "cell_type": "code",
   "execution_count": 9,
   "metadata": {},
   "outputs": [
    {
     "data": {
      "text/plain": [
       "Assembly\n",
       "fragments..: 1072bp 1497bp 1644bp 1667bp 445bp\n",
       "limit(bp)..: 25\n",
       "G.nodes....: 12\n",
       "algorithm..: common_sub_strings"
      ]
     },
     "execution_count": 9,
     "metadata": {},
     "output_type": "execute_result"
    }
   ],
   "source": [
    "asm"
   ]
  },
  {
   "cell_type": "code",
   "execution_count": 10,
   "metadata": {},
   "outputs": [],
   "source": [
    "candidates = asm.assemble_circular()"
   ]
  },
  {
   "cell_type": "code",
   "execution_count": 11,
   "metadata": {},
   "outputs": [
    {
     "data": {
      "text/plain": [
       "[Contig(o6175), Contig(o6175), Contig(o6095), Contig(o6095), Contig(o80)]"
      ]
     },
     "execution_count": 11,
     "metadata": {},
     "output_type": "execute_result"
    }
   ],
   "source": [
    "candidates"
   ]
  },
  {
   "cell_type": "code",
   "execution_count": 12,
   "metadata": {},
   "outputs": [],
   "source": [
    "candidate, *rest = candidates"
   ]
  },
  {
   "cell_type": "code",
   "execution_count": 13,
   "metadata": {},
   "outputs": [
    {
     "data": {
      "text/plain": [
       " -|ampR|30\n",
       "|       \\/\n",
       "|       /\\\n",
       "|       30|CRP∆_rc|30\n",
       "|                  \\/\n",
       "|                  /\\\n",
       "|                  30|LEU2_rc|30\n",
       "|                             \\/\n",
       "|                             /\\\n",
       "|                             30|2µ_rc|30\n",
       "|                                      \\/\n",
       "|                                      /\\\n",
       "|                                      30|pBR|30\n",
       "|                                             \\/\n",
       "|                                             /\\\n",
       "|                                             30-\n",
       "|                                                |\n",
       " ------------------------------------------------"
      ]
     },
     "execution_count": 13,
     "metadata": {},
     "output_type": "execute_result"
    }
   ],
   "source": [
    "candidate.figure()"
   ]
  },
  {
   "cell_type": "code",
   "execution_count": 14,
   "metadata": {},
   "outputs": [
    {
     "data": {
      "text/plain": [
       "6175"
      ]
     },
     "execution_count": 14,
     "metadata": {},
     "output_type": "execute_result"
    }
   ],
   "source": [
    "len(candidate)"
   ]
  },
  {
   "cell_type": "code",
   "execution_count": 15,
   "metadata": {},
   "outputs": [],
   "source": [
    "pTA1 = candidate.synced(\"gttctgatcctcgagcatcttaagaattc\")"
   ]
  },
  {
   "cell_type": "code",
   "execution_count": 16,
   "metadata": {},
   "outputs": [
    {
     "data": {
      "text/plain": [
       "cSEGUID T61GO_ZENT_hjleUKIMiK8XTlUM"
      ]
     },
     "execution_count": 16,
     "metadata": {},
     "output_type": "execute_result"
    }
   ],
   "source": [
    "pTA1.stamp()"
   ]
  },
  {
   "cell_type": "code",
   "execution_count": 17,
   "metadata": {},
   "outputs": [],
   "source": [
    "pTA1.name = \"pTA1\""
   ]
  },
  {
   "cell_type": "code",
   "execution_count": 18,
   "metadata": {},
   "outputs": [],
   "source": [
    "pTA1.description = \"pTA1 ampR pBR 2µ LEU2 ΔCRP µ828\""
   ]
  },
  {
   "cell_type": "code",
   "execution_count": 19,
   "metadata": {},
   "outputs": [
    {
     "data": {
      "text/plain": [
       "RestrictionBatch(['AatII', 'AleI', 'BalI', 'BclI', 'EcoRI', 'FbaI', 'FspAI', 'Ksp22I', 'MlsI', 'MluNI', 'Mox20I', 'MscI', 'Msp20I', 'OliI', 'PaeI', 'PaeR7I', 'PspXI', 'Sfr274I', 'SlaI', 'SphI', 'XbaI', 'XhoI', 'ZraI'])"
      ]
     },
     "execution_count": 19,
     "metadata": {},
     "output_type": "execute_result"
    }
   ],
   "source": [
    "mcs[30:-30].cutters( pTA1.unique_cutters() )"
   ]
  },
  {
   "cell_type": "code",
   "execution_count": 20,
   "metadata": {},
   "outputs": [
    {
     "data": {
      "text/html": [
       "<font face=monospace><a href='pTA1.gb' target='_blank'>pTA1.gb</a></font><br>"
      ]
     },
     "metadata": {},
     "output_type": "display_data"
    }
   ],
   "source": [
    "pTA1.write(\"pTA1.gb\")"
   ]
  }
 ],
 "metadata": {
  "anaconda-cloud": {},
  "kernelspec": {
   "display_name": "Python [conda env:bjorn39]",
   "language": "python",
   "name": "conda-env-bjorn39-py"
  },
  "language_info": {
   "codemirror_mode": {
    "name": "ipython",
    "version": 3
   },
   "file_extension": ".py",
   "mimetype": "text/x-python",
   "name": "python",
   "nbconvert_exporter": "python",
   "pygments_lexer": "ipython3",
   "version": "3.9.7"
  }
 },
 "nbformat": 4,
 "nbformat_minor": 4
}
