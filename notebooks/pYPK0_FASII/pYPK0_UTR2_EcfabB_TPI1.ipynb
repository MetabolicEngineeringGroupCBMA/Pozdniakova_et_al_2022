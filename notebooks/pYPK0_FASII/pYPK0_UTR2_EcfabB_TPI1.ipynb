{
 "cells": [
  {
   "cell_type": "markdown",
   "id": "2f91a62b",
   "metadata": {},
   "source": [
    "# pYPK0_UTR2_EcfabB_TPI1\n",
    "\n",
    "This notebook describes the assembly of the [_Saccaromyces cerevisiae_](www.yeastgenome.org)\n",
    "single gene expression vector pYPK0_UTR2_EcfabB_TPI1.\n",
    "\n",
    "It is made by _in-vivo_ homologous recombination between three PCR products and one linear vector fragment.\n",
    "The PCR products are a promoter generated from a pYPK_Z vector, a gene from a pYPKa_A vector and\n",
    "a terminator from a pYPKa_E vector. The three PCR products are joined with\n",
    "a linearized [pYPKpw](https://github.com/BjornFJohansson/ypk-xylose-pathways/blob/master/notebooks/pYPKpw.ipynb)\n",
    "backbone vector that has the [URA3](http://www.yeastgenome.org/locus/S000000747/overview)\n",
    "marker and a _S. crevisiae_ [2 micron](http://blog.addgene.org/plasmids-101-yeast-vectors) origin of replication.\n",
    "\n",
    "The four linear DNA fragments are joined by homologous recombination in a\n",
    "[_Saccharomyces cerevisiae_](http://wiki.yeastgenome.org/index.php/Commonly_used_strains) ura3 mutant.\n",
    "\n",
    "![pYPK0_promoter_gene_terminator](tp_g_tp.png \"pYPK0_promoter_gene_terminator\")\n",
    "\n",
    "A part of the [pydna](https://pypi.python.org/pypi/pydna/) package is imported in the code cell below."
   ]
  },
  {
   "cell_type": "code",
   "execution_count": 1,
   "id": "e9695d0a",
   "metadata": {
    "execution": {
     "iopub.execute_input": "2022-03-06T17:32:09.657548Z",
     "iopub.status.busy": "2022-03-06T17:32:09.656758Z",
     "iopub.status.idle": "2022-03-06T17:32:10.130345Z",
     "shell.execute_reply": "2022-03-06T17:32:10.129743Z"
    }
   },
   "outputs": [],
   "source": [
    "from pydna.parsers import parse_primers\n",
    "from pydna.readers import read\n",
    "from pydna.amplify import pcr\n",
    "from pydna.assembly import Assembly"
   ]
  },
  {
   "cell_type": "markdown",
   "id": "1763c977",
   "metadata": {},
   "source": [
    "The Yeast Pathway Kit [standard primers](standard_primers.txt) are read into a dictionary in the code cell below."
   ]
  },
  {
   "cell_type": "code",
   "execution_count": 2,
   "id": "a007dff4",
   "metadata": {
    "execution": {
     "iopub.execute_input": "2022-03-06T17:32:10.133545Z",
     "iopub.status.busy": "2022-03-06T17:32:10.133287Z",
     "iopub.status.idle": "2022-03-06T17:32:10.152952Z",
     "shell.execute_reply": "2022-03-06T17:32:10.152321Z"
    }
   },
   "outputs": [],
   "source": [
    "p = { x.id: x for x in parse_primers(\"standard_primers.txt\") }"
   ]
  },
  {
   "cell_type": "markdown",
   "id": "c9646b20",
   "metadata": {},
   "source": [
    "The backbone vector [pYPKpw](pYPKpw.gb) is read from a local file in the code cell below."
   ]
  },
  {
   "cell_type": "code",
   "execution_count": 3,
   "id": "4adab41c",
   "metadata": {
    "execution": {
     "iopub.execute_input": "2022-03-06T17:32:10.155998Z",
     "iopub.status.busy": "2022-03-06T17:32:10.155748Z",
     "iopub.status.idle": "2022-03-06T17:32:10.169862Z",
     "shell.execute_reply": "2022-03-06T17:32:10.169147Z"
    }
   },
   "outputs": [],
   "source": [
    "pYPKpw = read(\"pYPKpw.gb\")"
   ]
  },
  {
   "cell_type": "markdown",
   "id": "6eb94a12",
   "metadata": {},
   "source": [
    "The backbone vector is linearized by digestion with [EcoRV](http://rebase.neb.com/rebase/enz/EcoRV.html).\n",
    "The restriction enzyme functionality is provided by [biopython](http://biopython.org)."
   ]
  },
  {
   "cell_type": "code",
   "execution_count": 4,
   "id": "42e0a4b1",
   "metadata": {
    "execution": {
     "iopub.execute_input": "2022-03-06T17:32:10.172750Z",
     "iopub.status.busy": "2022-03-06T17:32:10.172529Z",
     "iopub.status.idle": "2022-03-06T17:32:10.184226Z",
     "shell.execute_reply": "2022-03-06T17:32:10.183397Z"
    }
   },
   "outputs": [],
   "source": [
    "from Bio.Restriction import EcoRV\n",
    "\n",
    "pYPK_EcoRV = pYPKpw.linearize(EcoRV)"
   ]
  },
  {
   "cell_type": "markdown",
   "id": "90d8e47e",
   "metadata": {},
   "source": [
    "The pYPKa derived _E. coli_ plasmids containing [promoter](pYPKa_Z_UTR2.gb), [gene](pYPKa_A_EcfabB.gb) and [terminator](pYPKa_E_TPI1.gb)\n",
    "are read into three variables below."
   ]
  },
  {
   "cell_type": "code",
   "execution_count": 5,
   "id": "ac871c96",
   "metadata": {
    "execution": {
     "iopub.execute_input": "2022-03-06T17:32:10.188135Z",
     "iopub.status.busy": "2022-03-06T17:32:10.187480Z",
     "iopub.status.idle": "2022-03-06T17:32:10.199211Z",
     "shell.execute_reply": "2022-03-06T17:32:10.198603Z"
    }
   },
   "outputs": [],
   "source": [
    "promoter_template   = read(\"pYPKa_Z_UTR2.gb\")\n",
    "gene_template       = read(\"pYPKa_A_EcfabB.gb\")\n",
    "terminator_template = read(\"pYPKa_E_TPI1.gb\")"
   ]
  },
  {
   "cell_type": "markdown",
   "id": "906a63db",
   "metadata": {},
   "source": [
    "The construction of the three vector above are described in the [pYPKa_ZE_UTR2](pYPKa_ZE_UTR2.ipynb) and [pYPKa_A_EcfabB](pYPKa_A_EcfabB.ipynb) notebooks.\n",
    "\n",
    "Three DNA fragments are PCR amplified using [standard primers](standard_primers.txt). Suggested PCR programs can be found at the end of this document."
   ]
  },
  {
   "cell_type": "code",
   "execution_count": 6,
   "id": "633495bc",
   "metadata": {
    "execution": {
     "iopub.execute_input": "2022-03-06T17:32:10.202494Z",
     "iopub.status.busy": "2022-03-06T17:32:10.202270Z",
     "iopub.status.idle": "2022-03-06T17:32:10.235899Z",
     "shell.execute_reply": "2022-03-06T17:32:10.235234Z"
    }
   },
   "outputs": [],
   "source": [
    "prom = pcr( p['577'], p['567'], promoter_template)\n",
    "gene = pcr( p['468'], p['467'], gene_template)\n",
    "term = pcr( p['568'], p['578'], terminator_template)"
   ]
  },
  {
   "cell_type": "markdown",
   "id": "a9143366",
   "metadata": {},
   "source": [
    "The four linear DNA fragments are mixed and transformed\n",
    "to a _Saccharomyces cerevisiae_ ura3 mutant.\n",
    "\n",
    "The fragments will be assembled by _in-vivo_ [homologous recombination](http://www.ncbi.nlm.nih.gov/pubmed/2828185):"
   ]
  },
  {
   "cell_type": "code",
   "execution_count": 7,
   "id": "7d79c55c",
   "metadata": {
    "execution": {
     "iopub.execute_input": "2022-03-06T17:32:10.238864Z",
     "iopub.status.busy": "2022-03-06T17:32:10.238632Z",
     "iopub.status.idle": "2022-03-06T17:32:10.860994Z",
     "shell.execute_reply": "2022-03-06T17:32:10.860014Z"
    }
   },
   "outputs": [
    {
     "data": {
      "text/plain": [
       "Assembly\n",
       "fragments..: 5603bp 852bp 1310bp 922bp\n",
       "limit(bp)..: 31\n",
       "G.nodes....: 8\n",
       "algorithm..: common_sub_strings"
      ]
     },
     "execution_count": 7,
     "metadata": {},
     "output_type": "execute_result"
    }
   ],
   "source": [
    "asm = Assembly( (pYPK_EcoRV, prom, gene, term), limit=31 )\n",
    "\n",
    "asm"
   ]
  },
  {
   "cell_type": "markdown",
   "id": "dd9330a4",
   "metadata": {},
   "source": [
    "The representation of the asm object above should normally indicate one circcular product only.\n",
    "More than one circular products might indicate an incorrect assembly strategy or represent\n",
    "by-products that might arise in the assembly process.\n",
    "The largest recombination product is chosen as candidate for the pYPK0_UTR2_EcfabB_TPI1 vector."
   ]
  },
  {
   "cell_type": "code",
   "execution_count": 8,
   "id": "2d51dd32",
   "metadata": {
    "execution": {
     "iopub.execute_input": "2022-03-06T17:32:10.864466Z",
     "iopub.status.busy": "2022-03-06T17:32:10.864262Z",
     "iopub.status.idle": "2022-03-06T17:32:11.134312Z",
     "shell.execute_reply": "2022-03-06T17:32:11.133641Z"
    }
   },
   "outputs": [
    {
     "data": {
      "text/plain": [
       " -|pYPKpw_lin|124\n",
       "|             \\/\n",
       "|             /\\\n",
       "|             124|852bp_PCR_prod|50\n",
       "|                                \\/\n",
       "|                                /\\\n",
       "|                                50|1310bp_PCR_prod|37\n",
       "|                                                   \\/\n",
       "|                                                   /\\\n",
       "|                                                   37|922bp_PCR_prod|242\n",
       "|                                                                     \\/\n",
       "|                                                                     /\\\n",
       "|                                                                     242-\n",
       "|                                                                        |\n",
       " ------------------------------------------------------------------------"
      ]
     },
     "execution_count": 8,
     "metadata": {},
     "output_type": "execute_result"
    }
   ],
   "source": [
    "candidate = asm.assemble_circular()[0]\n",
    "\n",
    "candidate.figure()"
   ]
  },
  {
   "cell_type": "markdown",
   "id": "714b85cf",
   "metadata": {},
   "source": [
    "The candidate vector is synchronized to the 577 primer. This means that\n",
    "the plasmid origin is shifted so that it matches the backbone vector."
   ]
  },
  {
   "cell_type": "code",
   "execution_count": 9,
   "id": "d6e6192f",
   "metadata": {
    "execution": {
     "iopub.execute_input": "2022-03-06T17:32:11.136869Z",
     "iopub.status.busy": "2022-03-06T17:32:11.136631Z",
     "iopub.status.idle": "2022-03-06T17:32:11.588972Z",
     "shell.execute_reply": "2022-03-06T17:32:11.588315Z"
    }
   },
   "outputs": [],
   "source": [
    "result = candidate.synced(\"gttctgatcctcgagcatcttaagaattc\")"
   ]
  },
  {
   "cell_type": "markdown",
   "id": "f4ceefa4",
   "metadata": {},
   "source": [
    "### Diagnostic PCR confirmation\n",
    "\n",
    "The structure of the final vector is confirmed by two\n",
    "separate PCR reactions, one for the promoter and gene and\n",
    "one for the gene and terminator.\n",
    "\n",
    "PCR using standard primers 577 and 467 to amplify promoter and gene."
   ]
  },
  {
   "cell_type": "code",
   "execution_count": 10,
   "id": "0fd50599",
   "metadata": {
    "execution": {
     "iopub.execute_input": "2022-03-06T17:32:11.591781Z",
     "iopub.status.busy": "2022-03-06T17:32:11.591594Z",
     "iopub.status.idle": "2022-03-06T17:32:11.622126Z",
     "shell.execute_reply": "2022-03-06T17:32:11.621568Z"
    }
   },
   "outputs": [],
   "source": [
    "product = pcr( p['577'], p['467'], result)"
   ]
  },
  {
   "cell_type": "markdown",
   "id": "01571877",
   "metadata": {},
   "source": [
    "A correct clone should give this size in base pairs:"
   ]
  },
  {
   "cell_type": "code",
   "execution_count": 11,
   "id": "bf4e76d1",
   "metadata": {
    "execution": {
     "iopub.execute_input": "2022-03-06T17:32:11.624999Z",
     "iopub.status.busy": "2022-03-06T17:32:11.624752Z",
     "iopub.status.idle": "2022-03-06T17:32:11.628486Z",
     "shell.execute_reply": "2022-03-06T17:32:11.627826Z"
    }
   },
   "outputs": [
    {
     "name": "stdout",
     "output_type": "stream",
     "text": [
      "2112\n"
     ]
    }
   ],
   "source": [
    "print(len(product))"
   ]
  },
  {
   "cell_type": "markdown",
   "id": "ca32d9b2",
   "metadata": {},
   "source": [
    "If the promoter is missing from the assembly, the PCR product will have this size in base pairs:"
   ]
  },
  {
   "cell_type": "code",
   "execution_count": 12,
   "id": "63d0c953",
   "metadata": {
    "execution": {
     "iopub.execute_input": "2022-03-06T17:32:11.633783Z",
     "iopub.status.busy": "2022-03-06T17:32:11.633398Z",
     "iopub.status.idle": "2022-03-06T17:32:11.638524Z",
     "shell.execute_reply": "2022-03-06T17:32:11.637670Z"
    }
   },
   "outputs": [
    {
     "name": "stdout",
     "output_type": "stream",
     "text": [
      "1260\n"
     ]
    }
   ],
   "source": [
    "print(len(product) - len(prom))"
   ]
  },
  {
   "cell_type": "markdown",
   "id": "da5c40f9",
   "metadata": {},
   "source": [
    "If the gene is missing from the assembly, the PCR product will have this size in base pairs:"
   ]
  },
  {
   "cell_type": "code",
   "execution_count": 13,
   "id": "fa0f70cd",
   "metadata": {
    "execution": {
     "iopub.execute_input": "2022-03-06T17:32:11.641789Z",
     "iopub.status.busy": "2022-03-06T17:32:11.641487Z",
     "iopub.status.idle": "2022-03-06T17:32:11.651234Z",
     "shell.execute_reply": "2022-03-06T17:32:11.650226Z"
    }
   },
   "outputs": [
    {
     "name": "stdout",
     "output_type": "stream",
     "text": [
      "802\n"
     ]
    }
   ],
   "source": [
    "print(len(product) - len(gene))"
   ]
  },
  {
   "cell_type": "markdown",
   "id": "28931360",
   "metadata": {},
   "source": [
    "PCR using standard primers 468 and 578 to amplify gene and terminator."
   ]
  },
  {
   "cell_type": "code",
   "execution_count": 14,
   "id": "523990a0",
   "metadata": {
    "execution": {
     "iopub.execute_input": "2022-03-06T17:32:11.654553Z",
     "iopub.status.busy": "2022-03-06T17:32:11.654345Z",
     "iopub.status.idle": "2022-03-06T17:32:11.686085Z",
     "shell.execute_reply": "2022-03-06T17:32:11.685022Z"
    }
   },
   "outputs": [],
   "source": [
    "product2 = pcr( p['468'], p['578'], result)"
   ]
  },
  {
   "cell_type": "markdown",
   "id": "f99273a6",
   "metadata": {},
   "source": [
    "A correct clone should give this size:"
   ]
  },
  {
   "cell_type": "code",
   "execution_count": 15,
   "id": "65e5e18c",
   "metadata": {
    "execution": {
     "iopub.execute_input": "2022-03-06T17:32:11.688871Z",
     "iopub.status.busy": "2022-03-06T17:32:11.688645Z",
     "iopub.status.idle": "2022-03-06T17:32:11.692073Z",
     "shell.execute_reply": "2022-03-06T17:32:11.691428Z"
    }
   },
   "outputs": [
    {
     "name": "stdout",
     "output_type": "stream",
     "text": [
      "2195\n"
     ]
    }
   ],
   "source": [
    "print(len(product2))"
   ]
  },
  {
   "cell_type": "markdown",
   "id": "926564b4",
   "metadata": {},
   "source": [
    "If the gene is missing from the assembly, the PCR product will have this size in base pairs:"
   ]
  },
  {
   "cell_type": "code",
   "execution_count": 16,
   "id": "c3469840",
   "metadata": {
    "execution": {
     "iopub.execute_input": "2022-03-06T17:32:11.696011Z",
     "iopub.status.busy": "2022-03-06T17:32:11.695693Z",
     "iopub.status.idle": "2022-03-06T17:32:11.700769Z",
     "shell.execute_reply": "2022-03-06T17:32:11.699885Z"
    }
   },
   "outputs": [
    {
     "name": "stdout",
     "output_type": "stream",
     "text": [
      "885\n"
     ]
    }
   ],
   "source": [
    "print(len(product2) - len(gene))"
   ]
  },
  {
   "cell_type": "markdown",
   "id": "6f2c0464",
   "metadata": {},
   "source": [
    "If the terminator is missing from the assembly, the PCR product will have this size in base pairs:"
   ]
  },
  {
   "cell_type": "code",
   "execution_count": 17,
   "id": "a0390760",
   "metadata": {
    "execution": {
     "iopub.execute_input": "2022-03-06T17:32:11.704337Z",
     "iopub.status.busy": "2022-03-06T17:32:11.704072Z",
     "iopub.status.idle": "2022-03-06T17:32:11.707974Z",
     "shell.execute_reply": "2022-03-06T17:32:11.707401Z"
    }
   },
   "outputs": [
    {
     "name": "stdout",
     "output_type": "stream",
     "text": [
      "1273\n"
     ]
    }
   ],
   "source": [
    "print(len(product2) - len(term))"
   ]
  },
  {
   "cell_type": "markdown",
   "id": "0574a400",
   "metadata": {},
   "source": [
    "The cseguid checksum for the resulting plasmid is calculated for future reference.\n",
    "The [cseguid checksum](http://pydna.readthedocs.org/en/latest/pydna.html#pydna.utils.cseguid)\n",
    "uniquely identifies a circular double stranded sequence."
   ]
  },
  {
   "cell_type": "code",
   "execution_count": 18,
   "id": "bcbb42d9",
   "metadata": {
    "execution": {
     "iopub.execute_input": "2022-03-06T17:32:11.719309Z",
     "iopub.status.busy": "2022-03-06T17:32:11.718628Z",
     "iopub.status.idle": "2022-03-06T17:32:11.731610Z",
     "shell.execute_reply": "2022-03-06T17:32:11.730984Z"
    }
   },
   "outputs": [
    {
     "data": {
      "text/plain": [
       "bNFrBIY_UaYTnBius8Td4ve2szw"
      ]
     },
     "execution_count": 18,
     "metadata": {},
     "output_type": "execute_result"
    }
   ],
   "source": [
    "result.cseguid()"
   ]
  },
  {
   "cell_type": "markdown",
   "id": "7544c8f9",
   "metadata": {},
   "source": [
    "The file is named based on the nemas of promoter, gene and terminator."
   ]
  },
  {
   "cell_type": "code",
   "execution_count": 19,
   "id": "486a4095",
   "metadata": {
    "execution": {
     "iopub.execute_input": "2022-03-06T17:32:11.734503Z",
     "iopub.status.busy": "2022-03-06T17:32:11.734305Z",
     "iopub.status.idle": "2022-03-06T17:32:11.737367Z",
     "shell.execute_reply": "2022-03-06T17:32:11.736643Z"
    }
   },
   "outputs": [],
   "source": [
    "result.locus = \"pYPK0_tp_g_tp\"\n",
    "result.definition = \"pYPK0_UTR2_EcfabB_TPI1\""
   ]
  },
  {
   "cell_type": "markdown",
   "id": "143bd4ff",
   "metadata": {},
   "source": [
    "Sequence is stamped with cseguid checksum. This can be used to verify the\n",
    "integrity of the sequence file."
   ]
  },
  {
   "cell_type": "code",
   "execution_count": 20,
   "id": "b7680c6c",
   "metadata": {
    "execution": {
     "iopub.execute_input": "2022-03-06T17:32:11.740931Z",
     "iopub.status.busy": "2022-03-06T17:32:11.740604Z",
     "iopub.status.idle": "2022-03-06T17:32:11.758180Z",
     "shell.execute_reply": "2022-03-06T17:32:11.757233Z"
    }
   },
   "outputs": [
    {
     "data": {
      "text/plain": [
       "cSEGUID_bNFrBIY_UaYTnBius8Td4ve2szw"
      ]
     },
     "execution_count": 20,
     "metadata": {},
     "output_type": "execute_result"
    }
   ],
   "source": [
    "result.stamp()"
   ]
  },
  {
   "cell_type": "markdown",
   "id": "ee2d5547",
   "metadata": {},
   "source": [
    "Write sequence to a local file."
   ]
  },
  {
   "cell_type": "code",
   "execution_count": 21,
   "id": "3e24037e",
   "metadata": {
    "execution": {
     "iopub.execute_input": "2022-03-06T17:32:11.761703Z",
     "iopub.status.busy": "2022-03-06T17:32:11.761195Z",
     "iopub.status.idle": "2022-03-06T17:32:11.774228Z",
     "shell.execute_reply": "2022-03-06T17:32:11.772599Z"
    }
   },
   "outputs": [
    {
     "data": {
      "text/html": [
       "<font face=monospace><a href='pYPK0_UTR2_EcfabB_TPI1.gb' target='_blank'>pYPK0_UTR2_EcfabB_TPI1.gb</a></font><br>"
      ]
     },
     "metadata": {},
     "output_type": "display_data"
    }
   ],
   "source": [
    "result.write(\"pYPK0_UTR2_EcfabB_TPI1.gb\")"
   ]
  },
  {
   "cell_type": "markdown",
   "id": "d8f1977e",
   "metadata": {},
   "source": [
    "## PCR programs for the amplification of Promoter, Gene and Terminator\n",
    "\n",
    "see cell #6\n",
    "\n",
    "Promoter"
   ]
  },
  {
   "cell_type": "code",
   "execution_count": 22,
   "id": "6f5f25ce",
   "metadata": {
    "execution": {
     "iopub.execute_input": "2022-03-06T17:32:11.779739Z",
     "iopub.status.busy": "2022-03-06T17:32:11.779146Z",
     "iopub.status.idle": "2022-03-06T17:32:11.787964Z",
     "shell.execute_reply": "2022-03-06T17:32:11.787322Z"
    }
   },
   "outputs": [
    {
     "data": {
      "text/plain": [
       "|95°C|95°C               |    |tmf:64.6\n",
       "|____|_____          72°C|72°C|tmr:69.7\n",
       "|3min|30s  \\ 57.6°C _____|____|45s/kb\n",
       "|    |      \\______/ 0:38|5min|GC 40%\n",
       "|    |       30s         |    |852bp"
      ]
     },
     "execution_count": 22,
     "metadata": {},
     "output_type": "execute_result"
    }
   ],
   "source": [
    "prom.program()"
   ]
  },
  {
   "cell_type": "markdown",
   "id": "9f4d8f7c",
   "metadata": {},
   "source": [
    "Gene"
   ]
  },
  {
   "cell_type": "code",
   "execution_count": 23,
   "id": "e4c4640b",
   "metadata": {
    "execution": {
     "iopub.execute_input": "2022-03-06T17:32:11.790933Z",
     "iopub.status.busy": "2022-03-06T17:32:11.790611Z",
     "iopub.status.idle": "2022-03-06T17:32:11.798726Z",
     "shell.execute_reply": "2022-03-06T17:32:11.798103Z"
    }
   },
   "outputs": [
    {
     "data": {
      "text/plain": [
       "|95°C|95°C               |    |tmf:76.9\n",
       "|____|_____          72°C|72°C|tmr:67.9\n",
       "|3min|30s  \\ 63.2°C _____|____|45s/kb\n",
       "|    |      \\______/ 0:58|5min|GC 56%\n",
       "|    |       30s         |    |1310bp"
      ]
     },
     "execution_count": 23,
     "metadata": {},
     "output_type": "execute_result"
    }
   ],
   "source": [
    "gene.program()"
   ]
  },
  {
   "cell_type": "markdown",
   "id": "d962245c",
   "metadata": {},
   "source": [
    "Terminator"
   ]
  },
  {
   "cell_type": "code",
   "execution_count": 24,
   "id": "e6190f94",
   "metadata": {
    "execution": {
     "iopub.execute_input": "2022-03-06T17:32:11.801656Z",
     "iopub.status.busy": "2022-03-06T17:32:11.801400Z",
     "iopub.status.idle": "2022-03-06T17:32:11.806041Z",
     "shell.execute_reply": "2022-03-06T17:32:11.805138Z"
    }
   },
   "outputs": [
    {
     "data": {
      "text/plain": [
       "|95°C|95°C               |    |tmf:66.1\n",
       "|____|_____          72°C|72°C|tmr:65.0\n",
       "|3min|30s  \\ 57.2°C _____|____|45s/kb\n",
       "|    |      \\______/ 0:41|5min|GC 38%\n",
       "|    |       30s         |    |922bp"
      ]
     },
     "execution_count": 24,
     "metadata": {},
     "output_type": "execute_result"
    }
   ],
   "source": [
    "term.program()"
   ]
  }
 ],
 "metadata": {
  "language_info": {
   "codemirror_mode": {
    "name": "ipython",
    "version": 3
   },
   "file_extension": ".py",
   "mimetype": "text/x-python",
   "name": "python",
   "nbconvert_exporter": "python",
   "pygments_lexer": "ipython3",
   "version": "3.9.7"
  }
 },
 "nbformat": 4,
 "nbformat_minor": 5
}
