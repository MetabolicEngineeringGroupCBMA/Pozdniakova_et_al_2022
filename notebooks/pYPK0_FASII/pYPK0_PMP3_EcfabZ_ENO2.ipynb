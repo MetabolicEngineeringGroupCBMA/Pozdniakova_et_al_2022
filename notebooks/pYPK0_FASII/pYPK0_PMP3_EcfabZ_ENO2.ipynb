{
 "cells": [
  {
   "cell_type": "markdown",
   "id": "3dbb9a4c",
   "metadata": {},
   "source": [
    "# pYPK0_PMP3_EcfabZ_ENO2\n",
    "\n",
    "This notebook describes the assembly of the [_Saccaromyces cerevisiae_](www.yeastgenome.org)\n",
    "single gene expression vector pYPK0_PMP3_EcfabZ_ENO2.\n",
    "\n",
    "It is made by _in-vivo_ homologous recombination between three PCR products and one linear vector fragment.\n",
    "The PCR products are a promoter generated from a pYPK_Z vector, a gene from a pYPKa_A vector and\n",
    "a terminator from a pYPKa_E vector. The three PCR products are joined with\n",
    "a linearized [pYPKpw](https://github.com/BjornFJohansson/ypk-xylose-pathways/blob/master/notebooks/pYPKpw.ipynb)\n",
    "backbone vector that has the [URA3](http://www.yeastgenome.org/locus/S000000747/overview)\n",
    "marker and a _S. crevisiae_ [2 micron](http://blog.addgene.org/plasmids-101-yeast-vectors) origin of replication.\n",
    "\n",
    "The four linear DNA fragments are joined by homologous recombination in a\n",
    "[_Saccharomyces cerevisiae_](http://wiki.yeastgenome.org/index.php/Commonly_used_strains) ura3 mutant.\n",
    "\n",
    "![pYPK0_promoter_gene_terminator](tp_g_tp.png \"pYPK0_promoter_gene_terminator\")\n",
    "\n",
    "A part of the [pydna](https://pypi.python.org/pypi/pydna/) package is imported in the code cell below."
   ]
  },
  {
   "cell_type": "code",
   "execution_count": 1,
   "id": "4805b6fc",
   "metadata": {
    "execution": {
     "iopub.execute_input": "2022-03-06T17:32:17.178786Z",
     "iopub.status.busy": "2022-03-06T17:32:17.178327Z",
     "iopub.status.idle": "2022-03-06T17:32:17.654623Z",
     "shell.execute_reply": "2022-03-06T17:32:17.653505Z"
    }
   },
   "outputs": [],
   "source": [
    "from pydna.parsers import parse_primers\n",
    "from pydna.readers import read\n",
    "from pydna.amplify import pcr\n",
    "from pydna.assembly import Assembly"
   ]
  },
  {
   "cell_type": "markdown",
   "id": "49bbae66",
   "metadata": {},
   "source": [
    "The Yeast Pathway Kit [standard primers](standard_primers.txt) are read into a dictionary in the code cell below."
   ]
  },
  {
   "cell_type": "code",
   "execution_count": 2,
   "id": "e3f50c16",
   "metadata": {
    "execution": {
     "iopub.execute_input": "2022-03-06T17:32:17.658152Z",
     "iopub.status.busy": "2022-03-06T17:32:17.657776Z",
     "iopub.status.idle": "2022-03-06T17:32:17.673420Z",
     "shell.execute_reply": "2022-03-06T17:32:17.672825Z"
    }
   },
   "outputs": [],
   "source": [
    "p = { x.id: x for x in parse_primers(\"standard_primers.txt\") }"
   ]
  },
  {
   "cell_type": "markdown",
   "id": "b8af847c",
   "metadata": {},
   "source": [
    "The backbone vector [pYPKpw](pYPKpw.gb) is read from a local file in the code cell below."
   ]
  },
  {
   "cell_type": "code",
   "execution_count": 3,
   "id": "761bd6b6",
   "metadata": {
    "execution": {
     "iopub.execute_input": "2022-03-06T17:32:17.678482Z",
     "iopub.status.busy": "2022-03-06T17:32:17.676550Z",
     "iopub.status.idle": "2022-03-06T17:32:17.699507Z",
     "shell.execute_reply": "2022-03-06T17:32:17.698894Z"
    }
   },
   "outputs": [],
   "source": [
    "pYPKpw = read(\"pYPKpw.gb\")"
   ]
  },
  {
   "cell_type": "markdown",
   "id": "965d8821",
   "metadata": {},
   "source": [
    "The backbone vector is linearized by digestion with [EcoRV](http://rebase.neb.com/rebase/enz/EcoRV.html).\n",
    "The restriction enzyme functionality is provided by [biopython](http://biopython.org)."
   ]
  },
  {
   "cell_type": "code",
   "execution_count": 4,
   "id": "b0efaf98",
   "metadata": {
    "execution": {
     "iopub.execute_input": "2022-03-06T17:32:17.702376Z",
     "iopub.status.busy": "2022-03-06T17:32:17.702183Z",
     "iopub.status.idle": "2022-03-06T17:32:17.708325Z",
     "shell.execute_reply": "2022-03-06T17:32:17.707574Z"
    }
   },
   "outputs": [],
   "source": [
    "from Bio.Restriction import EcoRV\n",
    "\n",
    "pYPK_EcoRV = pYPKpw.linearize(EcoRV)"
   ]
  },
  {
   "cell_type": "markdown",
   "id": "1f2d36dc",
   "metadata": {},
   "source": [
    "The pYPKa derived _E. coli_ plasmids containing [promoter](pYPKa_Z_PMP3.gb), [gene](pYPKa_A_EcfabZ.gb) and [terminator](pYPKa_E_ENO2.gb)\n",
    "are read into three variables below."
   ]
  },
  {
   "cell_type": "code",
   "execution_count": 5,
   "id": "3bb69eff",
   "metadata": {
    "execution": {
     "iopub.execute_input": "2022-03-06T17:32:17.714879Z",
     "iopub.status.busy": "2022-03-06T17:32:17.714310Z",
     "iopub.status.idle": "2022-03-06T17:32:17.725724Z",
     "shell.execute_reply": "2022-03-06T17:32:17.725000Z"
    }
   },
   "outputs": [],
   "source": [
    "promoter_template   = read(\"pYPKa_Z_PMP3.gb\")\n",
    "gene_template       = read(\"pYPKa_A_EcfabZ.gb\")\n",
    "terminator_template = read(\"pYPKa_E_ENO2.gb\")"
   ]
  },
  {
   "cell_type": "markdown",
   "id": "a0f07d74",
   "metadata": {},
   "source": [
    "The construction of the three vector above are described in the [pYPKa_ZE_PMP3](pYPKa_ZE_PMP3.ipynb) and [pYPKa_A_EcfabZ](pYPKa_A_EcfabZ.ipynb) notebooks.\n",
    "\n",
    "Three DNA fragments are PCR amplified using [standard primers](standard_primers.txt). Suggested PCR programs can be found at the end of this document."
   ]
  },
  {
   "cell_type": "code",
   "execution_count": 6,
   "id": "62317c65",
   "metadata": {
    "execution": {
     "iopub.execute_input": "2022-03-06T17:32:17.729126Z",
     "iopub.status.busy": "2022-03-06T17:32:17.728824Z",
     "iopub.status.idle": "2022-03-06T17:32:17.750203Z",
     "shell.execute_reply": "2022-03-06T17:32:17.749400Z"
    }
   },
   "outputs": [],
   "source": [
    "prom = pcr( p['577'], p['567'], promoter_template)\n",
    "gene = pcr( p['468'], p['467'], gene_template)\n",
    "term = pcr( p['568'], p['578'], terminator_template)"
   ]
  },
  {
   "cell_type": "markdown",
   "id": "049f9e9a",
   "metadata": {},
   "source": [
    "The four linear DNA fragments are mixed and transformed\n",
    "to a _Saccharomyces cerevisiae_ ura3 mutant.\n",
    "\n",
    "The fragments will be assembled by _in-vivo_ [homologous recombination](http://www.ncbi.nlm.nih.gov/pubmed/2828185):"
   ]
  },
  {
   "cell_type": "code",
   "execution_count": 7,
   "id": "b9de1ab7",
   "metadata": {
    "execution": {
     "iopub.execute_input": "2022-03-06T17:32:17.754532Z",
     "iopub.status.busy": "2022-03-06T17:32:17.754177Z",
     "iopub.status.idle": "2022-03-06T17:32:18.530796Z",
     "shell.execute_reply": "2022-03-06T17:32:18.530018Z"
    }
   },
   "outputs": [
    {
     "data": {
      "text/plain": [
       "Assembly\n",
       "fragments..: 5603bp 988bp 545bp 860bp\n",
       "limit(bp)..: 31\n",
       "G.nodes....: 8\n",
       "algorithm..: common_sub_strings"
      ]
     },
     "execution_count": 7,
     "metadata": {},
     "output_type": "execute_result"
    }
   ],
   "source": [
    "asm = Assembly( (pYPK_EcoRV, prom, gene, term), limit=31 )\n",
    "\n",
    "asm"
   ]
  },
  {
   "cell_type": "markdown",
   "id": "fee7462d",
   "metadata": {},
   "source": [
    "The representation of the asm object above should normally indicate one circcular product only.\n",
    "More than one circular products might indicate an incorrect assembly strategy or represent\n",
    "by-products that might arise in the assembly process.\n",
    "The largest recombination product is chosen as candidate for the pYPK0_PMP3_EcfabZ_ENO2 vector."
   ]
  },
  {
   "cell_type": "code",
   "execution_count": 8,
   "id": "2b7d0944",
   "metadata": {
    "execution": {
     "iopub.execute_input": "2022-03-06T17:32:18.533676Z",
     "iopub.status.busy": "2022-03-06T17:32:18.533418Z",
     "iopub.status.idle": "2022-03-06T17:32:18.814957Z",
     "shell.execute_reply": "2022-03-06T17:32:18.811525Z"
    }
   },
   "outputs": [
    {
     "data": {
      "text/plain": [
       " -|pYPKpw_lin|124\n",
       "|             \\/\n",
       "|             /\\\n",
       "|             124|988bp_PCR_prod|50\n",
       "|                                \\/\n",
       "|                                /\\\n",
       "|                                50|545bp_PCR_prod|37\n",
       "|                                                  \\/\n",
       "|                                                  /\\\n",
       "|                                                  37|860bp_PCR_prod|242\n",
       "|                                                                    \\/\n",
       "|                                                                    /\\\n",
       "|                                                                    242-\n",
       "|                                                                       |\n",
       " -----------------------------------------------------------------------"
      ]
     },
     "execution_count": 8,
     "metadata": {},
     "output_type": "execute_result"
    }
   ],
   "source": [
    "candidate = asm.assemble_circular()[0]\n",
    "\n",
    "candidate.figure()"
   ]
  },
  {
   "cell_type": "markdown",
   "id": "082bcbcf",
   "metadata": {},
   "source": [
    "The candidate vector is synchronized to the 577 primer. This means that\n",
    "the plasmid origin is shifted so that it matches the backbone vector."
   ]
  },
  {
   "cell_type": "code",
   "execution_count": 9,
   "id": "9785f4a5",
   "metadata": {
    "execution": {
     "iopub.execute_input": "2022-03-06T17:32:18.822411Z",
     "iopub.status.busy": "2022-03-06T17:32:18.822133Z",
     "iopub.status.idle": "2022-03-06T17:32:19.287931Z",
     "shell.execute_reply": "2022-03-06T17:32:19.287163Z"
    }
   },
   "outputs": [],
   "source": [
    "result = candidate.synced(\"gttctgatcctcgagcatcttaagaattc\")"
   ]
  },
  {
   "cell_type": "markdown",
   "id": "e350e8f8",
   "metadata": {},
   "source": [
    "### Diagnostic PCR confirmation\n",
    "\n",
    "The structure of the final vector is confirmed by two\n",
    "separate PCR reactions, one for the promoter and gene and\n",
    "one for the gene and terminator.\n",
    "\n",
    "PCR using standard primers 577 and 467 to amplify promoter and gene."
   ]
  },
  {
   "cell_type": "code",
   "execution_count": 10,
   "id": "faf0da61",
   "metadata": {
    "execution": {
     "iopub.execute_input": "2022-03-06T17:32:19.291744Z",
     "iopub.status.busy": "2022-03-06T17:32:19.291509Z",
     "iopub.status.idle": "2022-03-06T17:32:19.340940Z",
     "shell.execute_reply": "2022-03-06T17:32:19.339940Z"
    }
   },
   "outputs": [],
   "source": [
    "product = pcr( p['577'], p['467'], result)"
   ]
  },
  {
   "cell_type": "markdown",
   "id": "4952c9d3",
   "metadata": {},
   "source": [
    "A correct clone should give this size in base pairs:"
   ]
  },
  {
   "cell_type": "code",
   "execution_count": 11,
   "id": "a65e4253",
   "metadata": {
    "execution": {
     "iopub.execute_input": "2022-03-06T17:32:19.356533Z",
     "iopub.status.busy": "2022-03-06T17:32:19.356075Z",
     "iopub.status.idle": "2022-03-06T17:32:19.373963Z",
     "shell.execute_reply": "2022-03-06T17:32:19.372832Z"
    }
   },
   "outputs": [
    {
     "name": "stdout",
     "output_type": "stream",
     "text": [
      "1483\n"
     ]
    }
   ],
   "source": [
    "print(len(product))"
   ]
  },
  {
   "cell_type": "markdown",
   "id": "1dd37130",
   "metadata": {},
   "source": [
    "If the promoter is missing from the assembly, the PCR product will have this size in base pairs:"
   ]
  },
  {
   "cell_type": "code",
   "execution_count": 12,
   "id": "6bacb3c6",
   "metadata": {
    "execution": {
     "iopub.execute_input": "2022-03-06T17:32:19.380720Z",
     "iopub.status.busy": "2022-03-06T17:32:19.380348Z",
     "iopub.status.idle": "2022-03-06T17:32:19.392469Z",
     "shell.execute_reply": "2022-03-06T17:32:19.390853Z"
    }
   },
   "outputs": [
    {
     "name": "stdout",
     "output_type": "stream",
     "text": [
      "495\n"
     ]
    }
   ],
   "source": [
    "print(len(product) - len(prom))"
   ]
  },
  {
   "cell_type": "markdown",
   "id": "9cccfcad",
   "metadata": {},
   "source": [
    "If the gene is missing from the assembly, the PCR product will have this size in base pairs:"
   ]
  },
  {
   "cell_type": "code",
   "execution_count": 13,
   "id": "a5771be0",
   "metadata": {
    "execution": {
     "iopub.execute_input": "2022-03-06T17:32:19.404857Z",
     "iopub.status.busy": "2022-03-06T17:32:19.404084Z",
     "iopub.status.idle": "2022-03-06T17:32:19.413091Z",
     "shell.execute_reply": "2022-03-06T17:32:19.409724Z"
    }
   },
   "outputs": [
    {
     "name": "stdout",
     "output_type": "stream",
     "text": [
      "938\n"
     ]
    }
   ],
   "source": [
    "print(len(product) - len(gene))"
   ]
  },
  {
   "cell_type": "markdown",
   "id": "9df14306",
   "metadata": {},
   "source": [
    "PCR using standard primers 468 and 578 to amplify gene and terminator."
   ]
  },
  {
   "cell_type": "code",
   "execution_count": 14,
   "id": "31530d44",
   "metadata": {
    "execution": {
     "iopub.execute_input": "2022-03-06T17:32:19.419330Z",
     "iopub.status.busy": "2022-03-06T17:32:19.418424Z",
     "iopub.status.idle": "2022-03-06T17:32:19.470511Z",
     "shell.execute_reply": "2022-03-06T17:32:19.469520Z"
    }
   },
   "outputs": [],
   "source": [
    "product2 = pcr( p['468'], p['578'], result)"
   ]
  },
  {
   "cell_type": "markdown",
   "id": "47f8fa2a",
   "metadata": {},
   "source": [
    "A correct clone should give this size:"
   ]
  },
  {
   "cell_type": "code",
   "execution_count": 15,
   "id": "083f52b5",
   "metadata": {
    "execution": {
     "iopub.execute_input": "2022-03-06T17:32:19.475522Z",
     "iopub.status.busy": "2022-03-06T17:32:19.474988Z",
     "iopub.status.idle": "2022-03-06T17:32:19.487309Z",
     "shell.execute_reply": "2022-03-06T17:32:19.484761Z"
    }
   },
   "outputs": [
    {
     "name": "stdout",
     "output_type": "stream",
     "text": [
      "1368\n"
     ]
    }
   ],
   "source": [
    "print(len(product2))"
   ]
  },
  {
   "cell_type": "markdown",
   "id": "0cd0a033",
   "metadata": {},
   "source": [
    "If the gene is missing from the assembly, the PCR product will have this size in base pairs:"
   ]
  },
  {
   "cell_type": "code",
   "execution_count": 16,
   "id": "0831cc34",
   "metadata": {
    "execution": {
     "iopub.execute_input": "2022-03-06T17:32:19.492242Z",
     "iopub.status.busy": "2022-03-06T17:32:19.491993Z",
     "iopub.status.idle": "2022-03-06T17:32:19.500427Z",
     "shell.execute_reply": "2022-03-06T17:32:19.497926Z"
    }
   },
   "outputs": [
    {
     "name": "stdout",
     "output_type": "stream",
     "text": [
      "823\n"
     ]
    }
   ],
   "source": [
    "print(len(product2) - len(gene))"
   ]
  },
  {
   "cell_type": "markdown",
   "id": "228bc439",
   "metadata": {},
   "source": [
    "If the terminator is missing from the assembly, the PCR product will have this size in base pairs:"
   ]
  },
  {
   "cell_type": "code",
   "execution_count": 17,
   "id": "9fc57930",
   "metadata": {
    "execution": {
     "iopub.execute_input": "2022-03-06T17:32:19.506287Z",
     "iopub.status.busy": "2022-03-06T17:32:19.505089Z",
     "iopub.status.idle": "2022-03-06T17:32:19.510101Z",
     "shell.execute_reply": "2022-03-06T17:32:19.509488Z"
    }
   },
   "outputs": [
    {
     "name": "stdout",
     "output_type": "stream",
     "text": [
      "508\n"
     ]
    }
   ],
   "source": [
    "print(len(product2) - len(term))"
   ]
  },
  {
   "cell_type": "markdown",
   "id": "340579cb",
   "metadata": {},
   "source": [
    "The cseguid checksum for the resulting plasmid is calculated for future reference.\n",
    "The [cseguid checksum](http://pydna.readthedocs.org/en/latest/pydna.html#pydna.utils.cseguid)\n",
    "uniquely identifies a circular double stranded sequence."
   ]
  },
  {
   "cell_type": "code",
   "execution_count": 18,
   "id": "454cf2ce",
   "metadata": {
    "execution": {
     "iopub.execute_input": "2022-03-06T17:32:19.522947Z",
     "iopub.status.busy": "2022-03-06T17:32:19.522700Z",
     "iopub.status.idle": "2022-03-06T17:32:19.533286Z",
     "shell.execute_reply": "2022-03-06T17:32:19.532590Z"
    }
   },
   "outputs": [
    {
     "data": {
      "text/plain": [
       "35I_zpHOHAZSNcMST9YXGDaL7Ko"
      ]
     },
     "execution_count": 18,
     "metadata": {},
     "output_type": "execute_result"
    }
   ],
   "source": [
    "result.cseguid()"
   ]
  },
  {
   "cell_type": "markdown",
   "id": "94986303",
   "metadata": {},
   "source": [
    "The file is named based on the nemas of promoter, gene and terminator."
   ]
  },
  {
   "cell_type": "code",
   "execution_count": 19,
   "id": "2354fff0",
   "metadata": {
    "execution": {
     "iopub.execute_input": "2022-03-06T17:32:19.537875Z",
     "iopub.status.busy": "2022-03-06T17:32:19.537527Z",
     "iopub.status.idle": "2022-03-06T17:32:19.542077Z",
     "shell.execute_reply": "2022-03-06T17:32:19.541055Z"
    }
   },
   "outputs": [],
   "source": [
    "result.locus = \"pYPK0_tp_g_tp\"\n",
    "result.definition = \"pYPK0_PMP3_EcfabZ_ENO2\""
   ]
  },
  {
   "cell_type": "markdown",
   "id": "910d6761",
   "metadata": {},
   "source": [
    "Sequence is stamped with cseguid checksum. This can be used to verify the\n",
    "integrity of the sequence file."
   ]
  },
  {
   "cell_type": "code",
   "execution_count": 20,
   "id": "592d1f50",
   "metadata": {
    "execution": {
     "iopub.execute_input": "2022-03-06T17:32:19.549590Z",
     "iopub.status.busy": "2022-03-06T17:32:19.549253Z",
     "iopub.status.idle": "2022-03-06T17:32:19.563985Z",
     "shell.execute_reply": "2022-03-06T17:32:19.562810Z"
    }
   },
   "outputs": [
    {
     "data": {
      "text/plain": [
       "cSEGUID_35I_zpHOHAZSNcMST9YXGDaL7Ko"
      ]
     },
     "execution_count": 20,
     "metadata": {},
     "output_type": "execute_result"
    }
   ],
   "source": [
    "result.stamp()"
   ]
  },
  {
   "cell_type": "markdown",
   "id": "ef02e4dc",
   "metadata": {},
   "source": [
    "Write sequence to a local file."
   ]
  },
  {
   "cell_type": "code",
   "execution_count": 21,
   "id": "914e37b1",
   "metadata": {
    "execution": {
     "iopub.execute_input": "2022-03-06T17:32:19.568448Z",
     "iopub.status.busy": "2022-03-06T17:32:19.568160Z",
     "iopub.status.idle": "2022-03-06T17:32:19.573879Z",
     "shell.execute_reply": "2022-03-06T17:32:19.573331Z"
    }
   },
   "outputs": [
    {
     "data": {
      "text/html": [
       "<font face=monospace><a href='pYPK0_PMP3_EcfabZ_ENO2.gb' target='_blank'>pYPK0_PMP3_EcfabZ_ENO2.gb</a></font><br>"
      ]
     },
     "metadata": {},
     "output_type": "display_data"
    }
   ],
   "source": [
    "result.write(\"pYPK0_PMP3_EcfabZ_ENO2.gb\")"
   ]
  },
  {
   "cell_type": "markdown",
   "id": "801398f0",
   "metadata": {},
   "source": [
    "## PCR programs for the amplification of Promoter, Gene and Terminator\n",
    "\n",
    "see cell #6\n",
    "\n",
    "Promoter"
   ]
  },
  {
   "cell_type": "code",
   "execution_count": 22,
   "id": "cadc1013",
   "metadata": {
    "execution": {
     "iopub.execute_input": "2022-03-06T17:32:19.579699Z",
     "iopub.status.busy": "2022-03-06T17:32:19.578494Z",
     "iopub.status.idle": "2022-03-06T17:32:19.588566Z",
     "shell.execute_reply": "2022-03-06T17:32:19.587766Z"
    }
   },
   "outputs": [
    {
     "data": {
      "text/plain": [
       "|95°C|95°C               |    |tmf:64.6\n",
       "|____|_____          72°C|72°C|tmr:69.7\n",
       "|3min|30s  \\ 58.7°C _____|____|45s/kb\n",
       "|    |      \\______/ 0:44|5min|GC 44%\n",
       "|    |       30s         |    |988bp"
      ]
     },
     "execution_count": 22,
     "metadata": {},
     "output_type": "execute_result"
    }
   ],
   "source": [
    "prom.program()"
   ]
  },
  {
   "cell_type": "markdown",
   "id": "afa7b499",
   "metadata": {},
   "source": [
    "Gene"
   ]
  },
  {
   "cell_type": "code",
   "execution_count": 23,
   "id": "5b5f3271",
   "metadata": {
    "execution": {
     "iopub.execute_input": "2022-03-06T17:32:19.591177Z",
     "iopub.status.busy": "2022-03-06T17:32:19.590925Z",
     "iopub.status.idle": "2022-03-06T17:32:19.597386Z",
     "shell.execute_reply": "2022-03-06T17:32:19.596561Z"
    }
   },
   "outputs": [
    {
     "data": {
      "text/plain": [
       "|95°C|95°C               |    |tmf:76.9\n",
       "|____|_____          72°C|72°C|tmr:67.9\n",
       "|3min|30s  \\ 61.1°C _____|____|45s/kb\n",
       "|    |      \\______/ 0:30|5min|GC 50%\n",
       "|    |       30s         |    |545bp"
      ]
     },
     "execution_count": 23,
     "metadata": {},
     "output_type": "execute_result"
    }
   ],
   "source": [
    "gene.program()"
   ]
  },
  {
   "cell_type": "markdown",
   "id": "da83679e",
   "metadata": {},
   "source": [
    "Terminator"
   ]
  },
  {
   "cell_type": "code",
   "execution_count": 24,
   "id": "8553854d",
   "metadata": {
    "execution": {
     "iopub.execute_input": "2022-03-06T17:32:19.601235Z",
     "iopub.status.busy": "2022-03-06T17:32:19.600933Z",
     "iopub.status.idle": "2022-03-06T17:32:19.605778Z",
     "shell.execute_reply": "2022-03-06T17:32:19.605018Z"
    }
   },
   "outputs": [
    {
     "data": {
      "text/plain": [
       "|95°C|95°C               |    |tmf:66.1\n",
       "|____|_____          72°C|72°C|tmr:65.0\n",
       "|3min|30s  \\ 57.1°C _____|____|45s/kb\n",
       "|    |      \\______/ 0:38|5min|GC 38%\n",
       "|    |       30s         |    |860bp"
      ]
     },
     "execution_count": 24,
     "metadata": {},
     "output_type": "execute_result"
    }
   ],
   "source": [
    "term.program()"
   ]
  }
 ],
 "metadata": {
  "language_info": {
   "codemirror_mode": {
    "name": "ipython",
    "version": 3
   },
   "file_extension": ".py",
   "mimetype": "text/x-python",
   "name": "python",
   "nbconvert_exporter": "python",
   "pygments_lexer": "ipython3",
   "version": "3.9.7"
  }
 },
 "nbformat": 4,
 "nbformat_minor": 5
}
