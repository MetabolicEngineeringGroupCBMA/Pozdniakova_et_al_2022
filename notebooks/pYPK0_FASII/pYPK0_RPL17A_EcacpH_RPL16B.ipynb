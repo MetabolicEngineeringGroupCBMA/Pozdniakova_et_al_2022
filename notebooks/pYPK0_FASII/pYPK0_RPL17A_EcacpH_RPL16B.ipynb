{
 "cells": [
  {
   "cell_type": "markdown",
   "id": "b96e4ed8",
   "metadata": {},
   "source": [
    "# pYPK0_RPL17A_EcacpH_RPL16B\n",
    "\n",
    "This notebook describes the assembly of the [_Saccaromyces cerevisiae_](www.yeastgenome.org)\n",
    "single gene expression vector pYPK0_RPL17A_EcacpH_RPL16B.\n",
    "\n",
    "It is made by _in-vivo_ homologous recombination between three PCR products and one linear vector fragment.\n",
    "The PCR products are a promoter generated from a pYPK_Z vector, a gene from a pYPKa_A vector and\n",
    "a terminator from a pYPKa_E vector. The three PCR products are joined with\n",
    "a linearized [pYPKpw](https://github.com/BjornFJohansson/ypk-xylose-pathways/blob/master/notebooks/pYPKpw.ipynb)\n",
    "backbone vector that has the [URA3](http://www.yeastgenome.org/locus/S000000747/overview)\n",
    "marker and a _S. crevisiae_ [2 micron](http://blog.addgene.org/plasmids-101-yeast-vectors) origin of replication.\n",
    "\n",
    "The four linear DNA fragments are joined by homologous recombination in a\n",
    "[_Saccharomyces cerevisiae_](http://wiki.yeastgenome.org/index.php/Commonly_used_strains) ura3 mutant.\n",
    "\n",
    "![pYPK0_promoter_gene_terminator](tp_g_tp.png \"pYPK0_promoter_gene_terminator\")\n",
    "\n",
    "A part of the [pydna](https://pypi.python.org/pypi/pydna/) package is imported in the code cell below."
   ]
  },
  {
   "cell_type": "code",
   "execution_count": 1,
   "id": "c29be664",
   "metadata": {
    "execution": {
     "iopub.execute_input": "2022-03-06T17:32:31.856251Z",
     "iopub.status.busy": "2022-03-06T17:32:31.855897Z",
     "iopub.status.idle": "2022-03-06T17:32:32.308685Z",
     "shell.execute_reply": "2022-03-06T17:32:32.308068Z"
    }
   },
   "outputs": [],
   "source": [
    "from pydna.parsers import parse_primers\n",
    "from pydna.readers import read\n",
    "from pydna.amplify import pcr\n",
    "from pydna.assembly import Assembly"
   ]
  },
  {
   "cell_type": "markdown",
   "id": "521a00e3",
   "metadata": {},
   "source": [
    "The Yeast Pathway Kit [standard primers](standard_primers.txt) are read into a dictionary in the code cell below."
   ]
  },
  {
   "cell_type": "code",
   "execution_count": 2,
   "id": "35e22709",
   "metadata": {
    "execution": {
     "iopub.execute_input": "2022-03-06T17:32:32.316127Z",
     "iopub.status.busy": "2022-03-06T17:32:32.315396Z",
     "iopub.status.idle": "2022-03-06T17:32:32.329582Z",
     "shell.execute_reply": "2022-03-06T17:32:32.328741Z"
    }
   },
   "outputs": [],
   "source": [
    "p = { x.id: x for x in parse_primers(\"standard_primers.txt\") }"
   ]
  },
  {
   "cell_type": "markdown",
   "id": "5b7a0698",
   "metadata": {},
   "source": [
    "The backbone vector [pYPKpw](pYPKpw.gb) is read from a local file in the code cell below."
   ]
  },
  {
   "cell_type": "code",
   "execution_count": 3,
   "id": "ffc6658d",
   "metadata": {
    "execution": {
     "iopub.execute_input": "2022-03-06T17:32:32.332981Z",
     "iopub.status.busy": "2022-03-06T17:32:32.332744Z",
     "iopub.status.idle": "2022-03-06T17:32:32.352762Z",
     "shell.execute_reply": "2022-03-06T17:32:32.352144Z"
    }
   },
   "outputs": [],
   "source": [
    "pYPKpw = read(\"pYPKpw.gb\")"
   ]
  },
  {
   "cell_type": "markdown",
   "id": "090a06d5",
   "metadata": {},
   "source": [
    "The backbone vector is linearized by digestion with [EcoRV](http://rebase.neb.com/rebase/enz/EcoRV.html).\n",
    "The restriction enzyme functionality is provided by [biopython](http://biopython.org)."
   ]
  },
  {
   "cell_type": "code",
   "execution_count": 4,
   "id": "8ba144b5",
   "metadata": {
    "execution": {
     "iopub.execute_input": "2022-03-06T17:32:32.355938Z",
     "iopub.status.busy": "2022-03-06T17:32:32.355711Z",
     "iopub.status.idle": "2022-03-06T17:32:32.362824Z",
     "shell.execute_reply": "2022-03-06T17:32:32.361918Z"
    }
   },
   "outputs": [],
   "source": [
    "from Bio.Restriction import EcoRV\n",
    "\n",
    "pYPK_EcoRV = pYPKpw.linearize(EcoRV)"
   ]
  },
  {
   "cell_type": "markdown",
   "id": "91c62f6d",
   "metadata": {},
   "source": [
    "The pYPKa derived _E. coli_ plasmids containing [promoter](pYPKa_Z_RPL17A.gb), [gene](pYPKa_A_EcacpH.gb) and [terminator](pYPKa_E_RPL16B.gb)\n",
    "are read into three variables below."
   ]
  },
  {
   "cell_type": "code",
   "execution_count": 5,
   "id": "f7288467",
   "metadata": {
    "execution": {
     "iopub.execute_input": "2022-03-06T17:32:32.366946Z",
     "iopub.status.busy": "2022-03-06T17:32:32.366495Z",
     "iopub.status.idle": "2022-03-06T17:32:32.376672Z",
     "shell.execute_reply": "2022-03-06T17:32:32.376062Z"
    }
   },
   "outputs": [],
   "source": [
    "promoter_template   = read(\"pYPKa_Z_RPL17A.gb\")\n",
    "gene_template       = read(\"pYPKa_A_EcacpH.gb\")\n",
    "terminator_template = read(\"pYPKa_E_RPL16B.gb\")"
   ]
  },
  {
   "cell_type": "markdown",
   "id": "668284aa",
   "metadata": {},
   "source": [
    "The construction of the three vector above are described in the [pYPKa_ZE_RPL17A](pYPKa_ZE_RPL17A.ipynb) and [pYPKa_A_EcacpH](pYPKa_A_EcacpH.ipynb) notebooks.\n",
    "\n",
    "Three DNA fragments are PCR amplified using [standard primers](standard_primers.txt). Suggested PCR programs can be found at the end of this document."
   ]
  },
  {
   "cell_type": "code",
   "execution_count": 6,
   "id": "8e55eb0a",
   "metadata": {
    "execution": {
     "iopub.execute_input": "2022-03-06T17:32:32.387211Z",
     "iopub.status.busy": "2022-03-06T17:32:32.386364Z",
     "iopub.status.idle": "2022-03-06T17:32:32.406515Z",
     "shell.execute_reply": "2022-03-06T17:32:32.405967Z"
    }
   },
   "outputs": [],
   "source": [
    "prom = pcr( p['577'], p['567'], promoter_template)\n",
    "gene = pcr( p['468'], p['467'], gene_template)\n",
    "term = pcr( p['568'], p['578'], terminator_template)"
   ]
  },
  {
   "cell_type": "markdown",
   "id": "5fecae55",
   "metadata": {},
   "source": [
    "The four linear DNA fragments are mixed and transformed\n",
    "to a _Saccharomyces cerevisiae_ ura3 mutant.\n",
    "\n",
    "The fragments will be assembled by _in-vivo_ [homologous recombination](http://www.ncbi.nlm.nih.gov/pubmed/2828185):"
   ]
  },
  {
   "cell_type": "code",
   "execution_count": 7,
   "id": "de3e020e",
   "metadata": {
    "execution": {
     "iopub.execute_input": "2022-03-06T17:32:32.409540Z",
     "iopub.status.busy": "2022-03-06T17:32:32.409261Z",
     "iopub.status.idle": "2022-03-06T17:32:32.983187Z",
     "shell.execute_reply": "2022-03-06T17:32:32.982379Z"
    }
   },
   "outputs": [
    {
     "data": {
      "text/plain": [
       "Assembly\n",
       "fragments..: 5603bp 900bp 671bp 1038bp\n",
       "limit(bp)..: 31\n",
       "G.nodes....: 8\n",
       "algorithm..: common_sub_strings"
      ]
     },
     "execution_count": 7,
     "metadata": {},
     "output_type": "execute_result"
    }
   ],
   "source": [
    "asm = Assembly( (pYPK_EcoRV, prom, gene, term), limit=31 )\n",
    "\n",
    "asm"
   ]
  },
  {
   "cell_type": "markdown",
   "id": "3827b292",
   "metadata": {},
   "source": [
    "The representation of the asm object above should normally indicate one circcular product only.\n",
    "More than one circular products might indicate an incorrect assembly strategy or represent\n",
    "by-products that might arise in the assembly process.\n",
    "The largest recombination product is chosen as candidate for the pYPK0_RPL17A_EcacpH_RPL16B vector."
   ]
  },
  {
   "cell_type": "code",
   "execution_count": 8,
   "id": "134edf2c",
   "metadata": {
    "execution": {
     "iopub.execute_input": "2022-03-06T17:32:32.986654Z",
     "iopub.status.busy": "2022-03-06T17:32:32.986155Z",
     "iopub.status.idle": "2022-03-06T17:32:33.236091Z",
     "shell.execute_reply": "2022-03-06T17:32:33.235517Z"
    }
   },
   "outputs": [
    {
     "data": {
      "text/plain": [
       " -|pYPKpw_lin|124\n",
       "|             \\/\n",
       "|             /\\\n",
       "|             124|900bp_PCR_prod|50\n",
       "|                                \\/\n",
       "|                                /\\\n",
       "|                                50|671bp_PCR_prod|37\n",
       "|                                                  \\/\n",
       "|                                                  /\\\n",
       "|                                                  37|1038bp_PCR_prod|242\n",
       "|                                                                     \\/\n",
       "|                                                                     /\\\n",
       "|                                                                     242-\n",
       "|                                                                        |\n",
       " ------------------------------------------------------------------------"
      ]
     },
     "execution_count": 8,
     "metadata": {},
     "output_type": "execute_result"
    }
   ],
   "source": [
    "candidate = asm.assemble_circular()[0]\n",
    "\n",
    "candidate.figure()"
   ]
  },
  {
   "cell_type": "markdown",
   "id": "49c84c41",
   "metadata": {},
   "source": [
    "The candidate vector is synchronized to the 577 primer. This means that\n",
    "the plasmid origin is shifted so that it matches the backbone vector."
   ]
  },
  {
   "cell_type": "code",
   "execution_count": 9,
   "id": "ab199cd0",
   "metadata": {
    "execution": {
     "iopub.execute_input": "2022-03-06T17:32:33.240555Z",
     "iopub.status.busy": "2022-03-06T17:32:33.239839Z",
     "iopub.status.idle": "2022-03-06T17:32:33.640139Z",
     "shell.execute_reply": "2022-03-06T17:32:33.639575Z"
    }
   },
   "outputs": [],
   "source": [
    "result = candidate.synced(\"gttctgatcctcgagcatcttaagaattc\")"
   ]
  },
  {
   "cell_type": "markdown",
   "id": "2db5b50e",
   "metadata": {},
   "source": [
    "### Diagnostic PCR confirmation\n",
    "\n",
    "The structure of the final vector is confirmed by two\n",
    "separate PCR reactions, one for the promoter and gene and\n",
    "one for the gene and terminator.\n",
    "\n",
    "PCR using standard primers 577 and 467 to amplify promoter and gene."
   ]
  },
  {
   "cell_type": "code",
   "execution_count": 10,
   "id": "a945a8db",
   "metadata": {
    "execution": {
     "iopub.execute_input": "2022-03-06T17:32:33.643010Z",
     "iopub.status.busy": "2022-03-06T17:32:33.642795Z",
     "iopub.status.idle": "2022-03-06T17:32:33.672215Z",
     "shell.execute_reply": "2022-03-06T17:32:33.671672Z"
    }
   },
   "outputs": [],
   "source": [
    "product = pcr( p['577'], p['467'], result)"
   ]
  },
  {
   "cell_type": "markdown",
   "id": "cd20172d",
   "metadata": {},
   "source": [
    "A correct clone should give this size in base pairs:"
   ]
  },
  {
   "cell_type": "code",
   "execution_count": 11,
   "id": "8ecf4172",
   "metadata": {
    "execution": {
     "iopub.execute_input": "2022-03-06T17:32:33.674774Z",
     "iopub.status.busy": "2022-03-06T17:32:33.674508Z",
     "iopub.status.idle": "2022-03-06T17:32:33.680427Z",
     "shell.execute_reply": "2022-03-06T17:32:33.678928Z"
    }
   },
   "outputs": [
    {
     "name": "stdout",
     "output_type": "stream",
     "text": [
      "1521\n"
     ]
    }
   ],
   "source": [
    "print(len(product))"
   ]
  },
  {
   "cell_type": "markdown",
   "id": "f5ad0242",
   "metadata": {},
   "source": [
    "If the promoter is missing from the assembly, the PCR product will have this size in base pairs:"
   ]
  },
  {
   "cell_type": "code",
   "execution_count": 12,
   "id": "4fd35b8e",
   "metadata": {
    "execution": {
     "iopub.execute_input": "2022-03-06T17:32:33.687258Z",
     "iopub.status.busy": "2022-03-06T17:32:33.686789Z",
     "iopub.status.idle": "2022-03-06T17:32:33.691145Z",
     "shell.execute_reply": "2022-03-06T17:32:33.690568Z"
    }
   },
   "outputs": [
    {
     "name": "stdout",
     "output_type": "stream",
     "text": [
      "621\n"
     ]
    }
   ],
   "source": [
    "print(len(product) - len(prom))"
   ]
  },
  {
   "cell_type": "markdown",
   "id": "4636e383",
   "metadata": {},
   "source": [
    "If the gene is missing from the assembly, the PCR product will have this size in base pairs:"
   ]
  },
  {
   "cell_type": "code",
   "execution_count": 13,
   "id": "34a9a75a",
   "metadata": {
    "execution": {
     "iopub.execute_input": "2022-03-06T17:32:33.693763Z",
     "iopub.status.busy": "2022-03-06T17:32:33.693535Z",
     "iopub.status.idle": "2022-03-06T17:32:33.698191Z",
     "shell.execute_reply": "2022-03-06T17:32:33.697337Z"
    }
   },
   "outputs": [
    {
     "name": "stdout",
     "output_type": "stream",
     "text": [
      "850\n"
     ]
    }
   ],
   "source": [
    "print(len(product) - len(gene))"
   ]
  },
  {
   "cell_type": "markdown",
   "id": "e87fb52f",
   "metadata": {},
   "source": [
    "PCR using standard primers 468 and 578 to amplify gene and terminator."
   ]
  },
  {
   "cell_type": "code",
   "execution_count": 14,
   "id": "2c1813bc",
   "metadata": {
    "execution": {
     "iopub.execute_input": "2022-03-06T17:32:33.701713Z",
     "iopub.status.busy": "2022-03-06T17:32:33.701452Z",
     "iopub.status.idle": "2022-03-06T17:32:33.734689Z",
     "shell.execute_reply": "2022-03-06T17:32:33.734131Z"
    }
   },
   "outputs": [],
   "source": [
    "product2 = pcr( p['468'], p['578'], result)"
   ]
  },
  {
   "cell_type": "markdown",
   "id": "de6c41bc",
   "metadata": {},
   "source": [
    "A correct clone should give this size:"
   ]
  },
  {
   "cell_type": "code",
   "execution_count": 15,
   "id": "f57aac98",
   "metadata": {
    "execution": {
     "iopub.execute_input": "2022-03-06T17:32:33.737567Z",
     "iopub.status.busy": "2022-03-06T17:32:33.737329Z",
     "iopub.status.idle": "2022-03-06T17:32:33.740592Z",
     "shell.execute_reply": "2022-03-06T17:32:33.740032Z"
    }
   },
   "outputs": [
    {
     "name": "stdout",
     "output_type": "stream",
     "text": [
      "1672\n"
     ]
    }
   ],
   "source": [
    "print(len(product2))"
   ]
  },
  {
   "cell_type": "markdown",
   "id": "ef1f892d",
   "metadata": {},
   "source": [
    "If the gene is missing from the assembly, the PCR product will have this size in base pairs:"
   ]
  },
  {
   "cell_type": "code",
   "execution_count": 16,
   "id": "e201448e",
   "metadata": {
    "execution": {
     "iopub.execute_input": "2022-03-06T17:32:33.746962Z",
     "iopub.status.busy": "2022-03-06T17:32:33.746534Z",
     "iopub.status.idle": "2022-03-06T17:32:33.752130Z",
     "shell.execute_reply": "2022-03-06T17:32:33.751082Z"
    }
   },
   "outputs": [
    {
     "name": "stdout",
     "output_type": "stream",
     "text": [
      "1001\n"
     ]
    }
   ],
   "source": [
    "print(len(product2) - len(gene))"
   ]
  },
  {
   "cell_type": "markdown",
   "id": "38f81c96",
   "metadata": {},
   "source": [
    "If the terminator is missing from the assembly, the PCR product will have this size in base pairs:"
   ]
  },
  {
   "cell_type": "code",
   "execution_count": 17,
   "id": "7cb0591e",
   "metadata": {
    "execution": {
     "iopub.execute_input": "2022-03-06T17:32:33.755742Z",
     "iopub.status.busy": "2022-03-06T17:32:33.755468Z",
     "iopub.status.idle": "2022-03-06T17:32:33.759655Z",
     "shell.execute_reply": "2022-03-06T17:32:33.758928Z"
    }
   },
   "outputs": [
    {
     "name": "stdout",
     "output_type": "stream",
     "text": [
      "634\n"
     ]
    }
   ],
   "source": [
    "print(len(product2) - len(term))"
   ]
  },
  {
   "cell_type": "markdown",
   "id": "0a12aacc",
   "metadata": {},
   "source": [
    "The cseguid checksum for the resulting plasmid is calculated for future reference.\n",
    "The [cseguid checksum](http://pydna.readthedocs.org/en/latest/pydna.html#pydna.utils.cseguid)\n",
    "uniquely identifies a circular double stranded sequence."
   ]
  },
  {
   "cell_type": "code",
   "execution_count": 18,
   "id": "d530e163",
   "metadata": {
    "execution": {
     "iopub.execute_input": "2022-03-06T17:32:33.762916Z",
     "iopub.status.busy": "2022-03-06T17:32:33.762620Z",
     "iopub.status.idle": "2022-03-06T17:32:33.772558Z",
     "shell.execute_reply": "2022-03-06T17:32:33.771864Z"
    }
   },
   "outputs": [
    {
     "data": {
      "text/plain": [
       "Cx4gG62Az4KkHgUHUsj3XGZVjqc"
      ]
     },
     "execution_count": 18,
     "metadata": {},
     "output_type": "execute_result"
    }
   ],
   "source": [
    "result.cseguid()"
   ]
  },
  {
   "cell_type": "markdown",
   "id": "cf33a781",
   "metadata": {},
   "source": [
    "The file is named based on the nemas of promoter, gene and terminator."
   ]
  },
  {
   "cell_type": "code",
   "execution_count": 19,
   "id": "2074c500",
   "metadata": {
    "execution": {
     "iopub.execute_input": "2022-03-06T17:32:33.775163Z",
     "iopub.status.busy": "2022-03-06T17:32:33.774969Z",
     "iopub.status.idle": "2022-03-06T17:32:33.780101Z",
     "shell.execute_reply": "2022-03-06T17:32:33.778776Z"
    }
   },
   "outputs": [],
   "source": [
    "result.locus = \"pYPK0_tp_g_tp\"\n",
    "result.definition = \"pYPK0_RPL17A_EcacpH_RPL16B\""
   ]
  },
  {
   "cell_type": "markdown",
   "id": "c1223336",
   "metadata": {},
   "source": [
    "Sequence is stamped with cseguid checksum. This can be used to verify the\n",
    "integrity of the sequence file."
   ]
  },
  {
   "cell_type": "code",
   "execution_count": 20,
   "id": "be5fe696",
   "metadata": {
    "execution": {
     "iopub.execute_input": "2022-03-06T17:32:33.784251Z",
     "iopub.status.busy": "2022-03-06T17:32:33.783977Z",
     "iopub.status.idle": "2022-03-06T17:32:33.797689Z",
     "shell.execute_reply": "2022-03-06T17:32:33.796891Z"
    }
   },
   "outputs": [
    {
     "data": {
      "text/plain": [
       "cSEGUID_Cx4gG62Az4KkHgUHUsj3XGZVjqc"
      ]
     },
     "execution_count": 20,
     "metadata": {},
     "output_type": "execute_result"
    }
   ],
   "source": [
    "result.stamp()"
   ]
  },
  {
   "cell_type": "markdown",
   "id": "8e7a6e00",
   "metadata": {},
   "source": [
    "Write sequence to a local file."
   ]
  },
  {
   "cell_type": "code",
   "execution_count": 21,
   "id": "03b269db",
   "metadata": {
    "execution": {
     "iopub.execute_input": "2022-03-06T17:32:33.800558Z",
     "iopub.status.busy": "2022-03-06T17:32:33.800316Z",
     "iopub.status.idle": "2022-03-06T17:32:33.807048Z",
     "shell.execute_reply": "2022-03-06T17:32:33.806400Z"
    }
   },
   "outputs": [
    {
     "data": {
      "text/html": [
       "<font face=monospace><a href='pYPK0_RPL17A_EcacpH_RPL16B.gb' target='_blank'>pYPK0_RPL17A_EcacpH_RPL16B.gb</a></font><br>"
      ]
     },
     "metadata": {},
     "output_type": "display_data"
    }
   ],
   "source": [
    "result.write(\"pYPK0_RPL17A_EcacpH_RPL16B.gb\")"
   ]
  },
  {
   "cell_type": "markdown",
   "id": "d89c0001",
   "metadata": {},
   "source": [
    "## PCR programs for the amplification of Promoter, Gene and Terminator\n",
    "\n",
    "see cell #6\n",
    "\n",
    "Promoter"
   ]
  },
  {
   "cell_type": "code",
   "execution_count": 22,
   "id": "880a8657",
   "metadata": {
    "execution": {
     "iopub.execute_input": "2022-03-06T17:32:33.810293Z",
     "iopub.status.busy": "2022-03-06T17:32:33.809846Z",
     "iopub.status.idle": "2022-03-06T17:32:33.821481Z",
     "shell.execute_reply": "2022-03-06T17:32:33.820765Z"
    }
   },
   "outputs": [
    {
     "data": {
      "text/plain": [
       "|95°C|95°C               |    |tmf:64.6\n",
       "|____|_____          72°C|72°C|tmr:69.7\n",
       "|3min|30s  \\ 57.5°C _____|____|45s/kb\n",
       "|    |      \\______/ 0:40|5min|GC 40%\n",
       "|    |       30s         |    |900bp"
      ]
     },
     "execution_count": 22,
     "metadata": {},
     "output_type": "execute_result"
    }
   ],
   "source": [
    "prom.program()"
   ]
  },
  {
   "cell_type": "markdown",
   "id": "f660bfa3",
   "metadata": {},
   "source": [
    "Gene"
   ]
  },
  {
   "cell_type": "code",
   "execution_count": 23,
   "id": "43b8b413",
   "metadata": {
    "execution": {
     "iopub.execute_input": "2022-03-06T17:32:33.824533Z",
     "iopub.status.busy": "2022-03-06T17:32:33.824310Z",
     "iopub.status.idle": "2022-03-06T17:32:33.830386Z",
     "shell.execute_reply": "2022-03-06T17:32:33.828276Z"
    }
   },
   "outputs": [
    {
     "data": {
      "text/plain": [
       "|95°C|95°C               |    |tmf:76.9\n",
       "|____|_____          72°C|72°C|tmr:67.9\n",
       "|3min|30s  \\ 61.9°C _____|____|45s/kb\n",
       "|    |      \\______/ 0:30|5min|GC 52%\n",
       "|    |       30s         |    |671bp"
      ]
     },
     "execution_count": 23,
     "metadata": {},
     "output_type": "execute_result"
    }
   ],
   "source": [
    "gene.program()"
   ]
  },
  {
   "cell_type": "markdown",
   "id": "5a5f454e",
   "metadata": {},
   "source": [
    "Terminator"
   ]
  },
  {
   "cell_type": "code",
   "execution_count": 24,
   "id": "1422943c",
   "metadata": {
    "execution": {
     "iopub.execute_input": "2022-03-06T17:32:33.833560Z",
     "iopub.status.busy": "2022-03-06T17:32:33.833297Z",
     "iopub.status.idle": "2022-03-06T17:32:33.840172Z",
     "shell.execute_reply": "2022-03-06T17:32:33.839366Z"
    }
   },
   "outputs": [
    {
     "data": {
      "text/plain": [
       "|95°C|95°C               |    |tmf:66.1\n",
       "|____|_____          72°C|72°C|tmr:65.0\n",
       "|3min|30s  \\ 58.1°C _____|____|45s/kb\n",
       "|    |      \\______/ 0:46|5min|GC 42%\n",
       "|    |       30s         |    |1038bp"
      ]
     },
     "execution_count": 24,
     "metadata": {},
     "output_type": "execute_result"
    }
   ],
   "source": [
    "term.program()"
   ]
  }
 ],
 "metadata": {
  "language_info": {
   "codemirror_mode": {
    "name": "ipython",
    "version": 3
   },
   "file_extension": ".py",
   "mimetype": "text/x-python",
   "name": "python",
   "nbconvert_exporter": "python",
   "pygments_lexer": "ipython3",
   "version": "3.9.7"
  }
 },
 "nbformat": 4,
 "nbformat_minor": 5
}
