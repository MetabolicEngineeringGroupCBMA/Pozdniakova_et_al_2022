{
 "cells": [
  {
   "cell_type": "markdown",
   "id": "4121a747",
   "metadata": {},
   "source": [
    "# pYPK0_ENO2_Athmod1_RPL5\n",
    "\n",
    "This notebook describes the assembly of the [_Saccaromyces cerevisiae_](www.yeastgenome.org)\n",
    "single gene expression vector pYPK0_ENO2_Athmod1_RPL5.\n",
    "\n",
    "It is made by _in-vivo_ homologous recombination between three PCR products and one linear vector fragment.\n",
    "The PCR products are a promoter generated from a pYPK_Z vector, a gene from a pYPKa_A vector and\n",
    "a terminator from a pYPKa_E vector. The three PCR products are joined with\n",
    "a linearized [pYPKpw](https://github.com/BjornFJohansson/ypk-xylose-pathways/blob/master/notebooks/pYPKpw.ipynb)\n",
    "backbone vector that has the [URA3](http://www.yeastgenome.org/locus/S000000747/overview)\n",
    "marker and a _S. crevisiae_ [2 micron](http://blog.addgene.org/plasmids-101-yeast-vectors) origin of replication.\n",
    "\n",
    "The four linear DNA fragments are joined by homologous recombination in a\n",
    "[_Saccharomyces cerevisiae_](http://wiki.yeastgenome.org/index.php/Commonly_used_strains) ura3 mutant.\n",
    "\n",
    "![pYPK0_promoter_gene_terminator](tp_g_tp.png \"pYPK0_promoter_gene_terminator\")\n",
    "\n",
    "A part of the [pydna](https://pypi.python.org/pypi/pydna/) package is imported in the code cell below."
   ]
  },
  {
   "cell_type": "code",
   "execution_count": 1,
   "id": "643cdb43",
   "metadata": {
    "execution": {
     "iopub.execute_input": "2022-03-06T17:32:21.393068Z",
     "iopub.status.busy": "2022-03-06T17:32:21.392644Z",
     "iopub.status.idle": "2022-03-06T17:32:21.874768Z",
     "shell.execute_reply": "2022-03-06T17:32:21.874094Z"
    }
   },
   "outputs": [],
   "source": [
    "from pydna.parsers import parse_primers\n",
    "from pydna.readers import read\n",
    "from pydna.amplify import pcr\n",
    "from pydna.assembly import Assembly"
   ]
  },
  {
   "cell_type": "markdown",
   "id": "6a53f563",
   "metadata": {},
   "source": [
    "The Yeast Pathway Kit [standard primers](standard_primers.txt) are read into a dictionary in the code cell below."
   ]
  },
  {
   "cell_type": "code",
   "execution_count": 2,
   "id": "de82ccd0",
   "metadata": {
    "execution": {
     "iopub.execute_input": "2022-03-06T17:32:21.882019Z",
     "iopub.status.busy": "2022-03-06T17:32:21.880787Z",
     "iopub.status.idle": "2022-03-06T17:32:21.897388Z",
     "shell.execute_reply": "2022-03-06T17:32:21.896438Z"
    }
   },
   "outputs": [],
   "source": [
    "p = { x.id: x for x in parse_primers(\"standard_primers.txt\") }"
   ]
  },
  {
   "cell_type": "markdown",
   "id": "fa4902c6",
   "metadata": {},
   "source": [
    "The backbone vector [pYPKpw](pYPKpw.gb) is read from a local file in the code cell below."
   ]
  },
  {
   "cell_type": "code",
   "execution_count": 3,
   "id": "6475ce52",
   "metadata": {
    "execution": {
     "iopub.execute_input": "2022-03-06T17:32:21.900374Z",
     "iopub.status.busy": "2022-03-06T17:32:21.900137Z",
     "iopub.status.idle": "2022-03-06T17:32:21.917881Z",
     "shell.execute_reply": "2022-03-06T17:32:21.916723Z"
    }
   },
   "outputs": [],
   "source": [
    "pYPKpw = read(\"pYPKpw.gb\")"
   ]
  },
  {
   "cell_type": "markdown",
   "id": "70810ac4",
   "metadata": {},
   "source": [
    "The backbone vector is linearized by digestion with [EcoRV](http://rebase.neb.com/rebase/enz/EcoRV.html).\n",
    "The restriction enzyme functionality is provided by [biopython](http://biopython.org)."
   ]
  },
  {
   "cell_type": "code",
   "execution_count": 4,
   "id": "e5c0b55d",
   "metadata": {
    "execution": {
     "iopub.execute_input": "2022-03-06T17:32:21.921009Z",
     "iopub.status.busy": "2022-03-06T17:32:21.920744Z",
     "iopub.status.idle": "2022-03-06T17:32:21.931031Z",
     "shell.execute_reply": "2022-03-06T17:32:21.929587Z"
    }
   },
   "outputs": [],
   "source": [
    "from Bio.Restriction import EcoRV\n",
    "\n",
    "pYPK_EcoRV = pYPKpw.linearize(EcoRV)"
   ]
  },
  {
   "cell_type": "markdown",
   "id": "1d420c91",
   "metadata": {},
   "source": [
    "The pYPKa derived _E. coli_ plasmids containing [promoter](pYPKa_Z_ENO2.gb), [gene](pYPKa_A_Athmod1.gb) and [terminator](pYPKa_E_RPL5.gb)\n",
    "are read into three variables below."
   ]
  },
  {
   "cell_type": "code",
   "execution_count": 5,
   "id": "09c8a394",
   "metadata": {
    "execution": {
     "iopub.execute_input": "2022-03-06T17:32:21.934119Z",
     "iopub.status.busy": "2022-03-06T17:32:21.933859Z",
     "iopub.status.idle": "2022-03-06T17:32:21.946790Z",
     "shell.execute_reply": "2022-03-06T17:32:21.944244Z"
    }
   },
   "outputs": [],
   "source": [
    "promoter_template   = read(\"pYPKa_Z_ENO2.gb\")\n",
    "gene_template       = read(\"pYPK0_A_Athmod1.gb\")\n",
    "terminator_template = read(\"pYPKa_E_RPL5.gb\")"
   ]
  },
  {
   "cell_type": "markdown",
   "id": "48e9062a",
   "metadata": {},
   "source": [
    "The construction of the three vector above are described in the [pYPKa_ZE_ENO2](pYPKa_ZE_ENO2.ipynb) and [pYPKa_A_Athmod1](pYPKa_A_Athmod1.ipynb) notebooks.\n",
    "\n",
    "Three DNA fragments are PCR amplified using [standard primers](standard_primers.txt). Suggested PCR programs can be found at the end of this document."
   ]
  },
  {
   "cell_type": "code",
   "execution_count": 6,
   "id": "e8887a74",
   "metadata": {
    "execution": {
     "iopub.execute_input": "2022-03-06T17:32:21.949730Z",
     "iopub.status.busy": "2022-03-06T17:32:21.949482Z",
     "iopub.status.idle": "2022-03-06T17:32:21.972943Z",
     "shell.execute_reply": "2022-03-06T17:32:21.972374Z"
    }
   },
   "outputs": [],
   "source": [
    "prom = pcr( p['577'], p['567'], promoter_template)\n",
    "gene = pcr( p['468'], p['467'], gene_template)\n",
    "term = pcr( p['568'], p['578'], terminator_template)"
   ]
  },
  {
   "cell_type": "markdown",
   "id": "f65a5b4c",
   "metadata": {},
   "source": [
    "The four linear DNA fragments are mixed and transformed\n",
    "to a _Saccharomyces cerevisiae_ ura3 mutant.\n",
    "\n",
    "The fragments will be assembled by _in-vivo_ [homologous recombination](http://www.ncbi.nlm.nih.gov/pubmed/2828185):"
   ]
  },
  {
   "cell_type": "code",
   "execution_count": 7,
   "id": "3b44cf71",
   "metadata": {
    "execution": {
     "iopub.execute_input": "2022-03-06T17:32:21.975914Z",
     "iopub.status.busy": "2022-03-06T17:32:21.975657Z",
     "iopub.status.idle": "2022-03-06T17:32:22.541519Z",
     "shell.execute_reply": "2022-03-06T17:32:22.540685Z"
    }
   },
   "outputs": [
    {
     "data": {
      "text/plain": [
       "Assembly\n",
       "fragments..: 5603bp 752bp 1039bp 841bp\n",
       "limit(bp)..: 31\n",
       "G.nodes....: 8\n",
       "algorithm..: common_sub_strings"
      ]
     },
     "execution_count": 7,
     "metadata": {},
     "output_type": "execute_result"
    }
   ],
   "source": [
    "asm = Assembly( (pYPK_EcoRV, prom, gene, term), limit=31 )\n",
    "\n",
    "asm"
   ]
  },
  {
   "cell_type": "markdown",
   "id": "7ed84c4b",
   "metadata": {},
   "source": [
    "The representation of the asm object above should normally indicate one circcular product only.\n",
    "More than one circular products might indicate an incorrect assembly strategy or represent\n",
    "by-products that might arise in the assembly process.\n",
    "The largest recombination product is chosen as candidate for the pYPK0_ENO2_Athmod1_RPL5 vector."
   ]
  },
  {
   "cell_type": "code",
   "execution_count": 8,
   "id": "f524eded",
   "metadata": {
    "execution": {
     "iopub.execute_input": "2022-03-06T17:32:22.548082Z",
     "iopub.status.busy": "2022-03-06T17:32:22.547502Z",
     "iopub.status.idle": "2022-03-06T17:32:22.811493Z",
     "shell.execute_reply": "2022-03-06T17:32:22.810219Z"
    }
   },
   "outputs": [
    {
     "data": {
      "text/plain": [
       " -|pYPKpw_lin|124\n",
       "|             \\/\n",
       "|             /\\\n",
       "|             124|752bp_PCR_prod|48\n",
       "|                                \\/\n",
       "|                                /\\\n",
       "|                                48|1039bp_PCR_prod|35\n",
       "|                                                   \\/\n",
       "|                                                   /\\\n",
       "|                                                   35|841bp_PCR_prod|242\n",
       "|                                                                     \\/\n",
       "|                                                                     /\\\n",
       "|                                                                     242-\n",
       "|                                                                        |\n",
       " ------------------------------------------------------------------------"
      ]
     },
     "execution_count": 8,
     "metadata": {},
     "output_type": "execute_result"
    }
   ],
   "source": [
    "candidate = asm.assemble_circular()[0]\n",
    "\n",
    "candidate.figure()"
   ]
  },
  {
   "cell_type": "markdown",
   "id": "41e26217",
   "metadata": {},
   "source": [
    "The candidate vector is synchronized to the 577 primer. This means that\n",
    "the plasmid origin is shifted so that it matches the backbone vector."
   ]
  },
  {
   "cell_type": "code",
   "execution_count": 9,
   "id": "4cd042a1",
   "metadata": {
    "execution": {
     "iopub.execute_input": "2022-03-06T17:32:22.817637Z",
     "iopub.status.busy": "2022-03-06T17:32:22.817150Z",
     "iopub.status.idle": "2022-03-06T17:32:23.226386Z",
     "shell.execute_reply": "2022-03-06T17:32:23.225749Z"
    }
   },
   "outputs": [],
   "source": [
    "result = candidate.synced(\"gttctgatcctcgagcatcttaagaattc\")"
   ]
  },
  {
   "cell_type": "markdown",
   "id": "235daa56",
   "metadata": {},
   "source": [
    "### Diagnostic PCR confirmation\n",
    "\n",
    "The structure of the final vector is confirmed by two\n",
    "separate PCR reactions, one for the promoter and gene and\n",
    "one for the gene and terminator.\n",
    "\n",
    "PCR using standard primers 577 and 467 to amplify promoter and gene."
   ]
  },
  {
   "cell_type": "code",
   "execution_count": 10,
   "id": "3023dd13",
   "metadata": {
    "execution": {
     "iopub.execute_input": "2022-03-06T17:32:23.230367Z",
     "iopub.status.busy": "2022-03-06T17:32:23.230065Z",
     "iopub.status.idle": "2022-03-06T17:32:23.254664Z",
     "shell.execute_reply": "2022-03-06T17:32:23.253980Z"
    }
   },
   "outputs": [],
   "source": [
    "product = pcr( p['577'], p['467'], result)"
   ]
  },
  {
   "cell_type": "markdown",
   "id": "9e3b1e9e",
   "metadata": {},
   "source": [
    "A correct clone should give this size in base pairs:"
   ]
  },
  {
   "cell_type": "code",
   "execution_count": 11,
   "id": "9e86630b",
   "metadata": {
    "execution": {
     "iopub.execute_input": "2022-03-06T17:32:23.257449Z",
     "iopub.status.busy": "2022-03-06T17:32:23.257074Z",
     "iopub.status.idle": "2022-03-06T17:32:23.262213Z",
     "shell.execute_reply": "2022-03-06T17:32:23.261290Z"
    }
   },
   "outputs": [
    {
     "name": "stdout",
     "output_type": "stream",
     "text": [
      "1741\n"
     ]
    }
   ],
   "source": [
    "print(len(product))"
   ]
  },
  {
   "cell_type": "markdown",
   "id": "b601ec44",
   "metadata": {},
   "source": [
    "If the promoter is missing from the assembly, the PCR product will have this size in base pairs:"
   ]
  },
  {
   "cell_type": "code",
   "execution_count": 12,
   "id": "bdd40f04",
   "metadata": {
    "execution": {
     "iopub.execute_input": "2022-03-06T17:32:23.267762Z",
     "iopub.status.busy": "2022-03-06T17:32:23.267540Z",
     "iopub.status.idle": "2022-03-06T17:32:23.271265Z",
     "shell.execute_reply": "2022-03-06T17:32:23.270713Z"
    }
   },
   "outputs": [
    {
     "name": "stdout",
     "output_type": "stream",
     "text": [
      "989\n"
     ]
    }
   ],
   "source": [
    "print(len(product) - len(prom))"
   ]
  },
  {
   "cell_type": "markdown",
   "id": "8f10d959",
   "metadata": {},
   "source": [
    "If the gene is missing from the assembly, the PCR product will have this size in base pairs:"
   ]
  },
  {
   "cell_type": "code",
   "execution_count": 13,
   "id": "666327c1",
   "metadata": {
    "execution": {
     "iopub.execute_input": "2022-03-06T17:32:23.273811Z",
     "iopub.status.busy": "2022-03-06T17:32:23.273629Z",
     "iopub.status.idle": "2022-03-06T17:32:23.279624Z",
     "shell.execute_reply": "2022-03-06T17:32:23.277028Z"
    }
   },
   "outputs": [
    {
     "name": "stdout",
     "output_type": "stream",
     "text": [
      "702\n"
     ]
    }
   ],
   "source": [
    "print(len(product) - len(gene))"
   ]
  },
  {
   "cell_type": "markdown",
   "id": "5357e00a",
   "metadata": {},
   "source": [
    "PCR using standard primers 468 and 578 to amplify gene and terminator."
   ]
  },
  {
   "cell_type": "code",
   "execution_count": 14,
   "id": "c1defb1d",
   "metadata": {
    "execution": {
     "iopub.execute_input": "2022-03-06T17:32:23.285193Z",
     "iopub.status.busy": "2022-03-06T17:32:23.284787Z",
     "iopub.status.idle": "2022-03-06T17:32:23.308486Z",
     "shell.execute_reply": "2022-03-06T17:32:23.307986Z"
    }
   },
   "outputs": [],
   "source": [
    "product2 = pcr( p['468'], p['578'], result)"
   ]
  },
  {
   "cell_type": "markdown",
   "id": "27217907",
   "metadata": {},
   "source": [
    "A correct clone should give this size:"
   ]
  },
  {
   "cell_type": "code",
   "execution_count": 15,
   "id": "0dddd36c",
   "metadata": {
    "execution": {
     "iopub.execute_input": "2022-03-06T17:32:23.315535Z",
     "iopub.status.busy": "2022-03-06T17:32:23.315030Z",
     "iopub.status.idle": "2022-03-06T17:32:23.319505Z",
     "shell.execute_reply": "2022-03-06T17:32:23.318783Z"
    }
   },
   "outputs": [
    {
     "name": "stdout",
     "output_type": "stream",
     "text": [
      "1843\n"
     ]
    }
   ],
   "source": [
    "print(len(product2))"
   ]
  },
  {
   "cell_type": "markdown",
   "id": "aa7c840b",
   "metadata": {},
   "source": [
    "If the gene is missing from the assembly, the PCR product will have this size in base pairs:"
   ]
  },
  {
   "cell_type": "code",
   "execution_count": 16,
   "id": "af55fab1",
   "metadata": {
    "execution": {
     "iopub.execute_input": "2022-03-06T17:32:23.322206Z",
     "iopub.status.busy": "2022-03-06T17:32:23.321981Z",
     "iopub.status.idle": "2022-03-06T17:32:23.325335Z",
     "shell.execute_reply": "2022-03-06T17:32:23.324662Z"
    }
   },
   "outputs": [
    {
     "name": "stdout",
     "output_type": "stream",
     "text": [
      "804\n"
     ]
    }
   ],
   "source": [
    "print(len(product2) - len(gene))"
   ]
  },
  {
   "cell_type": "markdown",
   "id": "2185fb24",
   "metadata": {},
   "source": [
    "If the terminator is missing from the assembly, the PCR product will have this size in base pairs:"
   ]
  },
  {
   "cell_type": "code",
   "execution_count": 17,
   "id": "8e2d2e95",
   "metadata": {
    "execution": {
     "iopub.execute_input": "2022-03-06T17:32:23.328285Z",
     "iopub.status.busy": "2022-03-06T17:32:23.327875Z",
     "iopub.status.idle": "2022-03-06T17:32:23.333817Z",
     "shell.execute_reply": "2022-03-06T17:32:23.332823Z"
    }
   },
   "outputs": [
    {
     "name": "stdout",
     "output_type": "stream",
     "text": [
      "1002\n"
     ]
    }
   ],
   "source": [
    "print(len(product2) - len(term))"
   ]
  },
  {
   "cell_type": "markdown",
   "id": "5ccc022c",
   "metadata": {},
   "source": [
    "The cseguid checksum for the resulting plasmid is calculated for future reference.\n",
    "The [cseguid checksum](http://pydna.readthedocs.org/en/latest/pydna.html#pydna.utils.cseguid)\n",
    "uniquely identifies a circular double stranded sequence."
   ]
  },
  {
   "cell_type": "code",
   "execution_count": 18,
   "id": "7d1da7ec",
   "metadata": {
    "execution": {
     "iopub.execute_input": "2022-03-06T17:32:23.336712Z",
     "iopub.status.busy": "2022-03-06T17:32:23.336492Z",
     "iopub.status.idle": "2022-03-06T17:32:23.348850Z",
     "shell.execute_reply": "2022-03-06T17:32:23.348096Z"
    }
   },
   "outputs": [
    {
     "data": {
      "text/plain": [
       "IdhQZ3he-Zy_Fc01KIjueEsNc4w"
      ]
     },
     "execution_count": 18,
     "metadata": {},
     "output_type": "execute_result"
    }
   ],
   "source": [
    "result.cseguid()"
   ]
  },
  {
   "cell_type": "markdown",
   "id": "a7dcc70c",
   "metadata": {},
   "source": [
    "The file is named based on the nemas of promoter, gene and terminator."
   ]
  },
  {
   "cell_type": "code",
   "execution_count": 19,
   "id": "9fbe9555",
   "metadata": {
    "execution": {
     "iopub.execute_input": "2022-03-06T17:32:23.351686Z",
     "iopub.status.busy": "2022-03-06T17:32:23.351461Z",
     "iopub.status.idle": "2022-03-06T17:32:23.355130Z",
     "shell.execute_reply": "2022-03-06T17:32:23.354350Z"
    }
   },
   "outputs": [],
   "source": [
    "result.locus = \"pYPK0_tp_g_tp\"\n",
    "result.definition = \"pYPK0_ENO2_Athmod1_RPL5\""
   ]
  },
  {
   "cell_type": "markdown",
   "id": "5a3c2831",
   "metadata": {},
   "source": [
    "Sequence is stamped with cseguid checksum. This can be used to verify the\n",
    "integrity of the sequence file."
   ]
  },
  {
   "cell_type": "code",
   "execution_count": 20,
   "id": "22052299",
   "metadata": {
    "execution": {
     "iopub.execute_input": "2022-03-06T17:32:23.358179Z",
     "iopub.status.busy": "2022-03-06T17:32:23.357824Z",
     "iopub.status.idle": "2022-03-06T17:32:23.371719Z",
     "shell.execute_reply": "2022-03-06T17:32:23.371150Z"
    }
   },
   "outputs": [
    {
     "data": {
      "text/plain": [
       "cSEGUID_IdhQZ3he-Zy_Fc01KIjueEsNc4w"
      ]
     },
     "execution_count": 20,
     "metadata": {},
     "output_type": "execute_result"
    }
   ],
   "source": [
    "result.stamp()"
   ]
  },
  {
   "cell_type": "markdown",
   "id": "bc51aeb0",
   "metadata": {},
   "source": [
    "Write sequence to a local file."
   ]
  },
  {
   "cell_type": "code",
   "execution_count": 21,
   "id": "d4943f3d",
   "metadata": {
    "execution": {
     "iopub.execute_input": "2022-03-06T17:32:23.374203Z",
     "iopub.status.busy": "2022-03-06T17:32:23.373963Z",
     "iopub.status.idle": "2022-03-06T17:32:23.385191Z",
     "shell.execute_reply": "2022-03-06T17:32:23.384366Z"
    }
   },
   "outputs": [
    {
     "data": {
      "text/html": [
       "<font face=monospace><a href='pYPK0_ENO2_Athmod1_RPL5.gb' target='_blank'>pYPK0_ENO2_Athmod1_RPL5.gb</a></font><br>"
      ]
     },
     "metadata": {},
     "output_type": "display_data"
    }
   ],
   "source": [
    "result.write(\"pYPK0_ENO2_Athmod1_RPL5.gb\")"
   ]
  },
  {
   "cell_type": "markdown",
   "id": "09b4420f",
   "metadata": {},
   "source": [
    "## PCR programs for the amplification of Promoter, Gene and Terminator\n",
    "\n",
    "see cell #6\n",
    "\n",
    "Promoter"
   ]
  },
  {
   "cell_type": "code",
   "execution_count": 22,
   "id": "91808cc6",
   "metadata": {
    "execution": {
     "iopub.execute_input": "2022-03-06T17:32:23.388775Z",
     "iopub.status.busy": "2022-03-06T17:32:23.388523Z",
     "iopub.status.idle": "2022-03-06T17:32:23.395771Z",
     "shell.execute_reply": "2022-03-06T17:32:23.394494Z"
    }
   },
   "outputs": [
    {
     "data": {
      "text/plain": [
       "|95°C|95°C               |    |tmf:64.6\n",
       "|____|_____          72°C|72°C|tmr:69.7\n",
       "|3min|30s  \\ 57.1°C _____|____|45s/kb\n",
       "|    |      \\______/ 0:33|5min|GC 39%\n",
       "|    |       30s         |    |752bp"
      ]
     },
     "execution_count": 22,
     "metadata": {},
     "output_type": "execute_result"
    }
   ],
   "source": [
    "prom.program()"
   ]
  },
  {
   "cell_type": "markdown",
   "id": "eda2a361",
   "metadata": {},
   "source": [
    "Gene"
   ]
  },
  {
   "cell_type": "code",
   "execution_count": 23,
   "id": "caa75333",
   "metadata": {
    "execution": {
     "iopub.execute_input": "2022-03-06T17:32:23.400344Z",
     "iopub.status.busy": "2022-03-06T17:32:23.400029Z",
     "iopub.status.idle": "2022-03-06T17:32:23.405767Z",
     "shell.execute_reply": "2022-03-06T17:32:23.404926Z"
    }
   },
   "outputs": [
    {
     "data": {
      "text/plain": [
       "|95°C|95°C               |    |tmf:76.9\n",
       "|____|_____          72°C|72°C|tmr:67.9\n",
       "|3min|30s  \\ 60.1°C _____|____|45s/kb\n",
       "|    |      \\______/ 0:46|5min|GC 46%\n",
       "|    |       30s         |    |1039bp"
      ]
     },
     "execution_count": 23,
     "metadata": {},
     "output_type": "execute_result"
    }
   ],
   "source": [
    "gene.program()"
   ]
  },
  {
   "cell_type": "markdown",
   "id": "963a2635",
   "metadata": {},
   "source": [
    "Terminator"
   ]
  },
  {
   "cell_type": "code",
   "execution_count": 24,
   "id": "fbb977cf",
   "metadata": {
    "execution": {
     "iopub.execute_input": "2022-03-06T17:32:23.408852Z",
     "iopub.status.busy": "2022-03-06T17:32:23.408573Z",
     "iopub.status.idle": "2022-03-06T17:32:23.420082Z",
     "shell.execute_reply": "2022-03-06T17:32:23.419128Z"
    }
   },
   "outputs": [
    {
     "data": {
      "text/plain": [
       "|95°C|95°C               |    |tmf:66.1\n",
       "|____|_____          72°C|72°C|tmr:65.0\n",
       "|3min|30s  \\ 56.8°C _____|____|45s/kb\n",
       "|    |      \\______/ 0:37|5min|GC 37%\n",
       "|    |       30s         |    |841bp"
      ]
     },
     "execution_count": 24,
     "metadata": {},
     "output_type": "execute_result"
    }
   ],
   "source": [
    "term.program()"
   ]
  }
 ],
 "metadata": {
  "language_info": {
   "codemirror_mode": {
    "name": "ipython",
    "version": 3
   },
   "file_extension": ".py",
   "mimetype": "text/x-python",
   "name": "python",
   "nbconvert_exporter": "python",
   "pygments_lexer": "ipython3",
   "version": "3.9.7"
  }
 },
 "nbformat": 4,
 "nbformat_minor": 5
}
