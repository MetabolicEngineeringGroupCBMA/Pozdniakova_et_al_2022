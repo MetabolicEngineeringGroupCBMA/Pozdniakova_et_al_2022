{
 "cells": [
  {
   "cell_type": "markdown",
   "id": "ad444e09",
   "metadata": {},
   "source": [
    "# pYPK0_TDH3_EcfabF_UTR2\n",
    "\n",
    "This notebook describes the assembly of the [_Saccaromyces cerevisiae_](www.yeastgenome.org)\n",
    "single gene expression vector pYPK0_TDH3_EcfabF_UTR2.\n",
    "\n",
    "It is made by _in-vivo_ homologous recombination between three PCR products and one linear vector fragment.\n",
    "The PCR products are a promoter generated from a pYPK_Z vector, a gene from a pYPKa_A vector and\n",
    "a terminator from a pYPKa_E vector. The three PCR products are joined with\n",
    "a linearized [pYPKpw](https://github.com/BjornFJohansson/ypk-xylose-pathways/blob/master/notebooks/pYPKpw.ipynb)\n",
    "backbone vector that has the [URA3](http://www.yeastgenome.org/locus/S000000747/overview)\n",
    "marker and a _S. crevisiae_ [2 micron](http://blog.addgene.org/plasmids-101-yeast-vectors) origin of replication.\n",
    "\n",
    "The four linear DNA fragments are joined by homologous recombination in a\n",
    "[_Saccharomyces cerevisiae_](http://wiki.yeastgenome.org/index.php/Commonly_used_strains) ura3 mutant.\n",
    "\n",
    "![pYPK0_promoter_gene_terminator](tp_g_tp.png \"pYPK0_promoter_gene_terminator\")\n",
    "\n",
    "A part of the [pydna](https://pypi.python.org/pypi/pydna/) package is imported in the code cell below."
   ]
  },
  {
   "cell_type": "code",
   "execution_count": 1,
   "id": "aea2ecbd",
   "metadata": {
    "execution": {
     "iopub.execute_input": "2022-03-06T17:32:06.073471Z",
     "iopub.status.busy": "2022-03-06T17:32:06.073091Z",
     "iopub.status.idle": "2022-03-06T17:32:06.534126Z",
     "shell.execute_reply": "2022-03-06T17:32:06.533538Z"
    }
   },
   "outputs": [],
   "source": [
    "from pydna.parsers import parse_primers\n",
    "from pydna.readers import read\n",
    "from pydna.amplify import pcr\n",
    "from pydna.assembly import Assembly"
   ]
  },
  {
   "cell_type": "markdown",
   "id": "0088b4cd",
   "metadata": {},
   "source": [
    "The Yeast Pathway Kit [standard primers](standard_primers.txt) are read into a dictionary in the code cell below."
   ]
  },
  {
   "cell_type": "code",
   "execution_count": 2,
   "id": "4726e0ba",
   "metadata": {
    "execution": {
     "iopub.execute_input": "2022-03-06T17:32:06.537577Z",
     "iopub.status.busy": "2022-03-06T17:32:06.537282Z",
     "iopub.status.idle": "2022-03-06T17:32:06.571474Z",
     "shell.execute_reply": "2022-03-06T17:32:06.569809Z"
    }
   },
   "outputs": [],
   "source": [
    "p = { x.id: x for x in parse_primers(\"standard_primers.txt\") }"
   ]
  },
  {
   "cell_type": "markdown",
   "id": "596eba2b",
   "metadata": {},
   "source": [
    "The backbone vector [pYPKpw](pYPKpw.gb) is read from a local file in the code cell below."
   ]
  },
  {
   "cell_type": "code",
   "execution_count": 3,
   "id": "72ab6241",
   "metadata": {
    "execution": {
     "iopub.execute_input": "2022-03-06T17:32:06.576141Z",
     "iopub.status.busy": "2022-03-06T17:32:06.575821Z",
     "iopub.status.idle": "2022-03-06T17:32:06.596558Z",
     "shell.execute_reply": "2022-03-06T17:32:06.595898Z"
    }
   },
   "outputs": [],
   "source": [
    "pYPKpw = read(\"pYPKpw.gb\")"
   ]
  },
  {
   "cell_type": "markdown",
   "id": "ffd839ce",
   "metadata": {},
   "source": [
    "The backbone vector is linearized by digestion with [EcoRV](http://rebase.neb.com/rebase/enz/EcoRV.html).\n",
    "The restriction enzyme functionality is provided by [biopython](http://biopython.org)."
   ]
  },
  {
   "cell_type": "code",
   "execution_count": 4,
   "id": "d12aeee0",
   "metadata": {
    "execution": {
     "iopub.execute_input": "2022-03-06T17:32:06.599360Z",
     "iopub.status.busy": "2022-03-06T17:32:06.599114Z",
     "iopub.status.idle": "2022-03-06T17:32:06.604940Z",
     "shell.execute_reply": "2022-03-06T17:32:06.604258Z"
    }
   },
   "outputs": [],
   "source": [
    "from Bio.Restriction import EcoRV\n",
    "\n",
    "pYPK_EcoRV = pYPKpw.linearize(EcoRV)"
   ]
  },
  {
   "cell_type": "markdown",
   "id": "5e65a35f",
   "metadata": {},
   "source": [
    "The pYPKa derived _E. coli_ plasmids containing [promoter](pYPKa_Z_TDH3.gb), [gene](pYPKa_A_EcfabF.gb) and [terminator](pYPKa_E_UTR2.gb)\n",
    "are read into three variables below."
   ]
  },
  {
   "cell_type": "code",
   "execution_count": 5,
   "id": "a10c8f8c",
   "metadata": {
    "execution": {
     "iopub.execute_input": "2022-03-06T17:32:06.608110Z",
     "iopub.status.busy": "2022-03-06T17:32:06.607846Z",
     "iopub.status.idle": "2022-03-06T17:32:06.624116Z",
     "shell.execute_reply": "2022-03-06T17:32:06.623640Z"
    }
   },
   "outputs": [],
   "source": [
    "promoter_template   = read(\"pYPKa_Z_TDH3.gb\")\n",
    "gene_template       = read(\"pYPKa_A_EcfabF.gb\")\n",
    "terminator_template = read(\"pYPKa_E_UTR2.gb\")"
   ]
  },
  {
   "cell_type": "markdown",
   "id": "e9ab6edf",
   "metadata": {},
   "source": [
    "The construction of the three vector above are described in the [pYPKa_ZE_TDH3](pYPKa_ZE_TDH3.ipynb) and [pYPKa_A_EcfabF](pYPKa_A_EcfabF.ipynb) notebooks.\n",
    "\n",
    "Three DNA fragments are PCR amplified using [standard primers](standard_primers.txt). Suggested PCR programs can be found at the end of this document."
   ]
  },
  {
   "cell_type": "code",
   "execution_count": 6,
   "id": "fc878ce2",
   "metadata": {
    "execution": {
     "iopub.execute_input": "2022-03-06T17:32:06.627294Z",
     "iopub.status.busy": "2022-03-06T17:32:06.626962Z",
     "iopub.status.idle": "2022-03-06T17:32:06.652227Z",
     "shell.execute_reply": "2022-03-06T17:32:06.651512Z"
    }
   },
   "outputs": [],
   "source": [
    "prom = pcr( p['577'], p['567'], promoter_template)\n",
    "gene = pcr( p['468'], p['467'], gene_template)\n",
    "term = pcr( p['568'], p['578'], terminator_template)"
   ]
  },
  {
   "cell_type": "markdown",
   "id": "3d7d528c",
   "metadata": {},
   "source": [
    "The four linear DNA fragments are mixed and transformed\n",
    "to a _Saccharomyces cerevisiae_ ura3 mutant.\n",
    "\n",
    "The fragments will be assembled by _in-vivo_ [homologous recombination](http://www.ncbi.nlm.nih.gov/pubmed/2828185):"
   ]
  },
  {
   "cell_type": "code",
   "execution_count": 7,
   "id": "a6aa7fdc",
   "metadata": {
    "execution": {
     "iopub.execute_input": "2022-03-06T17:32:06.655050Z",
     "iopub.status.busy": "2022-03-06T17:32:06.654819Z",
     "iopub.status.idle": "2022-03-06T17:32:07.290865Z",
     "shell.execute_reply": "2022-03-06T17:32:07.290210Z"
    }
   },
   "outputs": [
    {
     "data": {
      "text/plain": [
       "Assembly\n",
       "fragments..: 5603bp 930bp 1331bp 960bp\n",
       "limit(bp)..: 31\n",
       "G.nodes....: 8\n",
       "algorithm..: common_sub_strings"
      ]
     },
     "execution_count": 7,
     "metadata": {},
     "output_type": "execute_result"
    }
   ],
   "source": [
    "asm = Assembly( (pYPK_EcoRV, prom, gene, term), limit=31 )\n",
    "\n",
    "asm"
   ]
  },
  {
   "cell_type": "markdown",
   "id": "ee0b7414",
   "metadata": {},
   "source": [
    "The representation of the asm object above should normally indicate one circcular product only.\n",
    "More than one circular products might indicate an incorrect assembly strategy or represent\n",
    "by-products that might arise in the assembly process.\n",
    "The largest recombination product is chosen as candidate for the pYPK0_TDH3_EcfabF_UTR2 vector."
   ]
  },
  {
   "cell_type": "code",
   "execution_count": 8,
   "id": "c88dfbf0",
   "metadata": {
    "execution": {
     "iopub.execute_input": "2022-03-06T17:32:07.297974Z",
     "iopub.status.busy": "2022-03-06T17:32:07.297607Z",
     "iopub.status.idle": "2022-03-06T17:32:07.588406Z",
     "shell.execute_reply": "2022-03-06T17:32:07.587889Z"
    }
   },
   "outputs": [
    {
     "data": {
      "text/plain": [
       " -|pYPKpw_lin|124\n",
       "|             \\/\n",
       "|             /\\\n",
       "|             124|930bp_PCR_prod|50\n",
       "|                                \\/\n",
       "|                                /\\\n",
       "|                                50|1331bp_PCR_prod|37\n",
       "|                                                   \\/\n",
       "|                                                   /\\\n",
       "|                                                   37|960bp_PCR_prod|242\n",
       "|                                                                     \\/\n",
       "|                                                                     /\\\n",
       "|                                                                     242-\n",
       "|                                                                        |\n",
       " ------------------------------------------------------------------------"
      ]
     },
     "execution_count": 8,
     "metadata": {},
     "output_type": "execute_result"
    }
   ],
   "source": [
    "candidate = asm.assemble_circular()[0]\n",
    "\n",
    "candidate.figure()"
   ]
  },
  {
   "cell_type": "markdown",
   "id": "e6805429",
   "metadata": {},
   "source": [
    "The candidate vector is synchronized to the 577 primer. This means that\n",
    "the plasmid origin is shifted so that it matches the backbone vector."
   ]
  },
  {
   "cell_type": "code",
   "execution_count": 9,
   "id": "58b9080d",
   "metadata": {
    "execution": {
     "iopub.execute_input": "2022-03-06T17:32:07.590881Z",
     "iopub.status.busy": "2022-03-06T17:32:07.590664Z",
     "iopub.status.idle": "2022-03-06T17:32:08.038398Z",
     "shell.execute_reply": "2022-03-06T17:32:08.037411Z"
    }
   },
   "outputs": [],
   "source": [
    "result = candidate.synced(\"gttctgatcctcgagcatcttaagaattc\")"
   ]
  },
  {
   "cell_type": "markdown",
   "id": "07fe3897",
   "metadata": {},
   "source": [
    "### Diagnostic PCR confirmation\n",
    "\n",
    "The structure of the final vector is confirmed by two\n",
    "separate PCR reactions, one for the promoter and gene and\n",
    "one for the gene and terminator.\n",
    "\n",
    "PCR using standard primers 577 and 467 to amplify promoter and gene."
   ]
  },
  {
   "cell_type": "code",
   "execution_count": 10,
   "id": "cc9b9ac0",
   "metadata": {
    "execution": {
     "iopub.execute_input": "2022-03-06T17:32:08.044239Z",
     "iopub.status.busy": "2022-03-06T17:32:08.043486Z",
     "iopub.status.idle": "2022-03-06T17:32:08.076938Z",
     "shell.execute_reply": "2022-03-06T17:32:08.075479Z"
    }
   },
   "outputs": [],
   "source": [
    "product = pcr( p['577'], p['467'], result)"
   ]
  },
  {
   "cell_type": "markdown",
   "id": "4967e205",
   "metadata": {},
   "source": [
    "A correct clone should give this size in base pairs:"
   ]
  },
  {
   "cell_type": "code",
   "execution_count": 11,
   "id": "07d7d4b8",
   "metadata": {
    "execution": {
     "iopub.execute_input": "2022-03-06T17:32:08.083666Z",
     "iopub.status.busy": "2022-03-06T17:32:08.082445Z",
     "iopub.status.idle": "2022-03-06T17:32:08.087980Z",
     "shell.execute_reply": "2022-03-06T17:32:08.087320Z"
    }
   },
   "outputs": [
    {
     "name": "stdout",
     "output_type": "stream",
     "text": [
      "2211\n"
     ]
    }
   ],
   "source": [
    "print(len(product))"
   ]
  },
  {
   "cell_type": "markdown",
   "id": "f5d5141a",
   "metadata": {},
   "source": [
    "If the promoter is missing from the assembly, the PCR product will have this size in base pairs:"
   ]
  },
  {
   "cell_type": "code",
   "execution_count": 12,
   "id": "3412c6f0",
   "metadata": {
    "execution": {
     "iopub.execute_input": "2022-03-06T17:32:08.091022Z",
     "iopub.status.busy": "2022-03-06T17:32:08.090770Z",
     "iopub.status.idle": "2022-03-06T17:32:08.100608Z",
     "shell.execute_reply": "2022-03-06T17:32:08.099948Z"
    }
   },
   "outputs": [
    {
     "name": "stdout",
     "output_type": "stream",
     "text": [
      "1281\n"
     ]
    }
   ],
   "source": [
    "print(len(product) - len(prom))"
   ]
  },
  {
   "cell_type": "markdown",
   "id": "fa6385a9",
   "metadata": {},
   "source": [
    "If the gene is missing from the assembly, the PCR product will have this size in base pairs:"
   ]
  },
  {
   "cell_type": "code",
   "execution_count": 13,
   "id": "3640221d",
   "metadata": {
    "execution": {
     "iopub.execute_input": "2022-03-06T17:32:08.103710Z",
     "iopub.status.busy": "2022-03-06T17:32:08.103456Z",
     "iopub.status.idle": "2022-03-06T17:32:08.107475Z",
     "shell.execute_reply": "2022-03-06T17:32:08.106697Z"
    }
   },
   "outputs": [
    {
     "name": "stdout",
     "output_type": "stream",
     "text": [
      "880\n"
     ]
    }
   ],
   "source": [
    "print(len(product) - len(gene))"
   ]
  },
  {
   "cell_type": "markdown",
   "id": "4007ac44",
   "metadata": {},
   "source": [
    "PCR using standard primers 468 and 578 to amplify gene and terminator."
   ]
  },
  {
   "cell_type": "code",
   "execution_count": 14,
   "id": "921e7dde",
   "metadata": {
    "execution": {
     "iopub.execute_input": "2022-03-06T17:32:08.114965Z",
     "iopub.status.busy": "2022-03-06T17:32:08.114689Z",
     "iopub.status.idle": "2022-03-06T17:32:08.144099Z",
     "shell.execute_reply": "2022-03-06T17:32:08.142398Z"
    }
   },
   "outputs": [],
   "source": [
    "product2 = pcr( p['468'], p['578'], result)"
   ]
  },
  {
   "cell_type": "markdown",
   "id": "f387e96b",
   "metadata": {},
   "source": [
    "A correct clone should give this size:"
   ]
  },
  {
   "cell_type": "code",
   "execution_count": 15,
   "id": "353a0296",
   "metadata": {
    "execution": {
     "iopub.execute_input": "2022-03-06T17:32:08.155388Z",
     "iopub.status.busy": "2022-03-06T17:32:08.154949Z",
     "iopub.status.idle": "2022-03-06T17:32:08.158069Z",
     "shell.execute_reply": "2022-03-06T17:32:08.157573Z"
    }
   },
   "outputs": [
    {
     "name": "stdout",
     "output_type": "stream",
     "text": [
      "2254\n"
     ]
    }
   ],
   "source": [
    "print(len(product2))"
   ]
  },
  {
   "cell_type": "markdown",
   "id": "d0680d0a",
   "metadata": {},
   "source": [
    "If the gene is missing from the assembly, the PCR product will have this size in base pairs:"
   ]
  },
  {
   "cell_type": "code",
   "execution_count": 16,
   "id": "34dc0a8b",
   "metadata": {
    "execution": {
     "iopub.execute_input": "2022-03-06T17:32:08.160779Z",
     "iopub.status.busy": "2022-03-06T17:32:08.160492Z",
     "iopub.status.idle": "2022-03-06T17:32:08.166150Z",
     "shell.execute_reply": "2022-03-06T17:32:08.165172Z"
    }
   },
   "outputs": [
    {
     "name": "stdout",
     "output_type": "stream",
     "text": [
      "923\n"
     ]
    }
   ],
   "source": [
    "print(len(product2) - len(gene))"
   ]
  },
  {
   "cell_type": "markdown",
   "id": "19b441a5",
   "metadata": {},
   "source": [
    "If the terminator is missing from the assembly, the PCR product will have this size in base pairs:"
   ]
  },
  {
   "cell_type": "code",
   "execution_count": 17,
   "id": "b25ecd33",
   "metadata": {
    "execution": {
     "iopub.execute_input": "2022-03-06T17:32:08.169748Z",
     "iopub.status.busy": "2022-03-06T17:32:08.169550Z",
     "iopub.status.idle": "2022-03-06T17:32:08.172957Z",
     "shell.execute_reply": "2022-03-06T17:32:08.172396Z"
    }
   },
   "outputs": [
    {
     "name": "stdout",
     "output_type": "stream",
     "text": [
      "1294\n"
     ]
    }
   ],
   "source": [
    "print(len(product2) - len(term))"
   ]
  },
  {
   "cell_type": "markdown",
   "id": "829b4cb2",
   "metadata": {},
   "source": [
    "The cseguid checksum for the resulting plasmid is calculated for future reference.\n",
    "The [cseguid checksum](http://pydna.readthedocs.org/en/latest/pydna.html#pydna.utils.cseguid)\n",
    "uniquely identifies a circular double stranded sequence."
   ]
  },
  {
   "cell_type": "code",
   "execution_count": 18,
   "id": "18de6fae",
   "metadata": {
    "execution": {
     "iopub.execute_input": "2022-03-06T17:32:08.175463Z",
     "iopub.status.busy": "2022-03-06T17:32:08.175214Z",
     "iopub.status.idle": "2022-03-06T17:32:08.191037Z",
     "shell.execute_reply": "2022-03-06T17:32:08.190388Z"
    }
   },
   "outputs": [
    {
     "data": {
      "text/plain": [
       "Ji2VsX_-J4Osso-RMQSzGU7j1ME"
      ]
     },
     "execution_count": 18,
     "metadata": {},
     "output_type": "execute_result"
    }
   ],
   "source": [
    "result.cseguid()"
   ]
  },
  {
   "cell_type": "markdown",
   "id": "4104e42d",
   "metadata": {},
   "source": [
    "The file is named based on the nemas of promoter, gene and terminator."
   ]
  },
  {
   "cell_type": "code",
   "execution_count": 19,
   "id": "b86cfd9c",
   "metadata": {
    "execution": {
     "iopub.execute_input": "2022-03-06T17:32:08.194109Z",
     "iopub.status.busy": "2022-03-06T17:32:08.193838Z",
     "iopub.status.idle": "2022-03-06T17:32:08.197489Z",
     "shell.execute_reply": "2022-03-06T17:32:08.196657Z"
    }
   },
   "outputs": [],
   "source": [
    "result.locus = \"pYPK0_tp_g_tp\"\n",
    "result.definition = \"pYPK0_TDH3_EcfabF_UTR2\""
   ]
  },
  {
   "cell_type": "markdown",
   "id": "0a574f68",
   "metadata": {},
   "source": [
    "Sequence is stamped with cseguid checksum. This can be used to verify the\n",
    "integrity of the sequence file."
   ]
  },
  {
   "cell_type": "code",
   "execution_count": 20,
   "id": "dfc2eb1a",
   "metadata": {
    "execution": {
     "iopub.execute_input": "2022-03-06T17:32:08.200610Z",
     "iopub.status.busy": "2022-03-06T17:32:08.200383Z",
     "iopub.status.idle": "2022-03-06T17:32:08.215339Z",
     "shell.execute_reply": "2022-03-06T17:32:08.214670Z"
    }
   },
   "outputs": [
    {
     "data": {
      "text/plain": [
       "cSEGUID_Ji2VsX_-J4Osso-RMQSzGU7j1ME"
      ]
     },
     "execution_count": 20,
     "metadata": {},
     "output_type": "execute_result"
    }
   ],
   "source": [
    "result.stamp()"
   ]
  },
  {
   "cell_type": "markdown",
   "id": "a9012cf3",
   "metadata": {},
   "source": [
    "Write sequence to a local file."
   ]
  },
  {
   "cell_type": "code",
   "execution_count": 21,
   "id": "dff14ebe",
   "metadata": {
    "execution": {
     "iopub.execute_input": "2022-03-06T17:32:08.218688Z",
     "iopub.status.busy": "2022-03-06T17:32:08.218273Z",
     "iopub.status.idle": "2022-03-06T17:32:08.226753Z",
     "shell.execute_reply": "2022-03-06T17:32:08.226004Z"
    }
   },
   "outputs": [
    {
     "data": {
      "text/html": [
       "<font face=monospace><a href='pYPK0_TDH3_EcfabF_UTR2.gb' target='_blank'>pYPK0_TDH3_EcfabF_UTR2.gb</a></font><br>"
      ]
     },
     "metadata": {},
     "output_type": "display_data"
    }
   ],
   "source": [
    "result.write(\"pYPK0_TDH3_EcfabF_UTR2.gb\")"
   ]
  },
  {
   "cell_type": "markdown",
   "id": "71865f20",
   "metadata": {},
   "source": [
    "## PCR programs for the amplification of Promoter, Gene and Terminator\n",
    "\n",
    "see cell #6\n",
    "\n",
    "Promoter"
   ]
  },
  {
   "cell_type": "code",
   "execution_count": 22,
   "id": "5e2a7835",
   "metadata": {
    "execution": {
     "iopub.execute_input": "2022-03-06T17:32:08.230173Z",
     "iopub.status.busy": "2022-03-06T17:32:08.229919Z",
     "iopub.status.idle": "2022-03-06T17:32:08.234426Z",
     "shell.execute_reply": "2022-03-06T17:32:08.233802Z"
    }
   },
   "outputs": [
    {
     "data": {
      "text/plain": [
       "|95°C|95°C               |    |tmf:64.6\n",
       "|____|_____          72°C|72°C|tmr:69.7\n",
       "|3min|30s  \\ 57.1°C _____|____|45s/kb\n",
       "|    |      \\______/ 0:41|5min|GC 38%\n",
       "|    |       30s         |    |930bp"
      ]
     },
     "execution_count": 22,
     "metadata": {},
     "output_type": "execute_result"
    }
   ],
   "source": [
    "prom.program()"
   ]
  },
  {
   "cell_type": "markdown",
   "id": "b0e6c3f1",
   "metadata": {},
   "source": [
    "Gene"
   ]
  },
  {
   "cell_type": "code",
   "execution_count": 23,
   "id": "696d06b3",
   "metadata": {
    "execution": {
     "iopub.execute_input": "2022-03-06T17:32:08.238091Z",
     "iopub.status.busy": "2022-03-06T17:32:08.237803Z",
     "iopub.status.idle": "2022-03-06T17:32:08.243942Z",
     "shell.execute_reply": "2022-03-06T17:32:08.242289Z"
    }
   },
   "outputs": [
    {
     "data": {
      "text/plain": [
       "|95°C|95°C               |    |tmf:76.9\n",
       "|____|_____          72°C|72°C|tmr:67.9\n",
       "|3min|30s  \\ 62.3°C _____|____|45s/kb\n",
       "|    |      \\______/ 0:59|5min|GC 53%\n",
       "|    |       30s         |    |1331bp"
      ]
     },
     "execution_count": 23,
     "metadata": {},
     "output_type": "execute_result"
    }
   ],
   "source": [
    "gene.program()"
   ]
  },
  {
   "cell_type": "markdown",
   "id": "d95b3994",
   "metadata": {},
   "source": [
    "Terminator"
   ]
  },
  {
   "cell_type": "code",
   "execution_count": 24,
   "id": "a972525a",
   "metadata": {
    "execution": {
     "iopub.execute_input": "2022-03-06T17:32:08.251183Z",
     "iopub.status.busy": "2022-03-06T17:32:08.250643Z",
     "iopub.status.idle": "2022-03-06T17:32:08.257380Z",
     "shell.execute_reply": "2022-03-06T17:32:08.256263Z"
    }
   },
   "outputs": [
    {
     "data": {
      "text/plain": [
       "|95°C|95°C               |    |tmf:66.1\n",
       "|____|_____          72°C|72°C|tmr:65.0\n",
       "|3min|30s  \\ 57.5°C _____|____|45s/kb\n",
       "|    |      \\______/ 0:43|5min|GC 40%\n",
       "|    |       30s         |    |960bp"
      ]
     },
     "execution_count": 24,
     "metadata": {},
     "output_type": "execute_result"
    }
   ],
   "source": [
    "term.program()"
   ]
  }
 ],
 "metadata": {
  "language_info": {
   "codemirror_mode": {
    "name": "ipython",
    "version": 3
   },
   "file_extension": ".py",
   "mimetype": "text/x-python",
   "name": "python",
   "nbconvert_exporter": "python",
   "pygments_lexer": "ipython3",
   "version": "3.9.7"
  }
 },
 "nbformat": 4,
 "nbformat_minor": 5
}
