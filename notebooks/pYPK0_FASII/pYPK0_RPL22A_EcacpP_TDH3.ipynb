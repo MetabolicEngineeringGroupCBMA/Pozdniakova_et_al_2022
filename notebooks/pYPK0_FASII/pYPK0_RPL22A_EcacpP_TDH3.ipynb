{
 "cells": [
  {
   "cell_type": "markdown",
   "id": "285b4925",
   "metadata": {},
   "source": [
    "# pYPK0_RPL22A_EcacpP_TDH3\n",
    "\n",
    "This notebook describes the assembly of the [_Saccaromyces cerevisiae_](www.yeastgenome.org)\n",
    "single gene expression vector pYPK0_RPL22A_EcacpP_TDH3.\n",
    "\n",
    "It is made by _in-vivo_ homologous recombination between three PCR products and one linear vector fragment.\n",
    "The PCR products are a promoter generated from a pYPK_Z vector, a gene from a pYPKa_A vector and\n",
    "a terminator from a pYPKa_E vector. The three PCR products are joined with\n",
    "a linearized [pYPKpw](https://github.com/BjornFJohansson/ypk-xylose-pathways/blob/master/notebooks/pYPKpw.ipynb)\n",
    "backbone vector that has the [URA3](http://www.yeastgenome.org/locus/S000000747/overview)\n",
    "marker and a _S. crevisiae_ [2 micron](http://blog.addgene.org/plasmids-101-yeast-vectors) origin of replication.\n",
    "\n",
    "The four linear DNA fragments are joined by homologous recombination in a\n",
    "[_Saccharomyces cerevisiae_](http://wiki.yeastgenome.org/index.php/Commonly_used_strains) ura3 mutant.\n",
    "\n",
    "![pYPK0_promoter_gene_terminator](tp_g_tp.png \"pYPK0_promoter_gene_terminator\")\n",
    "\n",
    "A part of the [pydna](https://pypi.python.org/pypi/pydna/) package is imported in the code cell below."
   ]
  },
  {
   "cell_type": "code",
   "execution_count": 1,
   "id": "cd24406f",
   "metadata": {
    "execution": {
     "iopub.execute_input": "2022-03-06T17:32:02.234651Z",
     "iopub.status.busy": "2022-03-06T17:32:02.234028Z",
     "iopub.status.idle": "2022-03-06T17:32:02.711142Z",
     "shell.execute_reply": "2022-03-06T17:32:02.709169Z"
    }
   },
   "outputs": [],
   "source": [
    "from pydna.parsers import parse_primers\n",
    "from pydna.readers import read\n",
    "from pydna.amplify import pcr\n",
    "from pydna.assembly import Assembly"
   ]
  },
  {
   "cell_type": "markdown",
   "id": "56eb8388",
   "metadata": {},
   "source": [
    "The Yeast Pathway Kit [standard primers](standard_primers.txt) are read into a dictionary in the code cell below."
   ]
  },
  {
   "cell_type": "code",
   "execution_count": 2,
   "id": "27090a77",
   "metadata": {
    "execution": {
     "iopub.execute_input": "2022-03-06T17:32:02.720413Z",
     "iopub.status.busy": "2022-03-06T17:32:02.719267Z",
     "iopub.status.idle": "2022-03-06T17:32:02.734543Z",
     "shell.execute_reply": "2022-03-06T17:32:02.733960Z"
    }
   },
   "outputs": [],
   "source": [
    "p = { x.id: x for x in parse_primers(\"standard_primers.txt\") }"
   ]
  },
  {
   "cell_type": "markdown",
   "id": "07b04174",
   "metadata": {},
   "source": [
    "The backbone vector [pYPKpw](pYPKpw.gb) is read from a local file in the code cell below."
   ]
  },
  {
   "cell_type": "code",
   "execution_count": 3,
   "id": "c75d41a5",
   "metadata": {
    "execution": {
     "iopub.execute_input": "2022-03-06T17:32:02.737605Z",
     "iopub.status.busy": "2022-03-06T17:32:02.737356Z",
     "iopub.status.idle": "2022-03-06T17:32:02.754107Z",
     "shell.execute_reply": "2022-03-06T17:32:02.753597Z"
    }
   },
   "outputs": [],
   "source": [
    "pYPKpw = read(\"pYPKpw.gb\")"
   ]
  },
  {
   "cell_type": "markdown",
   "id": "7cc4d9d7",
   "metadata": {},
   "source": [
    "The backbone vector is linearized by digestion with [EcoRV](http://rebase.neb.com/rebase/enz/EcoRV.html).\n",
    "The restriction enzyme functionality is provided by [biopython](http://biopython.org)."
   ]
  },
  {
   "cell_type": "code",
   "execution_count": 4,
   "id": "caa47aae",
   "metadata": {
    "execution": {
     "iopub.execute_input": "2022-03-06T17:32:02.756692Z",
     "iopub.status.busy": "2022-03-06T17:32:02.756347Z",
     "iopub.status.idle": "2022-03-06T17:32:02.763159Z",
     "shell.execute_reply": "2022-03-06T17:32:02.762021Z"
    }
   },
   "outputs": [],
   "source": [
    "from Bio.Restriction import EcoRV\n",
    "\n",
    "pYPK_EcoRV = pYPKpw.linearize(EcoRV)"
   ]
  },
  {
   "cell_type": "markdown",
   "id": "05c11198",
   "metadata": {},
   "source": [
    "The pYPKa derived _E. coli_ plasmids containing [promoter](pYPKa_Z_RPL22A.gb), [gene](pYPKa_A_EcacpP.gb) and [terminator](pYPKa_E_TDH3.gb)\n",
    "are read into three variables below."
   ]
  },
  {
   "cell_type": "code",
   "execution_count": 5,
   "id": "5dea1326",
   "metadata": {
    "execution": {
     "iopub.execute_input": "2022-03-06T17:32:02.766278Z",
     "iopub.status.busy": "2022-03-06T17:32:02.765951Z",
     "iopub.status.idle": "2022-03-06T17:32:02.780128Z",
     "shell.execute_reply": "2022-03-06T17:32:02.779177Z"
    }
   },
   "outputs": [],
   "source": [
    "promoter_template   = read(\"pYPKa_Z_RPL22A.gb\")\n",
    "gene_template       = read(\"pYPKa_A_EcacpP.gb\")\n",
    "terminator_template = read(\"pYPKa_E_TDH3.gb\")"
   ]
  },
  {
   "cell_type": "markdown",
   "id": "a43e6b59",
   "metadata": {},
   "source": [
    "The construction of the three vector above are described in the [pYPKa_ZE_RPL22A](pYPKa_ZE_RPL22A.ipynb) and [pYPKa_A_EcacpP](pYPKa_A_EcacpP.ipynb) notebooks.\n",
    "\n",
    "Three DNA fragments are PCR amplified using [standard primers](standard_primers.txt). Suggested PCR programs can be found at the end of this document."
   ]
  },
  {
   "cell_type": "code",
   "execution_count": 6,
   "id": "9411a7e0",
   "metadata": {
    "execution": {
     "iopub.execute_input": "2022-03-06T17:32:02.784059Z",
     "iopub.status.busy": "2022-03-06T17:32:02.783351Z",
     "iopub.status.idle": "2022-03-06T17:32:02.807154Z",
     "shell.execute_reply": "2022-03-06T17:32:02.806587Z"
    }
   },
   "outputs": [],
   "source": [
    "prom = pcr( p['577'], p['567'], promoter_template)\n",
    "gene = pcr( p['468'], p['467'], gene_template)\n",
    "term = pcr( p['568'], p['578'], terminator_template)"
   ]
  },
  {
   "cell_type": "markdown",
   "id": "5e36369d",
   "metadata": {},
   "source": [
    "The four linear DNA fragments are mixed and transformed\n",
    "to a _Saccharomyces cerevisiae_ ura3 mutant.\n",
    "\n",
    "The fragments will be assembled by _in-vivo_ [homologous recombination](http://www.ncbi.nlm.nih.gov/pubmed/2828185):"
   ]
  },
  {
   "cell_type": "code",
   "execution_count": 7,
   "id": "1a9c5c79",
   "metadata": {
    "execution": {
     "iopub.execute_input": "2022-03-06T17:32:02.813471Z",
     "iopub.status.busy": "2022-03-06T17:32:02.812642Z",
     "iopub.status.idle": "2022-03-06T17:32:03.533663Z",
     "shell.execute_reply": "2022-03-06T17:32:03.529190Z"
    }
   },
   "outputs": [
    {
     "data": {
      "text/plain": [
       "Assembly\n",
       "fragments..: 5603bp 658bp 326bp 1038bp\n",
       "limit(bp)..: 31\n",
       "G.nodes....: 8\n",
       "algorithm..: common_sub_strings"
      ]
     },
     "execution_count": 7,
     "metadata": {},
     "output_type": "execute_result"
    }
   ],
   "source": [
    "asm = Assembly( (pYPK_EcoRV, prom, gene, term), limit=31 )\n",
    "\n",
    "asm"
   ]
  },
  {
   "cell_type": "markdown",
   "id": "8551dcbd",
   "metadata": {},
   "source": [
    "The representation of the asm object above should normally indicate one circcular product only.\n",
    "More than one circular products might indicate an incorrect assembly strategy or represent\n",
    "by-products that might arise in the assembly process.\n",
    "The largest recombination product is chosen as candidate for the pYPK0_RPL22A_EcacpP_TDH3 vector."
   ]
  },
  {
   "cell_type": "code",
   "execution_count": 8,
   "id": "bafddac0",
   "metadata": {
    "execution": {
     "iopub.execute_input": "2022-03-06T17:32:03.540542Z",
     "iopub.status.busy": "2022-03-06T17:32:03.537936Z",
     "iopub.status.idle": "2022-03-06T17:32:03.837537Z",
     "shell.execute_reply": "2022-03-06T17:32:03.836871Z"
    }
   },
   "outputs": [
    {
     "data": {
      "text/plain": [
       " -|pYPKpw_lin|124\n",
       "|             \\/\n",
       "|             /\\\n",
       "|             124|658bp_PCR_prod|50\n",
       "|                                \\/\n",
       "|                                /\\\n",
       "|                                50|326bp_PCR_prod|37\n",
       "|                                                  \\/\n",
       "|                                                  /\\\n",
       "|                                                  37|1038bp_PCR_prod|242\n",
       "|                                                                     \\/\n",
       "|                                                                     /\\\n",
       "|                                                                     242-\n",
       "|                                                                        |\n",
       " ------------------------------------------------------------------------"
      ]
     },
     "execution_count": 8,
     "metadata": {},
     "output_type": "execute_result"
    }
   ],
   "source": [
    "candidate = asm.assemble_circular()[0]\n",
    "\n",
    "candidate.figure()"
   ]
  },
  {
   "cell_type": "markdown",
   "id": "0c1d8e59",
   "metadata": {},
   "source": [
    "The candidate vector is synchronized to the 577 primer. This means that\n",
    "the plasmid origin is shifted so that it matches the backbone vector."
   ]
  },
  {
   "cell_type": "code",
   "execution_count": 9,
   "id": "1ccef625",
   "metadata": {
    "execution": {
     "iopub.execute_input": "2022-03-06T17:32:03.840311Z",
     "iopub.status.busy": "2022-03-06T17:32:03.840096Z",
     "iopub.status.idle": "2022-03-06T17:32:04.223604Z",
     "shell.execute_reply": "2022-03-06T17:32:04.222973Z"
    }
   },
   "outputs": [],
   "source": [
    "result = candidate.synced(\"gttctgatcctcgagcatcttaagaattc\")"
   ]
  },
  {
   "cell_type": "markdown",
   "id": "a3069c84",
   "metadata": {},
   "source": [
    "### Diagnostic PCR confirmation\n",
    "\n",
    "The structure of the final vector is confirmed by two\n",
    "separate PCR reactions, one for the promoter and gene and\n",
    "one for the gene and terminator.\n",
    "\n",
    "PCR using standard primers 577 and 467 to amplify promoter and gene."
   ]
  },
  {
   "cell_type": "code",
   "execution_count": 10,
   "id": "0cc744d4",
   "metadata": {
    "execution": {
     "iopub.execute_input": "2022-03-06T17:32:04.227115Z",
     "iopub.status.busy": "2022-03-06T17:32:04.226646Z",
     "iopub.status.idle": "2022-03-06T17:32:04.259199Z",
     "shell.execute_reply": "2022-03-06T17:32:04.258671Z"
    }
   },
   "outputs": [],
   "source": [
    "product = pcr( p['577'], p['467'], result)"
   ]
  },
  {
   "cell_type": "markdown",
   "id": "5067869e",
   "metadata": {},
   "source": [
    "A correct clone should give this size in base pairs:"
   ]
  },
  {
   "cell_type": "code",
   "execution_count": 11,
   "id": "91ea0373",
   "metadata": {
    "execution": {
     "iopub.execute_input": "2022-03-06T17:32:04.262904Z",
     "iopub.status.busy": "2022-03-06T17:32:04.262622Z",
     "iopub.status.idle": "2022-03-06T17:32:04.266969Z",
     "shell.execute_reply": "2022-03-06T17:32:04.266125Z"
    }
   },
   "outputs": [
    {
     "name": "stdout",
     "output_type": "stream",
     "text": [
      "934\n"
     ]
    }
   ],
   "source": [
    "print(len(product))"
   ]
  },
  {
   "cell_type": "markdown",
   "id": "5fca3b17",
   "metadata": {},
   "source": [
    "If the promoter is missing from the assembly, the PCR product will have this size in base pairs:"
   ]
  },
  {
   "cell_type": "code",
   "execution_count": 12,
   "id": "d1a97f3f",
   "metadata": {
    "execution": {
     "iopub.execute_input": "2022-03-06T17:32:04.273041Z",
     "iopub.status.busy": "2022-03-06T17:32:04.270741Z",
     "iopub.status.idle": "2022-03-06T17:32:04.279017Z",
     "shell.execute_reply": "2022-03-06T17:32:04.275927Z"
    }
   },
   "outputs": [
    {
     "name": "stdout",
     "output_type": "stream",
     "text": [
      "276\n"
     ]
    }
   ],
   "source": [
    "print(len(product) - len(prom))"
   ]
  },
  {
   "cell_type": "markdown",
   "id": "4e4901f1",
   "metadata": {},
   "source": [
    "If the gene is missing from the assembly, the PCR product will have this size in base pairs:"
   ]
  },
  {
   "cell_type": "code",
   "execution_count": 13,
   "id": "c9ce1084",
   "metadata": {
    "execution": {
     "iopub.execute_input": "2022-03-06T17:32:04.290268Z",
     "iopub.status.busy": "2022-03-06T17:32:04.289531Z",
     "iopub.status.idle": "2022-03-06T17:32:04.293831Z",
     "shell.execute_reply": "2022-03-06T17:32:04.293152Z"
    }
   },
   "outputs": [
    {
     "name": "stdout",
     "output_type": "stream",
     "text": [
      "608\n"
     ]
    }
   ],
   "source": [
    "print(len(product) - len(gene))"
   ]
  },
  {
   "cell_type": "markdown",
   "id": "33742fcb",
   "metadata": {},
   "source": [
    "PCR using standard primers 468 and 578 to amplify gene and terminator."
   ]
  },
  {
   "cell_type": "code",
   "execution_count": 14,
   "id": "44c2c8ea",
   "metadata": {
    "execution": {
     "iopub.execute_input": "2022-03-06T17:32:04.299936Z",
     "iopub.status.busy": "2022-03-06T17:32:04.299151Z",
     "iopub.status.idle": "2022-03-06T17:32:04.333015Z",
     "shell.execute_reply": "2022-03-06T17:32:04.332438Z"
    }
   },
   "outputs": [],
   "source": [
    "product2 = pcr( p['468'], p['578'], result)"
   ]
  },
  {
   "cell_type": "markdown",
   "id": "74b5f979",
   "metadata": {},
   "source": [
    "A correct clone should give this size:"
   ]
  },
  {
   "cell_type": "code",
   "execution_count": 15,
   "id": "71347813",
   "metadata": {
    "execution": {
     "iopub.execute_input": "2022-03-06T17:32:04.335919Z",
     "iopub.status.busy": "2022-03-06T17:32:04.335705Z",
     "iopub.status.idle": "2022-03-06T17:32:04.341548Z",
     "shell.execute_reply": "2022-03-06T17:32:04.340622Z"
    }
   },
   "outputs": [
    {
     "name": "stdout",
     "output_type": "stream",
     "text": [
      "1327\n"
     ]
    }
   ],
   "source": [
    "print(len(product2))"
   ]
  },
  {
   "cell_type": "markdown",
   "id": "21cdb2bf",
   "metadata": {},
   "source": [
    "If the gene is missing from the assembly, the PCR product will have this size in base pairs:"
   ]
  },
  {
   "cell_type": "code",
   "execution_count": 16,
   "id": "4f8b4298",
   "metadata": {
    "execution": {
     "iopub.execute_input": "2022-03-06T17:32:04.346875Z",
     "iopub.status.busy": "2022-03-06T17:32:04.346565Z",
     "iopub.status.idle": "2022-03-06T17:32:04.351079Z",
     "shell.execute_reply": "2022-03-06T17:32:04.350188Z"
    }
   },
   "outputs": [
    {
     "name": "stdout",
     "output_type": "stream",
     "text": [
      "1001\n"
     ]
    }
   ],
   "source": [
    "print(len(product2) - len(gene))"
   ]
  },
  {
   "cell_type": "markdown",
   "id": "40a2eb7f",
   "metadata": {},
   "source": [
    "If the terminator is missing from the assembly, the PCR product will have this size in base pairs:"
   ]
  },
  {
   "cell_type": "code",
   "execution_count": 17,
   "id": "616c5f48",
   "metadata": {
    "execution": {
     "iopub.execute_input": "2022-03-06T17:32:04.354592Z",
     "iopub.status.busy": "2022-03-06T17:32:04.354360Z",
     "iopub.status.idle": "2022-03-06T17:32:04.359083Z",
     "shell.execute_reply": "2022-03-06T17:32:04.358281Z"
    }
   },
   "outputs": [
    {
     "name": "stdout",
     "output_type": "stream",
     "text": [
      "289\n"
     ]
    }
   ],
   "source": [
    "print(len(product2) - len(term))"
   ]
  },
  {
   "cell_type": "markdown",
   "id": "546159e4",
   "metadata": {},
   "source": [
    "The cseguid checksum for the resulting plasmid is calculated for future reference.\n",
    "The [cseguid checksum](http://pydna.readthedocs.org/en/latest/pydna.html#pydna.utils.cseguid)\n",
    "uniquely identifies a circular double stranded sequence."
   ]
  },
  {
   "cell_type": "code",
   "execution_count": 18,
   "id": "3e4fe834",
   "metadata": {
    "execution": {
     "iopub.execute_input": "2022-03-06T17:32:04.364375Z",
     "iopub.status.busy": "2022-03-06T17:32:04.363720Z",
     "iopub.status.idle": "2022-03-06T17:32:04.379282Z",
     "shell.execute_reply": "2022-03-06T17:32:04.376596Z"
    }
   },
   "outputs": [
    {
     "data": {
      "text/plain": [
       "YBYJG2qluycIJ-5n_OP9aO8I0So"
      ]
     },
     "execution_count": 18,
     "metadata": {},
     "output_type": "execute_result"
    }
   ],
   "source": [
    "result.cseguid()"
   ]
  },
  {
   "cell_type": "markdown",
   "id": "cfb2cd1c",
   "metadata": {},
   "source": [
    "The file is named based on the nemas of promoter, gene and terminator."
   ]
  },
  {
   "cell_type": "code",
   "execution_count": 19,
   "id": "300eda5d",
   "metadata": {
    "execution": {
     "iopub.execute_input": "2022-03-06T17:32:04.382788Z",
     "iopub.status.busy": "2022-03-06T17:32:04.382607Z",
     "iopub.status.idle": "2022-03-06T17:32:04.386344Z",
     "shell.execute_reply": "2022-03-06T17:32:04.385325Z"
    }
   },
   "outputs": [],
   "source": [
    "result.locus = \"pYPK0_tp_g_tp\"\n",
    "result.definition = \"pYPK0_RPL22A_EcacpP_TDH3\""
   ]
  },
  {
   "cell_type": "markdown",
   "id": "bf966db7",
   "metadata": {},
   "source": [
    "Sequence is stamped with cseguid checksum. This can be used to verify the\n",
    "integrity of the sequence file."
   ]
  },
  {
   "cell_type": "code",
   "execution_count": 20,
   "id": "0b709643",
   "metadata": {
    "execution": {
     "iopub.execute_input": "2022-03-06T17:32:04.389793Z",
     "iopub.status.busy": "2022-03-06T17:32:04.389499Z",
     "iopub.status.idle": "2022-03-06T17:32:04.403646Z",
     "shell.execute_reply": "2022-03-06T17:32:04.402950Z"
    }
   },
   "outputs": [
    {
     "data": {
      "text/plain": [
       "cSEGUID_YBYJG2qluycIJ-5n_OP9aO8I0So"
      ]
     },
     "execution_count": 20,
     "metadata": {},
     "output_type": "execute_result"
    }
   ],
   "source": [
    "result.stamp()"
   ]
  },
  {
   "cell_type": "markdown",
   "id": "4ea91b70",
   "metadata": {},
   "source": [
    "Write sequence to a local file."
   ]
  },
  {
   "cell_type": "code",
   "execution_count": 21,
   "id": "4401e8f8",
   "metadata": {
    "execution": {
     "iopub.execute_input": "2022-03-06T17:32:04.406981Z",
     "iopub.status.busy": "2022-03-06T17:32:04.406698Z",
     "iopub.status.idle": "2022-03-06T17:32:04.422195Z",
     "shell.execute_reply": "2022-03-06T17:32:04.421581Z"
    }
   },
   "outputs": [
    {
     "data": {
      "text/html": [
       "<font face=monospace><a href='pYPK0_RPL22A_EcacpP_TDH3.gb' target='_blank'>pYPK0_RPL22A_EcacpP_TDH3.gb</a></font><br>"
      ]
     },
     "metadata": {},
     "output_type": "display_data"
    }
   ],
   "source": [
    "result.write(\"pYPK0_RPL22A_EcacpP_TDH3.gb\")"
   ]
  },
  {
   "cell_type": "markdown",
   "id": "a0c45c51",
   "metadata": {},
   "source": [
    "## PCR programs for the amplification of Promoter, Gene and Terminator\n",
    "\n",
    "see cell #6\n",
    "\n",
    "Promoter"
   ]
  },
  {
   "cell_type": "code",
   "execution_count": 22,
   "id": "51acdbb8",
   "metadata": {
    "execution": {
     "iopub.execute_input": "2022-03-06T17:32:04.424670Z",
     "iopub.status.busy": "2022-03-06T17:32:04.424486Z",
     "iopub.status.idle": "2022-03-06T17:32:04.430594Z",
     "shell.execute_reply": "2022-03-06T17:32:04.429966Z"
    }
   },
   "outputs": [
    {
     "data": {
      "text/plain": [
       "|95°C|95°C               |    |tmf:64.6\n",
       "|____|_____          72°C|72°C|tmr:69.7\n",
       "|3min|30s  \\ 55.9°C _____|____|45s/kb\n",
       "|    |      \\______/ 0:30|5min|GC 35%\n",
       "|    |       30s         |    |658bp"
      ]
     },
     "execution_count": 22,
     "metadata": {},
     "output_type": "execute_result"
    }
   ],
   "source": [
    "prom.program()"
   ]
  },
  {
   "cell_type": "markdown",
   "id": "7dac6262",
   "metadata": {},
   "source": [
    "Gene"
   ]
  },
  {
   "cell_type": "code",
   "execution_count": 23,
   "id": "5699fc31",
   "metadata": {
    "execution": {
     "iopub.execute_input": "2022-03-06T17:32:04.433657Z",
     "iopub.status.busy": "2022-03-06T17:32:04.433380Z",
     "iopub.status.idle": "2022-03-06T17:32:04.440595Z",
     "shell.execute_reply": "2022-03-06T17:32:04.438068Z"
    }
   },
   "outputs": [
    {
     "data": {
      "text/plain": [
       "|95°C|95°C               |    |tmf:76.9\n",
       "|____|_____          72°C|72°C|tmr:67.9\n",
       "|3min|30s  \\ 60.0°C _____|____|45s/kb\n",
       "|    |      \\______/ 0:30|5min|GC 49%\n",
       "|    |       30s         |    |326bp"
      ]
     },
     "execution_count": 23,
     "metadata": {},
     "output_type": "execute_result"
    }
   ],
   "source": [
    "gene.program()"
   ]
  },
  {
   "cell_type": "markdown",
   "id": "78c1abfa",
   "metadata": {},
   "source": [
    "Terminator"
   ]
  },
  {
   "cell_type": "code",
   "execution_count": 24,
   "id": "b0956a13",
   "metadata": {
    "execution": {
     "iopub.execute_input": "2022-03-06T17:32:04.450034Z",
     "iopub.status.busy": "2022-03-06T17:32:04.449748Z",
     "iopub.status.idle": "2022-03-06T17:32:04.454674Z",
     "shell.execute_reply": "2022-03-06T17:32:04.454020Z"
    }
   },
   "outputs": [
    {
     "data": {
      "text/plain": [
       "|95°C|95°C               |    |tmf:66.1\n",
       "|____|_____          72°C|72°C|tmr:65.0\n",
       "|3min|30s  \\ 57.1°C _____|____|45s/kb\n",
       "|    |      \\______/ 0:46|5min|GC 38%\n",
       "|    |       30s         |    |1038bp"
      ]
     },
     "execution_count": 24,
     "metadata": {},
     "output_type": "execute_result"
    }
   ],
   "source": [
    "term.program()"
   ]
  }
 ],
 "metadata": {
  "language_info": {
   "codemirror_mode": {
    "name": "ipython",
    "version": 3
   },
   "file_extension": ".py",
   "mimetype": "text/x-python",
   "name": "python",
   "nbconvert_exporter": "python",
   "pygments_lexer": "ipython3",
   "version": "3.9.7"
  }
 },
 "nbformat": 4,
 "nbformat_minor": 5
}
