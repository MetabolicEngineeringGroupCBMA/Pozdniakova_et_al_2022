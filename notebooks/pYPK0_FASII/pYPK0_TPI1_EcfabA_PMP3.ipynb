{
 "cells": [
  {
   "cell_type": "markdown",
   "id": "2d07807b",
   "metadata": {},
   "source": [
    "# pYPK0_TPI1_EcfabA_PMP3\n",
    "\n",
    "This notebook describes the assembly of the [_Saccaromyces cerevisiae_](www.yeastgenome.org)\n",
    "single gene expression vector pYPK0_TPI1_EcfabA_PMP3.\n",
    "\n",
    "It is made by _in-vivo_ homologous recombination between three PCR products and one linear vector fragment.\n",
    "The PCR products are a promoter generated from a pYPK_Z vector, a gene from a pYPKa_A vector and\n",
    "a terminator from a pYPKa_E vector. The three PCR products are joined with\n",
    "a linearized [pYPKpw](https://github.com/BjornFJohansson/ypk-xylose-pathways/blob/master/notebooks/pYPKpw.ipynb)\n",
    "backbone vector that has the [URA3](http://www.yeastgenome.org/locus/S000000747/overview)\n",
    "marker and a _S. crevisiae_ [2 micron](http://blog.addgene.org/plasmids-101-yeast-vectors) origin of replication.\n",
    "\n",
    "The four linear DNA fragments are joined by homologous recombination in a\n",
    "[_Saccharomyces cerevisiae_](http://wiki.yeastgenome.org/index.php/Commonly_used_strains) ura3 mutant.\n",
    "\n",
    "![pYPK0_promoter_gene_terminator](tp_g_tp.png \"pYPK0_promoter_gene_terminator\")\n",
    "\n",
    "A part of the [pydna](https://pypi.python.org/pypi/pydna/) package is imported in the code cell below."
   ]
  },
  {
   "cell_type": "code",
   "execution_count": 1,
   "id": "05e1936e",
   "metadata": {
    "execution": {
     "iopub.execute_input": "2022-03-06T17:32:13.225767Z",
     "iopub.status.busy": "2022-03-06T17:32:13.225369Z",
     "iopub.status.idle": "2022-03-06T17:32:13.943176Z",
     "shell.execute_reply": "2022-03-06T17:32:13.942025Z"
    }
   },
   "outputs": [],
   "source": [
    "from pydna.parsers import parse_primers\n",
    "from pydna.readers import read\n",
    "from pydna.amplify import pcr\n",
    "from pydna.assembly import Assembly"
   ]
  },
  {
   "cell_type": "markdown",
   "id": "7923da41",
   "metadata": {},
   "source": [
    "The Yeast Pathway Kit [standard primers](standard_primers.txt) are read into a dictionary in the code cell below."
   ]
  },
  {
   "cell_type": "code",
   "execution_count": 2,
   "id": "d25244c7",
   "metadata": {
    "execution": {
     "iopub.execute_input": "2022-03-06T17:32:13.952926Z",
     "iopub.status.busy": "2022-03-06T17:32:13.952560Z",
     "iopub.status.idle": "2022-03-06T17:32:13.967179Z",
     "shell.execute_reply": "2022-03-06T17:32:13.966529Z"
    }
   },
   "outputs": [],
   "source": [
    "p = { x.id: x for x in parse_primers(\"standard_primers.txt\") }"
   ]
  },
  {
   "cell_type": "markdown",
   "id": "c0573113",
   "metadata": {},
   "source": [
    "The backbone vector [pYPKpw](pYPKpw.gb) is read from a local file in the code cell below."
   ]
  },
  {
   "cell_type": "code",
   "execution_count": 3,
   "id": "177ded1a",
   "metadata": {
    "execution": {
     "iopub.execute_input": "2022-03-06T17:32:13.970523Z",
     "iopub.status.busy": "2022-03-06T17:32:13.970306Z",
     "iopub.status.idle": "2022-03-06T17:32:13.989135Z",
     "shell.execute_reply": "2022-03-06T17:32:13.988587Z"
    }
   },
   "outputs": [],
   "source": [
    "pYPKpw = read(\"pYPKpw.gb\")"
   ]
  },
  {
   "cell_type": "markdown",
   "id": "444f572f",
   "metadata": {},
   "source": [
    "The backbone vector is linearized by digestion with [EcoRV](http://rebase.neb.com/rebase/enz/EcoRV.html).\n",
    "The restriction enzyme functionality is provided by [biopython](http://biopython.org)."
   ]
  },
  {
   "cell_type": "code",
   "execution_count": 4,
   "id": "df15f37c",
   "metadata": {
    "execution": {
     "iopub.execute_input": "2022-03-06T17:32:13.992280Z",
     "iopub.status.busy": "2022-03-06T17:32:13.992072Z",
     "iopub.status.idle": "2022-03-06T17:32:14.000816Z",
     "shell.execute_reply": "2022-03-06T17:32:13.998904Z"
    }
   },
   "outputs": [],
   "source": [
    "from Bio.Restriction import EcoRV\n",
    "\n",
    "pYPK_EcoRV = pYPKpw.linearize(EcoRV)"
   ]
  },
  {
   "cell_type": "markdown",
   "id": "85e3abde",
   "metadata": {},
   "source": [
    "The pYPKa derived _E. coli_ plasmids containing [promoter](pYPKa_Z_TPI1.gb), [gene](pYPKa_A_EcfabA.gb) and [terminator](pYPKa_E_PMP3.gb)\n",
    "are read into three variables below."
   ]
  },
  {
   "cell_type": "code",
   "execution_count": 5,
   "id": "441847e1",
   "metadata": {
    "execution": {
     "iopub.execute_input": "2022-03-06T17:32:14.005398Z",
     "iopub.status.busy": "2022-03-06T17:32:14.004598Z",
     "iopub.status.idle": "2022-03-06T17:32:14.022607Z",
     "shell.execute_reply": "2022-03-06T17:32:14.021353Z"
    }
   },
   "outputs": [],
   "source": [
    "promoter_template   = read(\"pYPKa_Z_TPI1.gb\")\n",
    "gene_template       = read(\"pYPKa_A_EcfabA.gb\")\n",
    "terminator_template = read(\"pYPKa_E_PMP3.gb\")"
   ]
  },
  {
   "cell_type": "markdown",
   "id": "acf6df99",
   "metadata": {},
   "source": [
    "The construction of the three vector above are described in the [pYPKa_ZE_TPI1](pYPKa_ZE_TPI1.ipynb) and [pYPKa_A_EcfabA](pYPKa_A_EcfabA.ipynb) notebooks.\n",
    "\n",
    "Three DNA fragments are PCR amplified using [standard primers](standard_primers.txt). Suggested PCR programs can be found at the end of this document."
   ]
  },
  {
   "cell_type": "code",
   "execution_count": 6,
   "id": "b2ba303e",
   "metadata": {
    "execution": {
     "iopub.execute_input": "2022-03-06T17:32:14.026199Z",
     "iopub.status.busy": "2022-03-06T17:32:14.025619Z",
     "iopub.status.idle": "2022-03-06T17:32:14.064464Z",
     "shell.execute_reply": "2022-03-06T17:32:14.061674Z"
    }
   },
   "outputs": [],
   "source": [
    "prom = pcr( p['577'], p['567'], promoter_template)\n",
    "gene = pcr( p['468'], p['467'], gene_template)\n",
    "term = pcr( p['568'], p['578'], terminator_template)"
   ]
  },
  {
   "cell_type": "markdown",
   "id": "56c8290f",
   "metadata": {},
   "source": [
    "The four linear DNA fragments are mixed and transformed\n",
    "to a _Saccharomyces cerevisiae_ ura3 mutant.\n",
    "\n",
    "The fragments will be assembled by _in-vivo_ [homologous recombination](http://www.ncbi.nlm.nih.gov/pubmed/2828185):"
   ]
  },
  {
   "cell_type": "code",
   "execution_count": 7,
   "id": "f9781a63",
   "metadata": {
    "execution": {
     "iopub.execute_input": "2022-03-06T17:32:14.070832Z",
     "iopub.status.busy": "2022-03-06T17:32:14.070565Z",
     "iopub.status.idle": "2022-03-06T17:32:14.686185Z",
     "shell.execute_reply": "2022-03-06T17:32:14.684397Z"
    }
   },
   "outputs": [
    {
     "data": {
      "text/plain": [
       "Assembly\n",
       "fragments..: 5603bp 814bp 608bp 1096bp\n",
       "limit(bp)..: 31\n",
       "G.nodes....: 8\n",
       "algorithm..: common_sub_strings"
      ]
     },
     "execution_count": 7,
     "metadata": {},
     "output_type": "execute_result"
    }
   ],
   "source": [
    "asm = Assembly( (pYPK_EcoRV, prom, gene, term), limit=31 )\n",
    "\n",
    "asm"
   ]
  },
  {
   "cell_type": "markdown",
   "id": "0ef4d071",
   "metadata": {},
   "source": [
    "The representation of the asm object above should normally indicate one circcular product only.\n",
    "More than one circular products might indicate an incorrect assembly strategy or represent\n",
    "by-products that might arise in the assembly process.\n",
    "The largest recombination product is chosen as candidate for the pYPK0_TPI1_EcfabA_PMP3 vector."
   ]
  },
  {
   "cell_type": "code",
   "execution_count": 8,
   "id": "7f16a470",
   "metadata": {
    "execution": {
     "iopub.execute_input": "2022-03-06T17:32:14.689212Z",
     "iopub.status.busy": "2022-03-06T17:32:14.688949Z",
     "iopub.status.idle": "2022-03-06T17:32:15.008516Z",
     "shell.execute_reply": "2022-03-06T17:32:15.007727Z"
    }
   },
   "outputs": [
    {
     "data": {
      "text/plain": [
       " -|pYPKpw_lin|124\n",
       "|             \\/\n",
       "|             /\\\n",
       "|             124|814bp_PCR_prod|50\n",
       "|                                \\/\n",
       "|                                /\\\n",
       "|                                50|608bp_PCR_prod|37\n",
       "|                                                  \\/\n",
       "|                                                  /\\\n",
       "|                                                  37|1096bp_PCR_prod|242\n",
       "|                                                                     \\/\n",
       "|                                                                     /\\\n",
       "|                                                                     242-\n",
       "|                                                                        |\n",
       " ------------------------------------------------------------------------"
      ]
     },
     "execution_count": 8,
     "metadata": {},
     "output_type": "execute_result"
    }
   ],
   "source": [
    "candidate = asm.assemble_circular()[0]\n",
    "\n",
    "candidate.figure()"
   ]
  },
  {
   "cell_type": "markdown",
   "id": "a323cf92",
   "metadata": {},
   "source": [
    "The candidate vector is synchronized to the 577 primer. This means that\n",
    "the plasmid origin is shifted so that it matches the backbone vector."
   ]
  },
  {
   "cell_type": "code",
   "execution_count": 9,
   "id": "3b74f409",
   "metadata": {
    "execution": {
     "iopub.execute_input": "2022-03-06T17:32:15.016483Z",
     "iopub.status.busy": "2022-03-06T17:32:15.014999Z",
     "iopub.status.idle": "2022-03-06T17:32:15.435645Z",
     "shell.execute_reply": "2022-03-06T17:32:15.435103Z"
    }
   },
   "outputs": [],
   "source": [
    "result = candidate.synced(\"gttctgatcctcgagcatcttaagaattc\")"
   ]
  },
  {
   "cell_type": "markdown",
   "id": "e8233f5c",
   "metadata": {},
   "source": [
    "### Diagnostic PCR confirmation\n",
    "\n",
    "The structure of the final vector is confirmed by two\n",
    "separate PCR reactions, one for the promoter and gene and\n",
    "one for the gene and terminator.\n",
    "\n",
    "PCR using standard primers 577 and 467 to amplify promoter and gene."
   ]
  },
  {
   "cell_type": "code",
   "execution_count": 10,
   "id": "06f206d9",
   "metadata": {
    "execution": {
     "iopub.execute_input": "2022-03-06T17:32:15.439031Z",
     "iopub.status.busy": "2022-03-06T17:32:15.438768Z",
     "iopub.status.idle": "2022-03-06T17:32:15.464890Z",
     "shell.execute_reply": "2022-03-06T17:32:15.464350Z"
    }
   },
   "outputs": [],
   "source": [
    "product = pcr( p['577'], p['467'], result)"
   ]
  },
  {
   "cell_type": "markdown",
   "id": "8d8d8f37",
   "metadata": {},
   "source": [
    "A correct clone should give this size in base pairs:"
   ]
  },
  {
   "cell_type": "code",
   "execution_count": 11,
   "id": "6abb6cd8",
   "metadata": {
    "execution": {
     "iopub.execute_input": "2022-03-06T17:32:15.467917Z",
     "iopub.status.busy": "2022-03-06T17:32:15.467652Z",
     "iopub.status.idle": "2022-03-06T17:32:15.471259Z",
     "shell.execute_reply": "2022-03-06T17:32:15.470638Z"
    }
   },
   "outputs": [
    {
     "name": "stdout",
     "output_type": "stream",
     "text": [
      "1372\n"
     ]
    }
   ],
   "source": [
    "print(len(product))"
   ]
  },
  {
   "cell_type": "markdown",
   "id": "24603536",
   "metadata": {},
   "source": [
    "If the promoter is missing from the assembly, the PCR product will have this size in base pairs:"
   ]
  },
  {
   "cell_type": "code",
   "execution_count": 12,
   "id": "11137bad",
   "metadata": {
    "execution": {
     "iopub.execute_input": "2022-03-06T17:32:15.474952Z",
     "iopub.status.busy": "2022-03-06T17:32:15.474615Z",
     "iopub.status.idle": "2022-03-06T17:32:15.482572Z",
     "shell.execute_reply": "2022-03-06T17:32:15.481392Z"
    }
   },
   "outputs": [
    {
     "name": "stdout",
     "output_type": "stream",
     "text": [
      "558\n"
     ]
    }
   ],
   "source": [
    "print(len(product) - len(prom))"
   ]
  },
  {
   "cell_type": "markdown",
   "id": "60c76294",
   "metadata": {},
   "source": [
    "If the gene is missing from the assembly, the PCR product will have this size in base pairs:"
   ]
  },
  {
   "cell_type": "code",
   "execution_count": 13,
   "id": "f187e768",
   "metadata": {
    "execution": {
     "iopub.execute_input": "2022-03-06T17:32:15.487239Z",
     "iopub.status.busy": "2022-03-06T17:32:15.486878Z",
     "iopub.status.idle": "2022-03-06T17:32:15.491353Z",
     "shell.execute_reply": "2022-03-06T17:32:15.490589Z"
    }
   },
   "outputs": [
    {
     "name": "stdout",
     "output_type": "stream",
     "text": [
      "764\n"
     ]
    }
   ],
   "source": [
    "print(len(product) - len(gene))"
   ]
  },
  {
   "cell_type": "markdown",
   "id": "fe8c517a",
   "metadata": {},
   "source": [
    "PCR using standard primers 468 and 578 to amplify gene and terminator."
   ]
  },
  {
   "cell_type": "code",
   "execution_count": 14,
   "id": "f30b1264",
   "metadata": {
    "execution": {
     "iopub.execute_input": "2022-03-06T17:32:15.495104Z",
     "iopub.status.busy": "2022-03-06T17:32:15.494689Z",
     "iopub.status.idle": "2022-03-06T17:32:15.523659Z",
     "shell.execute_reply": "2022-03-06T17:32:15.523135Z"
    }
   },
   "outputs": [],
   "source": [
    "product2 = pcr( p['468'], p['578'], result)"
   ]
  },
  {
   "cell_type": "markdown",
   "id": "7c2b27e8",
   "metadata": {},
   "source": [
    "A correct clone should give this size:"
   ]
  },
  {
   "cell_type": "code",
   "execution_count": 15,
   "id": "e2570a98",
   "metadata": {
    "execution": {
     "iopub.execute_input": "2022-03-06T17:32:15.526082Z",
     "iopub.status.busy": "2022-03-06T17:32:15.525887Z",
     "iopub.status.idle": "2022-03-06T17:32:15.530502Z",
     "shell.execute_reply": "2022-03-06T17:32:15.529243Z"
    }
   },
   "outputs": [
    {
     "name": "stdout",
     "output_type": "stream",
     "text": [
      "1667\n"
     ]
    }
   ],
   "source": [
    "print(len(product2))"
   ]
  },
  {
   "cell_type": "markdown",
   "id": "ff5b6a3f",
   "metadata": {},
   "source": [
    "If the gene is missing from the assembly, the PCR product will have this size in base pairs:"
   ]
  },
  {
   "cell_type": "code",
   "execution_count": 16,
   "id": "06ec74fa",
   "metadata": {
    "execution": {
     "iopub.execute_input": "2022-03-06T17:32:15.533207Z",
     "iopub.status.busy": "2022-03-06T17:32:15.532957Z",
     "iopub.status.idle": "2022-03-06T17:32:15.536591Z",
     "shell.execute_reply": "2022-03-06T17:32:15.535775Z"
    }
   },
   "outputs": [
    {
     "name": "stdout",
     "output_type": "stream",
     "text": [
      "1059\n"
     ]
    }
   ],
   "source": [
    "print(len(product2) - len(gene))"
   ]
  },
  {
   "cell_type": "markdown",
   "id": "257820c5",
   "metadata": {},
   "source": [
    "If the terminator is missing from the assembly, the PCR product will have this size in base pairs:"
   ]
  },
  {
   "cell_type": "code",
   "execution_count": 17,
   "id": "e2ed2ced",
   "metadata": {
    "execution": {
     "iopub.execute_input": "2022-03-06T17:32:15.540004Z",
     "iopub.status.busy": "2022-03-06T17:32:15.539739Z",
     "iopub.status.idle": "2022-03-06T17:32:15.549235Z",
     "shell.execute_reply": "2022-03-06T17:32:15.543057Z"
    }
   },
   "outputs": [
    {
     "name": "stdout",
     "output_type": "stream",
     "text": [
      "571\n"
     ]
    }
   ],
   "source": [
    "print(len(product2) - len(term))"
   ]
  },
  {
   "cell_type": "markdown",
   "id": "048e9c7e",
   "metadata": {},
   "source": [
    "The cseguid checksum for the resulting plasmid is calculated for future reference.\n",
    "The [cseguid checksum](http://pydna.readthedocs.org/en/latest/pydna.html#pydna.utils.cseguid)\n",
    "uniquely identifies a circular double stranded sequence."
   ]
  },
  {
   "cell_type": "code",
   "execution_count": 18,
   "id": "a431c742",
   "metadata": {
    "execution": {
     "iopub.execute_input": "2022-03-06T17:32:15.553663Z",
     "iopub.status.busy": "2022-03-06T17:32:15.553374Z",
     "iopub.status.idle": "2022-03-06T17:32:15.564105Z",
     "shell.execute_reply": "2022-03-06T17:32:15.563303Z"
    }
   },
   "outputs": [
    {
     "data": {
      "text/plain": [
       "b69UJ57c-OMvguc2CZReyYqmq4E"
      ]
     },
     "execution_count": 18,
     "metadata": {},
     "output_type": "execute_result"
    }
   ],
   "source": [
    "result.cseguid()"
   ]
  },
  {
   "cell_type": "markdown",
   "id": "d4f1bf0f",
   "metadata": {},
   "source": [
    "The file is named based on the nemas of promoter, gene and terminator."
   ]
  },
  {
   "cell_type": "code",
   "execution_count": 19,
   "id": "c448ae65",
   "metadata": {
    "execution": {
     "iopub.execute_input": "2022-03-06T17:32:15.567452Z",
     "iopub.status.busy": "2022-03-06T17:32:15.567159Z",
     "iopub.status.idle": "2022-03-06T17:32:15.570592Z",
     "shell.execute_reply": "2022-03-06T17:32:15.569882Z"
    }
   },
   "outputs": [],
   "source": [
    "result.locus = \"pYPK0_tp_g_tp\"\n",
    "result.definition = \"pYPK0_TPI1_EcfabA_PMP3\""
   ]
  },
  {
   "cell_type": "markdown",
   "id": "18662272",
   "metadata": {},
   "source": [
    "Sequence is stamped with cseguid checksum. This can be used to verify the\n",
    "integrity of the sequence file."
   ]
  },
  {
   "cell_type": "code",
   "execution_count": 20,
   "id": "a3eab567",
   "metadata": {
    "execution": {
     "iopub.execute_input": "2022-03-06T17:32:15.573561Z",
     "iopub.status.busy": "2022-03-06T17:32:15.573352Z",
     "iopub.status.idle": "2022-03-06T17:32:15.587716Z",
     "shell.execute_reply": "2022-03-06T17:32:15.586812Z"
    }
   },
   "outputs": [
    {
     "data": {
      "text/plain": [
       "cSEGUID_b69UJ57c-OMvguc2CZReyYqmq4E"
      ]
     },
     "execution_count": 20,
     "metadata": {},
     "output_type": "execute_result"
    }
   ],
   "source": [
    "result.stamp()"
   ]
  },
  {
   "cell_type": "markdown",
   "id": "545567e2",
   "metadata": {},
   "source": [
    "Write sequence to a local file."
   ]
  },
  {
   "cell_type": "code",
   "execution_count": 21,
   "id": "cb70f741",
   "metadata": {
    "execution": {
     "iopub.execute_input": "2022-03-06T17:32:15.590236Z",
     "iopub.status.busy": "2022-03-06T17:32:15.590020Z",
     "iopub.status.idle": "2022-03-06T17:32:15.598523Z",
     "shell.execute_reply": "2022-03-06T17:32:15.597520Z"
    }
   },
   "outputs": [
    {
     "data": {
      "text/html": [
       "<font face=monospace><a href='pYPK0_TPI1_EcfabA_PMP3.gb' target='_blank'>pYPK0_TPI1_EcfabA_PMP3.gb</a></font><br>"
      ]
     },
     "metadata": {},
     "output_type": "display_data"
    }
   ],
   "source": [
    "result.write(\"pYPK0_TPI1_EcfabA_PMP3.gb\")"
   ]
  },
  {
   "cell_type": "markdown",
   "id": "501566bd",
   "metadata": {},
   "source": [
    "## PCR programs for the amplification of Promoter, Gene and Terminator\n",
    "\n",
    "see cell #6\n",
    "\n",
    "Promoter"
   ]
  },
  {
   "cell_type": "code",
   "execution_count": 22,
   "id": "e4e8a232",
   "metadata": {
    "execution": {
     "iopub.execute_input": "2022-03-06T17:32:15.601891Z",
     "iopub.status.busy": "2022-03-06T17:32:15.601646Z",
     "iopub.status.idle": "2022-03-06T17:32:15.606788Z",
     "shell.execute_reply": "2022-03-06T17:32:15.606136Z"
    }
   },
   "outputs": [
    {
     "data": {
      "text/plain": [
       "|95°C|95°C               |    |tmf:64.6\n",
       "|____|_____          72°C|72°C|tmr:69.7\n",
       "|3min|30s  \\ 57.2°C _____|____|45s/kb\n",
       "|    |      \\______/ 0:36|5min|GC 39%\n",
       "|    |       30s         |    |814bp"
      ]
     },
     "execution_count": 22,
     "metadata": {},
     "output_type": "execute_result"
    }
   ],
   "source": [
    "prom.program()"
   ]
  },
  {
   "cell_type": "markdown",
   "id": "e03b7dc5",
   "metadata": {},
   "source": [
    "Gene"
   ]
  },
  {
   "cell_type": "code",
   "execution_count": 23,
   "id": "5e796501",
   "metadata": {
    "execution": {
     "iopub.execute_input": "2022-03-06T17:32:15.610519Z",
     "iopub.status.busy": "2022-03-06T17:32:15.609738Z",
     "iopub.status.idle": "2022-03-06T17:32:15.618479Z",
     "shell.execute_reply": "2022-03-06T17:32:15.617090Z"
    }
   },
   "outputs": [
    {
     "data": {
      "text/plain": [
       "|95°C|95°C               |    |tmf:76.9\n",
       "|____|_____          72°C|72°C|tmr:67.9\n",
       "|3min|30s  \\ 61.8°C _____|____|45s/kb\n",
       "|    |      \\______/ 0:30|5min|GC 53%\n",
       "|    |       30s         |    |608bp"
      ]
     },
     "execution_count": 23,
     "metadata": {},
     "output_type": "execute_result"
    }
   ],
   "source": [
    "gene.program()"
   ]
  },
  {
   "cell_type": "markdown",
   "id": "b80d9a77",
   "metadata": {},
   "source": [
    "Terminator"
   ]
  },
  {
   "cell_type": "code",
   "execution_count": 24,
   "id": "0afa24b5",
   "metadata": {
    "execution": {
     "iopub.execute_input": "2022-03-06T17:32:15.621483Z",
     "iopub.status.busy": "2022-03-06T17:32:15.621234Z",
     "iopub.status.idle": "2022-03-06T17:32:15.625611Z",
     "shell.execute_reply": "2022-03-06T17:32:15.624848Z"
    }
   },
   "outputs": [
    {
     "data": {
      "text/plain": [
       "|95°C|95°C               |    |tmf:66.1\n",
       "|____|_____          72°C|72°C|tmr:65.0\n",
       "|3min|30s  \\ 58.6°C _____|____|45s/kb\n",
       "|    |      \\______/ 0:49|5min|GC 43%\n",
       "|    |       30s         |    |1096bp"
      ]
     },
     "execution_count": 24,
     "metadata": {},
     "output_type": "execute_result"
    }
   ],
   "source": [
    "term.program()"
   ]
  }
 ],
 "metadata": {
  "language_info": {
   "codemirror_mode": {
    "name": "ipython",
    "version": 3
   },
   "file_extension": ".py",
   "mimetype": "text/x-python",
   "name": "python",
   "nbconvert_exporter": "python",
   "pygments_lexer": "ipython3",
   "version": "3.9.7"
  }
 },
 "nbformat": 4,
 "nbformat_minor": 5
}
