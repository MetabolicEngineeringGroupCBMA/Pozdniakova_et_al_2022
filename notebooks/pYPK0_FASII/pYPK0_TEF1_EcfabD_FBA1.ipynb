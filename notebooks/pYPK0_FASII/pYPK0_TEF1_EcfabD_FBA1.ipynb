{
 "cells": [
  {
   "cell_type": "markdown",
   "id": "ae7daf2e",
   "metadata": {},
   "source": [
    "# pYPK0_TEF1_EcfabD_FBA1\n",
    "\n",
    "This notebook describes the assembly of the [_Saccaromyces cerevisiae_](www.yeastgenome.org)\n",
    "single gene expression vector pYPK0_TEF1_EcfabD_FBA1.\n",
    "\n",
    "It is made by _in-vivo_ homologous recombination between three PCR products and one linear vector fragment.\n",
    "The PCR products are a promoter generated from a pYPK_Z vector, a gene from a pYPKa_A vector and\n",
    "a terminator from a pYPKa_E vector. The three PCR products are joined with\n",
    "a linearized [pYPKpw](https://github.com/BjornFJohansson/ypk-xylose-pathways/blob/master/notebooks/pYPKpw.ipynb)\n",
    "backbone vector that has the [URA3](http://www.yeastgenome.org/locus/S000000747/overview)\n",
    "marker and a _S. crevisiae_ [2 micron](http://blog.addgene.org/plasmids-101-yeast-vectors) origin of replication.\n",
    "\n",
    "The four linear DNA fragments are joined by homologous recombination in a\n",
    "[_Saccharomyces cerevisiae_](http://wiki.yeastgenome.org/index.php/Commonly_used_strains) ura3 mutant.\n",
    "\n",
    "![pYPK0_promoter_gene_terminator](tp_g_tp.png \"pYPK0_promoter_gene_terminator\")\n",
    "\n",
    "A part of the [pydna](https://pypi.python.org/pypi/pydna/) package is imported in the code cell below."
   ]
  },
  {
   "cell_type": "code",
   "execution_count": 1,
   "id": "bab8e7dc",
   "metadata": {
    "execution": {
     "iopub.execute_input": "2022-03-06T17:31:55.202299Z",
     "iopub.status.busy": "2022-03-06T17:31:55.201938Z",
     "iopub.status.idle": "2022-03-06T17:31:55.617542Z",
     "shell.execute_reply": "2022-03-06T17:31:55.616834Z"
    }
   },
   "outputs": [],
   "source": [
    "from pydna.parsers import parse_primers\n",
    "from pydna.readers import read\n",
    "from pydna.amplify import pcr\n",
    "from pydna.assembly import Assembly"
   ]
  },
  {
   "cell_type": "markdown",
   "id": "d3bf6563",
   "metadata": {},
   "source": [
    "The Yeast Pathway Kit [standard primers](standard_primers.txt) are read into a dictionary in the code cell below."
   ]
  },
  {
   "cell_type": "code",
   "execution_count": 2,
   "id": "11aa140a",
   "metadata": {
    "execution": {
     "iopub.execute_input": "2022-03-06T17:31:55.620327Z",
     "iopub.status.busy": "2022-03-06T17:31:55.620092Z",
     "iopub.status.idle": "2022-03-06T17:31:55.635671Z",
     "shell.execute_reply": "2022-03-06T17:31:55.635104Z"
    }
   },
   "outputs": [],
   "source": [
    "p = { x.id: x for x in parse_primers(\"standard_primers.txt\") }"
   ]
  },
  {
   "cell_type": "markdown",
   "id": "94c71a39",
   "metadata": {},
   "source": [
    "The backbone vector [pYPKpw](pYPKpw.gb) is read from a local file in the code cell below."
   ]
  },
  {
   "cell_type": "code",
   "execution_count": 3,
   "id": "b4db6a31",
   "metadata": {
    "execution": {
     "iopub.execute_input": "2022-03-06T17:31:55.638566Z",
     "iopub.status.busy": "2022-03-06T17:31:55.638341Z",
     "iopub.status.idle": "2022-03-06T17:31:55.652633Z",
     "shell.execute_reply": "2022-03-06T17:31:55.651968Z"
    }
   },
   "outputs": [],
   "source": [
    "pYPKpw = read(\"pYPKpw.gb\")"
   ]
  },
  {
   "cell_type": "markdown",
   "id": "6635c636",
   "metadata": {},
   "source": [
    "The backbone vector is linearized by digestion with [EcoRV](http://rebase.neb.com/rebase/enz/EcoRV.html).\n",
    "The restriction enzyme functionality is provided by [biopython](http://biopython.org)."
   ]
  },
  {
   "cell_type": "code",
   "execution_count": 4,
   "id": "9c8ea34c",
   "metadata": {
    "execution": {
     "iopub.execute_input": "2022-03-06T17:31:55.655258Z",
     "iopub.status.busy": "2022-03-06T17:31:55.654766Z",
     "iopub.status.idle": "2022-03-06T17:31:55.660770Z",
     "shell.execute_reply": "2022-03-06T17:31:55.659937Z"
    }
   },
   "outputs": [],
   "source": [
    "from Bio.Restriction import EcoRV\n",
    "\n",
    "pYPK_EcoRV = pYPKpw.linearize(EcoRV)"
   ]
  },
  {
   "cell_type": "markdown",
   "id": "0a0f8450",
   "metadata": {},
   "source": [
    "The pYPKa derived _E. coli_ plasmids containing [promoter](pYPKa_Z_TEF1.gb), [gene](pYPKa_A_EcfabD.gb) and [terminator](pYPKa_E_FBA1.gb)\n",
    "are read into three variables below."
   ]
  },
  {
   "cell_type": "code",
   "execution_count": 5,
   "id": "2d4bf8a8",
   "metadata": {
    "execution": {
     "iopub.execute_input": "2022-03-06T17:31:55.665216Z",
     "iopub.status.busy": "2022-03-06T17:31:55.664892Z",
     "iopub.status.idle": "2022-03-06T17:31:55.679493Z",
     "shell.execute_reply": "2022-03-06T17:31:55.678202Z"
    }
   },
   "outputs": [],
   "source": [
    "promoter_template   = read(\"pYPKa_Z_TEF1.gb\")\n",
    "gene_template       = read(\"pYPKa_A_EcfabD.gb\")\n",
    "terminator_template = read(\"pYPKa_E_FBA1.gb\")"
   ]
  },
  {
   "cell_type": "markdown",
   "id": "d03a72de",
   "metadata": {},
   "source": [
    "The construction of the three vector above are described in the [pYPKa_ZE_TEF1](pYPKa_ZE_TEF1.ipynb) and [pYPKa_A_EcfabD](pYPKa_A_EcfabD.ipynb) notebooks.\n",
    "\n",
    "Three DNA fragments are PCR amplified using [standard primers](standard_primers.txt). Suggested PCR programs can be found at the end of this document."
   ]
  },
  {
   "cell_type": "code",
   "execution_count": 6,
   "id": "d5e88943",
   "metadata": {
    "execution": {
     "iopub.execute_input": "2022-03-06T17:31:55.682505Z",
     "iopub.status.busy": "2022-03-06T17:31:55.682250Z",
     "iopub.status.idle": "2022-03-06T17:31:55.703666Z",
     "shell.execute_reply": "2022-03-06T17:31:55.703042Z"
    }
   },
   "outputs": [],
   "source": [
    "prom = pcr( p['577'], p['567'], promoter_template)\n",
    "gene = pcr( p['468'], p['467'], gene_template)\n",
    "term = pcr( p['568'], p['578'], terminator_template)"
   ]
  },
  {
   "cell_type": "markdown",
   "id": "90fe99a2",
   "metadata": {},
   "source": [
    "The four linear DNA fragments are mixed and transformed\n",
    "to a _Saccharomyces cerevisiae_ ura3 mutant.\n",
    "\n",
    "The fragments will be assembled by _in-vivo_ [homologous recombination](http://www.ncbi.nlm.nih.gov/pubmed/2828185):"
   ]
  },
  {
   "cell_type": "code",
   "execution_count": 7,
   "id": "7319ce68",
   "metadata": {
    "execution": {
     "iopub.execute_input": "2022-03-06T17:31:55.706558Z",
     "iopub.status.busy": "2022-03-06T17:31:55.706377Z",
     "iopub.status.idle": "2022-03-06T17:31:56.237568Z",
     "shell.execute_reply": "2022-03-06T17:31:56.236657Z"
    }
   },
   "outputs": [
    {
     "data": {
      "text/plain": [
       "Assembly\n",
       "fragments..: 5603bp 811bp 1019bp 970bp\n",
       "limit(bp)..: 31\n",
       "G.nodes....: 8\n",
       "algorithm..: common_sub_strings"
      ]
     },
     "execution_count": 7,
     "metadata": {},
     "output_type": "execute_result"
    }
   ],
   "source": [
    "asm = Assembly( (pYPK_EcoRV, prom, gene, term), limit=31 )\n",
    "\n",
    "asm"
   ]
  },
  {
   "cell_type": "markdown",
   "id": "785ad9d7",
   "metadata": {},
   "source": [
    "The representation of the asm object above should normally indicate one circcular product only.\n",
    "More than one circular products might indicate an incorrect assembly strategy or represent\n",
    "by-products that might arise in the assembly process.\n",
    "The largest recombination product is chosen as candidate for the pYPK0_TEF1_EcfabD_FBA1 vector."
   ]
  },
  {
   "cell_type": "code",
   "execution_count": 8,
   "id": "6ff57a6b",
   "metadata": {
    "execution": {
     "iopub.execute_input": "2022-03-06T17:31:56.240262Z",
     "iopub.status.busy": "2022-03-06T17:31:56.240046Z",
     "iopub.status.idle": "2022-03-06T17:31:56.488199Z",
     "shell.execute_reply": "2022-03-06T17:31:56.487718Z"
    }
   },
   "outputs": [
    {
     "data": {
      "text/plain": [
       " -|pYPKpw_lin|124\n",
       "|             \\/\n",
       "|             /\\\n",
       "|             124|811bp_PCR_prod|50\n",
       "|                                \\/\n",
       "|                                /\\\n",
       "|                                50|1019bp_PCR_prod|37\n",
       "|                                                   \\/\n",
       "|                                                   /\\\n",
       "|                                                   37|970bp_PCR_prod|242\n",
       "|                                                                     \\/\n",
       "|                                                                     /\\\n",
       "|                                                                     242-\n",
       "|                                                                        |\n",
       " ------------------------------------------------------------------------"
      ]
     },
     "execution_count": 8,
     "metadata": {},
     "output_type": "execute_result"
    }
   ],
   "source": [
    "candidate = asm.assemble_circular()[0]\n",
    "\n",
    "candidate.figure()"
   ]
  },
  {
   "cell_type": "markdown",
   "id": "a81a05a3",
   "metadata": {},
   "source": [
    "The candidate vector is synchronized to the 577 primer. This means that\n",
    "the plasmid origin is shifted so that it matches the backbone vector."
   ]
  },
  {
   "cell_type": "code",
   "execution_count": 9,
   "id": "2d68c5f5",
   "metadata": {
    "execution": {
     "iopub.execute_input": "2022-03-06T17:31:56.490771Z",
     "iopub.status.busy": "2022-03-06T17:31:56.490538Z",
     "iopub.status.idle": "2022-03-06T17:31:56.878436Z",
     "shell.execute_reply": "2022-03-06T17:31:56.877798Z"
    }
   },
   "outputs": [],
   "source": [
    "result = candidate.synced(\"gttctgatcctcgagcatcttaagaattc\")"
   ]
  },
  {
   "cell_type": "markdown",
   "id": "c5ef6cb2",
   "metadata": {},
   "source": [
    "### Diagnostic PCR confirmation\n",
    "\n",
    "The structure of the final vector is confirmed by two\n",
    "separate PCR reactions, one for the promoter and gene and\n",
    "one for the gene and terminator.\n",
    "\n",
    "PCR using standard primers 577 and 467 to amplify promoter and gene."
   ]
  },
  {
   "cell_type": "code",
   "execution_count": 10,
   "id": "bce6229f",
   "metadata": {
    "execution": {
     "iopub.execute_input": "2022-03-06T17:31:56.881277Z",
     "iopub.status.busy": "2022-03-06T17:31:56.880995Z",
     "iopub.status.idle": "2022-03-06T17:31:56.907982Z",
     "shell.execute_reply": "2022-03-06T17:31:56.907421Z"
    }
   },
   "outputs": [],
   "source": [
    "product = pcr( p['577'], p['467'], result)"
   ]
  },
  {
   "cell_type": "markdown",
   "id": "b9f80c0a",
   "metadata": {},
   "source": [
    "A correct clone should give this size in base pairs:"
   ]
  },
  {
   "cell_type": "code",
   "execution_count": 11,
   "id": "9ee49b6c",
   "metadata": {
    "execution": {
     "iopub.execute_input": "2022-03-06T17:31:56.912957Z",
     "iopub.status.busy": "2022-03-06T17:31:56.912552Z",
     "iopub.status.idle": "2022-03-06T17:31:56.917510Z",
     "shell.execute_reply": "2022-03-06T17:31:56.916667Z"
    }
   },
   "outputs": [
    {
     "name": "stdout",
     "output_type": "stream",
     "text": [
      "1780\n"
     ]
    }
   ],
   "source": [
    "print(len(product))"
   ]
  },
  {
   "cell_type": "markdown",
   "id": "afa5ac0b",
   "metadata": {},
   "source": [
    "If the promoter is missing from the assembly, the PCR product will have this size in base pairs:"
   ]
  },
  {
   "cell_type": "code",
   "execution_count": 12,
   "id": "74779b65",
   "metadata": {
    "execution": {
     "iopub.execute_input": "2022-03-06T17:31:56.921812Z",
     "iopub.status.busy": "2022-03-06T17:31:56.921528Z",
     "iopub.status.idle": "2022-03-06T17:31:56.926231Z",
     "shell.execute_reply": "2022-03-06T17:31:56.925188Z"
    }
   },
   "outputs": [
    {
     "name": "stdout",
     "output_type": "stream",
     "text": [
      "969\n"
     ]
    }
   ],
   "source": [
    "print(len(product) - len(prom))"
   ]
  },
  {
   "cell_type": "markdown",
   "id": "f3c246b6",
   "metadata": {},
   "source": [
    "If the gene is missing from the assembly, the PCR product will have this size in base pairs:"
   ]
  },
  {
   "cell_type": "code",
   "execution_count": 13,
   "id": "416ed2ef",
   "metadata": {
    "execution": {
     "iopub.execute_input": "2022-03-06T17:31:56.930846Z",
     "iopub.status.busy": "2022-03-06T17:31:56.930544Z",
     "iopub.status.idle": "2022-03-06T17:31:56.934453Z",
     "shell.execute_reply": "2022-03-06T17:31:56.933718Z"
    }
   },
   "outputs": [
    {
     "name": "stdout",
     "output_type": "stream",
     "text": [
      "761\n"
     ]
    }
   ],
   "source": [
    "print(len(product) - len(gene))"
   ]
  },
  {
   "cell_type": "markdown",
   "id": "36328ba8",
   "metadata": {},
   "source": [
    "PCR using standard primers 468 and 578 to amplify gene and terminator."
   ]
  },
  {
   "cell_type": "code",
   "execution_count": 14,
   "id": "def7ab69",
   "metadata": {
    "execution": {
     "iopub.execute_input": "2022-03-06T17:31:56.937778Z",
     "iopub.status.busy": "2022-03-06T17:31:56.937495Z",
     "iopub.status.idle": "2022-03-06T17:31:56.969100Z",
     "shell.execute_reply": "2022-03-06T17:31:56.968391Z"
    }
   },
   "outputs": [],
   "source": [
    "product2 = pcr( p['468'], p['578'], result)"
   ]
  },
  {
   "cell_type": "markdown",
   "id": "8d86200c",
   "metadata": {},
   "source": [
    "A correct clone should give this size:"
   ]
  },
  {
   "cell_type": "code",
   "execution_count": 15,
   "id": "24f3e64b",
   "metadata": {
    "execution": {
     "iopub.execute_input": "2022-03-06T17:31:56.972009Z",
     "iopub.status.busy": "2022-03-06T17:31:56.971773Z",
     "iopub.status.idle": "2022-03-06T17:31:56.975895Z",
     "shell.execute_reply": "2022-03-06T17:31:56.974618Z"
    }
   },
   "outputs": [
    {
     "name": "stdout",
     "output_type": "stream",
     "text": [
      "1952\n"
     ]
    }
   ],
   "source": [
    "print(len(product2))"
   ]
  },
  {
   "cell_type": "markdown",
   "id": "8e28f17d",
   "metadata": {},
   "source": [
    "If the gene is missing from the assembly, the PCR product will have this size in base pairs:"
   ]
  },
  {
   "cell_type": "code",
   "execution_count": 16,
   "id": "402fe1fe",
   "metadata": {
    "execution": {
     "iopub.execute_input": "2022-03-06T17:31:56.981116Z",
     "iopub.status.busy": "2022-03-06T17:31:56.980887Z",
     "iopub.status.idle": "2022-03-06T17:31:56.984974Z",
     "shell.execute_reply": "2022-03-06T17:31:56.984237Z"
    }
   },
   "outputs": [
    {
     "name": "stdout",
     "output_type": "stream",
     "text": [
      "933\n"
     ]
    }
   ],
   "source": [
    "print(len(product2) - len(gene))"
   ]
  },
  {
   "cell_type": "markdown",
   "id": "d73cdb63",
   "metadata": {},
   "source": [
    "If the terminator is missing from the assembly, the PCR product will have this size in base pairs:"
   ]
  },
  {
   "cell_type": "code",
   "execution_count": 17,
   "id": "dc0a1f19",
   "metadata": {
    "execution": {
     "iopub.execute_input": "2022-03-06T17:31:56.988124Z",
     "iopub.status.busy": "2022-03-06T17:31:56.987872Z",
     "iopub.status.idle": "2022-03-06T17:31:56.991915Z",
     "shell.execute_reply": "2022-03-06T17:31:56.991125Z"
    }
   },
   "outputs": [
    {
     "name": "stdout",
     "output_type": "stream",
     "text": [
      "982\n"
     ]
    }
   ],
   "source": [
    "print(len(product2) - len(term))"
   ]
  },
  {
   "cell_type": "markdown",
   "id": "22d4f946",
   "metadata": {},
   "source": [
    "The cseguid checksum for the resulting plasmid is calculated for future reference.\n",
    "The [cseguid checksum](http://pydna.readthedocs.org/en/latest/pydna.html#pydna.utils.cseguid)\n",
    "uniquely identifies a circular double stranded sequence."
   ]
  },
  {
   "cell_type": "code",
   "execution_count": 18,
   "id": "b6a432b1",
   "metadata": {
    "execution": {
     "iopub.execute_input": "2022-03-06T17:31:56.997506Z",
     "iopub.status.busy": "2022-03-06T17:31:56.996896Z",
     "iopub.status.idle": "2022-03-06T17:31:57.010158Z",
     "shell.execute_reply": "2022-03-06T17:31:57.008788Z"
    }
   },
   "outputs": [
    {
     "data": {
      "text/plain": [
       "v01M60VeuFZ1JwP7geadToegcEo"
      ]
     },
     "execution_count": 18,
     "metadata": {},
     "output_type": "execute_result"
    }
   ],
   "source": [
    "result.cseguid()"
   ]
  },
  {
   "cell_type": "markdown",
   "id": "aac97ac9",
   "metadata": {},
   "source": [
    "The file is named based on the nemas of promoter, gene and terminator."
   ]
  },
  {
   "cell_type": "code",
   "execution_count": 19,
   "id": "199bbf81",
   "metadata": {
    "execution": {
     "iopub.execute_input": "2022-03-06T17:31:57.014918Z",
     "iopub.status.busy": "2022-03-06T17:31:57.014239Z",
     "iopub.status.idle": "2022-03-06T17:31:57.017646Z",
     "shell.execute_reply": "2022-03-06T17:31:57.016936Z"
    }
   },
   "outputs": [],
   "source": [
    "result.locus = \"pYPK0_tp_g_tp\"\n",
    "result.definition = \"pYPK0_TEF1_EcfabD_FBA1\""
   ]
  },
  {
   "cell_type": "markdown",
   "id": "f05b083a",
   "metadata": {},
   "source": [
    "Sequence is stamped with cseguid checksum. This can be used to verify the\n",
    "integrity of the sequence file."
   ]
  },
  {
   "cell_type": "code",
   "execution_count": 20,
   "id": "8f35e410",
   "metadata": {
    "execution": {
     "iopub.execute_input": "2022-03-06T17:31:57.021382Z",
     "iopub.status.busy": "2022-03-06T17:31:57.021071Z",
     "iopub.status.idle": "2022-03-06T17:31:57.035895Z",
     "shell.execute_reply": "2022-03-06T17:31:57.034726Z"
    }
   },
   "outputs": [
    {
     "data": {
      "text/plain": [
       "cSEGUID_v01M60VeuFZ1JwP7geadToegcEo"
      ]
     },
     "execution_count": 20,
     "metadata": {},
     "output_type": "execute_result"
    }
   ],
   "source": [
    "result.stamp()"
   ]
  },
  {
   "cell_type": "markdown",
   "id": "dcafa80d",
   "metadata": {},
   "source": [
    "Write sequence to a local file."
   ]
  },
  {
   "cell_type": "code",
   "execution_count": 21,
   "id": "d55b0fe3",
   "metadata": {
    "execution": {
     "iopub.execute_input": "2022-03-06T17:31:57.039480Z",
     "iopub.status.busy": "2022-03-06T17:31:57.039247Z",
     "iopub.status.idle": "2022-03-06T17:31:57.050619Z",
     "shell.execute_reply": "2022-03-06T17:31:57.049702Z"
    }
   },
   "outputs": [
    {
     "data": {
      "text/html": [
       "<font face=monospace><a href='pYPK0_TEF1_EcfabD_FBA1.gb' target='_blank'>pYPK0_TEF1_EcfabD_FBA1.gb</a></font><br>"
      ]
     },
     "metadata": {},
     "output_type": "display_data"
    }
   ],
   "source": [
    "result.write(\"pYPK0_TEF1_EcfabD_FBA1.gb\")"
   ]
  },
  {
   "cell_type": "markdown",
   "id": "2b228ec1",
   "metadata": {},
   "source": [
    "## PCR programs for the amplification of Promoter, Gene and Terminator\n",
    "\n",
    "see cell #6\n",
    "\n",
    "Promoter"
   ]
  },
  {
   "cell_type": "code",
   "execution_count": 22,
   "id": "dc7fd210",
   "metadata": {
    "execution": {
     "iopub.execute_input": "2022-03-06T17:31:57.054393Z",
     "iopub.status.busy": "2022-03-06T17:31:57.054168Z",
     "iopub.status.idle": "2022-03-06T17:31:57.060894Z",
     "shell.execute_reply": "2022-03-06T17:31:57.058777Z"
    }
   },
   "outputs": [
    {
     "data": {
      "text/plain": [
       "|95°C|95°C               |    |tmf:64.6\n",
       "|____|_____          72°C|72°C|tmr:69.7\n",
       "|3min|30s  \\ 57.1°C _____|____|45s/kb\n",
       "|    |      \\______/ 0:36|5min|GC 39%\n",
       "|    |       30s         |    |811bp"
      ]
     },
     "execution_count": 22,
     "metadata": {},
     "output_type": "execute_result"
    }
   ],
   "source": [
    "prom.program()"
   ]
  },
  {
   "cell_type": "markdown",
   "id": "868ca159",
   "metadata": {},
   "source": [
    "Gene"
   ]
  },
  {
   "cell_type": "code",
   "execution_count": 23,
   "id": "9a33d1b8",
   "metadata": {
    "execution": {
     "iopub.execute_input": "2022-03-06T17:31:57.066328Z",
     "iopub.status.busy": "2022-03-06T17:31:57.066051Z",
     "iopub.status.idle": "2022-03-06T17:31:57.071743Z",
     "shell.execute_reply": "2022-03-06T17:31:57.070953Z"
    }
   },
   "outputs": [
    {
     "data": {
      "text/plain": [
       "|95°C|95°C               |    |tmf:76.9\n",
       "|____|_____          72°C|72°C|tmr:67.9\n",
       "|3min|30s  \\ 62.7°C _____|____|45s/kb\n",
       "|    |      \\______/ 0:45|5min|GC 54%\n",
       "|    |       30s         |    |1019bp"
      ]
     },
     "execution_count": 23,
     "metadata": {},
     "output_type": "execute_result"
    }
   ],
   "source": [
    "gene.program()"
   ]
  },
  {
   "cell_type": "markdown",
   "id": "ba2301f9",
   "metadata": {},
   "source": [
    "Terminator"
   ]
  },
  {
   "cell_type": "code",
   "execution_count": 24,
   "id": "7f4ad954",
   "metadata": {
    "execution": {
     "iopub.execute_input": "2022-03-06T17:31:57.074898Z",
     "iopub.status.busy": "2022-03-06T17:31:57.074630Z",
     "iopub.status.idle": "2022-03-06T17:31:57.082727Z",
     "shell.execute_reply": "2022-03-06T17:31:57.081984Z"
    }
   },
   "outputs": [
    {
     "data": {
      "text/plain": [
       "|95°C|95°C               |    |tmf:66.1\n",
       "|____|_____          72°C|72°C|tmr:65.0\n",
       "|3min|30s  \\ 57.2°C _____|____|45s/kb\n",
       "|    |      \\______/ 0:43|5min|GC 38%\n",
       "|    |       30s         |    |970bp"
      ]
     },
     "execution_count": 24,
     "metadata": {},
     "output_type": "execute_result"
    }
   ],
   "source": [
    "term.program()"
   ]
  }
 ],
 "metadata": {
  "language_info": {
   "codemirror_mode": {
    "name": "ipython",
    "version": 3
   },
   "file_extension": ".py",
   "mimetype": "text/x-python",
   "name": "python",
   "nbconvert_exporter": "python",
   "pygments_lexer": "ipython3",
   "version": "3.9.7"
  }
 },
 "nbformat": 4,
 "nbformat_minor": 5
}
