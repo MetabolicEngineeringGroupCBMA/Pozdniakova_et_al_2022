{
 "cells": [
  {
   "cell_type": "markdown",
   "id": "8a2609e5",
   "metadata": {},
   "source": [
    "# pYPK0_PDC1_EcfabH_TEF1\n",
    "\n",
    "This notebook describes the assembly of the [_Saccaromyces cerevisiae_](www.yeastgenome.org)\n",
    "single gene expression vector pYPK0_PDC1_EcfabH_TEF1.\n",
    "\n",
    "It is made by _in-vivo_ homologous recombination between three PCR products and one linear vector fragment.\n",
    "The PCR products are a promoter generated from a pYPK_Z vector, a gene from a pYPKa_A vector and\n",
    "a terminator from a pYPKa_E vector. The three PCR products are joined with\n",
    "a linearized [pYPKpw](https://github.com/BjornFJohansson/ypk-xylose-pathways/blob/master/notebooks/pYPKpw.ipynb)\n",
    "backbone vector that has the [URA3](http://www.yeastgenome.org/locus/S000000747/overview)\n",
    "marker and a _S. crevisiae_ [2 micron](http://blog.addgene.org/plasmids-101-yeast-vectors) origin of replication.\n",
    "\n",
    "The four linear DNA fragments are joined by homologous recombination in a\n",
    "[_Saccharomyces cerevisiae_](http://wiki.yeastgenome.org/index.php/Commonly_used_strains) ura3 mutant.\n",
    "\n",
    "![pYPK0_promoter_gene_terminator](tp_g_tp.png \"pYPK0_promoter_gene_terminator\")\n",
    "\n",
    "A part of the [pydna](https://pypi.python.org/pypi/pydna/) package is imported in the code cell below."
   ]
  },
  {
   "cell_type": "code",
   "execution_count": 1,
   "id": "2e3fcd3f",
   "metadata": {
    "execution": {
     "iopub.execute_input": "2022-03-06T17:31:51.925899Z",
     "iopub.status.busy": "2022-03-06T17:31:51.925476Z",
     "iopub.status.idle": "2022-03-06T17:31:52.344103Z",
     "shell.execute_reply": "2022-03-06T17:31:52.343171Z"
    }
   },
   "outputs": [],
   "source": [
    "from pydna.parsers import parse_primers\n",
    "from pydna.readers import read\n",
    "from pydna.amplify import pcr\n",
    "from pydna.assembly import Assembly"
   ]
  },
  {
   "cell_type": "markdown",
   "id": "272b6331",
   "metadata": {},
   "source": [
    "The Yeast Pathway Kit [standard primers](standard_primers.txt) are read into a dictionary in the code cell below."
   ]
  },
  {
   "cell_type": "code",
   "execution_count": 2,
   "id": "208b6ebf",
   "metadata": {
    "execution": {
     "iopub.execute_input": "2022-03-06T17:31:52.346929Z",
     "iopub.status.busy": "2022-03-06T17:31:52.346727Z",
     "iopub.status.idle": "2022-03-06T17:31:52.361137Z",
     "shell.execute_reply": "2022-03-06T17:31:52.359677Z"
    }
   },
   "outputs": [],
   "source": [
    "p = { x.id: x for x in parse_primers(\"standard_primers.txt\") }"
   ]
  },
  {
   "cell_type": "markdown",
   "id": "506f53fc",
   "metadata": {},
   "source": [
    "The backbone vector [pYPKpw](pYPKpw.gb) is read from a local file in the code cell below."
   ]
  },
  {
   "cell_type": "code",
   "execution_count": 3,
   "id": "f82f594f",
   "metadata": {
    "execution": {
     "iopub.execute_input": "2022-03-06T17:31:52.364786Z",
     "iopub.status.busy": "2022-03-06T17:31:52.364560Z",
     "iopub.status.idle": "2022-03-06T17:31:52.381896Z",
     "shell.execute_reply": "2022-03-06T17:31:52.381213Z"
    }
   },
   "outputs": [],
   "source": [
    "pYPKpw = read(\"pYPKpw.gb\")"
   ]
  },
  {
   "cell_type": "markdown",
   "id": "c6aa5a60",
   "metadata": {},
   "source": [
    "The backbone vector is linearized by digestion with [EcoRV](http://rebase.neb.com/rebase/enz/EcoRV.html).\n",
    "The restriction enzyme functionality is provided by [biopython](http://biopython.org)."
   ]
  },
  {
   "cell_type": "code",
   "execution_count": 4,
   "id": "9a45d32c",
   "metadata": {
    "execution": {
     "iopub.execute_input": "2022-03-06T17:31:52.385316Z",
     "iopub.status.busy": "2022-03-06T17:31:52.384990Z",
     "iopub.status.idle": "2022-03-06T17:31:52.393695Z",
     "shell.execute_reply": "2022-03-06T17:31:52.392657Z"
    }
   },
   "outputs": [],
   "source": [
    "from Bio.Restriction import EcoRV\n",
    "\n",
    "pYPK_EcoRV = pYPKpw.linearize(EcoRV)"
   ]
  },
  {
   "cell_type": "markdown",
   "id": "35c5e49a",
   "metadata": {},
   "source": [
    "The pYPKa derived _E. coli_ plasmids containing [promoter](pYPKa_Z_PDC1.gb), [gene](pYPKa_A_EcfabH.gb) and [terminator](pYPKa_E_TEF1.gb)\n",
    "are read into three variables below."
   ]
  },
  {
   "cell_type": "code",
   "execution_count": 5,
   "id": "f251da47",
   "metadata": {
    "execution": {
     "iopub.execute_input": "2022-03-06T17:31:52.397597Z",
     "iopub.status.busy": "2022-03-06T17:31:52.397393Z",
     "iopub.status.idle": "2022-03-06T17:31:52.413515Z",
     "shell.execute_reply": "2022-03-06T17:31:52.410650Z"
    }
   },
   "outputs": [],
   "source": [
    "promoter_template   = read(\"pYPKa_Z_PDC1.gb\")\n",
    "gene_template       = read(\"pYPKa_A_EcfabH.gb\")\n",
    "terminator_template = read(\"pYPKa_E_TEF1.gb\")"
   ]
  },
  {
   "cell_type": "markdown",
   "id": "077572c4",
   "metadata": {},
   "source": [
    "The construction of the three vector above are described in the [pYPKa_ZE_PDC1](pYPKa_ZE_PDC1.ipynb) and [pYPKa_A_EcfabH](pYPKa_A_EcfabH.ipynb) notebooks.\n",
    "\n",
    "Three DNA fragments are PCR amplified using [standard primers](standard_primers.txt). Suggested PCR programs can be found at the end of this document."
   ]
  },
  {
   "cell_type": "code",
   "execution_count": 6,
   "id": "d15b096a",
   "metadata": {
    "execution": {
     "iopub.execute_input": "2022-03-06T17:31:52.416062Z",
     "iopub.status.busy": "2022-03-06T17:31:52.415828Z",
     "iopub.status.idle": "2022-03-06T17:31:52.437785Z",
     "shell.execute_reply": "2022-03-06T17:31:52.437127Z"
    }
   },
   "outputs": [],
   "source": [
    "prom = pcr( p['577'], p['567'], promoter_template)\n",
    "gene = pcr( p['468'], p['467'], gene_template)\n",
    "term = pcr( p['568'], p['578'], terminator_template)"
   ]
  },
  {
   "cell_type": "markdown",
   "id": "09fba308",
   "metadata": {},
   "source": [
    "The four linear DNA fragments are mixed and transformed\n",
    "to a _Saccharomyces cerevisiae_ ura3 mutant.\n",
    "\n",
    "The fragments will be assembled by _in-vivo_ [homologous recombination](http://www.ncbi.nlm.nih.gov/pubmed/2828185):"
   ]
  },
  {
   "cell_type": "code",
   "execution_count": 7,
   "id": "2a9b6b7f",
   "metadata": {
    "execution": {
     "iopub.execute_input": "2022-03-06T17:31:52.440829Z",
     "iopub.status.busy": "2022-03-06T17:31:52.440614Z",
     "iopub.status.idle": "2022-03-06T17:31:53.079829Z",
     "shell.execute_reply": "2022-03-06T17:31:53.075310Z"
    }
   },
   "outputs": [
    {
     "data": {
      "text/plain": [
       "Assembly\n",
       "fragments..: 5603bp 1187bp 1043bp 919bp\n",
       "limit(bp)..: 31\n",
       "G.nodes....: 8\n",
       "algorithm..: common_sub_strings"
      ]
     },
     "execution_count": 7,
     "metadata": {},
     "output_type": "execute_result"
    }
   ],
   "source": [
    "asm = Assembly( (pYPK_EcoRV, prom, gene, term), limit=31 )\n",
    "\n",
    "asm"
   ]
  },
  {
   "cell_type": "markdown",
   "id": "ee1d7952",
   "metadata": {},
   "source": [
    "The representation of the asm object above should normally indicate one circcular product only.\n",
    "More than one circular products might indicate an incorrect assembly strategy or represent\n",
    "by-products that might arise in the assembly process.\n",
    "The largest recombination product is chosen as candidate for the pYPK0_PDC1_EcfabH_TEF1 vector."
   ]
  },
  {
   "cell_type": "code",
   "execution_count": 8,
   "id": "15f4600d",
   "metadata": {
    "execution": {
     "iopub.execute_input": "2022-03-06T17:31:53.083754Z",
     "iopub.status.busy": "2022-03-06T17:31:53.083566Z",
     "iopub.status.idle": "2022-03-06T17:31:53.326303Z",
     "shell.execute_reply": "2022-03-06T17:31:53.325648Z"
    }
   },
   "outputs": [
    {
     "data": {
      "text/plain": [
       " -|pYPKpw_lin|124\n",
       "|             \\/\n",
       "|             /\\\n",
       "|             124|1187bp_PCR_prod|50\n",
       "|                                 \\/\n",
       "|                                 /\\\n",
       "|                                 50|1043bp_PCR_prod|37\n",
       "|                                                    \\/\n",
       "|                                                    /\\\n",
       "|                                                    37|919bp_PCR_prod|242\n",
       "|                                                                      \\/\n",
       "|                                                                      /\\\n",
       "|                                                                      242-\n",
       "|                                                                         |\n",
       " -------------------------------------------------------------------------"
      ]
     },
     "execution_count": 8,
     "metadata": {},
     "output_type": "execute_result"
    }
   ],
   "source": [
    "candidate = asm.assemble_circular()[0]\n",
    "\n",
    "candidate.figure()"
   ]
  },
  {
   "cell_type": "markdown",
   "id": "eabfa572",
   "metadata": {},
   "source": [
    "The candidate vector is synchronized to the 577 primer. This means that\n",
    "the plasmid origin is shifted so that it matches the backbone vector."
   ]
  },
  {
   "cell_type": "code",
   "execution_count": 9,
   "id": "449135c2",
   "metadata": {
    "execution": {
     "iopub.execute_input": "2022-03-06T17:31:53.330547Z",
     "iopub.status.busy": "2022-03-06T17:31:53.329993Z",
     "iopub.status.idle": "2022-03-06T17:31:53.735066Z",
     "shell.execute_reply": "2022-03-06T17:31:53.734425Z"
    }
   },
   "outputs": [],
   "source": [
    "result = candidate.synced(\"gttctgatcctcgagcatcttaagaattc\")"
   ]
  },
  {
   "cell_type": "markdown",
   "id": "92a039c0",
   "metadata": {},
   "source": [
    "### Diagnostic PCR confirmation\n",
    "\n",
    "The structure of the final vector is confirmed by two\n",
    "separate PCR reactions, one for the promoter and gene and\n",
    "one for the gene and terminator.\n",
    "\n",
    "PCR using standard primers 577 and 467 to amplify promoter and gene."
   ]
  },
  {
   "cell_type": "code",
   "execution_count": 10,
   "id": "107f06de",
   "metadata": {
    "execution": {
     "iopub.execute_input": "2022-03-06T17:31:53.738140Z",
     "iopub.status.busy": "2022-03-06T17:31:53.737841Z",
     "iopub.status.idle": "2022-03-06T17:31:53.771884Z",
     "shell.execute_reply": "2022-03-06T17:31:53.771268Z"
    }
   },
   "outputs": [],
   "source": [
    "product = pcr( p['577'], p['467'], result)"
   ]
  },
  {
   "cell_type": "markdown",
   "id": "8b0ce0a5",
   "metadata": {},
   "source": [
    "A correct clone should give this size in base pairs:"
   ]
  },
  {
   "cell_type": "code",
   "execution_count": 11,
   "id": "50b384bc",
   "metadata": {
    "execution": {
     "iopub.execute_input": "2022-03-06T17:31:53.775693Z",
     "iopub.status.busy": "2022-03-06T17:31:53.774830Z",
     "iopub.status.idle": "2022-03-06T17:31:53.781369Z",
     "shell.execute_reply": "2022-03-06T17:31:53.780230Z"
    }
   },
   "outputs": [
    {
     "name": "stdout",
     "output_type": "stream",
     "text": [
      "2180\n"
     ]
    }
   ],
   "source": [
    "print(len(product))"
   ]
  },
  {
   "cell_type": "markdown",
   "id": "52c2d6ea",
   "metadata": {},
   "source": [
    "If the promoter is missing from the assembly, the PCR product will have this size in base pairs:"
   ]
  },
  {
   "cell_type": "code",
   "execution_count": 12,
   "id": "29b3326d",
   "metadata": {
    "execution": {
     "iopub.execute_input": "2022-03-06T17:31:53.785670Z",
     "iopub.status.busy": "2022-03-06T17:31:53.785388Z",
     "iopub.status.idle": "2022-03-06T17:31:53.789775Z",
     "shell.execute_reply": "2022-03-06T17:31:53.789185Z"
    }
   },
   "outputs": [
    {
     "name": "stdout",
     "output_type": "stream",
     "text": [
      "993\n"
     ]
    }
   ],
   "source": [
    "print(len(product) - len(prom))"
   ]
  },
  {
   "cell_type": "markdown",
   "id": "2bd5e99e",
   "metadata": {},
   "source": [
    "If the gene is missing from the assembly, the PCR product will have this size in base pairs:"
   ]
  },
  {
   "cell_type": "code",
   "execution_count": 13,
   "id": "3b966095",
   "metadata": {
    "execution": {
     "iopub.execute_input": "2022-03-06T17:31:53.792413Z",
     "iopub.status.busy": "2022-03-06T17:31:53.792175Z",
     "iopub.status.idle": "2022-03-06T17:31:53.796329Z",
     "shell.execute_reply": "2022-03-06T17:31:53.795535Z"
    }
   },
   "outputs": [
    {
     "name": "stdout",
     "output_type": "stream",
     "text": [
      "1137\n"
     ]
    }
   ],
   "source": [
    "print(len(product) - len(gene))"
   ]
  },
  {
   "cell_type": "markdown",
   "id": "9adb9b7b",
   "metadata": {},
   "source": [
    "PCR using standard primers 468 and 578 to amplify gene and terminator."
   ]
  },
  {
   "cell_type": "code",
   "execution_count": 14,
   "id": "424408cf",
   "metadata": {
    "execution": {
     "iopub.execute_input": "2022-03-06T17:31:53.800948Z",
     "iopub.status.busy": "2022-03-06T17:31:53.800608Z",
     "iopub.status.idle": "2022-03-06T17:31:53.828521Z",
     "shell.execute_reply": "2022-03-06T17:31:53.827688Z"
    }
   },
   "outputs": [],
   "source": [
    "product2 = pcr( p['468'], p['578'], result)"
   ]
  },
  {
   "cell_type": "markdown",
   "id": "066a4377",
   "metadata": {},
   "source": [
    "A correct clone should give this size:"
   ]
  },
  {
   "cell_type": "code",
   "execution_count": 15,
   "id": "01b599ec",
   "metadata": {
    "execution": {
     "iopub.execute_input": "2022-03-06T17:31:53.831646Z",
     "iopub.status.busy": "2022-03-06T17:31:53.831460Z",
     "iopub.status.idle": "2022-03-06T17:31:53.835387Z",
     "shell.execute_reply": "2022-03-06T17:31:53.834379Z"
    }
   },
   "outputs": [
    {
     "name": "stdout",
     "output_type": "stream",
     "text": [
      "1925\n"
     ]
    }
   ],
   "source": [
    "print(len(product2))"
   ]
  },
  {
   "cell_type": "markdown",
   "id": "125c9aac",
   "metadata": {},
   "source": [
    "If the gene is missing from the assembly, the PCR product will have this size in base pairs:"
   ]
  },
  {
   "cell_type": "code",
   "execution_count": 16,
   "id": "17925970",
   "metadata": {
    "execution": {
     "iopub.execute_input": "2022-03-06T17:31:53.839431Z",
     "iopub.status.busy": "2022-03-06T17:31:53.839068Z",
     "iopub.status.idle": "2022-03-06T17:31:53.846690Z",
     "shell.execute_reply": "2022-03-06T17:31:53.845771Z"
    }
   },
   "outputs": [
    {
     "name": "stdout",
     "output_type": "stream",
     "text": [
      "882\n"
     ]
    }
   ],
   "source": [
    "print(len(product2) - len(gene))"
   ]
  },
  {
   "cell_type": "markdown",
   "id": "d2faa1b9",
   "metadata": {},
   "source": [
    "If the terminator is missing from the assembly, the PCR product will have this size in base pairs:"
   ]
  },
  {
   "cell_type": "code",
   "execution_count": 17,
   "id": "a9dd20ed",
   "metadata": {
    "execution": {
     "iopub.execute_input": "2022-03-06T17:31:53.850478Z",
     "iopub.status.busy": "2022-03-06T17:31:53.850082Z",
     "iopub.status.idle": "2022-03-06T17:31:53.853349Z",
     "shell.execute_reply": "2022-03-06T17:31:53.852830Z"
    }
   },
   "outputs": [
    {
     "name": "stdout",
     "output_type": "stream",
     "text": [
      "1006\n"
     ]
    }
   ],
   "source": [
    "print(len(product2) - len(term))"
   ]
  },
  {
   "cell_type": "markdown",
   "id": "6c39a923",
   "metadata": {},
   "source": [
    "The cseguid checksum for the resulting plasmid is calculated for future reference.\n",
    "The [cseguid checksum](http://pydna.readthedocs.org/en/latest/pydna.html#pydna.utils.cseguid)\n",
    "uniquely identifies a circular double stranded sequence."
   ]
  },
  {
   "cell_type": "code",
   "execution_count": 18,
   "id": "deba6c04",
   "metadata": {
    "execution": {
     "iopub.execute_input": "2022-03-06T17:31:53.855854Z",
     "iopub.status.busy": "2022-03-06T17:31:53.855677Z",
     "iopub.status.idle": "2022-03-06T17:31:53.869841Z",
     "shell.execute_reply": "2022-03-06T17:31:53.869157Z"
    }
   },
   "outputs": [
    {
     "data": {
      "text/plain": [
       "QPD3pgUORlbvSUw-xQVoCtvx88I"
      ]
     },
     "execution_count": 18,
     "metadata": {},
     "output_type": "execute_result"
    }
   ],
   "source": [
    "result.cseguid()"
   ]
  },
  {
   "cell_type": "markdown",
   "id": "30bf40bd",
   "metadata": {},
   "source": [
    "The file is named based on the nemas of promoter, gene and terminator."
   ]
  },
  {
   "cell_type": "code",
   "execution_count": 19,
   "id": "10b72e40",
   "metadata": {
    "execution": {
     "iopub.execute_input": "2022-03-06T17:31:53.873097Z",
     "iopub.status.busy": "2022-03-06T17:31:53.872872Z",
     "iopub.status.idle": "2022-03-06T17:31:53.877857Z",
     "shell.execute_reply": "2022-03-06T17:31:53.876361Z"
    }
   },
   "outputs": [],
   "source": [
    "result.locus = \"pYPK0_tp_g_tp\"\n",
    "result.definition = \"pYPK0_PDC1_EcfabH_TEF1\""
   ]
  },
  {
   "cell_type": "markdown",
   "id": "1b121dce",
   "metadata": {},
   "source": [
    "Sequence is stamped with cseguid checksum. This can be used to verify the\n",
    "integrity of the sequence file."
   ]
  },
  {
   "cell_type": "code",
   "execution_count": 20,
   "id": "bdc760db",
   "metadata": {
    "execution": {
     "iopub.execute_input": "2022-03-06T17:31:53.881056Z",
     "iopub.status.busy": "2022-03-06T17:31:53.880790Z",
     "iopub.status.idle": "2022-03-06T17:31:53.894313Z",
     "shell.execute_reply": "2022-03-06T17:31:53.892665Z"
    }
   },
   "outputs": [
    {
     "data": {
      "text/plain": [
       "cSEGUID_QPD3pgUORlbvSUw-xQVoCtvx88I"
      ]
     },
     "execution_count": 20,
     "metadata": {},
     "output_type": "execute_result"
    }
   ],
   "source": [
    "result.stamp()"
   ]
  },
  {
   "cell_type": "markdown",
   "id": "d8902f8a",
   "metadata": {},
   "source": [
    "Write sequence to a local file."
   ]
  },
  {
   "cell_type": "code",
   "execution_count": 21,
   "id": "5ac5eb5f",
   "metadata": {
    "execution": {
     "iopub.execute_input": "2022-03-06T17:31:53.898334Z",
     "iopub.status.busy": "2022-03-06T17:31:53.897966Z",
     "iopub.status.idle": "2022-03-06T17:31:53.906879Z",
     "shell.execute_reply": "2022-03-06T17:31:53.905942Z"
    }
   },
   "outputs": [
    {
     "data": {
      "text/html": [
       "<font face=monospace><a href='pYPK0_PDC1_EcfabH_TEF1.gb' target='_blank'>pYPK0_PDC1_EcfabH_TEF1.gb</a></font><br>"
      ]
     },
     "metadata": {},
     "output_type": "display_data"
    }
   ],
   "source": [
    "result.write(\"pYPK0_PDC1_EcfabH_TEF1.gb\")"
   ]
  },
  {
   "cell_type": "markdown",
   "id": "6ffd758f",
   "metadata": {},
   "source": [
    "## PCR programs for the amplification of Promoter, Gene and Terminator\n",
    "\n",
    "see cell #6\n",
    "\n",
    "Promoter"
   ]
  },
  {
   "cell_type": "code",
   "execution_count": 22,
   "id": "cd08e58d",
   "metadata": {
    "execution": {
     "iopub.execute_input": "2022-03-06T17:31:53.915706Z",
     "iopub.status.busy": "2022-03-06T17:31:53.915438Z",
     "iopub.status.idle": "2022-03-06T17:31:53.920760Z",
     "shell.execute_reply": "2022-03-06T17:31:53.920044Z"
    }
   },
   "outputs": [
    {
     "data": {
      "text/plain": [
       "|95°C|95°C               |    |tmf:64.6\n",
       "|____|_____          72°C|72°C|tmr:69.7\n",
       "|3min|30s  \\ 57.2°C _____|____|45s/kb\n",
       "|    |      \\______/ 0:53|5min|GC 38%\n",
       "|    |       30s         |    |1187bp"
      ]
     },
     "execution_count": 22,
     "metadata": {},
     "output_type": "execute_result"
    }
   ],
   "source": [
    "prom.program()"
   ]
  },
  {
   "cell_type": "markdown",
   "id": "3e94ec50",
   "metadata": {},
   "source": [
    "Gene"
   ]
  },
  {
   "cell_type": "code",
   "execution_count": 23,
   "id": "bb5fa93a",
   "metadata": {
    "execution": {
     "iopub.execute_input": "2022-03-06T17:31:53.924037Z",
     "iopub.status.busy": "2022-03-06T17:31:53.923800Z",
     "iopub.status.idle": "2022-03-06T17:31:53.930932Z",
     "shell.execute_reply": "2022-03-06T17:31:53.930102Z"
    }
   },
   "outputs": [
    {
     "data": {
      "text/plain": [
       "|95°C|95°C               |    |tmf:76.9\n",
       "|____|_____          72°C|72°C|tmr:67.9\n",
       "|3min|30s  \\ 62.6°C _____|____|45s/kb\n",
       "|    |      \\______/ 0:46|5min|GC 54%\n",
       "|    |       30s         |    |1043bp"
      ]
     },
     "execution_count": 23,
     "metadata": {},
     "output_type": "execute_result"
    }
   ],
   "source": [
    "gene.program()"
   ]
  },
  {
   "cell_type": "markdown",
   "id": "fafa6919",
   "metadata": {},
   "source": [
    "Terminator"
   ]
  },
  {
   "cell_type": "code",
   "execution_count": 24,
   "id": "eda85f71",
   "metadata": {
    "execution": {
     "iopub.execute_input": "2022-03-06T17:31:53.934296Z",
     "iopub.status.busy": "2022-03-06T17:31:53.934078Z",
     "iopub.status.idle": "2022-03-06T17:31:53.939960Z",
     "shell.execute_reply": "2022-03-06T17:31:53.939342Z"
    }
   },
   "outputs": [
    {
     "data": {
      "text/plain": [
       "|95°C|95°C               |    |tmf:66.1\n",
       "|____|_____          72°C|72°C|tmr:65.0\n",
       "|3min|30s  \\ 57.1°C _____|____|45s/kb\n",
       "|    |      \\______/ 0:41|5min|GC 38%\n",
       "|    |       30s         |    |919bp"
      ]
     },
     "execution_count": 24,
     "metadata": {},
     "output_type": "execute_result"
    }
   ],
   "source": [
    "term.program()"
   ]
  }
 ],
 "metadata": {
  "language_info": {
   "codemirror_mode": {
    "name": "ipython",
    "version": 3
   },
   "file_extension": ".py",
   "mimetype": "text/x-python",
   "name": "python",
   "nbconvert_exporter": "python",
   "pygments_lexer": "ipython3",
   "version": "3.9.7"
  }
 },
 "nbformat": 4,
 "nbformat_minor": 5
}
