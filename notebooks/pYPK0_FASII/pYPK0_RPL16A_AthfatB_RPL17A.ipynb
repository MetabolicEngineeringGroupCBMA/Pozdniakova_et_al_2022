{
 "cells": [
  {
   "cell_type": "markdown",
   "id": "db0636e7",
   "metadata": {},
   "source": [
    "# pYPK0_RPL16A_AthfatB_RPL17A\n",
    "\n",
    "This notebook describes the assembly of the [_Saccaromyces cerevisiae_](www.yeastgenome.org)\n",
    "single gene expression vector pYPK0_RPL16A_AthfatB_RPL17A.\n",
    "\n",
    "It is made by _in-vivo_ homologous recombination between three PCR products and one linear vector fragment.\n",
    "The PCR products are a promoter generated from a pYPK_Z vector, a gene from a pYPKa_A vector and\n",
    "a terminator from a pYPKa_E vector. The three PCR products are joined with\n",
    "a linearized [pYPKpw](https://github.com/BjornFJohansson/ypk-xylose-pathways/blob/master/notebooks/pYPKpw.ipynb)\n",
    "backbone vector that has the [URA3](http://www.yeastgenome.org/locus/S000000747/overview)\n",
    "marker and a _S. crevisiae_ [2 micron](http://blog.addgene.org/plasmids-101-yeast-vectors) origin of replication.\n",
    "\n",
    "The four linear DNA fragments are joined by homologous recombination in a\n",
    "[_Saccharomyces cerevisiae_](http://wiki.yeastgenome.org/index.php/Commonly_used_strains) ura3 mutant.\n",
    "\n",
    "![pYPK0_promoter_gene_terminator](tp_g_tp.png \"pYPK0_promoter_gene_terminator\")\n",
    "\n",
    "A part of the [pydna](https://pypi.python.org/pypi/pydna/) package is imported in the code cell below."
   ]
  },
  {
   "cell_type": "code",
   "execution_count": 1,
   "id": "37d606ac",
   "metadata": {
    "execution": {
     "iopub.execute_input": "2022-03-06T17:32:28.291414Z",
     "iopub.status.busy": "2022-03-06T17:32:28.290916Z",
     "iopub.status.idle": "2022-03-06T17:32:28.740115Z",
     "shell.execute_reply": "2022-03-06T17:32:28.739485Z"
    }
   },
   "outputs": [],
   "source": [
    "from pydna.parsers import parse_primers\n",
    "from pydna.readers import read\n",
    "from pydna.amplify import pcr\n",
    "from pydna.assembly import Assembly"
   ]
  },
  {
   "cell_type": "markdown",
   "id": "1a122563",
   "metadata": {},
   "source": [
    "The Yeast Pathway Kit [standard primers](standard_primers.txt) are read into a dictionary in the code cell below."
   ]
  },
  {
   "cell_type": "code",
   "execution_count": 2,
   "id": "1a54817c",
   "metadata": {
    "execution": {
     "iopub.execute_input": "2022-03-06T17:32:28.743447Z",
     "iopub.status.busy": "2022-03-06T17:32:28.742906Z",
     "iopub.status.idle": "2022-03-06T17:32:28.760173Z",
     "shell.execute_reply": "2022-03-06T17:32:28.759627Z"
    }
   },
   "outputs": [],
   "source": [
    "p = { x.id: x for x in parse_primers(\"standard_primers.txt\") }"
   ]
  },
  {
   "cell_type": "markdown",
   "id": "7c95b2a0",
   "metadata": {},
   "source": [
    "The backbone vector [pYPKpw](pYPKpw.gb) is read from a local file in the code cell below."
   ]
  },
  {
   "cell_type": "code",
   "execution_count": 3,
   "id": "549c42d8",
   "metadata": {
    "execution": {
     "iopub.execute_input": "2022-03-06T17:32:28.764818Z",
     "iopub.status.busy": "2022-03-06T17:32:28.764218Z",
     "iopub.status.idle": "2022-03-06T17:32:28.784647Z",
     "shell.execute_reply": "2022-03-06T17:32:28.782917Z"
    }
   },
   "outputs": [],
   "source": [
    "pYPKpw = read(\"pYPKpw.gb\")"
   ]
  },
  {
   "cell_type": "markdown",
   "id": "1cba0b59",
   "metadata": {},
   "source": [
    "The backbone vector is linearized by digestion with [EcoRV](http://rebase.neb.com/rebase/enz/EcoRV.html).\n",
    "The restriction enzyme functionality is provided by [biopython](http://biopython.org)."
   ]
  },
  {
   "cell_type": "code",
   "execution_count": 4,
   "id": "3dc605d0",
   "metadata": {
    "execution": {
     "iopub.execute_input": "2022-03-06T17:32:28.790361Z",
     "iopub.status.busy": "2022-03-06T17:32:28.789900Z",
     "iopub.status.idle": "2022-03-06T17:32:28.797226Z",
     "shell.execute_reply": "2022-03-06T17:32:28.796115Z"
    }
   },
   "outputs": [],
   "source": [
    "from Bio.Restriction import EcoRV\n",
    "\n",
    "pYPK_EcoRV = pYPKpw.linearize(EcoRV)"
   ]
  },
  {
   "cell_type": "markdown",
   "id": "758e0331",
   "metadata": {},
   "source": [
    "The pYPKa derived _E. coli_ plasmids containing [promoter](pYPKa_Z_RPL16A.gb), [gene](pYPKa_A_AthfatB.gb) and [terminator](pYPKa_E_RPL17A.gb)\n",
    "are read into three variables below."
   ]
  },
  {
   "cell_type": "code",
   "execution_count": 5,
   "id": "9c17ab99",
   "metadata": {
    "execution": {
     "iopub.execute_input": "2022-03-06T17:32:28.800680Z",
     "iopub.status.busy": "2022-03-06T17:32:28.800391Z",
     "iopub.status.idle": "2022-03-06T17:32:28.812035Z",
     "shell.execute_reply": "2022-03-06T17:32:28.810016Z"
    }
   },
   "outputs": [],
   "source": [
    "promoter_template   = read(\"pYPKa_Z_RPL16A.gb\")\n",
    "gene_template       = read(\"pYPK0_A_AthfatB.gb\")\n",
    "terminator_template = read(\"pYPKa_E_RPL17A.gb\")"
   ]
  },
  {
   "cell_type": "markdown",
   "id": "9f272971",
   "metadata": {},
   "source": [
    "The construction of the three vector above are described in the [pYPKa_ZE_RPL16A](pYPKa_ZE_RPL16A.ipynb) and [pYPKa_A_AthfatB](pYPKa_A_AthfatB.ipynb) notebooks.\n",
    "\n",
    "Three DNA fragments are PCR amplified using [standard primers](standard_primers.txt). Suggested PCR programs can be found at the end of this document."
   ]
  },
  {
   "cell_type": "code",
   "execution_count": 6,
   "id": "5de0b907",
   "metadata": {
    "execution": {
     "iopub.execute_input": "2022-03-06T17:32:28.819065Z",
     "iopub.status.busy": "2022-03-06T17:32:28.818333Z",
     "iopub.status.idle": "2022-03-06T17:32:28.843860Z",
     "shell.execute_reply": "2022-03-06T17:32:28.842794Z"
    }
   },
   "outputs": [],
   "source": [
    "prom = pcr( p['577'], p['567'], promoter_template)\n",
    "gene = pcr( p['468'], p['467'], gene_template)\n",
    "term = pcr( p['568'], p['578'], terminator_template)"
   ]
  },
  {
   "cell_type": "markdown",
   "id": "20521a02",
   "metadata": {},
   "source": [
    "The four linear DNA fragments are mixed and transformed\n",
    "to a _Saccharomyces cerevisiae_ ura3 mutant.\n",
    "\n",
    "The fragments will be assembled by _in-vivo_ [homologous recombination](http://www.ncbi.nlm.nih.gov/pubmed/2828185):"
   ]
  },
  {
   "cell_type": "code",
   "execution_count": 7,
   "id": "4ee837a2",
   "metadata": {
    "execution": {
     "iopub.execute_input": "2022-03-06T17:32:28.856561Z",
     "iopub.status.busy": "2022-03-06T17:32:28.856279Z",
     "iopub.status.idle": "2022-03-06T17:32:29.423586Z",
     "shell.execute_reply": "2022-03-06T17:32:29.423010Z"
    }
   },
   "outputs": [
    {
     "data": {
      "text/plain": [
       "Assembly\n",
       "fragments..: 5603bp 674bp 1180bp 1008bp\n",
       "limit(bp)..: 31\n",
       "G.nodes....: 8\n",
       "algorithm..: common_sub_strings"
      ]
     },
     "execution_count": 7,
     "metadata": {},
     "output_type": "execute_result"
    }
   ],
   "source": [
    "asm = Assembly( (pYPK_EcoRV, prom, gene, term), limit=31 )\n",
    "\n",
    "asm"
   ]
  },
  {
   "cell_type": "markdown",
   "id": "de1592c6",
   "metadata": {},
   "source": [
    "The representation of the asm object above should normally indicate one circcular product only.\n",
    "More than one circular products might indicate an incorrect assembly strategy or represent\n",
    "by-products that might arise in the assembly process.\n",
    "The largest recombination product is chosen as candidate for the pYPK0_RPL16A_AthfatB_RPL17A vector."
   ]
  },
  {
   "cell_type": "code",
   "execution_count": 8,
   "id": "1716c1aa",
   "metadata": {
    "execution": {
     "iopub.execute_input": "2022-03-06T17:32:29.426063Z",
     "iopub.status.busy": "2022-03-06T17:32:29.425852Z",
     "iopub.status.idle": "2022-03-06T17:32:29.693055Z",
     "shell.execute_reply": "2022-03-06T17:32:29.692508Z"
    }
   },
   "outputs": [
    {
     "data": {
      "text/plain": [
       " -|pYPKpw_lin|124\n",
       "|             \\/\n",
       "|             /\\\n",
       "|             124|674bp_PCR_prod|48\n",
       "|                                \\/\n",
       "|                                /\\\n",
       "|                                48|1180bp_PCR_prod|34\n",
       "|                                                   \\/\n",
       "|                                                   /\\\n",
       "|                                                   34|1008bp_PCR_prod|242\n",
       "|                                                                      \\/\n",
       "|                                                                      /\\\n",
       "|                                                                      242-\n",
       "|                                                                         |\n",
       " -------------------------------------------------------------------------"
      ]
     },
     "execution_count": 8,
     "metadata": {},
     "output_type": "execute_result"
    }
   ],
   "source": [
    "candidate = asm.assemble_circular()[0]\n",
    "\n",
    "candidate.figure()"
   ]
  },
  {
   "cell_type": "markdown",
   "id": "979d5824",
   "metadata": {},
   "source": [
    "The candidate vector is synchronized to the 577 primer. This means that\n",
    "the plasmid origin is shifted so that it matches the backbone vector."
   ]
  },
  {
   "cell_type": "code",
   "execution_count": 9,
   "id": "6675fcf2",
   "metadata": {
    "execution": {
     "iopub.execute_input": "2022-03-06T17:32:29.696633Z",
     "iopub.status.busy": "2022-03-06T17:32:29.696305Z",
     "iopub.status.idle": "2022-03-06T17:32:30.104120Z",
     "shell.execute_reply": "2022-03-06T17:32:30.103440Z"
    }
   },
   "outputs": [],
   "source": [
    "result = candidate.synced(\"gttctgatcctcgagcatcttaagaattc\")"
   ]
  },
  {
   "cell_type": "markdown",
   "id": "6d155383",
   "metadata": {},
   "source": [
    "### Diagnostic PCR confirmation\n",
    "\n",
    "The structure of the final vector is confirmed by two\n",
    "separate PCR reactions, one for the promoter and gene and\n",
    "one for the gene and terminator.\n",
    "\n",
    "PCR using standard primers 577 and 467 to amplify promoter and gene."
   ]
  },
  {
   "cell_type": "code",
   "execution_count": 10,
   "id": "2be898c3",
   "metadata": {
    "execution": {
     "iopub.execute_input": "2022-03-06T17:32:30.106933Z",
     "iopub.status.busy": "2022-03-06T17:32:30.106730Z",
     "iopub.status.idle": "2022-03-06T17:32:30.136352Z",
     "shell.execute_reply": "2022-03-06T17:32:30.135737Z"
    }
   },
   "outputs": [],
   "source": [
    "product = pcr( p['577'], p['467'], result)"
   ]
  },
  {
   "cell_type": "markdown",
   "id": "18ceb489",
   "metadata": {},
   "source": [
    "A correct clone should give this size in base pairs:"
   ]
  },
  {
   "cell_type": "code",
   "execution_count": 11,
   "id": "c9264d6e",
   "metadata": {
    "execution": {
     "iopub.execute_input": "2022-03-06T17:32:30.139352Z",
     "iopub.status.busy": "2022-03-06T17:32:30.139158Z",
     "iopub.status.idle": "2022-03-06T17:32:30.143019Z",
     "shell.execute_reply": "2022-03-06T17:32:30.142387Z"
    }
   },
   "outputs": [
    {
     "name": "stdout",
     "output_type": "stream",
     "text": [
      "1804\n"
     ]
    }
   ],
   "source": [
    "print(len(product))"
   ]
  },
  {
   "cell_type": "markdown",
   "id": "9b149304",
   "metadata": {},
   "source": [
    "If the promoter is missing from the assembly, the PCR product will have this size in base pairs:"
   ]
  },
  {
   "cell_type": "code",
   "execution_count": 12,
   "id": "e10879e6",
   "metadata": {
    "execution": {
     "iopub.execute_input": "2022-03-06T17:32:30.153475Z",
     "iopub.status.busy": "2022-03-06T17:32:30.153083Z",
     "iopub.status.idle": "2022-03-06T17:32:30.156888Z",
     "shell.execute_reply": "2022-03-06T17:32:30.156384Z"
    }
   },
   "outputs": [
    {
     "name": "stdout",
     "output_type": "stream",
     "text": [
      "1130\n"
     ]
    }
   ],
   "source": [
    "print(len(product) - len(prom))"
   ]
  },
  {
   "cell_type": "markdown",
   "id": "b9f62df1",
   "metadata": {},
   "source": [
    "If the gene is missing from the assembly, the PCR product will have this size in base pairs:"
   ]
  },
  {
   "cell_type": "code",
   "execution_count": 13,
   "id": "a4ac3d2c",
   "metadata": {
    "execution": {
     "iopub.execute_input": "2022-03-06T17:32:30.159278Z",
     "iopub.status.busy": "2022-03-06T17:32:30.159067Z",
     "iopub.status.idle": "2022-03-06T17:32:30.164818Z",
     "shell.execute_reply": "2022-03-06T17:32:30.162763Z"
    }
   },
   "outputs": [
    {
     "name": "stdout",
     "output_type": "stream",
     "text": [
      "624\n"
     ]
    }
   ],
   "source": [
    "print(len(product) - len(gene))"
   ]
  },
  {
   "cell_type": "markdown",
   "id": "d1f3fdc2",
   "metadata": {},
   "source": [
    "PCR using standard primers 468 and 578 to amplify gene and terminator."
   ]
  },
  {
   "cell_type": "code",
   "execution_count": 14,
   "id": "5cc86e62",
   "metadata": {
    "execution": {
     "iopub.execute_input": "2022-03-06T17:32:30.168945Z",
     "iopub.status.busy": "2022-03-06T17:32:30.168680Z",
     "iopub.status.idle": "2022-03-06T17:32:30.199234Z",
     "shell.execute_reply": "2022-03-06T17:32:30.198659Z"
    }
   },
   "outputs": [],
   "source": [
    "product2 = pcr( p['468'], p['578'], result)"
   ]
  },
  {
   "cell_type": "markdown",
   "id": "a39979cc",
   "metadata": {},
   "source": [
    "A correct clone should give this size:"
   ]
  },
  {
   "cell_type": "code",
   "execution_count": 15,
   "id": "570ef0ba",
   "metadata": {
    "execution": {
     "iopub.execute_input": "2022-03-06T17:32:30.202736Z",
     "iopub.status.busy": "2022-03-06T17:32:30.202486Z",
     "iopub.status.idle": "2022-03-06T17:32:30.206995Z",
     "shell.execute_reply": "2022-03-06T17:32:30.206242Z"
    }
   },
   "outputs": [
    {
     "name": "stdout",
     "output_type": "stream",
     "text": [
      "2151\n"
     ]
    }
   ],
   "source": [
    "print(len(product2))"
   ]
  },
  {
   "cell_type": "markdown",
   "id": "a032f85e",
   "metadata": {},
   "source": [
    "If the gene is missing from the assembly, the PCR product will have this size in base pairs:"
   ]
  },
  {
   "cell_type": "code",
   "execution_count": 16,
   "id": "786c812c",
   "metadata": {
    "execution": {
     "iopub.execute_input": "2022-03-06T17:32:30.210875Z",
     "iopub.status.busy": "2022-03-06T17:32:30.210154Z",
     "iopub.status.idle": "2022-03-06T17:32:30.217701Z",
     "shell.execute_reply": "2022-03-06T17:32:30.216791Z"
    }
   },
   "outputs": [
    {
     "name": "stdout",
     "output_type": "stream",
     "text": [
      "971\n"
     ]
    }
   ],
   "source": [
    "print(len(product2) - len(gene))"
   ]
  },
  {
   "cell_type": "markdown",
   "id": "3d622a2e",
   "metadata": {},
   "source": [
    "If the terminator is missing from the assembly, the PCR product will have this size in base pairs:"
   ]
  },
  {
   "cell_type": "code",
   "execution_count": 17,
   "id": "71a2fca2",
   "metadata": {
    "execution": {
     "iopub.execute_input": "2022-03-06T17:32:30.221195Z",
     "iopub.status.busy": "2022-03-06T17:32:30.220907Z",
     "iopub.status.idle": "2022-03-06T17:32:30.225001Z",
     "shell.execute_reply": "2022-03-06T17:32:30.224347Z"
    }
   },
   "outputs": [
    {
     "name": "stdout",
     "output_type": "stream",
     "text": [
      "1143\n"
     ]
    }
   ],
   "source": [
    "print(len(product2) - len(term))"
   ]
  },
  {
   "cell_type": "markdown",
   "id": "3d1bf09d",
   "metadata": {},
   "source": [
    "The cseguid checksum for the resulting plasmid is calculated for future reference.\n",
    "The [cseguid checksum](http://pydna.readthedocs.org/en/latest/pydna.html#pydna.utils.cseguid)\n",
    "uniquely identifies a circular double stranded sequence."
   ]
  },
  {
   "cell_type": "code",
   "execution_count": 18,
   "id": "f4d7dd21",
   "metadata": {
    "execution": {
     "iopub.execute_input": "2022-03-06T17:32:30.228714Z",
     "iopub.status.busy": "2022-03-06T17:32:30.227808Z",
     "iopub.status.idle": "2022-03-06T17:32:30.241756Z",
     "shell.execute_reply": "2022-03-06T17:32:30.241265Z"
    }
   },
   "outputs": [
    {
     "data": {
      "text/plain": [
       "0BU7B6Z7AA3sz-PY5GLsQBFTFDI"
      ]
     },
     "execution_count": 18,
     "metadata": {},
     "output_type": "execute_result"
    }
   ],
   "source": [
    "result.cseguid()"
   ]
  },
  {
   "cell_type": "markdown",
   "id": "707470af",
   "metadata": {},
   "source": [
    "The file is named based on the nemas of promoter, gene and terminator."
   ]
  },
  {
   "cell_type": "code",
   "execution_count": 19,
   "id": "704d53bb",
   "metadata": {
    "execution": {
     "iopub.execute_input": "2022-03-06T17:32:30.245925Z",
     "iopub.status.busy": "2022-03-06T17:32:30.245471Z",
     "iopub.status.idle": "2022-03-06T17:32:30.250774Z",
     "shell.execute_reply": "2022-03-06T17:32:30.249496Z"
    }
   },
   "outputs": [],
   "source": [
    "result.locus = \"pYPK0_tp_g_tp\"\n",
    "result.definition = \"pYPK0_RPL16A_AthfatB_RPL17A\""
   ]
  },
  {
   "cell_type": "markdown",
   "id": "5019e6c3",
   "metadata": {},
   "source": [
    "Sequence is stamped with cseguid checksum. This can be used to verify the\n",
    "integrity of the sequence file."
   ]
  },
  {
   "cell_type": "code",
   "execution_count": 20,
   "id": "17c643e9",
   "metadata": {
    "execution": {
     "iopub.execute_input": "2022-03-06T17:32:30.254910Z",
     "iopub.status.busy": "2022-03-06T17:32:30.254512Z",
     "iopub.status.idle": "2022-03-06T17:32:30.269835Z",
     "shell.execute_reply": "2022-03-06T17:32:30.269169Z"
    }
   },
   "outputs": [
    {
     "data": {
      "text/plain": [
       "cSEGUID_0BU7B6Z7AA3sz-PY5GLsQBFTFDI"
      ]
     },
     "execution_count": 20,
     "metadata": {},
     "output_type": "execute_result"
    }
   ],
   "source": [
    "result.stamp()"
   ]
  },
  {
   "cell_type": "markdown",
   "id": "a57768db",
   "metadata": {},
   "source": [
    "Write sequence to a local file."
   ]
  },
  {
   "cell_type": "code",
   "execution_count": 21,
   "id": "584cdc1e",
   "metadata": {
    "execution": {
     "iopub.execute_input": "2022-03-06T17:32:30.272710Z",
     "iopub.status.busy": "2022-03-06T17:32:30.272457Z",
     "iopub.status.idle": "2022-03-06T17:32:30.288250Z",
     "shell.execute_reply": "2022-03-06T17:32:30.287588Z"
    }
   },
   "outputs": [
    {
     "data": {
      "text/html": [
       "<font face=monospace><a href='pYPK0_RPL16A_AthfatB_RPL17A.gb' target='_blank'>pYPK0_RPL16A_AthfatB_RPL17A.gb</a></font><br>"
      ]
     },
     "metadata": {},
     "output_type": "display_data"
    }
   ],
   "source": [
    "result.write(\"pYPK0_RPL16A_AthfatB_RPL17A.gb\")"
   ]
  },
  {
   "cell_type": "markdown",
   "id": "a8b713ee",
   "metadata": {},
   "source": [
    "## PCR programs for the amplification of Promoter, Gene and Terminator\n",
    "\n",
    "see cell #6\n",
    "\n",
    "Promoter"
   ]
  },
  {
   "cell_type": "code",
   "execution_count": 22,
   "id": "4d0fedbd",
   "metadata": {
    "execution": {
     "iopub.execute_input": "2022-03-06T17:32:30.291276Z",
     "iopub.status.busy": "2022-03-06T17:32:30.290769Z",
     "iopub.status.idle": "2022-03-06T17:32:30.296708Z",
     "shell.execute_reply": "2022-03-06T17:32:30.295743Z"
    }
   },
   "outputs": [
    {
     "data": {
      "text/plain": [
       "|95°C|95°C               |    |tmf:64.6\n",
       "|____|_____          72°C|72°C|tmr:69.7\n",
       "|3min|30s  \\ 58.7°C _____|____|45s/kb\n",
       "|    |      \\______/ 0:30|5min|GC 45%\n",
       "|    |       30s         |    |674bp"
      ]
     },
     "execution_count": 22,
     "metadata": {},
     "output_type": "execute_result"
    }
   ],
   "source": [
    "prom.program()"
   ]
  },
  {
   "cell_type": "markdown",
   "id": "6854cf0e",
   "metadata": {},
   "source": [
    "Gene"
   ]
  },
  {
   "cell_type": "code",
   "execution_count": 23,
   "id": "a4197e9a",
   "metadata": {
    "execution": {
     "iopub.execute_input": "2022-03-06T17:32:30.300969Z",
     "iopub.status.busy": "2022-03-06T17:32:30.300626Z",
     "iopub.status.idle": "2022-03-06T17:32:30.305366Z",
     "shell.execute_reply": "2022-03-06T17:32:30.304749Z"
    }
   },
   "outputs": [
    {
     "data": {
      "text/plain": [
       "|95°C|95°C               |    |tmf:76.9\n",
       "|____|_____          72°C|72°C|tmr:67.9\n",
       "|3min|30s  \\ 60.3°C _____|____|45s/kb\n",
       "|    |      \\______/ 0:53|5min|GC 46%\n",
       "|    |       30s         |    |1180bp"
      ]
     },
     "execution_count": 23,
     "metadata": {},
     "output_type": "execute_result"
    }
   ],
   "source": [
    "gene.program()"
   ]
  },
  {
   "cell_type": "markdown",
   "id": "60099cb8",
   "metadata": {},
   "source": [
    "Terminator"
   ]
  },
  {
   "cell_type": "code",
   "execution_count": 24,
   "id": "b9cfb2cb",
   "metadata": {
    "execution": {
     "iopub.execute_input": "2022-03-06T17:32:30.307826Z",
     "iopub.status.busy": "2022-03-06T17:32:30.307599Z",
     "iopub.status.idle": "2022-03-06T17:32:30.316439Z",
     "shell.execute_reply": "2022-03-06T17:32:30.314010Z"
    }
   },
   "outputs": [
    {
     "data": {
      "text/plain": [
       "|95°C|95°C               |    |tmf:66.1\n",
       "|____|_____          72°C|72°C|tmr:65.0\n",
       "|3min|30s  \\ 57.4°C _____|____|45s/kb\n",
       "|    |      \\______/ 0:45|5min|GC 39%\n",
       "|    |       30s         |    |1008bp"
      ]
     },
     "execution_count": 24,
     "metadata": {},
     "output_type": "execute_result"
    }
   ],
   "source": [
    "term.program()"
   ]
  }
 ],
 "metadata": {
  "language_info": {
   "codemirror_mode": {
    "name": "ipython",
    "version": 3
   },
   "file_extension": ".py",
   "mimetype": "text/x-python",
   "name": "python",
   "nbconvert_exporter": "python",
   "pygments_lexer": "ipython3",
   "version": "3.9.7"
  }
 },
 "nbformat": 4,
 "nbformat_minor": 5
}
