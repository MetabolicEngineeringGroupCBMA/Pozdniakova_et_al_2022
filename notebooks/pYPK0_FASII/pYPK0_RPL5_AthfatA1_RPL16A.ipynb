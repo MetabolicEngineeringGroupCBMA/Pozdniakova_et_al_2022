{
 "cells": [
  {
   "cell_type": "markdown",
   "id": "0c81ec12",
   "metadata": {},
   "source": [
    "# pYPK0_RPL5_AthfatA1_RPL16A\n",
    "\n",
    "This notebook describes the assembly of the [_Saccaromyces cerevisiae_](www.yeastgenome.org)\n",
    "single gene expression vector pYPK0_RPL5_AthfatA1_RPL16A.\n",
    "\n",
    "It is made by _in-vivo_ homologous recombination between three PCR products and one linear vector fragment.\n",
    "The PCR products are a promoter generated from a pYPK_Z vector, a gene from a pYPKa_A vector and\n",
    "a terminator from a pYPKa_E vector. The three PCR products are joined with\n",
    "a linearized [pYPKpw](https://github.com/BjornFJohansson/ypk-xylose-pathways/blob/master/notebooks/pYPKpw.ipynb)\n",
    "backbone vector that has the [URA3](http://www.yeastgenome.org/locus/S000000747/overview)\n",
    "marker and a _S. crevisiae_ [2 micron](http://blog.addgene.org/plasmids-101-yeast-vectors) origin of replication.\n",
    "\n",
    "The four linear DNA fragments are joined by homologous recombination in a\n",
    "[_Saccharomyces cerevisiae_](http://wiki.yeastgenome.org/index.php/Commonly_used_strains) ura3 mutant.\n",
    "\n",
    "![pYPK0_promoter_gene_terminator](tp_g_tp.png \"pYPK0_promoter_gene_terminator\")\n",
    "\n",
    "A part of the [pydna](https://pypi.python.org/pypi/pydna/) package is imported in the code cell below."
   ]
  },
  {
   "cell_type": "code",
   "execution_count": 1,
   "id": "ab8272e8",
   "metadata": {
    "execution": {
     "iopub.execute_input": "2022-03-06T17:32:24.873824Z",
     "iopub.status.busy": "2022-03-06T17:32:24.873520Z",
     "iopub.status.idle": "2022-03-06T17:32:25.322910Z",
     "shell.execute_reply": "2022-03-06T17:32:25.322215Z"
    }
   },
   "outputs": [],
   "source": [
    "from pydna.parsers import parse_primers\n",
    "from pydna.readers import read\n",
    "from pydna.amplify import pcr\n",
    "from pydna.assembly import Assembly"
   ]
  },
  {
   "cell_type": "markdown",
   "id": "fedd26ab",
   "metadata": {},
   "source": [
    "The Yeast Pathway Kit [standard primers](standard_primers.txt) are read into a dictionary in the code cell below."
   ]
  },
  {
   "cell_type": "code",
   "execution_count": 2,
   "id": "94c3cc29",
   "metadata": {
    "execution": {
     "iopub.execute_input": "2022-03-06T17:32:25.326032Z",
     "iopub.status.busy": "2022-03-06T17:32:25.325569Z",
     "iopub.status.idle": "2022-03-06T17:32:25.341675Z",
     "shell.execute_reply": "2022-03-06T17:32:25.341038Z"
    }
   },
   "outputs": [],
   "source": [
    "p = { x.id: x for x in parse_primers(\"standard_primers.txt\") }"
   ]
  },
  {
   "cell_type": "markdown",
   "id": "1fdb4fc0",
   "metadata": {},
   "source": [
    "The backbone vector [pYPKpw](pYPKpw.gb) is read from a local file in the code cell below."
   ]
  },
  {
   "cell_type": "code",
   "execution_count": 3,
   "id": "73dd8501",
   "metadata": {
    "execution": {
     "iopub.execute_input": "2022-03-06T17:32:25.350009Z",
     "iopub.status.busy": "2022-03-06T17:32:25.349795Z",
     "iopub.status.idle": "2022-03-06T17:32:25.366002Z",
     "shell.execute_reply": "2022-03-06T17:32:25.365280Z"
    }
   },
   "outputs": [],
   "source": [
    "pYPKpw = read(\"pYPKpw.gb\")"
   ]
  },
  {
   "cell_type": "markdown",
   "id": "e5a3ba51",
   "metadata": {},
   "source": [
    "The backbone vector is linearized by digestion with [EcoRV](http://rebase.neb.com/rebase/enz/EcoRV.html).\n",
    "The restriction enzyme functionality is provided by [biopython](http://biopython.org)."
   ]
  },
  {
   "cell_type": "code",
   "execution_count": 4,
   "id": "e1c4d449",
   "metadata": {
    "execution": {
     "iopub.execute_input": "2022-03-06T17:32:25.369985Z",
     "iopub.status.busy": "2022-03-06T17:32:25.369541Z",
     "iopub.status.idle": "2022-03-06T17:32:25.383966Z",
     "shell.execute_reply": "2022-03-06T17:32:25.383167Z"
    }
   },
   "outputs": [],
   "source": [
    "from Bio.Restriction import EcoRV\n",
    "\n",
    "pYPK_EcoRV = pYPKpw.linearize(EcoRV)"
   ]
  },
  {
   "cell_type": "markdown",
   "id": "960859fe",
   "metadata": {},
   "source": [
    "The pYPKa derived _E. coli_ plasmids containing [promoter](pYPKa_Z_RPL5.gb), [gene](pYPKa_A_AthfatA1.gb) and [terminator](pYPKa_E_RPL16A.gb)\n",
    "are read into three variables below."
   ]
  },
  {
   "cell_type": "code",
   "execution_count": 5,
   "id": "67531413",
   "metadata": {
    "execution": {
     "iopub.execute_input": "2022-03-06T17:32:25.387528Z",
     "iopub.status.busy": "2022-03-06T17:32:25.387242Z",
     "iopub.status.idle": "2022-03-06T17:32:25.398679Z",
     "shell.execute_reply": "2022-03-06T17:32:25.397697Z"
    }
   },
   "outputs": [],
   "source": [
    "promoter_template   = read(\"pYPKa_Z_RPL5.gb\")\n",
    "gene_template       = read(\"pYPK0_A_AthfatA1.gb\")\n",
    "terminator_template = read(\"pYPKa_E_RPL16A.gb\")"
   ]
  },
  {
   "cell_type": "markdown",
   "id": "d3a5d887",
   "metadata": {},
   "source": [
    "The construction of the three vector above are described in the [pYPKa_ZE_RPL5](pYPKa_ZE_RPL5.ipynb) and [pYPKa_A_AthfatA1](pYPKa_A_AthfatA1.ipynb) notebooks.\n",
    "\n",
    "Three DNA fragments are PCR amplified using [standard primers](standard_primers.txt). Suggested PCR programs can be found at the end of this document."
   ]
  },
  {
   "cell_type": "code",
   "execution_count": 6,
   "id": "af5abd74",
   "metadata": {
    "execution": {
     "iopub.execute_input": "2022-03-06T17:32:25.402573Z",
     "iopub.status.busy": "2022-03-06T17:32:25.402221Z",
     "iopub.status.idle": "2022-03-06T17:32:25.424615Z",
     "shell.execute_reply": "2022-03-06T17:32:25.424078Z"
    }
   },
   "outputs": [],
   "source": [
    "prom = pcr( p['577'], p['567'], promoter_template)\n",
    "gene = pcr( p['468'], p['467'], gene_template)\n",
    "term = pcr( p['568'], p['578'], terminator_template)"
   ]
  },
  {
   "cell_type": "markdown",
   "id": "19b8a0ec",
   "metadata": {},
   "source": [
    "The four linear DNA fragments are mixed and transformed\n",
    "to a _Saccharomyces cerevisiae_ ura3 mutant.\n",
    "\n",
    "The fragments will be assembled by _in-vivo_ [homologous recombination](http://www.ncbi.nlm.nih.gov/pubmed/2828185):"
   ]
  },
  {
   "cell_type": "code",
   "execution_count": 7,
   "id": "548d8458",
   "metadata": {
    "execution": {
     "iopub.execute_input": "2022-03-06T17:32:25.427887Z",
     "iopub.status.busy": "2022-03-06T17:32:25.427619Z",
     "iopub.status.idle": "2022-03-06T17:32:25.970983Z",
     "shell.execute_reply": "2022-03-06T17:32:25.970240Z"
    }
   },
   "outputs": [
    {
     "data": {
      "text/plain": [
       "Assembly\n",
       "fragments..: 5603bp 733bp 1063bp 782bp\n",
       "limit(bp)..: 31\n",
       "G.nodes....: 8\n",
       "algorithm..: common_sub_strings"
      ]
     },
     "execution_count": 7,
     "metadata": {},
     "output_type": "execute_result"
    }
   ],
   "source": [
    "asm = Assembly( (pYPK_EcoRV, prom, gene, term), limit=31 )\n",
    "\n",
    "asm"
   ]
  },
  {
   "cell_type": "markdown",
   "id": "20013012",
   "metadata": {},
   "source": [
    "The representation of the asm object above should normally indicate one circcular product only.\n",
    "More than one circular products might indicate an incorrect assembly strategy or represent\n",
    "by-products that might arise in the assembly process.\n",
    "The largest recombination product is chosen as candidate for the pYPK0_RPL5_AthfatA1_RPL16A vector."
   ]
  },
  {
   "cell_type": "code",
   "execution_count": 8,
   "id": "8ca026ec",
   "metadata": {
    "execution": {
     "iopub.execute_input": "2022-03-06T17:32:25.973580Z",
     "iopub.status.busy": "2022-03-06T17:32:25.973382Z",
     "iopub.status.idle": "2022-03-06T17:32:26.239938Z",
     "shell.execute_reply": "2022-03-06T17:32:26.239344Z"
    }
   },
   "outputs": [
    {
     "data": {
      "text/plain": [
       " -|pYPKpw_lin|124\n",
       "|             \\/\n",
       "|             /\\\n",
       "|             124|733bp_PCR_prod|48\n",
       "|                                \\/\n",
       "|                                /\\\n",
       "|                                48|1063bp_PCR_prod|34\n",
       "|                                                   \\/\n",
       "|                                                   /\\\n",
       "|                                                   34|782bp_PCR_prod|242\n",
       "|                                                                     \\/\n",
       "|                                                                     /\\\n",
       "|                                                                     242-\n",
       "|                                                                        |\n",
       " ------------------------------------------------------------------------"
      ]
     },
     "execution_count": 8,
     "metadata": {},
     "output_type": "execute_result"
    }
   ],
   "source": [
    "candidate = asm.assemble_circular()[0]\n",
    "\n",
    "candidate.figure()"
   ]
  },
  {
   "cell_type": "markdown",
   "id": "e9ee12ed",
   "metadata": {},
   "source": [
    "The candidate vector is synchronized to the 577 primer. This means that\n",
    "the plasmid origin is shifted so that it matches the backbone vector."
   ]
  },
  {
   "cell_type": "code",
   "execution_count": 9,
   "id": "0f5f1864",
   "metadata": {
    "execution": {
     "iopub.execute_input": "2022-03-06T17:32:26.242807Z",
     "iopub.status.busy": "2022-03-06T17:32:26.242551Z",
     "iopub.status.idle": "2022-03-06T17:32:26.667163Z",
     "shell.execute_reply": "2022-03-06T17:32:26.666460Z"
    }
   },
   "outputs": [],
   "source": [
    "result = candidate.synced(\"gttctgatcctcgagcatcttaagaattc\")"
   ]
  },
  {
   "cell_type": "markdown",
   "id": "546636a9",
   "metadata": {},
   "source": [
    "### Diagnostic PCR confirmation\n",
    "\n",
    "The structure of the final vector is confirmed by two\n",
    "separate PCR reactions, one for the promoter and gene and\n",
    "one for the gene and terminator.\n",
    "\n",
    "PCR using standard primers 577 and 467 to amplify promoter and gene."
   ]
  },
  {
   "cell_type": "code",
   "execution_count": 10,
   "id": "62e7c39b",
   "metadata": {
    "execution": {
     "iopub.execute_input": "2022-03-06T17:32:26.670631Z",
     "iopub.status.busy": "2022-03-06T17:32:26.670342Z",
     "iopub.status.idle": "2022-03-06T17:32:26.696438Z",
     "shell.execute_reply": "2022-03-06T17:32:26.695596Z"
    }
   },
   "outputs": [],
   "source": [
    "product = pcr( p['577'], p['467'], result)"
   ]
  },
  {
   "cell_type": "markdown",
   "id": "66b39f5c",
   "metadata": {},
   "source": [
    "A correct clone should give this size in base pairs:"
   ]
  },
  {
   "cell_type": "code",
   "execution_count": 11,
   "id": "78959f0a",
   "metadata": {
    "execution": {
     "iopub.execute_input": "2022-03-06T17:32:26.699529Z",
     "iopub.status.busy": "2022-03-06T17:32:26.699211Z",
     "iopub.status.idle": "2022-03-06T17:32:26.703392Z",
     "shell.execute_reply": "2022-03-06T17:32:26.702735Z"
    }
   },
   "outputs": [
    {
     "name": "stdout",
     "output_type": "stream",
     "text": [
      "1746\n"
     ]
    }
   ],
   "source": [
    "print(len(product))"
   ]
  },
  {
   "cell_type": "markdown",
   "id": "c59bfcbe",
   "metadata": {},
   "source": [
    "If the promoter is missing from the assembly, the PCR product will have this size in base pairs:"
   ]
  },
  {
   "cell_type": "code",
   "execution_count": 12,
   "id": "f342811d",
   "metadata": {
    "execution": {
     "iopub.execute_input": "2022-03-06T17:32:26.707289Z",
     "iopub.status.busy": "2022-03-06T17:32:26.706930Z",
     "iopub.status.idle": "2022-03-06T17:32:26.716989Z",
     "shell.execute_reply": "2022-03-06T17:32:26.715053Z"
    }
   },
   "outputs": [
    {
     "name": "stdout",
     "output_type": "stream",
     "text": [
      "1013\n"
     ]
    }
   ],
   "source": [
    "print(len(product) - len(prom))"
   ]
  },
  {
   "cell_type": "markdown",
   "id": "7f44a54d",
   "metadata": {},
   "source": [
    "If the gene is missing from the assembly, the PCR product will have this size in base pairs:"
   ]
  },
  {
   "cell_type": "code",
   "execution_count": 13,
   "id": "53e6e628",
   "metadata": {
    "execution": {
     "iopub.execute_input": "2022-03-06T17:32:26.720839Z",
     "iopub.status.busy": "2022-03-06T17:32:26.720517Z",
     "iopub.status.idle": "2022-03-06T17:32:26.724583Z",
     "shell.execute_reply": "2022-03-06T17:32:26.723989Z"
    }
   },
   "outputs": [
    {
     "name": "stdout",
     "output_type": "stream",
     "text": [
      "683\n"
     ]
    }
   ],
   "source": [
    "print(len(product) - len(gene))"
   ]
  },
  {
   "cell_type": "markdown",
   "id": "e5de94eb",
   "metadata": {},
   "source": [
    "PCR using standard primers 468 and 578 to amplify gene and terminator."
   ]
  },
  {
   "cell_type": "code",
   "execution_count": 14,
   "id": "d2bbbb33",
   "metadata": {
    "execution": {
     "iopub.execute_input": "2022-03-06T17:32:26.727626Z",
     "iopub.status.busy": "2022-03-06T17:32:26.727227Z",
     "iopub.status.idle": "2022-03-06T17:32:26.751732Z",
     "shell.execute_reply": "2022-03-06T17:32:26.750995Z"
    }
   },
   "outputs": [],
   "source": [
    "product2 = pcr( p['468'], p['578'], result)"
   ]
  },
  {
   "cell_type": "markdown",
   "id": "abfe30c0",
   "metadata": {},
   "source": [
    "A correct clone should give this size:"
   ]
  },
  {
   "cell_type": "code",
   "execution_count": 15,
   "id": "1cce261d",
   "metadata": {
    "execution": {
     "iopub.execute_input": "2022-03-06T17:32:26.755464Z",
     "iopub.status.busy": "2022-03-06T17:32:26.755211Z",
     "iopub.status.idle": "2022-03-06T17:32:26.759323Z",
     "shell.execute_reply": "2022-03-06T17:32:26.758603Z"
    }
   },
   "outputs": [
    {
     "name": "stdout",
     "output_type": "stream",
     "text": [
      "1808\n"
     ]
    }
   ],
   "source": [
    "print(len(product2))"
   ]
  },
  {
   "cell_type": "markdown",
   "id": "0f708ef0",
   "metadata": {},
   "source": [
    "If the gene is missing from the assembly, the PCR product will have this size in base pairs:"
   ]
  },
  {
   "cell_type": "code",
   "execution_count": 16,
   "id": "4017e777",
   "metadata": {
    "execution": {
     "iopub.execute_input": "2022-03-06T17:32:26.765076Z",
     "iopub.status.busy": "2022-03-06T17:32:26.764371Z",
     "iopub.status.idle": "2022-03-06T17:32:26.769689Z",
     "shell.execute_reply": "2022-03-06T17:32:26.768747Z"
    }
   },
   "outputs": [
    {
     "name": "stdout",
     "output_type": "stream",
     "text": [
      "745\n"
     ]
    }
   ],
   "source": [
    "print(len(product2) - len(gene))"
   ]
  },
  {
   "cell_type": "markdown",
   "id": "5883aeb9",
   "metadata": {},
   "source": [
    "If the terminator is missing from the assembly, the PCR product will have this size in base pairs:"
   ]
  },
  {
   "cell_type": "code",
   "execution_count": 17,
   "id": "01bf7010",
   "metadata": {
    "execution": {
     "iopub.execute_input": "2022-03-06T17:32:26.773840Z",
     "iopub.status.busy": "2022-03-06T17:32:26.773518Z",
     "iopub.status.idle": "2022-03-06T17:32:26.782220Z",
     "shell.execute_reply": "2022-03-06T17:32:26.777921Z"
    }
   },
   "outputs": [
    {
     "name": "stdout",
     "output_type": "stream",
     "text": [
      "1026\n"
     ]
    }
   ],
   "source": [
    "print(len(product2) - len(term))"
   ]
  },
  {
   "cell_type": "markdown",
   "id": "dc863899",
   "metadata": {},
   "source": [
    "The cseguid checksum for the resulting plasmid is calculated for future reference.\n",
    "The [cseguid checksum](http://pydna.readthedocs.org/en/latest/pydna.html#pydna.utils.cseguid)\n",
    "uniquely identifies a circular double stranded sequence."
   ]
  },
  {
   "cell_type": "code",
   "execution_count": 18,
   "id": "a368b31d",
   "metadata": {
    "execution": {
     "iopub.execute_input": "2022-03-06T17:32:26.787603Z",
     "iopub.status.busy": "2022-03-06T17:32:26.786966Z",
     "iopub.status.idle": "2022-03-06T17:32:26.800028Z",
     "shell.execute_reply": "2022-03-06T17:32:26.799356Z"
    }
   },
   "outputs": [
    {
     "data": {
      "text/plain": [
       "8Us5_2U7EpoVWHg4MUTKygqL4fw"
      ]
     },
     "execution_count": 18,
     "metadata": {},
     "output_type": "execute_result"
    }
   ],
   "source": [
    "result.cseguid()"
   ]
  },
  {
   "cell_type": "markdown",
   "id": "edf74d71",
   "metadata": {},
   "source": [
    "The file is named based on the nemas of promoter, gene and terminator."
   ]
  },
  {
   "cell_type": "code",
   "execution_count": 19,
   "id": "b9aa9a98",
   "metadata": {
    "execution": {
     "iopub.execute_input": "2022-03-06T17:32:26.803237Z",
     "iopub.status.busy": "2022-03-06T17:32:26.802985Z",
     "iopub.status.idle": "2022-03-06T17:32:26.806426Z",
     "shell.execute_reply": "2022-03-06T17:32:26.805784Z"
    }
   },
   "outputs": [],
   "source": [
    "result.locus = \"pYPK0_tp_g_tp\"\n",
    "result.definition = \"pYPK0_RPL5_AthfatA1_RPL16A\""
   ]
  },
  {
   "cell_type": "markdown",
   "id": "27928127",
   "metadata": {},
   "source": [
    "Sequence is stamped with cseguid checksum. This can be used to verify the\n",
    "integrity of the sequence file."
   ]
  },
  {
   "cell_type": "code",
   "execution_count": 20,
   "id": "b21dbae6",
   "metadata": {
    "execution": {
     "iopub.execute_input": "2022-03-06T17:32:26.809341Z",
     "iopub.status.busy": "2022-03-06T17:32:26.809014Z",
     "iopub.status.idle": "2022-03-06T17:32:26.825946Z",
     "shell.execute_reply": "2022-03-06T17:32:26.825404Z"
    }
   },
   "outputs": [
    {
     "data": {
      "text/plain": [
       "cSEGUID_8Us5_2U7EpoVWHg4MUTKygqL4fw"
      ]
     },
     "execution_count": 20,
     "metadata": {},
     "output_type": "execute_result"
    }
   ],
   "source": [
    "result.stamp()"
   ]
  },
  {
   "cell_type": "markdown",
   "id": "ad643668",
   "metadata": {},
   "source": [
    "Write sequence to a local file."
   ]
  },
  {
   "cell_type": "code",
   "execution_count": 21,
   "id": "aac5712e",
   "metadata": {
    "execution": {
     "iopub.execute_input": "2022-03-06T17:32:26.829272Z",
     "iopub.status.busy": "2022-03-06T17:32:26.828806Z",
     "iopub.status.idle": "2022-03-06T17:32:26.838955Z",
     "shell.execute_reply": "2022-03-06T17:32:26.838106Z"
    }
   },
   "outputs": [
    {
     "data": {
      "text/html": [
       "<font face=monospace><a href='pYPK0_RPL5_AthfatA1_RPL16A.gb' target='_blank'>pYPK0_RPL5_AthfatA1_RPL16A.gb</a></font><br>"
      ]
     },
     "metadata": {},
     "output_type": "display_data"
    }
   ],
   "source": [
    "result.write(\"pYPK0_RPL5_AthfatA1_RPL16A.gb\")"
   ]
  },
  {
   "cell_type": "markdown",
   "id": "15010af8",
   "metadata": {},
   "source": [
    "## PCR programs for the amplification of Promoter, Gene and Terminator\n",
    "\n",
    "see cell #6\n",
    "\n",
    "Promoter"
   ]
  },
  {
   "cell_type": "code",
   "execution_count": 22,
   "id": "626a532e",
   "metadata": {
    "execution": {
     "iopub.execute_input": "2022-03-06T17:32:26.842128Z",
     "iopub.status.busy": "2022-03-06T17:32:26.841903Z",
     "iopub.status.idle": "2022-03-06T17:32:26.853608Z",
     "shell.execute_reply": "2022-03-06T17:32:26.852876Z"
    }
   },
   "outputs": [
    {
     "data": {
      "text/plain": [
       "|95°C|95°C               |    |tmf:64.6\n",
       "|____|_____          72°C|72°C|tmr:69.7\n",
       "|3min|30s  \\ 56.8°C _____|____|45s/kb\n",
       "|    |      \\______/ 0:32|5min|GC 38%\n",
       "|    |       30s         |    |733bp"
      ]
     },
     "execution_count": 22,
     "metadata": {},
     "output_type": "execute_result"
    }
   ],
   "source": [
    "prom.program()"
   ]
  },
  {
   "cell_type": "markdown",
   "id": "582a7be2",
   "metadata": {},
   "source": [
    "Gene"
   ]
  },
  {
   "cell_type": "code",
   "execution_count": 23,
   "id": "5862ca54",
   "metadata": {
    "execution": {
     "iopub.execute_input": "2022-03-06T17:32:26.856278Z",
     "iopub.status.busy": "2022-03-06T17:32:26.856081Z",
     "iopub.status.idle": "2022-03-06T17:32:26.860327Z",
     "shell.execute_reply": "2022-03-06T17:32:26.859735Z"
    }
   },
   "outputs": [
    {
     "data": {
      "text/plain": [
       "|95°C|95°C               |    |tmf:76.9\n",
       "|____|_____          72°C|72°C|tmr:67.9\n",
       "|3min|30s  \\ 60.2°C _____|____|45s/kb\n",
       "|    |      \\______/ 0:47|5min|GC 46%\n",
       "|    |       30s         |    |1063bp"
      ]
     },
     "execution_count": 23,
     "metadata": {},
     "output_type": "execute_result"
    }
   ],
   "source": [
    "gene.program()"
   ]
  },
  {
   "cell_type": "markdown",
   "id": "d5a9a66a",
   "metadata": {},
   "source": [
    "Terminator"
   ]
  },
  {
   "cell_type": "code",
   "execution_count": 24,
   "id": "f7eb6448",
   "metadata": {
    "execution": {
     "iopub.execute_input": "2022-03-06T17:32:26.864611Z",
     "iopub.status.busy": "2022-03-06T17:32:26.864203Z",
     "iopub.status.idle": "2022-03-06T17:32:26.870734Z",
     "shell.execute_reply": "2022-03-06T17:32:26.869933Z"
    }
   },
   "outputs": [
    {
     "data": {
      "text/plain": [
       "|95°C|95°C               |    |tmf:66.1\n",
       "|____|_____          72°C|72°C|tmr:65.0\n",
       "|3min|30s  \\ 58.4°C _____|____|45s/kb\n",
       "|    |      \\______/ 0:35|5min|GC 43%\n",
       "|    |       30s         |    |782bp"
      ]
     },
     "execution_count": 24,
     "metadata": {},
     "output_type": "execute_result"
    }
   ],
   "source": [
    "term.program()"
   ]
  }
 ],
 "metadata": {
  "language_info": {
   "codemirror_mode": {
    "name": "ipython",
    "version": 3
   },
   "file_extension": ".py",
   "mimetype": "text/x-python",
   "name": "python",
   "nbconvert_exporter": "python",
   "pygments_lexer": "ipython3",
   "version": "3.9.7"
  }
 },
 "nbformat": 4,
 "nbformat_minor": 5
}
