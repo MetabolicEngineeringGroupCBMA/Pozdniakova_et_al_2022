{
 "cells": [
  {
   "cell_type": "markdown",
   "id": "531becd6",
   "metadata": {},
   "source": [
    "# Pathway pYPK0_FASII\n",
    "\n",
    "This notebook describes the assembly of 13 single gene expression cassettes into a single pathway.\n",
    "\n",
    "Notebooks describing the single gene expression vectors are linked at the end of this document as are notebooks\n",
    "describing pYPKa promoter, gene and terminator vectors. \n",
    "\n",
    "The assembly performed here is based on a systematic file name:\n",
    "\n",
    "    pYPK0_PDC1_EcfabH_TEF1_EcfabD_FBA1_EcfabG_RPL22A_EcacpP_TDH3_EcfabF_UTR2_EcfabB_TPI1_EcfabA_PMP3_EcfabZ_ENO2_Athmod1_RPL5_AthfatA1_RPL16A_AthfatB_RPL17A_EcacpH_RPL16B_EcacpS_TMA19"
   ]
  },
  {
   "cell_type": "code",
   "execution_count": 1,
   "id": "0aba5a57",
   "metadata": {},
   "outputs": [],
   "source": [
    "from pydna.parsers import parse_primers\n",
    "from pydna.readers import read\n",
    "from pydna.amplify import pcr\n",
    "from pydna.assembly import Assembly\n",
    "from IPython.display import display"
   ]
  },
  {
   "cell_type": "markdown",
   "id": "d277860b",
   "metadata": {},
   "source": [
    "Initiate the standard primers needed to amplify each cassette.\n",
    "The first cassette in the pathway is amplified with standard\n",
    "primers 577 and 778, the last with\n",
    "775 and 578 and all others with 775 and 778.\n",
    "Standard primers are listed [here](standard_primers.txt)."
   ]
  },
  {
   "cell_type": "code",
   "execution_count": 2,
   "id": "69548ba7",
   "metadata": {},
   "outputs": [],
   "source": [
    "p = { x.id: x for x in parse_primers(\"standard_primers.txt\") }"
   ]
  },
  {
   "cell_type": "markdown",
   "id": "d5ea4022",
   "metadata": {},
   "source": [
    "Restriction enzymes are imported from the Biopython package."
   ]
  },
  {
   "cell_type": "code",
   "execution_count": 3,
   "id": "13081321",
   "metadata": {},
   "outputs": [],
   "source": [
    "from Bio.Restriction import EcoRV, NotI, PacI"
   ]
  },
  {
   "cell_type": "markdown",
   "id": "397d0903",
   "metadata": {},
   "source": [
    "The backbone vector is linearized with [EcoRV](http://rebase.neb.com/rebase/enz/EcoRV.html)."
   ]
  },
  {
   "cell_type": "code",
   "execution_count": 4,
   "id": "6ec1edab",
   "metadata": {},
   "outputs": [],
   "source": [
    "pYPKpw = read(\"pYPKpw.gb\")"
   ]
  },
  {
   "cell_type": "markdown",
   "id": "acac9eb7",
   "metadata": {},
   "source": [
    "The cassette_products variable holds the list of expression cassette PCR products fragments to\n",
    "be assembled."
   ]
  },
  {
   "cell_type": "code",
   "execution_count": 5,
   "id": "820ea856",
   "metadata": {},
   "outputs": [],
   "source": [
    "cassette_products = []"
   ]
  },
  {
   "cell_type": "markdown",
   "id": "595ec588",
   "metadata": {},
   "source": [
    "The expression cassettes comes from a series of single gene expression vectors\n",
    "held in the template_vectors list."
   ]
  },
  {
   "cell_type": "code",
   "execution_count": 6,
   "id": "dfd02fb3",
   "metadata": {},
   "outputs": [
    {
     "data": {
      "text/html": [
       "<a href='pYPK0_PDC1_EcfabH_TEF1.gb' target='_blank'>pYPK0_PDC1_EcfabH_TEF1.gb</a><br>"
      ],
      "text/plain": [
       "File(id)(o8280)"
      ]
     },
     "metadata": {},
     "output_type": "display_data"
    },
    {
     "data": {
      "text/html": [
       "<a href='pYPK0_TEF1_EcfabD_FBA1.gb' target='_blank'>pYPK0_TEF1_EcfabD_FBA1.gb</a><br>"
      ],
      "text/plain": [
       "File(id)(o7931)"
      ]
     },
     "metadata": {},
     "output_type": "display_data"
    },
    {
     "data": {
      "text/html": [
       "<a href='pYPK0_FBA1_EcfabG_RPL22A.gb' target='_blank'>pYPK0_FBA1_EcfabG_RPL22A.gb</a><br>"
      ],
      "text/plain": [
       "File(id)(o7583)"
      ]
     },
     "metadata": {},
     "output_type": "display_data"
    },
    {
     "data": {
      "text/html": [
       "<a href='pYPK0_RPL22A_EcacpP_TDH3.gb' target='_blank'>pYPK0_RPL22A_EcacpP_TDH3.gb</a><br>"
      ],
      "text/plain": [
       "File(id)(o7153)"
      ]
     },
     "metadata": {},
     "output_type": "display_data"
    },
    {
     "data": {
      "text/html": [
       "<a href='pYPK0_TDH3_EcfabF_UTR2.gb' target='_blank'>pYPK0_TDH3_EcfabF_UTR2.gb</a><br>"
      ],
      "text/plain": [
       "File(id)(o8352)"
      ]
     },
     "metadata": {},
     "output_type": "display_data"
    },
    {
     "data": {
      "text/html": [
       "<a href='pYPK0_UTR2_EcfabB_TPI1.gb' target='_blank'>pYPK0_UTR2_EcfabB_TPI1.gb</a><br>"
      ],
      "text/plain": [
       "File(id)(o8215)"
      ]
     },
     "metadata": {},
     "output_type": "display_data"
    },
    {
     "data": {
      "text/html": [
       "<a href='pYPK0_TPI1_EcfabA_PMP3.gb' target='_blank'>pYPK0_TPI1_EcfabA_PMP3.gb</a><br>"
      ],
      "text/plain": [
       "File(id)(o7649)"
      ]
     },
     "metadata": {},
     "output_type": "display_data"
    },
    {
     "data": {
      "text/html": [
       "<a href='pYPK0_PMP3_EcfabZ_ENO2.gb' target='_blank'>pYPK0_PMP3_EcfabZ_ENO2.gb</a><br>"
      ],
      "text/plain": [
       "File(id)(o7524)"
      ]
     },
     "metadata": {},
     "output_type": "display_data"
    },
    {
     "data": {
      "text/html": [
       "<a href='pYPK0_ENO2_Athmod1_RPL5.gb' target='_blank'>pYPK0_ENO2_Athmod1_RPL5.gb</a><br>"
      ],
      "text/plain": [
       "File(id)(o7763)"
      ]
     },
     "metadata": {},
     "output_type": "display_data"
    },
    {
     "data": {
      "text/html": [
       "<a href='pYPK0_RPL5_AthfatA1_RPL16A.gb' target='_blank'>pYPK0_RPL5_AthfatA1_RPL16A.gb</a><br>"
      ],
      "text/plain": [
       "File(id)(o7709)"
      ]
     },
     "metadata": {},
     "output_type": "display_data"
    },
    {
     "data": {
      "text/html": [
       "<a href='pYPK0_RPL16A_AthfatB_RPL17A.gb' target='_blank'>pYPK0_RPL16A_AthfatB_RPL17A.gb</a><br>"
      ],
      "text/plain": [
       "File(id)(o7993)"
      ]
     },
     "metadata": {},
     "output_type": "display_data"
    },
    {
     "data": {
      "text/html": [
       "<a href='pYPK0_RPL17A_EcacpH_RPL16B.gb' target='_blank'>pYPK0_RPL17A_EcacpH_RPL16B.gb</a><br>"
      ],
      "text/plain": [
       "File(id)(o7740)"
      ]
     },
     "metadata": {},
     "output_type": "display_data"
    },
    {
     "data": {
      "text/html": [
       "<a href='pYPK0_RPL16B_EcacpS_TMA19.gb' target='_blank'>pYPK0_RPL16B_EcacpS_TMA19.gb</a><br>"
      ],
      "text/plain": [
       "File(id)(o7275)"
      ]
     },
     "metadata": {},
     "output_type": "display_data"
    }
   ],
   "source": [
    "cassette_vectors = (\"pYPK0_PDC1_EcfabH_TEF1.gb\",\"pYPK0_TEF1_EcfabD_FBA1.gb\",\"pYPK0_FBA1_EcfabG_RPL22A.gb\",\"pYPK0_RPL22A_EcacpP_TDH3.gb\",\"pYPK0_TDH3_EcfabF_UTR2.gb\",\"pYPK0_UTR2_EcfabB_TPI1.gb\",\"pYPK0_TPI1_EcfabA_PMP3.gb\",\"pYPK0_PMP3_EcfabZ_ENO2.gb\",\"pYPK0_ENO2_Athmod1_RPL5.gb\",\"pYPK0_RPL5_AthfatA1_RPL16A.gb\",\"pYPK0_RPL16A_AthfatB_RPL17A.gb\",\"pYPK0_RPL17A_EcacpH_RPL16B.gb\",\"pYPK0_RPL16B_EcacpS_TMA19.gb\",)\n",
    "template_vectors = [read(v.strip()) for v in cassette_vectors if v.strip()]\n",
    "for tv in  template_vectors:\n",
    "    display(tv)"
   ]
  },
  {
   "cell_type": "markdown",
   "id": "cc5ae5cd",
   "metadata": {},
   "source": [
    "The first cassette in the pathway is amplified with standard primers 577 and 778. Suggested PCR conditions can be found at the end of this document."
   ]
  },
  {
   "cell_type": "code",
   "execution_count": 7,
   "id": "9572afce",
   "metadata": {},
   "outputs": [],
   "source": [
    "cassette_products.append( pcr( p['577'], p['778'],  template_vectors[0] ) )"
   ]
  },
  {
   "cell_type": "markdown",
   "id": "461a048f",
   "metadata": {},
   "source": [
    "Cassettes in the middle cassettes are amplified with standard primers 775 and 778. Suggested PCR conditions can be found at the end of this document."
   ]
  },
  {
   "cell_type": "code",
   "execution_count": 8,
   "id": "fc2214f8",
   "metadata": {},
   "outputs": [],
   "source": [
    "cassette_products.extend( pcr( p['775'], p['778'], v) for v in template_vectors[1:-1] )"
   ]
  },
  {
   "cell_type": "markdown",
   "id": "18b09b00",
   "metadata": {},
   "source": [
    "The last cassette in the pathway is amplified with standard primers 775 and 578. Suggested PCR conditions can be found at the end of this document."
   ]
  },
  {
   "cell_type": "code",
   "execution_count": 9,
   "id": "3f893a78",
   "metadata": {},
   "outputs": [],
   "source": [
    "cassette_products.append( pcr( p['775'], p['578'], template_vectors[-1] ) )"
   ]
  },
  {
   "cell_type": "markdown",
   "id": "9d7cfa9f",
   "metadata": {},
   "source": [
    "The cassettes are given names based on their order in the final construct in the code cell below."
   ]
  },
  {
   "cell_type": "code",
   "execution_count": 10,
   "id": "8fec1754",
   "metadata": {},
   "outputs": [
    {
     "name": "stdout",
     "output_type": "stream",
     "text": [
      "Cassette 1\n",
      "Cassette 2\n",
      "Cassette 3\n",
      "Cassette 4\n",
      "Cassette 5\n",
      "Cassette 6\n",
      "Cassette 7\n",
      "Cassette 8\n",
      "Cassette 9\n",
      "Cassette 10\n",
      "Cassette 11\n",
      "Cassette 12\n",
      "Cassette 13\n"
     ]
    }
   ],
   "source": [
    "for i, cp in enumerate(cassette_products):\n",
    "\tcp.name = \"Cassette {}\".format(i+1)\n",
    "\tprint(cp.name)"
   ]
  },
  {
   "cell_type": "markdown",
   "id": "6040a01d",
   "metadata": {},
   "source": [
    "Cassettes and plasmid backbone are joined by homologous recombination in a Saccharomyces cerevisiae ura3 host\n",
    "which selects for the URA3 gene in pYPKpw."
   ]
  },
  {
   "cell_type": "code",
   "execution_count": 11,
   "id": "08d0d047",
   "metadata": {},
   "outputs": [
    {
     "data": {
      "text/plain": [
       "Assembly\n",
       "fragments..: 5603bp 2780bp 2275bp 1927bp 1497bp 2696bp 2559bp 1993bp 1868bp 2107bp 2053bp 2337bp 2084bp 1901bp\n",
       "limit(bp)..: 110\n",
       "G.nodes....: 28\n",
       "algorithm..: common_sub_strings"
      ]
     },
     "execution_count": 11,
     "metadata": {},
     "output_type": "execute_result"
    }
   ],
   "source": [
    "asm = Assembly( [pYPKpw.linearize(EcoRV)] + cassette_products, limit=167-47-10)\n",
    "asm"
   ]
  },
  {
   "cell_type": "markdown",
   "id": "f00f0c0e",
   "metadata": {},
   "source": [
    "Normally, only one circular product should be formed since the\n",
    "homology limit is quite large (see cell above). More than one\n",
    "circular products might indicate an incorrect strategy.\n",
    "The largest recombination product is chosen as candidate for\n",
    "the pYPK0_PDC1_EcfabH_TEF1_EcfabD_FBA1_EcfabG_RPL22A_EcacpP_TDH3_EcfabF_UTR2_EcfabB_TPI1_EcfabA_PMP3_EcfabZ_ENO2_Athmod1_RPL5_AthfatA1_RPL16A_AthfatB_RPL17A_EcacpH_RPL16B_EcacpS_TMA19 pathway."
   ]
  },
  {
   "cell_type": "code",
   "execution_count": 12,
   "id": "181a8234",
   "metadata": {},
   "outputs": [],
   "source": [
    "candidate, *rest = asm.assemble_circular()"
   ]
  },
  {
   "cell_type": "code",
   "execution_count": 13,
   "id": "63982e8d-9ae6-4f8a-805f-2ce57f048cc2",
   "metadata": {},
   "outputs": [
    {
     "data": {
      "text/plain": [
       "[Contig(o25707)]"
      ]
     },
     "execution_count": 13,
     "metadata": {},
     "output_type": "execute_result"
    }
   ],
   "source": [
    "rest"
   ]
  },
  {
   "cell_type": "markdown",
   "id": "bec83a94",
   "metadata": {},
   "source": [
    "This assembly figure shows how the fragments came together."
   ]
  },
  {
   "cell_type": "code",
   "execution_count": 14,
   "id": "c9ba80ed",
   "metadata": {},
   "outputs": [
    {
     "data": {
      "text/plain": [
       " -|pYPKpw_lin|124\n",
       "|             \\/\n",
       "|             /\\\n",
       "|             124|Cassette 1|593\n",
       "|                            \\/\n",
       "|                            /\\\n",
       "|                            593|Cassette 2|644\n",
       "|                                           \\/\n",
       "|                                           /\\\n",
       "|                                           644|Cassette 3|440\n",
       "|                                                          \\/\n",
       "|                                                          /\\\n",
       "|                                                          440|Cassette 4|712\n",
       "|                                                                         \\/\n",
       "|                                                                         /\\\n",
       "|                                                                         712|Cassette 5|634\n",
       "|                                                                                        \\/\n",
       "|                                                                                        /\\\n",
       "|                                                                                        634|Cassette 6|596\n",
       "|                                                                                                       \\/\n",
       "|                                                                                                       /\\\n",
       "|                                                                                                       596|Cassette 7|770\n",
       "|                                                                                                                      \\/\n",
       "|                                                                                                                      /\\\n",
       "|                                                                                                                      770|Cassette 8|534\n",
       "|                                                                                                                                     \\/\n",
       "|                                                                                                                                     /\\\n",
       "|                                                                                                                                     534|Cassette 9|515\n",
       "|                                                                                                                                                    \\/\n",
       "|                                                                                                                                                    /\\\n",
       "|                                                                                                                                                    515|Cassette 10|456\n",
       "|                                                                                                                                                                    \\/\n",
       "|                                                                                                                                                                    /\\\n",
       "|                                                                                                                                                                    456|Cassette 11|682\n",
       "|                                                                                                                                                                                    \\/\n",
       "|                                                                                                                                                                                    /\\\n",
       "|                                                                                                                                                                                    682|Cassette 12|712\n",
       "|                                                                                                                                                                                                    \\/\n",
       "|                                                                                                                                                                                                    /\\\n",
       "|                                                                                                                                                                                                    712|Cassette 13|242\n",
       "|                                                                                                                                                                                                                    \\/\n",
       "|                                                                                                                                                                                                                    /\\\n",
       "|                                                                                                                                                                                                                    242-\n",
       "|                                                                                                                                                                                                                       |\n",
       " -----------------------------------------------------------------------------------------------------------------------------------------------------------------------------------------------------------------------"
      ]
     },
     "execution_count": 14,
     "metadata": {},
     "output_type": "execute_result"
    }
   ],
   "source": [
    "candidate.figure()"
   ]
  },
  {
   "cell_type": "markdown",
   "id": "ec5e4a27",
   "metadata": {},
   "source": [
    "The candidate vector is synchronized to the 577 primer. This means that\n",
    "the plasmid origin is shifted so that it matches the backbone vector."
   ]
  },
  {
   "cell_type": "code",
   "execution_count": 15,
   "id": "1deb0c9d",
   "metadata": {},
   "outputs": [],
   "source": [
    "pw = candidate.synced(\"gttctgatcctcgagcatcttaagaattc\")"
   ]
  },
  {
   "cell_type": "markdown",
   "id": "69b640e2",
   "metadata": {},
   "source": [
    "The cseguid checksum for the resulting plasmid is calculated for future reference.\n",
    "The [cseguid checksum](http://pydna.readthedocs.org/en/latest/pydna.html#pydna.utils.cseguid)\n",
    "uniquely identifies a circular double stranded sequence."
   ]
  },
  {
   "cell_type": "code",
   "execution_count": 16,
   "id": "40f3d3f2",
   "metadata": {},
   "outputs": [],
   "source": [
    "assert pw.cseguid() == \"tqLlKjOli0Wh5LQKCc_KgSqoEo8\""
   ]
  },
  {
   "cell_type": "markdown",
   "id": "ff511488",
   "metadata": {},
   "source": [
    "The file is given a name based on the sequence of expressed genes."
   ]
  },
  {
   "cell_type": "code",
   "execution_count": 17,
   "id": "38d81449",
   "metadata": {},
   "outputs": [],
   "source": [
    "pw.definition = \"pYPK0 PDC1 EcfabH TEF1 EcfabD FBA1 EcfabG RPL22A EcacpP TDH3 EcfabF UTR2 EcfabB TPI1 EcfabA PMP3 EcfabZ ENO2 Athmod1 RPL5 AthfatA1 RPL16A AthfatB RPL17A EcacpH RPL16B EcacpS TMA19\""
   ]
  },
  {
   "cell_type": "markdown",
   "id": "7f46f6ee",
   "metadata": {},
   "source": [
    "Stamp sequence with cseguid checksum. This can be used to verify the\n",
    "integrity of the sequence file."
   ]
  },
  {
   "cell_type": "code",
   "execution_count": 30,
   "id": "f5d9bf97",
   "metadata": {},
   "outputs": [
    {
     "data": {
      "text/plain": [
       "cSEGUID tqLlKjOli0Wh5LQKCc_KgSqoEo8"
      ]
     },
     "execution_count": 30,
     "metadata": {},
     "output_type": "execute_result"
    }
   ],
   "source": [
    "pw.stamp()"
   ]
  },
  {
   "cell_type": "code",
   "execution_count": 31,
   "id": "ecb39830-1019-4612-a6cb-51444a325a5f",
   "metadata": {},
   "outputs": [
    {
     "data": {
      "text/plain": [
       "'cSEGUID tqLlKjOli0Wh5LQKCc_KgSqoEo8 2022-03-17T18:13:46\\n'"
      ]
     },
     "execution_count": 31,
     "metadata": {},
     "output_type": "execute_result"
    }
   ],
   "source": [
    "pw.annotations[\"comment\"]"
   ]
  },
  {
   "cell_type": "code",
   "execution_count": 34,
   "id": "b11ab38b-70cd-4ec2-9c39-0903cb7cbd75",
   "metadata": {},
   "outputs": [],
   "source": [
    "pw.name = \"pYPK0_FASII\""
   ]
  },
  {
   "cell_type": "markdown",
   "id": "d3821a47",
   "metadata": {},
   "source": [
    "Write sequence to a local file."
   ]
  },
  {
   "cell_type": "code",
   "execution_count": 35,
   "id": "0d780aca",
   "metadata": {},
   "outputs": [
    {
     "data": {
      "text/html": [
       "<font face=monospace><a href='pYPK0_FASII.gb' target='_blank'>pYPK0_FASII.gb</a></font><br>"
      ]
     },
     "metadata": {},
     "output_type": "display_data"
    }
   ],
   "source": [
    "pw.write(\"pYPK0_FASII.gb\")"
   ]
  },
  {
   "cell_type": "markdown",
   "id": "04177769",
   "metadata": {},
   "source": [
    "The pathway can be extended by digestion with either NotI or PacI or both provided that the enzymes cut once in the final pathway sequence."
   ]
  },
  {
   "cell_type": "code",
   "execution_count": 20,
   "id": "d569d386",
   "metadata": {},
   "outputs": [
    {
     "name": "stdout",
     "output_type": "stream",
     "text": [
      "NotI cuts 1 time(s) and PacI cuts 2 time(s) in the final pathway.\n"
     ]
    }
   ],
   "source": [
    "print(\"NotI cuts {} time(s) and PacI cuts {} time(s) in the final pathway.\".format(len(pw.cut(NotI)), len(pw.cut(PacI))))"
   ]
  },
  {
   "cell_type": "markdown",
   "id": "b5e008cd",
   "metadata": {},
   "source": [
    "### Single gene expression vectors ( pYPK0_promoter_gene_terminator ) needed for assembly.\n",
    "\n",
    "Hyperlinks to notebook files describing the single gene expression plasmids needed for the assembly.\n",
    "\n",
    "\n",
    "[pYPK0_PDC1_EcfabH_TEF1.ipynb](pYPK0_PDC1_EcfabH_TEF1.ipynb)\n",
    "\n",
    "[pYPK0_TEF1_EcfabD_FBA1.ipynb](pYPK0_TEF1_EcfabD_FBA1.ipynb)\n",
    "\n",
    "[pYPK0_FBA1_EcfabG_RPL22A.ipynb](pYPK0_FBA1_EcfabG_RPL22A.ipynb)\n",
    "\n",
    "[pYPK0_RPL22A_EcacpP_TDH3.ipynb](pYPK0_RPL22A_EcacpP_TDH3.ipynb)\n",
    "\n",
    "[pYPK0_TDH3_EcfabF_UTR2.ipynb](pYPK0_TDH3_EcfabF_UTR2.ipynb)\n",
    "\n",
    "[pYPK0_UTR2_EcfabB_TPI1.ipynb](pYPK0_UTR2_EcfabB_TPI1.ipynb)\n",
    "\n",
    "[pYPK0_TPI1_EcfabA_PMP3.ipynb](pYPK0_TPI1_EcfabA_PMP3.ipynb)\n",
    "\n",
    "[pYPK0_PMP3_EcfabZ_ENO2.ipynb](pYPK0_PMP3_EcfabZ_ENO2.ipynb)\n",
    "\n",
    "[pYPK0_ENO2_Athmod1_RPL5.ipynb](pYPK0_ENO2_Athmod1_RPL5.ipynb)\n",
    "\n",
    "[pYPK0_RPL5_AthfatA1_RPL16A.ipynb](pYPK0_RPL5_AthfatA1_RPL16A.ipynb)\n",
    "\n",
    "[pYPK0_RPL16A_AthfatB_RPL17A.ipynb](pYPK0_RPL16A_AthfatB_RPL17A.ipynb)\n",
    "\n",
    "[pYPK0_RPL17A_EcacpH_RPL16B.ipynb](pYPK0_RPL17A_EcacpH_RPL16B.ipynb)\n",
    "\n",
    "[pYPK0_RPL16B_EcacpS_TMA19.ipynb](pYPK0_RPL16B_EcacpS_TMA19.ipynb)\n",
    "\n",
    "\n",
    "### Suggested PCR conditions"
   ]
  },
  {
   "cell_type": "code",
   "execution_count": 21,
   "id": "8139c266",
   "metadata": {
    "tags": []
   },
   "outputs": [
    {
     "name": "stdout",
     "output_type": "stream",
     "text": [
      "\n",
      "\n",
      "\n",
      "\n",
      "\n",
      "product name: Cassette 1\n",
      "forward primer 577\n",
      "reverse primer 778\n",
      "|95°C|95°C               |    |tmf:64.6\n",
      "|____|_____          72°C|72°C|tmr:53.9\n",
      "|3min|30s  \\ 55.5°C _____|____|45s/kb\n",
      "|    |      \\______/ 2:05|5min|GC 43%\n",
      "|    |       30s         |    |2780bp\n",
      "\n",
      "\n",
      "\n",
      "\n",
      "\n",
      "product name: Cassette 2\n",
      "forward primer 775\n",
      "reverse primer 778\n",
      "|95°C|95°C               |    |tmf:63.9\n",
      "|____|_____          72°C|72°C|tmr:53.9\n",
      "|3min|30s  \\ 55.6°C _____|____|45s/kb\n",
      "|    |      \\______/ 1:42|5min|GC 44%\n",
      "|    |       30s         |    |2275bp\n",
      "\n",
      "\n",
      "\n",
      "\n",
      "\n",
      "product name: Cassette 3\n",
      "forward primer 775\n",
      "reverse primer 778\n",
      "|95°C|95°C               |    |tmf:63.9\n",
      "|____|_____          72°C|72°C|tmr:53.9\n",
      "|3min|30s  \\ 54.6°C _____|____|45s/kb\n",
      "|    |      \\______/ 1:26|5min|GC 40%\n",
      "|    |       30s         |    |1927bp\n",
      "\n",
      "\n",
      "\n",
      "\n",
      "\n",
      "product name: Cassette 4\n",
      "forward primer 775\n",
      "reverse primer 778\n",
      "|95°C|95°C               |    |tmf:63.9\n",
      "|____|_____          72°C|72°C|tmr:53.9\n",
      "|3min|30s  \\ 53.2°C _____|____|45s/kb\n",
      "|    |      \\______/ 1:07|5min|GC 36%\n",
      "|    |       30s         |    |1497bp\n",
      "\n",
      "\n",
      "\n",
      "\n",
      "\n",
      "product name: Cassette 5\n",
      "forward primer 775\n",
      "reverse primer 778\n",
      "|95°C|95°C               |    |tmf:63.9\n",
      "|____|_____          72°C|72°C|tmr:53.9\n",
      "|3min|30s  \\ 55.8°C _____|____|45s/kb\n",
      "|    |      \\______/ 2:01|5min|GC 44%\n",
      "|    |       30s         |    |2696bp\n",
      "\n",
      "\n",
      "\n",
      "\n",
      "\n",
      "product name: Cassette 6\n",
      "forward primer 775\n",
      "reverse primer 778\n",
      "|95°C|95°C               |    |tmf:63.9\n",
      "|____|_____          72°C|72°C|tmr:53.9\n",
      "|3min|30s  \\ 56.4°C _____|____|45s/kb\n",
      "|    |      \\______/ 1:55|5min|GC 46%\n",
      "|    |       30s         |    |2559bp\n",
      "\n",
      "\n",
      "\n",
      "\n",
      "\n",
      "product name: Cassette 7\n",
      "forward primer 775\n",
      "reverse primer 778\n",
      "|95°C|95°C               |    |tmf:63.9\n",
      "|____|_____          72°C|72°C|tmr:53.9\n",
      "|3min|30s  \\ 55.5°C _____|____|45s/kb\n",
      "|    |      \\______/ 1:29|5min|GC 43%\n",
      "|    |       30s         |    |1993bp\n",
      "\n",
      "\n",
      "\n",
      "\n",
      "\n",
      "product name: Cassette 8\n",
      "forward primer 775\n",
      "reverse primer 778\n",
      "|95°C|95°C               |    |tmf:63.9\n",
      "|____|_____          72°C|72°C|tmr:53.9\n",
      "|3min|30s  \\ 55.2°C _____|____|45s/kb\n",
      "|    |      \\______/ 1:24|5min|GC 42%\n",
      "|    |       30s         |    |1868bp\n",
      "\n",
      "\n",
      "\n",
      "\n",
      "\n",
      "product name: Cassette 9\n",
      "forward primer 775\n",
      "reverse primer 778\n",
      "|95°C|95°C               |    |tmf:63.9\n",
      "|____|_____          72°C|72°C|tmr:53.9\n",
      "|3min|30s  \\ 54.4°C _____|____|45s/kb\n",
      "|    |      \\______/ 1:34|5min|GC 39%\n",
      "|    |       30s         |    |2107bp\n",
      "\n",
      "\n",
      "\n",
      "\n",
      "\n",
      "product name: Cassette 10\n",
      "forward primer 775\n",
      "reverse primer 778\n",
      "|95°C|95°C               |    |tmf:63.9\n",
      "|____|_____          72°C|72°C|tmr:53.9\n",
      "|3min|30s  \\ 55.0°C _____|____|45s/kb\n",
      "|    |      \\______/ 1:32|5min|GC 42%\n",
      "|    |       30s         |    |2053bp\n",
      "\n",
      "\n",
      "\n",
      "\n",
      "\n",
      "product name: Cassette 11\n",
      "forward primer 775\n",
      "reverse primer 778\n",
      "|95°C|95°C               |    |tmf:63.9\n",
      "|____|_____          72°C|72°C|tmr:53.9\n",
      "|3min|30s  \\ 55.3°C _____|____|45s/kb\n",
      "|    |      \\______/ 1:45|5min|GC 42%\n",
      "|    |       30s         |    |2337bp\n",
      "\n",
      "\n",
      "\n",
      "\n",
      "\n",
      "product name: Cassette 12\n",
      "forward primer 775\n",
      "reverse primer 778\n",
      "|95°C|95°C               |    |tmf:63.9\n",
      "|____|_____          72°C|72°C|tmr:53.9\n",
      "|3min|30s  \\ 55.4°C _____|____|45s/kb\n",
      "|    |      \\______/ 1:33|5min|GC 43%\n",
      "|    |       30s         |    |2084bp\n",
      "\n",
      "\n",
      "\n",
      "\n",
      "\n",
      "product name: Cassette 13\n",
      "forward primer 775\n",
      "reverse primer 578\n",
      "|95°C|95°C               |    |tmf:63.9\n",
      "|____|_____          72°C|72°C|tmr:65.0\n",
      "|3min|30s  \\ 57.8°C _____|____|45s/kb\n",
      "|    |      \\______/ 1:25|5min|GC 41%\n",
      "|    |       30s         |    |1901bp\n"
     ]
    }
   ],
   "source": [
    "for prd in cassette_products:\n",
    "\tprint(\"\\n\\n\\n\\n\")\n",
    "\tprint(\"product name:\", prd.name)\n",
    "\tprint(\"forward primer\", prd.forward_primer.name)\n",
    "\tprint(\"reverse primer\", prd.reverse_primer.name)\n",
    "\tprint(prd.program())"
   ]
  }
 ],
 "metadata": {
  "kernelspec": {
   "display_name": "Python [conda env:bjorn39]",
   "language": "python",
   "name": "conda-env-bjorn39-py"
  },
  "language_info": {
   "codemirror_mode": {
    "name": "ipython",
    "version": 3
   },
   "file_extension": ".py",
   "mimetype": "text/x-python",
   "name": "python",
   "nbconvert_exporter": "python",
   "pygments_lexer": "ipython3",
   "version": "3.9.7"
  }
 },
 "nbformat": 4,
 "nbformat_minor": 5
}
