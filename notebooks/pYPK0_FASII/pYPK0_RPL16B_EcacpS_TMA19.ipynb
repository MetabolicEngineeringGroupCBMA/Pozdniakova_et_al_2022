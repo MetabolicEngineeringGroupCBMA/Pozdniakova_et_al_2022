{
 "cells": [
  {
   "cell_type": "markdown",
   "id": "01d0b819",
   "metadata": {},
   "source": [
    "# pYPK0_RPL16B_EcacpS_TMA19\n",
    "\n",
    "This notebook describes the assembly of the [_Saccaromyces cerevisiae_](www.yeastgenome.org)\n",
    "single gene expression vector pYPK0_RPL16B_EcacpS_TMA19.\n",
    "\n",
    "It is made by _in-vivo_ homologous recombination between three PCR products and one linear vector fragment.\n",
    "The PCR products are a promoter generated from a pYPK_Z vector, a gene from a pYPKa_A vector and\n",
    "a terminator from a pYPKa_E vector. The three PCR products are joined with\n",
    "a linearized [pYPKpw](https://github.com/BjornFJohansson/ypk-xylose-pathways/blob/master/notebooks/pYPKpw.ipynb)\n",
    "backbone vector that has the [URA3](http://www.yeastgenome.org/locus/S000000747/overview)\n",
    "marker and a _S. crevisiae_ [2 micron](http://blog.addgene.org/plasmids-101-yeast-vectors) origin of replication.\n",
    "\n",
    "The four linear DNA fragments are joined by homologous recombination in a\n",
    "[_Saccharomyces cerevisiae_](http://wiki.yeastgenome.org/index.php/Commonly_used_strains) ura3 mutant.\n",
    "\n",
    "![pYPK0_promoter_gene_terminator](tp_g_tp.png \"pYPK0_promoter_gene_terminator\")\n",
    "\n",
    "A part of the [pydna](https://pypi.python.org/pypi/pydna/) package is imported in the code cell below."
   ]
  },
  {
   "cell_type": "code",
   "execution_count": 1,
   "id": "93a4eb7d",
   "metadata": {
    "execution": {
     "iopub.execute_input": "2022-03-06T17:32:35.633202Z",
     "iopub.status.busy": "2022-03-06T17:32:35.631927Z",
     "iopub.status.idle": "2022-03-06T17:32:36.198751Z",
     "shell.execute_reply": "2022-03-06T17:32:36.197995Z"
    }
   },
   "outputs": [],
   "source": [
    "from pydna.parsers import parse_primers\n",
    "from pydna.readers import read\n",
    "from pydna.amplify import pcr\n",
    "from pydna.assembly import Assembly"
   ]
  },
  {
   "cell_type": "markdown",
   "id": "4687757c",
   "metadata": {},
   "source": [
    "The Yeast Pathway Kit [standard primers](standard_primers.txt) are read into a dictionary in the code cell below."
   ]
  },
  {
   "cell_type": "code",
   "execution_count": 2,
   "id": "896a48bc",
   "metadata": {
    "execution": {
     "iopub.execute_input": "2022-03-06T17:32:36.203086Z",
     "iopub.status.busy": "2022-03-06T17:32:36.202603Z",
     "iopub.status.idle": "2022-03-06T17:32:36.224032Z",
     "shell.execute_reply": "2022-03-06T17:32:36.223300Z"
    }
   },
   "outputs": [],
   "source": [
    "p = { x.id: x for x in parse_primers(\"standard_primers.txt\") }"
   ]
  },
  {
   "cell_type": "markdown",
   "id": "e147c4c9",
   "metadata": {},
   "source": [
    "The backbone vector [pYPKpw](pYPKpw.gb) is read from a local file in the code cell below."
   ]
  },
  {
   "cell_type": "code",
   "execution_count": 3,
   "id": "483437c4",
   "metadata": {
    "execution": {
     "iopub.execute_input": "2022-03-06T17:32:36.227035Z",
     "iopub.status.busy": "2022-03-06T17:32:36.226837Z",
     "iopub.status.idle": "2022-03-06T17:32:36.242626Z",
     "shell.execute_reply": "2022-03-06T17:32:36.242018Z"
    }
   },
   "outputs": [],
   "source": [
    "pYPKpw = read(\"pYPKpw.gb\")"
   ]
  },
  {
   "cell_type": "markdown",
   "id": "93367032",
   "metadata": {},
   "source": [
    "The backbone vector is linearized by digestion with [EcoRV](http://rebase.neb.com/rebase/enz/EcoRV.html).\n",
    "The restriction enzyme functionality is provided by [biopython](http://biopython.org)."
   ]
  },
  {
   "cell_type": "code",
   "execution_count": 4,
   "id": "cb225559",
   "metadata": {
    "execution": {
     "iopub.execute_input": "2022-03-06T17:32:36.251485Z",
     "iopub.status.busy": "2022-03-06T17:32:36.251074Z",
     "iopub.status.idle": "2022-03-06T17:32:36.259880Z",
     "shell.execute_reply": "2022-03-06T17:32:36.259315Z"
    }
   },
   "outputs": [],
   "source": [
    "from Bio.Restriction import EcoRV\n",
    "\n",
    "pYPK_EcoRV = pYPKpw.linearize(EcoRV)"
   ]
  },
  {
   "cell_type": "markdown",
   "id": "78702765",
   "metadata": {},
   "source": [
    "The pYPKa derived _E. coli_ plasmids containing [promoter](pYPKa_Z_RPL16B.gb), [gene](pYPKa_A_EcacpS.gb) and [terminator](pYPKa_E_TMA19.gb)\n",
    "are read into three variables below."
   ]
  },
  {
   "cell_type": "code",
   "execution_count": 5,
   "id": "b5f974e1",
   "metadata": {
    "execution": {
     "iopub.execute_input": "2022-03-06T17:32:36.263116Z",
     "iopub.status.busy": "2022-03-06T17:32:36.262880Z",
     "iopub.status.idle": "2022-03-06T17:32:36.275436Z",
     "shell.execute_reply": "2022-03-06T17:32:36.274841Z"
    }
   },
   "outputs": [],
   "source": [
    "promoter_template   = read(\"pYPKa_Z_RPL16B.gb\")\n",
    "gene_template       = read(\"pYPKa_A_EcacpS.gb\")\n",
    "terminator_template = read(\"pYPKa_E_TMA19.gb\")"
   ]
  },
  {
   "cell_type": "markdown",
   "id": "63540753",
   "metadata": {},
   "source": [
    "The construction of the three vector above are described in the [pYPKa_ZE_RPL16B](pYPKa_ZE_RPL16B.ipynb) and [pYPKa_A_EcacpS](pYPKa_A_EcacpS.ipynb) notebooks.\n",
    "\n",
    "Three DNA fragments are PCR amplified using [standard primers](standard_primers.txt). Suggested PCR programs can be found at the end of this document."
   ]
  },
  {
   "cell_type": "code",
   "execution_count": 6,
   "id": "3df33032",
   "metadata": {
    "execution": {
     "iopub.execute_input": "2022-03-06T17:32:36.283516Z",
     "iopub.status.busy": "2022-03-06T17:32:36.282944Z",
     "iopub.status.idle": "2022-03-06T17:32:36.307597Z",
     "shell.execute_reply": "2022-03-06T17:32:36.306841Z"
    }
   },
   "outputs": [],
   "source": [
    "prom = pcr( p['577'], p['567'], promoter_template)\n",
    "gene = pcr( p['468'], p['467'], gene_template)\n",
    "term = pcr( p['568'], p['578'], terminator_template)"
   ]
  },
  {
   "cell_type": "markdown",
   "id": "f328299f",
   "metadata": {},
   "source": [
    "The four linear DNA fragments are mixed and transformed\n",
    "to a _Saccharomyces cerevisiae_ ura3 mutant.\n",
    "\n",
    "The fragments will be assembled by _in-vivo_ [homologous recombination](http://www.ncbi.nlm.nih.gov/pubmed/2828185):"
   ]
  },
  {
   "cell_type": "code",
   "execution_count": 7,
   "id": "b5ffeba9",
   "metadata": {
    "execution": {
     "iopub.execute_input": "2022-03-06T17:32:36.313960Z",
     "iopub.status.busy": "2022-03-06T17:32:36.310829Z",
     "iopub.status.idle": "2022-03-06T17:32:37.002229Z",
     "shell.execute_reply": "2022-03-06T17:32:37.001608Z"
    }
   },
   "outputs": [
    {
     "data": {
      "text/plain": [
       "Assembly\n",
       "fragments..: 5603bp 930bp 470bp 744bp\n",
       "limit(bp)..: 31\n",
       "G.nodes....: 8\n",
       "algorithm..: common_sub_strings"
      ]
     },
     "execution_count": 7,
     "metadata": {},
     "output_type": "execute_result"
    }
   ],
   "source": [
    "asm = Assembly( (pYPK_EcoRV, prom, gene, term), limit=31 )\n",
    "\n",
    "asm"
   ]
  },
  {
   "cell_type": "markdown",
   "id": "074d1008",
   "metadata": {},
   "source": [
    "The representation of the asm object above should normally indicate one circcular product only.\n",
    "More than one circular products might indicate an incorrect assembly strategy or represent\n",
    "by-products that might arise in the assembly process.\n",
    "The largest recombination product is chosen as candidate for the pYPK0_RPL16B_EcacpS_TMA19 vector."
   ]
  },
  {
   "cell_type": "code",
   "execution_count": 8,
   "id": "b1284533",
   "metadata": {
    "execution": {
     "iopub.execute_input": "2022-03-06T17:32:37.004866Z",
     "iopub.status.busy": "2022-03-06T17:32:37.004649Z",
     "iopub.status.idle": "2022-03-06T17:32:37.273136Z",
     "shell.execute_reply": "2022-03-06T17:32:37.272555Z"
    }
   },
   "outputs": [
    {
     "data": {
      "text/plain": [
       " -|pYPKpw_lin|124\n",
       "|             \\/\n",
       "|             /\\\n",
       "|             124|930bp_PCR_prod|50\n",
       "|                                \\/\n",
       "|                                /\\\n",
       "|                                50|470bp_PCR_prod|37\n",
       "|                                                  \\/\n",
       "|                                                  /\\\n",
       "|                                                  37|744bp_PCR_prod|242\n",
       "|                                                                    \\/\n",
       "|                                                                    /\\\n",
       "|                                                                    242-\n",
       "|                                                                       |\n",
       " -----------------------------------------------------------------------"
      ]
     },
     "execution_count": 8,
     "metadata": {},
     "output_type": "execute_result"
    }
   ],
   "source": [
    "candidate = asm.assemble_circular()[0]\n",
    "\n",
    "candidate.figure()"
   ]
  },
  {
   "cell_type": "markdown",
   "id": "025aff00",
   "metadata": {},
   "source": [
    "The candidate vector is synchronized to the 577 primer. This means that\n",
    "the plasmid origin is shifted so that it matches the backbone vector."
   ]
  },
  {
   "cell_type": "code",
   "execution_count": 9,
   "id": "74fd5a24",
   "metadata": {
    "execution": {
     "iopub.execute_input": "2022-03-06T17:32:37.275740Z",
     "iopub.status.busy": "2022-03-06T17:32:37.275521Z",
     "iopub.status.idle": "2022-03-06T17:32:37.739612Z",
     "shell.execute_reply": "2022-03-06T17:32:37.738824Z"
    }
   },
   "outputs": [],
   "source": [
    "result = candidate.synced(\"gttctgatcctcgagcatcttaagaattc\")"
   ]
  },
  {
   "cell_type": "markdown",
   "id": "3a51e9af",
   "metadata": {},
   "source": [
    "### Diagnostic PCR confirmation\n",
    "\n",
    "The structure of the final vector is confirmed by two\n",
    "separate PCR reactions, one for the promoter and gene and\n",
    "one for the gene and terminator.\n",
    "\n",
    "PCR using standard primers 577 and 467 to amplify promoter and gene."
   ]
  },
  {
   "cell_type": "code",
   "execution_count": 10,
   "id": "fcb89b74",
   "metadata": {
    "execution": {
     "iopub.execute_input": "2022-03-06T17:32:37.743724Z",
     "iopub.status.busy": "2022-03-06T17:32:37.742856Z",
     "iopub.status.idle": "2022-03-06T17:32:37.782865Z",
     "shell.execute_reply": "2022-03-06T17:32:37.779184Z"
    }
   },
   "outputs": [],
   "source": [
    "product = pcr( p['577'], p['467'], result)"
   ]
  },
  {
   "cell_type": "markdown",
   "id": "5d0df21c",
   "metadata": {},
   "source": [
    "A correct clone should give this size in base pairs:"
   ]
  },
  {
   "cell_type": "code",
   "execution_count": 11,
   "id": "58313773",
   "metadata": {
    "execution": {
     "iopub.execute_input": "2022-03-06T17:32:37.789339Z",
     "iopub.status.busy": "2022-03-06T17:32:37.788565Z",
     "iopub.status.idle": "2022-03-06T17:32:37.794438Z",
     "shell.execute_reply": "2022-03-06T17:32:37.793464Z"
    }
   },
   "outputs": [
    {
     "name": "stdout",
     "output_type": "stream",
     "text": [
      "1350\n"
     ]
    }
   ],
   "source": [
    "print(len(product))"
   ]
  },
  {
   "cell_type": "markdown",
   "id": "46813439",
   "metadata": {},
   "source": [
    "If the promoter is missing from the assembly, the PCR product will have this size in base pairs:"
   ]
  },
  {
   "cell_type": "code",
   "execution_count": 12,
   "id": "941a2062",
   "metadata": {
    "execution": {
     "iopub.execute_input": "2022-03-06T17:32:37.799305Z",
     "iopub.status.busy": "2022-03-06T17:32:37.798966Z",
     "iopub.status.idle": "2022-03-06T17:32:37.804720Z",
     "shell.execute_reply": "2022-03-06T17:32:37.804101Z"
    }
   },
   "outputs": [
    {
     "name": "stdout",
     "output_type": "stream",
     "text": [
      "420\n"
     ]
    }
   ],
   "source": [
    "print(len(product) - len(prom))"
   ]
  },
  {
   "cell_type": "markdown",
   "id": "9a73e5b5",
   "metadata": {},
   "source": [
    "If the gene is missing from the assembly, the PCR product will have this size in base pairs:"
   ]
  },
  {
   "cell_type": "code",
   "execution_count": 13,
   "id": "2fa3cd64",
   "metadata": {
    "execution": {
     "iopub.execute_input": "2022-03-06T17:32:37.807656Z",
     "iopub.status.busy": "2022-03-06T17:32:37.807405Z",
     "iopub.status.idle": "2022-03-06T17:32:37.815779Z",
     "shell.execute_reply": "2022-03-06T17:32:37.814523Z"
    }
   },
   "outputs": [
    {
     "name": "stdout",
     "output_type": "stream",
     "text": [
      "880\n"
     ]
    }
   ],
   "source": [
    "print(len(product) - len(gene))"
   ]
  },
  {
   "cell_type": "markdown",
   "id": "e5601f7b",
   "metadata": {},
   "source": [
    "PCR using standard primers 468 and 578 to amplify gene and terminator."
   ]
  },
  {
   "cell_type": "code",
   "execution_count": 14,
   "id": "9dd816e2",
   "metadata": {
    "execution": {
     "iopub.execute_input": "2022-03-06T17:32:37.819585Z",
     "iopub.status.busy": "2022-03-06T17:32:37.819196Z",
     "iopub.status.idle": "2022-03-06T17:32:37.852572Z",
     "shell.execute_reply": "2022-03-06T17:32:37.851596Z"
    }
   },
   "outputs": [],
   "source": [
    "product2 = pcr( p['468'], p['578'], result)"
   ]
  },
  {
   "cell_type": "markdown",
   "id": "cd9e5576",
   "metadata": {},
   "source": [
    "A correct clone should give this size:"
   ]
  },
  {
   "cell_type": "code",
   "execution_count": 15,
   "id": "d743991f",
   "metadata": {
    "execution": {
     "iopub.execute_input": "2022-03-06T17:32:37.857620Z",
     "iopub.status.busy": "2022-03-06T17:32:37.857171Z",
     "iopub.status.idle": "2022-03-06T17:32:37.862720Z",
     "shell.execute_reply": "2022-03-06T17:32:37.861968Z"
    }
   },
   "outputs": [
    {
     "name": "stdout",
     "output_type": "stream",
     "text": [
      "1177\n"
     ]
    }
   ],
   "source": [
    "print(len(product2))"
   ]
  },
  {
   "cell_type": "markdown",
   "id": "c94c4ed9",
   "metadata": {},
   "source": [
    "If the gene is missing from the assembly, the PCR product will have this size in base pairs:"
   ]
  },
  {
   "cell_type": "code",
   "execution_count": 16,
   "id": "83896912",
   "metadata": {
    "execution": {
     "iopub.execute_input": "2022-03-06T17:32:37.867817Z",
     "iopub.status.busy": "2022-03-06T17:32:37.867450Z",
     "iopub.status.idle": "2022-03-06T17:32:37.872644Z",
     "shell.execute_reply": "2022-03-06T17:32:37.871661Z"
    }
   },
   "outputs": [
    {
     "name": "stdout",
     "output_type": "stream",
     "text": [
      "707\n"
     ]
    }
   ],
   "source": [
    "print(len(product2) - len(gene))"
   ]
  },
  {
   "cell_type": "markdown",
   "id": "b9426c15",
   "metadata": {},
   "source": [
    "If the terminator is missing from the assembly, the PCR product will have this size in base pairs:"
   ]
  },
  {
   "cell_type": "code",
   "execution_count": 17,
   "id": "742ff491",
   "metadata": {
    "execution": {
     "iopub.execute_input": "2022-03-06T17:32:37.875533Z",
     "iopub.status.busy": "2022-03-06T17:32:37.875295Z",
     "iopub.status.idle": "2022-03-06T17:32:37.884530Z",
     "shell.execute_reply": "2022-03-06T17:32:37.883502Z"
    }
   },
   "outputs": [
    {
     "name": "stdout",
     "output_type": "stream",
     "text": [
      "433\n"
     ]
    }
   ],
   "source": [
    "print(len(product2) - len(term))"
   ]
  },
  {
   "cell_type": "markdown",
   "id": "d655ad74",
   "metadata": {},
   "source": [
    "The cseguid checksum for the resulting plasmid is calculated for future reference.\n",
    "The [cseguid checksum](http://pydna.readthedocs.org/en/latest/pydna.html#pydna.utils.cseguid)\n",
    "uniquely identifies a circular double stranded sequence."
   ]
  },
  {
   "cell_type": "code",
   "execution_count": 18,
   "id": "3dd21190",
   "metadata": {
    "execution": {
     "iopub.execute_input": "2022-03-06T17:32:37.890320Z",
     "iopub.status.busy": "2022-03-06T17:32:37.890063Z",
     "iopub.status.idle": "2022-03-06T17:32:37.903134Z",
     "shell.execute_reply": "2022-03-06T17:32:37.902286Z"
    }
   },
   "outputs": [
    {
     "data": {
      "text/plain": [
       "1wnQix1NzXyGL46uTlPMEGkT_Hk"
      ]
     },
     "execution_count": 18,
     "metadata": {},
     "output_type": "execute_result"
    }
   ],
   "source": [
    "result.cseguid()"
   ]
  },
  {
   "cell_type": "markdown",
   "id": "691e417d",
   "metadata": {},
   "source": [
    "The file is named based on the nemas of promoter, gene and terminator."
   ]
  },
  {
   "cell_type": "code",
   "execution_count": 19,
   "id": "60e07771",
   "metadata": {
    "execution": {
     "iopub.execute_input": "2022-03-06T17:32:37.909239Z",
     "iopub.status.busy": "2022-03-06T17:32:37.908930Z",
     "iopub.status.idle": "2022-03-06T17:32:37.913250Z",
     "shell.execute_reply": "2022-03-06T17:32:37.912234Z"
    }
   },
   "outputs": [],
   "source": [
    "result.locus = \"pYPK0_tp_g_tp\"\n",
    "result.definition = \"pYPK0_RPL16B_EcacpS_TMA19\""
   ]
  },
  {
   "cell_type": "markdown",
   "id": "57d73847",
   "metadata": {},
   "source": [
    "Sequence is stamped with cseguid checksum. This can be used to verify the\n",
    "integrity of the sequence file."
   ]
  },
  {
   "cell_type": "code",
   "execution_count": 20,
   "id": "222f9fa0",
   "metadata": {
    "execution": {
     "iopub.execute_input": "2022-03-06T17:32:37.924464Z",
     "iopub.status.busy": "2022-03-06T17:32:37.923435Z",
     "iopub.status.idle": "2022-03-06T17:32:37.942515Z",
     "shell.execute_reply": "2022-03-06T17:32:37.941884Z"
    }
   },
   "outputs": [
    {
     "data": {
      "text/plain": [
       "cSEGUID_1wnQix1NzXyGL46uTlPMEGkT_Hk"
      ]
     },
     "execution_count": 20,
     "metadata": {},
     "output_type": "execute_result"
    }
   ],
   "source": [
    "result.stamp()"
   ]
  },
  {
   "cell_type": "markdown",
   "id": "44f9b8f5",
   "metadata": {},
   "source": [
    "Write sequence to a local file."
   ]
  },
  {
   "cell_type": "code",
   "execution_count": 21,
   "id": "b4663c1e",
   "metadata": {
    "execution": {
     "iopub.execute_input": "2022-03-06T17:32:37.952553Z",
     "iopub.status.busy": "2022-03-06T17:32:37.951547Z",
     "iopub.status.idle": "2022-03-06T17:32:37.959462Z",
     "shell.execute_reply": "2022-03-06T17:32:37.958930Z"
    }
   },
   "outputs": [
    {
     "data": {
      "text/html": [
       "<font face=monospace><a href='pYPK0_RPL16B_EcacpS_TMA19.gb' target='_blank'>pYPK0_RPL16B_EcacpS_TMA19.gb</a></font><br>"
      ]
     },
     "metadata": {},
     "output_type": "display_data"
    }
   ],
   "source": [
    "result.write(\"pYPK0_RPL16B_EcacpS_TMA19.gb\")"
   ]
  },
  {
   "cell_type": "markdown",
   "id": "a794b68a",
   "metadata": {},
   "source": [
    "## PCR programs for the amplification of Promoter, Gene and Terminator\n",
    "\n",
    "see cell #6\n",
    "\n",
    "Promoter"
   ]
  },
  {
   "cell_type": "code",
   "execution_count": 22,
   "id": "8e43b20e",
   "metadata": {
    "execution": {
     "iopub.execute_input": "2022-03-06T17:32:37.963876Z",
     "iopub.status.busy": "2022-03-06T17:32:37.963443Z",
     "iopub.status.idle": "2022-03-06T17:32:37.969847Z",
     "shell.execute_reply": "2022-03-06T17:32:37.968931Z"
    }
   },
   "outputs": [
    {
     "data": {
      "text/plain": [
       "|95°C|95°C               |    |tmf:64.6\n",
       "|____|_____          72°C|72°C|tmr:69.7\n",
       "|3min|30s  \\ 58.3°C _____|____|45s/kb\n",
       "|    |      \\______/ 0:41|5min|GC 43%\n",
       "|    |       30s         |    |930bp"
      ]
     },
     "execution_count": 22,
     "metadata": {},
     "output_type": "execute_result"
    }
   ],
   "source": [
    "prom.program()"
   ]
  },
  {
   "cell_type": "markdown",
   "id": "bc4145a9",
   "metadata": {},
   "source": [
    "Gene"
   ]
  },
  {
   "cell_type": "code",
   "execution_count": 23,
   "id": "a0515b00",
   "metadata": {
    "execution": {
     "iopub.execute_input": "2022-03-06T17:32:37.973658Z",
     "iopub.status.busy": "2022-03-06T17:32:37.973428Z",
     "iopub.status.idle": "2022-03-06T17:32:37.982030Z",
     "shell.execute_reply": "2022-03-06T17:32:37.980840Z"
    }
   },
   "outputs": [
    {
     "data": {
      "text/plain": [
       "|95°C|95°C               |    |tmf:76.9\n",
       "|____|_____          72°C|72°C|tmr:67.9\n",
       "|3min|30s  \\ 61.2°C _____|____|45s/kb\n",
       "|    |      \\______/ 0:30|5min|GC 51%\n",
       "|    |       30s         |    |470bp"
      ]
     },
     "execution_count": 23,
     "metadata": {},
     "output_type": "execute_result"
    }
   ],
   "source": [
    "gene.program()"
   ]
  },
  {
   "cell_type": "markdown",
   "id": "2eb3d40c",
   "metadata": {},
   "source": [
    "Terminator"
   ]
  },
  {
   "cell_type": "code",
   "execution_count": 24,
   "id": "454b4b2a",
   "metadata": {
    "execution": {
     "iopub.execute_input": "2022-03-06T17:32:37.986142Z",
     "iopub.status.busy": "2022-03-06T17:32:37.985827Z",
     "iopub.status.idle": "2022-03-06T17:32:37.991775Z",
     "shell.execute_reply": "2022-03-06T17:32:37.991064Z"
    }
   },
   "outputs": [
    {
     "data": {
      "text/plain": [
       "|95°C|95°C               |    |tmf:66.1\n",
       "|____|_____          72°C|72°C|tmr:65.0\n",
       "|3min|30s  \\ 56.1°C _____|____|45s/kb\n",
       "|    |      \\______/ 0:33|5min|GC 35%\n",
       "|    |       30s         |    |744bp"
      ]
     },
     "execution_count": 24,
     "metadata": {},
     "output_type": "execute_result"
    }
   ],
   "source": [
    "term.program()"
   ]
  }
 ],
 "metadata": {
  "language_info": {
   "codemirror_mode": {
    "name": "ipython",
    "version": 3
   },
   "file_extension": ".py",
   "mimetype": "text/x-python",
   "name": "python",
   "nbconvert_exporter": "python",
   "pygments_lexer": "ipython3",
   "version": "3.9.7"
  }
 },
 "nbformat": 4,
 "nbformat_minor": 5
}
