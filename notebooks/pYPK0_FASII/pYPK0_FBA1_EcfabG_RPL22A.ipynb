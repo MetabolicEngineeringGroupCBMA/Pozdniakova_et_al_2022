{
 "cells": [
  {
   "cell_type": "markdown",
   "id": "a62e0f63",
   "metadata": {},
   "source": [
    "# pYPK0_FBA1_EcfabG_RPL22A\n",
    "\n",
    "This notebook describes the assembly of the [_Saccaromyces cerevisiae_](www.yeastgenome.org)\n",
    "single gene expression vector pYPK0_FBA1_EcfabG_RPL22A.\n",
    "\n",
    "It is made by _in-vivo_ homologous recombination between three PCR products and one linear vector fragment.\n",
    "The PCR products are a promoter generated from a pYPK_Z vector, a gene from a pYPKa_A vector and\n",
    "a terminator from a pYPKa_E vector. The three PCR products are joined with\n",
    "a linearized [pYPKpw](https://github.com/BjornFJohansson/ypk-xylose-pathways/blob/master/notebooks/pYPKpw.ipynb)\n",
    "backbone vector that has the [URA3](http://www.yeastgenome.org/locus/S000000747/overview)\n",
    "marker and a _S. crevisiae_ [2 micron](http://blog.addgene.org/plasmids-101-yeast-vectors) origin of replication.\n",
    "\n",
    "The four linear DNA fragments are joined by homologous recombination in a\n",
    "[_Saccharomyces cerevisiae_](http://wiki.yeastgenome.org/index.php/Commonly_used_strains) ura3 mutant.\n",
    "\n",
    "![pYPK0_promoter_gene_terminator](tp_g_tp.png \"pYPK0_promoter_gene_terminator\")\n",
    "\n",
    "A part of the [pydna](https://pypi.python.org/pypi/pydna/) package is imported in the code cell below."
   ]
  },
  {
   "cell_type": "code",
   "execution_count": 1,
   "id": "b3f2eaa8",
   "metadata": {
    "execution": {
     "iopub.execute_input": "2022-03-06T17:31:58.327185Z",
     "iopub.status.busy": "2022-03-06T17:31:58.326671Z",
     "iopub.status.idle": "2022-03-06T17:31:58.846200Z",
     "shell.execute_reply": "2022-03-06T17:31:58.845490Z"
    }
   },
   "outputs": [],
   "source": [
    "from pydna.parsers import parse_primers\n",
    "from pydna.readers import read\n",
    "from pydna.amplify import pcr\n",
    "from pydna.assembly import Assembly"
   ]
  },
  {
   "cell_type": "markdown",
   "id": "a2f457a8",
   "metadata": {},
   "source": [
    "The Yeast Pathway Kit [standard primers](standard_primers.txt) are read into a dictionary in the code cell below."
   ]
  },
  {
   "cell_type": "code",
   "execution_count": 2,
   "id": "499e8547",
   "metadata": {
    "execution": {
     "iopub.execute_input": "2022-03-06T17:31:58.850424Z",
     "iopub.status.busy": "2022-03-06T17:31:58.850115Z",
     "iopub.status.idle": "2022-03-06T17:31:58.873481Z",
     "shell.execute_reply": "2022-03-06T17:31:58.872722Z"
    }
   },
   "outputs": [],
   "source": [
    "p = { x.id: x for x in parse_primers(\"standard_primers.txt\") }"
   ]
  },
  {
   "cell_type": "markdown",
   "id": "abf4f7b9",
   "metadata": {},
   "source": [
    "The backbone vector [pYPKpw](pYPKpw.gb) is read from a local file in the code cell below."
   ]
  },
  {
   "cell_type": "code",
   "execution_count": 3,
   "id": "62930c26",
   "metadata": {
    "execution": {
     "iopub.execute_input": "2022-03-06T17:31:58.877640Z",
     "iopub.status.busy": "2022-03-06T17:31:58.877269Z",
     "iopub.status.idle": "2022-03-06T17:31:58.900648Z",
     "shell.execute_reply": "2022-03-06T17:31:58.899956Z"
    }
   },
   "outputs": [],
   "source": [
    "pYPKpw = read(\"pYPKpw.gb\")"
   ]
  },
  {
   "cell_type": "markdown",
   "id": "3655e708",
   "metadata": {},
   "source": [
    "The backbone vector is linearized by digestion with [EcoRV](http://rebase.neb.com/rebase/enz/EcoRV.html).\n",
    "The restriction enzyme functionality is provided by [biopython](http://biopython.org)."
   ]
  },
  {
   "cell_type": "code",
   "execution_count": 4,
   "id": "66fc0dfd",
   "metadata": {
    "execution": {
     "iopub.execute_input": "2022-03-06T17:31:58.905412Z",
     "iopub.status.busy": "2022-03-06T17:31:58.904562Z",
     "iopub.status.idle": "2022-03-06T17:31:58.920296Z",
     "shell.execute_reply": "2022-03-06T17:31:58.918481Z"
    }
   },
   "outputs": [],
   "source": [
    "from Bio.Restriction import EcoRV\n",
    "\n",
    "pYPK_EcoRV = pYPKpw.linearize(EcoRV)"
   ]
  },
  {
   "cell_type": "markdown",
   "id": "4f9c7345",
   "metadata": {},
   "source": [
    "The pYPKa derived _E. coli_ plasmids containing [promoter](pYPKa_Z_FBA1.gb), [gene](pYPKa_A_EcfabG.gb) and [terminator](pYPKa_E_RPL22A.gb)\n",
    "are read into three variables below."
   ]
  },
  {
   "cell_type": "code",
   "execution_count": 5,
   "id": "80ec5aac",
   "metadata": {
    "execution": {
     "iopub.execute_input": "2022-03-06T17:31:58.924294Z",
     "iopub.status.busy": "2022-03-06T17:31:58.923924Z",
     "iopub.status.idle": "2022-03-06T17:31:58.935789Z",
     "shell.execute_reply": "2022-03-06T17:31:58.935276Z"
    }
   },
   "outputs": [],
   "source": [
    "promoter_template   = read(\"pYPKa_Z_FBA1.gb\")\n",
    "gene_template       = read(\"pYPKa_A_EcfabG.gb\")\n",
    "terminator_template = read(\"pYPKa_E_RPL22A.gb\")"
   ]
  },
  {
   "cell_type": "markdown",
   "id": "d1560c4e",
   "metadata": {},
   "source": [
    "The construction of the three vector above are described in the [pYPKa_ZE_FBA1](pYPKa_ZE_FBA1.ipynb) and [pYPKa_A_EcfabG](pYPKa_A_EcfabG.ipynb) notebooks.\n",
    "\n",
    "Three DNA fragments are PCR amplified using [standard primers](standard_primers.txt). Suggested PCR programs can be found at the end of this document."
   ]
  },
  {
   "cell_type": "code",
   "execution_count": 6,
   "id": "199f482f",
   "metadata": {
    "execution": {
     "iopub.execute_input": "2022-03-06T17:31:58.938485Z",
     "iopub.status.busy": "2022-03-06T17:31:58.938303Z",
     "iopub.status.idle": "2022-03-06T17:31:58.979332Z",
     "shell.execute_reply": "2022-03-06T17:31:58.977837Z"
    }
   },
   "outputs": [],
   "source": [
    "prom = pcr( p['577'], p['567'], promoter_template)\n",
    "gene = pcr( p['468'], p['467'], gene_template)\n",
    "term = pcr( p['568'], p['578'], terminator_template)"
   ]
  },
  {
   "cell_type": "markdown",
   "id": "bb5b55a5",
   "metadata": {},
   "source": [
    "The four linear DNA fragments are mixed and transformed\n",
    "to a _Saccharomyces cerevisiae_ ura3 mutant.\n",
    "\n",
    "The fragments will be assembled by _in-vivo_ [homologous recombination](http://www.ncbi.nlm.nih.gov/pubmed/2828185):"
   ]
  },
  {
   "cell_type": "code",
   "execution_count": 7,
   "id": "7e4627c6",
   "metadata": {
    "execution": {
     "iopub.execute_input": "2022-03-06T17:31:58.985435Z",
     "iopub.status.busy": "2022-03-06T17:31:58.984885Z",
     "iopub.status.idle": "2022-03-06T17:31:59.680647Z",
     "shell.execute_reply": "2022-03-06T17:31:59.679670Z"
    }
   },
   "outputs": [
    {
     "data": {
      "text/plain": [
       "Assembly\n",
       "fragments..: 5603bp 862bp 824bp 766bp\n",
       "limit(bp)..: 31\n",
       "G.nodes....: 8\n",
       "algorithm..: common_sub_strings"
      ]
     },
     "execution_count": 7,
     "metadata": {},
     "output_type": "execute_result"
    }
   ],
   "source": [
    "asm = Assembly( (pYPK_EcoRV, prom, gene, term), limit=31 )\n",
    "\n",
    "asm"
   ]
  },
  {
   "cell_type": "markdown",
   "id": "f59fa768",
   "metadata": {},
   "source": [
    "The representation of the asm object above should normally indicate one circcular product only.\n",
    "More than one circular products might indicate an incorrect assembly strategy or represent\n",
    "by-products that might arise in the assembly process.\n",
    "The largest recombination product is chosen as candidate for the pYPK0_FBA1_EcfabG_RPL22A vector."
   ]
  },
  {
   "cell_type": "code",
   "execution_count": 8,
   "id": "4833f781",
   "metadata": {
    "execution": {
     "iopub.execute_input": "2022-03-06T17:31:59.684385Z",
     "iopub.status.busy": "2022-03-06T17:31:59.684053Z",
     "iopub.status.idle": "2022-03-06T17:31:59.957203Z",
     "shell.execute_reply": "2022-03-06T17:31:59.956674Z"
    }
   },
   "outputs": [
    {
     "data": {
      "text/plain": [
       " -|pYPKpw_lin|124\n",
       "|             \\/\n",
       "|             /\\\n",
       "|             124|862bp_PCR_prod|50\n",
       "|                                \\/\n",
       "|                                /\\\n",
       "|                                50|824bp_PCR_prod|37\n",
       "|                                                  \\/\n",
       "|                                                  /\\\n",
       "|                                                  37|766bp_PCR_prod|242\n",
       "|                                                                    \\/\n",
       "|                                                                    /\\\n",
       "|                                                                    242-\n",
       "|                                                                       |\n",
       " -----------------------------------------------------------------------"
      ]
     },
     "execution_count": 8,
     "metadata": {},
     "output_type": "execute_result"
    }
   ],
   "source": [
    "candidate = asm.assemble_circular()[0]\n",
    "\n",
    "candidate.figure()"
   ]
  },
  {
   "cell_type": "markdown",
   "id": "cb8811e0",
   "metadata": {},
   "source": [
    "The candidate vector is synchronized to the 577 primer. This means that\n",
    "the plasmid origin is shifted so that it matches the backbone vector."
   ]
  },
  {
   "cell_type": "code",
   "execution_count": 9,
   "id": "fcf3fc64",
   "metadata": {
    "execution": {
     "iopub.execute_input": "2022-03-06T17:31:59.960585Z",
     "iopub.status.busy": "2022-03-06T17:31:59.960352Z",
     "iopub.status.idle": "2022-03-06T17:32:00.361471Z",
     "shell.execute_reply": "2022-03-06T17:32:00.360602Z"
    }
   },
   "outputs": [],
   "source": [
    "result = candidate.synced(\"gttctgatcctcgagcatcttaagaattc\")"
   ]
  },
  {
   "cell_type": "markdown",
   "id": "b8f0ccbf",
   "metadata": {},
   "source": [
    "### Diagnostic PCR confirmation\n",
    "\n",
    "The structure of the final vector is confirmed by two\n",
    "separate PCR reactions, one for the promoter and gene and\n",
    "one for the gene and terminator.\n",
    "\n",
    "PCR using standard primers 577 and 467 to amplify promoter and gene."
   ]
  },
  {
   "cell_type": "code",
   "execution_count": 10,
   "id": "2aad7ce1",
   "metadata": {
    "execution": {
     "iopub.execute_input": "2022-03-06T17:32:00.364697Z",
     "iopub.status.busy": "2022-03-06T17:32:00.364436Z",
     "iopub.status.idle": "2022-03-06T17:32:00.396633Z",
     "shell.execute_reply": "2022-03-06T17:32:00.395702Z"
    }
   },
   "outputs": [],
   "source": [
    "product = pcr( p['577'], p['467'], result)"
   ]
  },
  {
   "cell_type": "markdown",
   "id": "2b871116",
   "metadata": {},
   "source": [
    "A correct clone should give this size in base pairs:"
   ]
  },
  {
   "cell_type": "code",
   "execution_count": 11,
   "id": "bdae5b67",
   "metadata": {
    "execution": {
     "iopub.execute_input": "2022-03-06T17:32:00.399406Z",
     "iopub.status.busy": "2022-03-06T17:32:00.399142Z",
     "iopub.status.idle": "2022-03-06T17:32:00.403342Z",
     "shell.execute_reply": "2022-03-06T17:32:00.402506Z"
    }
   },
   "outputs": [
    {
     "name": "stdout",
     "output_type": "stream",
     "text": [
      "1636\n"
     ]
    }
   ],
   "source": [
    "print(len(product))"
   ]
  },
  {
   "cell_type": "markdown",
   "id": "6b2baef1",
   "metadata": {},
   "source": [
    "If the promoter is missing from the assembly, the PCR product will have this size in base pairs:"
   ]
  },
  {
   "cell_type": "code",
   "execution_count": 12,
   "id": "02ee95c6",
   "metadata": {
    "execution": {
     "iopub.execute_input": "2022-03-06T17:32:00.406608Z",
     "iopub.status.busy": "2022-03-06T17:32:00.406385Z",
     "iopub.status.idle": "2022-03-06T17:32:00.413065Z",
     "shell.execute_reply": "2022-03-06T17:32:00.410961Z"
    }
   },
   "outputs": [
    {
     "name": "stdout",
     "output_type": "stream",
     "text": [
      "774\n"
     ]
    }
   ],
   "source": [
    "print(len(product) - len(prom))"
   ]
  },
  {
   "cell_type": "markdown",
   "id": "1a67cfdb",
   "metadata": {},
   "source": [
    "If the gene is missing from the assembly, the PCR product will have this size in base pairs:"
   ]
  },
  {
   "cell_type": "code",
   "execution_count": 13,
   "id": "dcd1946d",
   "metadata": {
    "execution": {
     "iopub.execute_input": "2022-03-06T17:32:00.424885Z",
     "iopub.status.busy": "2022-03-06T17:32:00.424623Z",
     "iopub.status.idle": "2022-03-06T17:32:00.428293Z",
     "shell.execute_reply": "2022-03-06T17:32:00.427558Z"
    }
   },
   "outputs": [
    {
     "name": "stdout",
     "output_type": "stream",
     "text": [
      "812\n"
     ]
    }
   ],
   "source": [
    "print(len(product) - len(gene))"
   ]
  },
  {
   "cell_type": "markdown",
   "id": "72fb9f60",
   "metadata": {},
   "source": [
    "PCR using standard primers 468 and 578 to amplify gene and terminator."
   ]
  },
  {
   "cell_type": "code",
   "execution_count": 14,
   "id": "65d901fc",
   "metadata": {
    "execution": {
     "iopub.execute_input": "2022-03-06T17:32:00.431903Z",
     "iopub.status.busy": "2022-03-06T17:32:00.431592Z",
     "iopub.status.idle": "2022-03-06T17:32:00.477366Z",
     "shell.execute_reply": "2022-03-06T17:32:00.475521Z"
    }
   },
   "outputs": [],
   "source": [
    "product2 = pcr( p['468'], p['578'], result)"
   ]
  },
  {
   "cell_type": "markdown",
   "id": "60aef10d",
   "metadata": {},
   "source": [
    "A correct clone should give this size:"
   ]
  },
  {
   "cell_type": "code",
   "execution_count": 15,
   "id": "898e35c6",
   "metadata": {
    "execution": {
     "iopub.execute_input": "2022-03-06T17:32:00.484767Z",
     "iopub.status.busy": "2022-03-06T17:32:00.484080Z",
     "iopub.status.idle": "2022-03-06T17:32:00.490609Z",
     "shell.execute_reply": "2022-03-06T17:32:00.489576Z"
    }
   },
   "outputs": [
    {
     "name": "stdout",
     "output_type": "stream",
     "text": [
      "1553\n"
     ]
    }
   ],
   "source": [
    "print(len(product2))"
   ]
  },
  {
   "cell_type": "markdown",
   "id": "2e525dcd",
   "metadata": {},
   "source": [
    "If the gene is missing from the assembly, the PCR product will have this size in base pairs:"
   ]
  },
  {
   "cell_type": "code",
   "execution_count": 16,
   "id": "bbe3ec79",
   "metadata": {
    "execution": {
     "iopub.execute_input": "2022-03-06T17:32:00.497386Z",
     "iopub.status.busy": "2022-03-06T17:32:00.496588Z",
     "iopub.status.idle": "2022-03-06T17:32:00.503614Z",
     "shell.execute_reply": "2022-03-06T17:32:00.502958Z"
    }
   },
   "outputs": [
    {
     "name": "stdout",
     "output_type": "stream",
     "text": [
      "729\n"
     ]
    }
   ],
   "source": [
    "print(len(product2) - len(gene))"
   ]
  },
  {
   "cell_type": "markdown",
   "id": "c0c09d0a",
   "metadata": {},
   "source": [
    "If the terminator is missing from the assembly, the PCR product will have this size in base pairs:"
   ]
  },
  {
   "cell_type": "code",
   "execution_count": 17,
   "id": "a3662279",
   "metadata": {
    "execution": {
     "iopub.execute_input": "2022-03-06T17:32:00.507640Z",
     "iopub.status.busy": "2022-03-06T17:32:00.507405Z",
     "iopub.status.idle": "2022-03-06T17:32:00.519167Z",
     "shell.execute_reply": "2022-03-06T17:32:00.518141Z"
    }
   },
   "outputs": [
    {
     "name": "stdout",
     "output_type": "stream",
     "text": [
      "787\n"
     ]
    }
   ],
   "source": [
    "print(len(product2) - len(term))"
   ]
  },
  {
   "cell_type": "markdown",
   "id": "c46f8624",
   "metadata": {},
   "source": [
    "The cseguid checksum for the resulting plasmid is calculated for future reference.\n",
    "The [cseguid checksum](http://pydna.readthedocs.org/en/latest/pydna.html#pydna.utils.cseguid)\n",
    "uniquely identifies a circular double stranded sequence."
   ]
  },
  {
   "cell_type": "code",
   "execution_count": 18,
   "id": "970db9f5",
   "metadata": {
    "execution": {
     "iopub.execute_input": "2022-03-06T17:32:00.521865Z",
     "iopub.status.busy": "2022-03-06T17:32:00.521682Z",
     "iopub.status.idle": "2022-03-06T17:32:00.534098Z",
     "shell.execute_reply": "2022-03-06T17:32:00.533478Z"
    }
   },
   "outputs": [
    {
     "data": {
      "text/plain": [
       "0_8MWlK1r5MpcFdPHdcDb90Zftc"
      ]
     },
     "execution_count": 18,
     "metadata": {},
     "output_type": "execute_result"
    }
   ],
   "source": [
    "result.cseguid()"
   ]
  },
  {
   "cell_type": "markdown",
   "id": "f607205d",
   "metadata": {},
   "source": [
    "The file is named based on the nemas of promoter, gene and terminator."
   ]
  },
  {
   "cell_type": "code",
   "execution_count": 19,
   "id": "504d03d6",
   "metadata": {
    "execution": {
     "iopub.execute_input": "2022-03-06T17:32:00.536430Z",
     "iopub.status.busy": "2022-03-06T17:32:00.536216Z",
     "iopub.status.idle": "2022-03-06T17:32:00.539030Z",
     "shell.execute_reply": "2022-03-06T17:32:00.538513Z"
    }
   },
   "outputs": [],
   "source": [
    "result.locus = \"pYPK0_tp_g_tp\"\n",
    "result.definition = \"pYPK0_FBA1_EcfabG_RPL22A\""
   ]
  },
  {
   "cell_type": "markdown",
   "id": "51908d5b",
   "metadata": {},
   "source": [
    "Sequence is stamped with cseguid checksum. This can be used to verify the\n",
    "integrity of the sequence file."
   ]
  },
  {
   "cell_type": "code",
   "execution_count": 20,
   "id": "0fdffa77",
   "metadata": {
    "execution": {
     "iopub.execute_input": "2022-03-06T17:32:00.541612Z",
     "iopub.status.busy": "2022-03-06T17:32:00.541378Z",
     "iopub.status.idle": "2022-03-06T17:32:00.558127Z",
     "shell.execute_reply": "2022-03-06T17:32:00.557660Z"
    }
   },
   "outputs": [
    {
     "data": {
      "text/plain": [
       "cSEGUID_0_8MWlK1r5MpcFdPHdcDb90Zftc"
      ]
     },
     "execution_count": 20,
     "metadata": {},
     "output_type": "execute_result"
    }
   ],
   "source": [
    "result.stamp()"
   ]
  },
  {
   "cell_type": "markdown",
   "id": "c7ed50fb",
   "metadata": {},
   "source": [
    "Write sequence to a local file."
   ]
  },
  {
   "cell_type": "code",
   "execution_count": 21,
   "id": "7de47c55",
   "metadata": {
    "execution": {
     "iopub.execute_input": "2022-03-06T17:32:00.561080Z",
     "iopub.status.busy": "2022-03-06T17:32:00.560764Z",
     "iopub.status.idle": "2022-03-06T17:32:00.568547Z",
     "shell.execute_reply": "2022-03-06T17:32:00.567823Z"
    }
   },
   "outputs": [
    {
     "data": {
      "text/html": [
       "<font face=monospace><a href='pYPK0_FBA1_EcfabG_RPL22A.gb' target='_blank'>pYPK0_FBA1_EcfabG_RPL22A.gb</a></font><br>"
      ]
     },
     "metadata": {},
     "output_type": "display_data"
    }
   ],
   "source": [
    "result.write(\"pYPK0_FBA1_EcfabG_RPL22A.gb\")"
   ]
  },
  {
   "cell_type": "markdown",
   "id": "2d781ced",
   "metadata": {},
   "source": [
    "## PCR programs for the amplification of Promoter, Gene and Terminator\n",
    "\n",
    "see cell #6\n",
    "\n",
    "Promoter"
   ]
  },
  {
   "cell_type": "code",
   "execution_count": 22,
   "id": "17709d62",
   "metadata": {
    "execution": {
     "iopub.execute_input": "2022-03-06T17:32:00.571155Z",
     "iopub.status.busy": "2022-03-06T17:32:00.570941Z",
     "iopub.status.idle": "2022-03-06T17:32:00.575125Z",
     "shell.execute_reply": "2022-03-06T17:32:00.574596Z"
    }
   },
   "outputs": [
    {
     "data": {
      "text/plain": [
       "|95°C|95°C               |    |tmf:64.6\n",
       "|____|_____          72°C|72°C|tmr:69.7\n",
       "|3min|30s  \\ 57.2°C _____|____|45s/kb\n",
       "|    |      \\______/ 0:38|5min|GC 39%\n",
       "|    |       30s         |    |862bp"
      ]
     },
     "execution_count": 22,
     "metadata": {},
     "output_type": "execute_result"
    }
   ],
   "source": [
    "prom.program()"
   ]
  },
  {
   "cell_type": "markdown",
   "id": "f1eda0c5",
   "metadata": {},
   "source": [
    "Gene"
   ]
  },
  {
   "cell_type": "code",
   "execution_count": 23,
   "id": "a4f90f86",
   "metadata": {
    "execution": {
     "iopub.execute_input": "2022-03-06T17:32:00.584252Z",
     "iopub.status.busy": "2022-03-06T17:32:00.583797Z",
     "iopub.status.idle": "2022-03-06T17:32:00.589212Z",
     "shell.execute_reply": "2022-03-06T17:32:00.588626Z"
    }
   },
   "outputs": [
    {
     "data": {
      "text/plain": [
       "|95°C|95°C               |    |tmf:76.9\n",
       "|____|_____          72°C|72°C|tmr:67.9\n",
       "|3min|30s  \\ 61.6°C _____|____|45s/kb\n",
       "|    |      \\______/ 0:37|5min|GC 51%\n",
       "|    |       30s         |    |824bp"
      ]
     },
     "execution_count": 23,
     "metadata": {},
     "output_type": "execute_result"
    }
   ],
   "source": [
    "gene.program()"
   ]
  },
  {
   "cell_type": "markdown",
   "id": "b1b6c430",
   "metadata": {},
   "source": [
    "Terminator"
   ]
  },
  {
   "cell_type": "code",
   "execution_count": 24,
   "id": "1f0df6c3",
   "metadata": {
    "execution": {
     "iopub.execute_input": "2022-03-06T17:32:00.591723Z",
     "iopub.status.busy": "2022-03-06T17:32:00.591511Z",
     "iopub.status.idle": "2022-03-06T17:32:00.597662Z",
     "shell.execute_reply": "2022-03-06T17:32:00.596801Z"
    }
   },
   "outputs": [
    {
     "data": {
      "text/plain": [
       "|95°C|95°C               |    |tmf:66.1\n",
       "|____|_____          72°C|72°C|tmr:65.0\n",
       "|3min|30s  \\ 56.0°C _____|____|45s/kb\n",
       "|    |      \\______/ 0:34|5min|GC 35%\n",
       "|    |       30s         |    |766bp"
      ]
     },
     "execution_count": 24,
     "metadata": {},
     "output_type": "execute_result"
    }
   ],
   "source": [
    "term.program()"
   ]
  }
 ],
 "metadata": {
  "language_info": {
   "codemirror_mode": {
    "name": "ipython",
    "version": 3
   },
   "file_extension": ".py",
   "mimetype": "text/x-python",
   "name": "python",
   "nbconvert_exporter": "python",
   "pygments_lexer": "ipython3",
   "version": "3.9.7"
  }
 },
 "nbformat": 4,
 "nbformat_minor": 5
}
