{
 "cells": [
  {
   "cell_type": "markdown",
   "metadata": {},
   "source": [
    "## FAS2 / YPL231W deletion with KanMX4\n",
    "\n",
    "[SGD](https://www.yeastgenome.org/locus/YPL231W)"
   ]
  },
  {
   "cell_type": "code",
   "execution_count": 37,
   "metadata": {},
   "outputs": [],
   "source": [
    "from pydna.readers import read\n",
    "from pydna.amplify import pcr\n",
    "from pydna.assembly import Assembly\n",
    "from pydna.primer import Primer\n",
    "from pydna.parsers import parse_primers"
   ]
  },
  {
   "cell_type": "code",
   "execution_count": 38,
   "metadata": {},
   "outputs": [],
   "source": [
    "gene = \"FAS2\""
   ]
  },
  {
   "cell_type": "code",
   "execution_count": 39,
   "metadata": {},
   "outputs": [],
   "source": [
    "if True == False:\n",
    "    from pygenome.saccharomyces_cerevisiae.S288C import gene_dicts\n",
    "    genes, stdgenes = gene_dicts()\n",
    "    g = stdgenes[gene]\n",
    "    promoter = g.promoter\n",
    "    terminator = g.terminator\n",
    "    promoter.stamp()\n",
    "    promoter.write(\"FAS2_promoter.gb\")\n",
    "    terminator = g.terminator\n",
    "    terminator.stamp()\n",
    "    terminator.write(\"FAS2_terminator.gb\")\n",
    "    locus = promoter + g.cds + terminator\n",
    "    locus.name = \"FAS2wt\"\n",
    "    locus.definition = \"S.c S288C FAS2 locus 2021-05-17\"\n",
    "    locus.stamp()\n",
    "    locus.write(\"FAS2_locus.gb\")"
   ]
  },
  {
   "cell_type": "code",
   "execution_count": 40,
   "metadata": {},
   "outputs": [],
   "source": [
    "promoter = read(\"FAS2_promoter.gb\")"
   ]
  },
  {
   "cell_type": "code",
   "execution_count": 41,
   "metadata": {},
   "outputs": [
    {
     "data": {
      "text/plain": [
       "2lBi7wCQxx42ZuGtm0SeAbJdy2A"
      ]
     },
     "execution_count": 41,
     "metadata": {},
     "output_type": "execute_result"
    }
   ],
   "source": [
    "promoter.seguid()"
   ]
  },
  {
   "cell_type": "code",
   "execution_count": 42,
   "metadata": {},
   "outputs": [],
   "source": [
    "assert promoter.seguid() == \"2lBi7wCQxx42ZuGtm0SeAbJdy2A\""
   ]
  },
  {
   "cell_type": "code",
   "execution_count": 43,
   "metadata": {},
   "outputs": [],
   "source": [
    "terminator = read(\"FAS2_terminator.gb\")"
   ]
  },
  {
   "cell_type": "code",
   "execution_count": 44,
   "metadata": {},
   "outputs": [
    {
     "data": {
      "text/plain": [
       "E6Obk0rQ88I6gRExwdWso99asEw"
      ]
     },
     "execution_count": 44,
     "metadata": {},
     "output_type": "execute_result"
    }
   ],
   "source": [
    "terminator.seguid()"
   ]
  },
  {
   "cell_type": "code",
   "execution_count": 45,
   "metadata": {},
   "outputs": [],
   "source": [
    "assert terminator.seguid() == \"E6Obk0rQ88I6gRExwdWso99asEw\""
   ]
  },
  {
   "cell_type": "code",
   "execution_count": 46,
   "metadata": {},
   "outputs": [],
   "source": [
    "locus = read(\"FAS2_locus.gb\")"
   ]
  },
  {
   "cell_type": "code",
   "execution_count": 47,
   "metadata": {},
   "outputs": [
    {
     "data": {
      "text/plain": [
       "5hZYxW-gsLS_VUguJjB7TOZFoOo"
      ]
     },
     "execution_count": 47,
     "metadata": {},
     "output_type": "execute_result"
    }
   ],
   "source": [
    "locus.seguid()"
   ]
  },
  {
   "cell_type": "code",
   "execution_count": 48,
   "metadata": {},
   "outputs": [],
   "source": [
    "assert locus.seguid() == \"5hZYxW-gsLS_VUguJjB7TOZFoOo\""
   ]
  },
  {
   "cell_type": "code",
   "execution_count": 49,
   "metadata": {},
   "outputs": [],
   "source": [
    "fp = Primer(promoter.seq.watson[-45:] + \"cagctgaagcttcgtacgc\")"
   ]
  },
  {
   "cell_type": "code",
   "execution_count": 50,
   "metadata": {},
   "outputs": [
    {
     "data": {
      "text/plain": [
       "Seq('AGACGTTTAAAGGGCTACAGCAACACCAATTGAAATACCATCATTcagctgaag...cgc')"
      ]
     },
     "execution_count": 50,
     "metadata": {},
     "output_type": "execute_result"
    }
   ],
   "source": [
    "fp.seq"
   ]
  },
  {
   "cell_type": "code",
   "execution_count": 51,
   "metadata": {},
   "outputs": [],
   "source": [
    "fp.id = f\"f_{gene}_kanmx4\""
   ]
  },
  {
   "cell_type": "code",
   "execution_count": 52,
   "metadata": {},
   "outputs": [
    {
     "name": "stdout",
     "output_type": "stream",
     "text": [
      "f_FAS2_kanmx4\tAGACGTTTAAAGGGCTACAGCAACACCAATTGAAATACCATCATTcagctgaagcttcgtacgc\n",
      "\n"
     ]
    }
   ],
   "source": [
    "print(fp.format(\"tab\"))"
   ]
  },
  {
   "cell_type": "code",
   "execution_count": 53,
   "metadata": {},
   "outputs": [],
   "source": [
    "rp = Primer( terminator.seq[:45].rc().watson + \"gcataggccactagtggatctg\" )"
   ]
  },
  {
   "cell_type": "code",
   "execution_count": 54,
   "metadata": {},
   "outputs": [],
   "source": [
    "rp.id = f\"r_{gene}_kanmx4\""
   ]
  },
  {
   "cell_type": "code",
   "execution_count": 55,
   "metadata": {},
   "outputs": [
    {
     "name": "stdout",
     "output_type": "stream",
     "text": [
      "r_FAS2_kanmx4\tAAGCGACACGTTACATATTAAAAGAGGGACTACGTAGTGCTCTCTgcataggccactagtggatctg\n",
      "\n"
     ]
    }
   ],
   "source": [
    "print(rp.format(\"tab\"))"
   ]
  },
  {
   "cell_type": "code",
   "execution_count": 56,
   "metadata": {},
   "outputs": [],
   "source": [
    "from pydna.genbank import genbank"
   ]
  },
  {
   "cell_type": "code",
   "execution_count": 57,
   "metadata": {},
   "outputs": [],
   "source": [
    "if True == False:\n",
    "    pUG6 = genbank(\"AF298793.1\")\n",
    "    pUG6.write(\"pUG6.gb\")\n",
    "pUG6 = read(\"pUG6.gb\")"
   ]
  },
  {
   "cell_type": "code",
   "execution_count": 58,
   "metadata": {},
   "outputs": [],
   "source": [
    "cas = pcr(fp, rp, pUG6)"
   ]
  },
  {
   "cell_type": "code",
   "execution_count": 59,
   "metadata": {},
   "outputs": [],
   "source": [
    "cas.name = \"KanMX4\""
   ]
  },
  {
   "cell_type": "code",
   "execution_count": 60,
   "metadata": {},
   "outputs": [],
   "source": [
    "asm = Assembly((locus, cas, locus))"
   ]
  },
  {
   "cell_type": "code",
   "execution_count": 61,
   "metadata": {},
   "outputs": [
    {
     "data": {
      "text/plain": [
       "Assembly\n",
       "fragments..: 7164bp 1703bp 7164bp\n",
       "limit(bp)..: 25\n",
       "G.nodes....: 4\n",
       "algorithm..: common_sub_strings"
      ]
     },
     "execution_count": 61,
     "metadata": {},
     "output_type": "execute_result"
    }
   ],
   "source": [
    "asm"
   ]
  },
  {
   "cell_type": "code",
   "execution_count": 62,
   "metadata": {},
   "outputs": [],
   "source": [
    "candidates = asm.assemble_linear()"
   ]
  },
  {
   "cell_type": "code",
   "execution_count": 63,
   "metadata": {},
   "outputs": [
    {
     "data": {
      "text/plain": [
       "[Contig(-3113), Contig(-3113)]"
      ]
     },
     "execution_count": 63,
     "metadata": {},
     "output_type": "execute_result"
    }
   ],
   "source": [
    "candidates"
   ]
  },
  {
   "cell_type": "code",
   "execution_count": 64,
   "metadata": {},
   "outputs": [],
   "source": [
    "candidate = candidates[0]"
   ]
  },
  {
   "cell_type": "code",
   "execution_count": 65,
   "metadata": {},
   "outputs": [],
   "source": [
    "deletion_locus = candidate"
   ]
  },
  {
   "cell_type": "code",
   "execution_count": 66,
   "metadata": {},
   "outputs": [],
   "source": [
    "deletion_locus.name = \"FAS2::KanMX4\""
   ]
  },
  {
   "cell_type": "code",
   "execution_count": 67,
   "metadata": {},
   "outputs": [],
   "source": [
    "deletion_locus.definition = \"S.c S288C FAS2::KanMX4 locus 2021-05-17\""
   ]
  },
  {
   "cell_type": "code",
   "execution_count": 68,
   "metadata": {},
   "outputs": [
    {
     "data": {
      "text/plain": [
       "SEGUID_3AvzA_jngayNQwbRkvEhC8C6dps"
      ]
     },
     "execution_count": 68,
     "metadata": {},
     "output_type": "execute_result"
    }
   ],
   "source": [
    "deletion_locus.stamp()"
   ]
  },
  {
   "cell_type": "code",
   "execution_count": 69,
   "metadata": {},
   "outputs": [
    {
     "data": {
      "text/plain": [
       "FAS2wt|45\n",
       "       \\/\n",
       "       /\\\n",
       "       45|KanMX4|45\n",
       "                 \\/\n",
       "                 /\\\n",
       "                 45|FAS2wt"
      ]
     },
     "execution_count": 69,
     "metadata": {},
     "output_type": "execute_result"
    }
   ],
   "source": [
    "deletion_locus.figure()"
   ]
  },
  {
   "cell_type": "code",
   "execution_count": 70,
   "metadata": {},
   "outputs": [
    {
     "data": {
      "text/plain": [
       "True"
      ]
     },
     "execution_count": 70,
     "metadata": {},
     "output_type": "execute_result"
    }
   ],
   "source": [
    "str(promoter.seq) in deletion_locus"
   ]
  },
  {
   "cell_type": "code",
   "execution_count": 71,
   "metadata": {},
   "outputs": [
    {
     "data": {
      "text/plain": [
       "True"
      ]
     },
     "execution_count": 71,
     "metadata": {},
     "output_type": "execute_result"
    }
   ],
   "source": [
    "str(terminator.seq)[:100] in deletion_locus"
   ]
  },
  {
   "cell_type": "code",
   "execution_count": 72,
   "metadata": {},
   "outputs": [],
   "source": [
    "p = {}\n",
    "\n",
    "p[1392], p[1391], p[700], p[701], p[1564] = parse_primers('''\n",
    "\n",
    ">1392_f_FAS2_kanmx4\n",
    "AGACGTTTAAAGGGCTACAGCAACACCAATTGAAATACCATCATTcagctgaagcttcgt\n",
    "acgc\n",
    "\n",
    ">1391_r_FAS2_kanmx4\n",
    "AAGCGACACGTTACATATTAAAAGAGGGACTACGTAGTGCTCTCTgcataggccactagt\n",
    "ggatctg\n",
    "\n",
    ">700_sc_fas2-B1: (25-mer)\n",
    "ATTTCTCTATGTAAAGACAGAGCAG\n",
    "\n",
    ">701_sc_fas2-A1: (25-mer)\n",
    "CTATATTTCTATTCTATCCGAACTC\n",
    "\n",
    ">1564_KANMX_rev\n",
    "CACTCGCATCAACCAAACC\n",
    "\n",
    "''')"
   ]
  },
  {
   "cell_type": "code",
   "execution_count": 73,
   "metadata": {},
   "outputs": [],
   "source": [
    "from pydna.parsers import parse_primers"
   ]
  },
  {
   "cell_type": "code",
   "execution_count": 74,
   "metadata": {},
   "outputs": [],
   "source": [
    "# p.assign_numbers_to_new_primers([fp, rp])"
   ]
  },
  {
   "cell_type": "code",
   "execution_count": 75,
   "metadata": {},
   "outputs": [],
   "source": [
    "assert fp.seq == p[1392].seq"
   ]
  },
  {
   "cell_type": "code",
   "execution_count": 76,
   "metadata": {},
   "outputs": [],
   "source": [
    "assert rp.seq == p[1391].seq"
   ]
  },
  {
   "cell_type": "markdown",
   "metadata": {},
   "source": [
    "### Wild-type locus sequence"
   ]
  },
  {
   "cell_type": "code",
   "execution_count": 77,
   "metadata": {
    "tags": []
   },
   "outputs": [
    {
     "data": {
      "text/plain": [
       "LOCUS       FAS2wt                  7164 bp    DNA     linear   UNK 01-JAN-1980\n",
       "DEFINITION  S.c S288C FAS2 locus 2021-05-17 SEGUID_5hZYxW-gsLS_VUguJjB7TOZFoOo.\n",
       "ACCESSION   id\n",
       "VERSION     id\n",
       "KEYWORDS    .\n",
       "SOURCE      \n",
       "  ORGANISM  .\n",
       "            .\n",
       "FEATURES             Location/Qualifiers\n",
       "     gene            46..5709\n",
       "                     /gene=\"FAS2\"\n",
       "                     /locus_tag=\"YPL231W\"\n",
       "     mRNA            46..5709\n",
       "                     /gene=\"FAS2\"\n",
       "                     /locus_tag=\"YPL231W\"\n",
       "                     /product=\"trifunctional fatty acid synthase subunit FAS2\"\n",
       "     CDS             46..5709\n",
       "                     /gene=\"FAS2\"\n",
       "                     /locus_tag=\"YPL231W\"\n",
       "                     /EC_number=\"1.1.1.100\"\n",
       "                     /EC_number=\"2.3.1.41\"\n",
       "                     /EC_number=\"2.3.1.86\"\n",
       "                     /experiment=\"EXISTENCE:direct assay:GO:0004316\n",
       "                     3-oxoacyl-[acyl-carrier-protein] reductase (NADPH) activity\n",
       "                     [PMID:365179]\"\n",
       "                     /experiment=\"EXISTENCE:direct assay:GO:0005739\n",
       "                     mitochondrion [PMID:14576278|PMID:16823961]\"\n",
       "                     /experiment=\"EXISTENCE:direct assay:GO:0005829 cytosol\n",
       "                     [PMID:6025308|PMID:26928762]\"\n",
       "                     /experiment=\"EXISTENCE:direct assay:GO:0005835 fatty acid\n",
       "                     synthase complex [PMID:65153]\"\n",
       "                     /experiment=\"EXISTENCE:mutant phenotype:GO:0004312 fatty\n",
       "                     acid synthase activity [PMID:65153]\"\n",
       "                     /experiment=\"EXISTENCE:mutant phenotype:GO:0004315\n",
       "                     3-oxoacyl-[acyl-carrier-protein] synthase activity\n",
       "                     [PMID:1100391]\"\n",
       "                     /experiment=\"EXISTENCE:mutant phenotype:GO:0008897\n",
       "                     holo-[acyl-carrier-protein] synthase activity\n",
       "                     [PMID:10785388]\"\n",
       "                     /experiment=\"EXISTENCE:mutant phenotype:GO:0042759\n",
       "                     long-chain fatty acid biosynthetic process [PMID:1735446]\"\n",
       "                     /note=\"Alpha subunit of fatty acid synthetase; complex\n",
       "                     catalyzes the synthesis of long-chain saturated fatty\n",
       "                     acids; contains the acyl-carrier protein domain and\n",
       "                     beta-ketoacyl reductase, beta-ketoacyl synthase and\n",
       "                     self-pantetheinylation activities\"\n",
       "                     /codon_start=1\n",
       "                     /product=\"trifunctional fatty acid synthase subunit FAS2\"\n",
       "                     /protein_id=\"DAA11205.1\"\n",
       "                     /db_xref=\"SGD:S000006152\"\n",
       "                     /translation=\"MKPEVEQELAHILLTELLAYQFASPVRWIETQDVFLKDFNTERVV\n",
       "                     EIGPSPTLAGMAQRTLKNKYESYDAALSLHREILCYSKDAKEIYYTPDPSELAAKEEPA\n",
       "                     KEEAPAPTPAASAPAPAAAAPAPVAAAAPAAAAAEIADEPVKASLLLHVLVAHKLKKSL\n",
       "                     DSIPMSKTIKDLVGGKSTVQNEILGDLGKEFGTTPEKPEETPLEELAETFQDTFSGALG\n",
       "                     KQSSSLLSRLISSKMPGGFTITVARKYLQTRWGLPSGRQDGVLLVALSNEPAARLGSEA\n",
       "                     DAKAFLDSMAQKYASIVGVDLSSAASASGAAGAGAAAGAAMIDAGALEEITKDHKVLAR\n",
       "                     QQLQVLARYLKMDLDNGERKFLKEKDTVAELQAQLDYLNAELGEFFVNGVATSFSRKKA\n",
       "                     RTFDSSWNWAKQSLLSLYFEIIHGVLKNVDREVVSEAINIMNRSNDALIKFMEYHISNT\n",
       "                     DETKGENYQLVKTLGEQLIENCKQVLDVDPVYKDVAKPTGPKTAIDKNGNITYSEEPRE\n",
       "                     KVRKLSQYVQEMALGGPITKESQPTIEEDLTRVYKAISAQADKQDISSSTRVEFEKLYS\n",
       "                     DLMKFLESSKEIDPSQTTQLAGMDVEDALDKDSTKEVASLPNKSTISKTVSSTIPRETI\n",
       "                     PFLHLRKKTPAGDWKYDRQLSSLFLDGLEKAAFNGVTFKDKYVLITGAGKGSIGAEVLQ\n",
       "                     GLLQGGAKVVVTTSRFSKQVTDYYQSIYAKYGAKGSTLIVVPFNQGSKQDVEALIEFIY\n",
       "                     DTEKNGGLGWDLDAIIPFAAIPEQGIELEHIDSKSEFAHRIMLTNILRMMGCVKKQKSA\n",
       "                     RGIETRPAQVILPMSPNHGTFGGDGMYSESKLSLETLFNRWHSESWANQLTVCGAIIGW\n",
       "                     TRGTGLMSANNIIAEGIEKMGVRTFSQKEMAFNLLGLLTPEVVELCQKSPVMADLNGGL\n",
       "                     QFVPELKEFTAKLRKELVETSEVRKAVSIETALEHKVVNGNSADAAYAQVEIQPRANIQ\n",
       "                     LDFPELKPYKQVKQIAPAELEGLLDLERVIVVTGFAEVGPWGSARTRWEMEAFGEFSLE\n",
       "                     GCVEMAWIMGFISYHNGNLKGRPYTGWVDSKTKEPVDDKDVKAKYETSILEHSGIRLIE\n",
       "                     PELFNGYNPEKKEMIQEVIVEEDLEPFEASKETAEQFKHQHGDKVDIFEIPETGEYSVK\n",
       "                     LLKGATLYIPKALRFDRLVAGQIPTGWNAKTYGISDDIISQVDPITLFVLVSVVEAFIA\n",
       "                     SGITDPYEMYKYVHVSEVGNCSGSGMGGVSALRGMFKDRFKDEPVQNDILQESFINTMS\n",
       "                     AWVNMLLISSSGPIKTPVGACATSVESVDIGVETILSGKARICIVGGYDDFQEEGSFEF\n",
       "                     GNMKATSNTLEEFEHGRTPAEMSRPATTTRNGFMEAQGAGIQIIMQADLALKMGVPIYG\n",
       "                     IVAMAATATDKIGRSVPAPGKGILTTAREHHSSVKYASPNLNMKYRKRQLVTREAQIKD\n",
       "                     WVENELEALKLEAEEIPSEDQNEFLLERTREIHNEAESQLRAAQQQWGNDFYKRDPRIA\n",
       "                     PLRGALATYGLTIDDLGVASFHGTSTKANDKNESATINEMMKHLGRSEGNPVIGVFQKF\n",
       "                     LTGHPKGAAGAWMMNGALQILNSGIIPGNRNADNVDKILEQFEYVLYPSKTLKTDGVRA\n",
       "                     VSITSFGFGQKGGQAIVVHPDYLYGAITEDRYNEYVAKVSAREKSAYKFFHNGMIYNKL\n",
       "                     FVSKEHAPYTDELEEDVYLDPLARVSKDKKSGSLTFNSKNIQSKDSYINANTIETAKMI\n",
       "                     ENMTKEKVSNGGVGVDVELITSINVENDTFIERNFTPQEIEYCSAQPSVQSSFAGTWSA\n",
       "                     KEAVFKSLGVKSLGGGAALKDIEIVRVNKNAPAVELHGNAKKAAEEAGVTDVKVSISHD\n",
       "                     DLQAVAVAVSTKK\"\n",
       "ORIGIN\n",
       "        1 ttccaactat tttctatatt tctattctat ccgaactccc cttttgtata tcaatatatc\n",
       "       61 ttaatacttt cgcctattct ttactatatt tcctaaattt tctctggtct gcaggccaaa\n",
       "      121 aacaacaact tactactgaa tcatggacgt gtatttagtt tagccaagca atatttaaat\n",
       "      181 atcactcttc ctaaaaatac attgggcatt acccgcaaac taacccatcg cttagcaaaa\n",
       "      241 tccaaccatt ttttttttat ctcccgcgtt ttcacatgct acctcattcg cctcgtaacg\n",
       "      301 ttacgaccga aatctcacta aggcacggtt tgttgggcag tttacagatg ttggataacc\n",
       "      361 agttgtttct aaacggttat gcctcatata taacttgtta actgaaggtt acacaagacc\n",
       "      421 acatcaccac tgtcgtgctt ttctaataac cgctatatta gacgtttaaa gggctacagc\n",
       "      481 aacaccaatt gaaataccat cattatgaag ccggaagttg agcaagaatt agctcatatt\n",
       "      541 ttgctaactg aattgttagc ttatcaattt gcctctcctg tgagatggat tgaaactcaa\n",
       "      601 gatgtttttt tgaaggattt taacactgaa agggttgttg aaatcggtcc ttctccaact\n",
       "      661 ttggctggga tggctcaaag aaccttgaag aataaatacg aatcttacga tgctgctctg\n",
       "      721 tctttacata gagaaatctt atgctattcg aaggatgcca aagagattta ttatacccca\n",
       "      781 gatccatccg aactagctgc aaaggaagag cccgctaagg aagaagctcc tgctccaact\n",
       "      841 ccagctgcta gtgctcctgc tcctgcagca gcagccccag ctcccgtcgc ggcagcagcc\n",
       "      901 ccagctgcag cagctgctga gattgccgat gaacctgtca aggcttccct attgttgcac\n",
       "      961 gttttggttg ctcacaagtt gaagaagtcg ttagattcca ttccaatgtc caagacaatc\n",
       "     1021 aaagacttgg tcggtggtaa atctacagtc caaaatgaaa ttttgggtga tttaggtaaa\n",
       "     1081 gaatttggta ctactcctga aaaaccagaa gaaactccat tagaagaatt ggcagaaact\n",
       "     1141 ttccaagata ccttctctgg agcattgggt aagcaatctt cctcgttatt atcaagatta\n",
       "     1201 atctcatcta agatgcctgg tgggtttact attactgtcg ctagaaaata cttacaaact\n",
       "     1261 cgctggggac taccatctgg tagacaagat ggtgtccttt tggtagcttt atctaacgag\n",
       "     1321 cctgctgctc gtctaggttc tgaagctgat gccaaggctt tcttggactc catggctcaa\n",
       "     1381 aaatacgctt ccattgttgg tgttgactta tcatcagctg ctagcgctag tggtgctgcc\n",
       "     1441 ggtgcaggtg ctgctgccgg tgcagctatg atcgatgctg gcgctctgga agaaataacc\n",
       "     1501 aaagaccaca aggttttggc gcgtcaacaa ctgcaagtat tggctcgtta tctaaaaatg\n",
       "     1561 gacttggata acggtgaaag aaagttcttg aaagaaaagg acactgttgc tgaacttcaa\n",
       "     1621 gctcagttgg attacttgaa tgccgaatta ggtgaattct ttgttaacgg tgttgctact\n",
       "     1681 tctttctcta gaaaaaaggc cagaaccttc gattcttcct ggaactgggc taaacaatct\n",
       "     1741 ttattatcat tatactttga gataattcat ggtgtcttga aaaacgttga tagagaggtt\n",
       "     1801 gttagtgaag ctatcaatat catgaacaga tctaacgatg ctttgattaa attcatggaa\n",
       "     1861 taccatatct ctaacactga tgaaacaaaa ggtgaaaact atcaattggt taaaactctt\n",
       "     1921 ggtgagcagt tgattgaaaa ctgtaaacaa gttttggatg ttgatccagt ttacaaagat\n",
       "     1981 gttgctaagc ctaccggtcc aaaaactgct attgacaaga acggtaacat tacatactca\n",
       "     2041 gaagagccaa gagaaaaggt taggaaatta tctcaatacg tacaagaaat ggcccttggt\n",
       "     2101 ggtccaatca ccaaagaatc tcaacctact attgaagagg atttgactcg tgtttacaag\n",
       "     2161 gcaatcagtg ctcaagctga taaacaagat atttccagct ccaccagggt tgaatttgaa\n",
       "     2221 aaactatata gtgatttgat gaagttcttg gaaagctcca aagaaatcga tccttctcaa\n",
       "     2281 acaacccaat tggccggtat ggatgttgag gatgctttgg acaaagattc caccaaagaa\n",
       "     2341 gttgcttctt tgccaaacaa atctaccatt tctaagacgg tatcttcaac tattccaaga\n",
       "     2401 gaaactattc cgttcttaca tttgagaaag aagactcctg ccggagattg gaaatatgac\n",
       "     2461 cgccaattgt cttctctttt cttagatggt ttagaaaagg ctgccttcaa cggtgtcacc\n",
       "     2521 ttcaaggaca aatacgtctt gatcactggt gctggtaagg gttctattgg tgctgaagtc\n",
       "     2581 ttgcaaggtt tgttacaagg tggtgctaag gttgttgtta ccacctctcg tttctctaag\n",
       "     2641 caagttacag actactacca atccatttac gccaaatatg gtgctaaggg ttctactttg\n",
       "     2701 attgttgttc cattcaacca aggttctaag caagacgttg aagctttgat tgaatttatc\n",
       "     2761 tacgacactg aaaagaatgg tggtttaggt tgggatctag atgctattat tccattcgcg\n",
       "     2821 gccattccag aacaaggtat tgaattagaa catattgatt ctaagtctga atttgctcat\n",
       "     2881 agaatcatgt tgaccaatat cttaagaatg atgggttgtg tcaagaagca aaaatctgca\n",
       "     2941 agaggtattg aaacaagacc agctcaagtc attctaccaa tgtctccaaa ccatggtact\n",
       "     3001 ttcggtggtg atggtatgta ttcagaatcc aagttgtctt tggaaacttt gttcaacaga\n",
       "     3061 tggcactctg aatcctgggc caatcaatta accgtttgcg gtgctattat tggttggact\n",
       "     3121 agaggtactg gtttaatgag cgctaataac atcattgctg aaggcattga aaagatgggt\n",
       "     3181 gttcgtactt tctctcaaaa ggaaatggct ttcaacttat tgggtctatt gactccagaa\n",
       "     3241 gtcgtagaat tgtgccaaaa atcacctgtt atggctgact tgaatggtgg tttgcaattt\n",
       "     3301 gttcctgaat tgaaggaatt cactgctaaa ttgcgtaaag agttggttga aacttctgaa\n",
       "     3361 gttagaaagg cagtttccat cgaaactgct ttggagcata aggttgtcaa tggcaatagc\n",
       "     3421 gctgatgctg catatgctca agtcgaaatt caaccaagag ctaacattca actggacttc\n",
       "     3481 ccagaattga aaccatacaa acaggttaaa caaattgctc ccgctgagct tgaaggtttg\n",
       "     3541 ttggatttgg aaagagttat tgtagttacc ggttttgctg aagtcggccc atggggttcg\n",
       "     3601 gccagaacaa gatgggaaat ggaagctttt ggtgaatttt cgttggaagg ttgcgttgaa\n",
       "     3661 atggcctgga ttatgggctt catttcatac cataacggta atttgaaggg tcgtccatac\n",
       "     3721 actggttggg ttgattccaa aacaaaagaa ccagttgatg acaaggacgt taaggccaag\n",
       "     3781 tatgaaacat caatcctaga acacagtggt atcagattga tcgaaccaga gttattcaat\n",
       "     3841 ggttacaacc cagaaaagaa ggaaatgatt caagaagtca ttgtcgaaga agacttggaa\n",
       "     3901 ccatttgagg cttcgaagga aactgccgaa caatttaaac accaacatgg tgacaaagtg\n",
       "     3961 gatatcttcg aaatcccaga aacaggagag tactctgtta agttactaaa gggtgccact\n",
       "     4021 ttatacattc caaaggcttt gagatttgac cgtttggttg caggtcaaat tccaactggt\n",
       "     4081 tggaatgcta agacttatgg tatctctgat gatatcattt ctcaggttga cccaatcaca\n",
       "     4141 ttattcgttt tggtctctgt tgtggaagca tttattgcat ctggtatcac cgacccatac\n",
       "     4201 gaaatgtaca aatacgtaca tgtttctgag gttggtaact gttctggttc tggtatgggt\n",
       "     4261 ggtgtttctg ccttacgtgg tatgtttaag gaccgtttca aggatgagcc tgtccaaaat\n",
       "     4321 gatattttac aagaatcatt tatcaacacc atgtccgctt gggttaatat gttgttgatt\n",
       "     4381 tcctcatctg gtccaatcaa gacacctgtt ggtgcctgtg ccacatccgt ggaatctgtt\n",
       "     4441 gacattggtg tagaaaccat cttgtctggt aaggctagaa tctgtattgt cggtggttac\n",
       "     4501 gatgatttcc aagaagaagg ctcctttgag ttcggtaaca tgaaggccac ttccaacact\n",
       "     4561 ttggaagaat ttgaacatgg tcgtacccca gcggaaatgt ccagacctgc caccactacc\n",
       "     4621 cgtaacggtt ttatggaagc tcaaggtgct ggtattcaaa tcatcatgca agctgattta\n",
       "     4681 gctttgaaga tgggtgtgcc aatttacggt attgttgcca tggctgctac cgccaccgat\n",
       "     4741 aagattggta gatctgtgcc agctccaggt aagggtattt taaccactgc tcgtgaacac\n",
       "     4801 cactccagtg ttaagtatgc ttcaccaaac ttgaacatga agtacagaaa gcgccaattg\n",
       "     4861 gttactcgtg aagctcagat taaagattgg gtagaaaacg aattggaagc tttgaagttg\n",
       "     4921 gaggccgaag aaattccaag cgaagaccaa aacgagttct tacttgaacg taccagagaa\n",
       "     4981 atccacaacg aagctgaaag tcaattgaga gctgcacaac aacaatgggg taacgacttc\n",
       "     5041 tacaagaggg acccacgtat tgctccattg agaggagcac tggctactta cggtttaact\n",
       "     5101 attgatgact tgggtgtcgc ttcattccac ggtacatcca caaaggctaa tgacaagaac\n",
       "     5161 gaatctgcca caattaatga aatgatgaag catttgggta gatctgaagg taatcccgtc\n",
       "     5221 attggtgttt tccaaaagtt cttgactggt catccaaagg gtgctgctgg tgcatggatg\n",
       "     5281 atgaatggtg ctttgcaaat tctaaacagt ggtattattc caggtaaccg taacgctgat\n",
       "     5341 aacgtggata agatcttgga gcaatttgaa tacgtcttgt acccatccaa gactttaaag\n",
       "     5401 accgacggtg tcagagccgt gtccatcact tctttcggtt ttggtcaaaa gggtggtcaa\n",
       "     5461 gctattgtgg ttcatccaga ctacttatac ggtgctatca ctgaagacag atacaacgag\n",
       "     5521 tatgtcgcca aggttagtgc cagagagaaa agtgcctaca aattcttcca taatggtatg\n",
       "     5581 atctacaaca agttgttcgt aagtaaagag catgctccat acactgatga attggaagag\n",
       "     5641 gatgtttact tggacccatt agcccgtgta tctaaggata agaaatcagg ctccttgact\n",
       "     5701 ttcaactcta aaaacatcca aagcaaggac agttacatca atgctaacac cattgaaact\n",
       "     5761 gccaagatga ttgaaaacat gaccaaggag aaagtctcta acggtggcgt cggtgtagat\n",
       "     5821 gttgaattaa tcactagcat caacgttgaa aatgatactt ttatcgagcg caatttcacc\n",
       "     5881 ccgcaagaaa tagagtactg cagcgcgcag cctagtgtgc aaagctcttt cgctgggaca\n",
       "     5941 tggtccgcca aagaggctgt tttcaagtcc ttaggcgtca agtccttagg cggtggtgct\n",
       "     6001 gcattgaaag acatcgaaat cgtacgcgtt aacaaaaacg ctccagccgt tgaactgcac\n",
       "     6061 ggtaacgcca aaaaggctgc cgaagaagct ggtgttaccg atgtgaaggt atctatttct\n",
       "     6121 cacgatgacc tccaagctgt cgcggtcgcc gtttctacta agaaatagag agagcactac\n",
       "     6181 gtagtccctc ttttaatatg taacgtgtcg cttctattta tcagacataa tagtaattac\n",
       "     6241 tttgttattt ttctatcgtt tccttacttt agcctctgat ttcgatctgg cctaatcatt\n",
       "     6301 gtgtacgtct ataatcatat ggccctgagc gtacacaccg ttcaattctt ctatttggtc\n",
       "     6361 ggcccacaca aattcgcgcg ggggcatatt gacgcgtgga agaatagaag tccgcgtagc\n",
       "     6421 agctctgggg taattaggct tttacgatat cggctggccc agcaccggtt tttattcctc\n",
       "     6481 ccgtggttgt tgtctctacc gtgaggaggg gaaagggtca gggacggccg gtagttatgt\n",
       "     6541 tgtctcaacg attactgcca tctattgttt acaccaatcg cgtggggcaa ggggctggaa\n",
       "     6601 ggctgtggtg tacagaatag ggtctaatac ccgatgcgcg acgctcctgc gactggttgt\n",
       "     6661 gtgagccacc ccttgatcgc ctctgccaaa tactcaggga agagaaaaat cgcgaaggtg\n",
       "     6721 gacgagtgcc cttaaagaac cagcatcctc gatcgccgct gccgttcgcc ctggcttagc\n",
       "     6781 ggtgggaagc atcctttggc tttcgaattc tccgccgttg agtcccccta agggccttat\n",
       "     6841 ttatcccctc tatttttttt tagaaaatgt tttctttttc aagatttgtt tgctccttca\n",
       "     6901 cggcttcccc cttaaccgtt caacagtctt ccgtatataa caatctcaat ccactcttat\n",
       "     6961 tgcctataat tttgattaat tcttattcat cccggcagat aaagtttcgt cttgttttga\n",
       "     7021 aagagacagg agttcttggc tgcagtattt tgcaacagct tcattaacca tgtatgtaaa\n",
       "     7081 gaaaaaatct ggagcgactt actggcttag ctttttttac taacacataa ataatactgt\n",
       "     7141 gataagataa gaaaaaaaca cgaa\n",
       "//"
      ]
     },
     "execution_count": 77,
     "metadata": {},
     "output_type": "execute_result"
    }
   ],
   "source": [
    "locus.format()"
   ]
  },
  {
   "cell_type": "markdown",
   "metadata": {},
   "source": [
    "### Deletion locus sequence"
   ]
  },
  {
   "cell_type": "code",
   "execution_count": 78,
   "metadata": {
    "tags": []
   },
   "outputs": [
    {
     "data": {
      "text/plain": [
       "LOCUS       FAS2::KanMX4            3113 bp    DNA     linear   UNK 01-JAN-1980\n",
       "DEFINITION  S.c S288C FAS2::KanMX4 locus 2021-05-17\n",
       "            SEGUID_3AvzA_jngayNQwbRkvEhC8C6dps.\n",
       "ACCESSION   id\n",
       "VERSION     id\n",
       "KEYWORDS    .\n",
       "SOURCE      .\n",
       "  ORGANISM  .\n",
       "            .\n",
       "FEATURES             Location/Qualifiers\n",
       "     primer_bind     505..523\n",
       "                     /label=\"name\"\n",
       "                     /ApEinfo_fwdcolor=\"#baffa3\"\n",
       "                     /ApEinfo_revcolor=\"#ffbaba\"\n",
       "     misc_feature    545..578\n",
       "                     /note=\"loxP site\"\n",
       "     regulatory      579..976\n",
       "                     /regulatory_class=\"promoter\"\n",
       "                     /note=\"from TEF\"\n",
       "     gene            977..1786\n",
       "                     /gene=\"kanMX\"\n",
       "     CDS             977..1786\n",
       "                     /gene=\"kanMX\"\n",
       "                     /codon_start=1\n",
       "                     /transl_table=11\n",
       "                     /product=\"geneticin resistance protein\"\n",
       "                     /protein_id=\"AAG34543.1\"\n",
       "                     /translation=\"MGKEKTHVSRPRLNSNMDADLYGYKWARDNVGQSGATIYRLYGKP\n",
       "                     DAPELFLKHGKGSVANDVTDEMVRLNWLTEFMPLPTIKHFIRTPDDAWLLTTAIPGKTA\n",
       "                     FQVLEEYPDSGENIVDALAVFLRRLHSIPVCNCPFNSDRVFRLAQAQSRMNNGLVDASD\n",
       "                     FDDERNGWPVEQVWKEMHKLLPFSPDSVVTHGDFSLDNLIFDEGKLIGCIDVGRVGIAD\n",
       "                     RYQDLAILWNCLGEFSPSLQKRLFQKYGIDNPDMNKLQFHLMLDEFF\"\n",
       "     regulatory      1787..2051\n",
       "                     /regulatory_class=\"terminator\"\n",
       "                     /note=\"from TEF\"\n",
       "     misc_feature    2052..2085\n",
       "                     /note=\"loxP site\"\n",
       "     primer_bind     complement(2096..2117)\n",
       "                     /label=\"name\"\n",
       "                     /ApEinfo_fwdcolor=\"#baffa3\"\n",
       "                     /ApEinfo_revcolor=\"#ffbaba\"\n",
       "ORIGIN\n",
       "        1 ttccaactat tttctatatt tctattctat ccgaactccc cttttgtata tcaatatatc\n",
       "       61 ttaatacttt cgcctattct ttactatatt tcctaaattt tctctggtct gcaggccaaa\n",
       "      121 aacaacaact tactactgaa tcatggacgt gtatttagtt tagccaagca atatttaaat\n",
       "      181 atcactcttc ctaaaaatac attgggcatt acccgcaaac taacccatcg cttagcaaaa\n",
       "      241 tccaaccatt ttttttttat ctcccgcgtt ttcacatgct acctcattcg cctcgtaacg\n",
       "      301 ttacgaccga aatctcacta aggcacggtt tgttgggcag tttacagatg ttggataacc\n",
       "      361 agttgtttct aaacggttat gcctcatata taacttgtta actgaaggtt acacaagacc\n",
       "      421 acatcaccac tgtcgtgctt ttctaataac cgctatatta gacgtttaaa gggctacagc\n",
       "      481 aacaccaatt gaaataccat cattcagctg aagcttcgta cgctgcaggt cgacaaccct\n",
       "      541 taatataact tcgtataatg tatgctatac gaagttatta ggtctagaga tctgtttagc\n",
       "      601 ttgcctcgtc cccgccgggt cacccggcca gcgacatgga ggcccagaat accctccttg\n",
       "      661 acagtcttga cgtgcgcagc tcaggggcat gatgtgactg tcgcccgtac atttagccca\n",
       "      721 tacatcccca tgtataatca tttgcatcca tacattttga tggccgcacg gcgcgaagca\n",
       "      781 aaaattacgg ctcctcgctg cagacctgcg agcagggaaa cgctcccctc acagacgcgt\n",
       "      841 tgaattgtcc ccacgccgcg cccctgtaga gaaatataaa aggttaggat ttgccactga\n",
       "      901 ggttcttctt tcatatactt ccttttaaaa tcttgctagg atacagttct cacatcacat\n",
       "      961 ccgaacataa acaaccatgg gtaaggaaaa gactcacgtt tcgaggccgc gattaaattc\n",
       "     1021 caacatggat gctgatttat atgggtataa atgggctcgc gataatgtcg ggcaatcagg\n",
       "     1081 tgcgacaatc tatcgattgt atgggaagcc cgatgcgcca gagttgtttc tgaaacatgg\n",
       "     1141 caaaggtagc gttgccaatg atgttacaga tgagatggtc agactaaact ggctgacgga\n",
       "     1201 atttatgcct cttccgacca tcaagcattt tatccgtact cctgatgatg catggttact\n",
       "     1261 caccactgcg atccccggca aaacagcatt ccaggtatta gaagaatatc ctgattcagg\n",
       "     1321 tgaaaatatt gttgatgcgc tggcagtgtt cctgcgccgg ttgcattcga ttcctgtttg\n",
       "     1381 taattgtcct tttaacagcg atcgcgtatt tcgtctcgct caggcgcaat cacgaatgaa\n",
       "     1441 taacggtttg gttgatgcga gtgattttga tgacgagcgt aatggctggc ctgttgaaca\n",
       "     1501 agtctggaaa gaaatgcata agcttttgcc attctcaccg gattcagtcg tcactcatgg\n",
       "     1561 tgatttctca cttgataacc ttatttttga cgaggggaaa ttaataggtt gtattgatgt\n",
       "     1621 tggacgagtc ggaatcgcag accgatacca ggatcttgcc atcctatgga actgcctcgg\n",
       "     1681 tgagttttct ccttcattac agaaacggct ttttcaaaaa tatggtattg ataatcctga\n",
       "     1741 tatgaataaa ttgcagtttc atttgatgct cgatgagttt ttctaatcag tactgacaat\n",
       "     1801 aaaaagattc ttgttttcaa gaacttgtca tttgtatagt ttttttatat tgtagttgtt\n",
       "     1861 ctattttaat caaatgttag cgtgatttat attttttttc gcctcgacat catctgccca\n",
       "     1921 gatgcgaagt taagtgcgca gaaagtaata tcatgcgtca atcgtatgtg aatgctggtc\n",
       "     1981 gctatactgc tgtcgattcg atactaacgc cgccatccag tgtcgaaaac gagctctcga\n",
       "     2041 gaacccttaa tataacttcg tataatgtat gctatacgaa gttattaggt gatatcagat\n",
       "     2101 ccactagtgg cctatgcaga gagcactacg tagtccctct tttaatatgt aacgtgtcgc\n",
       "     2161 ttctatttat cagacataat agtaattact ttgttatttt tctatcgttt ccttacttta\n",
       "     2221 gcctctgatt tcgatctggc ctaatcattg tgtacgtcta taatcatatg gccctgagcg\n",
       "     2281 tacacaccgt tcaattcttc tatttggtcg gcccacacaa attcgcgcgg gggcatattg\n",
       "     2341 acgcgtggaa gaatagaagt ccgcgtagca gctctggggt aattaggctt ttacgatatc\n",
       "     2401 ggctggccca gcaccggttt ttattcctcc cgtggttgtt gtctctaccg tgaggagggg\n",
       "     2461 aaagggtcag ggacggccgg tagttatgtt gtctcaacga ttactgccat ctattgttta\n",
       "     2521 caccaatcgc gtggggcaag gggctggaag gctgtggtgt acagaatagg gtctaatacc\n",
       "     2581 cgatgcgcga cgctcctgcg actggttgtg tgagccaccc cttgatcgcc tctgccaaat\n",
       "     2641 actcagggaa gagaaaaatc gcgaaggtgg acgagtgccc ttaaagaacc agcatcctcg\n",
       "     2701 atcgccgctg ccgttcgccc tggcttagcg gtgggaagca tcctttggct ttcgaattct\n",
       "     2761 ccgccgttga gtccccctaa gggccttatt tatcccctct attttttttt agaaaatgtt\n",
       "     2821 ttctttttca agatttgttt gctccttcac ggcttccccc ttaaccgttc aacagtcttc\n",
       "     2881 cgtatataac aatctcaatc cactcttatt gcctataatt ttgattaatt cttattcatc\n",
       "     2941 ccggcagata aagtttcgtc ttgttttgaa agagacagga gttcttggct gcagtatttt\n",
       "     3001 gcaacagctt cattaaccat gtatgtaaag aaaaaatctg gagcgactta ctggcttagc\n",
       "     3061 tttttttact aacacataaa taatactgtg ataagataag aaaaaaacac gaa\n",
       "//"
      ]
     },
     "execution_count": 78,
     "metadata": {},
     "output_type": "execute_result"
    }
   ],
   "source": [
    "deletion_locus.format()"
   ]
  },
  {
   "cell_type": "code",
   "execution_count": 79,
   "metadata": {},
   "outputs": [],
   "source": [
    "colony1 = pcr(p[700], p[701], p[1564], locus)"
   ]
  },
  {
   "cell_type": "code",
   "execution_count": 80,
   "metadata": {},
   "outputs": [
    {
     "data": {
      "text/plain": [
       "724"
      ]
     },
     "execution_count": 80,
     "metadata": {},
     "output_type": "execute_result"
    }
   ],
   "source": [
    "len(colony1)"
   ]
  },
  {
   "cell_type": "code",
   "execution_count": 81,
   "metadata": {},
   "outputs": [
    {
     "data": {
      "text/plain": [
       "5CTATATTTCTATTCTATCCGAACTC...CTGCTCTGTCTTTACATAGAGAAAT3\n",
       "                             |||||||||||||||||||||||||\n",
       "                            3GACGAGACAGAAATGTATCTCTTTA5\n",
       "5CTATATTTCTATTCTATCCGAACTC3\n",
       " |||||||||||||||||||||||||\n",
       "3GATATAAAGATAAGATAGGCTTGAG...GACGAGACAGAAATGTATCTCTTTA5"
      ]
     },
     "execution_count": 81,
     "metadata": {},
     "output_type": "execute_result"
    }
   ],
   "source": [
    "colony1.figure()"
   ]
  },
  {
   "cell_type": "code",
   "execution_count": 82,
   "metadata": {},
   "outputs": [
    {
     "data": {
      "text/plain": [
       "|95°C|95°C               |    |tmf:56.7\n",
       "|____|_____          72°C|72°C|tmr:59.5\n",
       "|3min|30s  \\ 54.1°C _____|____|45s/kb\n",
       "|    |      \\______/ 0:32|5min|GC 37%\n",
       "|    |       30s         |    |724bp"
      ]
     },
     "execution_count": 82,
     "metadata": {},
     "output_type": "execute_result"
    }
   ],
   "source": [
    "colony1.program()"
   ]
  },
  {
   "cell_type": "code",
   "execution_count": 83,
   "metadata": {},
   "outputs": [],
   "source": [
    "colony2 = pcr(p[700], p[701], p[1564], deletion_locus)"
   ]
  },
  {
   "cell_type": "code",
   "execution_count": 84,
   "metadata": {},
   "outputs": [
    {
     "data": {
      "text/plain": [
       "1450"
      ]
     },
     "execution_count": 84,
     "metadata": {},
     "output_type": "execute_result"
    }
   ],
   "source": [
    "len(colony2)"
   ]
  },
  {
   "cell_type": "code",
   "execution_count": 85,
   "metadata": {},
   "outputs": [
    {
     "data": {
      "text/plain": [
       "5CTATATTTCTATTCTATCCGAACTC...GGTTTGGTTGATGCGAGTG3\n",
       "                             |||||||||||||||||||\n",
       "                            3CCAAACCAACTACGCTCAC5\n",
       "5CTATATTTCTATTCTATCCGAACTC3\n",
       " |||||||||||||||||||||||||\n",
       "3GATATAAAGATAAGATAGGCTTGAG...CCAAACCAACTACGCTCAC5"
      ]
     },
     "execution_count": 85,
     "metadata": {},
     "output_type": "execute_result"
    }
   ],
   "source": [
    "colony2.figure()"
   ]
  },
  {
   "cell_type": "code",
   "execution_count": 86,
   "metadata": {},
   "outputs": [
    {
     "data": {
      "text/plain": [
       "|95°C|95°C               |    |tmf:56.7\n",
       "|____|_____          72°C|72°C|tmr:61.5\n",
       "|3min|30s  \\ 56.4°C _____|____|45s/kb\n",
       "|    |      \\______/ 1:05|5min|GC 44%\n",
       "|    |       30s         |    |1450bp"
      ]
     },
     "execution_count": 86,
     "metadata": {},
     "output_type": "execute_result"
    }
   ],
   "source": [
    "colony2.program()"
   ]
  },
  {
   "cell_type": "code",
   "execution_count": 87,
   "metadata": {},
   "outputs": [],
   "source": [
    "# p.pydna_code_from_accessed()"
   ]
  }
 ],
 "metadata": {
  "anaconda-cloud": {},
  "kernelspec": {
   "display_name": "Python [conda env:bjorn39]",
   "language": "python",
   "name": "conda-env-bjorn39-py"
  },
  "language_info": {
   "codemirror_mode": {
    "name": "ipython",
    "version": 3
   },
   "file_extension": ".py",
   "mimetype": "text/x-python",
   "name": "python",
   "nbconvert_exporter": "python",
   "pygments_lexer": "ipython3",
   "version": "3.9.7"
  }
 },
 "nbformat": 4,
 "nbformat_minor": 4
}
