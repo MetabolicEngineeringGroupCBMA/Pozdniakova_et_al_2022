{
 "cells": [
  {
   "cell_type": "markdown",
   "metadata": {},
   "source": [
    "## FAS1 / YKL182W deletion with KanMX4\n",
    "\n",
    "[SGD](https://www.yeastgenome.org/locus/YKL182W)"
   ]
  },
  {
   "cell_type": "code",
   "execution_count": 1,
   "metadata": {},
   "outputs": [],
   "source": [
    "from pydna.readers import read\n",
    "from pydna.amplify import pcr\n",
    "from pydna.assembly import Assembly\n",
    "from pydna.primer import Primer\n",
    "from pydna.parsers import parse_primers"
   ]
  },
  {
   "cell_type": "code",
   "execution_count": 2,
   "metadata": {},
   "outputs": [],
   "source": [
    "gene = \"FAS1\""
   ]
  },
  {
   "cell_type": "code",
   "execution_count": 3,
   "metadata": {},
   "outputs": [],
   "source": [
    "if True == False:\n",
    "    from pygenome.saccharomyces_cerevisiae.S288C import gene_dicts\n",
    "    genes, stdgenes = gene_dicts()\n",
    "    g = stdgenes[gene]\n",
    "    promoter = g.promoter\n",
    "    terminator = g.terminator\n",
    "    promoter.stamp()\n",
    "    promoter.write(\"FAS1_promoter.gb\")\n",
    "    terminator = g.terminator\n",
    "    terminator.stamp()\n",
    "    terminator.write(\"FAS1_terminator.gb\")\n",
    "    locus = promoter + g.cds + terminator\n",
    "    locus.name = \"FAS1wt\"\n",
    "    locus.definition = \"S.c S288C FAS1 locus 2021-05-17\"\n",
    "    locus.stamp()\n",
    "    locus.write(\"FAS1_locus.gb\")"
   ]
  },
  {
   "cell_type": "code",
   "execution_count": 4,
   "metadata": {},
   "outputs": [],
   "source": [
    "promoter = read(\"FAS1_promoter.gb\")"
   ]
  },
  {
   "cell_type": "code",
   "execution_count": 5,
   "metadata": {},
   "outputs": [],
   "source": [
    "assert promoter.seguid() == \"xhGsBahgfpHFD7qkd1K2cLThSF8\""
   ]
  },
  {
   "cell_type": "code",
   "execution_count": 6,
   "metadata": {},
   "outputs": [],
   "source": [
    "terminator = read(\"FAS1_terminator.gb\")"
   ]
  },
  {
   "cell_type": "code",
   "execution_count": 7,
   "metadata": {},
   "outputs": [],
   "source": [
    "assert terminator.seguid() == \"VLnTNEeOWdq391Czn-B8D_f8Xjo\""
   ]
  },
  {
   "cell_type": "code",
   "execution_count": 8,
   "metadata": {},
   "outputs": [],
   "source": [
    "locus = read(\"FAS1_locus.gb\")"
   ]
  },
  {
   "cell_type": "code",
   "execution_count": 9,
   "metadata": {},
   "outputs": [],
   "source": [
    "assert locus.seguid() == \"oueGSdXiV-DQGdb7vX6QR6EeCk0\""
   ]
  },
  {
   "cell_type": "code",
   "execution_count": 10,
   "metadata": {},
   "outputs": [],
   "source": [
    "fp = Primer(promoter[-45:].seq.watson + \"cagctgaagcttcgtacgc\")"
   ]
  },
  {
   "cell_type": "code",
   "execution_count": 11,
   "metadata": {},
   "outputs": [],
   "source": [
    "fp.id = f\"f_{gene}_kanmx4\""
   ]
  },
  {
   "cell_type": "code",
   "execution_count": 12,
   "metadata": {},
   "outputs": [
    {
     "name": "stdout",
     "output_type": "stream",
     "text": [
      "f_FAS1_kanmx4\tAGTATATTTATTCGCCACACCTAACTGCTCTATTATTCGCTCATTcagctgaagcttcgtacgc\n",
      "\n"
     ]
    }
   ],
   "source": [
    "print(fp.format(\"tab\"))"
   ]
  },
  {
   "cell_type": "code",
   "execution_count": 13,
   "metadata": {},
   "outputs": [],
   "source": [
    "rp = Primer(terminator[:45].rc().seq.watson + \"gcataggccactagtggatctg\")"
   ]
  },
  {
   "cell_type": "code",
   "execution_count": 14,
   "metadata": {},
   "outputs": [],
   "source": [
    "rp.id = f\"r_{gene}_kanmx4\""
   ]
  },
  {
   "cell_type": "code",
   "execution_count": 15,
   "metadata": {},
   "outputs": [
    {
     "name": "stdout",
     "output_type": "stream",
     "text": [
      "r_FAS1_kanmx4\tTTTCAAAGTTAAATATTTCTTACGGTTATATAATCACTTAAGAAAgcataggccactagtggatctg\n",
      "\n"
     ]
    }
   ],
   "source": [
    "print(rp.format(\"tab\"))"
   ]
  },
  {
   "cell_type": "code",
   "execution_count": 16,
   "metadata": {},
   "outputs": [],
   "source": [
    "from pydna.genbank import genbank"
   ]
  },
  {
   "cell_type": "code",
   "execution_count": 17,
   "metadata": {},
   "outputs": [],
   "source": [
    "if True == False:\n",
    "    pUG6 = genbank(\"AF298793.1\")\n",
    "    pUG6.write(\"pUG6.gb\")\n",
    "pUG6 = read(\"pUG6.gb\")"
   ]
  },
  {
   "cell_type": "code",
   "execution_count": 18,
   "metadata": {},
   "outputs": [],
   "source": [
    "cas = pcr(fp, rp, pUG6)"
   ]
  },
  {
   "cell_type": "code",
   "execution_count": 19,
   "metadata": {},
   "outputs": [],
   "source": [
    "cas.name = \"KanMX4\""
   ]
  },
  {
   "cell_type": "code",
   "execution_count": 20,
   "metadata": {},
   "outputs": [],
   "source": [
    "asm = Assembly((locus, cas, locus))"
   ]
  },
  {
   "cell_type": "code",
   "execution_count": 21,
   "metadata": {},
   "outputs": [
    {
     "data": {
      "text/plain": [
       "Assembly\n",
       "fragments..: 7674bp 1703bp 7674bp\n",
       "limit(bp)..: 25\n",
       "G.nodes....: 4\n",
       "algorithm..: common_sub_strings"
      ]
     },
     "execution_count": 21,
     "metadata": {},
     "output_type": "execute_result"
    }
   ],
   "source": [
    "asm"
   ]
  },
  {
   "cell_type": "code",
   "execution_count": 22,
   "metadata": {},
   "outputs": [],
   "source": [
    "candidates = asm.assemble_linear()"
   ]
  },
  {
   "cell_type": "code",
   "execution_count": 23,
   "metadata": {},
   "outputs": [
    {
     "data": {
      "text/plain": [
       "[Contig(-3131), Contig(-3131)]"
      ]
     },
     "execution_count": 23,
     "metadata": {},
     "output_type": "execute_result"
    }
   ],
   "source": [
    "candidates"
   ]
  },
  {
   "cell_type": "code",
   "execution_count": 24,
   "metadata": {},
   "outputs": [],
   "source": [
    "candidate = candidates[0]"
   ]
  },
  {
   "cell_type": "code",
   "execution_count": 25,
   "metadata": {},
   "outputs": [],
   "source": [
    "deletion_locus = candidate"
   ]
  },
  {
   "cell_type": "code",
   "execution_count": 26,
   "metadata": {},
   "outputs": [],
   "source": [
    "deletion_locus.name = \"FAS1::KanMX4\""
   ]
  },
  {
   "cell_type": "code",
   "execution_count": 27,
   "metadata": {},
   "outputs": [],
   "source": [
    "deletion_locus.definition = \"S.c S288C FAS1::KanMX4 locus 2021-05-17\""
   ]
  },
  {
   "cell_type": "code",
   "execution_count": 28,
   "metadata": {},
   "outputs": [
    {
     "data": {
      "text/plain": [
       "SEGUID_bt7To2oDuGN8LE4DBPwSdGpamfM"
      ]
     },
     "execution_count": 28,
     "metadata": {},
     "output_type": "execute_result"
    }
   ],
   "source": [
    "deletion_locus.stamp()"
   ]
  },
  {
   "cell_type": "code",
   "execution_count": 29,
   "metadata": {},
   "outputs": [
    {
     "data": {
      "text/plain": [
       "FASIwt|45\n",
       "       \\/\n",
       "       /\\\n",
       "       45|KanMX4|45\n",
       "                 \\/\n",
       "                 /\\\n",
       "                 45|FASIwt"
      ]
     },
     "execution_count": 29,
     "metadata": {},
     "output_type": "execute_result"
    }
   ],
   "source": [
    "deletion_locus.figure()"
   ]
  },
  {
   "cell_type": "code",
   "execution_count": 30,
   "metadata": {},
   "outputs": [
    {
     "data": {
      "text/plain": [
       "True"
      ]
     },
     "execution_count": 30,
     "metadata": {},
     "output_type": "execute_result"
    }
   ],
   "source": [
    "str(promoter.seq) in deletion_locus"
   ]
  },
  {
   "cell_type": "code",
   "execution_count": 31,
   "metadata": {},
   "outputs": [
    {
     "data": {
      "text/plain": [
       "True"
      ]
     },
     "execution_count": 31,
     "metadata": {},
     "output_type": "execute_result"
    }
   ],
   "source": [
    "str(terminator.seq)[:100] in deletion_locus"
   ]
  },
  {
   "cell_type": "code",
   "execution_count": 32,
   "metadata": {},
   "outputs": [],
   "source": [
    "# from pydna.myprimers import PrimerList\n",
    "# p = PrimerList()"
   ]
  },
  {
   "cell_type": "code",
   "execution_count": 33,
   "metadata": {},
   "outputs": [],
   "source": [
    "from pydna.parsers import parse_primers"
   ]
  },
  {
   "cell_type": "code",
   "execution_count": 34,
   "metadata": {},
   "outputs": [],
   "source": [
    "p = {}\n",
    "\n",
    "p[1394], p[1393] = parse_primers('''\n",
    "\n",
    ">1394_f_FAS1_kanmx4\n",
    "AGTATATTTATTCGCCACACCTAACTGCTCTATTATTCGCTCATTcagctgaagcttcgt\n",
    "acgc\n",
    "\n",
    ">1393_r_FAS1_kanmx4\n",
    "TTTCAAAGTTAAATATTTCTTACGGTTATATAATCACTTAAGAAAgcataggccactagt\n",
    "ggatctg\n",
    "\n",
    "''')\n",
    "\n",
    "p[703], p[702], p[1564] = parse_primers('''\n",
    "\n",
    ">703_sc_fas1-A1: (21-mer)\n",
    "TTTCCTTCTATTCTGCAGGAC\n",
    "\n",
    ">702_sc_fas1-B1: (22-mer)\n",
    "TTTCCTGTAATAGTTTAGCAGC\n",
    "\n",
    ">1564_KANMX_rev\n",
    "CACTCGCATCAACCAAACC\n",
    "\n",
    "''')"
   ]
  },
  {
   "cell_type": "code",
   "execution_count": 35,
   "metadata": {},
   "outputs": [
    {
     "data": {
      "text/plain": [
       "Seq('AGTATATTTATTCGCCACACCTAACTGCTCTATTATTCGCTCATTcagctgaag...cgc')"
      ]
     },
     "execution_count": 35,
     "metadata": {},
     "output_type": "execute_result"
    }
   ],
   "source": [
    "fp.seq"
   ]
  },
  {
   "cell_type": "code",
   "execution_count": 36,
   "metadata": {},
   "outputs": [
    {
     "data": {
      "text/plain": [
       "Seq('AGTATATTTATTCGCCACACCTAACTGCTCTATTATTCGCTCATTcagctgaag...cgc')"
      ]
     },
     "execution_count": 36,
     "metadata": {},
     "output_type": "execute_result"
    }
   ],
   "source": [
    "p[1394].seq"
   ]
  },
  {
   "cell_type": "code",
   "execution_count": 37,
   "metadata": {},
   "outputs": [],
   "source": [
    "assert fp.seq == p[1394].seq\n",
    "assert rp.seq == p[1393].seq"
   ]
  },
  {
   "cell_type": "code",
   "execution_count": null,
   "metadata": {},
   "outputs": [],
   "source": []
  },
  {
   "cell_type": "markdown",
   "metadata": {},
   "source": [
    "### Wild-type locus sequence"
   ]
  },
  {
   "cell_type": "code",
   "execution_count": 38,
   "metadata": {
    "tags": []
   },
   "outputs": [
    {
     "data": {
      "text/plain": [
       "LOCUS       FASIwt                  7674 bp    DNA     linear   UNK 01-JAN-1980\n",
       "DEFINITION  S.c S288C FASI locus 2021-05-17 SEGUID_oueGSdXiV-DQGdb7vX6QR6EeCk0.\n",
       "ACCESSION   id\n",
       "VERSION     id\n",
       "KEYWORDS    .\n",
       "SOURCE      \n",
       "  ORGANISM  .\n",
       "            .\n",
       "FEATURES             Location/Qualifiers\n",
       "     gene            46..6201\n",
       "                     /gene=\"FAS1\"\n",
       "                     /locus_tag=\"YKL182W\"\n",
       "     mRNA            46..6201\n",
       "                     /gene=\"FAS1\"\n",
       "                     /locus_tag=\"YKL182W\"\n",
       "                     /product=\"tetrafunctional fatty acid synthase subunit FAS1\"\n",
       "     CDS             46..6201\n",
       "                     /gene=\"FAS1\"\n",
       "                     /locus_tag=\"YKL182W\"\n",
       "                     /EC_number=\"1.3.1.9\"\n",
       "                     /EC_number=\"2.3.1.38\"\n",
       "                     /EC_number=\"2.3.1.39\"\n",
       "                     /EC_number=\"2.3.1.86\"\n",
       "                     /EC_number=\"3.1.2.14\"\n",
       "                     /EC_number=\"4.2.1.59\"\n",
       "                     /experiment=\"EXISTENCE:direct assay:GO:0004313\n",
       "                     [acyl-carrier-protein] S-acetyltransferase activity\n",
       "                     [PMID:374077]\"\n",
       "                     /experiment=\"EXISTENCE:direct assay:GO:0004314\n",
       "                     [acyl-carrier-protein] S-malonyltransferase activity\n",
       "                     [PMID:365179|PMID:374077]\"\n",
       "                     /experiment=\"EXISTENCE:direct assay:GO:0004319\n",
       "                     enoyl-[acyl-carrier-protein] reductase (NADPH, B-specific)\n",
       "                     activity [PMID:374077]\"\n",
       "                     /experiment=\"EXISTENCE:direct assay:GO:0005737 cytoplasm\n",
       "                     [PMID:14562095]\"\n",
       "                     /experiment=\"EXISTENCE:direct assay:GO:0005739\n",
       "                     mitochondrion [PMID:14576278|PMID:16823961]\"\n",
       "                     /experiment=\"EXISTENCE:direct assay:GO:0005811 lipid\n",
       "                     droplet [PMID:17803462]\"\n",
       "                     /experiment=\"EXISTENCE:direct assay:GO:0005829 cytosol\n",
       "                     [PMID:6025308]\"\n",
       "                     /experiment=\"EXISTENCE:direct assay:GO:0005835 fatty acid\n",
       "                     synthase complex [PMID:65153]\"\n",
       "                     /experiment=\"EXISTENCE:direct assay:GO:0016409\n",
       "                     palmitoyltransferase activity [PMID:365179]\"\n",
       "                     /experiment=\"EXISTENCE:direct assay:GO:0019171\n",
       "                     3-hydroxyacyl-[acyl-carrier-protein] dehydratase activity\n",
       "                     [PMID:374077]\"\n",
       "                     /experiment=\"EXISTENCE:mutant phenotype:GO:0004312 fatty\n",
       "                     acid synthase activity [PMID:1100391|PMID:65153]\"\n",
       "                     /experiment=\"EXISTENCE:mutant phenotype:GO:0004313\n",
       "                     [acyl-carrier-protein] S-acetyltransferase activity\n",
       "                     [PMID:1100391]\"\n",
       "                     /experiment=\"EXISTENCE:mutant phenotype:GO:0004314\n",
       "                     [acyl-carrier-protein] S-malonyltransferase activity\n",
       "                     [PMID:1100391]\"\n",
       "                     /experiment=\"EXISTENCE:mutant phenotype:GO:0004319\n",
       "                     enoyl-[acyl-carrier-protein] reductase (NADPH, B-specific)\n",
       "                     activity [PMID:1100391]\"\n",
       "                     /experiment=\"EXISTENCE:mutant phenotype:GO:0016409\n",
       "                     palmitoyltransferase activity [PMID:1100391]\"\n",
       "                     /experiment=\"EXISTENCE:mutant phenotype:GO:0019171\n",
       "                     3-hydroxyacyl-[acyl-carrier-protein] dehydratase activity\n",
       "                     [PMID:1100391]\"\n",
       "                     /experiment=\"EXISTENCE:mutant phenotype:GO:0042759\n",
       "                     long-chain fatty acid biosynthetic process\n",
       "                     [PMID:1735446|PMID:4127627]\"\n",
       "                     /note=\"Beta subunit of fatty acid synthetase; complex\n",
       "                     catalyzes the synthesis of long-chain saturated fatty\n",
       "                     acids; contains acetyltransacylase, dehydratase, enoyl\n",
       "                     reductase, malonyl transacylase, and palmitoyl transacylase\n",
       "                     activities\"\n",
       "                     /codon_start=1\n",
       "                     /product=\"tetrafunctional fatty acid synthase subunit FAS1\"\n",
       "                     /protein_id=\"DAA08985.1\"\n",
       "                     /db_xref=\"SGD:S000001665\"\n",
       "                     /translation=\"MDAYSTRPLTLSHGSLEHVLLVPTASFFIASQLQEQFNKILPEPT\n",
       "                     EGFAADDEPTTPAELVGKFLGYVSSLVEPSKVGQFDQVLNLCLTEFENCYLEGNDIHAL\n",
       "                     AAKLLQENDTTLVKTKELIKNYITARIMAKRPFDKKSNSALFRAVGEGNAQLVAIFGGQ\n",
       "                     GNTDDYFEELRDLYQTYHVLVGDLIKFSAETLSELIRTTLDAEKVFTQGLNILEWLENP\n",
       "                     SNTPDKDYLLSIPISCPLIGVIQLAHYVVTAKLLGFTPGELRSYLKGATGHSQGLVTAV\n",
       "                     AIAETDSWESFFVSVRKAITVLFFIGVRCYEAYPNTSLPPSILEDSLENNEGVPSPMLS\n",
       "                     ISNLTQEQVQDYVNKTNSHLPAGKQVEISLVNGAKNLVVSGPPQSLYGLNLTLRKAKAP\n",
       "                     SGLDQSRIPFSERKLKFSNRFLPVASPFHSHLLVPASDLINKDLVKNNVSFNAKDIQIP\n",
       "                     VYDTFDGSDLRVLSGSISERIVDCIIRLPVKWETTTQFKATHILDFGPGGASGLGVLTH\n",
       "                     RNKDGTGVRVIVAGTLDINPDDDYGFKQEIFDVTSNGLKKNPNWLEEYHPKLIKNKSGK\n",
       "                     IFVETKFSKLIGRPPLLVPGMTPCTVSPDFVAATTNAGYTIELAGGGYFSAAGMTAAID\n",
       "                     SVVSQIEKGSTFGINLIYVNPFMLQWGIPLIKELRSKGYPIQFLTIGAGVPSLEVASEY\n",
       "                     IETLGLKYLGLKPGSIDAISQVINIAKAHPNFPIALQWTGGRGGGHHSFEDAHTPMLQM\n",
       "                     YSKIRRHPNIMLIFGSGFGSADDTYPYLTGEWSTKFDYPPMPFDGFLFGSRVMIAKEVK\n",
       "                     TSPDAKKCIAACTGVPDDKWEQTYKKPTGGIVTVRSEMGEPIHKIATRGVMLWKEFDET\n",
       "                     IFNLPKNKLVPTLEAKRDYIISRLNADFQKPWFATVNGQARDLATMTYEEVAKRLVELM\n",
       "                     FIRSTNSWFDVTWRTFTGDFLRRVEERFTKSKTLSLIQSYSLLDKPDEAIEKVFNAYPA\n",
       "                     AREQFLNAQDIDHFLSMCQNPMQKPVPFVPVLDRRFEIFFKKDSLWQSEHLEAVVDQDV\n",
       "                     QRTCILHGPVAAQFTKVIDEPIKSIMDGIHDGHIKKLLHQYYGDDESKIPAVEYFGGES\n",
       "                     PVDVQSQVDSSSVSEDSAVFKATSSTDEESWFKALAGSEINWRHASFLCSFITQDKMFV\n",
       "                     SNPIRKVFKPSQGMVVEISNGNTSSKTVVTLSEPVQGELKPTVILKLLKENIIQMEMIE\n",
       "                     NRTMDGKPVSLPLLYNFNPDNGFAPISEVMEDRNQRIKEMYWKLWIDEPFNLDFDPRDV\n",
       "                     IKGKDFEITAKEVYDFTHAVGNNCEDFVSRPDRTMLAPMDFAIVVGWRAIIKAIFPNTV\n",
       "                     DGDLLKLVHLSNGYKMIPGAKPLQVGDVVSTTAVIESVVNQPTGKIVDVVGTLSRNGKP\n",
       "                     VMEVTSSFFYRGNYTDFENTFQKTVEPVYQMHIKTSKDIAVLRSKEWFQLDDEDFDLLN\n",
       "                     KTLTFETETEVTFKNANIFSSVKCFGPIKVELPTKETVEIGIVDYEAGASHGNPVVDFL\n",
       "                     KRNGSTLEQKVNLENPIPIAVLDSYTPSTNEPYARVSGDLNPIHVSRHFASYANLPGTI\n",
       "                     THGMFSSASVRALIENWAADSVSSRVRGYTCQFVDMVLPNTALKTSIQHVGMINGRKLI\n",
       "                     KFETRNEDDVVVLTGEAEIEQPVTTFVFTGQGSQEQGMGMDLYKTSKAAQDVWNRADNH\n",
       "                     FKDTYGFSILDIVINNPVNLTIHFGGEKGKRIRENYSAMIFETIVDGKLKTEKIFKEIN\n",
       "                     EHSTSYTFRSEKGLLSATQFTQPALTLMEKAAFEDLKSKGLIPADATFAGHSLGEYAAL\n",
       "                     ASLADVMSIESLVEVVFYRGMTMQVAVPRDELGRSNYGMIAINPGRVAASFSQEALQYV\n",
       "                     VERVGKRTGWLVEIVNYNVENQQYVAAGDLRALDTVTNVLNFIKLQKIDIIELQKSLSL\n",
       "                     EEVEGHLFEIIDEASKKSAVKPRPLKLERGFACIPLVGISVPFHSTYLMNGVKPFKSFL\n",
       "                     KKNIIKENVKVARLAGKYIPNLTAKPFQVTKEYFQDVYDLTGSEPIKEIIDNWEKYEQS\n",
       "                     \"\n",
       "ORIGIN\n",
       "        1 acaacatcta ttatgggaac atcccgctgt actatgcggt ctcgtcctct acgaatatgg\n",
       "       61 ctatttgcct tcgtatatac ctttctatac caagtaatga atgtcttgag ggcccgtatg\n",
       "      121 gccgcgcgaa ggcttagtta agatgtttca gcaaacggca gcatgtgaaa aaacccgtag\n",
       "      181 aaggtccgca tcagccttcc atgcccgtgc acccacggct cctcggaggc cgggttatag\n",
       "      241 cagcgtctgc tccgcatcac gatacacgag gtgcaggcac ggttcactac tcccctggcc\n",
       "      301 tccaacaaac gacggccaaa aacttcacat gccgcccagc caagcataat tacgcaacag\n",
       "      361 cgatctttcc gtcgcacaag ttaaaagaaa ttgttgaaaa atacaaataa tcgcgaacaa\n",
       "      421 tacgttgttg ctatttaacg cttttggtct gacagtaagt gtgcctttcc caatcaccga\n",
       "      481 aaagtgttga acgattcact gcgacaataa tcagagatta cagtcggcat tttggcattt\n",
       "      541 ttggcatact ttttatcgat tgaaccatct tctccaaaca cttttccttt ttccttctat\n",
       "      601 tctgcaggac caactaaaac tgggtatata tatcattatc tatatatata aacggctttc\n",
       "      661 aacaaagtta taggggaaaa ctaaaaatat aagaaaaaaa aaggtattga ttgataagga\n",
       "      721 aaaagaacca agggaaaaat ataaaaaagt acattgggcc ttttcatact tgttatcact\n",
       "      781 tacattacaa agaagaacaa acaacttttt taaacgaatt ttctttcttc ctttttcaat\n",
       "      841 ttattaattc tttttttcca tacaattcaa ggtcaaatat attcttatat gctctttgaa\n",
       "      901 tatttctgaa aaatatataa agaaaagaaa ctacaagaac atcatccgga aaatcagatt\n",
       "      961 atagactagg attccgctct ttttagtata tttattcgcc acacctaact gctctattat\n",
       "     1021 tcgctcatta tggacgctta ctccacaaga ccattaaccc tatctcacgg ttctttagag\n",
       "     1081 cacgtgcttc tggtaccaac cgcttcattt ttcattgctt cgcaattaca agaacaattt\n",
       "     1141 aataaaattt tgcccgaacc cactgaaggg tttgctgcag atgacgagcc taccacacct\n",
       "     1201 gctgaactag tggggaaatt ccttggctac gtatcttctc tagtcgaacc ttccaaggtc\n",
       "     1261 ggtcaattcg atcaggtctt gaacctttgc ttaacagaat ttgaaaactg ttatttagaa\n",
       "     1321 ggcaatgaca ttcacgcctt ggctgctaaa ctattacagg aaaacgacac aactttagtg\n",
       "     1381 aagactaaag aactaattaa aaattatatt accgccagaa taatggctaa gagaccattt\n",
       "     1441 gacaaaaaat ccaactctgc tctttttagg gccgtcggcg agggtaacgc acaattggta\n",
       "     1501 gccattttcg gtggtcaagg taacaccgac gactactttg aagaattgcg tgatctatat\n",
       "     1561 caaacttatc atgtcttagt gggagattta atcaagttct ccgctgaaac tttaagtgaa\n",
       "     1621 ctgattagaa ctactttaga tgctgaaaaa gtctttactc aaggtttaaa catattggaa\n",
       "     1681 tggttggaga acccttcaaa taccccagac aaggactatt tactttccat tccaatttca\n",
       "     1741 tgccccttaa ttggtgtcat tcaattggct cactacgtag ttactgccaa gcttttgggt\n",
       "     1801 ttcactccag gtgagttaag atcttactta aaaggtgcta caggtcactc tcaaggtttg\n",
       "     1861 gttactgctg tcgccatagc tgagacggat tcctgggaat ccttcttcgt ctccgtaaga\n",
       "     1921 aaagcaatta ctgtattatt cttcatcggt gttcgttgtt acgaagcata cccaaacact\n",
       "     1981 tccctaccac catccatctt ggaagattcc ttggaaaaca atgaaggtgt tccatctcca\n",
       "     2041 atgttgtcca tttccaatct aactcaagaa caagttcaag actatgtaaa taagactaac\n",
       "     2101 tctcatttgc cagctggtaa acaagttgaa atttctctag tcaatggtgc gaagaatcta\n",
       "     2161 gtcgtatcgg gcccaccaca atcattatat ggtttaaact tgactttaag aaaggccaag\n",
       "     2221 gccccatctg gactggatca atcaagaatc ccattcagcg aaagaaaatt gaagttctcc\n",
       "     2281 aataggttct tacctgttgc atcaccattc cattcccatc tattggttcc agcttcagat\n",
       "     2341 ttgattaaca aagacttagt caaaaacaat gtcagcttta acgctaaaga tattcaaatc\n",
       "     2401 cccgtttacg acacttttga tggttcagat ctaagagtcc tttcaggttc catttccgag\n",
       "     2461 agaatcgtcg actgcatcat tagattacct gtcaaatggg aaactactac acaattcaaa\n",
       "     2521 gccacccaca tattagactt tggtccaggt ggagcttccg gtttaggtgt tttaacccat\n",
       "     2581 cgtaataaag atggtactgg tgttcgtgtt atcgttgccg gtactctcga cattaaccca\n",
       "     2641 gatgatgatt acggattcaa gcaagaaatc tttgatgtta ctagtaatgg tttgaagaaa\n",
       "     2701 aatccaaact ggttggaaga ataccatcca aaattaatta agaacaaatc aggcaaaatt\n",
       "     2761 tttgtcgaaa caaaattttc taaattaatc ggtagaccac ctttattggt tcctggtatg\n",
       "     2821 acaccatgta ctgtttctcc agatttcgta gctgctacca caaatgctgg ttataccatt\n",
       "     2881 gagttggccg gtggtggtta cttttccgca gcaggtatga ccgccgctat tgattctgtg\n",
       "     2941 gtttctcaga tagaaaaggg tagtaccttc ggtatcaact tgatctacgt caatccattt\n",
       "     3001 atgttacaat ggggtattcc attaatcaag gaactaagaa gcaaaggtta tccaattcaa\n",
       "     3061 ttcttgacca ttggtgctgg tgtcccatca ttggaagttg ctagtgaata catagagaca\n",
       "     3121 ttaggtttga agtacttggg tttgaaacca ggttccattg atgctatttc gcaagttata\n",
       "     3181 aacattgcta aagcacatcc aaacttccca atagctttac aatggaccgg tggtagaggt\n",
       "     3241 ggtggtcatc attctttcga agatgcccac actccaatgt tacaaatgta ctccaagatt\n",
       "     3301 agaagacatc caaacattat gttgatattc ggttctggtt tcggttctgc tgatgacact\n",
       "     3361 tacccatact taaccggtga atggtccaca aaattcgatt atccaccaat gccattcgat\n",
       "     3421 ggtttcctat ttggttcgag ggtcatgatt gctaaggaag ttaaaacttc tcctgatgct\n",
       "     3481 aagaagtgta ttgctgcttg tactggtgtt cctgatgata aatgggaaca aacctacaag\n",
       "     3541 aagccaactg gtggtattgt cactgttcgc tctgaaatgg gtgaaccaat tcacaaaatt\n",
       "     3601 gccactcgtg gtgttatgct atggaaggaa ttcgacgaaa ccatcttcaa cttaccaaag\n",
       "     3661 aataagttgg taccaacttt ggaagcaaag agagattaca ttatctcaag attgaacgcc\n",
       "     3721 gatttccaaa aaccatggtt tgctaccgtc aacggtcaag cccgtgacct agccacaatg\n",
       "     3781 acatacgaag aagttgcaaa gagattggtg gaattaatgt tcatcagatc taccaactct\n",
       "     3841 tggtttgatg tcacatggag aacctttact ggtgatttcc tacgtcgtgt cgaagaacgt\n",
       "     3901 ttcactaaaa gtaagacatt gtctttaatc caatcctatt ctctactaga caagcctgat\n",
       "     3961 gaagctattg aaaaagtatt taatgcttat cctgccgcta gggaacagtt cttgaatgcg\n",
       "     4021 caagatattg atcacttttt gagcatgtgt caaaatccaa tgcaaaaacc agtgcctttt\n",
       "     4081 gttccagttt tggatcgtag attcgagatt tttttcaaaa aagattcgtt atggcaatct\n",
       "     4141 gagcacttgg aagccgtcgt cgaccaagac gttcaaagaa catgtatcct acatggacct\n",
       "     4201 gttgcagcac aattcactaa agtcatcgat gaaccaatta agagcattat ggatggtatt\n",
       "     4261 cacgatggtc acatcaaaaa gttactacat caatattacg gtgacgatga gtcaaagatt\n",
       "     4321 ccagcagttg agtactttgg tggtgaaagc cctgtagacg tacaaagtca agttgattct\n",
       "     4381 tcctctgtat ctgaagactc agctgttttt aaggcaacat cctctactga tgaagaaagc\n",
       "     4441 tggtttaagg ctttggcggg atccgaaatt aactggagac atgcaagttt cttatgttcc\n",
       "     4501 tttatcactc aagataaaat gtttgtttct aacccaatta gaaaagtttt caagccaagc\n",
       "     4561 caaggaatgg ttgttgagat ttccaacggc aatacttctt caaagactgt tgtcactctt\n",
       "     4621 tcagaacctg ttcaaggtga attgaaacca actgttattt tgaagttgtt gaaggagaac\n",
       "     4681 ataatccaaa tggaaatgat tgagaacaga actatggatg gtaagcccgt cagcttgcca\n",
       "     4741 ttgttgtaca acttcaaccc agataatggt tttgctccaa tctctgaagt tatggaggac\n",
       "     4801 agaaaccaaa gaattaagga aatgtactgg aaattatgga ttgatgagcc tttcaatttg\n",
       "     4861 gactttgacc caagagatgt cattaagggc aaagatttcg agatcaccgc taaagaagtt\n",
       "     4921 tatgacttta cacacgctgt tggaaacaat tgtgaagact tcgtttctag acctgataga\n",
       "     4981 acgatgttgg ccccaatgga ctttgctatt gttgtcggat ggagagccat catcaaggcc\n",
       "     5041 attttcccta atacggtcga tggtgactta ttgaagttgg ttcatttgtc taacggctac\n",
       "     5101 aagatgattc ctggcgctaa gccactgcaa gttggtgatg ttgtttcaac tactgctgtt\n",
       "     5161 attgaatctg tcgtcaacca acctacagga aagattgtcg atgtggtagg tacattatcg\n",
       "     5221 agaaatggca agcctgtcat ggaagtcacc tcctcattct tctacagagg caactatact\n",
       "     5281 gactttgaaa acactttcca aaagactgtt gaacctgttt atcaaatgca catcaaaact\n",
       "     5341 tctaaagata tagctgtctt gcgctctaag gagtggttcc aattggacga tgaagacttc\n",
       "     5401 gatctgttaa acaaaacttt gactttcgaa actgaaactg aagttacttt caagaatgct\n",
       "     5461 aacatcttct cttcagtgaa atgttttggc ccaattaaag ttgaattgcc aaccaaagaa\n",
       "     5521 accgtggaga tcggtattgt cgattacgaa gccggtgcct ctcacggtaa ccctgttgtt\n",
       "     5581 gatttcttga agagaaacgg ttccacattg gaacaaaagg tcaatctaga aaatcctatt\n",
       "     5641 ccaattgcag tacttgattc gtacactcca agtaccaacg aaccatacgc tagagtttct\n",
       "     5701 ggtgatttga atccaattca cgtttcacgt cattttgcct cttacgcaaa cttgccaggt\n",
       "     5761 actatcacgc acggtatgtt ttcttctgct tccgtccgtg ctttgattga aaactgggct\n",
       "     5821 gctgacagtg tttcatccag ggtacgtggc tacacttgtc aatttgttga catggttttg\n",
       "     5881 cctaacactg ctttgaaaac atcgattcaa catgttggta tgatcaatgg tagaaaattg\n",
       "     5941 ataaagtttg aaactagaaa tgaagatgac gttgtagttt tgactggtga agccgaaatt\n",
       "     6001 gaacaacctg ttactacctt cgttttcact ggtcaaggtt cacaagaaca aggtatgggt\n",
       "     6061 atggacttat acaaaacttc taaagctgct caagatgttt ggaatagagc tgacaaccat\n",
       "     6121 ttcaaggaca cttatggttt ctctatctta gacattgtca ttaacaaccc agttaactta\n",
       "     6181 acaattcact tcggtggtga aaagggtaag aggatcagag aaaactattc tgctatgatc\n",
       "     6241 tttgagacta tcgtggatgg aaaattgaag actgaaaaaa ttttcaagga aattaatgag\n",
       "     6301 cacagtactt cttacacatt tagatctgaa aaaggtttat tgtctgctac tcaatttaca\n",
       "     6361 caaccagctt taactttgat ggaaaaagct gctttcgaag acttgaaatc taaaggtttg\n",
       "     6421 atcccagccg atgctacttt tgctggtcac tctttaggtg agtatgctgc tttggcctct\n",
       "     6481 ttggctgatg ttatgtctat cgaatcttta gttgaagttg tgttctacag aggtatgact\n",
       "     6541 atgcaagttg ctgttccaag agatgagttg ggcagatcca actatggtat gattgccatt\n",
       "     6601 aacccaggta gagtcgctgc atcattctct caagaagctt tgcaatatgt tgttgagaga\n",
       "     6661 gttggtaaga gaaccggctg gttggttgaa atcgtcaact acaacgttga aaaccaacaa\n",
       "     6721 tatgttgcag ctggtgatct aagagcttta gacaccgtta ccaatgttct aaacttcatc\n",
       "     6781 aaattacaaa aaattgatat tattgaacta caaaagtcct tatctttgga agaagttgaa\n",
       "     6841 ggtcatttgt ttgagatcat tgacgaagct tccaagaaat ctgctgtcaa gcctcgccca\n",
       "     6901 cttaaattgg agagaggttt tgcttgtatc ccattagttg gtatttctgt tcctttccat\n",
       "     6961 tccacctact tgatgaatgg tgttaaacca ttcaagagtt tcttgaagaa gaatatcata\n",
       "     7021 aaagaaaatg tgaaggttgc tagattggcc ggaaagtaca ttccaaactt gactgcaaaa\n",
       "     7081 ccattccagg ttactaagga atatttccag gacgtttatg atttgactgg ctccgaacct\n",
       "     7141 atcaaggaaa tcatcgacaa ctgggaaaag tatgaacaat cctaatttct taagtgatta\n",
       "     7201 tataaccgta agaaatattt aactttgaaa ctcctgtata ctaatgttta atatagctgg\n",
       "     7261 cttatgattt tagttctctt ctcctattat aaatagatac attgattagg tatttttata\n",
       "     7321 atatacttgg gattaacaga tgctatatga attttttttt ccgccgcaag ccctcgctag\n",
       "     7381 ggcggggcag atgctgaaga aaaaattttc tgttccattg ggttatgttt aaaaatcaac\n",
       "     7441 gatattcgaa cataatcgat gaccttgatg attagcgaag ttctgctcta aagaaattag\n",
       "     7501 ctttaaaaac agctccatta ttagtgtaaa ctgctacttc aactctttac tcgaaaagtt\n",
       "     7561 gaaacaagtg tctattccgc acatctctgc aataaccgaa ccttcacgat ttagctacaa\n",
       "     7621 tcccacatct gcagattcta ccgtttaata gtcttaattt gaagagaaat aaaa\n",
       "//"
      ]
     },
     "execution_count": 38,
     "metadata": {},
     "output_type": "execute_result"
    }
   ],
   "source": [
    "locus.format()"
   ]
  },
  {
   "cell_type": "markdown",
   "metadata": {},
   "source": [
    "### Deletion locus sequence"
   ]
  },
  {
   "cell_type": "code",
   "execution_count": 39,
   "metadata": {
    "tags": []
   },
   "outputs": [
    {
     "data": {
      "text/plain": [
       "LOCUS       FAS1::KanMX4            3131 bp    DNA     linear   UNK 01-JAN-1980\n",
       "DEFINITION  S.c S288C FAS1::KanMX4 locus 2021-05-17\n",
       "            SEGUID_bt7To2oDuGN8LE4DBPwSdGpamfM.\n",
       "ACCESSION   id\n",
       "VERSION     id\n",
       "KEYWORDS    .\n",
       "SOURCE      .\n",
       "  ORGANISM  .\n",
       "            .\n",
       "FEATURES             Location/Qualifiers\n",
       "     primer_bind     1030..1048\n",
       "                     /label=\"name\"\n",
       "                     /ApEinfo_fwdcolor=\"#baffa3\"\n",
       "                     /ApEinfo_revcolor=\"#ffbaba\"\n",
       "     misc_feature    1070..1103\n",
       "                     /note=\"loxP site\"\n",
       "     regulatory      1104..1501\n",
       "                     /regulatory_class=\"promoter\"\n",
       "                     /note=\"from TEF\"\n",
       "     gene            1502..2311\n",
       "                     /gene=\"kanMX\"\n",
       "     CDS             1502..2311\n",
       "                     /gene=\"kanMX\"\n",
       "                     /codon_start=1\n",
       "                     /transl_table=11\n",
       "                     /product=\"geneticin resistance protein\"\n",
       "                     /protein_id=\"AAG34543.1\"\n",
       "                     /translation=\"MGKEKTHVSRPRLNSNMDADLYGYKWARDNVGQSGATIYRLYGKP\n",
       "                     DAPELFLKHGKGSVANDVTDEMVRLNWLTEFMPLPTIKHFIRTPDDAWLLTTAIPGKTA\n",
       "                     FQVLEEYPDSGENIVDALAVFLRRLHSIPVCNCPFNSDRVFRLAQAQSRMNNGLVDASD\n",
       "                     FDDERNGWPVEQVWKEMHKLLPFSPDSVVTHGDFSLDNLIFDEGKLIGCIDVGRVGIAD\n",
       "                     RYQDLAILWNCLGEFSPSLQKRLFQKYGIDNPDMNKLQFHLMLDEFF\"\n",
       "     regulatory      2312..2576\n",
       "                     /regulatory_class=\"terminator\"\n",
       "                     /note=\"from TEF\"\n",
       "     misc_feature    2577..2610\n",
       "                     /note=\"loxP site\"\n",
       "     primer_bind     complement(2621..2642)\n",
       "                     /label=\"name\"\n",
       "                     /ApEinfo_fwdcolor=\"#baffa3\"\n",
       "                     /ApEinfo_revcolor=\"#ffbaba\"\n",
       "ORIGIN\n",
       "        1 acaacatcta ttatgggaac atcccgctgt actatgcggt ctcgtcctct acgaatatgg\n",
       "       61 ctatttgcct tcgtatatac ctttctatac caagtaatga atgtcttgag ggcccgtatg\n",
       "      121 gccgcgcgaa ggcttagtta agatgtttca gcaaacggca gcatgtgaaa aaacccgtag\n",
       "      181 aaggtccgca tcagccttcc atgcccgtgc acccacggct cctcggaggc cgggttatag\n",
       "      241 cagcgtctgc tccgcatcac gatacacgag gtgcaggcac ggttcactac tcccctggcc\n",
       "      301 tccaacaaac gacggccaaa aacttcacat gccgcccagc caagcataat tacgcaacag\n",
       "      361 cgatctttcc gtcgcacaag ttaaaagaaa ttgttgaaaa atacaaataa tcgcgaacaa\n",
       "      421 tacgttgttg ctatttaacg cttttggtct gacagtaagt gtgcctttcc caatcaccga\n",
       "      481 aaagtgttga acgattcact gcgacaataa tcagagatta cagtcggcat tttggcattt\n",
       "      541 ttggcatact ttttatcgat tgaaccatct tctccaaaca cttttccttt ttccttctat\n",
       "      601 tctgcaggac caactaaaac tgggtatata tatcattatc tatatatata aacggctttc\n",
       "      661 aacaaagtta taggggaaaa ctaaaaatat aagaaaaaaa aaggtattga ttgataagga\n",
       "      721 aaaagaacca agggaaaaat ataaaaaagt acattgggcc ttttcatact tgttatcact\n",
       "      781 tacattacaa agaagaacaa acaacttttt taaacgaatt ttctttcttc ctttttcaat\n",
       "      841 ttattaattc tttttttcca tacaattcaa ggtcaaatat attcttatat gctctttgaa\n",
       "      901 tatttctgaa aaatatataa agaaaagaaa ctacaagaac atcatccgga aaatcagatt\n",
       "      961 atagactagg attccgctct ttttagtata tttattcgcc acacctaact gctctattat\n",
       "     1021 tcgctcattc agctgaagct tcgtacgctg caggtcgaca acccttaata taacttcgta\n",
       "     1081 taatgtatgc tatacgaagt tattaggtct agagatctgt ttagcttgcc tcgtccccgc\n",
       "     1141 cgggtcaccc ggccagcgac atggaggccc agaataccct ccttgacagt cttgacgtgc\n",
       "     1201 gcagctcagg ggcatgatgt gactgtcgcc cgtacattta gcccatacat ccccatgtat\n",
       "     1261 aatcatttgc atccatacat tttgatggcc gcacggcgcg aagcaaaaat tacggctcct\n",
       "     1321 cgctgcagac ctgcgagcag ggaaacgctc ccctcacaga cgcgttgaat tgtccccacg\n",
       "     1381 ccgcgcccct gtagagaaat ataaaaggtt aggatttgcc actgaggttc ttctttcata\n",
       "     1441 tacttccttt taaaatcttg ctaggataca gttctcacat cacatccgaa cataaacaac\n",
       "     1501 catgggtaag gaaaagactc acgtttcgag gccgcgatta aattccaaca tggatgctga\n",
       "     1561 tttatatggg tataaatggg ctcgcgataa tgtcgggcaa tcaggtgcga caatctatcg\n",
       "     1621 attgtatggg aagcccgatg cgccagagtt gtttctgaaa catggcaaag gtagcgttgc\n",
       "     1681 caatgatgtt acagatgaga tggtcagact aaactggctg acggaattta tgcctcttcc\n",
       "     1741 gaccatcaag cattttatcc gtactcctga tgatgcatgg ttactcacca ctgcgatccc\n",
       "     1801 cggcaaaaca gcattccagg tattagaaga atatcctgat tcaggtgaaa atattgttga\n",
       "     1861 tgcgctggca gtgttcctgc gccggttgca ttcgattcct gtttgtaatt gtccttttaa\n",
       "     1921 cagcgatcgc gtatttcgtc tcgctcaggc gcaatcacga atgaataacg gtttggttga\n",
       "     1981 tgcgagtgat tttgatgacg agcgtaatgg ctggcctgtt gaacaagtct ggaaagaaat\n",
       "     2041 gcataagctt ttgccattct caccggattc agtcgtcact catggtgatt tctcacttga\n",
       "     2101 taaccttatt tttgacgagg ggaaattaat aggttgtatt gatgttggac gagtcggaat\n",
       "     2161 cgcagaccga taccaggatc ttgccatcct atggaactgc ctcggtgagt tttctccttc\n",
       "     2221 attacagaaa cggctttttc aaaaatatgg tattgataat cctgatatga ataaattgca\n",
       "     2281 gtttcatttg atgctcgatg agtttttcta atcagtactg acaataaaaa gattcttgtt\n",
       "     2341 ttcaagaact tgtcatttgt atagtttttt tatattgtag ttgttctatt ttaatcaaat\n",
       "     2401 gttagcgtga tttatatttt ttttcgcctc gacatcatct gcccagatgc gaagttaagt\n",
       "     2461 gcgcagaaag taatatcatg cgtcaatcgt atgtgaatgc tggtcgctat actgctgtcg\n",
       "     2521 attcgatact aacgccgcca tccagtgtcg aaaacgagct ctcgagaacc cttaatataa\n",
       "     2581 cttcgtataa tgtatgctat acgaagttat taggtgatat cagatccact agtggcctat\n",
       "     2641 gctttcttaa gtgattatat aaccgtaaga aatatttaac tttgaaactc ctgtatacta\n",
       "     2701 atgtttaata tagctggctt atgattttag ttctcttctc ctattataaa tagatacatt\n",
       "     2761 gattaggtat ttttataata tacttgggat taacagatgc tatatgaatt tttttttccg\n",
       "     2821 ccgcaagccc tcgctagggc ggggcagatg ctgaagaaaa aattttctgt tccattgggt\n",
       "     2881 tatgtttaaa aatcaacgat attcgaacat aatcgatgac cttgatgatt agcgaagttc\n",
       "     2941 tgctctaaag aaattagctt taaaaacagc tccattatta gtgtaaactg ctacttcaac\n",
       "     3001 tctttactcg aaaagttgaa acaagtgtct attccgcaca tctctgcaat aaccgaacct\n",
       "     3061 tcacgattta gctacaatcc cacatctgca gattctaccg tttaatagtc ttaatttgaa\n",
       "     3121 gagaaataaa a\n",
       "//"
      ]
     },
     "execution_count": 39,
     "metadata": {},
     "output_type": "execute_result"
    }
   ],
   "source": [
    "deletion_locus.format()"
   ]
  },
  {
   "cell_type": "code",
   "execution_count": 40,
   "metadata": {},
   "outputs": [],
   "source": [
    "colony1 = pcr(p[703], p[702], p[1564], locus)"
   ]
  },
  {
   "cell_type": "code",
   "execution_count": 41,
   "metadata": {},
   "outputs": [
    {
     "data": {
      "text/plain": [
       "774"
      ]
     },
     "execution_count": 41,
     "metadata": {},
     "output_type": "execute_result"
    }
   ],
   "source": [
    "len(colony1)"
   ]
  },
  {
   "cell_type": "code",
   "execution_count": 42,
   "metadata": {},
   "outputs": [
    {
     "data": {
      "text/plain": [
       "5TTTCCTTCTATTCTGCAGGAC...GCTGCTAAACTATTACAGGAAA3\n",
       "                         ||||||||||||||||||||||\n",
       "                        3CGACGATTTGATAATGTCCTTT5\n",
       "5TTTCCTTCTATTCTGCAGGAC3\n",
       " |||||||||||||||||||||\n",
       "3AAAGGAAGATAAGACGTCCTG...CGACGATTTGATAATGTCCTTT5"
      ]
     },
     "execution_count": 42,
     "metadata": {},
     "output_type": "execute_result"
    }
   ],
   "source": [
    "colony1.figure()"
   ]
  },
  {
   "cell_type": "code",
   "execution_count": 43,
   "metadata": {},
   "outputs": [
    {
     "data": {
      "text/plain": [
       "|95°C|95°C               |    |tmf:59.8\n",
       "|____|_____          72°C|72°C|tmr:58.6\n",
       "|3min|30s  \\ 53.8°C _____|____|45s/kb\n",
       "|    |      \\______/ 0:34|5min|GC 34%\n",
       "|    |       30s         |    |774bp"
      ]
     },
     "execution_count": 43,
     "metadata": {},
     "output_type": "execute_result"
    }
   ],
   "source": [
    "colony1.program()"
   ]
  },
  {
   "cell_type": "code",
   "execution_count": 44,
   "metadata": {},
   "outputs": [],
   "source": [
    "colony2 = pcr(p[703], p[702], p[1564], deletion_locus)"
   ]
  },
  {
   "cell_type": "code",
   "execution_count": 45,
   "metadata": {},
   "outputs": [
    {
     "data": {
      "text/plain": [
       "1399"
      ]
     },
     "execution_count": 45,
     "metadata": {},
     "output_type": "execute_result"
    }
   ],
   "source": [
    "len(colony2)"
   ]
  },
  {
   "cell_type": "code",
   "execution_count": 46,
   "metadata": {},
   "outputs": [
    {
     "data": {
      "text/plain": [
       "5TTTCCTTCTATTCTGCAGGAC...GGTTTGGTTGATGCGAGTG3\n",
       "                         |||||||||||||||||||\n",
       "                        3CCAAACCAACTACGCTCAC5\n",
       "5TTTCCTTCTATTCTGCAGGAC3\n",
       " |||||||||||||||||||||\n",
       "3AAAGGAAGATAAGACGTCCTG...CCAAACCAACTACGCTCAC5"
      ]
     },
     "execution_count": 46,
     "metadata": {},
     "output_type": "execute_result"
    }
   ],
   "source": [
    "colony2.figure()"
   ]
  },
  {
   "cell_type": "code",
   "execution_count": 47,
   "metadata": {},
   "outputs": [
    {
     "data": {
      "text/plain": [
       "|95°C|95°C               |    |tmf:59.8\n",
       "|____|_____          72°C|72°C|tmr:61.5\n",
       "|3min|30s  \\ 56.5°C _____|____|45s/kb\n",
       "|    |      \\______/ 1:02|5min|GC 41%\n",
       "|    |       30s         |    |1399bp"
      ]
     },
     "execution_count": 47,
     "metadata": {},
     "output_type": "execute_result"
    }
   ],
   "source": [
    "colony2.program()"
   ]
  },
  {
   "cell_type": "code",
   "execution_count": 48,
   "metadata": {},
   "outputs": [],
   "source": [
    "# p.pydna_code_from_accessed()"
   ]
  }
 ],
 "metadata": {
  "anaconda-cloud": {},
  "kernelspec": {
   "display_name": "Python [conda env:bjorn39]",
   "language": "python",
   "name": "conda-env-bjorn39-py"
  },
  "language_info": {
   "codemirror_mode": {
    "name": "ipython",
    "version": 3
   },
   "file_extension": ".py",
   "mimetype": "text/x-python",
   "name": "python",
   "nbconvert_exporter": "python",
   "pygments_lexer": "ipython3",
   "version": "3.9.7"
  }
 },
 "nbformat": 4,
 "nbformat_minor": 4
}
