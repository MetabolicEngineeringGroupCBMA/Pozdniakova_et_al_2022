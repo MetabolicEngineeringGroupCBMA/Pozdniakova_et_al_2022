{
 "cells": [
  {
   "cell_type": "markdown",
   "id": "531becd6",
   "metadata": {},
   "source": [
    "# Pathway pTA1_FASII\n",
    "\n",
    "The pTA1_FASII is identical to the pYPK0_FASII but for the host vector pTA1 (LEU2) instead of pYPKpw (URA3)."
   ]
  },
  {
   "cell_type": "code",
   "execution_count": 1,
   "id": "0aba5a57",
   "metadata": {
    "tags": []
   },
   "outputs": [],
   "source": [
    "from pydna.parsers import parse_primers\n",
    "from pydna.readers import read\n",
    "from pydna.amplify import pcr\n",
    "from pydna.assembly import Assembly\n",
    "from IPython.display import display"
   ]
  },
  {
   "cell_type": "markdown",
   "id": "d277860b",
   "metadata": {},
   "source": [
    "Initiate the standard primers needed to amplify each cassette.\n",
    "The first cassette in the pathway is amplified with standard\n",
    "primers 577 and 778, the last with\n",
    "775 and 578 and all others with 775 and 778.\n",
    "Standard primers are listed [here](standard_primers.txt)."
   ]
  },
  {
   "cell_type": "code",
   "execution_count": 2,
   "id": "69548ba7",
   "metadata": {
    "tags": []
   },
   "outputs": [],
   "source": [
    "p = { x.id: x for x in parse_primers(\"standard_primers.txt\") }"
   ]
  },
  {
   "cell_type": "markdown",
   "id": "d5ea4022",
   "metadata": {},
   "source": [
    "Restriction enzymes are imported from the Biopython package."
   ]
  },
  {
   "cell_type": "code",
   "execution_count": 3,
   "id": "13081321",
   "metadata": {
    "tags": []
   },
   "outputs": [],
   "source": [
    "from Bio.Restriction import EcoRV, NotI, PacI, FspAI"
   ]
  },
  {
   "cell_type": "markdown",
   "id": "397d0903",
   "metadata": {},
   "source": [
    "The backbone vector is linearized with [EcoRV](http://rebase.neb.com/rebase/enz/EcoRV.html)."
   ]
  },
  {
   "cell_type": "code",
   "execution_count": 4,
   "id": "6ec1edab",
   "metadata": {
    "tags": []
   },
   "outputs": [],
   "source": [
    "pTA1 = read(\"pTA1.gb\")"
   ]
  },
  {
   "cell_type": "markdown",
   "id": "acac9eb7",
   "metadata": {},
   "source": [
    "The cassette_products variable holds the list of expression cassette PCR products fragments to\n",
    "be assembled."
   ]
  },
  {
   "cell_type": "code",
   "execution_count": 5,
   "id": "820ea856",
   "metadata": {
    "tags": []
   },
   "outputs": [],
   "source": [
    "cassette_products = []"
   ]
  },
  {
   "cell_type": "markdown",
   "id": "595ec588",
   "metadata": {},
   "source": [
    "The expression cassettes comes from a series of single gene expression vectors\n",
    "held in the template_vectors list."
   ]
  },
  {
   "cell_type": "code",
   "execution_count": 6,
   "id": "dfd02fb3",
   "metadata": {
    "tags": []
   },
   "outputs": [
    {
     "data": {
      "text/html": [
       "<a href='pYPK0_PDC1_EcfabH_TEF1.gb' target='_blank'>pYPK0_PDC1_EcfabH_TEF1.gb</a><br>"
      ],
      "text/plain": [
       "File(id)(o8280)"
      ]
     },
     "metadata": {},
     "output_type": "display_data"
    },
    {
     "data": {
      "text/html": [
       "<a href='pYPK0_TEF1_EcfabD_FBA1.gb' target='_blank'>pYPK0_TEF1_EcfabD_FBA1.gb</a><br>"
      ],
      "text/plain": [
       "File(id)(o7931)"
      ]
     },
     "metadata": {},
     "output_type": "display_data"
    },
    {
     "data": {
      "text/html": [
       "<a href='pYPK0_FBA1_EcfabG_RPL22A.gb' target='_blank'>pYPK0_FBA1_EcfabG_RPL22A.gb</a><br>"
      ],
      "text/plain": [
       "File(id)(o7583)"
      ]
     },
     "metadata": {},
     "output_type": "display_data"
    },
    {
     "data": {
      "text/html": [
       "<a href='pYPK0_RPL22A_EcacpP_TDH3.gb' target='_blank'>pYPK0_RPL22A_EcacpP_TDH3.gb</a><br>"
      ],
      "text/plain": [
       "File(id)(o7153)"
      ]
     },
     "metadata": {},
     "output_type": "display_data"
    },
    {
     "data": {
      "text/html": [
       "<a href='pYPK0_TDH3_EcfabF_UTR2.gb' target='_blank'>pYPK0_TDH3_EcfabF_UTR2.gb</a><br>"
      ],
      "text/plain": [
       "File(id)(o8352)"
      ]
     },
     "metadata": {},
     "output_type": "display_data"
    },
    {
     "data": {
      "text/html": [
       "<a href='pYPK0_UTR2_EcfabB_TPI1.gb' target='_blank'>pYPK0_UTR2_EcfabB_TPI1.gb</a><br>"
      ],
      "text/plain": [
       "File(id)(o8215)"
      ]
     },
     "metadata": {},
     "output_type": "display_data"
    },
    {
     "data": {
      "text/html": [
       "<a href='pYPK0_TPI1_EcfabA_PMP3.gb' target='_blank'>pYPK0_TPI1_EcfabA_PMP3.gb</a><br>"
      ],
      "text/plain": [
       "File(id)(o7649)"
      ]
     },
     "metadata": {},
     "output_type": "display_data"
    },
    {
     "data": {
      "text/html": [
       "<a href='pYPK0_PMP3_EcfabZ_ENO2.gb' target='_blank'>pYPK0_PMP3_EcfabZ_ENO2.gb</a><br>"
      ],
      "text/plain": [
       "File(id)(o7524)"
      ]
     },
     "metadata": {},
     "output_type": "display_data"
    },
    {
     "data": {
      "text/html": [
       "<a href='pYPK0_ENO2_Athmod1_RPL5.gb' target='_blank'>pYPK0_ENO2_Athmod1_RPL5.gb</a><br>"
      ],
      "text/plain": [
       "File(id)(o7763)"
      ]
     },
     "metadata": {},
     "output_type": "display_data"
    },
    {
     "data": {
      "text/html": [
       "<a href='pYPK0_RPL5_AthfatA1_RPL16A.gb' target='_blank'>pYPK0_RPL5_AthfatA1_RPL16A.gb</a><br>"
      ],
      "text/plain": [
       "File(id)(o7709)"
      ]
     },
     "metadata": {},
     "output_type": "display_data"
    },
    {
     "data": {
      "text/html": [
       "<a href='pYPK0_RPL16A_AthfatB_RPL17A.gb' target='_blank'>pYPK0_RPL16A_AthfatB_RPL17A.gb</a><br>"
      ],
      "text/plain": [
       "File(id)(o7993)"
      ]
     },
     "metadata": {},
     "output_type": "display_data"
    },
    {
     "data": {
      "text/html": [
       "<a href='pYPK0_RPL17A_EcacpH_RPL16B.gb' target='_blank'>pYPK0_RPL17A_EcacpH_RPL16B.gb</a><br>"
      ],
      "text/plain": [
       "File(id)(o7740)"
      ]
     },
     "metadata": {},
     "output_type": "display_data"
    },
    {
     "data": {
      "text/html": [
       "<a href='pYPK0_RPL16B_EcacpS_TMA19.gb' target='_blank'>pYPK0_RPL16B_EcacpS_TMA19.gb</a><br>"
      ],
      "text/plain": [
       "File(id)(o7275)"
      ]
     },
     "metadata": {},
     "output_type": "display_data"
    }
   ],
   "source": [
    "cassette_vectors = (\"pYPK0_PDC1_EcfabH_TEF1.gb\",\n",
    "                    \"pYPK0_TEF1_EcfabD_FBA1.gb\",\n",
    "                    \"pYPK0_FBA1_EcfabG_RPL22A.gb\",\n",
    "                    \"pYPK0_RPL22A_EcacpP_TDH3.gb\",\n",
    "                    \"pYPK0_TDH3_EcfabF_UTR2.gb\",\n",
    "                    \"pYPK0_UTR2_EcfabB_TPI1.gb\",\n",
    "                    \"pYPK0_TPI1_EcfabA_PMP3.gb\",\n",
    "                    \"pYPK0_PMP3_EcfabZ_ENO2.gb\",\n",
    "                    \"pYPK0_ENO2_Athmod1_RPL5.gb\",\n",
    "                    \"pYPK0_RPL5_AthfatA1_RPL16A.gb\",\n",
    "                    \"pYPK0_RPL16A_AthfatB_RPL17A.gb\",\n",
    "                    \"pYPK0_RPL17A_EcacpH_RPL16B.gb\",\n",
    "                    \"pYPK0_RPL16B_EcacpS_TMA19.gb\")\n",
    "template_vectors = [read(v.strip()) for v in cassette_vectors if v.strip()]\n",
    "for tv in  template_vectors:\n",
    "    display(tv)"
   ]
  },
  {
   "cell_type": "markdown",
   "id": "cc5ae5cd",
   "metadata": {},
   "source": [
    "The first cassette in the pathway is amplified with standard primers 577 and 778."
   ]
  },
  {
   "cell_type": "code",
   "execution_count": 7,
   "id": "9572afce",
   "metadata": {
    "tags": []
   },
   "outputs": [],
   "source": [
    "cassette_products.append( pcr( p['577'], p['778'],  template_vectors[0] ) )"
   ]
  },
  {
   "cell_type": "markdown",
   "id": "461a048f",
   "metadata": {},
   "source": [
    "Cassettes in the middle cassettes are amplified with standard primers 1123 and 778."
   ]
  },
  {
   "cell_type": "code",
   "execution_count": 8,
   "id": "1417f7c3-0da4-41bb-a0d0-317cea69d83b",
   "metadata": {},
   "outputs": [],
   "source": [
    "cassette_products.extend( pcr( p['1123'], p['778'], v) for v in template_vectors[1:-1] )"
   ]
  },
  {
   "cell_type": "code",
   "execution_count": 9,
   "id": "497a4b94-8cd4-4eb4-8949-aa2e9074ddff",
   "metadata": {},
   "outputs": [],
   "source": [
    "# pcr( p['1123'], p['512'],  template_vectors[4])"
   ]
  },
  {
   "cell_type": "code",
   "execution_count": 10,
   "id": "70a52fc0-8d3f-4208-baeb-a9847b8241c6",
   "metadata": {},
   "outputs": [],
   "source": [
    "cassette_products[4] = pcr( p['508'], p['512'],  template_vectors[4])"
   ]
  },
  {
   "cell_type": "code",
   "execution_count": 11,
   "id": "d84d6d39-7aba-4055-886d-3f1bfaa793ce",
   "metadata": {},
   "outputs": [],
   "source": [
    "cassette_products[5] = pcr( p['1026'], p['621'],  template_vectors[5])"
   ]
  },
  {
   "cell_type": "markdown",
   "id": "18b09b00",
   "metadata": {},
   "source": [
    "The last cassette in the pathway is amplified with standard primers 1123 and 578."
   ]
  },
  {
   "cell_type": "code",
   "execution_count": 12,
   "id": "3f893a78",
   "metadata": {
    "tags": []
   },
   "outputs": [],
   "source": [
    "cassette_products.append( pcr( p['1123'], p['578'], template_vectors[-1] ) )"
   ]
  },
  {
   "cell_type": "markdown",
   "id": "9d7cfa9f",
   "metadata": {},
   "source": [
    "The cassettes are given names based on their order in the final construct in the code cell below."
   ]
  },
  {
   "cell_type": "code",
   "execution_count": 13,
   "id": "8fec1754",
   "metadata": {
    "tags": []
   },
   "outputs": [
    {
     "name": "stdout",
     "output_type": "stream",
     "text": [
      "Cassette 1\n",
      "Cassette 2\n",
      "Cassette 3\n",
      "Cassette 4\n",
      "Cassette 5\n",
      "Cassette 6\n",
      "Cassette 7\n",
      "Cassette 8\n",
      "Cassette 9\n",
      "Cassette 10\n",
      "Cassette 11\n",
      "Cassette 12\n",
      "Cassette 13\n"
     ]
    }
   ],
   "source": [
    "for i, cp in enumerate(cassette_products):\n",
    "\tcp.name = \"Cassette {}\".format(i+1)\n",
    "\tprint(cp.name)"
   ]
  },
  {
   "cell_type": "markdown",
   "id": "6040a01d",
   "metadata": {},
   "source": [
    "Cassettes and plasmid backbone are joined by homologous recombination in a Saccharomyces cerevisiae ura3 host\n",
    "which selects for the URA3 gene in pYPKpw."
   ]
  },
  {
   "cell_type": "code",
   "execution_count": 14,
   "id": "08d0d047",
   "metadata": {
    "tags": []
   },
   "outputs": [
    {
     "data": {
      "text/plain": [
       "Assembly\n",
       "fragments..: 6175bp 2780bp 2282bp 1934bp 1504bp 2275bp 2534bp 2000bp 1875bp 2114bp 2060bp 2344bp 2091bp 1908bp\n",
       "limit(bp)..: 110\n",
       "G.nodes....: 28\n",
       "algorithm..: common_sub_strings"
      ]
     },
     "execution_count": 14,
     "metadata": {},
     "output_type": "execute_result"
    }
   ],
   "source": [
    "asm = Assembly( [pTA1.linearize(FspAI)] + cassette_products, limit=167-47-10)\n",
    "asm"
   ]
  },
  {
   "cell_type": "markdown",
   "id": "f00f0c0e",
   "metadata": {},
   "source": [
    "Normally, only one circular product should be formed since the\n",
    "homology limit is quite large (see cell above). More than one\n",
    "circular products might indicate an incorrect strategy.\n",
    "The largest recombination product is chosen as candidate."
   ]
  },
  {
   "cell_type": "code",
   "execution_count": 15,
   "id": "181a8234",
   "metadata": {
    "tags": []
   },
   "outputs": [],
   "source": [
    "candidate, *rest = asm.assemble_circular()"
   ]
  },
  {
   "cell_type": "code",
   "execution_count": 16,
   "id": "2cbf9a73-6d27-4ab4-85e9-198cada7f10c",
   "metadata": {},
   "outputs": [
    {
     "data": {
      "text/plain": [
       "[Contig(o26279)]"
      ]
     },
     "execution_count": 16,
     "metadata": {},
     "output_type": "execute_result"
    }
   ],
   "source": [
    "rest"
   ]
  },
  {
   "cell_type": "markdown",
   "id": "bec83a94",
   "metadata": {},
   "source": [
    "This assembly figure shows how the fragments came together."
   ]
  },
  {
   "cell_type": "code",
   "execution_count": 17,
   "id": "c9ba80ed",
   "metadata": {
    "tags": []
   },
   "outputs": [
    {
     "data": {
      "text/plain": [
       " -|pTA1_lin|124\n",
       "|           \\/\n",
       "|           /\\\n",
       "|           124|Cassette 1|593\n",
       "|                          \\/\n",
       "|                          /\\\n",
       "|                          593|Cassette 2|644\n",
       "|                                         \\/\n",
       "|                                         /\\\n",
       "|                                         644|Cassette 3|440\n",
       "|                                                        \\/\n",
       "|                                                        /\\\n",
       "|                                                        440|Cassette 4|287\n",
       "|                                                                       \\/\n",
       "|                                                                       /\\\n",
       "|                                                                       287|Cassette 5|634\n",
       "|                                                                                      \\/\n",
       "|                                                                                      /\\\n",
       "|                                                                                      634|Cassette 6|596\n",
       "|                                                                                                     \\/\n",
       "|                                                                                                     /\\\n",
       "|                                                                                                     596|Cassette 7|770\n",
       "|                                                                                                                    \\/\n",
       "|                                                                                                                    /\\\n",
       "|                                                                                                                    770|Cassette 8|534\n",
       "|                                                                                                                                   \\/\n",
       "|                                                                                                                                   /\\\n",
       "|                                                                                                                                   534|Cassette 9|515\n",
       "|                                                                                                                                                  \\/\n",
       "|                                                                                                                                                  /\\\n",
       "|                                                                                                                                                  515|Cassette 10|456\n",
       "|                                                                                                                                                                  \\/\n",
       "|                                                                                                                                                                  /\\\n",
       "|                                                                                                                                                                  456|Cassette 11|682\n",
       "|                                                                                                                                                                                  \\/\n",
       "|                                                                                                                                                                                  /\\\n",
       "|                                                                                                                                                                                  682|Cassette 12|712\n",
       "|                                                                                                                                                                                                  \\/\n",
       "|                                                                                                                                                                                                  /\\\n",
       "|                                                                                                                                                                                                  712|Cassette 13|242\n",
       "|                                                                                                                                                                                                                  \\/\n",
       "|                                                                                                                                                                                                                  /\\\n",
       "|                                                                                                                                                                                                                  242-\n",
       "|                                                                                                                                                                                                                     |\n",
       " ---------------------------------------------------------------------------------------------------------------------------------------------------------------------------------------------------------------------"
      ]
     },
     "execution_count": 17,
     "metadata": {},
     "output_type": "execute_result"
    }
   ],
   "source": [
    "candidate.figure()"
   ]
  },
  {
   "cell_type": "markdown",
   "id": "ec5e4a27",
   "metadata": {},
   "source": [
    "The plasmid origin is shifted so that it matches the backbone vector, starting with the 577 primer."
   ]
  },
  {
   "cell_type": "code",
   "execution_count": 18,
   "id": "1deb0c9d",
   "metadata": {},
   "outputs": [],
   "source": [
    "pw = candidate.synced(\"gttctgatcctcgagcatcttaagaattc\")"
   ]
  },
  {
   "cell_type": "code",
   "execution_count": 23,
   "id": "13dfe57e-f79d-4af9-94f1-cddb0fbed351",
   "metadata": {},
   "outputs": [],
   "source": [
    "assert len(pw) == 26279"
   ]
  },
  {
   "cell_type": "markdown",
   "id": "69b640e2",
   "metadata": {},
   "source": [
    "The cseguid checksum for the resulting plasmid is calculated for future reference.\n",
    "The [cseguid checksum](https://pydna.readthedocs.io/index.html?highlight=cseguid#pydna.utils.cseguid)\n",
    "uniquely identifies a circular double stranded sequence."
   ]
  },
  {
   "cell_type": "code",
   "execution_count": 24,
   "id": "40f3d3f2",
   "metadata": {
    "tags": []
   },
   "outputs": [],
   "source": [
    "assert pw.cseguid() == \"GsaGCT5nmHM4ixNQocrG-EvFVAY\""
   ]
  },
  {
   "cell_type": "markdown",
   "id": "ff511488",
   "metadata": {},
   "source": [
    "The file is given a name based on the sequence of expressed genes."
   ]
  },
  {
   "cell_type": "code",
   "execution_count": 25,
   "id": "38d81449",
   "metadata": {
    "tags": []
   },
   "outputs": [],
   "source": [
    "pw.locus = \"pTA1_FASII\"\n",
    "pw.definition = \"pTA1 PDC1 EcfabH TEF1 EcfabD FBA1 EcfabG RPL22A EcacpP TDH3 EcfabF UTR2 EcfabB TPI1 EcfabA PMP3 EcfabZ ENO2 Athmod1 RPL5 AthfatA1 RPL16A AthfatB RPL17A EcacpH RPL16B EcacpS TMA19\""
   ]
  },
  {
   "cell_type": "markdown",
   "id": "7f46f6ee",
   "metadata": {},
   "source": [
    "Stamp sequence with cseguid checksum. This can be used to verify the\n",
    "integrity of the sequence file."
   ]
  },
  {
   "cell_type": "code",
   "execution_count": 26,
   "id": "f5d9bf97",
   "metadata": {
    "tags": []
   },
   "outputs": [
    {
     "data": {
      "text/plain": [
       "cSEGUID GsaGCT5nmHM4ixNQocrG-EvFVAY"
      ]
     },
     "execution_count": 26,
     "metadata": {},
     "output_type": "execute_result"
    }
   ],
   "source": [
    "pw.stamp()"
   ]
  },
  {
   "cell_type": "markdown",
   "id": "d3821a47",
   "metadata": {},
   "source": [
    "Write sequence to a local file."
   ]
  },
  {
   "cell_type": "code",
   "execution_count": 27,
   "id": "0d780aca",
   "metadata": {
    "tags": []
   },
   "outputs": [
    {
     "data": {
      "text/html": [
       "<font face=monospace><a href='pTA1_FASII.gb' target='_blank'>pTA1_FASII.gb</a></font><br>"
      ]
     },
     "metadata": {},
     "output_type": "display_data"
    }
   ],
   "source": [
    "pw.write(\"pTA1_FASII.gb\")"
   ]
  },
  {
   "cell_type": "markdown",
   "id": "04177769",
   "metadata": {},
   "source": [
    "The pathway can be extended by digestion with either NotI or PacI or both provided that the enzymes cut once in the final pathway sequence."
   ]
  }
 ],
 "metadata": {
  "kernelspec": {
   "display_name": "Python [conda env:bjorn39]",
   "language": "python",
   "name": "conda-env-bjorn39-py"
  },
  "language_info": {
   "codemirror_mode": {
    "name": "ipython",
    "version": 3
   },
   "file_extension": ".py",
   "mimetype": "text/x-python",
   "name": "python",
   "nbconvert_exporter": "python",
   "pygments_lexer": "ipython3",
   "version": "3.9.7"
  }
 },
 "nbformat": 4,
 "nbformat_minor": 5
}
