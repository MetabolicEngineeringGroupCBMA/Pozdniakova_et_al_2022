{
 "cells": [
  {
   "cell_type": "markdown",
   "id": "da3e38bf",
   "metadata": {},
   "source": [
    "# Construction of pYPK0_A_EcacpH\n",
    "\n",
    "This notebook describe the construction of the _E. coli_ vector [pYPK0_A_EcacpH](pYPK0_A_EcacpH.gb).\n",
    "\n",
    "![pYPK0_A plasmid](pYPK0_A.png \"pYPK0_A plasmid\")\n",
    "\n",
    "A part of the [pydna](https://pypi.python.org/pypi/pydna/) package is imported in the code cell below."
   ]
  },
  {
   "cell_type": "code",
   "execution_count": 1,
   "id": "f6bad50f",
   "metadata": {
    "execution": {
     "iopub.execute_input": "2022-03-06T14:40:48.497991Z",
     "iopub.status.busy": "2022-03-06T14:40:48.497465Z",
     "iopub.status.idle": "2022-03-06T14:40:48.875813Z",
     "shell.execute_reply": "2022-03-06T14:40:48.875225Z"
    }
   },
   "outputs": [],
   "source": [
    "from pydna.readers import read\n",
    "from pydna.genbank import Genbank\n",
    "from pydna.parsers import parse_primers\n",
    "from pydna.amplify import pcr\n",
    "from pydna.assembly import Assembly\n",
    "from pydna.amplify import Anneal"
   ]
  },
  {
   "cell_type": "markdown",
   "id": "ebe429f6",
   "metadata": {},
   "source": [
    "The vector backbone [pYPK0](pYPK0.gb) is read from a local file."
   ]
  },
  {
   "cell_type": "code",
   "execution_count": 2,
   "id": "bdff39b1",
   "metadata": {
    "execution": {
     "iopub.execute_input": "2022-03-06T14:40:48.878610Z",
     "iopub.status.busy": "2022-03-06T14:40:48.878413Z",
     "iopub.status.idle": "2022-03-06T14:40:48.898202Z",
     "shell.execute_reply": "2022-03-06T14:40:48.897092Z"
    }
   },
   "outputs": [],
   "source": [
    "pYPK0 = read(\"pYPK0.gb\")"
   ]
  },
  {
   "cell_type": "markdown",
   "id": "fdbaf2b9",
   "metadata": {},
   "source": [
    "The restriction enzyme [AscI](http://rebase.neb.com/rebase/enz/AscI.html) is imported from [Biopython](http://biopython.org)"
   ]
  },
  {
   "cell_type": "code",
   "execution_count": 3,
   "id": "220642a6",
   "metadata": {
    "execution": {
     "iopub.execute_input": "2022-03-06T14:40:48.901444Z",
     "iopub.status.busy": "2022-03-06T14:40:48.901241Z",
     "iopub.status.idle": "2022-03-06T14:40:48.904184Z",
     "shell.execute_reply": "2022-03-06T14:40:48.903677Z"
    }
   },
   "outputs": [],
   "source": [
    "from Bio.Restriction import AscI"
   ]
  },
  {
   "cell_type": "markdown",
   "id": "cd934e8f",
   "metadata": {},
   "source": [
    "The plasmid is linearized with the enzyme."
   ]
  },
  {
   "cell_type": "code",
   "execution_count": 4,
   "id": "feeb64e5",
   "metadata": {
    "execution": {
     "iopub.execute_input": "2022-03-06T14:40:48.906884Z",
     "iopub.status.busy": "2022-03-06T14:40:48.906674Z",
     "iopub.status.idle": "2022-03-06T14:40:48.912511Z",
     "shell.execute_reply": "2022-03-06T14:40:48.911715Z"
    }
   },
   "outputs": [],
   "source": [
    "pYPK0_AscI  = pYPK0.linearize(AscI)"
   ]
  },
  {
   "cell_type": "markdown",
   "id": "c080d182",
   "metadata": {},
   "source": [
    "Access to [Genbank](http://www.ncbi.nlm.nih.gov/nuccore) is needed in order to download the template.\n",
    "If the email address below is not yours, change it before executing this script as you must always give\n",
    "NCBI a way to contact you when using their service."
   ]
  },
  {
   "cell_type": "code",
   "execution_count": 5,
   "id": "271a0c38",
   "metadata": {
    "execution": {
     "iopub.execute_input": "2022-03-06T14:40:48.915937Z",
     "iopub.status.busy": "2022-03-06T14:40:48.915631Z",
     "iopub.status.idle": "2022-03-06T14:40:48.921573Z",
     "shell.execute_reply": "2022-03-06T14:40:48.920281Z"
    }
   },
   "outputs": [],
   "source": [
    "gb = Genbank(\"bjornjobb@gmail.com\")"
   ]
  },
  {
   "cell_type": "markdown",
   "id": "1f30f7b1",
   "metadata": {},
   "source": [
    "The template is downloaded from Genbank below."
   ]
  },
  {
   "cell_type": "code",
   "execution_count": 6,
   "id": "9cffddf0",
   "metadata": {
    "execution": {
     "iopub.execute_input": "2022-03-06T14:40:48.924849Z",
     "iopub.status.busy": "2022-03-06T14:40:48.924559Z",
     "iopub.status.idle": "2022-03-06T14:40:48.942351Z",
     "shell.execute_reply": "2022-03-06T14:40:48.941642Z"
    }
   },
   "outputs": [
    {
     "data": {
      "text/html": [
       "<a href='https://www.ncbi.nlm.nih.gov/nuccore/NC_000913 ?from=424337&to=424918&strand=2' target='_blank'>NC_000913  424337-424918</a>"
      ],
      "text/plain": [
       "Gbank(NC_000913  424337-424918)(-582)"
      ]
     },
     "execution_count": 6,
     "metadata": {},
     "output_type": "execute_result"
    }
   ],
   "source": [
    "template  = gb.nucleotide(\"NC_000913 REGION: complement(424337..424918)\")\n",
    "template"
   ]
  },
  {
   "cell_type": "markdown",
   "id": "c0de5df5",
   "metadata": {},
   "source": [
    "The two primers below are used to amplify the insert."
   ]
  },
  {
   "cell_type": "code",
   "execution_count": 7,
   "id": "a28c8715",
   "metadata": {
    "execution": {
     "iopub.execute_input": "2022-03-06T14:40:48.944927Z",
     "iopub.status.busy": "2022-03-06T14:40:48.944692Z",
     "iopub.status.idle": "2022-03-06T14:40:48.949062Z",
     "shell.execute_reply": "2022-03-06T14:40:48.948344Z"
    }
   },
   "outputs": [],
   "source": [
    "fp,rp =  parse_primers(\"\"\">953_acpH_YPK_fw\n",
    "                          GCCAGGTTGCCCACTTTCTCACTAGTGACCTGCAGCCaaATGAATTTTTTAGCTCACCTG\n",
    "                          >952_acpH_YPK_rv\n",
    "                          TAAATCCGGATATCCTGATGCGTTTGTCTGCACAGATGGTTATAACGCCTTGCGTGACGC\"\"\")"
   ]
  },
  {
   "cell_type": "markdown",
   "id": "ce897284",
   "metadata": {},
   "source": [
    "The gene is amplifed using the primers specified above."
   ]
  },
  {
   "cell_type": "code",
   "execution_count": 8,
   "id": "775d6173",
   "metadata": {
    "execution": {
     "iopub.execute_input": "2022-03-06T14:40:48.952025Z",
     "iopub.status.busy": "2022-03-06T14:40:48.951745Z",
     "iopub.status.idle": "2022-03-06T14:40:48.963158Z",
     "shell.execute_reply": "2022-03-06T14:40:48.962199Z"
    }
   },
   "outputs": [],
   "source": [
    "ins = pcr(fp, rp, template)"
   ]
  },
  {
   "cell_type": "markdown",
   "id": "9a1f9cae",
   "metadata": {},
   "source": [
    "The primers anneal on the template like this."
   ]
  },
  {
   "cell_type": "code",
   "execution_count": 9,
   "id": "6c98a97e",
   "metadata": {
    "execution": {
     "iopub.execute_input": "2022-03-06T14:40:48.967705Z",
     "iopub.status.busy": "2022-03-06T14:40:48.967322Z",
     "iopub.status.idle": "2022-03-06T14:40:48.973341Z",
     "shell.execute_reply": "2022-03-06T14:40:48.972463Z"
    }
   },
   "outputs": [
    {
     "data": {
      "text/plain": [
       "                                       5ATGAATTTTTTAGCTCACCTG...GCGTCACGCAAGGCGTTATAA3\n",
       "                                                                |||||||||||||||||||||\n",
       "                                                               3CGCAGTGCGTTCCGCAATATTGGTAGACACGTCTGTTTGCGTAGTCCTATAGGCCTAAAT5\n",
       "5GCCAGGTTGCCCACTTTCTCACTAGTGACCTGCAGCCaaATGAATTTTTTAGCTCACCTG3\n",
       "                                        |||||||||||||||||||||\n",
       "                                       3TACTTAAAAAATCGAGTGGAC...CGCAGTGCGTTCCGCAATATT5"
      ]
     },
     "execution_count": 9,
     "metadata": {},
     "output_type": "execute_result"
    }
   ],
   "source": [
    "ins.figure()"
   ]
  },
  {
   "cell_type": "markdown",
   "id": "812c3851",
   "metadata": {},
   "source": [
    "A suggested PCR program."
   ]
  },
  {
   "cell_type": "code",
   "execution_count": 10,
   "id": "3684a05e",
   "metadata": {
    "execution": {
     "iopub.execute_input": "2022-03-06T14:40:48.976741Z",
     "iopub.status.busy": "2022-03-06T14:40:48.976444Z",
     "iopub.status.idle": "2022-03-06T14:40:48.982306Z",
     "shell.execute_reply": "2022-03-06T14:40:48.981583Z"
    }
   },
   "outputs": [
    {
     "data": {
      "text/plain": [
       "|95°C|95°C               |    |tmf:55.5\n",
       "|____|_____          72°C|72°C|tmr:66.3\n",
       "|3min|30s  \\ 58.2°C _____|____|45s/kb\n",
       "|    |      \\______/ 0:30|5min|GC 52%\n",
       "|    |       30s         |    |660bp"
      ]
     },
     "execution_count": 10,
     "metadata": {},
     "output_type": "execute_result"
    }
   ],
   "source": [
    "ins.program()"
   ]
  },
  {
   "cell_type": "markdown",
   "id": "854499cc",
   "metadata": {},
   "source": [
    "The linearzed vector and the insert are joined by homologous recombination."
   ]
  },
  {
   "cell_type": "code",
   "execution_count": 11,
   "id": "6b771a15",
   "metadata": {
    "execution": {
     "iopub.execute_input": "2022-03-06T14:40:48.985885Z",
     "iopub.status.busy": "2022-03-06T14:40:48.985620Z",
     "iopub.status.idle": "2022-03-06T14:40:49.117887Z",
     "shell.execute_reply": "2022-03-06T14:40:49.117277Z"
    }
   },
   "outputs": [
    {
     "data": {
      "text/plain": [
       "Assembly\n",
       "fragments..: 5766bp 660bp\n",
       "limit(bp)..: 25\n",
       "G.nodes....: 4\n",
       "algorithm..: common_sub_strings"
      ]
     },
     "execution_count": 11,
     "metadata": {},
     "output_type": "execute_result"
    }
   ],
   "source": [
    "asm = Assembly((pYPK0_AscI,ins))\n",
    "asm"
   ]
  },
  {
   "cell_type": "markdown",
   "id": "0c899872",
   "metadata": {},
   "source": [
    "Usually two equally sized products are formed."
   ]
  },
  {
   "cell_type": "code",
   "execution_count": 12,
   "id": "798e49d5",
   "metadata": {
    "execution": {
     "iopub.execute_input": "2022-03-06T14:40:49.120331Z",
     "iopub.status.busy": "2022-03-06T14:40:49.120108Z",
     "iopub.status.idle": "2022-03-06T14:40:49.282232Z",
     "shell.execute_reply": "2022-03-06T14:40:49.281624Z"
    }
   },
   "outputs": [
    {
     "data": {
      "text/plain": [
       "[Contig(o6340), Contig(o6340)]"
      ]
     },
     "execution_count": 12,
     "metadata": {},
     "output_type": "execute_result"
    }
   ],
   "source": [
    "circular_products = asm.assemble_circular()\n",
    "circular_products"
   ]
  },
  {
   "cell_type": "markdown",
   "id": "d39b4543",
   "metadata": {},
   "source": [
    "The first sequence is chosen."
   ]
  },
  {
   "cell_type": "code",
   "execution_count": 13,
   "id": "3d351351",
   "metadata": {
    "execution": {
     "iopub.execute_input": "2022-03-06T14:40:49.284748Z",
     "iopub.status.busy": "2022-03-06T14:40:49.284384Z",
     "iopub.status.idle": "2022-03-06T14:40:49.287626Z",
     "shell.execute_reply": "2022-03-06T14:40:49.286998Z"
    }
   },
   "outputs": [],
   "source": [
    "candidate = circular_products[0]"
   ]
  },
  {
   "cell_type": "markdown",
   "id": "14e96e87",
   "metadata": {},
   "source": [
    "The final vector is:"
   ]
  },
  {
   "cell_type": "code",
   "execution_count": 14,
   "id": "cf4c94a2",
   "metadata": {
    "execution": {
     "iopub.execute_input": "2022-03-06T14:40:49.291517Z",
     "iopub.status.busy": "2022-03-06T14:40:49.290651Z",
     "iopub.status.idle": "2022-03-06T14:40:49.611347Z",
     "shell.execute_reply": "2022-03-06T14:40:49.610743Z"
    }
   },
   "outputs": [],
   "source": [
    "pYPK0_A_EcacpH = candidate.synced(\"gttctgatcctcgagcatcttaagaattc\")"
   ]
  },
  {
   "cell_type": "markdown",
   "id": "9cd68d53",
   "metadata": {},
   "source": [
    "A combination of standard primers and the gene specific primers are\n",
    "used for the strategy to identify correct clones.\n",
    "Standard primers are listed [here](standard_primers.txt).\n",
    "The standard primers are read into a dictonary in the code cell below."
   ]
  },
  {
   "cell_type": "code",
   "execution_count": 15,
   "id": "44854304",
   "metadata": {
    "execution": {
     "iopub.execute_input": "2022-03-06T14:40:49.614248Z",
     "iopub.status.busy": "2022-03-06T14:40:49.614030Z",
     "iopub.status.idle": "2022-03-06T14:40:49.618643Z",
     "shell.execute_reply": "2022-03-06T14:40:49.618014Z"
    }
   },
   "outputs": [],
   "source": [
    "p = { x.id: x for x in parse_primers(\"standard_primers.txt\") }"
   ]
  },
  {
   "cell_type": "markdown",
   "id": "405b39bf",
   "metadata": {},
   "source": [
    "## Diagnostic PCR confirmation of pYPK0_A_EcacpH\n",
    "\n",
    "The correct structure of pYPK0_A_EcacpH is confirmed by PCR using standard primers\n",
    "577 and 342 that are vector specific together with the EcacpHfw primer specific for the insert\n",
    "in a multiplex PCR reaction with three primers present in the PCR reaction.\n",
    "\n",
    "Two PCR products are expected if the insert was sucessfully cloned, sizes depending\n",
    "on the orientation of the insert.\n",
    "If the vector is empty, only one short product is formed.\n",
    "\n",
    "## Expected PCR products sizes:\n",
    "\n",
    "pYPK0_A_EcacpH with insert in correct orientation."
   ]
  },
  {
   "cell_type": "code",
   "execution_count": 16,
   "id": "ae602c4c",
   "metadata": {
    "execution": {
     "iopub.execute_input": "2022-03-06T14:40:49.621535Z",
     "iopub.status.busy": "2022-03-06T14:40:49.621272Z",
     "iopub.status.idle": "2022-03-06T14:40:49.641070Z",
     "shell.execute_reply": "2022-03-06T14:40:49.640549Z"
    }
   },
   "outputs": [
    {
     "data": {
      "text/plain": [
       "[Amplicon(1512), Amplicon(1334)]"
      ]
     },
     "execution_count": 16,
     "metadata": {},
     "output_type": "execute_result"
    }
   ],
   "source": [
    "Anneal( (p['577'], p['342'], fp), pYPK0_A_EcacpH).products"
   ]
  },
  {
   "cell_type": "markdown",
   "id": "3bd496f8",
   "metadata": {},
   "source": [
    "Empty clone"
   ]
  },
  {
   "cell_type": "code",
   "execution_count": 17,
   "id": "07ef75af",
   "metadata": {
    "execution": {
     "iopub.execute_input": "2022-03-06T14:40:49.643596Z",
     "iopub.status.busy": "2022-03-06T14:40:49.643403Z",
     "iopub.status.idle": "2022-03-06T14:40:49.651805Z",
     "shell.execute_reply": "2022-03-06T14:40:49.651190Z"
    }
   },
   "outputs": [
    {
     "data": {
      "text/plain": [
       "[Amplicon(934)]"
      ]
     },
     "execution_count": 17,
     "metadata": {},
     "output_type": "execute_result"
    }
   ],
   "source": [
    "Anneal( (p['577'], p['342'], fp), pYPK0).products"
   ]
  },
  {
   "cell_type": "markdown",
   "id": "a919e818",
   "metadata": {},
   "source": [
    "The cseguid checksum for the resulting plasmid is calculated for future reference.\n",
    "The [cseguid checksum](http://pydna.readthedocs.org/en/latest/pydna.html#pydna.utils.cseguid)\n",
    "uniquely identifies a circular double stranded sequence."
   ]
  },
  {
   "cell_type": "code",
   "execution_count": 18,
   "id": "5a069f72",
   "metadata": {
    "execution": {
     "iopub.execute_input": "2022-03-06T14:40:49.654893Z",
     "iopub.status.busy": "2022-03-06T14:40:49.654619Z",
     "iopub.status.idle": "2022-03-06T14:40:49.666659Z",
     "shell.execute_reply": "2022-03-06T14:40:49.665891Z"
    }
   },
   "outputs": [
    {
     "data": {
      "text/plain": [
       "pdLwPpt6DySZDH23WSoTvA88dcI"
      ]
     },
     "execution_count": 18,
     "metadata": {},
     "output_type": "execute_result"
    }
   ],
   "source": [
    "pYPK0_A_EcacpH.cseguid()"
   ]
  },
  {
   "cell_type": "markdown",
   "id": "07027616",
   "metadata": {},
   "source": [
    "The file is given a name based on the cloned insert"
   ]
  },
  {
   "cell_type": "code",
   "execution_count": 19,
   "id": "f3643a7e",
   "metadata": {
    "execution": {
     "iopub.execute_input": "2022-03-06T14:40:49.669762Z",
     "iopub.status.busy": "2022-03-06T14:40:49.669463Z",
     "iopub.status.idle": "2022-03-06T14:40:49.673340Z",
     "shell.execute_reply": "2022-03-06T14:40:49.672473Z"
    }
   },
   "outputs": [],
   "source": [
    "pYPK0_A_EcacpH.locus = \"pYPK0_A_EcacpH\"[:16]"
   ]
  },
  {
   "cell_type": "markdown",
   "id": "28d5d5d0",
   "metadata": {},
   "source": [
    "Sequence is stamped with the cseguid checksum.\n",
    "This can be used to verify the integrity of the sequence file."
   ]
  },
  {
   "cell_type": "code",
   "execution_count": 20,
   "id": "9b38cf09",
   "metadata": {
    "execution": {
     "iopub.execute_input": "2022-03-06T14:40:49.677639Z",
     "iopub.status.busy": "2022-03-06T14:40:49.677322Z",
     "iopub.status.idle": "2022-03-06T14:40:49.689653Z",
     "shell.execute_reply": "2022-03-06T14:40:49.689100Z"
    }
   },
   "outputs": [
    {
     "data": {
      "text/plain": [
       "cSEGUID_pdLwPpt6DySZDH23WSoTvA88dcI"
      ]
     },
     "execution_count": 20,
     "metadata": {},
     "output_type": "execute_result"
    }
   ],
   "source": [
    "pYPK0_A_EcacpH.stamp()"
   ]
  },
  {
   "cell_type": "markdown",
   "id": "3b588bf9",
   "metadata": {},
   "source": [
    "The sequence is written to a local file."
   ]
  },
  {
   "cell_type": "code",
   "execution_count": 21,
   "id": "6fff2f14",
   "metadata": {
    "execution": {
     "iopub.execute_input": "2022-03-06T14:40:49.691992Z",
     "iopub.status.busy": "2022-03-06T14:40:49.691763Z",
     "iopub.status.idle": "2022-03-06T14:40:49.696413Z",
     "shell.execute_reply": "2022-03-06T14:40:49.695932Z"
    }
   },
   "outputs": [
    {
     "data": {
      "text/html": [
       "<font face=monospace><a href='pYPK0_A_EcacpH.gb' target='_blank'>pYPK0_A_EcacpH.gb</a></font><br>"
      ]
     },
     "metadata": {},
     "output_type": "display_data"
    }
   ],
   "source": [
    "pYPK0_A_EcacpH.write(\"pYPK0_A_EcacpH.gb\")"
   ]
  }
 ],
 "metadata": {
  "language_info": {
   "codemirror_mode": {
    "name": "ipython",
    "version": 3
   },
   "file_extension": ".py",
   "mimetype": "text/x-python",
   "name": "python",
   "nbconvert_exporter": "python",
   "pygments_lexer": "ipython3",
   "version": "3.9.7"
  }
 },
 "nbformat": 4,
 "nbformat_minor": 5
}
