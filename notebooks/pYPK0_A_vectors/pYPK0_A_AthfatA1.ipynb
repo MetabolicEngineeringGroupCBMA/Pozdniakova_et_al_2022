{
 "cells": [
  {
   "cell_type": "markdown",
   "id": "519f853a",
   "metadata": {},
   "source": [
    "# Construction of pYPK0_A_AthfatA1\n",
    "\n",
    "This notebook describe the construction of the _E. coli_ vector [pYPK0_A_AthfatA1](pYPK0_A_AthfatA1.gb).\n",
    "\n",
    "![pYPK0_A plasmid](pYPK0_A.png \"pYPK0_A plasmid\")\n",
    "\n",
    "A part of the [pydna](https://pypi.python.org/pypi/pydna/) package is imported in the code cell below."
   ]
  },
  {
   "cell_type": "code",
   "execution_count": 1,
   "id": "b6db575d",
   "metadata": {
    "execution": {
     "iopub.execute_input": "2022-03-06T14:40:43.912574Z",
     "iopub.status.busy": "2022-03-06T14:40:43.911734Z",
     "iopub.status.idle": "2022-03-06T14:40:44.275707Z",
     "shell.execute_reply": "2022-03-06T14:40:44.275101Z"
    }
   },
   "outputs": [],
   "source": [
    "from pydna.readers import read\n",
    "from pydna.genbank import Genbank\n",
    "from pydna.parsers import parse_primers\n",
    "from pydna.amplify import pcr\n",
    "from pydna.assembly import Assembly\n",
    "from pydna.amplify import Anneal"
   ]
  },
  {
   "cell_type": "markdown",
   "id": "0d8b5995",
   "metadata": {},
   "source": [
    "The vector backbone [pYPK0](pYPK0.gb) is read from a local file."
   ]
  },
  {
   "cell_type": "code",
   "execution_count": 2,
   "id": "c458840f",
   "metadata": {
    "execution": {
     "iopub.execute_input": "2022-03-06T14:40:44.278483Z",
     "iopub.status.busy": "2022-03-06T14:40:44.278269Z",
     "iopub.status.idle": "2022-03-06T14:40:44.296700Z",
     "shell.execute_reply": "2022-03-06T14:40:44.296144Z"
    }
   },
   "outputs": [],
   "source": [
    "pYPK0 = read(\"pYPK0.gb\")"
   ]
  },
  {
   "cell_type": "markdown",
   "id": "fc4c33c6",
   "metadata": {},
   "source": [
    "The restriction enzyme [AscI](http://rebase.neb.com/rebase/enz/AscI.html) is imported from [Biopython](http://biopython.org)"
   ]
  },
  {
   "cell_type": "code",
   "execution_count": 3,
   "id": "b273aa54",
   "metadata": {
    "execution": {
     "iopub.execute_input": "2022-03-06T14:40:44.299144Z",
     "iopub.status.busy": "2022-03-06T14:40:44.298937Z",
     "iopub.status.idle": "2022-03-06T14:40:44.301947Z",
     "shell.execute_reply": "2022-03-06T14:40:44.301238Z"
    }
   },
   "outputs": [],
   "source": [
    "from Bio.Restriction import AscI"
   ]
  },
  {
   "cell_type": "markdown",
   "id": "bbeda8d9",
   "metadata": {},
   "source": [
    "The plasmid is linearized with the enzyme."
   ]
  },
  {
   "cell_type": "code",
   "execution_count": 4,
   "id": "8954e70f",
   "metadata": {
    "execution": {
     "iopub.execute_input": "2022-03-06T14:40:44.305117Z",
     "iopub.status.busy": "2022-03-06T14:40:44.304839Z",
     "iopub.status.idle": "2022-03-06T14:40:44.311797Z",
     "shell.execute_reply": "2022-03-06T14:40:44.310592Z"
    }
   },
   "outputs": [],
   "source": [
    "pYPK0_AscI  = pYPK0.linearize(AscI)"
   ]
  },
  {
   "cell_type": "markdown",
   "id": "110e57f9",
   "metadata": {},
   "source": [
    "Access to [Genbank](http://www.ncbi.nlm.nih.gov/nuccore) is needed in order to download the template.\n",
    "If the email address below is not yours, change it before executing this script as you must always give\n",
    "NCBI a way to contact you when using their service."
   ]
  },
  {
   "cell_type": "code",
   "execution_count": 5,
   "id": "c975bc36",
   "metadata": {
    "execution": {
     "iopub.execute_input": "2022-03-06T14:40:44.316056Z",
     "iopub.status.busy": "2022-03-06T14:40:44.315495Z",
     "iopub.status.idle": "2022-03-06T14:40:44.320354Z",
     "shell.execute_reply": "2022-03-06T14:40:44.319641Z"
    }
   },
   "outputs": [],
   "source": [
    "gb = Genbank(\"bjornjobb@gmail.com\")"
   ]
  },
  {
   "cell_type": "markdown",
   "id": "09b2632b",
   "metadata": {},
   "source": [
    "The template is downloaded from Genbank below."
   ]
  },
  {
   "cell_type": "code",
   "execution_count": 6,
   "id": "d1684a11",
   "metadata": {
    "execution": {
     "iopub.execute_input": "2022-03-06T14:40:44.323904Z",
     "iopub.status.busy": "2022-03-06T14:40:44.323654Z",
     "iopub.status.idle": "2022-03-06T14:40:44.340859Z",
     "shell.execute_reply": "2022-03-06T14:40:44.340264Z"
    }
   },
   "outputs": [
    {
     "data": {
      "text/html": [
       "<a href='https://www.ncbi.nlm.nih.gov/nuccore/NM_113415 ?from=253&to=1341&strand=1' target='_blank'>NM_113415  253-1341</a>"
      ],
      "text/plain": [
       "Gbank(NM_113415  253-1341)(-1089)"
      ]
     },
     "execution_count": 6,
     "metadata": {},
     "output_type": "execute_result"
    }
   ],
   "source": [
    "template  = gb.nucleotide(\"NM_113415 REGION: 253..1341\")\n",
    "template"
   ]
  },
  {
   "cell_type": "markdown",
   "id": "138a4c0f",
   "metadata": {},
   "source": [
    "The two primers below are used to amplify the insert."
   ]
  },
  {
   "cell_type": "code",
   "execution_count": 7,
   "id": "53a2fc69",
   "metadata": {
    "execution": {
     "iopub.execute_input": "2022-03-06T14:40:44.343282Z",
     "iopub.status.busy": "2022-03-06T14:40:44.343038Z",
     "iopub.status.idle": "2022-03-06T14:40:44.346915Z",
     "shell.execute_reply": "2022-03-06T14:40:44.346194Z"
    }
   },
   "outputs": [],
   "source": [
    "fp,rp =  parse_primers(\"\"\">949_AthFatA1_YPK_fw\n",
    "                          GCCAGGTTGCCCACTTTCTCACTAGTGACCTGCAGCCGGaaATGTGTTCTCAGACGAAGAAGACAGGT\n",
    "                          >948_AthFatA1_YPK_rv\n",
    "                          TAAATCCGGATATCCTGATGCGTTTGTCTGCACAGATGGTTAACTTGAAGGCTTCTTTCTCCACAG\"\"\")"
   ]
  },
  {
   "cell_type": "markdown",
   "id": "6b303a35",
   "metadata": {},
   "source": [
    "The gene is amplifed using the primers specified above."
   ]
  },
  {
   "cell_type": "code",
   "execution_count": 8,
   "id": "4d5e6449",
   "metadata": {
    "execution": {
     "iopub.execute_input": "2022-03-06T14:40:44.350023Z",
     "iopub.status.busy": "2022-03-06T14:40:44.349763Z",
     "iopub.status.idle": "2022-03-06T14:40:44.357474Z",
     "shell.execute_reply": "2022-03-06T14:40:44.356899Z"
    }
   },
   "outputs": [],
   "source": [
    "ins = pcr(fp, rp, template)"
   ]
  },
  {
   "cell_type": "markdown",
   "id": "21c14d8d",
   "metadata": {},
   "source": [
    "The primers anneal on the template like this."
   ]
  },
  {
   "cell_type": "code",
   "execution_count": 9,
   "id": "9d4cc438",
   "metadata": {
    "execution": {
     "iopub.execute_input": "2022-03-06T14:40:44.360623Z",
     "iopub.status.busy": "2022-03-06T14:40:44.360353Z",
     "iopub.status.idle": "2022-03-06T14:40:44.365342Z",
     "shell.execute_reply": "2022-03-06T14:40:44.364537Z"
    }
   },
   "outputs": [
    {
     "data": {
      "text/plain": [
       "                                            5TGTTCTCAGACGAAGAAGACAGGT...CTGTGGAGAAAGAAGCCTTCAAGTTAA3\n",
       "                                                                        |||||||||||||||||||||||||||\n",
       "                                                                       3GACACCTCTTTCTTCGGAAGTTCAATTGGTAGACACGTCTGTTTGCGTAGTCCTATAGGCCTAAAT5\n",
       "5GCCAGGTTGCCCACTTTCTCACTAGTGACCTGCAGCCGGaaATGTGTTCTCAGACGAAGAAGACAGGT3\n",
       "                                             ||||||||||||||||||||||||\n",
       "                                            3ACAAGAGTCTGCTTCTTCTGTCCA...GACACCTCTTTCTTCGGAAGTTCAATT5"
      ]
     },
     "execution_count": 9,
     "metadata": {},
     "output_type": "execute_result"
    }
   ],
   "source": [
    "ins.figure()"
   ]
  },
  {
   "cell_type": "markdown",
   "id": "dcaac370",
   "metadata": {},
   "source": [
    "A suggested PCR program."
   ]
  },
  {
   "cell_type": "code",
   "execution_count": 10,
   "id": "bfb6d7a3",
   "metadata": {
    "execution": {
     "iopub.execute_input": "2022-03-06T14:40:44.370966Z",
     "iopub.status.busy": "2022-03-06T14:40:44.370734Z",
     "iopub.status.idle": "2022-03-06T14:40:44.375745Z",
     "shell.execute_reply": "2022-03-06T14:40:44.375122Z"
    }
   },
   "outputs": [
    {
     "data": {
      "text/plain": [
       "|95°C|95°C               |    |tmf:64.5\n",
       "|____|_____          72°C|72°C|tmr:65.1\n",
       "|3min|30s  \\ 59.2°C _____|____|45s/kb\n",
       "|    |      \\______/ 0:47|5min|GC 46%\n",
       "|    |       30s         |    |1058bp"
      ]
     },
     "execution_count": 10,
     "metadata": {},
     "output_type": "execute_result"
    }
   ],
   "source": [
    "ins.program()"
   ]
  },
  {
   "cell_type": "markdown",
   "id": "51668bc1",
   "metadata": {},
   "source": [
    "The linearzed vector and the insert are joined by homologous recombination."
   ]
  },
  {
   "cell_type": "code",
   "execution_count": 11,
   "id": "fc523aa5",
   "metadata": {
    "execution": {
     "iopub.execute_input": "2022-03-06T14:40:44.378286Z",
     "iopub.status.busy": "2022-03-06T14:40:44.378057Z",
     "iopub.status.idle": "2022-03-06T14:40:44.514680Z",
     "shell.execute_reply": "2022-03-06T14:40:44.514123Z"
    }
   },
   "outputs": [
    {
     "data": {
      "text/plain": [
       "Assembly\n",
       "fragments..: 5766bp 1058bp\n",
       "limit(bp)..: 25\n",
       "G.nodes....: 4\n",
       "algorithm..: common_sub_strings"
      ]
     },
     "execution_count": 11,
     "metadata": {},
     "output_type": "execute_result"
    }
   ],
   "source": [
    "asm = Assembly((pYPK0_AscI,ins))\n",
    "asm"
   ]
  },
  {
   "cell_type": "markdown",
   "id": "d8f581f3",
   "metadata": {},
   "source": [
    "Usually two equally sized products are formed."
   ]
  },
  {
   "cell_type": "code",
   "execution_count": 12,
   "id": "acb6706d",
   "metadata": {
    "execution": {
     "iopub.execute_input": "2022-03-06T14:40:44.517187Z",
     "iopub.status.busy": "2022-03-06T14:40:44.516949Z",
     "iopub.status.idle": "2022-03-06T14:40:44.676819Z",
     "shell.execute_reply": "2022-03-06T14:40:44.676201Z"
    }
   },
   "outputs": [
    {
     "data": {
      "text/plain": [
       "[Contig(o6738), Contig(o6738)]"
      ]
     },
     "execution_count": 12,
     "metadata": {},
     "output_type": "execute_result"
    }
   ],
   "source": [
    "circular_products = asm.assemble_circular()\n",
    "circular_products"
   ]
  },
  {
   "cell_type": "markdown",
   "id": "c464853d",
   "metadata": {},
   "source": [
    "The first sequence is chosen."
   ]
  },
  {
   "cell_type": "code",
   "execution_count": 13,
   "id": "020b089e",
   "metadata": {
    "execution": {
     "iopub.execute_input": "2022-03-06T14:40:44.679342Z",
     "iopub.status.busy": "2022-03-06T14:40:44.679133Z",
     "iopub.status.idle": "2022-03-06T14:40:44.682021Z",
     "shell.execute_reply": "2022-03-06T14:40:44.681551Z"
    }
   },
   "outputs": [],
   "source": [
    "candidate = circular_products[0]"
   ]
  },
  {
   "cell_type": "markdown",
   "id": "da4bd7ec",
   "metadata": {},
   "source": [
    "The final vector is:"
   ]
  },
  {
   "cell_type": "code",
   "execution_count": 14,
   "id": "d21228d3",
   "metadata": {
    "execution": {
     "iopub.execute_input": "2022-03-06T14:40:44.684326Z",
     "iopub.status.busy": "2022-03-06T14:40:44.684103Z",
     "iopub.status.idle": "2022-03-06T14:40:45.010148Z",
     "shell.execute_reply": "2022-03-06T14:40:45.009505Z"
    }
   },
   "outputs": [],
   "source": [
    "pYPK0_A_AthfatA1 = candidate.synced(\"gttctgatcctcgagcatcttaagaattc\")"
   ]
  },
  {
   "cell_type": "markdown",
   "id": "12f24020",
   "metadata": {},
   "source": [
    "A combination of standard primers and the gene specific primers are\n",
    "used for the strategy to identify correct clones.\n",
    "Standard primers are listed [here](standard_primers.txt).\n",
    "The standard primers are read into a dictonary in the code cell below."
   ]
  },
  {
   "cell_type": "code",
   "execution_count": 15,
   "id": "d85a3bc3",
   "metadata": {
    "execution": {
     "iopub.execute_input": "2022-03-06T14:40:45.012998Z",
     "iopub.status.busy": "2022-03-06T14:40:45.012775Z",
     "iopub.status.idle": "2022-03-06T14:40:45.016678Z",
     "shell.execute_reply": "2022-03-06T14:40:45.016221Z"
    }
   },
   "outputs": [],
   "source": [
    "p = { x.id: x for x in parse_primers(\"standard_primers.txt\") }"
   ]
  },
  {
   "cell_type": "markdown",
   "id": "4e96b2a6",
   "metadata": {},
   "source": [
    "## Diagnostic PCR confirmation of pYPK0_A_AthfatA1\n",
    "\n",
    "The correct structure of pYPK0_A_AthfatA1 is confirmed by PCR using standard primers\n",
    "577 and 342 that are vector specific together with the AthfatA1fw primer specific for the insert\n",
    "in a multiplex PCR reaction with three primers present in the PCR reaction.\n",
    "\n",
    "Two PCR products are expected if the insert was sucessfully cloned, sizes depending\n",
    "on the orientation of the insert.\n",
    "If the vector is empty, only one short product is formed.\n",
    "\n",
    "## Expected PCR products sizes:\n",
    "\n",
    "pYPK0_A_AthfatA1 with insert in correct orientation."
   ]
  },
  {
   "cell_type": "code",
   "execution_count": 16,
   "id": "93cf7452",
   "metadata": {
    "execution": {
     "iopub.execute_input": "2022-03-06T14:40:45.021966Z",
     "iopub.status.busy": "2022-03-06T14:40:45.021606Z",
     "iopub.status.idle": "2022-03-06T14:40:45.038269Z",
     "shell.execute_reply": "2022-03-06T14:40:45.037723Z"
    }
   },
   "outputs": [
    {
     "data": {
      "text/plain": [
       "[Amplicon(1910), Amplicon(1732)]"
      ]
     },
     "execution_count": 16,
     "metadata": {},
     "output_type": "execute_result"
    }
   ],
   "source": [
    "Anneal( (p['577'], p['342'], fp), pYPK0_A_AthfatA1).products"
   ]
  },
  {
   "cell_type": "markdown",
   "id": "b987f596",
   "metadata": {},
   "source": [
    "Empty clone"
   ]
  },
  {
   "cell_type": "code",
   "execution_count": 17,
   "id": "5d3b11c5",
   "metadata": {
    "execution": {
     "iopub.execute_input": "2022-03-06T14:40:45.040599Z",
     "iopub.status.busy": "2022-03-06T14:40:45.040388Z",
     "iopub.status.idle": "2022-03-06T14:40:45.052394Z",
     "shell.execute_reply": "2022-03-06T14:40:45.051858Z"
    }
   },
   "outputs": [
    {
     "data": {
      "text/plain": [
       "[Amplicon(934)]"
      ]
     },
     "execution_count": 17,
     "metadata": {},
     "output_type": "execute_result"
    }
   ],
   "source": [
    "Anneal( (p['577'], p['342'], fp), pYPK0).products"
   ]
  },
  {
   "cell_type": "markdown",
   "id": "4e8ccf26",
   "metadata": {},
   "source": [
    "The cseguid checksum for the resulting plasmid is calculated for future reference.\n",
    "The [cseguid checksum](http://pydna.readthedocs.org/en/latest/pydna.html#pydna.utils.cseguid)\n",
    "uniquely identifies a circular double stranded sequence."
   ]
  },
  {
   "cell_type": "code",
   "execution_count": 18,
   "id": "6a97ff71",
   "metadata": {
    "execution": {
     "iopub.execute_input": "2022-03-06T14:40:45.054694Z",
     "iopub.status.busy": "2022-03-06T14:40:45.054484Z",
     "iopub.status.idle": "2022-03-06T14:40:45.065481Z",
     "shell.execute_reply": "2022-03-06T14:40:45.064623Z"
    }
   },
   "outputs": [
    {
     "data": {
      "text/plain": [
       "O4LNEwVk7lggKy7jB9-aojqb3f4"
      ]
     },
     "execution_count": 18,
     "metadata": {},
     "output_type": "execute_result"
    }
   ],
   "source": [
    "pYPK0_A_AthfatA1.cseguid()"
   ]
  },
  {
   "cell_type": "markdown",
   "id": "a6c7b390",
   "metadata": {},
   "source": [
    "The file is given a name based on the cloned insert"
   ]
  },
  {
   "cell_type": "code",
   "execution_count": 19,
   "id": "6e0a0b1f",
   "metadata": {
    "execution": {
     "iopub.execute_input": "2022-03-06T14:40:45.068413Z",
     "iopub.status.busy": "2022-03-06T14:40:45.068152Z",
     "iopub.status.idle": "2022-03-06T14:40:45.071462Z",
     "shell.execute_reply": "2022-03-06T14:40:45.070836Z"
    }
   },
   "outputs": [],
   "source": [
    "pYPK0_A_AthfatA1.locus = \"pYPK0_A_AthfatA1\"[:16]"
   ]
  },
  {
   "cell_type": "markdown",
   "id": "3607cc13",
   "metadata": {},
   "source": [
    "Sequence is stamped with the cseguid checksum.\n",
    "This can be used to verify the integrity of the sequence file."
   ]
  },
  {
   "cell_type": "code",
   "execution_count": 20,
   "id": "0488ba5b",
   "metadata": {
    "execution": {
     "iopub.execute_input": "2022-03-06T14:40:45.074218Z",
     "iopub.status.busy": "2022-03-06T14:40:45.074006Z",
     "iopub.status.idle": "2022-03-06T14:40:45.086808Z",
     "shell.execute_reply": "2022-03-06T14:40:45.086279Z"
    }
   },
   "outputs": [
    {
     "data": {
      "text/plain": [
       "cSEGUID_O4LNEwVk7lggKy7jB9-aojqb3f4"
      ]
     },
     "execution_count": 20,
     "metadata": {},
     "output_type": "execute_result"
    }
   ],
   "source": [
    "pYPK0_A_AthfatA1.stamp()"
   ]
  },
  {
   "cell_type": "markdown",
   "id": "09da1283",
   "metadata": {},
   "source": [
    "The sequence is written to a local file."
   ]
  },
  {
   "cell_type": "code",
   "execution_count": 21,
   "id": "ed8c094b",
   "metadata": {
    "execution": {
     "iopub.execute_input": "2022-03-06T14:40:45.089349Z",
     "iopub.status.busy": "2022-03-06T14:40:45.089143Z",
     "iopub.status.idle": "2022-03-06T14:40:45.093901Z",
     "shell.execute_reply": "2022-03-06T14:40:45.093165Z"
    }
   },
   "outputs": [
    {
     "data": {
      "text/html": [
       "<font face=monospace><a href='pYPK0_A_AthfatA1.gb' target='_blank'>pYPK0_A_AthfatA1.gb</a></font><br>"
      ]
     },
     "metadata": {},
     "output_type": "display_data"
    }
   ],
   "source": [
    "pYPK0_A_AthfatA1.write(\"pYPK0_A_AthfatA1.gb\")"
   ]
  }
 ],
 "metadata": {
  "language_info": {
   "codemirror_mode": {
    "name": "ipython",
    "version": 3
   },
   "file_extension": ".py",
   "mimetype": "text/x-python",
   "name": "python",
   "nbconvert_exporter": "python",
   "pygments_lexer": "ipython3",
   "version": "3.9.7"
  }
 },
 "nbformat": 4,
 "nbformat_minor": 5
}
