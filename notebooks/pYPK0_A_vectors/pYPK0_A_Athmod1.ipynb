{
 "cells": [
  {
   "cell_type": "markdown",
   "id": "8d833196",
   "metadata": {},
   "source": [
    "# Construction of pYPK0_A_Athmod1\n",
    "\n",
    "This notebook describe the construction of the _E. coli_ vector [pYPK0_A_Athmod1](pYPK0_A_Athmod1.gb).\n",
    "\n",
    "![pYPK0_A plasmid](pYPK0_A.png \"pYPK0_A plasmid\")\n",
    "\n",
    "A part of the [pydna](https://pypi.python.org/pypi/pydna/) package is imported in the code cell below."
   ]
  },
  {
   "cell_type": "code",
   "execution_count": 1,
   "id": "88ab2de4",
   "metadata": {
    "execution": {
     "iopub.execute_input": "2022-03-06T14:40:50.830131Z",
     "iopub.status.busy": "2022-03-06T14:40:50.829413Z",
     "iopub.status.idle": "2022-03-06T14:40:51.192834Z",
     "shell.execute_reply": "2022-03-06T14:40:51.192253Z"
    }
   },
   "outputs": [],
   "source": [
    "from pydna.readers import read\n",
    "from pydna.genbank import Genbank\n",
    "from pydna.parsers import parse_primers\n",
    "from pydna.amplify import pcr\n",
    "from pydna.assembly import Assembly\n",
    "from pydna.amplify import Anneal"
   ]
  },
  {
   "cell_type": "markdown",
   "id": "171aa5e3",
   "metadata": {},
   "source": [
    "The vector backbone [pYPK0](pYPK0.gb) is read from a local file."
   ]
  },
  {
   "cell_type": "code",
   "execution_count": 2,
   "id": "8e30c40b",
   "metadata": {
    "execution": {
     "iopub.execute_input": "2022-03-06T14:40:51.195589Z",
     "iopub.status.busy": "2022-03-06T14:40:51.195381Z",
     "iopub.status.idle": "2022-03-06T14:40:51.209443Z",
     "shell.execute_reply": "2022-03-06T14:40:51.208838Z"
    }
   },
   "outputs": [],
   "source": [
    "pYPK0 = read(\"pYPK0.gb\")"
   ]
  },
  {
   "cell_type": "markdown",
   "id": "11ebdb95",
   "metadata": {},
   "source": [
    "The restriction enzyme [AscI](http://rebase.neb.com/rebase/enz/AscI.html) is imported from [Biopython](http://biopython.org)"
   ]
  },
  {
   "cell_type": "code",
   "execution_count": 3,
   "id": "18543d80",
   "metadata": {
    "execution": {
     "iopub.execute_input": "2022-03-06T14:40:51.212125Z",
     "iopub.status.busy": "2022-03-06T14:40:51.211940Z",
     "iopub.status.idle": "2022-03-06T14:40:51.214918Z",
     "shell.execute_reply": "2022-03-06T14:40:51.214401Z"
    }
   },
   "outputs": [],
   "source": [
    "from Bio.Restriction import AscI"
   ]
  },
  {
   "cell_type": "markdown",
   "id": "94626807",
   "metadata": {},
   "source": [
    "The plasmid is linearized with the enzyme."
   ]
  },
  {
   "cell_type": "code",
   "execution_count": 4,
   "id": "5c338f86",
   "metadata": {
    "execution": {
     "iopub.execute_input": "2022-03-06T14:40:51.217170Z",
     "iopub.status.busy": "2022-03-06T14:40:51.216954Z",
     "iopub.status.idle": "2022-03-06T14:40:51.222766Z",
     "shell.execute_reply": "2022-03-06T14:40:51.221762Z"
    }
   },
   "outputs": [],
   "source": [
    "pYPK0_AscI  = pYPK0.linearize(AscI)"
   ]
  },
  {
   "cell_type": "markdown",
   "id": "250f6690",
   "metadata": {},
   "source": [
    "Access to [Genbank](http://www.ncbi.nlm.nih.gov/nuccore) is needed in order to download the template.\n",
    "If the email address below is not yours, change it before executing this script as you must always give\n",
    "NCBI a way to contact you when using their service."
   ]
  },
  {
   "cell_type": "code",
   "execution_count": 5,
   "id": "3e480cbe",
   "metadata": {
    "execution": {
     "iopub.execute_input": "2022-03-06T14:40:51.226669Z",
     "iopub.status.busy": "2022-03-06T14:40:51.226321Z",
     "iopub.status.idle": "2022-03-06T14:40:51.231776Z",
     "shell.execute_reply": "2022-03-06T14:40:51.230932Z"
    }
   },
   "outputs": [],
   "source": [
    "gb = Genbank(\"bjornjobb@gmail.com\")"
   ]
  },
  {
   "cell_type": "markdown",
   "id": "2b718271",
   "metadata": {},
   "source": [
    "The template is downloaded from Genbank below."
   ]
  },
  {
   "cell_type": "code",
   "execution_count": 6,
   "id": "329c7d51",
   "metadata": {
    "execution": {
     "iopub.execute_input": "2022-03-06T14:40:51.235192Z",
     "iopub.status.busy": "2022-03-06T14:40:51.234893Z",
     "iopub.status.idle": "2022-03-06T14:40:51.251054Z",
     "shell.execute_reply": "2022-03-06T14:40:51.250436Z"
    }
   },
   "outputs": [
    {
     "data": {
      "text/html": [
       "<a href='https://www.ncbi.nlm.nih.gov/nuccore/NM_126612 ?from=198&to=1370&strand=1' target='_blank'>NM_126612  198-1370</a>"
      ],
      "text/plain": [
       "Gbank(NM_126612  198-1370)(-1173)"
      ]
     },
     "execution_count": 6,
     "metadata": {},
     "output_type": "execute_result"
    }
   ],
   "source": [
    "template  = gb.nucleotide(\"NM_126612 REGION: 198..1370\")\n",
    "template"
   ]
  },
  {
   "cell_type": "markdown",
   "id": "2b55d59c",
   "metadata": {},
   "source": [
    "The two primers below are used to amplify the insert."
   ]
  },
  {
   "cell_type": "code",
   "execution_count": 7,
   "id": "002778aa",
   "metadata": {
    "execution": {
     "iopub.execute_input": "2022-03-06T14:40:51.253400Z",
     "iopub.status.busy": "2022-03-06T14:40:51.253179Z",
     "iopub.status.idle": "2022-03-06T14:40:51.256629Z",
     "shell.execute_reply": "2022-03-06T14:40:51.256064Z"
    }
   },
   "outputs": [],
   "source": [
    "fp,rp =  parse_primers(\"\"\">1180_AthMod1_YPK_fw\n",
    "                          GCCAGGTTGCCCACTTTCTCACTAGTGACCTGCAGCCGGAAATGGCAATGTCTGAATCCA\n",
    "                          >1179_AthMod1_YPK_rv\n",
    "                          TAAATCCGGATATCCTGATGCGTTTGTCTGCACAGATGGCTAATTCTTGCTGTTAAGGTC\"\"\")"
   ]
  },
  {
   "cell_type": "markdown",
   "id": "7a2811c3",
   "metadata": {},
   "source": [
    "The gene is amplifed using the primers specified above."
   ]
  },
  {
   "cell_type": "code",
   "execution_count": 8,
   "id": "a20db30a",
   "metadata": {
    "execution": {
     "iopub.execute_input": "2022-03-06T14:40:51.258959Z",
     "iopub.status.busy": "2022-03-06T14:40:51.258719Z",
     "iopub.status.idle": "2022-03-06T14:40:51.266552Z",
     "shell.execute_reply": "2022-03-06T14:40:51.265668Z"
    }
   },
   "outputs": [],
   "source": [
    "ins = pcr(fp, rp, template)"
   ]
  },
  {
   "cell_type": "markdown",
   "id": "147dbae6",
   "metadata": {},
   "source": [
    "The primers anneal on the template like this."
   ]
  },
  {
   "cell_type": "code",
   "execution_count": 9,
   "id": "febc2953",
   "metadata": {
    "execution": {
     "iopub.execute_input": "2022-03-06T14:40:51.273898Z",
     "iopub.status.busy": "2022-03-06T14:40:51.273418Z",
     "iopub.status.idle": "2022-03-06T14:40:51.279789Z",
     "shell.execute_reply": "2022-03-06T14:40:51.279155Z"
    }
   },
   "outputs": [
    {
     "data": {
      "text/plain": [
       "                                           5GGCAATGTCTGAATCCA...GACCTTAACAGCAAGAATTAG3\n",
       "                                                                |||||||||||||||||||||\n",
       "                                                               3CTGGAATTGTCGTTCTTAATCGGTAGACACGTCTGTTTGCGTAGTCCTATAGGCCTAAAT5\n",
       "5GCCAGGTTGCCCACTTTCTCACTAGTGACCTGCAGCCGGAAATGGCAATGTCTGAATCCA3\n",
       "                                            |||||||||||||||||\n",
       "                                           3CCGTTACAGACTTAGGT...CTGGAATTGTCGTTCTTAATC5"
      ]
     },
     "execution_count": 9,
     "metadata": {},
     "output_type": "execute_result"
    }
   ],
   "source": [
    "ins.figure()"
   ]
  },
  {
   "cell_type": "markdown",
   "id": "92f7919e",
   "metadata": {},
   "source": [
    "A suggested PCR program."
   ]
  },
  {
   "cell_type": "code",
   "execution_count": 10,
   "id": "7acc2ee4",
   "metadata": {
    "execution": {
     "iopub.execute_input": "2022-03-06T14:40:51.282503Z",
     "iopub.status.busy": "2022-03-06T14:40:51.282287Z",
     "iopub.status.idle": "2022-03-06T14:40:51.286431Z",
     "shell.execute_reply": "2022-03-06T14:40:51.285905Z"
    }
   },
   "outputs": [
    {
     "data": {
      "text/plain": [
       "|95°C|95°C               |    |tmf:56.0\n",
       "|____|_____          72°C|72°C|tmr:56.2\n",
       "|3min|30s  \\ 56.6°C _____|____|45s/kb\n",
       "|    |      \\______/ 0:46|5min|GC 46%\n",
       "|    |       30s         |    |1034bp"
      ]
     },
     "execution_count": 10,
     "metadata": {},
     "output_type": "execute_result"
    }
   ],
   "source": [
    "ins.program()"
   ]
  },
  {
   "cell_type": "markdown",
   "id": "f227a828",
   "metadata": {},
   "source": [
    "The linearzed vector and the insert are joined by homologous recombination."
   ]
  },
  {
   "cell_type": "code",
   "execution_count": 11,
   "id": "5a4a3acd",
   "metadata": {
    "execution": {
     "iopub.execute_input": "2022-03-06T14:40:51.288773Z",
     "iopub.status.busy": "2022-03-06T14:40:51.288564Z",
     "iopub.status.idle": "2022-03-06T14:40:51.420200Z",
     "shell.execute_reply": "2022-03-06T14:40:51.419626Z"
    }
   },
   "outputs": [
    {
     "data": {
      "text/plain": [
       "Assembly\n",
       "fragments..: 5766bp 1034bp\n",
       "limit(bp)..: 25\n",
       "G.nodes....: 4\n",
       "algorithm..: common_sub_strings"
      ]
     },
     "execution_count": 11,
     "metadata": {},
     "output_type": "execute_result"
    }
   ],
   "source": [
    "asm = Assembly((pYPK0_AscI,ins))\n",
    "asm"
   ]
  },
  {
   "cell_type": "markdown",
   "id": "27ad47f8",
   "metadata": {},
   "source": [
    "Usually two equally sized products are formed."
   ]
  },
  {
   "cell_type": "code",
   "execution_count": 12,
   "id": "ff1aefc7",
   "metadata": {
    "execution": {
     "iopub.execute_input": "2022-03-06T14:40:51.423048Z",
     "iopub.status.busy": "2022-03-06T14:40:51.422777Z",
     "iopub.status.idle": "2022-03-06T14:40:51.580158Z",
     "shell.execute_reply": "2022-03-06T14:40:51.579693Z"
    }
   },
   "outputs": [
    {
     "data": {
      "text/plain": [
       "[Contig(o6714), Contig(o6714)]"
      ]
     },
     "execution_count": 12,
     "metadata": {},
     "output_type": "execute_result"
    }
   ],
   "source": [
    "circular_products = asm.assemble_circular()\n",
    "circular_products"
   ]
  },
  {
   "cell_type": "markdown",
   "id": "2303703a",
   "metadata": {},
   "source": [
    "The first sequence is chosen."
   ]
  },
  {
   "cell_type": "code",
   "execution_count": 13,
   "id": "971c6a62",
   "metadata": {
    "execution": {
     "iopub.execute_input": "2022-03-06T14:40:51.582556Z",
     "iopub.status.busy": "2022-03-06T14:40:51.582374Z",
     "iopub.status.idle": "2022-03-06T14:40:51.585271Z",
     "shell.execute_reply": "2022-03-06T14:40:51.584712Z"
    }
   },
   "outputs": [],
   "source": [
    "candidate = circular_products[0]"
   ]
  },
  {
   "cell_type": "markdown",
   "id": "db24c19b",
   "metadata": {},
   "source": [
    "The final vector is:"
   ]
  },
  {
   "cell_type": "code",
   "execution_count": 14,
   "id": "2b6c6777",
   "metadata": {
    "execution": {
     "iopub.execute_input": "2022-03-06T14:40:51.588755Z",
     "iopub.status.busy": "2022-03-06T14:40:51.588470Z",
     "iopub.status.idle": "2022-03-06T14:40:51.909760Z",
     "shell.execute_reply": "2022-03-06T14:40:51.909150Z"
    }
   },
   "outputs": [],
   "source": [
    "pYPK0_A_Athmod1 = candidate.synced(\"gttctgatcctcgagcatcttaagaattc\")"
   ]
  },
  {
   "cell_type": "markdown",
   "id": "0c4a1586",
   "metadata": {},
   "source": [
    "A combination of standard primers and the gene specific primers are\n",
    "used for the strategy to identify correct clones.\n",
    "Standard primers are listed [here](standard_primers.txt).\n",
    "The standard primers are read into a dictonary in the code cell below."
   ]
  },
  {
   "cell_type": "code",
   "execution_count": 15,
   "id": "6b3120c0",
   "metadata": {
    "execution": {
     "iopub.execute_input": "2022-03-06T14:40:51.912380Z",
     "iopub.status.busy": "2022-03-06T14:40:51.912201Z",
     "iopub.status.idle": "2022-03-06T14:40:51.916908Z",
     "shell.execute_reply": "2022-03-06T14:40:51.916436Z"
    }
   },
   "outputs": [],
   "source": [
    "p = { x.id: x for x in parse_primers(\"standard_primers.txt\") }"
   ]
  },
  {
   "cell_type": "markdown",
   "id": "0369b502",
   "metadata": {},
   "source": [
    "## Diagnostic PCR confirmation of pYPK0_A_Athmod1\n",
    "\n",
    "The correct structure of pYPK0_A_Athmod1 is confirmed by PCR using standard primers\n",
    "577 and 342 that are vector specific together with the Athmod1fw primer specific for the insert\n",
    "in a multiplex PCR reaction with three primers present in the PCR reaction.\n",
    "\n",
    "Two PCR products are expected if the insert was sucessfully cloned, sizes depending\n",
    "on the orientation of the insert.\n",
    "If the vector is empty, only one short product is formed.\n",
    "\n",
    "## Expected PCR products sizes:\n",
    "\n",
    "pYPK0_A_Athmod1 with insert in correct orientation."
   ]
  },
  {
   "cell_type": "code",
   "execution_count": 16,
   "id": "e40cae3c",
   "metadata": {
    "execution": {
     "iopub.execute_input": "2022-03-06T14:40:51.921201Z",
     "iopub.status.busy": "2022-03-06T14:40:51.920857Z",
     "iopub.status.idle": "2022-03-06T14:40:51.937280Z",
     "shell.execute_reply": "2022-03-06T14:40:51.936839Z"
    }
   },
   "outputs": [
    {
     "data": {
      "text/plain": [
       "[Amplicon(1886), Amplicon(1708)]"
      ]
     },
     "execution_count": 16,
     "metadata": {},
     "output_type": "execute_result"
    }
   ],
   "source": [
    "Anneal( (p['577'], p['342'], fp), pYPK0_A_Athmod1).products"
   ]
  },
  {
   "cell_type": "markdown",
   "id": "ab33ba05",
   "metadata": {},
   "source": [
    "Empty clone"
   ]
  },
  {
   "cell_type": "code",
   "execution_count": 17,
   "id": "d1fb04f3",
   "metadata": {
    "execution": {
     "iopub.execute_input": "2022-03-06T14:40:51.939682Z",
     "iopub.status.busy": "2022-03-06T14:40:51.939468Z",
     "iopub.status.idle": "2022-03-06T14:40:51.950481Z",
     "shell.execute_reply": "2022-03-06T14:40:51.949932Z"
    }
   },
   "outputs": [
    {
     "data": {
      "text/plain": [
       "[Amplicon(934)]"
      ]
     },
     "execution_count": 17,
     "metadata": {},
     "output_type": "execute_result"
    }
   ],
   "source": [
    "Anneal( (p['577'], p['342'], fp), pYPK0).products"
   ]
  },
  {
   "cell_type": "markdown",
   "id": "0b8caa8f",
   "metadata": {},
   "source": [
    "The cseguid checksum for the resulting plasmid is calculated for future reference.\n",
    "The [cseguid checksum](http://pydna.readthedocs.org/en/latest/pydna.html#pydna.utils.cseguid)\n",
    "uniquely identifies a circular double stranded sequence."
   ]
  },
  {
   "cell_type": "code",
   "execution_count": 18,
   "id": "3162ab07",
   "metadata": {
    "execution": {
     "iopub.execute_input": "2022-03-06T14:40:51.953031Z",
     "iopub.status.busy": "2022-03-06T14:40:51.952858Z",
     "iopub.status.idle": "2022-03-06T14:40:51.962839Z",
     "shell.execute_reply": "2022-03-06T14:40:51.962222Z"
    }
   },
   "outputs": [
    {
     "data": {
      "text/plain": [
       "_a1He4U5oWBuSCjZ4n9K0IUA5bs"
      ]
     },
     "execution_count": 18,
     "metadata": {},
     "output_type": "execute_result"
    }
   ],
   "source": [
    "pYPK0_A_Athmod1.cseguid()"
   ]
  },
  {
   "cell_type": "markdown",
   "id": "b7186fd6",
   "metadata": {},
   "source": [
    "The file is given a name based on the cloned insert"
   ]
  },
  {
   "cell_type": "code",
   "execution_count": 19,
   "id": "8e2c72ac",
   "metadata": {
    "execution": {
     "iopub.execute_input": "2022-03-06T14:40:51.965227Z",
     "iopub.status.busy": "2022-03-06T14:40:51.965001Z",
     "iopub.status.idle": "2022-03-06T14:40:51.967995Z",
     "shell.execute_reply": "2022-03-06T14:40:51.967401Z"
    }
   },
   "outputs": [],
   "source": [
    "pYPK0_A_Athmod1.locus = \"pYPK0_A_Athmod1\"[:16]"
   ]
  },
  {
   "cell_type": "markdown",
   "id": "6d12c215",
   "metadata": {},
   "source": [
    "Sequence is stamped with the cseguid checksum.\n",
    "This can be used to verify the integrity of the sequence file."
   ]
  },
  {
   "cell_type": "code",
   "execution_count": 20,
   "id": "391e216c",
   "metadata": {
    "execution": {
     "iopub.execute_input": "2022-03-06T14:40:51.970240Z",
     "iopub.status.busy": "2022-03-06T14:40:51.970028Z",
     "iopub.status.idle": "2022-03-06T14:40:51.980701Z",
     "shell.execute_reply": "2022-03-06T14:40:51.980010Z"
    }
   },
   "outputs": [
    {
     "data": {
      "text/plain": [
       "cSEGUID__a1He4U5oWBuSCjZ4n9K0IUA5bs"
      ]
     },
     "execution_count": 20,
     "metadata": {},
     "output_type": "execute_result"
    }
   ],
   "source": [
    "pYPK0_A_Athmod1.stamp()"
   ]
  },
  {
   "cell_type": "markdown",
   "id": "b2cdd4cb",
   "metadata": {},
   "source": [
    "The sequence is written to a local file."
   ]
  },
  {
   "cell_type": "code",
   "execution_count": 21,
   "id": "c94e8efa",
   "metadata": {
    "execution": {
     "iopub.execute_input": "2022-03-06T14:40:51.983693Z",
     "iopub.status.busy": "2022-03-06T14:40:51.983485Z",
     "iopub.status.idle": "2022-03-06T14:40:51.989032Z",
     "shell.execute_reply": "2022-03-06T14:40:51.988578Z"
    }
   },
   "outputs": [
    {
     "data": {
      "text/html": [
       "<font face=monospace><a href='pYPK0_A_Athmod1.gb' target='_blank'>pYPK0_A_Athmod1.gb</a></font><br>"
      ]
     },
     "metadata": {},
     "output_type": "display_data"
    }
   ],
   "source": [
    "pYPK0_A_Athmod1.write(\"pYPK0_A_Athmod1.gb\")"
   ]
  }
 ],
 "metadata": {
  "language_info": {
   "codemirror_mode": {
    "name": "ipython",
    "version": 3
   },
   "file_extension": ".py",
   "mimetype": "text/x-python",
   "name": "python",
   "nbconvert_exporter": "python",
   "pygments_lexer": "ipython3",
   "version": "3.9.7"
  }
 },
 "nbformat": 4,
 "nbformat_minor": 5
}
