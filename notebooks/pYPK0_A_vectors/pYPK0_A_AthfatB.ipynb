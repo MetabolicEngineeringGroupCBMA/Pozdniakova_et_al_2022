{
 "cells": [
  {
   "cell_type": "markdown",
   "id": "1e8c5d4a",
   "metadata": {},
   "source": [
    "# Construction of pYPK0_A_AthfatB\n",
    "\n",
    "This notebook describe the construction of the _E. coli_ vector [pYPK0_A_AthfatB](pYPK0_A_AthfatB.gb).\n",
    "\n",
    "![pYPK0_A plasmid](pYPK0_A.png \"pYPK0_A plasmid\")\n",
    "\n",
    "A part of the [pydna](https://pypi.python.org/pypi/pydna/) package is imported in the code cell below."
   ]
  },
  {
   "cell_type": "code",
   "execution_count": 1,
   "id": "3c9e91ee",
   "metadata": {
    "execution": {
     "iopub.execute_input": "2022-03-06T14:40:46.140016Z",
     "iopub.status.busy": "2022-03-06T14:40:46.139236Z",
     "iopub.status.idle": "2022-03-06T14:40:46.504854Z",
     "shell.execute_reply": "2022-03-06T14:40:46.504269Z"
    }
   },
   "outputs": [],
   "source": [
    "from pydna.readers import read\n",
    "from pydna.genbank import Genbank\n",
    "from pydna.parsers import parse_primers\n",
    "from pydna.amplify import pcr\n",
    "from pydna.assembly import Assembly\n",
    "from pydna.amplify import Anneal"
   ]
  },
  {
   "cell_type": "markdown",
   "id": "81b0fd33",
   "metadata": {},
   "source": [
    "The vector backbone [pYPK0](pYPK0.gb) is read from a local file."
   ]
  },
  {
   "cell_type": "code",
   "execution_count": 2,
   "id": "c2331642",
   "metadata": {
    "execution": {
     "iopub.execute_input": "2022-03-06T14:40:46.507483Z",
     "iopub.status.busy": "2022-03-06T14:40:46.507297Z",
     "iopub.status.idle": "2022-03-06T14:40:46.526818Z",
     "shell.execute_reply": "2022-03-06T14:40:46.526214Z"
    }
   },
   "outputs": [],
   "source": [
    "pYPK0 = read(\"pYPK0.gb\")"
   ]
  },
  {
   "cell_type": "markdown",
   "id": "89d6aec6",
   "metadata": {},
   "source": [
    "The restriction enzyme [AscI](http://rebase.neb.com/rebase/enz/AscI.html) is imported from [Biopython](http://biopython.org)"
   ]
  },
  {
   "cell_type": "code",
   "execution_count": 3,
   "id": "edc4f83d",
   "metadata": {
    "execution": {
     "iopub.execute_input": "2022-03-06T14:40:46.529494Z",
     "iopub.status.busy": "2022-03-06T14:40:46.529270Z",
     "iopub.status.idle": "2022-03-06T14:40:46.532271Z",
     "shell.execute_reply": "2022-03-06T14:40:46.531728Z"
    }
   },
   "outputs": [],
   "source": [
    "from Bio.Restriction import AscI"
   ]
  },
  {
   "cell_type": "markdown",
   "id": "bb1f0348",
   "metadata": {},
   "source": [
    "The plasmid is linearized with the enzyme."
   ]
  },
  {
   "cell_type": "code",
   "execution_count": 4,
   "id": "f37405e3",
   "metadata": {
    "execution": {
     "iopub.execute_input": "2022-03-06T14:40:46.534576Z",
     "iopub.status.busy": "2022-03-06T14:40:46.534292Z",
     "iopub.status.idle": "2022-03-06T14:40:46.542704Z",
     "shell.execute_reply": "2022-03-06T14:40:46.541561Z"
    }
   },
   "outputs": [],
   "source": [
    "pYPK0_AscI  = pYPK0.linearize(AscI)"
   ]
  },
  {
   "cell_type": "markdown",
   "id": "70ba58a5",
   "metadata": {},
   "source": [
    "Access to [Genbank](http://www.ncbi.nlm.nih.gov/nuccore) is needed in order to download the template.\n",
    "If the email address below is not yours, change it before executing this script as you must always give\n",
    "NCBI a way to contact you when using their service."
   ]
  },
  {
   "cell_type": "code",
   "execution_count": 5,
   "id": "e1da4b64",
   "metadata": {
    "execution": {
     "iopub.execute_input": "2022-03-06T14:40:46.545367Z",
     "iopub.status.busy": "2022-03-06T14:40:46.545146Z",
     "iopub.status.idle": "2022-03-06T14:40:46.548812Z",
     "shell.execute_reply": "2022-03-06T14:40:46.548291Z"
    }
   },
   "outputs": [],
   "source": [
    "gb = Genbank(\"bjornjobb@gmail.com\")"
   ]
  },
  {
   "cell_type": "markdown",
   "id": "58822298",
   "metadata": {},
   "source": [
    "The template is downloaded from Genbank below."
   ]
  },
  {
   "cell_type": "code",
   "execution_count": 6,
   "id": "ac1557a2",
   "metadata": {
    "execution": {
     "iopub.execute_input": "2022-03-06T14:40:46.551084Z",
     "iopub.status.busy": "2022-03-06T14:40:46.550882Z",
     "iopub.status.idle": "2022-03-06T14:40:46.566362Z",
     "shell.execute_reply": "2022-03-06T14:40:46.565846Z"
    }
   },
   "outputs": [
    {
     "data": {
      "text/html": [
       "<a href='https://www.ncbi.nlm.nih.gov/nuccore/NM_100724 ?from=519&to=1757&strand=1' target='_blank'>NM_100724  519-1757</a>"
      ],
      "text/plain": [
       "Gbank(NM_100724  519-1757)(-1239)"
      ]
     },
     "execution_count": 6,
     "metadata": {},
     "output_type": "execute_result"
    }
   ],
   "source": [
    "template  = gb.nucleotide(\"NM_100724 REGION: 519..1757\")\n",
    "template"
   ]
  },
  {
   "cell_type": "markdown",
   "id": "0ec93e94",
   "metadata": {},
   "source": [
    "The two primers below are used to amplify the insert."
   ]
  },
  {
   "cell_type": "code",
   "execution_count": 7,
   "id": "b976eab9",
   "metadata": {
    "execution": {
     "iopub.execute_input": "2022-03-06T14:40:46.568640Z",
     "iopub.status.busy": "2022-03-06T14:40:46.568438Z",
     "iopub.status.idle": "2022-03-06T14:40:46.571802Z",
     "shell.execute_reply": "2022-03-06T14:40:46.571270Z"
    }
   },
   "outputs": [],
   "source": [
    "fp,rp =  parse_primers(\"\"\">945_AthFatB_YPK_fw\n",
    "                          GCCAGGTTGCCCACTTTCTCACTAGTGACCTGCAGCCGGaaATGGCTCAGGCTCCACCTAAGATTAAT\n",
    "                          >944_AthFatB_YPK_rv\n",
    "                          TAAATCCGGATATCCTGATGCGTTTGTCTGCACAGATGGTTACGGTGCAGTTCCCCAAGTTGTTGT\"\"\")"
   ]
  },
  {
   "cell_type": "markdown",
   "id": "d718ec6e",
   "metadata": {},
   "source": [
    "The gene is amplifed using the primers specified above."
   ]
  },
  {
   "cell_type": "code",
   "execution_count": 8,
   "id": "8222c636",
   "metadata": {
    "execution": {
     "iopub.execute_input": "2022-03-06T14:40:46.574048Z",
     "iopub.status.busy": "2022-03-06T14:40:46.573858Z",
     "iopub.status.idle": "2022-03-06T14:40:46.581562Z",
     "shell.execute_reply": "2022-03-06T14:40:46.580785Z"
    }
   },
   "outputs": [],
   "source": [
    "ins = pcr(fp, rp, template)"
   ]
  },
  {
   "cell_type": "markdown",
   "id": "cef61885",
   "metadata": {},
   "source": [
    "The primers anneal on the template like this."
   ]
  },
  {
   "cell_type": "code",
   "execution_count": 9,
   "id": "86657c3a",
   "metadata": {
    "execution": {
     "iopub.execute_input": "2022-03-06T14:40:46.585098Z",
     "iopub.status.busy": "2022-03-06T14:40:46.584836Z",
     "iopub.status.idle": "2022-03-06T14:40:46.590274Z",
     "shell.execute_reply": "2022-03-06T14:40:46.589447Z"
    }
   },
   "outputs": [
    {
     "data": {
      "text/plain": [
       "                                            5GCTCAGGCTCCACCTAAGATTAAT...ACAACAACTTGGGGAACTGCACCGTAA3\n",
       "                                                                        |||||||||||||||||||||||||||\n",
       "                                                                       3TGTTGTTGAACCCCTTGACGTGGCATTGGTAGACACGTCTGTTTGCGTAGTCCTATAGGCCTAAAT5\n",
       "5GCCAGGTTGCCCACTTTCTCACTAGTGACCTGCAGCCGGaaATGGCTCAGGCTCCACCTAAGATTAAT3\n",
       "                                             ||||||||||||||||||||||||\n",
       "                                            3CGAGTCCGAGGTGGATTCTAATTA...TGTTGTTGAACCCCTTGACGTGGCATT5"
      ]
     },
     "execution_count": 9,
     "metadata": {},
     "output_type": "execute_result"
    }
   ],
   "source": [
    "ins.figure()"
   ]
  },
  {
   "cell_type": "markdown",
   "id": "5c65f351",
   "metadata": {},
   "source": [
    "A suggested PCR program."
   ]
  },
  {
   "cell_type": "code",
   "execution_count": 10,
   "id": "980a1fe5",
   "metadata": {
    "execution": {
     "iopub.execute_input": "2022-03-06T14:40:46.593444Z",
     "iopub.status.busy": "2022-03-06T14:40:46.593207Z",
     "iopub.status.idle": "2022-03-06T14:40:46.597404Z",
     "shell.execute_reply": "2022-03-06T14:40:46.596903Z"
    }
   },
   "outputs": [
    {
     "data": {
      "text/plain": [
       "|95°C|95°C               |    |tmf:65.6\n",
       "|____|_____          72°C|72°C|tmr:72.0\n",
       "|3min|30s  \\ 59.7°C _____|____|45s/kb\n",
       "|    |      \\______/ 0:52|5min|GC 46%\n",
       "|    |       30s         |    |1175bp"
      ]
     },
     "execution_count": 10,
     "metadata": {},
     "output_type": "execute_result"
    }
   ],
   "source": [
    "ins.program()"
   ]
  },
  {
   "cell_type": "markdown",
   "id": "b812eac1",
   "metadata": {},
   "source": [
    "The linearzed vector and the insert are joined by homologous recombination."
   ]
  },
  {
   "cell_type": "code",
   "execution_count": 11,
   "id": "bfaf760e",
   "metadata": {
    "execution": {
     "iopub.execute_input": "2022-03-06T14:40:46.599672Z",
     "iopub.status.busy": "2022-03-06T14:40:46.599484Z",
     "iopub.status.idle": "2022-03-06T14:40:46.736441Z",
     "shell.execute_reply": "2022-03-06T14:40:46.735838Z"
    }
   },
   "outputs": [
    {
     "data": {
      "text/plain": [
       "Assembly\n",
       "fragments..: 5766bp 1175bp\n",
       "limit(bp)..: 25\n",
       "G.nodes....: 4\n",
       "algorithm..: common_sub_strings"
      ]
     },
     "execution_count": 11,
     "metadata": {},
     "output_type": "execute_result"
    }
   ],
   "source": [
    "asm = Assembly((pYPK0_AscI,ins))\n",
    "asm"
   ]
  },
  {
   "cell_type": "markdown",
   "id": "27005961",
   "metadata": {},
   "source": [
    "Usually two equally sized products are formed."
   ]
  },
  {
   "cell_type": "code",
   "execution_count": 12,
   "id": "400cfeaf",
   "metadata": {
    "execution": {
     "iopub.execute_input": "2022-03-06T14:40:46.738970Z",
     "iopub.status.busy": "2022-03-06T14:40:46.738749Z",
     "iopub.status.idle": "2022-03-06T14:40:46.893346Z",
     "shell.execute_reply": "2022-03-06T14:40:46.892761Z"
    }
   },
   "outputs": [
    {
     "data": {
      "text/plain": [
       "[Contig(o6855), Contig(o6855)]"
      ]
     },
     "execution_count": 12,
     "metadata": {},
     "output_type": "execute_result"
    }
   ],
   "source": [
    "circular_products = asm.assemble_circular()\n",
    "circular_products"
   ]
  },
  {
   "cell_type": "markdown",
   "id": "48dca286",
   "metadata": {},
   "source": [
    "The first sequence is chosen."
   ]
  },
  {
   "cell_type": "code",
   "execution_count": 13,
   "id": "1349bb35",
   "metadata": {
    "execution": {
     "iopub.execute_input": "2022-03-06T14:40:46.895938Z",
     "iopub.status.busy": "2022-03-06T14:40:46.895712Z",
     "iopub.status.idle": "2022-03-06T14:40:46.898544Z",
     "shell.execute_reply": "2022-03-06T14:40:46.898056Z"
    }
   },
   "outputs": [],
   "source": [
    "candidate = circular_products[0]"
   ]
  },
  {
   "cell_type": "markdown",
   "id": "734ff9a4",
   "metadata": {},
   "source": [
    "The final vector is:"
   ]
  },
  {
   "cell_type": "code",
   "execution_count": 14,
   "id": "9e4449f0",
   "metadata": {
    "execution": {
     "iopub.execute_input": "2022-03-06T14:40:46.901060Z",
     "iopub.status.busy": "2022-03-06T14:40:46.900878Z",
     "iopub.status.idle": "2022-03-06T14:40:47.233952Z",
     "shell.execute_reply": "2022-03-06T14:40:47.233321Z"
    }
   },
   "outputs": [],
   "source": [
    "pYPK0_A_AthfatB = candidate.synced(\"gttctgatcctcgagcatcttaagaattc\")"
   ]
  },
  {
   "cell_type": "markdown",
   "id": "6a65fd19",
   "metadata": {},
   "source": [
    "A combination of standard primers and the gene specific primers are\n",
    "used for the strategy to identify correct clones.\n",
    "Standard primers are listed [here](standard_primers.txt).\n",
    "The standard primers are read into a dictonary in the code cell below."
   ]
  },
  {
   "cell_type": "code",
   "execution_count": 15,
   "id": "e44ba813",
   "metadata": {
    "execution": {
     "iopub.execute_input": "2022-03-06T14:40:47.236790Z",
     "iopub.status.busy": "2022-03-06T14:40:47.236607Z",
     "iopub.status.idle": "2022-03-06T14:40:47.240510Z",
     "shell.execute_reply": "2022-03-06T14:40:47.239987Z"
    }
   },
   "outputs": [],
   "source": [
    "p = { x.id: x for x in parse_primers(\"standard_primers.txt\") }"
   ]
  },
  {
   "cell_type": "markdown",
   "id": "721aa891",
   "metadata": {},
   "source": [
    "## Diagnostic PCR confirmation of pYPK0_A_AthfatB\n",
    "\n",
    "The correct structure of pYPK0_A_AthfatB is confirmed by PCR using standard primers\n",
    "577 and 342 that are vector specific together with the AthfatBfw primer specific for the insert\n",
    "in a multiplex PCR reaction with three primers present in the PCR reaction.\n",
    "\n",
    "Two PCR products are expected if the insert was sucessfully cloned, sizes depending\n",
    "on the orientation of the insert.\n",
    "If the vector is empty, only one short product is formed.\n",
    "\n",
    "## Expected PCR products sizes:\n",
    "\n",
    "pYPK0_A_AthfatB with insert in correct orientation."
   ]
  },
  {
   "cell_type": "code",
   "execution_count": 16,
   "id": "19be3287",
   "metadata": {
    "execution": {
     "iopub.execute_input": "2022-03-06T14:40:47.242758Z",
     "iopub.status.busy": "2022-03-06T14:40:47.242556Z",
     "iopub.status.idle": "2022-03-06T14:40:47.257989Z",
     "shell.execute_reply": "2022-03-06T14:40:47.257414Z"
    }
   },
   "outputs": [
    {
     "data": {
      "text/plain": [
       "[Amplicon(2027), Amplicon(1849)]"
      ]
     },
     "execution_count": 16,
     "metadata": {},
     "output_type": "execute_result"
    }
   ],
   "source": [
    "Anneal( (p['577'], p['342'], fp), pYPK0_A_AthfatB).products"
   ]
  },
  {
   "cell_type": "markdown",
   "id": "f22a7c62",
   "metadata": {},
   "source": [
    "Empty clone"
   ]
  },
  {
   "cell_type": "code",
   "execution_count": 17,
   "id": "b3060e4b",
   "metadata": {
    "execution": {
     "iopub.execute_input": "2022-03-06T14:40:47.260503Z",
     "iopub.status.busy": "2022-03-06T14:40:47.260302Z",
     "iopub.status.idle": "2022-03-06T14:40:47.269672Z",
     "shell.execute_reply": "2022-03-06T14:40:47.268843Z"
    }
   },
   "outputs": [
    {
     "data": {
      "text/plain": [
       "[Amplicon(934)]"
      ]
     },
     "execution_count": 17,
     "metadata": {},
     "output_type": "execute_result"
    }
   ],
   "source": [
    "Anneal( (p['577'], p['342'], fp), pYPK0).products"
   ]
  },
  {
   "cell_type": "markdown",
   "id": "614c3d5c",
   "metadata": {},
   "source": [
    "The cseguid checksum for the resulting plasmid is calculated for future reference.\n",
    "The [cseguid checksum](http://pydna.readthedocs.org/en/latest/pydna.html#pydna.utils.cseguid)\n",
    "uniquely identifies a circular double stranded sequence."
   ]
  },
  {
   "cell_type": "code",
   "execution_count": 18,
   "id": "97a630bb",
   "metadata": {
    "execution": {
     "iopub.execute_input": "2022-03-06T14:40:47.272762Z",
     "iopub.status.busy": "2022-03-06T14:40:47.272545Z",
     "iopub.status.idle": "2022-03-06T14:40:47.284500Z",
     "shell.execute_reply": "2022-03-06T14:40:47.283892Z"
    }
   },
   "outputs": [
    {
     "data": {
      "text/plain": [
       "I7PQd-IZTFmt8Kadu3xcSDfV7c0"
      ]
     },
     "execution_count": 18,
     "metadata": {},
     "output_type": "execute_result"
    }
   ],
   "source": [
    "pYPK0_A_AthfatB.cseguid()"
   ]
  },
  {
   "cell_type": "markdown",
   "id": "c142838d",
   "metadata": {},
   "source": [
    "The file is given a name based on the cloned insert"
   ]
  },
  {
   "cell_type": "code",
   "execution_count": 19,
   "id": "14970173",
   "metadata": {
    "execution": {
     "iopub.execute_input": "2022-03-06T14:40:47.286846Z",
     "iopub.status.busy": "2022-03-06T14:40:47.286666Z",
     "iopub.status.idle": "2022-03-06T14:40:47.289572Z",
     "shell.execute_reply": "2022-03-06T14:40:47.289044Z"
    }
   },
   "outputs": [],
   "source": [
    "pYPK0_A_AthfatB.locus = \"pYPK0_A_AthfatB\"[:16]"
   ]
  },
  {
   "cell_type": "markdown",
   "id": "5d5febdd",
   "metadata": {},
   "source": [
    "Sequence is stamped with the cseguid checksum.\n",
    "This can be used to verify the integrity of the sequence file."
   ]
  },
  {
   "cell_type": "code",
   "execution_count": 20,
   "id": "c7ebdd48",
   "metadata": {
    "execution": {
     "iopub.execute_input": "2022-03-06T14:40:47.292442Z",
     "iopub.status.busy": "2022-03-06T14:40:47.292174Z",
     "iopub.status.idle": "2022-03-06T14:40:47.303398Z",
     "shell.execute_reply": "2022-03-06T14:40:47.302781Z"
    }
   },
   "outputs": [
    {
     "data": {
      "text/plain": [
       "cSEGUID_I7PQd-IZTFmt8Kadu3xcSDfV7c0"
      ]
     },
     "execution_count": 20,
     "metadata": {},
     "output_type": "execute_result"
    }
   ],
   "source": [
    "pYPK0_A_AthfatB.stamp()"
   ]
  },
  {
   "cell_type": "markdown",
   "id": "05ef68f4",
   "metadata": {},
   "source": [
    "The sequence is written to a local file."
   ]
  },
  {
   "cell_type": "code",
   "execution_count": 21,
   "id": "6c930bf3",
   "metadata": {
    "execution": {
     "iopub.execute_input": "2022-03-06T14:40:47.306114Z",
     "iopub.status.busy": "2022-03-06T14:40:47.305918Z",
     "iopub.status.idle": "2022-03-06T14:40:47.310271Z",
     "shell.execute_reply": "2022-03-06T14:40:47.309740Z"
    }
   },
   "outputs": [
    {
     "data": {
      "text/html": [
       "<font face=monospace><a href='pYPK0_A_AthfatB.gb' target='_blank'>pYPK0_A_AthfatB.gb</a></font><br>"
      ]
     },
     "metadata": {},
     "output_type": "display_data"
    }
   ],
   "source": [
    "pYPK0_A_AthfatB.write(\"pYPK0_A_AthfatB.gb\")"
   ]
  }
 ],
 "metadata": {
  "language_info": {
   "codemirror_mode": {
    "name": "ipython",
    "version": 3
   },
   "file_extension": ".py",
   "mimetype": "text/x-python",
   "name": "python",
   "nbconvert_exporter": "python",
   "pygments_lexer": "ipython3",
   "version": "3.9.7"
  }
 },
 "nbformat": 4,
 "nbformat_minor": 5
}
