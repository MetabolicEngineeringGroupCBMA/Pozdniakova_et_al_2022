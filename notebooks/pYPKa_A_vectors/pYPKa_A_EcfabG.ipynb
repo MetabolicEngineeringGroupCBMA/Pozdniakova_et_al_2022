{
 "cells": [
  {
   "cell_type": "markdown",
   "id": "55cdc97c",
   "metadata": {},
   "source": [
    "# Construction of pYPKa_A_EcfabG\n",
    "\n",
    "This notebook describe the construction of the _E. coli_ vector [pYPKa_A_EcfabG](pYPKa_A_EcfabG.gb).\n",
    "\n",
    "![pYPKa_A plasmid](pYPK_A.png \"pYPKa_A plasmid\")\n",
    "\n",
    "A part of the [pydna](https://pypi.python.org/pypi/pydna/) package is imported in the code cell below."
   ]
  },
  {
   "cell_type": "code",
   "execution_count": 1,
   "id": "e1d807c7",
   "metadata": {
    "execution": {
     "iopub.execute_input": "2022-03-06T14:48:58.588960Z",
     "iopub.status.busy": "2022-03-06T14:48:58.588226Z",
     "iopub.status.idle": "2022-03-06T14:48:58.900108Z",
     "shell.execute_reply": "2022-03-06T14:48:58.899497Z"
    }
   },
   "outputs": [],
   "source": [
    "from pydna.readers import read\n",
    "from pydna.genbank import Genbank\n",
    "from pydna.parsers import parse_primers\n",
    "from pydna.amplify import pcr\n",
    "from pydna.amplify import Anneal"
   ]
  },
  {
   "cell_type": "markdown",
   "id": "920ff841",
   "metadata": {},
   "source": [
    "The vector backbone [pYPKa](pYPKa.gb) is read from a local file."
   ]
  },
  {
   "cell_type": "code",
   "execution_count": 2,
   "id": "30a76cc6",
   "metadata": {
    "execution": {
     "iopub.execute_input": "2022-03-06T14:48:58.902849Z",
     "iopub.status.busy": "2022-03-06T14:48:58.902668Z",
     "iopub.status.idle": "2022-03-06T14:48:58.917846Z",
     "shell.execute_reply": "2022-03-06T14:48:58.917234Z"
    }
   },
   "outputs": [],
   "source": [
    "pYPKa = read(\"pYPKa.gb\")"
   ]
  },
  {
   "cell_type": "markdown",
   "id": "876a7979",
   "metadata": {},
   "source": [
    "The restriction enzyme [AjiI](http://rebase.neb.com/rebase/enz/AjiI.html) is imported from [Biopython](http://biopython.org)"
   ]
  },
  {
   "cell_type": "code",
   "execution_count": 3,
   "id": "c963b688",
   "metadata": {
    "execution": {
     "iopub.execute_input": "2022-03-06T14:48:58.920467Z",
     "iopub.status.busy": "2022-03-06T14:48:58.920258Z",
     "iopub.status.idle": "2022-03-06T14:48:58.923090Z",
     "shell.execute_reply": "2022-03-06T14:48:58.922599Z"
    }
   },
   "outputs": [],
   "source": [
    "from Bio.Restriction import AjiI"
   ]
  },
  {
   "cell_type": "markdown",
   "id": "0ecc8de3",
   "metadata": {},
   "source": [
    "The plasmid is linearized with the enzyme."
   ]
  },
  {
   "cell_type": "code",
   "execution_count": 4,
   "id": "81659bbb",
   "metadata": {
    "execution": {
     "iopub.execute_input": "2022-03-06T14:48:58.925563Z",
     "iopub.status.busy": "2022-03-06T14:48:58.925344Z",
     "iopub.status.idle": "2022-03-06T14:48:58.930421Z",
     "shell.execute_reply": "2022-03-06T14:48:58.929527Z"
    }
   },
   "outputs": [],
   "source": [
    "pYPKa_AjiI  = pYPKa.linearize(AjiI)"
   ]
  },
  {
   "cell_type": "markdown",
   "id": "3cb98ddd",
   "metadata": {},
   "source": [
    "Access to [Genbank](http://www.ncbi.nlm.nih.gov/nuccore) is needed in order to download the template.\n",
    "If the email address below is not yours, change it before executing this script as you must always give NCBI a way to contact you when using their service."
   ]
  },
  {
   "cell_type": "code",
   "execution_count": 5,
   "id": "d2cc3e5d",
   "metadata": {
    "execution": {
     "iopub.execute_input": "2022-03-06T14:48:58.933766Z",
     "iopub.status.busy": "2022-03-06T14:48:58.933463Z",
     "iopub.status.idle": "2022-03-06T14:48:58.938193Z",
     "shell.execute_reply": "2022-03-06T14:48:58.937422Z"
    }
   },
   "outputs": [],
   "source": [
    "gb = Genbank(\"bjornjobb@gmail.com\")"
   ]
  },
  {
   "cell_type": "markdown",
   "id": "e10155b2",
   "metadata": {},
   "source": [
    "The template is downloaded from Genbank below."
   ]
  },
  {
   "cell_type": "code",
   "execution_count": 6,
   "id": "8d98c3f1",
   "metadata": {
    "execution": {
     "iopub.execute_input": "2022-03-06T14:48:58.941569Z",
     "iopub.status.busy": "2022-03-06T14:48:58.941303Z",
     "iopub.status.idle": "2022-03-06T14:49:00.530766Z",
     "shell.execute_reply": "2022-03-06T14:49:00.530053Z"
    }
   },
   "outputs": [
    {
     "data": {
      "text/html": [
       "<a href='https://www.ncbi.nlm.nih.gov/nuccore/ NC_000913 ?from=1150670&to=1151404&strand=1' target='_blank'> NC_000913  1150670-1151404</a>"
      ],
      "text/plain": [
       "Gbank( NC_000913  1150670-1151404)(-735)"
      ]
     },
     "execution_count": 6,
     "metadata": {},
     "output_type": "execute_result"
    }
   ],
   "source": [
    "template  = gb.nucleotide(\" NC_000913 REGION: 1150670..1151404\")\n",
    "template"
   ]
  },
  {
   "cell_type": "markdown",
   "id": "a0657ae2",
   "metadata": {},
   "source": [
    "The two primers below are used to amplify the insert."
   ]
  },
  {
   "cell_type": "code",
   "execution_count": 7,
   "id": "901ef9fd",
   "metadata": {
    "execution": {
     "iopub.execute_input": "2022-03-06T14:49:00.533492Z",
     "iopub.status.busy": "2022-03-06T14:49:00.532977Z",
     "iopub.status.idle": "2022-03-06T14:49:00.536327Z",
     "shell.execute_reply": "2022-03-06T14:49:00.535854Z"
    }
   },
   "outputs": [],
   "source": [
    "fp,rp =  parse_primers(\"\"\">714_EcfabG_fw\n",
    "                          aaATGAATTTTGAAGGAAAAATC\n",
    "                          >715_EcfabG_rv\n",
    "                          TCAGACCATGTACATCCC\"\"\")"
   ]
  },
  {
   "cell_type": "markdown",
   "id": "f57812ce",
   "metadata": {},
   "source": [
    "The gene is amplifed using the primers specified above."
   ]
  },
  {
   "cell_type": "code",
   "execution_count": 8,
   "id": "229fad53",
   "metadata": {
    "execution": {
     "iopub.execute_input": "2022-03-06T14:49:00.539070Z",
     "iopub.status.busy": "2022-03-06T14:49:00.538811Z",
     "iopub.status.idle": "2022-03-06T14:49:00.548241Z",
     "shell.execute_reply": "2022-03-06T14:49:00.547691Z"
    }
   },
   "outputs": [],
   "source": [
    "ins = pcr(fp, rp, template)"
   ]
  },
  {
   "cell_type": "markdown",
   "id": "8f5747a7",
   "metadata": {},
   "source": [
    "The primers anneal on the template like this."
   ]
  },
  {
   "cell_type": "code",
   "execution_count": 9,
   "id": "5e4d7218",
   "metadata": {
    "execution": {
     "iopub.execute_input": "2022-03-06T14:49:00.550732Z",
     "iopub.status.busy": "2022-03-06T14:49:00.550536Z",
     "iopub.status.idle": "2022-03-06T14:49:00.555654Z",
     "shell.execute_reply": "2022-03-06T14:49:00.554480Z"
    }
   },
   "outputs": [
    {
     "data": {
      "text/plain": [
       "  5ATGAATTTTGAAGGAAAAATC...GGGATGTACATGGTCTGA3\n",
       "                           ||||||||||||||||||\n",
       "                          3CCCTACATGTACCAGACT5\n",
       "5aaATGAATTTTGAAGGAAAAATC3\n",
       "   |||||||||||||||||||||\n",
       "  3TACTTAAAACTTCCTTTTTAG...CCCTACATGTACCAGACT5"
      ]
     },
     "execution_count": 9,
     "metadata": {},
     "output_type": "execute_result"
    }
   ],
   "source": [
    "ins.figure()"
   ]
  },
  {
   "cell_type": "markdown",
   "id": "0ea63d9c",
   "metadata": {},
   "source": [
    "A suggested PCR program."
   ]
  },
  {
   "cell_type": "code",
   "execution_count": 10,
   "id": "f7ff8c69",
   "metadata": {
    "execution": {
     "iopub.execute_input": "2022-03-06T14:49:00.559923Z",
     "iopub.status.busy": "2022-03-06T14:49:00.559577Z",
     "iopub.status.idle": "2022-03-06T14:49:00.566178Z",
     "shell.execute_reply": "2022-03-06T14:49:00.565293Z"
    }
   },
   "outputs": [
    {
     "data": {
      "text/plain": [
       "|95°C|95°C               |    |tmf:50.8\n",
       "|____|_____          72°C|72°C|tmr:59.1\n",
       "|3min|30s  \\ 56.4°C _____|____|45s/kb\n",
       "|    |      \\______/ 0:33|5min|GC 51%\n",
       "|    |       30s         |    |737bp"
      ]
     },
     "execution_count": 10,
     "metadata": {},
     "output_type": "execute_result"
    }
   ],
   "source": [
    "ins.program()"
   ]
  },
  {
   "cell_type": "markdown",
   "id": "621cce87",
   "metadata": {},
   "source": [
    "The final vector is:"
   ]
  },
  {
   "cell_type": "code",
   "execution_count": 11,
   "id": "6c97b9b4",
   "metadata": {
    "execution": {
     "iopub.execute_input": "2022-03-06T14:49:00.570624Z",
     "iopub.status.busy": "2022-03-06T14:49:00.569840Z",
     "iopub.status.idle": "2022-03-06T14:49:00.740068Z",
     "shell.execute_reply": "2022-03-06T14:49:00.739462Z"
    }
   },
   "outputs": [],
   "source": [
    "pYPKa_A_EcfabG = (pYPKa_AjiI  + ins).looped().synced(\"gttctgatcctcgagcatcttaagaattc\")"
   ]
  },
  {
   "cell_type": "markdown",
   "id": "6d63475e",
   "metadata": {},
   "source": [
    "The vector with reverse insert is created below. This vector theoretically make up\n",
    "fifty percent of the clones. The PCR strategy below is used to identify the correct clones."
   ]
  },
  {
   "cell_type": "code",
   "execution_count": 12,
   "id": "bd22fefb",
   "metadata": {
    "execution": {
     "iopub.execute_input": "2022-03-06T14:49:00.742800Z",
     "iopub.status.busy": "2022-03-06T14:49:00.742588Z",
     "iopub.status.idle": "2022-03-06T14:49:00.918156Z",
     "shell.execute_reply": "2022-03-06T14:49:00.917531Z"
    }
   },
   "outputs": [],
   "source": [
    "pYPKa_A_EcfabGb = (pYPKa_AjiI  + ins.rc()).looped().synced(\"gttctgatcctcgagcatcttaagaattc\")"
   ]
  },
  {
   "cell_type": "markdown",
   "id": "a681f9ab",
   "metadata": {},
   "source": [
    "A combination of standard primers and the newly designed primers are\n",
    "used for the strategy to identify correct clones.\n",
    "Standard primers are listed [here](standard_primers.txt).\n",
    "The standard primers are read into a dictonary in the code cell below."
   ]
  },
  {
   "cell_type": "code",
   "execution_count": 13,
   "id": "e187c8ef",
   "metadata": {
    "execution": {
     "iopub.execute_input": "2022-03-06T14:49:00.920809Z",
     "iopub.status.busy": "2022-03-06T14:49:00.920622Z",
     "iopub.status.idle": "2022-03-06T14:49:00.924589Z",
     "shell.execute_reply": "2022-03-06T14:49:00.924037Z"
    }
   },
   "outputs": [],
   "source": [
    "p = { x.id: x for x in parse_primers(\"standard_primers.txt\") }"
   ]
  },
  {
   "cell_type": "markdown",
   "id": "fec3f305",
   "metadata": {},
   "source": [
    "## Diagnostic PCR confirmation of pYPKa_A_EcfabG\n",
    "The correct structure of pYPKa_A_EcfabG is confirmed by PCR using standard primers\n",
    "577 and 342 that are vector specific together with the EcfabGfw primer specific for the insert\n",
    "in a multiplex PCR reaction with three primers present in the PCR reaction.\n",
    "\n",
    "Two PCR products are expected if the insert was sucessfully cloned, sizes depending\n",
    "on the orientation of the insert.\n",
    "If the vector is empty, only one short product is formed.\n",
    "\n",
    "## Expected PCR products sizes:\n",
    "\n",
    "pYPKa_A_EcfabG with insert in correct orientation."
   ]
  },
  {
   "cell_type": "code",
   "execution_count": 14,
   "id": "ad17124b",
   "metadata": {
    "execution": {
     "iopub.execute_input": "2022-03-06T14:49:00.929132Z",
     "iopub.status.busy": "2022-03-06T14:49:00.928768Z",
     "iopub.status.idle": "2022-03-06T14:49:00.943472Z",
     "shell.execute_reply": "2022-03-06T14:49:00.942998Z"
    }
   },
   "outputs": [
    {
     "data": {
      "text/plain": [
       "[Amplicon(1671), Amplicon(1453)]"
      ]
     },
     "execution_count": 14,
     "metadata": {},
     "output_type": "execute_result"
    }
   ],
   "source": [
    "Anneal( (p['577'], p['342'], fp), pYPKa_A_EcfabG).products"
   ]
  },
  {
   "cell_type": "markdown",
   "id": "c80a951f",
   "metadata": {},
   "source": [
    "pYPKa_A_EcfabG with insert in reverse orientation."
   ]
  },
  {
   "cell_type": "code",
   "execution_count": 15,
   "id": "5fd159eb",
   "metadata": {
    "execution": {
     "iopub.execute_input": "2022-03-06T14:49:00.945784Z",
     "iopub.status.busy": "2022-03-06T14:49:00.945602Z",
     "iopub.status.idle": "2022-03-06T14:49:00.956115Z",
     "shell.execute_reply": "2022-03-06T14:49:00.955569Z"
    }
   },
   "outputs": [
    {
     "data": {
      "text/plain": [
       "[Amplicon(1671), Amplicon(955)]"
      ]
     },
     "execution_count": 15,
     "metadata": {},
     "output_type": "execute_result"
    }
   ],
   "source": [
    "Anneal( (p['577'], p['342'], fp), pYPKa_A_EcfabGb).products"
   ]
  },
  {
   "cell_type": "markdown",
   "id": "b5eafeae",
   "metadata": {},
   "source": [
    "Empty clone"
   ]
  },
  {
   "cell_type": "code",
   "execution_count": 16,
   "id": "114f72ee",
   "metadata": {
    "execution": {
     "iopub.execute_input": "2022-03-06T14:49:00.958469Z",
     "iopub.status.busy": "2022-03-06T14:49:00.958242Z",
     "iopub.status.idle": "2022-03-06T14:49:00.965866Z",
     "shell.execute_reply": "2022-03-06T14:49:00.965118Z"
    }
   },
   "outputs": [
    {
     "data": {
      "text/plain": [
       "[Amplicon(934)]"
      ]
     },
     "execution_count": 16,
     "metadata": {},
     "output_type": "execute_result"
    }
   ],
   "source": [
    "Anneal( (p['577'], p['342'], fp), pYPKa).products"
   ]
  },
  {
   "cell_type": "markdown",
   "id": "34dfbe17",
   "metadata": {},
   "source": [
    "The cseguid checksum for the resulting plasmid is calculated for future reference.\n",
    "The [cseguid checksum](http://pydna.readthedocs.org/en/latest/pydna.html#pydna.utils.cseguid)\n",
    "uniquely identifies a circular double stranded sequence."
   ]
  },
  {
   "cell_type": "code",
   "execution_count": 17,
   "id": "fdd29ad3",
   "metadata": {
    "execution": {
     "iopub.execute_input": "2022-03-06T14:49:00.969057Z",
     "iopub.status.busy": "2022-03-06T14:49:00.968776Z",
     "iopub.status.idle": "2022-03-06T14:49:00.977490Z",
     "shell.execute_reply": "2022-03-06T14:49:00.976730Z"
    }
   },
   "outputs": [
    {
     "data": {
      "text/plain": [
       "jg3SzkUrp2pRoTrhORih_3cPAyA"
      ]
     },
     "execution_count": 17,
     "metadata": {},
     "output_type": "execute_result"
    }
   ],
   "source": [
    "pYPKa_A_EcfabG.cseguid()"
   ]
  },
  {
   "cell_type": "markdown",
   "id": "d3e3c054",
   "metadata": {},
   "source": [
    "The file is given a name based on the cloned insert"
   ]
  },
  {
   "cell_type": "code",
   "execution_count": 18,
   "id": "d0cc4ef1",
   "metadata": {
    "execution": {
     "iopub.execute_input": "2022-03-06T14:49:00.980629Z",
     "iopub.status.busy": "2022-03-06T14:49:00.980350Z",
     "iopub.status.idle": "2022-03-06T14:49:00.984186Z",
     "shell.execute_reply": "2022-03-06T14:49:00.983333Z"
    }
   },
   "outputs": [],
   "source": [
    "pYPKa_A_EcfabG.locus = \"pYPKa_A_EcfabG\"[:16]"
   ]
  },
  {
   "cell_type": "markdown",
   "id": "f86153d1",
   "metadata": {},
   "source": [
    "Sequence is stamped with the cseguid checksum.\n",
    "This can be used to verify the integrity of the sequence file."
   ]
  },
  {
   "cell_type": "code",
   "execution_count": 19,
   "id": "ed38e078",
   "metadata": {
    "execution": {
     "iopub.execute_input": "2022-03-06T14:49:00.987464Z",
     "iopub.status.busy": "2022-03-06T14:49:00.987161Z",
     "iopub.status.idle": "2022-03-06T14:49:00.996543Z",
     "shell.execute_reply": "2022-03-06T14:49:00.995945Z"
    }
   },
   "outputs": [
    {
     "data": {
      "text/plain": [
       "cSEGUID_jg3SzkUrp2pRoTrhORih_3cPAyA"
      ]
     },
     "execution_count": 19,
     "metadata": {},
     "output_type": "execute_result"
    }
   ],
   "source": [
    "pYPKa_A_EcfabG.stamp()"
   ]
  },
  {
   "cell_type": "markdown",
   "id": "42ebc302",
   "metadata": {},
   "source": [
    "The sequence is written to a local file."
   ]
  },
  {
   "cell_type": "code",
   "execution_count": 20,
   "id": "8dbd85c7",
   "metadata": {
    "execution": {
     "iopub.execute_input": "2022-03-06T14:49:00.999488Z",
     "iopub.status.busy": "2022-03-06T14:49:00.999215Z",
     "iopub.status.idle": "2022-03-06T14:49:01.004478Z",
     "shell.execute_reply": "2022-03-06T14:49:01.003822Z"
    }
   },
   "outputs": [
    {
     "data": {
      "text/html": [
       "<font face=monospace><a href='pYPKa_A_EcfabG.gb' target='_blank'>pYPKa_A_EcfabG.gb</a></font><br>"
      ]
     },
     "metadata": {},
     "output_type": "display_data"
    }
   ],
   "source": [
    "pYPKa_A_EcfabG.write(\"pYPKa_A_EcfabG.gb\")"
   ]
  }
 ],
 "metadata": {
  "language_info": {
   "codemirror_mode": {
    "name": "ipython",
    "version": 3
   },
   "file_extension": ".py",
   "mimetype": "text/x-python",
   "name": "python",
   "nbconvert_exporter": "python",
   "pygments_lexer": "ipython3",
   "version": "3.9.7"
  }
 },
 "nbformat": 4,
 "nbformat_minor": 5
}
