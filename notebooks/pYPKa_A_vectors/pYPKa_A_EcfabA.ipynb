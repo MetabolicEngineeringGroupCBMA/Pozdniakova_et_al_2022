{
 "cells": [
  {
   "cell_type": "markdown",
   "id": "e562978f",
   "metadata": {},
   "source": [
    "# Construction of pYPKa_A_EcfabA\n",
    "\n",
    "This notebook describe the construction of the _E. coli_ vector [pYPKa_A_EcfabA](pYPKa_A_EcfabA.gb).\n",
    "\n",
    "![pYPKa_A plasmid](pYPK_A.png \"pYPKa_A plasmid\")\n",
    "\n",
    "A part of the [pydna](https://pypi.python.org/pypi/pydna/) package is imported in the code cell below."
   ]
  },
  {
   "cell_type": "code",
   "execution_count": 1,
   "id": "e458ecdf",
   "metadata": {
    "execution": {
     "iopub.execute_input": "2022-03-06T14:48:44.272162Z",
     "iopub.status.busy": "2022-03-06T14:48:44.271861Z",
     "iopub.status.idle": "2022-03-06T14:48:44.579991Z",
     "shell.execute_reply": "2022-03-06T14:48:44.579368Z"
    }
   },
   "outputs": [],
   "source": [
    "from pydna.readers import read\n",
    "from pydna.genbank import Genbank\n",
    "from pydna.parsers import parse_primers\n",
    "from pydna.amplify import pcr\n",
    "from pydna.amplify import Anneal"
   ]
  },
  {
   "cell_type": "markdown",
   "id": "a4aff79e",
   "metadata": {},
   "source": [
    "The vector backbone [pYPKa](pYPKa.gb) is read from a local file."
   ]
  },
  {
   "cell_type": "code",
   "execution_count": 2,
   "id": "e57f9c86",
   "metadata": {
    "execution": {
     "iopub.execute_input": "2022-03-06T14:48:44.583019Z",
     "iopub.status.busy": "2022-03-06T14:48:44.582490Z",
     "iopub.status.idle": "2022-03-06T14:48:44.598675Z",
     "shell.execute_reply": "2022-03-06T14:48:44.598092Z"
    }
   },
   "outputs": [],
   "source": [
    "pYPKa = read(\"pYPKa.gb\")"
   ]
  },
  {
   "cell_type": "markdown",
   "id": "6428f534",
   "metadata": {},
   "source": [
    "The restriction enzyme [AjiI](http://rebase.neb.com/rebase/enz/AjiI.html) is imported from [Biopython](http://biopython.org)"
   ]
  },
  {
   "cell_type": "code",
   "execution_count": 3,
   "id": "516a97cc",
   "metadata": {
    "execution": {
     "iopub.execute_input": "2022-03-06T14:48:44.601377Z",
     "iopub.status.busy": "2022-03-06T14:48:44.601196Z",
     "iopub.status.idle": "2022-03-06T14:48:44.604793Z",
     "shell.execute_reply": "2022-03-06T14:48:44.603816Z"
    }
   },
   "outputs": [],
   "source": [
    "from Bio.Restriction import AjiI"
   ]
  },
  {
   "cell_type": "markdown",
   "id": "915cc052",
   "metadata": {},
   "source": [
    "The plasmid is linearized with the enzyme."
   ]
  },
  {
   "cell_type": "code",
   "execution_count": 4,
   "id": "0ececc07",
   "metadata": {
    "execution": {
     "iopub.execute_input": "2022-03-06T14:48:44.609321Z",
     "iopub.status.busy": "2022-03-06T14:48:44.608794Z",
     "iopub.status.idle": "2022-03-06T14:48:44.615264Z",
     "shell.execute_reply": "2022-03-06T14:48:44.614555Z"
    }
   },
   "outputs": [],
   "source": [
    "pYPKa_AjiI  = pYPKa.linearize(AjiI)"
   ]
  },
  {
   "cell_type": "markdown",
   "id": "1d2c4557",
   "metadata": {},
   "source": [
    "Access to [Genbank](http://www.ncbi.nlm.nih.gov/nuccore) is needed in order to download the template.\n",
    "If the email address below is not yours, change it before executing this script as you must always give NCBI a way to contact you when using their service."
   ]
  },
  {
   "cell_type": "code",
   "execution_count": 5,
   "id": "35c80ce2",
   "metadata": {
    "execution": {
     "iopub.execute_input": "2022-03-06T14:48:44.618326Z",
     "iopub.status.busy": "2022-03-06T14:48:44.618115Z",
     "iopub.status.idle": "2022-03-06T14:48:44.622315Z",
     "shell.execute_reply": "2022-03-06T14:48:44.621577Z"
    }
   },
   "outputs": [],
   "source": [
    "gb = Genbank(\"bjornjobb@gmail.com\")"
   ]
  },
  {
   "cell_type": "markdown",
   "id": "a8e55a53",
   "metadata": {},
   "source": [
    "The template is downloaded from Genbank below."
   ]
  },
  {
   "cell_type": "code",
   "execution_count": 6,
   "id": "0f60bdc2",
   "metadata": {
    "execution": {
     "iopub.execute_input": "2022-03-06T14:48:44.625398Z",
     "iopub.status.busy": "2022-03-06T14:48:44.625167Z",
     "iopub.status.idle": "2022-03-06T14:48:46.225238Z",
     "shell.execute_reply": "2022-03-06T14:48:46.224538Z"
    }
   },
   "outputs": [
    {
     "data": {
      "text/html": [
       "<a href='https://www.ncbi.nlm.nih.gov/nuccore/ NC_000913 ?from=1015952&to=1016470&strand=2' target='_blank'> NC_000913  1015952-1016470</a>"
      ],
      "text/plain": [
       "Gbank( NC_000913  1015952-1016470)(-519)"
      ]
     },
     "execution_count": 6,
     "metadata": {},
     "output_type": "execute_result"
    }
   ],
   "source": [
    "template  = gb.nucleotide(\" NC_000913 REGION: complement(1015952..1016470)\")\n",
    "template"
   ]
  },
  {
   "cell_type": "markdown",
   "id": "04a3f423",
   "metadata": {},
   "source": [
    "The two primers below are used to amplify the insert."
   ]
  },
  {
   "cell_type": "code",
   "execution_count": 7,
   "id": "26889d66",
   "metadata": {
    "execution": {
     "iopub.execute_input": "2022-03-06T14:48:46.227752Z",
     "iopub.status.busy": "2022-03-06T14:48:46.227556Z",
     "iopub.status.idle": "2022-03-06T14:48:46.231055Z",
     "shell.execute_reply": "2022-03-06T14:48:46.230557Z"
    }
   },
   "outputs": [],
   "source": [
    "fp,rp =  parse_primers(\"\"\">716_EcfabA_fw\n",
    "                          aaATGGTAGATAAACGCGAATC\n",
    "                          >717_EcfabA_rv\n",
    "                          TCAGAAGGCAGACGTATC\"\"\")"
   ]
  },
  {
   "cell_type": "markdown",
   "id": "ab4dab55",
   "metadata": {},
   "source": [
    "The gene is amplifed using the primers specified above."
   ]
  },
  {
   "cell_type": "code",
   "execution_count": 8,
   "id": "4a305cb1",
   "metadata": {
    "execution": {
     "iopub.execute_input": "2022-03-06T14:48:46.233483Z",
     "iopub.status.busy": "2022-03-06T14:48:46.233300Z",
     "iopub.status.idle": "2022-03-06T14:48:46.242386Z",
     "shell.execute_reply": "2022-03-06T14:48:46.241802Z"
    }
   },
   "outputs": [],
   "source": [
    "ins = pcr(fp, rp, template)"
   ]
  },
  {
   "cell_type": "markdown",
   "id": "73044859",
   "metadata": {},
   "source": [
    "The primers anneal on the template like this."
   ]
  },
  {
   "cell_type": "code",
   "execution_count": 9,
   "id": "5ac16e23",
   "metadata": {
    "execution": {
     "iopub.execute_input": "2022-03-06T14:48:46.244798Z",
     "iopub.status.busy": "2022-03-06T14:48:46.244633Z",
     "iopub.status.idle": "2022-03-06T14:48:46.248570Z",
     "shell.execute_reply": "2022-03-06T14:48:46.248038Z"
    }
   },
   "outputs": [
    {
     "data": {
      "text/plain": [
       "  5ATGGTAGATAAACGCGAATC...GATACGTCTGCCTTCTGA3\n",
       "                          ||||||||||||||||||\n",
       "                         3CTATGCAGACGGAAGACT5\n",
       "5aaATGGTAGATAAACGCGAATC3\n",
       "   ||||||||||||||||||||\n",
       "  3TACCATCTATTTGCGCTTAG...CTATGCAGACGGAAGACT5"
      ]
     },
     "execution_count": 9,
     "metadata": {},
     "output_type": "execute_result"
    }
   ],
   "source": [
    "ins.figure()"
   ]
  },
  {
   "cell_type": "markdown",
   "id": "b66a4707",
   "metadata": {},
   "source": [
    "A suggested PCR program."
   ]
  },
  {
   "cell_type": "code",
   "execution_count": 10,
   "id": "9e2f2006",
   "metadata": {
    "execution": {
     "iopub.execute_input": "2022-03-06T14:48:46.250901Z",
     "iopub.status.busy": "2022-03-06T14:48:46.250694Z",
     "iopub.status.idle": "2022-03-06T14:48:46.255255Z",
     "shell.execute_reply": "2022-03-06T14:48:46.254562Z"
    }
   },
   "outputs": [
    {
     "data": {
      "text/plain": [
       "|95°C|95°C               |    |tmf:57.4\n",
       "|____|_____          72°C|72°C|tmr:57.9\n",
       "|3min|30s  \\ 58.6°C _____|____|45s/kb\n",
       "|    |      \\______/ 0:30|5min|GC 53%\n",
       "|    |       30s         |    |521bp"
      ]
     },
     "execution_count": 10,
     "metadata": {},
     "output_type": "execute_result"
    }
   ],
   "source": [
    "ins.program()"
   ]
  },
  {
   "cell_type": "markdown",
   "id": "6cd801df",
   "metadata": {},
   "source": [
    "The final vector is:"
   ]
  },
  {
   "cell_type": "code",
   "execution_count": 11,
   "id": "da858f80",
   "metadata": {
    "execution": {
     "iopub.execute_input": "2022-03-06T14:48:46.258064Z",
     "iopub.status.busy": "2022-03-06T14:48:46.257860Z",
     "iopub.status.idle": "2022-03-06T14:48:46.422989Z",
     "shell.execute_reply": "2022-03-06T14:48:46.422383Z"
    }
   },
   "outputs": [],
   "source": [
    "pYPKa_A_EcfabA = (pYPKa_AjiI  + ins).looped().synced(\"gttctgatcctcgagcatcttaagaattc\")"
   ]
  },
  {
   "cell_type": "markdown",
   "id": "9416a9d6",
   "metadata": {},
   "source": [
    "The vector with reverse insert is created below. This vector theoretically make up\n",
    "fifty percent of the clones. The PCR strategy below is used to identify the correct clones."
   ]
  },
  {
   "cell_type": "code",
   "execution_count": 12,
   "id": "43cabbd9",
   "metadata": {
    "execution": {
     "iopub.execute_input": "2022-03-06T14:48:46.425660Z",
     "iopub.status.busy": "2022-03-06T14:48:46.425474Z",
     "iopub.status.idle": "2022-03-06T14:48:46.583801Z",
     "shell.execute_reply": "2022-03-06T14:48:46.583228Z"
    }
   },
   "outputs": [],
   "source": [
    "pYPKa_A_EcfabAb = (pYPKa_AjiI  + ins.rc()).looped().synced(\"gttctgatcctcgagcatcttaagaattc\")"
   ]
  },
  {
   "cell_type": "markdown",
   "id": "650821e0",
   "metadata": {},
   "source": [
    "A combination of standard primers and the newly designed primers are\n",
    "used for the strategy to identify correct clones.\n",
    "Standard primers are listed [here](standard_primers.txt).\n",
    "The standard primers are read into a dictonary in the code cell below."
   ]
  },
  {
   "cell_type": "code",
   "execution_count": 13,
   "id": "ee5a386e",
   "metadata": {
    "execution": {
     "iopub.execute_input": "2022-03-06T14:48:46.586378Z",
     "iopub.status.busy": "2022-03-06T14:48:46.586191Z",
     "iopub.status.idle": "2022-03-06T14:48:46.590230Z",
     "shell.execute_reply": "2022-03-06T14:48:46.589744Z"
    }
   },
   "outputs": [],
   "source": [
    "p = { x.id: x for x in parse_primers(\"standard_primers.txt\") }"
   ]
  },
  {
   "cell_type": "markdown",
   "id": "ff1396d5",
   "metadata": {},
   "source": [
    "## Diagnostic PCR confirmation of pYPKa_A_EcfabA\n",
    "The correct structure of pYPKa_A_EcfabA is confirmed by PCR using standard primers\n",
    "577 and 342 that are vector specific together with the EcfabAfw primer specific for the insert\n",
    "in a multiplex PCR reaction with three primers present in the PCR reaction.\n",
    "\n",
    "Two PCR products are expected if the insert was sucessfully cloned, sizes depending\n",
    "on the orientation of the insert.\n",
    "If the vector is empty, only one short product is formed.\n",
    "\n",
    "## Expected PCR products sizes:\n",
    "\n",
    "pYPKa_A_EcfabA with insert in correct orientation."
   ]
  },
  {
   "cell_type": "code",
   "execution_count": 14,
   "id": "db84a307",
   "metadata": {
    "execution": {
     "iopub.execute_input": "2022-03-06T14:48:46.592802Z",
     "iopub.status.busy": "2022-03-06T14:48:46.592618Z",
     "iopub.status.idle": "2022-03-06T14:48:46.606706Z",
     "shell.execute_reply": "2022-03-06T14:48:46.606171Z"
    }
   },
   "outputs": [
    {
     "data": {
      "text/plain": [
       "[Amplicon(1455), Amplicon(1237)]"
      ]
     },
     "execution_count": 14,
     "metadata": {},
     "output_type": "execute_result"
    }
   ],
   "source": [
    "Anneal( (p['577'], p['342'], fp), pYPKa_A_EcfabA).products"
   ]
  },
  {
   "cell_type": "markdown",
   "id": "8284ebf2",
   "metadata": {},
   "source": [
    "pYPKa_A_EcfabA with insert in reverse orientation."
   ]
  },
  {
   "cell_type": "code",
   "execution_count": 15,
   "id": "bcbffecd",
   "metadata": {
    "execution": {
     "iopub.execute_input": "2022-03-06T14:48:46.609086Z",
     "iopub.status.busy": "2022-03-06T14:48:46.608913Z",
     "iopub.status.idle": "2022-03-06T14:48:46.621054Z",
     "shell.execute_reply": "2022-03-06T14:48:46.620340Z"
    }
   },
   "outputs": [
    {
     "data": {
      "text/plain": [
       "[Amplicon(1455), Amplicon(739)]"
      ]
     },
     "execution_count": 15,
     "metadata": {},
     "output_type": "execute_result"
    }
   ],
   "source": [
    "Anneal( (p['577'], p['342'], fp), pYPKa_A_EcfabAb).products"
   ]
  },
  {
   "cell_type": "markdown",
   "id": "ba0f1799",
   "metadata": {},
   "source": [
    "Empty clone"
   ]
  },
  {
   "cell_type": "code",
   "execution_count": 16,
   "id": "2257e52d",
   "metadata": {
    "execution": {
     "iopub.execute_input": "2022-03-06T14:48:46.624057Z",
     "iopub.status.busy": "2022-03-06T14:48:46.623858Z",
     "iopub.status.idle": "2022-03-06T14:48:46.631162Z",
     "shell.execute_reply": "2022-03-06T14:48:46.630681Z"
    }
   },
   "outputs": [
    {
     "data": {
      "text/plain": [
       "[Amplicon(934)]"
      ]
     },
     "execution_count": 16,
     "metadata": {},
     "output_type": "execute_result"
    }
   ],
   "source": [
    "Anneal( (p['577'], p['342'], fp), pYPKa).products"
   ]
  },
  {
   "cell_type": "markdown",
   "id": "cabd0669",
   "metadata": {},
   "source": [
    "The cseguid checksum for the resulting plasmid is calculated for future reference.\n",
    "The [cseguid checksum](http://pydna.readthedocs.org/en/latest/pydna.html#pydna.utils.cseguid)\n",
    "uniquely identifies a circular double stranded sequence."
   ]
  },
  {
   "cell_type": "code",
   "execution_count": 17,
   "id": "d37ec3b8",
   "metadata": {
    "execution": {
     "iopub.execute_input": "2022-03-06T14:48:46.633632Z",
     "iopub.status.busy": "2022-03-06T14:48:46.633419Z",
     "iopub.status.idle": "2022-03-06T14:48:46.639871Z",
     "shell.execute_reply": "2022-03-06T14:48:46.639302Z"
    }
   },
   "outputs": [
    {
     "data": {
      "text/plain": [
       "mk3kVgrWzS4jkzHK6m58oGEyFUw"
      ]
     },
     "execution_count": 17,
     "metadata": {},
     "output_type": "execute_result"
    }
   ],
   "source": [
    "pYPKa_A_EcfabA.cseguid()"
   ]
  },
  {
   "cell_type": "markdown",
   "id": "6bf0d914",
   "metadata": {},
   "source": [
    "The file is given a name based on the cloned insert"
   ]
  },
  {
   "cell_type": "code",
   "execution_count": 18,
   "id": "54cc2368",
   "metadata": {
    "execution": {
     "iopub.execute_input": "2022-03-06T14:48:46.643072Z",
     "iopub.status.busy": "2022-03-06T14:48:46.642803Z",
     "iopub.status.idle": "2022-03-06T14:48:46.646257Z",
     "shell.execute_reply": "2022-03-06T14:48:46.645473Z"
    }
   },
   "outputs": [],
   "source": [
    "pYPKa_A_EcfabA.locus = \"pYPKa_A_EcfabA\"[:16]"
   ]
  },
  {
   "cell_type": "markdown",
   "id": "aed59b02",
   "metadata": {},
   "source": [
    "Sequence is stamped with the cseguid checksum.\n",
    "This can be used to verify the integrity of the sequence file."
   ]
  },
  {
   "cell_type": "code",
   "execution_count": 19,
   "id": "bb7aeeac",
   "metadata": {
    "execution": {
     "iopub.execute_input": "2022-03-06T14:48:46.649402Z",
     "iopub.status.busy": "2022-03-06T14:48:46.649131Z",
     "iopub.status.idle": "2022-03-06T14:48:46.659153Z",
     "shell.execute_reply": "2022-03-06T14:48:46.658410Z"
    }
   },
   "outputs": [
    {
     "data": {
      "text/plain": [
       "cSEGUID_mk3kVgrWzS4jkzHK6m58oGEyFUw"
      ]
     },
     "execution_count": 19,
     "metadata": {},
     "output_type": "execute_result"
    }
   ],
   "source": [
    "pYPKa_A_EcfabA.stamp()"
   ]
  },
  {
   "cell_type": "markdown",
   "id": "1c6a566a",
   "metadata": {},
   "source": [
    "The sequence is written to a local file."
   ]
  },
  {
   "cell_type": "code",
   "execution_count": 20,
   "id": "4268fb0d",
   "metadata": {
    "execution": {
     "iopub.execute_input": "2022-03-06T14:48:46.661671Z",
     "iopub.status.busy": "2022-03-06T14:48:46.661464Z",
     "iopub.status.idle": "2022-03-06T14:48:46.665660Z",
     "shell.execute_reply": "2022-03-06T14:48:46.665078Z"
    }
   },
   "outputs": [
    {
     "data": {
      "text/html": [
       "<font face=monospace><a href='pYPKa_A_EcfabA.gb' target='_blank'>pYPKa_A_EcfabA.gb</a></font><br>"
      ]
     },
     "metadata": {},
     "output_type": "display_data"
    }
   ],
   "source": [
    "pYPKa_A_EcfabA.write(\"pYPKa_A_EcfabA.gb\")"
   ]
  }
 ],
 "metadata": {
  "language_info": {
   "codemirror_mode": {
    "name": "ipython",
    "version": 3
   },
   "file_extension": ".py",
   "mimetype": "text/x-python",
   "name": "python",
   "nbconvert_exporter": "python",
   "pygments_lexer": "ipython3",
   "version": "3.9.7"
  }
 },
 "nbformat": 4,
 "nbformat_minor": 5
}
