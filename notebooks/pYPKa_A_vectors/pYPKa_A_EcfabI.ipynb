{
 "cells": [
  {
   "cell_type": "markdown",
   "id": "c42904bd",
   "metadata": {},
   "source": [
    "# Construction of pYPKa_A_EcfabI\n",
    "\n",
    "This notebook describe the construction of the _E. coli_ vector [pYPKa_A_EcfabI](pYPKa_A_EcfabI.gb).\n",
    "\n",
    "![pYPKa_A plasmid](pYPK_A.png \"pYPKa_A plasmid\")\n",
    "\n",
    "A part of the [pydna](https://pypi.python.org/pypi/pydna/) package is imported in the code cell below."
   ]
  },
  {
   "cell_type": "code",
   "execution_count": 1,
   "id": "1a35deb5",
   "metadata": {
    "execution": {
     "iopub.execute_input": "2022-03-06T14:49:09.295697Z",
     "iopub.status.busy": "2022-03-06T14:49:09.294823Z",
     "iopub.status.idle": "2022-03-06T14:49:09.600188Z",
     "shell.execute_reply": "2022-03-06T14:49:09.599675Z"
    }
   },
   "outputs": [],
   "source": [
    "from pydna.readers import read\n",
    "from pydna.genbank import Genbank\n",
    "from pydna.parsers import parse_primers\n",
    "from pydna.amplify import pcr\n",
    "from pydna.amplify import Anneal"
   ]
  },
  {
   "cell_type": "markdown",
   "id": "3396e088",
   "metadata": {},
   "source": [
    "The vector backbone [pYPKa](pYPKa.gb) is read from a local file."
   ]
  },
  {
   "cell_type": "code",
   "execution_count": 2,
   "id": "26a749ff",
   "metadata": {
    "execution": {
     "iopub.execute_input": "2022-03-06T14:49:09.602988Z",
     "iopub.status.busy": "2022-03-06T14:49:09.602786Z",
     "iopub.status.idle": "2022-03-06T14:49:09.618147Z",
     "shell.execute_reply": "2022-03-06T14:49:09.617548Z"
    }
   },
   "outputs": [],
   "source": [
    "pYPKa = read(\"pYPKa.gb\")"
   ]
  },
  {
   "cell_type": "markdown",
   "id": "aa86cb00",
   "metadata": {},
   "source": [
    "The restriction enzyme [AjiI](http://rebase.neb.com/rebase/enz/AjiI.html) is imported from [Biopython](http://biopython.org)"
   ]
  },
  {
   "cell_type": "code",
   "execution_count": 3,
   "id": "0c4371ca",
   "metadata": {
    "execution": {
     "iopub.execute_input": "2022-03-06T14:49:09.620901Z",
     "iopub.status.busy": "2022-03-06T14:49:09.620686Z",
     "iopub.status.idle": "2022-03-06T14:49:09.623557Z",
     "shell.execute_reply": "2022-03-06T14:49:09.623069Z"
    }
   },
   "outputs": [],
   "source": [
    "from Bio.Restriction import AjiI"
   ]
  },
  {
   "cell_type": "markdown",
   "id": "eb719299",
   "metadata": {},
   "source": [
    "The plasmid is linearized with the enzyme."
   ]
  },
  {
   "cell_type": "code",
   "execution_count": 4,
   "id": "085d27bd",
   "metadata": {
    "execution": {
     "iopub.execute_input": "2022-03-06T14:49:09.626346Z",
     "iopub.status.busy": "2022-03-06T14:49:09.626020Z",
     "iopub.status.idle": "2022-03-06T14:49:09.633051Z",
     "shell.execute_reply": "2022-03-06T14:49:09.632340Z"
    }
   },
   "outputs": [],
   "source": [
    "pYPKa_AjiI  = pYPKa.linearize(AjiI)"
   ]
  },
  {
   "cell_type": "markdown",
   "id": "39c2ef00",
   "metadata": {},
   "source": [
    "Access to [Genbank](http://www.ncbi.nlm.nih.gov/nuccore) is needed in order to download the template.\n",
    "If the email address below is not yours, change it before executing this script as you must always give NCBI a way to contact you when using their service."
   ]
  },
  {
   "cell_type": "code",
   "execution_count": 5,
   "id": "61354f9a",
   "metadata": {
    "execution": {
     "iopub.execute_input": "2022-03-06T14:49:09.636148Z",
     "iopub.status.busy": "2022-03-06T14:49:09.635871Z",
     "iopub.status.idle": "2022-03-06T14:49:09.640085Z",
     "shell.execute_reply": "2022-03-06T14:49:09.639436Z"
    }
   },
   "outputs": [],
   "source": [
    "gb = Genbank(\"bjornjobb@gmail.com\")"
   ]
  },
  {
   "cell_type": "markdown",
   "id": "beaec146",
   "metadata": {},
   "source": [
    "The template is downloaded from Genbank below."
   ]
  },
  {
   "cell_type": "code",
   "execution_count": 6,
   "id": "59503075",
   "metadata": {
    "execution": {
     "iopub.execute_input": "2022-03-06T14:49:09.643271Z",
     "iopub.status.busy": "2022-03-06T14:49:09.643039Z",
     "iopub.status.idle": "2022-03-06T14:49:11.197216Z",
     "shell.execute_reply": "2022-03-06T14:49:11.196659Z"
    }
   },
   "outputs": [
    {
     "data": {
      "text/html": [
       "<a href='https://www.ncbi.nlm.nih.gov/nuccore/ NC_000913 ?from=1350251&to=1351039&strand=2' target='_blank'> NC_000913  1350251-1351039</a>"
      ],
      "text/plain": [
       "Gbank( NC_000913  1350251-1351039)(-789)"
      ]
     },
     "execution_count": 6,
     "metadata": {},
     "output_type": "execute_result"
    }
   ],
   "source": [
    "template  = gb.nucleotide(\" NC_000913 REGION: complement(1350251..1351039)\")\n",
    "template"
   ]
  },
  {
   "cell_type": "markdown",
   "id": "26c14ca7",
   "metadata": {},
   "source": [
    "The two primers below are used to amplify the insert."
   ]
  },
  {
   "cell_type": "code",
   "execution_count": 7,
   "id": "2969bff1",
   "metadata": {
    "execution": {
     "iopub.execute_input": "2022-03-06T14:49:11.199985Z",
     "iopub.status.busy": "2022-03-06T14:49:11.199740Z",
     "iopub.status.idle": "2022-03-06T14:49:11.203764Z",
     "shell.execute_reply": "2022-03-06T14:49:11.203150Z"
    }
   },
   "outputs": [],
   "source": [
    "fp,rp =  parse_primers(\"\"\">720_EcfabI_fw\n",
    "                          aaATGGGTTTTCTTTCCG\n",
    "                          >721_EcfabI_rv\n",
    "                          TTATTTCAGTTCGAGTTCGTT\"\"\")"
   ]
  },
  {
   "cell_type": "markdown",
   "id": "44de84b0",
   "metadata": {},
   "source": [
    "The gene is amplifed using the primers specified above."
   ]
  },
  {
   "cell_type": "code",
   "execution_count": 8,
   "id": "629071ac",
   "metadata": {
    "execution": {
     "iopub.execute_input": "2022-03-06T14:49:11.206909Z",
     "iopub.status.busy": "2022-03-06T14:49:11.206691Z",
     "iopub.status.idle": "2022-03-06T14:49:11.215958Z",
     "shell.execute_reply": "2022-03-06T14:49:11.215379Z"
    }
   },
   "outputs": [],
   "source": [
    "ins = pcr(fp, rp, template)"
   ]
  },
  {
   "cell_type": "markdown",
   "id": "c27d7bb2",
   "metadata": {},
   "source": [
    "The primers anneal on the template like this."
   ]
  },
  {
   "cell_type": "code",
   "execution_count": 9,
   "id": "d64e499f",
   "metadata": {
    "execution": {
     "iopub.execute_input": "2022-03-06T14:49:11.219770Z",
     "iopub.status.busy": "2022-03-06T14:49:11.219487Z",
     "iopub.status.idle": "2022-03-06T14:49:11.224616Z",
     "shell.execute_reply": "2022-03-06T14:49:11.223961Z"
    }
   },
   "outputs": [
    {
     "data": {
      "text/plain": [
       "  5ATGGGTTTTCTTTCCG...AACGAACTCGAACTGAAATAA3\n",
       "                      |||||||||||||||||||||\n",
       "                     3TTGCTTGAGCTTGACTTTATT5\n",
       "5aaATGGGTTTTCTTTCCG3\n",
       "   ||||||||||||||||\n",
       "  3TACCCAAAAGAAAGGC...TTGCTTGAGCTTGACTTTATT5"
      ]
     },
     "execution_count": 9,
     "metadata": {},
     "output_type": "execute_result"
    }
   ],
   "source": [
    "ins.figure()"
   ]
  },
  {
   "cell_type": "markdown",
   "id": "18f3dfcb",
   "metadata": {},
   "source": [
    "A suggested PCR program."
   ]
  },
  {
   "cell_type": "code",
   "execution_count": 10,
   "id": "b482e3a8",
   "metadata": {
    "execution": {
     "iopub.execute_input": "2022-03-06T14:49:11.227714Z",
     "iopub.status.busy": "2022-03-06T14:49:11.227432Z",
     "iopub.status.idle": "2022-03-06T14:49:11.233612Z",
     "shell.execute_reply": "2022-03-06T14:49:11.232711Z"
    }
   },
   "outputs": [
    {
     "data": {
      "text/plain": [
       "|95°C|95°C               |    |tmf:53.5\n",
       "|____|_____          72°C|72°C|tmr:55.9\n",
       "|3min|30s  \\ 57.7°C _____|____|45s/kb\n",
       "|    |      \\______/ 0:35|5min|GC 53%\n",
       "|    |       30s         |    |791bp"
      ]
     },
     "execution_count": 10,
     "metadata": {},
     "output_type": "execute_result"
    }
   ],
   "source": [
    "ins.program()"
   ]
  },
  {
   "cell_type": "markdown",
   "id": "02e55d47",
   "metadata": {},
   "source": [
    "The final vector is:"
   ]
  },
  {
   "cell_type": "code",
   "execution_count": 11,
   "id": "0109a9ad",
   "metadata": {
    "execution": {
     "iopub.execute_input": "2022-03-06T14:49:11.237024Z",
     "iopub.status.busy": "2022-03-06T14:49:11.236714Z",
     "iopub.status.idle": "2022-03-06T14:49:11.408641Z",
     "shell.execute_reply": "2022-03-06T14:49:11.408067Z"
    }
   },
   "outputs": [],
   "source": [
    "pYPKa_A_EcfabI = (pYPKa_AjiI  + ins).looped().synced(\"gttctgatcctcgagcatcttaagaattc\")"
   ]
  },
  {
   "cell_type": "markdown",
   "id": "7fe2e160",
   "metadata": {},
   "source": [
    "The vector with reverse insert is created below. This vector theoretically make up\n",
    "fifty percent of the clones. The PCR strategy below is used to identify the correct clones."
   ]
  },
  {
   "cell_type": "code",
   "execution_count": 12,
   "id": "604c8f5b",
   "metadata": {
    "execution": {
     "iopub.execute_input": "2022-03-06T14:49:11.411326Z",
     "iopub.status.busy": "2022-03-06T14:49:11.411142Z",
     "iopub.status.idle": "2022-03-06T14:49:11.575636Z",
     "shell.execute_reply": "2022-03-06T14:49:11.575020Z"
    }
   },
   "outputs": [],
   "source": [
    "pYPKa_A_EcfabIb = (pYPKa_AjiI  + ins.rc()).looped().synced(\"gttctgatcctcgagcatcttaagaattc\")"
   ]
  },
  {
   "cell_type": "markdown",
   "id": "0430b3bb",
   "metadata": {},
   "source": [
    "A combination of standard primers and the newly designed primers are\n",
    "used for the strategy to identify correct clones.\n",
    "Standard primers are listed [here](standard_primers.txt).\n",
    "The standard primers are read into a dictonary in the code cell below."
   ]
  },
  {
   "cell_type": "code",
   "execution_count": 13,
   "id": "2b8da1ca",
   "metadata": {
    "execution": {
     "iopub.execute_input": "2022-03-06T14:49:11.578514Z",
     "iopub.status.busy": "2022-03-06T14:49:11.578265Z",
     "iopub.status.idle": "2022-03-06T14:49:11.582754Z",
     "shell.execute_reply": "2022-03-06T14:49:11.582145Z"
    }
   },
   "outputs": [],
   "source": [
    "p = { x.id: x for x in parse_primers(\"standard_primers.txt\") }"
   ]
  },
  {
   "cell_type": "markdown",
   "id": "241f8b3b",
   "metadata": {},
   "source": [
    "## Diagnostic PCR confirmation of pYPKa_A_EcfabI\n",
    "The correct structure of pYPKa_A_EcfabI is confirmed by PCR using standard primers\n",
    "577 and 342 that are vector specific together with the EcfabIfw primer specific for the insert\n",
    "in a multiplex PCR reaction with three primers present in the PCR reaction.\n",
    "\n",
    "Two PCR products are expected if the insert was sucessfully cloned, sizes depending\n",
    "on the orientation of the insert.\n",
    "If the vector is empty, only one short product is formed.\n",
    "\n",
    "## Expected PCR products sizes:\n",
    "\n",
    "pYPKa_A_EcfabI with insert in correct orientation."
   ]
  },
  {
   "cell_type": "code",
   "execution_count": 14,
   "id": "d2b7b3d7",
   "metadata": {
    "execution": {
     "iopub.execute_input": "2022-03-06T14:49:11.585776Z",
     "iopub.status.busy": "2022-03-06T14:49:11.585377Z",
     "iopub.status.idle": "2022-03-06T14:49:11.600490Z",
     "shell.execute_reply": "2022-03-06T14:49:11.599999Z"
    }
   },
   "outputs": [
    {
     "data": {
      "text/plain": [
       "[Amplicon(1725), Amplicon(1507)]"
      ]
     },
     "execution_count": 14,
     "metadata": {},
     "output_type": "execute_result"
    }
   ],
   "source": [
    "Anneal( (p['577'], p['342'], fp), pYPKa_A_EcfabI).products"
   ]
  },
  {
   "cell_type": "markdown",
   "id": "60528afa",
   "metadata": {},
   "source": [
    "pYPKa_A_EcfabI with insert in reverse orientation."
   ]
  },
  {
   "cell_type": "code",
   "execution_count": 15,
   "id": "1110d915",
   "metadata": {
    "execution": {
     "iopub.execute_input": "2022-03-06T14:49:11.602908Z",
     "iopub.status.busy": "2022-03-06T14:49:11.602716Z",
     "iopub.status.idle": "2022-03-06T14:49:11.613764Z",
     "shell.execute_reply": "2022-03-06T14:49:11.613058Z"
    }
   },
   "outputs": [
    {
     "data": {
      "text/plain": [
       "[Amplicon(1725), Amplicon(1009)]"
      ]
     },
     "execution_count": 15,
     "metadata": {},
     "output_type": "execute_result"
    }
   ],
   "source": [
    "Anneal( (p['577'], p['342'], fp), pYPKa_A_EcfabIb).products"
   ]
  },
  {
   "cell_type": "markdown",
   "id": "7e5b04f9",
   "metadata": {},
   "source": [
    "Empty clone"
   ]
  },
  {
   "cell_type": "code",
   "execution_count": 16,
   "id": "bc09674a",
   "metadata": {
    "execution": {
     "iopub.execute_input": "2022-03-06T14:49:11.616205Z",
     "iopub.status.busy": "2022-03-06T14:49:11.615997Z",
     "iopub.status.idle": "2022-03-06T14:49:11.623995Z",
     "shell.execute_reply": "2022-03-06T14:49:11.623334Z"
    }
   },
   "outputs": [
    {
     "data": {
      "text/plain": [
       "[Amplicon(934)]"
      ]
     },
     "execution_count": 16,
     "metadata": {},
     "output_type": "execute_result"
    }
   ],
   "source": [
    "Anneal( (p['577'], p['342'], fp), pYPKa).products"
   ]
  },
  {
   "cell_type": "markdown",
   "id": "2d1df3f0",
   "metadata": {},
   "source": [
    "The cseguid checksum for the resulting plasmid is calculated for future reference.\n",
    "The [cseguid checksum](http://pydna.readthedocs.org/en/latest/pydna.html#pydna.utils.cseguid)\n",
    "uniquely identifies a circular double stranded sequence."
   ]
  },
  {
   "cell_type": "code",
   "execution_count": 17,
   "id": "2074d0e4",
   "metadata": {
    "execution": {
     "iopub.execute_input": "2022-03-06T14:49:11.627166Z",
     "iopub.status.busy": "2022-03-06T14:49:11.626893Z",
     "iopub.status.idle": "2022-03-06T14:49:11.636620Z",
     "shell.execute_reply": "2022-03-06T14:49:11.635850Z"
    }
   },
   "outputs": [
    {
     "data": {
      "text/plain": [
       "7S4OJZq1mzzg0fYIVbrR-cxqLOs"
      ]
     },
     "execution_count": 17,
     "metadata": {},
     "output_type": "execute_result"
    }
   ],
   "source": [
    "pYPKa_A_EcfabI.cseguid()"
   ]
  },
  {
   "cell_type": "markdown",
   "id": "e797e674",
   "metadata": {},
   "source": [
    "The file is given a name based on the cloned insert"
   ]
  },
  {
   "cell_type": "code",
   "execution_count": 18,
   "id": "e7b59691",
   "metadata": {
    "execution": {
     "iopub.execute_input": "2022-03-06T14:49:11.639927Z",
     "iopub.status.busy": "2022-03-06T14:49:11.639640Z",
     "iopub.status.idle": "2022-03-06T14:49:11.643239Z",
     "shell.execute_reply": "2022-03-06T14:49:11.642577Z"
    }
   },
   "outputs": [],
   "source": [
    "pYPKa_A_EcfabI.locus = \"pYPKa_A_EcfabI\"[:16]"
   ]
  },
  {
   "cell_type": "markdown",
   "id": "96a321c7",
   "metadata": {},
   "source": [
    "Sequence is stamped with the cseguid checksum.\n",
    "This can be used to verify the integrity of the sequence file."
   ]
  },
  {
   "cell_type": "code",
   "execution_count": 19,
   "id": "8be2860a",
   "metadata": {
    "execution": {
     "iopub.execute_input": "2022-03-06T14:49:11.646263Z",
     "iopub.status.busy": "2022-03-06T14:49:11.646035Z",
     "iopub.status.idle": "2022-03-06T14:49:11.656577Z",
     "shell.execute_reply": "2022-03-06T14:49:11.655605Z"
    }
   },
   "outputs": [
    {
     "data": {
      "text/plain": [
       "cSEGUID_7S4OJZq1mzzg0fYIVbrR-cxqLOs"
      ]
     },
     "execution_count": 19,
     "metadata": {},
     "output_type": "execute_result"
    }
   ],
   "source": [
    "pYPKa_A_EcfabI.stamp()"
   ]
  },
  {
   "cell_type": "markdown",
   "id": "4797d7e9",
   "metadata": {},
   "source": [
    "The sequence is written to a local file."
   ]
  },
  {
   "cell_type": "code",
   "execution_count": 20,
   "id": "09de3a93",
   "metadata": {
    "execution": {
     "iopub.execute_input": "2022-03-06T14:49:11.660191Z",
     "iopub.status.busy": "2022-03-06T14:49:11.659881Z",
     "iopub.status.idle": "2022-03-06T14:49:11.665274Z",
     "shell.execute_reply": "2022-03-06T14:49:11.664591Z"
    }
   },
   "outputs": [
    {
     "data": {
      "text/html": [
       "<font face=monospace><a href='pYPKa_A_EcfabI.gb' target='_blank'>pYPKa_A_EcfabI.gb</a></font><br>"
      ]
     },
     "metadata": {},
     "output_type": "display_data"
    }
   ],
   "source": [
    "pYPKa_A_EcfabI.write(\"pYPKa_A_EcfabI.gb\")"
   ]
  }
 ],
 "metadata": {
  "language_info": {
   "codemirror_mode": {
    "name": "ipython",
    "version": 3
   },
   "file_extension": ".py",
   "mimetype": "text/x-python",
   "name": "python",
   "nbconvert_exporter": "python",
   "pygments_lexer": "ipython3",
   "version": "3.9.7"
  }
 },
 "nbformat": 4,
 "nbformat_minor": 5
}
