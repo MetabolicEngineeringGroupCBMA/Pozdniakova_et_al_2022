{
 "cells": [
  {
   "cell_type": "markdown",
   "id": "c2fee7fc",
   "metadata": {},
   "source": [
    "# Construction of pYPKa_A_EcfabH\n",
    "\n",
    "This notebook describe the construction of the _E. coli_ vector [pYPKa_A_EcfabH](pYPKa_A_EcfabH.gb).\n",
    "\n",
    "![pYPKa_A plasmid](pYPK_A.png \"pYPKa_A plasmid\")\n",
    "\n",
    "A part of the [pydna](https://pypi.python.org/pypi/pydna/) package is imported in the code cell below."
   ]
  },
  {
   "cell_type": "code",
   "execution_count": 1,
   "id": "1cfce544",
   "metadata": {
    "execution": {
     "iopub.execute_input": "2022-03-06T14:49:02.165535Z",
     "iopub.status.busy": "2022-03-06T14:49:02.165092Z",
     "iopub.status.idle": "2022-03-06T14:49:02.474860Z",
     "shell.execute_reply": "2022-03-06T14:49:02.474252Z"
    }
   },
   "outputs": [],
   "source": [
    "from pydna.readers import read\n",
    "from pydna.genbank import Genbank\n",
    "from pydna.parsers import parse_primers\n",
    "from pydna.amplify import pcr\n",
    "from pydna.amplify import Anneal"
   ]
  },
  {
   "cell_type": "markdown",
   "id": "913b10a8",
   "metadata": {},
   "source": [
    "The vector backbone [pYPKa](pYPKa.gb) is read from a local file."
   ]
  },
  {
   "cell_type": "code",
   "execution_count": 2,
   "id": "537cbe9d",
   "metadata": {
    "execution": {
     "iopub.execute_input": "2022-03-06T14:49:02.478137Z",
     "iopub.status.busy": "2022-03-06T14:49:02.477497Z",
     "iopub.status.idle": "2022-03-06T14:49:02.494232Z",
     "shell.execute_reply": "2022-03-06T14:49:02.493672Z"
    }
   },
   "outputs": [],
   "source": [
    "pYPKa = read(\"pYPKa.gb\")"
   ]
  },
  {
   "cell_type": "markdown",
   "id": "fad168b3",
   "metadata": {},
   "source": [
    "The restriction enzyme [AjiI](http://rebase.neb.com/rebase/enz/AjiI.html) is imported from [Biopython](http://biopython.org)"
   ]
  },
  {
   "cell_type": "code",
   "execution_count": 3,
   "id": "a28ae6c4",
   "metadata": {
    "execution": {
     "iopub.execute_input": "2022-03-06T14:49:02.496864Z",
     "iopub.status.busy": "2022-03-06T14:49:02.496681Z",
     "iopub.status.idle": "2022-03-06T14:49:02.499484Z",
     "shell.execute_reply": "2022-03-06T14:49:02.498994Z"
    }
   },
   "outputs": [],
   "source": [
    "from Bio.Restriction import AjiI"
   ]
  },
  {
   "cell_type": "markdown",
   "id": "05dfef30",
   "metadata": {},
   "source": [
    "The plasmid is linearized with the enzyme."
   ]
  },
  {
   "cell_type": "code",
   "execution_count": 4,
   "id": "47627884",
   "metadata": {
    "execution": {
     "iopub.execute_input": "2022-03-06T14:49:02.502494Z",
     "iopub.status.busy": "2022-03-06T14:49:02.502245Z",
     "iopub.status.idle": "2022-03-06T14:49:02.508792Z",
     "shell.execute_reply": "2022-03-06T14:49:02.508083Z"
    }
   },
   "outputs": [],
   "source": [
    "pYPKa_AjiI  = pYPKa.linearize(AjiI)"
   ]
  },
  {
   "cell_type": "markdown",
   "id": "80c5afa9",
   "metadata": {},
   "source": [
    "Access to [Genbank](http://www.ncbi.nlm.nih.gov/nuccore) is needed in order to download the template.\n",
    "If the email address below is not yours, change it before executing this script as you must always give NCBI a way to contact you when using their service."
   ]
  },
  {
   "cell_type": "code",
   "execution_count": 5,
   "id": "da68d6ce",
   "metadata": {
    "execution": {
     "iopub.execute_input": "2022-03-06T14:49:02.511449Z",
     "iopub.status.busy": "2022-03-06T14:49:02.511267Z",
     "iopub.status.idle": "2022-03-06T14:49:02.514674Z",
     "shell.execute_reply": "2022-03-06T14:49:02.514204Z"
    }
   },
   "outputs": [],
   "source": [
    "gb = Genbank(\"bjornjobb@gmail.com\")"
   ]
  },
  {
   "cell_type": "markdown",
   "id": "ee836c8f",
   "metadata": {},
   "source": [
    "The template is downloaded from Genbank below."
   ]
  },
  {
   "cell_type": "code",
   "execution_count": 6,
   "id": "47fad2a7",
   "metadata": {
    "execution": {
     "iopub.execute_input": "2022-03-06T14:49:02.516937Z",
     "iopub.status.busy": "2022-03-06T14:49:02.516717Z",
     "iopub.status.idle": "2022-03-06T14:49:04.130146Z",
     "shell.execute_reply": "2022-03-06T14:49:04.129499Z"
    }
   },
   "outputs": [
    {
     "data": {
      "text/html": [
       "<a href='https://www.ncbi.nlm.nih.gov/nuccore/ NC_000913 ?from=1148759&to=1149712&strand=1' target='_blank'> NC_000913  1148759-1149712</a>"
      ],
      "text/plain": [
       "Gbank( NC_000913  1148759-1149712)(-954)"
      ]
     },
     "execution_count": 6,
     "metadata": {},
     "output_type": "execute_result"
    }
   ],
   "source": [
    "template  = gb.nucleotide(\" NC_000913 REGION: 1148759..1149712\")\n",
    "template"
   ]
  },
  {
   "cell_type": "markdown",
   "id": "87c88124",
   "metadata": {},
   "source": [
    "The two primers below are used to amplify the insert."
   ]
  },
  {
   "cell_type": "code",
   "execution_count": 7,
   "id": "4f77f412",
   "metadata": {
    "execution": {
     "iopub.execute_input": "2022-03-06T14:49:04.132832Z",
     "iopub.status.busy": "2022-03-06T14:49:04.132597Z",
     "iopub.status.idle": "2022-03-06T14:49:04.136430Z",
     "shell.execute_reply": "2022-03-06T14:49:04.135918Z"
    }
   },
   "outputs": [],
   "source": [
    "fp,rp =  parse_primers(\"\"\">708_EcfabH_fw\n",
    "                          aaATGTATACGAAGATTATTGGTACTG\n",
    "                          >709_EcfabH_rv\n",
    "                          CTAGAAACGAACCAGCG\"\"\")"
   ]
  },
  {
   "cell_type": "markdown",
   "id": "2d5bd162",
   "metadata": {},
   "source": [
    "The gene is amplifed using the primers specified above."
   ]
  },
  {
   "cell_type": "code",
   "execution_count": 8,
   "id": "079b4e29",
   "metadata": {
    "execution": {
     "iopub.execute_input": "2022-03-06T14:49:04.138979Z",
     "iopub.status.busy": "2022-03-06T14:49:04.138701Z",
     "iopub.status.idle": "2022-03-06T14:49:04.148802Z",
     "shell.execute_reply": "2022-03-06T14:49:04.148283Z"
    }
   },
   "outputs": [],
   "source": [
    "ins = pcr(fp, rp, template)"
   ]
  },
  {
   "cell_type": "markdown",
   "id": "35679ed6",
   "metadata": {},
   "source": [
    "The primers anneal on the template like this."
   ]
  },
  {
   "cell_type": "code",
   "execution_count": 9,
   "id": "96ccbb85",
   "metadata": {
    "execution": {
     "iopub.execute_input": "2022-03-06T14:49:04.151381Z",
     "iopub.status.busy": "2022-03-06T14:49:04.151134Z",
     "iopub.status.idle": "2022-03-06T14:49:04.155537Z",
     "shell.execute_reply": "2022-03-06T14:49:04.154915Z"
    }
   },
   "outputs": [
    {
     "data": {
      "text/plain": [
       "  5ATGTATACGAAGATTATTGGTACTG...CGCTGGTTCGTTTCTAG3\n",
       "                               |||||||||||||||||\n",
       "                              3GCGACCAAGCAAAGATC5\n",
       "5aaATGTATACGAAGATTATTGGTACTG3\n",
       "   |||||||||||||||||||||||||\n",
       "  3TACATATGCTTCTAATAACCATGAC...GCGACCAAGCAAAGATC5"
      ]
     },
     "execution_count": 9,
     "metadata": {},
     "output_type": "execute_result"
    }
   ],
   "source": [
    "ins.figure()"
   ]
  },
  {
   "cell_type": "markdown",
   "id": "6f74a2fc",
   "metadata": {},
   "source": [
    "A suggested PCR program."
   ]
  },
  {
   "cell_type": "code",
   "execution_count": 10,
   "id": "e9c8767b",
   "metadata": {
    "execution": {
     "iopub.execute_input": "2022-03-06T14:49:04.159342Z",
     "iopub.status.busy": "2022-03-06T14:49:04.158997Z",
     "iopub.status.idle": "2022-03-06T14:49:04.165483Z",
     "shell.execute_reply": "2022-03-06T14:49:04.164597Z"
    }
   },
   "outputs": [
    {
     "data": {
      "text/plain": [
       "|95°C|95°C               |    |tmf:58.8\n",
       "|____|_____          72°C|72°C|tmr:57.0\n",
       "|3min|30s  \\ 59.3°C _____|____|45s/kb\n",
       "|    |      \\______/ 0:43|5min|GC 54%\n",
       "|    |       30s         |    |956bp"
      ]
     },
     "execution_count": 10,
     "metadata": {},
     "output_type": "execute_result"
    }
   ],
   "source": [
    "ins.program()"
   ]
  },
  {
   "cell_type": "markdown",
   "id": "525a5c2f",
   "metadata": {},
   "source": [
    "The final vector is:"
   ]
  },
  {
   "cell_type": "code",
   "execution_count": 11,
   "id": "7cd1acbe",
   "metadata": {
    "execution": {
     "iopub.execute_input": "2022-03-06T14:49:04.168607Z",
     "iopub.status.busy": "2022-03-06T14:49:04.168346Z",
     "iopub.status.idle": "2022-03-06T14:49:04.350318Z",
     "shell.execute_reply": "2022-03-06T14:49:04.349709Z"
    }
   },
   "outputs": [],
   "source": [
    "pYPKa_A_EcfabH = (pYPKa_AjiI  + ins).looped().synced(\"gttctgatcctcgagcatcttaagaattc\")"
   ]
  },
  {
   "cell_type": "markdown",
   "id": "e534b6e3",
   "metadata": {},
   "source": [
    "The vector with reverse insert is created below. This vector theoretically make up\n",
    "fifty percent of the clones. The PCR strategy below is used to identify the correct clones."
   ]
  },
  {
   "cell_type": "code",
   "execution_count": 12,
   "id": "12f4953e",
   "metadata": {
    "execution": {
     "iopub.execute_input": "2022-03-06T14:49:04.353137Z",
     "iopub.status.busy": "2022-03-06T14:49:04.352916Z",
     "iopub.status.idle": "2022-03-06T14:49:04.531663Z",
     "shell.execute_reply": "2022-03-06T14:49:04.531035Z"
    }
   },
   "outputs": [],
   "source": [
    "pYPKa_A_EcfabHb = (pYPKa_AjiI  + ins.rc()).looped().synced(\"gttctgatcctcgagcatcttaagaattc\")"
   ]
  },
  {
   "cell_type": "markdown",
   "id": "beae88b7",
   "metadata": {},
   "source": [
    "A combination of standard primers and the newly designed primers are\n",
    "used for the strategy to identify correct clones.\n",
    "Standard primers are listed [here](standard_primers.txt).\n",
    "The standard primers are read into a dictonary in the code cell below."
   ]
  },
  {
   "cell_type": "code",
   "execution_count": 13,
   "id": "3bf1fac9",
   "metadata": {
    "execution": {
     "iopub.execute_input": "2022-03-06T14:49:04.534741Z",
     "iopub.status.busy": "2022-03-06T14:49:04.534522Z",
     "iopub.status.idle": "2022-03-06T14:49:04.539390Z",
     "shell.execute_reply": "2022-03-06T14:49:04.538808Z"
    }
   },
   "outputs": [],
   "source": [
    "p = { x.id: x for x in parse_primers(\"standard_primers.txt\") }"
   ]
  },
  {
   "cell_type": "markdown",
   "id": "6126876d",
   "metadata": {},
   "source": [
    "## Diagnostic PCR confirmation of pYPKa_A_EcfabH\n",
    "The correct structure of pYPKa_A_EcfabH is confirmed by PCR using standard primers\n",
    "577 and 342 that are vector specific together with the EcfabHfw primer specific for the insert\n",
    "in a multiplex PCR reaction with three primers present in the PCR reaction.\n",
    "\n",
    "Two PCR products are expected if the insert was sucessfully cloned, sizes depending\n",
    "on the orientation of the insert.\n",
    "If the vector is empty, only one short product is formed.\n",
    "\n",
    "## Expected PCR products sizes:\n",
    "\n",
    "pYPKa_A_EcfabH with insert in correct orientation."
   ]
  },
  {
   "cell_type": "code",
   "execution_count": 14,
   "id": "41e474b5",
   "metadata": {
    "execution": {
     "iopub.execute_input": "2022-03-06T14:49:04.543373Z",
     "iopub.status.busy": "2022-03-06T14:49:04.542927Z",
     "iopub.status.idle": "2022-03-06T14:49:04.560350Z",
     "shell.execute_reply": "2022-03-06T14:49:04.559879Z"
    }
   },
   "outputs": [
    {
     "data": {
      "text/plain": [
       "[Amplicon(1890), Amplicon(1672)]"
      ]
     },
     "execution_count": 14,
     "metadata": {},
     "output_type": "execute_result"
    }
   ],
   "source": [
    "Anneal( (p['577'], p['342'], fp), pYPKa_A_EcfabH).products"
   ]
  },
  {
   "cell_type": "markdown",
   "id": "b4ec3ebf",
   "metadata": {},
   "source": [
    "pYPKa_A_EcfabH with insert in reverse orientation."
   ]
  },
  {
   "cell_type": "code",
   "execution_count": 15,
   "id": "5180bb1c",
   "metadata": {
    "execution": {
     "iopub.execute_input": "2022-03-06T14:49:04.562869Z",
     "iopub.status.busy": "2022-03-06T14:49:04.562627Z",
     "iopub.status.idle": "2022-03-06T14:49:04.574674Z",
     "shell.execute_reply": "2022-03-06T14:49:04.574006Z"
    }
   },
   "outputs": [
    {
     "data": {
      "text/plain": [
       "[Amplicon(1890), Amplicon(1174)]"
      ]
     },
     "execution_count": 15,
     "metadata": {},
     "output_type": "execute_result"
    }
   ],
   "source": [
    "Anneal( (p['577'], p['342'], fp), pYPKa_A_EcfabHb).products"
   ]
  },
  {
   "cell_type": "markdown",
   "id": "379a18a2",
   "metadata": {},
   "source": [
    "Empty clone"
   ]
  },
  {
   "cell_type": "code",
   "execution_count": 16,
   "id": "e235866f",
   "metadata": {
    "execution": {
     "iopub.execute_input": "2022-03-06T14:49:04.578016Z",
     "iopub.status.busy": "2022-03-06T14:49:04.577687Z",
     "iopub.status.idle": "2022-03-06T14:49:04.585049Z",
     "shell.execute_reply": "2022-03-06T14:49:04.584494Z"
    }
   },
   "outputs": [
    {
     "data": {
      "text/plain": [
       "[Amplicon(934)]"
      ]
     },
     "execution_count": 16,
     "metadata": {},
     "output_type": "execute_result"
    }
   ],
   "source": [
    "Anneal( (p['577'], p['342'], fp), pYPKa).products"
   ]
  },
  {
   "cell_type": "markdown",
   "id": "4efb19a5",
   "metadata": {},
   "source": [
    "The cseguid checksum for the resulting plasmid is calculated for future reference.\n",
    "The [cseguid checksum](http://pydna.readthedocs.org/en/latest/pydna.html#pydna.utils.cseguid)\n",
    "uniquely identifies a circular double stranded sequence."
   ]
  },
  {
   "cell_type": "code",
   "execution_count": 17,
   "id": "d0ff99e8",
   "metadata": {
    "execution": {
     "iopub.execute_input": "2022-03-06T14:49:04.588582Z",
     "iopub.status.busy": "2022-03-06T14:49:04.588254Z",
     "iopub.status.idle": "2022-03-06T14:49:04.597190Z",
     "shell.execute_reply": "2022-03-06T14:49:04.596503Z"
    }
   },
   "outputs": [
    {
     "data": {
      "text/plain": [
       "4Bzj-Dm4Dr7h8cugb6u5Qfj_dVI"
      ]
     },
     "execution_count": 17,
     "metadata": {},
     "output_type": "execute_result"
    }
   ],
   "source": [
    "pYPKa_A_EcfabH.cseguid()"
   ]
  },
  {
   "cell_type": "markdown",
   "id": "f4cbcfef",
   "metadata": {},
   "source": [
    "The file is given a name based on the cloned insert"
   ]
  },
  {
   "cell_type": "code",
   "execution_count": 18,
   "id": "1eee4da7",
   "metadata": {
    "execution": {
     "iopub.execute_input": "2022-03-06T14:49:04.600863Z",
     "iopub.status.busy": "2022-03-06T14:49:04.600561Z",
     "iopub.status.idle": "2022-03-06T14:49:04.604500Z",
     "shell.execute_reply": "2022-03-06T14:49:04.603710Z"
    }
   },
   "outputs": [],
   "source": [
    "pYPKa_A_EcfabH.locus = \"pYPKa_A_EcfabH\"[:16]"
   ]
  },
  {
   "cell_type": "markdown",
   "id": "e0af8208",
   "metadata": {},
   "source": [
    "Sequence is stamped with the cseguid checksum.\n",
    "This can be used to verify the integrity of the sequence file."
   ]
  },
  {
   "cell_type": "code",
   "execution_count": 19,
   "id": "7f849bcc",
   "metadata": {
    "execution": {
     "iopub.execute_input": "2022-03-06T14:49:04.608281Z",
     "iopub.status.busy": "2022-03-06T14:49:04.607961Z",
     "iopub.status.idle": "2022-03-06T14:49:04.618333Z",
     "shell.execute_reply": "2022-03-06T14:49:04.617524Z"
    }
   },
   "outputs": [
    {
     "data": {
      "text/plain": [
       "cSEGUID_4Bzj-Dm4Dr7h8cugb6u5Qfj_dVI"
      ]
     },
     "execution_count": 19,
     "metadata": {},
     "output_type": "execute_result"
    }
   ],
   "source": [
    "pYPKa_A_EcfabH.stamp()"
   ]
  },
  {
   "cell_type": "markdown",
   "id": "b0381ee2",
   "metadata": {},
   "source": [
    "The sequence is written to a local file."
   ]
  },
  {
   "cell_type": "code",
   "execution_count": 20,
   "id": "6570e8a5",
   "metadata": {
    "execution": {
     "iopub.execute_input": "2022-03-06T14:49:04.621510Z",
     "iopub.status.busy": "2022-03-06T14:49:04.621283Z",
     "iopub.status.idle": "2022-03-06T14:49:04.626514Z",
     "shell.execute_reply": "2022-03-06T14:49:04.625888Z"
    }
   },
   "outputs": [
    {
     "data": {
      "text/html": [
       "<font face=monospace><a href='pYPKa_A_EcfabH.gb' target='_blank'>pYPKa_A_EcfabH.gb</a></font><br>"
      ]
     },
     "metadata": {},
     "output_type": "display_data"
    }
   ],
   "source": [
    "pYPKa_A_EcfabH.write(\"pYPKa_A_EcfabH.gb\")"
   ]
  }
 ],
 "metadata": {
  "language_info": {
   "codemirror_mode": {
    "name": "ipython",
    "version": 3
   },
   "file_extension": ".py",
   "mimetype": "text/x-python",
   "name": "python",
   "nbconvert_exporter": "python",
   "pygments_lexer": "ipython3",
   "version": "3.9.7"
  }
 },
 "nbformat": 4,
 "nbformat_minor": 5
}
