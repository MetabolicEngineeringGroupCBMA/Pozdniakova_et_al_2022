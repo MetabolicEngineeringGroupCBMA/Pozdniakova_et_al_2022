{
 "cells": [
  {
   "cell_type": "markdown",
   "id": "fe93bcc7",
   "metadata": {},
   "source": [
    "# Construction of pYPKa_A_EcacpP\n",
    "\n",
    "This notebook describe the construction of the _E. coli_ vector [pYPKa_A_EcacpP](pYPKa_A_EcacpP.gb).\n",
    "\n",
    "![pYPKa_A plasmid](pYPK_A.png \"pYPKa_A plasmid\")\n",
    "\n",
    "A part of the [pydna](https://pypi.python.org/pypi/pydna/) package is imported in the code cell below."
   ]
  },
  {
   "cell_type": "code",
   "execution_count": 1,
   "id": "41f57652",
   "metadata": {
    "execution": {
     "iopub.execute_input": "2022-03-06T14:48:37.289967Z",
     "iopub.status.busy": "2022-03-06T14:48:37.289318Z",
     "iopub.status.idle": "2022-03-06T14:48:37.613847Z",
     "shell.execute_reply": "2022-03-06T14:48:37.613142Z"
    }
   },
   "outputs": [],
   "source": [
    "from pydna.readers import read\n",
    "from pydna.genbank import Genbank\n",
    "from pydna.parsers import parse_primers\n",
    "from pydna.amplify import pcr\n",
    "from pydna.amplify import Anneal"
   ]
  },
  {
   "cell_type": "markdown",
   "id": "9f9a7e38",
   "metadata": {},
   "source": [
    "The vector backbone [pYPKa](pYPKa.gb) is read from a local file."
   ]
  },
  {
   "cell_type": "code",
   "execution_count": 2,
   "id": "a71344f5",
   "metadata": {
    "execution": {
     "iopub.execute_input": "2022-03-06T14:48:37.616435Z",
     "iopub.status.busy": "2022-03-06T14:48:37.616175Z",
     "iopub.status.idle": "2022-03-06T14:48:37.633776Z",
     "shell.execute_reply": "2022-03-06T14:48:37.633031Z"
    }
   },
   "outputs": [],
   "source": [
    "pYPKa = read(\"pYPKa.gb\")"
   ]
  },
  {
   "cell_type": "markdown",
   "id": "b72d49a3",
   "metadata": {},
   "source": [
    "The restriction enzyme [AjiI](http://rebase.neb.com/rebase/enz/AjiI.html) is imported from [Biopython](http://biopython.org)"
   ]
  },
  {
   "cell_type": "code",
   "execution_count": 3,
   "id": "920c2863",
   "metadata": {
    "execution": {
     "iopub.execute_input": "2022-03-06T14:48:37.636849Z",
     "iopub.status.busy": "2022-03-06T14:48:37.636521Z",
     "iopub.status.idle": "2022-03-06T14:48:37.641120Z",
     "shell.execute_reply": "2022-03-06T14:48:37.640578Z"
    }
   },
   "outputs": [],
   "source": [
    "from Bio.Restriction import AjiI"
   ]
  },
  {
   "cell_type": "markdown",
   "id": "807f40b1",
   "metadata": {},
   "source": [
    "The plasmid is linearized with the enzyme."
   ]
  },
  {
   "cell_type": "code",
   "execution_count": 4,
   "id": "1acd7be0",
   "metadata": {
    "execution": {
     "iopub.execute_input": "2022-03-06T14:48:37.643735Z",
     "iopub.status.busy": "2022-03-06T14:48:37.643507Z",
     "iopub.status.idle": "2022-03-06T14:48:37.648676Z",
     "shell.execute_reply": "2022-03-06T14:48:37.647955Z"
    }
   },
   "outputs": [],
   "source": [
    "pYPKa_AjiI  = pYPKa.linearize(AjiI)"
   ]
  },
  {
   "cell_type": "markdown",
   "id": "16b9e9b6",
   "metadata": {},
   "source": [
    "Access to [Genbank](http://www.ncbi.nlm.nih.gov/nuccore) is needed in order to download the template.\n",
    "If the email address below is not yours, change it before executing this script as you must always give NCBI a way to contact you when using their service."
   ]
  },
  {
   "cell_type": "code",
   "execution_count": 5,
   "id": "8c03a3d8",
   "metadata": {
    "execution": {
     "iopub.execute_input": "2022-03-06T14:48:37.652017Z",
     "iopub.status.busy": "2022-03-06T14:48:37.651777Z",
     "iopub.status.idle": "2022-03-06T14:48:37.655459Z",
     "shell.execute_reply": "2022-03-06T14:48:37.654917Z"
    }
   },
   "outputs": [],
   "source": [
    "gb = Genbank(\"bjornjobb@gmail.com\")"
   ]
  },
  {
   "cell_type": "markdown",
   "id": "78adccec",
   "metadata": {},
   "source": [
    "The template is downloaded from Genbank below."
   ]
  },
  {
   "cell_type": "code",
   "execution_count": 6,
   "id": "15c9f9c8",
   "metadata": {
    "execution": {
     "iopub.execute_input": "2022-03-06T14:48:37.658725Z",
     "iopub.status.busy": "2022-03-06T14:48:37.658491Z",
     "iopub.status.idle": "2022-03-06T14:48:39.266022Z",
     "shell.execute_reply": "2022-03-06T14:48:39.265486Z"
    }
   },
   "outputs": [
    {
     "data": {
      "text/html": [
       "<a href='https://www.ncbi.nlm.nih.gov/nuccore/ NC_000913 ?from=1151615&to=1151851&strand=1' target='_blank'> NC_000913  1151615-1151851</a>"
      ],
      "text/plain": [
       "Gbank( NC_000913  1151615-1151851)(-237)"
      ]
     },
     "execution_count": 6,
     "metadata": {},
     "output_type": "execute_result"
    }
   ],
   "source": [
    "template  = gb.nucleotide(\" NC_000913 REGION: 1151615..1151851\")\n",
    "template"
   ]
  },
  {
   "cell_type": "markdown",
   "id": "f61b8a63",
   "metadata": {},
   "source": [
    "The two primers below are used to amplify the insert."
   ]
  },
  {
   "cell_type": "code",
   "execution_count": 7,
   "id": "af9f9b82",
   "metadata": {
    "execution": {
     "iopub.execute_input": "2022-03-06T14:48:39.268450Z",
     "iopub.status.busy": "2022-03-06T14:48:39.268266Z",
     "iopub.status.idle": "2022-03-06T14:48:39.271673Z",
     "shell.execute_reply": "2022-03-06T14:48:39.271138Z"
    }
   },
   "outputs": [],
   "source": [
    "fp,rp =  parse_primers(\"\"\">726_EcacpP_fw\n",
    "                          aaATGAGCACTATCGAAGAAC\n",
    "                          >727_EcacpP_rv\n",
    "                          TTACGCCTGGTGGCCG\"\"\")"
   ]
  },
  {
   "cell_type": "markdown",
   "id": "dafb8554",
   "metadata": {},
   "source": [
    "The gene is amplifed using the primers specified above."
   ]
  },
  {
   "cell_type": "code",
   "execution_count": 8,
   "id": "16e30c9b",
   "metadata": {
    "execution": {
     "iopub.execute_input": "2022-03-06T14:48:39.274940Z",
     "iopub.status.busy": "2022-03-06T14:48:39.274587Z",
     "iopub.status.idle": "2022-03-06T14:48:39.285589Z",
     "shell.execute_reply": "2022-03-06T14:48:39.284688Z"
    }
   },
   "outputs": [],
   "source": [
    "ins = pcr(fp, rp, template)"
   ]
  },
  {
   "cell_type": "markdown",
   "id": "b3559cba",
   "metadata": {},
   "source": [
    "The primers anneal on the template like this."
   ]
  },
  {
   "cell_type": "code",
   "execution_count": 9,
   "id": "aac1c66d",
   "metadata": {
    "execution": {
     "iopub.execute_input": "2022-03-06T14:48:39.289499Z",
     "iopub.status.busy": "2022-03-06T14:48:39.289206Z",
     "iopub.status.idle": "2022-03-06T14:48:39.294401Z",
     "shell.execute_reply": "2022-03-06T14:48:39.293751Z"
    }
   },
   "outputs": [
    {
     "data": {
      "text/plain": [
       "  5ATGAGCACTATCGAAGAAC...CGGCCACCAGGCGTAA3\n",
       "                         ||||||||||||||||\n",
       "                        3GCCGGTGGTCCGCATT5\n",
       "5aaATGAGCACTATCGAAGAAC3\n",
       "   |||||||||||||||||||\n",
       "  3TACTCGTGATAGCTTCTTG...GCCGGTGGTCCGCATT5"
      ]
     },
     "execution_count": 9,
     "metadata": {},
     "output_type": "execute_result"
    }
   ],
   "source": [
    "ins.figure()"
   ]
  },
  {
   "cell_type": "markdown",
   "id": "c0bed073",
   "metadata": {},
   "source": [
    "A suggested PCR program."
   ]
  },
  {
   "cell_type": "code",
   "execution_count": 10,
   "id": "c9fc6b8d",
   "metadata": {
    "execution": {
     "iopub.execute_input": "2022-03-06T14:48:39.297520Z",
     "iopub.status.busy": "2022-03-06T14:48:39.297299Z",
     "iopub.status.idle": "2022-03-06T14:48:39.303177Z",
     "shell.execute_reply": "2022-03-06T14:48:39.302187Z"
    }
   },
   "outputs": [
    {
     "data": {
      "text/plain": [
       "|95°C|95°C               |    |tmf:55.3\n",
       "|____|_____          72°C|72°C|tmr:67.7\n",
       "|3min|30s  \\ 55.3°C _____|____|45s/kb\n",
       "|    |      \\______/ 0:30|5min|GC 47%\n",
       "|    |       30s         |    |239bp"
      ]
     },
     "execution_count": 10,
     "metadata": {},
     "output_type": "execute_result"
    }
   ],
   "source": [
    "ins.program()"
   ]
  },
  {
   "cell_type": "markdown",
   "id": "c6d64f39",
   "metadata": {},
   "source": [
    "The final vector is:"
   ]
  },
  {
   "cell_type": "code",
   "execution_count": 11,
   "id": "8e06e1c6",
   "metadata": {
    "execution": {
     "iopub.execute_input": "2022-03-06T14:48:39.307813Z",
     "iopub.status.busy": "2022-03-06T14:48:39.307004Z",
     "iopub.status.idle": "2022-03-06T14:48:39.458076Z",
     "shell.execute_reply": "2022-03-06T14:48:39.457455Z"
    }
   },
   "outputs": [],
   "source": [
    "pYPKa_A_EcacpP = (pYPKa_AjiI  + ins).looped().synced(\"gttctgatcctcgagcatcttaagaattc\")"
   ]
  },
  {
   "cell_type": "markdown",
   "id": "f8dae929",
   "metadata": {},
   "source": [
    "The vector with reverse insert is created below. This vector theoretically make up\n",
    "fifty percent of the clones. The PCR strategy below is used to identify the correct clones."
   ]
  },
  {
   "cell_type": "code",
   "execution_count": 12,
   "id": "de76bc0a",
   "metadata": {
    "execution": {
     "iopub.execute_input": "2022-03-06T14:48:39.460829Z",
     "iopub.status.busy": "2022-03-06T14:48:39.460642Z",
     "iopub.status.idle": "2022-03-06T14:48:39.613818Z",
     "shell.execute_reply": "2022-03-06T14:48:39.613198Z"
    }
   },
   "outputs": [],
   "source": [
    "pYPKa_A_EcacpPb = (pYPKa_AjiI  + ins.rc()).looped().synced(\"gttctgatcctcgagcatcttaagaattc\")"
   ]
  },
  {
   "cell_type": "markdown",
   "id": "f7015848",
   "metadata": {},
   "source": [
    "A combination of standard primers and the newly designed primers are\n",
    "used for the strategy to identify correct clones.\n",
    "Standard primers are listed [here](standard_primers.txt).\n",
    "The standard primers are read into a dictonary in the code cell below."
   ]
  },
  {
   "cell_type": "code",
   "execution_count": 13,
   "id": "72ef1b80",
   "metadata": {
    "execution": {
     "iopub.execute_input": "2022-03-06T14:48:39.616570Z",
     "iopub.status.busy": "2022-03-06T14:48:39.616382Z",
     "iopub.status.idle": "2022-03-06T14:48:39.620489Z",
     "shell.execute_reply": "2022-03-06T14:48:39.619930Z"
    }
   },
   "outputs": [],
   "source": [
    "p = { x.id: x for x in parse_primers(\"standard_primers.txt\") }"
   ]
  },
  {
   "cell_type": "markdown",
   "id": "23d0c24b",
   "metadata": {},
   "source": [
    "## Diagnostic PCR confirmation of pYPKa_A_EcacpP\n",
    "The correct structure of pYPKa_A_EcacpP is confirmed by PCR using standard primers\n",
    "577 and 342 that are vector specific together with the EcacpPfw primer specific for the insert\n",
    "in a multiplex PCR reaction with three primers present in the PCR reaction.\n",
    "\n",
    "Two PCR products are expected if the insert was sucessfully cloned, sizes depending\n",
    "on the orientation of the insert.\n",
    "If the vector is empty, only one short product is formed.\n",
    "\n",
    "## Expected PCR products sizes:\n",
    "\n",
    "pYPKa_A_EcacpP with insert in correct orientation."
   ]
  },
  {
   "cell_type": "code",
   "execution_count": 14,
   "id": "041cb527",
   "metadata": {
    "execution": {
     "iopub.execute_input": "2022-03-06T14:48:39.624595Z",
     "iopub.status.busy": "2022-03-06T14:48:39.624217Z",
     "iopub.status.idle": "2022-03-06T14:48:39.638989Z",
     "shell.execute_reply": "2022-03-06T14:48:39.638481Z"
    }
   },
   "outputs": [
    {
     "data": {
      "text/plain": [
       "[Amplicon(1173), Amplicon(955)]"
      ]
     },
     "execution_count": 14,
     "metadata": {},
     "output_type": "execute_result"
    }
   ],
   "source": [
    "Anneal( (p['577'], p['342'], fp), pYPKa_A_EcacpP).products"
   ]
  },
  {
   "cell_type": "markdown",
   "id": "e95f455c",
   "metadata": {},
   "source": [
    "pYPKa_A_EcacpP with insert in reverse orientation."
   ]
  },
  {
   "cell_type": "code",
   "execution_count": 15,
   "id": "7b3318df",
   "metadata": {
    "execution": {
     "iopub.execute_input": "2022-03-06T14:48:39.641574Z",
     "iopub.status.busy": "2022-03-06T14:48:39.641301Z",
     "iopub.status.idle": "2022-03-06T14:48:39.653892Z",
     "shell.execute_reply": "2022-03-06T14:48:39.653276Z"
    }
   },
   "outputs": [
    {
     "data": {
      "text/plain": [
       "[Amplicon(1173), Amplicon(457)]"
      ]
     },
     "execution_count": 15,
     "metadata": {},
     "output_type": "execute_result"
    }
   ],
   "source": [
    "Anneal( (p['577'], p['342'], fp), pYPKa_A_EcacpPb).products"
   ]
  },
  {
   "cell_type": "markdown",
   "id": "36914b18",
   "metadata": {},
   "source": [
    "Empty clone"
   ]
  },
  {
   "cell_type": "code",
   "execution_count": 16,
   "id": "0dd17619",
   "metadata": {
    "execution": {
     "iopub.execute_input": "2022-03-06T14:48:39.656327Z",
     "iopub.status.busy": "2022-03-06T14:48:39.656124Z",
     "iopub.status.idle": "2022-03-06T14:48:39.664910Z",
     "shell.execute_reply": "2022-03-06T14:48:39.664153Z"
    }
   },
   "outputs": [
    {
     "data": {
      "text/plain": [
       "[Amplicon(934)]"
      ]
     },
     "execution_count": 16,
     "metadata": {},
     "output_type": "execute_result"
    }
   ],
   "source": [
    "Anneal( (p['577'], p['342'], fp), pYPKa).products"
   ]
  },
  {
   "cell_type": "markdown",
   "id": "bc7a60d8",
   "metadata": {},
   "source": [
    "The cseguid checksum for the resulting plasmid is calculated for future reference.\n",
    "The [cseguid checksum](http://pydna.readthedocs.org/en/latest/pydna.html#pydna.utils.cseguid)\n",
    "uniquely identifies a circular double stranded sequence."
   ]
  },
  {
   "cell_type": "code",
   "execution_count": 17,
   "id": "c3d45f2f",
   "metadata": {
    "execution": {
     "iopub.execute_input": "2022-03-06T14:48:39.667930Z",
     "iopub.status.busy": "2022-03-06T14:48:39.667664Z",
     "iopub.status.idle": "2022-03-06T14:48:39.675642Z",
     "shell.execute_reply": "2022-03-06T14:48:39.674947Z"
    }
   },
   "outputs": [
    {
     "data": {
      "text/plain": [
       "Brjs5_T3QU0J4muKwecK0Vlgcxs"
      ]
     },
     "execution_count": 17,
     "metadata": {},
     "output_type": "execute_result"
    }
   ],
   "source": [
    "pYPKa_A_EcacpP.cseguid()"
   ]
  },
  {
   "cell_type": "markdown",
   "id": "eddcaf4e",
   "metadata": {},
   "source": [
    "The file is given a name based on the cloned insert"
   ]
  },
  {
   "cell_type": "code",
   "execution_count": 18,
   "id": "c4993bd5",
   "metadata": {
    "execution": {
     "iopub.execute_input": "2022-03-06T14:48:39.678381Z",
     "iopub.status.busy": "2022-03-06T14:48:39.678133Z",
     "iopub.status.idle": "2022-03-06T14:48:39.681247Z",
     "shell.execute_reply": "2022-03-06T14:48:39.680633Z"
    }
   },
   "outputs": [],
   "source": [
    "pYPKa_A_EcacpP.locus = \"pYPKa_A_EcacpP\"[:16]"
   ]
  },
  {
   "cell_type": "markdown",
   "id": "d8d43152",
   "metadata": {},
   "source": [
    "Sequence is stamped with the cseguid checksum.\n",
    "This can be used to verify the integrity of the sequence file."
   ]
  },
  {
   "cell_type": "code",
   "execution_count": 19,
   "id": "321a0eb6",
   "metadata": {
    "execution": {
     "iopub.execute_input": "2022-03-06T14:48:39.683931Z",
     "iopub.status.busy": "2022-03-06T14:48:39.683691Z",
     "iopub.status.idle": "2022-03-06T14:48:39.693070Z",
     "shell.execute_reply": "2022-03-06T14:48:39.692188Z"
    }
   },
   "outputs": [
    {
     "data": {
      "text/plain": [
       "cSEGUID_Brjs5_T3QU0J4muKwecK0Vlgcxs"
      ]
     },
     "execution_count": 19,
     "metadata": {},
     "output_type": "execute_result"
    }
   ],
   "source": [
    "pYPKa_A_EcacpP.stamp()"
   ]
  },
  {
   "cell_type": "markdown",
   "id": "c070cced",
   "metadata": {},
   "source": [
    "The sequence is written to a local file."
   ]
  },
  {
   "cell_type": "code",
   "execution_count": 20,
   "id": "3574e733",
   "metadata": {
    "execution": {
     "iopub.execute_input": "2022-03-06T14:48:39.696239Z",
     "iopub.status.busy": "2022-03-06T14:48:39.696014Z",
     "iopub.status.idle": "2022-03-06T14:48:39.701950Z",
     "shell.execute_reply": "2022-03-06T14:48:39.701270Z"
    }
   },
   "outputs": [
    {
     "data": {
      "text/html": [
       "<font face=monospace><a href='pYPKa_A_EcacpP.gb' target='_blank'>pYPKa_A_EcacpP.gb</a></font><br>"
      ]
     },
     "metadata": {},
     "output_type": "display_data"
    }
   ],
   "source": [
    "pYPKa_A_EcacpP.write(\"pYPKa_A_EcacpP.gb\")"
   ]
  }
 ],
 "metadata": {
  "language_info": {
   "codemirror_mode": {
    "name": "ipython",
    "version": 3
   },
   "file_extension": ".py",
   "mimetype": "text/x-python",
   "name": "python",
   "nbconvert_exporter": "python",
   "pygments_lexer": "ipython3",
   "version": "3.9.7"
  }
 },
 "nbformat": 4,
 "nbformat_minor": 5
}
