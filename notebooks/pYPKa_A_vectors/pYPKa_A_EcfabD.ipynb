{
 "cells": [
  {
   "cell_type": "markdown",
   "id": "1f0187ad",
   "metadata": {},
   "source": [
    "# Construction of pYPKa_A_EcfabD\n",
    "\n",
    "This notebook describe the construction of the _E. coli_ vector [pYPKa_A_EcfabD](pYPKa_A_EcfabD.gb).\n",
    "\n",
    "![pYPKa_A plasmid](pYPK_A.png \"pYPKa_A plasmid\")\n",
    "\n",
    "A part of the [pydna](https://pypi.python.org/pypi/pydna/) package is imported in the code cell below."
   ]
  },
  {
   "cell_type": "code",
   "execution_count": 1,
   "id": "33cb50e5",
   "metadata": {
    "execution": {
     "iopub.execute_input": "2022-03-06T14:48:51.461875Z",
     "iopub.status.busy": "2022-03-06T14:48:51.461437Z",
     "iopub.status.idle": "2022-03-06T14:48:51.771483Z",
     "shell.execute_reply": "2022-03-06T14:48:51.770873Z"
    }
   },
   "outputs": [],
   "source": [
    "from pydna.readers import read\n",
    "from pydna.genbank import Genbank\n",
    "from pydna.parsers import parse_primers\n",
    "from pydna.amplify import pcr\n",
    "from pydna.amplify import Anneal"
   ]
  },
  {
   "cell_type": "markdown",
   "id": "27d4105d",
   "metadata": {},
   "source": [
    "The vector backbone [pYPKa](pYPKa.gb) is read from a local file."
   ]
  },
  {
   "cell_type": "code",
   "execution_count": 2,
   "id": "9b5d7274",
   "metadata": {
    "execution": {
     "iopub.execute_input": "2022-03-06T14:48:51.774299Z",
     "iopub.status.busy": "2022-03-06T14:48:51.774121Z",
     "iopub.status.idle": "2022-03-06T14:48:51.789845Z",
     "shell.execute_reply": "2022-03-06T14:48:51.789287Z"
    }
   },
   "outputs": [],
   "source": [
    "pYPKa = read(\"pYPKa.gb\")"
   ]
  },
  {
   "cell_type": "markdown",
   "id": "9fdc3302",
   "metadata": {},
   "source": [
    "The restriction enzyme [AjiI](http://rebase.neb.com/rebase/enz/AjiI.html) is imported from [Biopython](http://biopython.org)"
   ]
  },
  {
   "cell_type": "code",
   "execution_count": 3,
   "id": "36b4b94a",
   "metadata": {
    "execution": {
     "iopub.execute_input": "2022-03-06T14:48:51.792518Z",
     "iopub.status.busy": "2022-03-06T14:48:51.792263Z",
     "iopub.status.idle": "2022-03-06T14:48:51.795423Z",
     "shell.execute_reply": "2022-03-06T14:48:51.794819Z"
    }
   },
   "outputs": [],
   "source": [
    "from Bio.Restriction import AjiI"
   ]
  },
  {
   "cell_type": "markdown",
   "id": "6e4b58dd",
   "metadata": {},
   "source": [
    "The plasmid is linearized with the enzyme."
   ]
  },
  {
   "cell_type": "code",
   "execution_count": 4,
   "id": "c8ec7f1c",
   "metadata": {
    "execution": {
     "iopub.execute_input": "2022-03-06T14:48:51.797659Z",
     "iopub.status.busy": "2022-03-06T14:48:51.797443Z",
     "iopub.status.idle": "2022-03-06T14:48:51.802465Z",
     "shell.execute_reply": "2022-03-06T14:48:51.801662Z"
    }
   },
   "outputs": [],
   "source": [
    "pYPKa_AjiI  = pYPKa.linearize(AjiI)"
   ]
  },
  {
   "cell_type": "markdown",
   "id": "6beb2cac",
   "metadata": {},
   "source": [
    "Access to [Genbank](http://www.ncbi.nlm.nih.gov/nuccore) is needed in order to download the template.\n",
    "If the email address below is not yours, change it before executing this script as you must always give NCBI a way to contact you when using their service."
   ]
  },
  {
   "cell_type": "code",
   "execution_count": 5,
   "id": "6c15d4ee",
   "metadata": {
    "execution": {
     "iopub.execute_input": "2022-03-06T14:48:51.805803Z",
     "iopub.status.busy": "2022-03-06T14:48:51.805510Z",
     "iopub.status.idle": "2022-03-06T14:48:51.810084Z",
     "shell.execute_reply": "2022-03-06T14:48:51.809285Z"
    }
   },
   "outputs": [],
   "source": [
    "gb = Genbank(\"bjornjobb@gmail.com\")"
   ]
  },
  {
   "cell_type": "markdown",
   "id": "28f0162c",
   "metadata": {},
   "source": [
    "The template is downloaded from Genbank below."
   ]
  },
  {
   "cell_type": "code",
   "execution_count": 6,
   "id": "ee40181a",
   "metadata": {
    "execution": {
     "iopub.execute_input": "2022-03-06T14:48:51.813465Z",
     "iopub.status.busy": "2022-03-06T14:48:51.813231Z",
     "iopub.status.idle": "2022-03-06T14:48:53.353249Z",
     "shell.execute_reply": "2022-03-06T14:48:53.352724Z"
    }
   },
   "outputs": [
    {
     "data": {
      "text/html": [
       "<a href='https://www.ncbi.nlm.nih.gov/nuccore/ NC_000913 ?from=1149728&to=1150657&strand=1' target='_blank'> NC_000913  1149728-1150657</a>"
      ],
      "text/plain": [
       "Gbank( NC_000913  1149728-1150657)(-930)"
      ]
     },
     "execution_count": 6,
     "metadata": {},
     "output_type": "execute_result"
    }
   ],
   "source": [
    "template  = gb.nucleotide(\" NC_000913 REGION: 1149728..1150657\")\n",
    "template"
   ]
  },
  {
   "cell_type": "markdown",
   "id": "27932aaa",
   "metadata": {},
   "source": [
    "The two primers below are used to amplify the insert."
   ]
  },
  {
   "cell_type": "code",
   "execution_count": 7,
   "id": "674709a8",
   "metadata": {
    "execution": {
     "iopub.execute_input": "2022-03-06T14:48:53.355633Z",
     "iopub.status.busy": "2022-03-06T14:48:53.355419Z",
     "iopub.status.idle": "2022-03-06T14:48:53.358828Z",
     "shell.execute_reply": "2022-03-06T14:48:53.358339Z"
    }
   },
   "outputs": [],
   "source": [
    "fp,rp =  parse_primers(\"\"\">706_EcfabD_fw\n",
    "                          aaATGACGCAATTTGCATT\n",
    "                          >707_EcfabD_rv\n",
    "                          TTAAAGCTCGAGCGCC\"\"\")"
   ]
  },
  {
   "cell_type": "markdown",
   "id": "898bc6e4",
   "metadata": {},
   "source": [
    "The gene is amplifed using the primers specified above."
   ]
  },
  {
   "cell_type": "code",
   "execution_count": 8,
   "id": "77268b5f",
   "metadata": {
    "execution": {
     "iopub.execute_input": "2022-03-06T14:48:53.361426Z",
     "iopub.status.busy": "2022-03-06T14:48:53.361213Z",
     "iopub.status.idle": "2022-03-06T14:48:53.372392Z",
     "shell.execute_reply": "2022-03-06T14:48:53.371862Z"
    }
   },
   "outputs": [],
   "source": [
    "ins = pcr(fp, rp, template)"
   ]
  },
  {
   "cell_type": "markdown",
   "id": "858e3b45",
   "metadata": {},
   "source": [
    "The primers anneal on the template like this."
   ]
  },
  {
   "cell_type": "code",
   "execution_count": 9,
   "id": "a59d8ad2",
   "metadata": {
    "execution": {
     "iopub.execute_input": "2022-03-06T14:48:53.374963Z",
     "iopub.status.busy": "2022-03-06T14:48:53.374753Z",
     "iopub.status.idle": "2022-03-06T14:48:53.378887Z",
     "shell.execute_reply": "2022-03-06T14:48:53.378188Z"
    }
   },
   "outputs": [
    {
     "data": {
      "text/plain": [
       "  5ATGACGCAATTTGCATT...GGCGCTCGAGCTTTAA3\n",
       "                       ||||||||||||||||\n",
       "                      3CCGCGAGCTCGAAATT5\n",
       "5aaATGACGCAATTTGCATT3\n",
       "   |||||||||||||||||\n",
       "  3TACTGCGTTAAACGTAA...CCGCGAGCTCGAAATT5"
      ]
     },
     "execution_count": 9,
     "metadata": {},
     "output_type": "execute_result"
    }
   ],
   "source": [
    "ins.figure()"
   ]
  },
  {
   "cell_type": "markdown",
   "id": "ab6be4c5",
   "metadata": {},
   "source": [
    "A suggested PCR program."
   ]
  },
  {
   "cell_type": "code",
   "execution_count": 10,
   "id": "838a9167",
   "metadata": {
    "execution": {
     "iopub.execute_input": "2022-03-06T14:48:53.381314Z",
     "iopub.status.busy": "2022-03-06T14:48:53.381085Z",
     "iopub.status.idle": "2022-03-06T14:48:53.386188Z",
     "shell.execute_reply": "2022-03-06T14:48:53.385480Z"
    }
   },
   "outputs": [
    {
     "data": {
      "text/plain": [
       "|95°C|95°C               |    |tmf:52.6\n",
       "|____|_____          72°C|72°C|tmr:59.2\n",
       "|3min|30s  \\ 58.1°C _____|____|45s/kb\n",
       "|    |      \\______/ 0:41|5min|GC 55%\n",
       "|    |       30s         |    |932bp"
      ]
     },
     "execution_count": 10,
     "metadata": {},
     "output_type": "execute_result"
    }
   ],
   "source": [
    "ins.program()"
   ]
  },
  {
   "cell_type": "markdown",
   "id": "284bcf81",
   "metadata": {},
   "source": [
    "The final vector is:"
   ]
  },
  {
   "cell_type": "code",
   "execution_count": 11,
   "id": "4da1680f",
   "metadata": {
    "execution": {
     "iopub.execute_input": "2022-03-06T14:48:53.389046Z",
     "iopub.status.busy": "2022-03-06T14:48:53.388786Z",
     "iopub.status.idle": "2022-03-06T14:48:53.569982Z",
     "shell.execute_reply": "2022-03-06T14:48:53.569360Z"
    }
   },
   "outputs": [],
   "source": [
    "pYPKa_A_EcfabD = (pYPKa_AjiI  + ins).looped().synced(\"gttctgatcctcgagcatcttaagaattc\")"
   ]
  },
  {
   "cell_type": "markdown",
   "id": "be532358",
   "metadata": {},
   "source": [
    "The vector with reverse insert is created below. This vector theoretically make up\n",
    "fifty percent of the clones. The PCR strategy below is used to identify the correct clones."
   ]
  },
  {
   "cell_type": "code",
   "execution_count": 12,
   "id": "1a542b31",
   "metadata": {
    "execution": {
     "iopub.execute_input": "2022-03-06T14:48:53.572664Z",
     "iopub.status.busy": "2022-03-06T14:48:53.572414Z",
     "iopub.status.idle": "2022-03-06T14:48:53.748715Z",
     "shell.execute_reply": "2022-03-06T14:48:53.748124Z"
    }
   },
   "outputs": [],
   "source": [
    "pYPKa_A_EcfabDb = (pYPKa_AjiI  + ins.rc()).looped().synced(\"gttctgatcctcgagcatcttaagaattc\")"
   ]
  },
  {
   "cell_type": "markdown",
   "id": "87c57489",
   "metadata": {},
   "source": [
    "A combination of standard primers and the newly designed primers are\n",
    "used for the strategy to identify correct clones.\n",
    "Standard primers are listed [here](standard_primers.txt).\n",
    "The standard primers are read into a dictonary in the code cell below."
   ]
  },
  {
   "cell_type": "code",
   "execution_count": 13,
   "id": "42b62de2",
   "metadata": {
    "execution": {
     "iopub.execute_input": "2022-03-06T14:48:53.751418Z",
     "iopub.status.busy": "2022-03-06T14:48:53.751204Z",
     "iopub.status.idle": "2022-03-06T14:48:53.755082Z",
     "shell.execute_reply": "2022-03-06T14:48:53.754544Z"
    }
   },
   "outputs": [],
   "source": [
    "p = { x.id: x for x in parse_primers(\"standard_primers.txt\") }"
   ]
  },
  {
   "cell_type": "markdown",
   "id": "03533894",
   "metadata": {},
   "source": [
    "## Diagnostic PCR confirmation of pYPKa_A_EcfabD\n",
    "The correct structure of pYPKa_A_EcfabD is confirmed by PCR using standard primers\n",
    "577 and 342 that are vector specific together with the EcfabDfw primer specific for the insert\n",
    "in a multiplex PCR reaction with three primers present in the PCR reaction.\n",
    "\n",
    "Two PCR products are expected if the insert was sucessfully cloned, sizes depending\n",
    "on the orientation of the insert.\n",
    "If the vector is empty, only one short product is formed.\n",
    "\n",
    "## Expected PCR products sizes:\n",
    "\n",
    "pYPKa_A_EcfabD with insert in correct orientation."
   ]
  },
  {
   "cell_type": "code",
   "execution_count": 14,
   "id": "72872fb8",
   "metadata": {
    "execution": {
     "iopub.execute_input": "2022-03-06T14:48:53.757679Z",
     "iopub.status.busy": "2022-03-06T14:48:53.757346Z",
     "iopub.status.idle": "2022-03-06T14:48:53.772001Z",
     "shell.execute_reply": "2022-03-06T14:48:53.771457Z"
    }
   },
   "outputs": [
    {
     "data": {
      "text/plain": [
       "[Amplicon(1866), Amplicon(1648)]"
      ]
     },
     "execution_count": 14,
     "metadata": {},
     "output_type": "execute_result"
    }
   ],
   "source": [
    "Anneal( (p['577'], p['342'], fp), pYPKa_A_EcfabD).products"
   ]
  },
  {
   "cell_type": "markdown",
   "id": "a60c5f24",
   "metadata": {},
   "source": [
    "pYPKa_A_EcfabD with insert in reverse orientation."
   ]
  },
  {
   "cell_type": "code",
   "execution_count": 15,
   "id": "93a04601",
   "metadata": {
    "execution": {
     "iopub.execute_input": "2022-03-06T14:48:53.774381Z",
     "iopub.status.busy": "2022-03-06T14:48:53.774138Z",
     "iopub.status.idle": "2022-03-06T14:48:53.787445Z",
     "shell.execute_reply": "2022-03-06T14:48:53.786891Z"
    }
   },
   "outputs": [
    {
     "data": {
      "text/plain": [
       "[Amplicon(1866), Amplicon(1150)]"
      ]
     },
     "execution_count": 15,
     "metadata": {},
     "output_type": "execute_result"
    }
   ],
   "source": [
    "Anneal( (p['577'], p['342'], fp), pYPKa_A_EcfabDb).products"
   ]
  },
  {
   "cell_type": "markdown",
   "id": "44af2fb6",
   "metadata": {},
   "source": [
    "Empty clone"
   ]
  },
  {
   "cell_type": "code",
   "execution_count": 16,
   "id": "aaf009c8",
   "metadata": {
    "execution": {
     "iopub.execute_input": "2022-03-06T14:48:53.789784Z",
     "iopub.status.busy": "2022-03-06T14:48:53.789558Z",
     "iopub.status.idle": "2022-03-06T14:48:53.797884Z",
     "shell.execute_reply": "2022-03-06T14:48:53.797135Z"
    }
   },
   "outputs": [
    {
     "data": {
      "text/plain": [
       "[Amplicon(934)]"
      ]
     },
     "execution_count": 16,
     "metadata": {},
     "output_type": "execute_result"
    }
   ],
   "source": [
    "Anneal( (p['577'], p['342'], fp), pYPKa).products"
   ]
  },
  {
   "cell_type": "markdown",
   "id": "9f5341ef",
   "metadata": {},
   "source": [
    "The cseguid checksum for the resulting plasmid is calculated for future reference.\n",
    "The [cseguid checksum](http://pydna.readthedocs.org/en/latest/pydna.html#pydna.utils.cseguid)\n",
    "uniquely identifies a circular double stranded sequence."
   ]
  },
  {
   "cell_type": "code",
   "execution_count": 17,
   "id": "97d9a120",
   "metadata": {
    "execution": {
     "iopub.execute_input": "2022-03-06T14:48:53.801153Z",
     "iopub.status.busy": "2022-03-06T14:48:53.800861Z",
     "iopub.status.idle": "2022-03-06T14:48:53.810058Z",
     "shell.execute_reply": "2022-03-06T14:48:53.809330Z"
    }
   },
   "outputs": [
    {
     "data": {
      "text/plain": [
       "IZGI2dn5ZeLsGYQmjUqYcA5VUoc"
      ]
     },
     "execution_count": 17,
     "metadata": {},
     "output_type": "execute_result"
    }
   ],
   "source": [
    "pYPKa_A_EcfabD.cseguid()"
   ]
  },
  {
   "cell_type": "markdown",
   "id": "72d06dfa",
   "metadata": {},
   "source": [
    "The file is given a name based on the cloned insert"
   ]
  },
  {
   "cell_type": "code",
   "execution_count": 18,
   "id": "5e231aad",
   "metadata": {
    "execution": {
     "iopub.execute_input": "2022-03-06T14:48:53.813360Z",
     "iopub.status.busy": "2022-03-06T14:48:53.812985Z",
     "iopub.status.idle": "2022-03-06T14:48:53.817719Z",
     "shell.execute_reply": "2022-03-06T14:48:53.816839Z"
    }
   },
   "outputs": [],
   "source": [
    "pYPKa_A_EcfabD.locus = \"pYPKa_A_EcfabD\"[:16]"
   ]
  },
  {
   "cell_type": "markdown",
   "id": "355f1321",
   "metadata": {},
   "source": [
    "Sequence is stamped with the cseguid checksum.\n",
    "This can be used to verify the integrity of the sequence file."
   ]
  },
  {
   "cell_type": "code",
   "execution_count": 19,
   "id": "f5abc6a8",
   "metadata": {
    "execution": {
     "iopub.execute_input": "2022-03-06T14:48:53.820872Z",
     "iopub.status.busy": "2022-03-06T14:48:53.820608Z",
     "iopub.status.idle": "2022-03-06T14:48:53.828550Z",
     "shell.execute_reply": "2022-03-06T14:48:53.827973Z"
    }
   },
   "outputs": [
    {
     "data": {
      "text/plain": [
       "cSEGUID_IZGI2dn5ZeLsGYQmjUqYcA5VUoc"
      ]
     },
     "execution_count": 19,
     "metadata": {},
     "output_type": "execute_result"
    }
   ],
   "source": [
    "pYPKa_A_EcfabD.stamp()"
   ]
  },
  {
   "cell_type": "markdown",
   "id": "cb9e92a5",
   "metadata": {},
   "source": [
    "The sequence is written to a local file."
   ]
  },
  {
   "cell_type": "code",
   "execution_count": 20,
   "id": "b9370708",
   "metadata": {
    "execution": {
     "iopub.execute_input": "2022-03-06T14:48:53.830939Z",
     "iopub.status.busy": "2022-03-06T14:48:53.830733Z",
     "iopub.status.idle": "2022-03-06T14:48:53.835524Z",
     "shell.execute_reply": "2022-03-06T14:48:53.834876Z"
    }
   },
   "outputs": [
    {
     "data": {
      "text/html": [
       "<font face=monospace><a href='pYPKa_A_EcfabD.gb' target='_blank'>pYPKa_A_EcfabD.gb</a></font><br>"
      ]
     },
     "metadata": {},
     "output_type": "display_data"
    }
   ],
   "source": [
    "pYPKa_A_EcfabD.write(\"pYPKa_A_EcfabD.gb\")"
   ]
  }
 ],
 "metadata": {
  "language_info": {
   "codemirror_mode": {
    "name": "ipython",
    "version": 3
   },
   "file_extension": ".py",
   "mimetype": "text/x-python",
   "name": "python",
   "nbconvert_exporter": "python",
   "pygments_lexer": "ipython3",
   "version": "3.9.7"
  }
 },
 "nbformat": 4,
 "nbformat_minor": 5
}
