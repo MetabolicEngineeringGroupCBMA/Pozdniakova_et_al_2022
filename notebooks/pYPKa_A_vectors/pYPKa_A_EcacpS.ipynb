{
 "cells": [
  {
   "cell_type": "markdown",
   "id": "eaaa78b7",
   "metadata": {},
   "source": [
    "# Construction of pYPKa_A_EcacpS\n",
    "\n",
    "This notebook describe the construction of the _E. coli_ vector [pYPKa_A_EcacpS](pYPKa_A_EcacpS.gb).\n",
    "\n",
    "![pYPKa_A plasmid](pYPK_A.png \"pYPKa_A plasmid\")\n",
    "\n",
    "A part of the [pydna](https://pypi.python.org/pypi/pydna/) package is imported in the code cell below."
   ]
  },
  {
   "cell_type": "code",
   "execution_count": 1,
   "id": "78158d56",
   "metadata": {
    "execution": {
     "iopub.execute_input": "2022-03-06T14:48:40.868272Z",
     "iopub.status.busy": "2022-03-06T14:48:40.867142Z",
     "iopub.status.idle": "2022-03-06T14:48:41.188500Z",
     "shell.execute_reply": "2022-03-06T14:48:41.187933Z"
    }
   },
   "outputs": [],
   "source": [
    "from pydna.readers import read\n",
    "from pydna.genbank import Genbank\n",
    "from pydna.parsers import parse_primers\n",
    "from pydna.amplify import pcr\n",
    "from pydna.amplify import Anneal"
   ]
  },
  {
   "cell_type": "markdown",
   "id": "4f86da73",
   "metadata": {},
   "source": [
    "The vector backbone [pYPKa](pYPKa.gb) is read from a local file."
   ]
  },
  {
   "cell_type": "code",
   "execution_count": 2,
   "id": "cdeb2b16",
   "metadata": {
    "execution": {
     "iopub.execute_input": "2022-03-06T14:48:41.191132Z",
     "iopub.status.busy": "2022-03-06T14:48:41.190947Z",
     "iopub.status.idle": "2022-03-06T14:48:41.206793Z",
     "shell.execute_reply": "2022-03-06T14:48:41.206229Z"
    }
   },
   "outputs": [],
   "source": [
    "pYPKa = read(\"pYPKa.gb\")"
   ]
  },
  {
   "cell_type": "markdown",
   "id": "f3303549",
   "metadata": {},
   "source": [
    "The restriction enzyme [AjiI](http://rebase.neb.com/rebase/enz/AjiI.html) is imported from [Biopython](http://biopython.org)"
   ]
  },
  {
   "cell_type": "code",
   "execution_count": 3,
   "id": "324ab7af",
   "metadata": {
    "execution": {
     "iopub.execute_input": "2022-03-06T14:48:41.209671Z",
     "iopub.status.busy": "2022-03-06T14:48:41.209133Z",
     "iopub.status.idle": "2022-03-06T14:48:41.212154Z",
     "shell.execute_reply": "2022-03-06T14:48:41.211660Z"
    }
   },
   "outputs": [],
   "source": [
    "from Bio.Restriction import AjiI"
   ]
  },
  {
   "cell_type": "markdown",
   "id": "87281b7b",
   "metadata": {},
   "source": [
    "The plasmid is linearized with the enzyme."
   ]
  },
  {
   "cell_type": "code",
   "execution_count": 4,
   "id": "ea7c2847",
   "metadata": {
    "execution": {
     "iopub.execute_input": "2022-03-06T14:48:41.215462Z",
     "iopub.status.busy": "2022-03-06T14:48:41.215204Z",
     "iopub.status.idle": "2022-03-06T14:48:41.222664Z",
     "shell.execute_reply": "2022-03-06T14:48:41.221619Z"
    }
   },
   "outputs": [],
   "source": [
    "pYPKa_AjiI  = pYPKa.linearize(AjiI)"
   ]
  },
  {
   "cell_type": "markdown",
   "id": "b59d4b43",
   "metadata": {},
   "source": [
    "Access to [Genbank](http://www.ncbi.nlm.nih.gov/nuccore) is needed in order to download the template.\n",
    "If the email address below is not yours, change it before executing this script as you must always give NCBI a way to contact you when using their service."
   ]
  },
  {
   "cell_type": "code",
   "execution_count": 5,
   "id": "2138f6bc",
   "metadata": {
    "execution": {
     "iopub.execute_input": "2022-03-06T14:48:41.226783Z",
     "iopub.status.busy": "2022-03-06T14:48:41.226504Z",
     "iopub.status.idle": "2022-03-06T14:48:41.230962Z",
     "shell.execute_reply": "2022-03-06T14:48:41.230175Z"
    }
   },
   "outputs": [],
   "source": [
    "gb = Genbank(\"bjornjobb@gmail.com\")"
   ]
  },
  {
   "cell_type": "markdown",
   "id": "9f7f0548",
   "metadata": {},
   "source": [
    "The template is downloaded from Genbank below."
   ]
  },
  {
   "cell_type": "code",
   "execution_count": 6,
   "id": "f0d24ac2",
   "metadata": {
    "execution": {
     "iopub.execute_input": "2022-03-06T14:48:41.234371Z",
     "iopub.status.busy": "2022-03-06T14:48:41.234141Z",
     "iopub.status.idle": "2022-03-06T14:48:42.713817Z",
     "shell.execute_reply": "2022-03-06T14:48:42.713154Z"
    }
   },
   "outputs": [
    {
     "data": {
      "text/html": [
       "<a href='https://www.ncbi.nlm.nih.gov/nuccore/ NC_000913 ?from=2700618&to=2700998&strand=2' target='_blank'> NC_000913  2700618-2700998</a>"
      ],
      "text/plain": [
       "Gbank( NC_000913  2700618-2700998)(-381)"
      ]
     },
     "execution_count": 6,
     "metadata": {},
     "output_type": "execute_result"
    }
   ],
   "source": [
    "template  = gb.nucleotide(\" NC_000913 REGION: complement(2700618..2700998)\")\n",
    "template"
   ]
  },
  {
   "cell_type": "markdown",
   "id": "045bf90b",
   "metadata": {},
   "source": [
    "The two primers below are used to amplify the insert."
   ]
  },
  {
   "cell_type": "code",
   "execution_count": 7,
   "id": "753255e4",
   "metadata": {
    "execution": {
     "iopub.execute_input": "2022-03-06T14:48:42.716223Z",
     "iopub.status.busy": "2022-03-06T14:48:42.715993Z",
     "iopub.status.idle": "2022-03-06T14:48:42.719437Z",
     "shell.execute_reply": "2022-03-06T14:48:42.718950Z"
    }
   },
   "outputs": [],
   "source": [
    "fp,rp =  parse_primers(\"\"\">728_EcacpS_fw\n",
    "                          aaATGGCAATATTAGGTTTAGGC\n",
    "                          >729_EcacpS_rv\n",
    "                          TTAACTTTCAATAATTACCGTGG\"\"\")"
   ]
  },
  {
   "cell_type": "markdown",
   "id": "e9fb2af5",
   "metadata": {},
   "source": [
    "The gene is amplifed using the primers specified above."
   ]
  },
  {
   "cell_type": "code",
   "execution_count": 8,
   "id": "fd5f6ddf",
   "metadata": {
    "execution": {
     "iopub.execute_input": "2022-03-06T14:48:42.721836Z",
     "iopub.status.busy": "2022-03-06T14:48:42.721653Z",
     "iopub.status.idle": "2022-03-06T14:48:42.730312Z",
     "shell.execute_reply": "2022-03-06T14:48:42.729744Z"
    }
   },
   "outputs": [],
   "source": [
    "ins = pcr(fp, rp, template)"
   ]
  },
  {
   "cell_type": "markdown",
   "id": "5f16d5d8",
   "metadata": {},
   "source": [
    "The primers anneal on the template like this."
   ]
  },
  {
   "cell_type": "code",
   "execution_count": 9,
   "id": "de231388",
   "metadata": {
    "execution": {
     "iopub.execute_input": "2022-03-06T14:48:42.734337Z",
     "iopub.status.busy": "2022-03-06T14:48:42.734101Z",
     "iopub.status.idle": "2022-03-06T14:48:42.739076Z",
     "shell.execute_reply": "2022-03-06T14:48:42.738393Z"
    }
   },
   "outputs": [
    {
     "data": {
      "text/plain": [
       "  5ATGGCAATATTAGGTTTAGGC...CCACGGTAATTATTGAAAGTTAA3\n",
       "                           |||||||||||||||||||||||\n",
       "                          3GGTGCCATTAATAACTTTCAATT5\n",
       "5aaATGGCAATATTAGGTTTAGGC3\n",
       "   |||||||||||||||||||||\n",
       "  3TACCGTTATAATCCAAATCCG...GGTGCCATTAATAACTTTCAATT5"
      ]
     },
     "execution_count": 9,
     "metadata": {},
     "output_type": "execute_result"
    }
   ],
   "source": [
    "ins.figure()"
   ]
  },
  {
   "cell_type": "markdown",
   "id": "685f0bd8",
   "metadata": {},
   "source": [
    "A suggested PCR program."
   ]
  },
  {
   "cell_type": "code",
   "execution_count": 10,
   "id": "a326976e",
   "metadata": {
    "execution": {
     "iopub.execute_input": "2022-03-06T14:48:42.742505Z",
     "iopub.status.busy": "2022-03-06T14:48:42.742267Z",
     "iopub.status.idle": "2022-03-06T14:48:42.748283Z",
     "shell.execute_reply": "2022-03-06T14:48:42.747465Z"
    }
   },
   "outputs": [
    {
     "data": {
      "text/plain": [
       "|95°C|95°C               |    |tmf:59.8\n",
       "|____|_____          72°C|72°C|tmr:57.5\n",
       "|3min|30s  \\ 57.7°C _____|____|45s/kb\n",
       "|    |      \\______/ 0:30|5min|GC 51%\n",
       "|    |       30s         |    |383bp"
      ]
     },
     "execution_count": 10,
     "metadata": {},
     "output_type": "execute_result"
    }
   ],
   "source": [
    "ins.program()"
   ]
  },
  {
   "cell_type": "markdown",
   "id": "f298b367",
   "metadata": {},
   "source": [
    "The final vector is:"
   ]
  },
  {
   "cell_type": "code",
   "execution_count": 11,
   "id": "70bec91c",
   "metadata": {
    "execution": {
     "iopub.execute_input": "2022-03-06T14:48:42.751754Z",
     "iopub.status.busy": "2022-03-06T14:48:42.751520Z",
     "iopub.status.idle": "2022-03-06T14:48:42.905433Z",
     "shell.execute_reply": "2022-03-06T14:48:42.904861Z"
    }
   },
   "outputs": [],
   "source": [
    "pYPKa_A_EcacpS = (pYPKa_AjiI  + ins).looped().synced(\"gttctgatcctcgagcatcttaagaattc\")"
   ]
  },
  {
   "cell_type": "markdown",
   "id": "e5349cdf",
   "metadata": {},
   "source": [
    "The vector with reverse insert is created below. This vector theoretically make up\n",
    "fifty percent of the clones. The PCR strategy below is used to identify the correct clones."
   ]
  },
  {
   "cell_type": "code",
   "execution_count": 12,
   "id": "a4a6bc0d",
   "metadata": {
    "execution": {
     "iopub.execute_input": "2022-03-06T14:48:42.908045Z",
     "iopub.status.busy": "2022-03-06T14:48:42.907875Z",
     "iopub.status.idle": "2022-03-06T14:48:43.059996Z",
     "shell.execute_reply": "2022-03-06T14:48:43.059439Z"
    }
   },
   "outputs": [],
   "source": [
    "pYPKa_A_EcacpSb = (pYPKa_AjiI  + ins.rc()).looped().synced(\"gttctgatcctcgagcatcttaagaattc\")"
   ]
  },
  {
   "cell_type": "markdown",
   "id": "82181e7f",
   "metadata": {},
   "source": [
    "A combination of standard primers and the newly designed primers are\n",
    "used for the strategy to identify correct clones.\n",
    "Standard primers are listed [here](standard_primers.txt).\n",
    "The standard primers are read into a dictonary in the code cell below."
   ]
  },
  {
   "cell_type": "code",
   "execution_count": 13,
   "id": "99d577d2",
   "metadata": {
    "execution": {
     "iopub.execute_input": "2022-03-06T14:48:43.062682Z",
     "iopub.status.busy": "2022-03-06T14:48:43.062460Z",
     "iopub.status.idle": "2022-03-06T14:48:43.066885Z",
     "shell.execute_reply": "2022-03-06T14:48:43.066405Z"
    }
   },
   "outputs": [],
   "source": [
    "p = { x.id: x for x in parse_primers(\"standard_primers.txt\") }"
   ]
  },
  {
   "cell_type": "markdown",
   "id": "e2232ef9",
   "metadata": {},
   "source": [
    "## Diagnostic PCR confirmation of pYPKa_A_EcacpS\n",
    "The correct structure of pYPKa_A_EcacpS is confirmed by PCR using standard primers\n",
    "577 and 342 that are vector specific together with the EcacpSfw primer specific for the insert\n",
    "in a multiplex PCR reaction with three primers present in the PCR reaction.\n",
    "\n",
    "Two PCR products are expected if the insert was sucessfully cloned, sizes depending\n",
    "on the orientation of the insert.\n",
    "If the vector is empty, only one short product is formed.\n",
    "\n",
    "## Expected PCR products sizes:\n",
    "\n",
    "pYPKa_A_EcacpS with insert in correct orientation."
   ]
  },
  {
   "cell_type": "code",
   "execution_count": 14,
   "id": "60538738",
   "metadata": {
    "execution": {
     "iopub.execute_input": "2022-03-06T14:48:43.070456Z",
     "iopub.status.busy": "2022-03-06T14:48:43.070183Z",
     "iopub.status.idle": "2022-03-06T14:48:43.084291Z",
     "shell.execute_reply": "2022-03-06T14:48:43.083818Z"
    }
   },
   "outputs": [
    {
     "data": {
      "text/plain": [
       "[Amplicon(1317), Amplicon(1099)]"
      ]
     },
     "execution_count": 14,
     "metadata": {},
     "output_type": "execute_result"
    }
   ],
   "source": [
    "Anneal( (p['577'], p['342'], fp), pYPKa_A_EcacpS).products"
   ]
  },
  {
   "cell_type": "markdown",
   "id": "4bcfa975",
   "metadata": {},
   "source": [
    "pYPKa_A_EcacpS with insert in reverse orientation."
   ]
  },
  {
   "cell_type": "code",
   "execution_count": 15,
   "id": "e6e54993",
   "metadata": {
    "execution": {
     "iopub.execute_input": "2022-03-06T14:48:43.086985Z",
     "iopub.status.busy": "2022-03-06T14:48:43.086769Z",
     "iopub.status.idle": "2022-03-06T14:48:43.099094Z",
     "shell.execute_reply": "2022-03-06T14:48:43.098619Z"
    }
   },
   "outputs": [
    {
     "data": {
      "text/plain": [
       "[Amplicon(1317), Amplicon(601)]"
      ]
     },
     "execution_count": 15,
     "metadata": {},
     "output_type": "execute_result"
    }
   ],
   "source": [
    "Anneal( (p['577'], p['342'], fp), pYPKa_A_EcacpSb).products"
   ]
  },
  {
   "cell_type": "markdown",
   "id": "fc5df8c5",
   "metadata": {},
   "source": [
    "Empty clone"
   ]
  },
  {
   "cell_type": "code",
   "execution_count": 16,
   "id": "5072ba75",
   "metadata": {
    "execution": {
     "iopub.execute_input": "2022-03-06T14:48:43.101642Z",
     "iopub.status.busy": "2022-03-06T14:48:43.101421Z",
     "iopub.status.idle": "2022-03-06T14:48:43.111083Z",
     "shell.execute_reply": "2022-03-06T14:48:43.110363Z"
    }
   },
   "outputs": [
    {
     "data": {
      "text/plain": [
       "[Amplicon(934)]"
      ]
     },
     "execution_count": 16,
     "metadata": {},
     "output_type": "execute_result"
    }
   ],
   "source": [
    "Anneal( (p['577'], p['342'], fp), pYPKa).products"
   ]
  },
  {
   "cell_type": "markdown",
   "id": "0c344763",
   "metadata": {},
   "source": [
    "The cseguid checksum for the resulting plasmid is calculated for future reference.\n",
    "The [cseguid checksum](http://pydna.readthedocs.org/en/latest/pydna.html#pydna.utils.cseguid)\n",
    "uniquely identifies a circular double stranded sequence."
   ]
  },
  {
   "cell_type": "code",
   "execution_count": 17,
   "id": "45b930fa",
   "metadata": {
    "execution": {
     "iopub.execute_input": "2022-03-06T14:48:43.113478Z",
     "iopub.status.busy": "2022-03-06T14:48:43.113255Z",
     "iopub.status.idle": "2022-03-06T14:48:43.119290Z",
     "shell.execute_reply": "2022-03-06T14:48:43.118816Z"
    }
   },
   "outputs": [
    {
     "data": {
      "text/plain": [
       "NduMBbC0smW0Lr3SqbWtjtQxhew"
      ]
     },
     "execution_count": 17,
     "metadata": {},
     "output_type": "execute_result"
    }
   ],
   "source": [
    "pYPKa_A_EcacpS.cseguid()"
   ]
  },
  {
   "cell_type": "markdown",
   "id": "7963b0ad",
   "metadata": {},
   "source": [
    "The file is given a name based on the cloned insert"
   ]
  },
  {
   "cell_type": "code",
   "execution_count": 18,
   "id": "4f5d9e25",
   "metadata": {
    "execution": {
     "iopub.execute_input": "2022-03-06T14:48:43.123199Z",
     "iopub.status.busy": "2022-03-06T14:48:43.122896Z",
     "iopub.status.idle": "2022-03-06T14:48:43.127466Z",
     "shell.execute_reply": "2022-03-06T14:48:43.126545Z"
    }
   },
   "outputs": [],
   "source": [
    "pYPKa_A_EcacpS.locus = \"pYPKa_A_EcacpS\"[:16]"
   ]
  },
  {
   "cell_type": "markdown",
   "id": "edd276dd",
   "metadata": {},
   "source": [
    "Sequence is stamped with the cseguid checksum.\n",
    "This can be used to verify the integrity of the sequence file."
   ]
  },
  {
   "cell_type": "code",
   "execution_count": 19,
   "id": "930acd62",
   "metadata": {
    "execution": {
     "iopub.execute_input": "2022-03-06T14:48:43.131176Z",
     "iopub.status.busy": "2022-03-06T14:48:43.130840Z",
     "iopub.status.idle": "2022-03-06T14:48:43.140877Z",
     "shell.execute_reply": "2022-03-06T14:48:43.140012Z"
    }
   },
   "outputs": [
    {
     "data": {
      "text/plain": [
       "cSEGUID_NduMBbC0smW0Lr3SqbWtjtQxhew"
      ]
     },
     "execution_count": 19,
     "metadata": {},
     "output_type": "execute_result"
    }
   ],
   "source": [
    "pYPKa_A_EcacpS.stamp()"
   ]
  },
  {
   "cell_type": "markdown",
   "id": "ef492345",
   "metadata": {},
   "source": [
    "The sequence is written to a local file."
   ]
  },
  {
   "cell_type": "code",
   "execution_count": 20,
   "id": "9ae7b37d",
   "metadata": {
    "execution": {
     "iopub.execute_input": "2022-03-06T14:48:43.144043Z",
     "iopub.status.busy": "2022-03-06T14:48:43.143759Z",
     "iopub.status.idle": "2022-03-06T14:48:43.149322Z",
     "shell.execute_reply": "2022-03-06T14:48:43.148521Z"
    }
   },
   "outputs": [
    {
     "data": {
      "text/html": [
       "<font face=monospace><a href='pYPKa_A_EcacpS.gb' target='_blank'>pYPKa_A_EcacpS.gb</a></font><br>"
      ]
     },
     "metadata": {},
     "output_type": "display_data"
    }
   ],
   "source": [
    "pYPKa_A_EcacpS.write(\"pYPKa_A_EcacpS.gb\")"
   ]
  }
 ],
 "metadata": {
  "language_info": {
   "codemirror_mode": {
    "name": "ipython",
    "version": 3
   },
   "file_extension": ".py",
   "mimetype": "text/x-python",
   "name": "python",
   "nbconvert_exporter": "python",
   "pygments_lexer": "ipython3",
   "version": "3.9.7"
  }
 },
 "nbformat": 4,
 "nbformat_minor": 5
}
