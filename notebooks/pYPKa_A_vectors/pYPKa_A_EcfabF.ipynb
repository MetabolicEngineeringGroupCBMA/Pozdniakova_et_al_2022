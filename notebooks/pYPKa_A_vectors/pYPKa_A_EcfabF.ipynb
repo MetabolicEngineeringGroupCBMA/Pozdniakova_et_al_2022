{
 "cells": [
  {
   "cell_type": "markdown",
   "id": "199204f5",
   "metadata": {},
   "source": [
    "# Construction of pYPKa_A_EcfabF\n",
    "\n",
    "This notebook describe the construction of the _E. coli_ vector [pYPKa_A_EcfabF](pYPKa_A_EcfabF.gb).\n",
    "\n",
    "![pYPKa_A plasmid](pYPK_A.png \"pYPKa_A plasmid\")\n",
    "\n",
    "A part of the [pydna](https://pypi.python.org/pypi/pydna/) package is imported in the code cell below."
   ]
  },
  {
   "cell_type": "code",
   "execution_count": 1,
   "id": "0be1d422",
   "metadata": {
    "execution": {
     "iopub.execute_input": "2022-03-06T14:48:54.882254Z",
     "iopub.status.busy": "2022-03-06T14:48:54.881821Z",
     "iopub.status.idle": "2022-03-06T14:48:55.189133Z",
     "shell.execute_reply": "2022-03-06T14:48:55.188497Z"
    }
   },
   "outputs": [],
   "source": [
    "from pydna.readers import read\n",
    "from pydna.genbank import Genbank\n",
    "from pydna.parsers import parse_primers\n",
    "from pydna.amplify import pcr\n",
    "from pydna.amplify import Anneal"
   ]
  },
  {
   "cell_type": "markdown",
   "id": "7bd3efdb",
   "metadata": {},
   "source": [
    "The vector backbone [pYPKa](pYPKa.gb) is read from a local file."
   ]
  },
  {
   "cell_type": "code",
   "execution_count": 2,
   "id": "b4db3828",
   "metadata": {
    "execution": {
     "iopub.execute_input": "2022-03-06T14:48:55.192173Z",
     "iopub.status.busy": "2022-03-06T14:48:55.191762Z",
     "iopub.status.idle": "2022-03-06T14:48:55.207947Z",
     "shell.execute_reply": "2022-03-06T14:48:55.207419Z"
    }
   },
   "outputs": [],
   "source": [
    "pYPKa = read(\"pYPKa.gb\")"
   ]
  },
  {
   "cell_type": "markdown",
   "id": "87e6e053",
   "metadata": {},
   "source": [
    "The restriction enzyme [AjiI](http://rebase.neb.com/rebase/enz/AjiI.html) is imported from [Biopython](http://biopython.org)"
   ]
  },
  {
   "cell_type": "code",
   "execution_count": 3,
   "id": "91490bd4",
   "metadata": {
    "execution": {
     "iopub.execute_input": "2022-03-06T14:48:55.210699Z",
     "iopub.status.busy": "2022-03-06T14:48:55.210511Z",
     "iopub.status.idle": "2022-03-06T14:48:55.213336Z",
     "shell.execute_reply": "2022-03-06T14:48:55.212809Z"
    }
   },
   "outputs": [],
   "source": [
    "from Bio.Restriction import AjiI"
   ]
  },
  {
   "cell_type": "markdown",
   "id": "791fa842",
   "metadata": {},
   "source": [
    "The plasmid is linearized with the enzyme."
   ]
  },
  {
   "cell_type": "code",
   "execution_count": 4,
   "id": "a476000d",
   "metadata": {
    "execution": {
     "iopub.execute_input": "2022-03-06T14:48:55.215713Z",
     "iopub.status.busy": "2022-03-06T14:48:55.215513Z",
     "iopub.status.idle": "2022-03-06T14:48:55.223170Z",
     "shell.execute_reply": "2022-03-06T14:48:55.222376Z"
    }
   },
   "outputs": [],
   "source": [
    "pYPKa_AjiI  = pYPKa.linearize(AjiI)"
   ]
  },
  {
   "cell_type": "markdown",
   "id": "3e68a0c6",
   "metadata": {},
   "source": [
    "Access to [Genbank](http://www.ncbi.nlm.nih.gov/nuccore) is needed in order to download the template.\n",
    "If the email address below is not yours, change it before executing this script as you must always give NCBI a way to contact you when using their service."
   ]
  },
  {
   "cell_type": "code",
   "execution_count": 5,
   "id": "2ef49264",
   "metadata": {
    "execution": {
     "iopub.execute_input": "2022-03-06T14:48:55.226424Z",
     "iopub.status.busy": "2022-03-06T14:48:55.226134Z",
     "iopub.status.idle": "2022-03-06T14:48:55.230821Z",
     "shell.execute_reply": "2022-03-06T14:48:55.229942Z"
    }
   },
   "outputs": [],
   "source": [
    "gb = Genbank(\"bjornjobb@gmail.com\")"
   ]
  },
  {
   "cell_type": "markdown",
   "id": "daf25220",
   "metadata": {},
   "source": [
    "The template is downloaded from Genbank below."
   ]
  },
  {
   "cell_type": "code",
   "execution_count": 6,
   "id": "b4f3257f",
   "metadata": {
    "execution": {
     "iopub.execute_input": "2022-03-06T14:48:55.234473Z",
     "iopub.status.busy": "2022-03-06T14:48:55.234156Z",
     "iopub.status.idle": "2022-03-06T14:48:56.974248Z",
     "shell.execute_reply": "2022-03-06T14:48:56.973563Z"
    }
   },
   "outputs": [
    {
     "data": {
      "text/html": [
       "<a href='https://www.ncbi.nlm.nih.gov/nuccore/ NC_000913 ?from=1151939&to=1153180&strand=1' target='_blank'> NC_000913  1151939-1153180</a>"
      ],
      "text/plain": [
       "Gbank( NC_000913  1151939-1153180)(-1242)"
      ]
     },
     "execution_count": 6,
     "metadata": {},
     "output_type": "execute_result"
    }
   ],
   "source": [
    "template  = gb.nucleotide(\" NC_000913 REGION: 1151939..1153180\")\n",
    "template"
   ]
  },
  {
   "cell_type": "markdown",
   "id": "0398ba5b",
   "metadata": {},
   "source": [
    "The two primers below are used to amplify the insert."
   ]
  },
  {
   "cell_type": "code",
   "execution_count": 7,
   "id": "3144aa35",
   "metadata": {
    "execution": {
     "iopub.execute_input": "2022-03-06T14:48:56.976732Z",
     "iopub.status.busy": "2022-03-06T14:48:56.976523Z",
     "iopub.status.idle": "2022-03-06T14:48:56.979890Z",
     "shell.execute_reply": "2022-03-06T14:48:56.979386Z"
    }
   },
   "outputs": [],
   "source": [
    "fp,rp =  parse_primers(\"\"\">712_EcfabF_fw\n",
    "                          aaATGTCTAAGCGTCGTGTAGTTGT\n",
    "                          >713_EcfabF_rv\n",
    "                          TTAGATCTTTTTAAAGATCAAAGAAC\"\"\")"
   ]
  },
  {
   "cell_type": "markdown",
   "id": "2e2b1783",
   "metadata": {},
   "source": [
    "The gene is amplifed using the primers specified above."
   ]
  },
  {
   "cell_type": "code",
   "execution_count": 8,
   "id": "da48ac29",
   "metadata": {
    "execution": {
     "iopub.execute_input": "2022-03-06T14:48:56.982237Z",
     "iopub.status.busy": "2022-03-06T14:48:56.981999Z",
     "iopub.status.idle": "2022-03-06T14:48:56.990810Z",
     "shell.execute_reply": "2022-03-06T14:48:56.990219Z"
    }
   },
   "outputs": [],
   "source": [
    "ins = pcr(fp, rp, template)"
   ]
  },
  {
   "cell_type": "markdown",
   "id": "db9d317a",
   "metadata": {},
   "source": [
    "The primers anneal on the template like this."
   ]
  },
  {
   "cell_type": "code",
   "execution_count": 9,
   "id": "e56863c1",
   "metadata": {
    "execution": {
     "iopub.execute_input": "2022-03-06T14:48:56.994070Z",
     "iopub.status.busy": "2022-03-06T14:48:56.993789Z",
     "iopub.status.idle": "2022-03-06T14:48:56.999164Z",
     "shell.execute_reply": "2022-03-06T14:48:56.998121Z"
    }
   },
   "outputs": [
    {
     "data": {
      "text/plain": [
       "   5TGTCTAAGCGTCGTGTAGTTGT...GTTCTTTGATCTTTAAAAAGATCTAA3\n",
       "                             ||||||||||||||||||||||||||\n",
       "                            3CAAGAAACTAGAAATTTTTCTAGATT5\n",
       "5aaATGTCTAAGCGTCGTGTAGTTGT3\n",
       "    ||||||||||||||||||||||\n",
       "   3ACAGATTCGCAGCACATCAACA...CAAGAAACTAGAAATTTTTCTAGATT5"
      ]
     },
     "execution_count": 9,
     "metadata": {},
     "output_type": "execute_result"
    }
   ],
   "source": [
    "ins.figure()"
   ]
  },
  {
   "cell_type": "markdown",
   "id": "4956f569",
   "metadata": {},
   "source": [
    "A suggested PCR program."
   ]
  },
  {
   "cell_type": "code",
   "execution_count": 10,
   "id": "7ed00258",
   "metadata": {
    "execution": {
     "iopub.execute_input": "2022-03-06T14:48:57.003138Z",
     "iopub.status.busy": "2022-03-06T14:48:57.002842Z",
     "iopub.status.idle": "2022-03-06T14:48:57.009090Z",
     "shell.execute_reply": "2022-03-06T14:48:57.008631Z"
    }
   },
   "outputs": [
    {
     "data": {
      "text/plain": [
       "|95°C|95°C               |    |tmf:63.2\n",
       "|____|_____          72°C|72°C|tmr:54.6\n",
       "|3min|30s  \\ 58.3°C _____|____|45s/kb\n",
       "|    |      \\______/ 0:55|5min|GC 53%\n",
       "|    |       30s         |    |1244bp"
      ]
     },
     "execution_count": 10,
     "metadata": {},
     "output_type": "execute_result"
    }
   ],
   "source": [
    "ins.program()"
   ]
  },
  {
   "cell_type": "markdown",
   "id": "b20b6d3c",
   "metadata": {},
   "source": [
    "The final vector is:"
   ]
  },
  {
   "cell_type": "code",
   "execution_count": 11,
   "id": "60cb5e4d",
   "metadata": {
    "execution": {
     "iopub.execute_input": "2022-03-06T14:48:57.011516Z",
     "iopub.status.busy": "2022-03-06T14:48:57.011310Z",
     "iopub.status.idle": "2022-03-06T14:48:57.202926Z",
     "shell.execute_reply": "2022-03-06T14:48:57.202332Z"
    }
   },
   "outputs": [],
   "source": [
    "pYPKa_A_EcfabF = (pYPKa_AjiI  + ins).looped().synced(\"gttctgatcctcgagcatcttaagaattc\")"
   ]
  },
  {
   "cell_type": "markdown",
   "id": "4b8fe55d",
   "metadata": {},
   "source": [
    "The vector with reverse insert is created below. This vector theoretically make up\n",
    "fifty percent of the clones. The PCR strategy below is used to identify the correct clones."
   ]
  },
  {
   "cell_type": "code",
   "execution_count": 12,
   "id": "5f1938a2",
   "metadata": {
    "execution": {
     "iopub.execute_input": "2022-03-06T14:48:57.205634Z",
     "iopub.status.busy": "2022-03-06T14:48:57.205409Z",
     "iopub.status.idle": "2022-03-06T14:48:57.395305Z",
     "shell.execute_reply": "2022-03-06T14:48:57.394723Z"
    }
   },
   "outputs": [],
   "source": [
    "pYPKa_A_EcfabFb = (pYPKa_AjiI  + ins.rc()).looped().synced(\"gttctgatcctcgagcatcttaagaattc\")"
   ]
  },
  {
   "cell_type": "markdown",
   "id": "bbf4bebb",
   "metadata": {},
   "source": [
    "A combination of standard primers and the newly designed primers are\n",
    "used for the strategy to identify correct clones.\n",
    "Standard primers are listed [here](standard_primers.txt).\n",
    "The standard primers are read into a dictonary in the code cell below."
   ]
  },
  {
   "cell_type": "code",
   "execution_count": 13,
   "id": "78faabd4",
   "metadata": {
    "execution": {
     "iopub.execute_input": "2022-03-06T14:48:57.397973Z",
     "iopub.status.busy": "2022-03-06T14:48:57.397781Z",
     "iopub.status.idle": "2022-03-06T14:48:57.401646Z",
     "shell.execute_reply": "2022-03-06T14:48:57.401136Z"
    }
   },
   "outputs": [],
   "source": [
    "p = { x.id: x for x in parse_primers(\"standard_primers.txt\") }"
   ]
  },
  {
   "cell_type": "markdown",
   "id": "3e5b4798",
   "metadata": {},
   "source": [
    "## Diagnostic PCR confirmation of pYPKa_A_EcfabF\n",
    "The correct structure of pYPKa_A_EcfabF is confirmed by PCR using standard primers\n",
    "577 and 342 that are vector specific together with the EcfabFfw primer specific for the insert\n",
    "in a multiplex PCR reaction with three primers present in the PCR reaction.\n",
    "\n",
    "Two PCR products are expected if the insert was sucessfully cloned, sizes depending\n",
    "on the orientation of the insert.\n",
    "If the vector is empty, only one short product is formed.\n",
    "\n",
    "## Expected PCR products sizes:\n",
    "\n",
    "pYPKa_A_EcfabF with insert in correct orientation."
   ]
  },
  {
   "cell_type": "code",
   "execution_count": 14,
   "id": "8459d6e8",
   "metadata": {
    "execution": {
     "iopub.execute_input": "2022-03-06T14:48:57.403893Z",
     "iopub.status.busy": "2022-03-06T14:48:57.403690Z",
     "iopub.status.idle": "2022-03-06T14:48:57.419932Z",
     "shell.execute_reply": "2022-03-06T14:48:57.419345Z"
    }
   },
   "outputs": [
    {
     "data": {
      "text/plain": [
       "[Amplicon(2178), Amplicon(1960)]"
      ]
     },
     "execution_count": 14,
     "metadata": {},
     "output_type": "execute_result"
    }
   ],
   "source": [
    "Anneal( (p['577'], p['342'], fp), pYPKa_A_EcfabF).products"
   ]
  },
  {
   "cell_type": "markdown",
   "id": "3390b096",
   "metadata": {},
   "source": [
    "pYPKa_A_EcfabF with insert in reverse orientation."
   ]
  },
  {
   "cell_type": "code",
   "execution_count": 15,
   "id": "be607ccd",
   "metadata": {
    "execution": {
     "iopub.execute_input": "2022-03-06T14:48:57.422304Z",
     "iopub.status.busy": "2022-03-06T14:48:57.422096Z",
     "iopub.status.idle": "2022-03-06T14:48:57.431772Z",
     "shell.execute_reply": "2022-03-06T14:48:57.431219Z"
    }
   },
   "outputs": [
    {
     "data": {
      "text/plain": [
       "[Amplicon(2178), Amplicon(1462)]"
      ]
     },
     "execution_count": 15,
     "metadata": {},
     "output_type": "execute_result"
    }
   ],
   "source": [
    "Anneal( (p['577'], p['342'], fp), pYPKa_A_EcfabFb).products"
   ]
  },
  {
   "cell_type": "markdown",
   "id": "d629f960",
   "metadata": {},
   "source": [
    "Empty clone"
   ]
  },
  {
   "cell_type": "code",
   "execution_count": 16,
   "id": "b5c6f192",
   "metadata": {
    "execution": {
     "iopub.execute_input": "2022-03-06T14:48:57.434324Z",
     "iopub.status.busy": "2022-03-06T14:48:57.434071Z",
     "iopub.status.idle": "2022-03-06T14:48:57.443726Z",
     "shell.execute_reply": "2022-03-06T14:48:57.442544Z"
    }
   },
   "outputs": [
    {
     "data": {
      "text/plain": [
       "[Amplicon(934)]"
      ]
     },
     "execution_count": 16,
     "metadata": {},
     "output_type": "execute_result"
    }
   ],
   "source": [
    "Anneal( (p['577'], p['342'], fp), pYPKa).products"
   ]
  },
  {
   "cell_type": "markdown",
   "id": "98b07812",
   "metadata": {},
   "source": [
    "The cseguid checksum for the resulting plasmid is calculated for future reference.\n",
    "The [cseguid checksum](http://pydna.readthedocs.org/en/latest/pydna.html#pydna.utils.cseguid)\n",
    "uniquely identifies a circular double stranded sequence."
   ]
  },
  {
   "cell_type": "code",
   "execution_count": 17,
   "id": "58d89f88",
   "metadata": {
    "execution": {
     "iopub.execute_input": "2022-03-06T14:48:57.447507Z",
     "iopub.status.busy": "2022-03-06T14:48:57.447262Z",
     "iopub.status.idle": "2022-03-06T14:48:57.456442Z",
     "shell.execute_reply": "2022-03-06T14:48:57.455906Z"
    }
   },
   "outputs": [
    {
     "data": {
      "text/plain": [
       "ovENIp7X3u4jp91e4_1mK-o-Tt0"
      ]
     },
     "execution_count": 17,
     "metadata": {},
     "output_type": "execute_result"
    }
   ],
   "source": [
    "pYPKa_A_EcfabF.cseguid()"
   ]
  },
  {
   "cell_type": "markdown",
   "id": "a89255ea",
   "metadata": {},
   "source": [
    "The file is given a name based on the cloned insert"
   ]
  },
  {
   "cell_type": "code",
   "execution_count": 18,
   "id": "585615c9",
   "metadata": {
    "execution": {
     "iopub.execute_input": "2022-03-06T14:48:57.459108Z",
     "iopub.status.busy": "2022-03-06T14:48:57.458550Z",
     "iopub.status.idle": "2022-03-06T14:48:57.461671Z",
     "shell.execute_reply": "2022-03-06T14:48:57.461090Z"
    }
   },
   "outputs": [],
   "source": [
    "pYPKa_A_EcfabF.locus = \"pYPKa_A_EcfabF\"[:16]"
   ]
  },
  {
   "cell_type": "markdown",
   "id": "9a9dd1c0",
   "metadata": {},
   "source": [
    "Sequence is stamped with the cseguid checksum.\n",
    "This can be used to verify the integrity of the sequence file."
   ]
  },
  {
   "cell_type": "code",
   "execution_count": 19,
   "id": "73357f8d",
   "metadata": {
    "execution": {
     "iopub.execute_input": "2022-03-06T14:48:57.465065Z",
     "iopub.status.busy": "2022-03-06T14:48:57.464819Z",
     "iopub.status.idle": "2022-03-06T14:48:57.475195Z",
     "shell.execute_reply": "2022-03-06T14:48:57.474467Z"
    }
   },
   "outputs": [
    {
     "data": {
      "text/plain": [
       "cSEGUID_ovENIp7X3u4jp91e4_1mK-o-Tt0"
      ]
     },
     "execution_count": 19,
     "metadata": {},
     "output_type": "execute_result"
    }
   ],
   "source": [
    "pYPKa_A_EcfabF.stamp()"
   ]
  },
  {
   "cell_type": "markdown",
   "id": "24229b63",
   "metadata": {},
   "source": [
    "The sequence is written to a local file."
   ]
  },
  {
   "cell_type": "code",
   "execution_count": 20,
   "id": "52e92e6b",
   "metadata": {
    "execution": {
     "iopub.execute_input": "2022-03-06T14:48:57.478281Z",
     "iopub.status.busy": "2022-03-06T14:48:57.478048Z",
     "iopub.status.idle": "2022-03-06T14:48:57.482345Z",
     "shell.execute_reply": "2022-03-06T14:48:57.481831Z"
    }
   },
   "outputs": [
    {
     "data": {
      "text/html": [
       "<font face=monospace><a href='pYPKa_A_EcfabF.gb' target='_blank'>pYPKa_A_EcfabF.gb</a></font><br>"
      ]
     },
     "metadata": {},
     "output_type": "display_data"
    }
   ],
   "source": [
    "pYPKa_A_EcfabF.write(\"pYPKa_A_EcfabF.gb\")"
   ]
  }
 ],
 "metadata": {
  "language_info": {
   "codemirror_mode": {
    "name": "ipython",
    "version": 3
   },
   "file_extension": ".py",
   "mimetype": "text/x-python",
   "name": "python",
   "nbconvert_exporter": "python",
   "pygments_lexer": "ipython3",
   "version": "3.9.7"
  }
 },
 "nbformat": 4,
 "nbformat_minor": 5
}
