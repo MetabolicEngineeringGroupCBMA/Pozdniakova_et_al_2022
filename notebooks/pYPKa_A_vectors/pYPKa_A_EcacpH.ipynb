{
 "cells": [
  {
   "cell_type": "markdown",
   "id": "bcacbb68",
   "metadata": {},
   "source": [
    "# Construction of pYPKa_A_EcacpH\n",
    "\n",
    "This notebook describe the construction of the _E. coli_ vector [pYPKa_A_EcacpH](pYPKa_A_EcacpH.gb).\n",
    "\n",
    "![pYPKa_A plasmid](pYPK_A.png \"pYPKa_A plasmid\")\n",
    "\n",
    "A part of the [pydna](https://pypi.python.org/pypi/pydna/) package is imported in the code cell below."
   ]
  },
  {
   "cell_type": "code",
   "execution_count": 1,
   "id": "325c0fa7",
   "metadata": {
    "execution": {
     "iopub.execute_input": "2022-03-06T14:48:35.416762Z",
     "iopub.status.busy": "2022-03-06T14:48:35.416386Z",
     "iopub.status.idle": "2022-03-06T14:48:35.722436Z",
     "shell.execute_reply": "2022-03-06T14:48:35.721808Z"
    }
   },
   "outputs": [],
   "source": [
    "from pydna.readers import read\n",
    "from pydna.genbank import Genbank\n",
    "from pydna.parsers import parse_primers\n",
    "from pydna.amplify import pcr\n",
    "from pydna.amplify import Anneal"
   ]
  },
  {
   "cell_type": "markdown",
   "id": "60453523",
   "metadata": {},
   "source": [
    "The vector backbone [pYPKa](pYPKa.gb) is read from a local file."
   ]
  },
  {
   "cell_type": "code",
   "execution_count": 2,
   "id": "addbb9d0",
   "metadata": {
    "execution": {
     "iopub.execute_input": "2022-03-06T14:48:35.725284Z",
     "iopub.status.busy": "2022-03-06T14:48:35.725029Z",
     "iopub.status.idle": "2022-03-06T14:48:35.742988Z",
     "shell.execute_reply": "2022-03-06T14:48:35.742385Z"
    }
   },
   "outputs": [],
   "source": [
    "pYPKa = read(\"pYPKa.gb\")"
   ]
  },
  {
   "cell_type": "markdown",
   "id": "54eebbb5",
   "metadata": {},
   "source": [
    "The restriction enzyme [AjiI](http://rebase.neb.com/rebase/enz/AjiI.html) is imported from [Biopython](http://biopython.org)"
   ]
  },
  {
   "cell_type": "code",
   "execution_count": 3,
   "id": "1bb7a703",
   "metadata": {
    "execution": {
     "iopub.execute_input": "2022-03-06T14:48:35.745879Z",
     "iopub.status.busy": "2022-03-06T14:48:35.745697Z",
     "iopub.status.idle": "2022-03-06T14:48:35.748542Z",
     "shell.execute_reply": "2022-03-06T14:48:35.748061Z"
    }
   },
   "outputs": [],
   "source": [
    "from Bio.Restriction import AjiI"
   ]
  },
  {
   "cell_type": "markdown",
   "id": "e6b9fa12",
   "metadata": {},
   "source": [
    "The plasmid is linearized with the enzyme."
   ]
  },
  {
   "cell_type": "code",
   "execution_count": 4,
   "id": "3e6a051f",
   "metadata": {
    "execution": {
     "iopub.execute_input": "2022-03-06T14:48:35.750886Z",
     "iopub.status.busy": "2022-03-06T14:48:35.750659Z",
     "iopub.status.idle": "2022-03-06T14:48:35.756702Z",
     "shell.execute_reply": "2022-03-06T14:48:35.755831Z"
    }
   },
   "outputs": [],
   "source": [
    "pYPKa_AjiI  = pYPKa.linearize(AjiI)"
   ]
  },
  {
   "cell_type": "markdown",
   "id": "244096a4",
   "metadata": {},
   "source": [
    "Access to [Genbank](http://www.ncbi.nlm.nih.gov/nuccore) is needed in order to download the template.\n",
    "If the email address below is not yours, change it before executing this script as you must always give NCBI a way to contact you when using their service."
   ]
  },
  {
   "cell_type": "code",
   "execution_count": 5,
   "id": "2a6d651f",
   "metadata": {
    "execution": {
     "iopub.execute_input": "2022-03-06T14:48:35.760540Z",
     "iopub.status.busy": "2022-03-06T14:48:35.760233Z",
     "iopub.status.idle": "2022-03-06T14:48:35.764494Z",
     "shell.execute_reply": "2022-03-06T14:48:35.763802Z"
    }
   },
   "outputs": [],
   "source": [
    "gb = Genbank(\"bjornjobb@gmail.com\")"
   ]
  },
  {
   "cell_type": "markdown",
   "id": "45259237",
   "metadata": {},
   "source": [
    "The template is downloaded from Genbank below."
   ]
  },
  {
   "cell_type": "code",
   "execution_count": 6,
   "id": "470d8ea4",
   "metadata": {
    "execution": {
     "iopub.execute_input": "2022-03-06T14:48:35.767350Z",
     "iopub.status.busy": "2022-03-06T14:48:35.767144Z",
     "iopub.status.idle": "2022-03-06T14:48:35.782715Z",
     "shell.execute_reply": "2022-03-06T14:48:35.782127Z"
    }
   },
   "outputs": [
    {
     "data": {
      "text/html": [
       "<a href='https://www.ncbi.nlm.nih.gov/nuccore/ NC_000913 ?from=424337&to=424918&strand=2' target='_blank'> NC_000913  424337-424918</a>"
      ],
      "text/plain": [
       "Gbank( NC_000913  424337-424918)(-582)"
      ]
     },
     "execution_count": 6,
     "metadata": {},
     "output_type": "execute_result"
    }
   ],
   "source": [
    "template  = gb.nucleotide(\" NC_000913 REGION: complement(424337..424918)\")\n",
    "template"
   ]
  },
  {
   "cell_type": "markdown",
   "id": "36f27a76",
   "metadata": {},
   "source": [
    "The two primers below are used to amplify the insert."
   ]
  },
  {
   "cell_type": "code",
   "execution_count": 7,
   "id": "899a241b",
   "metadata": {
    "execution": {
     "iopub.execute_input": "2022-03-06T14:48:35.785131Z",
     "iopub.status.busy": "2022-03-06T14:48:35.784942Z",
     "iopub.status.idle": "2022-03-06T14:48:35.788351Z",
     "shell.execute_reply": "2022-03-06T14:48:35.787847Z"
    }
   },
   "outputs": [],
   "source": [
    "fp,rp =  parse_primers(\"\"\">868_EcacpH_fw\n",
    "                          aaATGAATTTTTTAGCTCACCTG\n",
    "                          >867_EcacpH_rv\n",
    "                          TTATAACGCCTTGCGTGACGC\"\"\")"
   ]
  },
  {
   "cell_type": "markdown",
   "id": "4af60c02",
   "metadata": {},
   "source": [
    "The gene is amplifed using the primers specified above."
   ]
  },
  {
   "cell_type": "code",
   "execution_count": 8,
   "id": "50ab6b8b",
   "metadata": {
    "execution": {
     "iopub.execute_input": "2022-03-06T14:48:35.791981Z",
     "iopub.status.busy": "2022-03-06T14:48:35.791710Z",
     "iopub.status.idle": "2022-03-06T14:48:35.801897Z",
     "shell.execute_reply": "2022-03-06T14:48:35.801253Z"
    }
   },
   "outputs": [],
   "source": [
    "ins = pcr(fp, rp, template)"
   ]
  },
  {
   "cell_type": "markdown",
   "id": "ff39a4f8",
   "metadata": {},
   "source": [
    "The primers anneal on the template like this."
   ]
  },
  {
   "cell_type": "code",
   "execution_count": 9,
   "id": "a8f8a0e4",
   "metadata": {
    "execution": {
     "iopub.execute_input": "2022-03-06T14:48:35.804987Z",
     "iopub.status.busy": "2022-03-06T14:48:35.804729Z",
     "iopub.status.idle": "2022-03-06T14:48:35.809586Z",
     "shell.execute_reply": "2022-03-06T14:48:35.808840Z"
    }
   },
   "outputs": [
    {
     "data": {
      "text/plain": [
       "  5ATGAATTTTTTAGCTCACCTG...GCGTCACGCAAGGCGTTATAA3\n",
       "                           |||||||||||||||||||||\n",
       "                          3CGCAGTGCGTTCCGCAATATT5\n",
       "5aaATGAATTTTTTAGCTCACCTG3\n",
       "   |||||||||||||||||||||\n",
       "  3TACTTAAAAAATCGAGTGGAC...CGCAGTGCGTTCCGCAATATT5"
      ]
     },
     "execution_count": 9,
     "metadata": {},
     "output_type": "execute_result"
    }
   ],
   "source": [
    "ins.figure()"
   ]
  },
  {
   "cell_type": "markdown",
   "id": "cee5ff31",
   "metadata": {},
   "source": [
    "A suggested PCR program."
   ]
  },
  {
   "cell_type": "code",
   "execution_count": 10,
   "id": "928948ca",
   "metadata": {
    "execution": {
     "iopub.execute_input": "2022-03-06T14:48:35.812635Z",
     "iopub.status.busy": "2022-03-06T14:48:35.812368Z",
     "iopub.status.idle": "2022-03-06T14:48:35.817365Z",
     "shell.execute_reply": "2022-03-06T14:48:35.816717Z"
    }
   },
   "outputs": [
    {
     "data": {
      "text/plain": [
       "|95°C|95°C               |    |tmf:55.5\n",
       "|____|_____          72°C|72°C|tmr:66.3\n",
       "|3min|30s  \\ 58.1°C _____|____|45s/kb\n",
       "|    |      \\______/ 0:30|5min|GC 52%\n",
       "|    |       30s         |    |584bp"
      ]
     },
     "execution_count": 10,
     "metadata": {},
     "output_type": "execute_result"
    }
   ],
   "source": [
    "ins.program()"
   ]
  },
  {
   "cell_type": "markdown",
   "id": "1212d42b",
   "metadata": {},
   "source": [
    "The final vector is:"
   ]
  },
  {
   "cell_type": "code",
   "execution_count": 11,
   "id": "e4dba5ce",
   "metadata": {
    "execution": {
     "iopub.execute_input": "2022-03-06T14:48:35.821526Z",
     "iopub.status.busy": "2022-03-06T14:48:35.821329Z",
     "iopub.status.idle": "2022-03-06T14:48:35.989236Z",
     "shell.execute_reply": "2022-03-06T14:48:35.988190Z"
    }
   },
   "outputs": [],
   "source": [
    "pYPKa_A_EcacpH = (pYPKa_AjiI  + ins).looped().synced(\"gttctgatcctcgagcatcttaagaattc\")"
   ]
  },
  {
   "cell_type": "markdown",
   "id": "d49ce6f4",
   "metadata": {},
   "source": [
    "The vector with reverse insert is created below. This vector theoretically make up\n",
    "fifty percent of the clones. The PCR strategy below is used to identify the correct clones."
   ]
  },
  {
   "cell_type": "code",
   "execution_count": 12,
   "id": "5563593b",
   "metadata": {
    "execution": {
     "iopub.execute_input": "2022-03-06T14:48:35.993900Z",
     "iopub.status.busy": "2022-03-06T14:48:35.993498Z",
     "iopub.status.idle": "2022-03-06T14:48:36.154800Z",
     "shell.execute_reply": "2022-03-06T14:48:36.154212Z"
    }
   },
   "outputs": [],
   "source": [
    "pYPKa_A_EcacpHb = (pYPKa_AjiI  + ins.rc()).looped().synced(\"gttctgatcctcgagcatcttaagaattc\")"
   ]
  },
  {
   "cell_type": "markdown",
   "id": "3d9e6971",
   "metadata": {},
   "source": [
    "A combination of standard primers and the newly designed primers are\n",
    "used for the strategy to identify correct clones.\n",
    "Standard primers are listed [here](standard_primers.txt).\n",
    "The standard primers are read into a dictonary in the code cell below."
   ]
  },
  {
   "cell_type": "code",
   "execution_count": 13,
   "id": "fbe21fde",
   "metadata": {
    "execution": {
     "iopub.execute_input": "2022-03-06T14:48:36.157580Z",
     "iopub.status.busy": "2022-03-06T14:48:36.157365Z",
     "iopub.status.idle": "2022-03-06T14:48:36.162196Z",
     "shell.execute_reply": "2022-03-06T14:48:36.161559Z"
    }
   },
   "outputs": [],
   "source": [
    "p = { x.id: x for x in parse_primers(\"standard_primers.txt\") }"
   ]
  },
  {
   "cell_type": "markdown",
   "id": "bfaa4139",
   "metadata": {},
   "source": [
    "## Diagnostic PCR confirmation of pYPKa_A_EcacpH\n",
    "The correct structure of pYPKa_A_EcacpH is confirmed by PCR using standard primers\n",
    "577 and 342 that are vector specific together with the EcacpHfw primer specific for the insert\n",
    "in a multiplex PCR reaction with three primers present in the PCR reaction.\n",
    "\n",
    "Two PCR products are expected if the insert was sucessfully cloned, sizes depending\n",
    "on the orientation of the insert.\n",
    "If the vector is empty, only one short product is formed.\n",
    "\n",
    "## Expected PCR products sizes:\n",
    "\n",
    "pYPKa_A_EcacpH with insert in correct orientation."
   ]
  },
  {
   "cell_type": "code",
   "execution_count": 14,
   "id": "9c35d98c",
   "metadata": {
    "execution": {
     "iopub.execute_input": "2022-03-06T14:48:36.165210Z",
     "iopub.status.busy": "2022-03-06T14:48:36.164979Z",
     "iopub.status.idle": "2022-03-06T14:48:36.178761Z",
     "shell.execute_reply": "2022-03-06T14:48:36.178228Z"
    }
   },
   "outputs": [
    {
     "data": {
      "text/plain": [
       "[Amplicon(1518), Amplicon(1300)]"
      ]
     },
     "execution_count": 14,
     "metadata": {},
     "output_type": "execute_result"
    }
   ],
   "source": [
    "Anneal( (p['577'], p['342'], fp), pYPKa_A_EcacpH).products"
   ]
  },
  {
   "cell_type": "markdown",
   "id": "f41924a3",
   "metadata": {},
   "source": [
    "pYPKa_A_EcacpH with insert in reverse orientation."
   ]
  },
  {
   "cell_type": "code",
   "execution_count": 15,
   "id": "164bee25",
   "metadata": {
    "execution": {
     "iopub.execute_input": "2022-03-06T14:48:36.181503Z",
     "iopub.status.busy": "2022-03-06T14:48:36.181313Z",
     "iopub.status.idle": "2022-03-06T14:48:36.191940Z",
     "shell.execute_reply": "2022-03-06T14:48:36.191406Z"
    }
   },
   "outputs": [
    {
     "data": {
      "text/plain": [
       "[Amplicon(1518), Amplicon(802)]"
      ]
     },
     "execution_count": 15,
     "metadata": {},
     "output_type": "execute_result"
    }
   ],
   "source": [
    "Anneal( (p['577'], p['342'], fp), pYPKa_A_EcacpHb).products"
   ]
  },
  {
   "cell_type": "markdown",
   "id": "e9345c8c",
   "metadata": {},
   "source": [
    "Empty clone"
   ]
  },
  {
   "cell_type": "code",
   "execution_count": 16,
   "id": "9306a741",
   "metadata": {
    "execution": {
     "iopub.execute_input": "2022-03-06T14:48:36.194265Z",
     "iopub.status.busy": "2022-03-06T14:48:36.194044Z",
     "iopub.status.idle": "2022-03-06T14:48:36.203144Z",
     "shell.execute_reply": "2022-03-06T14:48:36.202541Z"
    }
   },
   "outputs": [
    {
     "data": {
      "text/plain": [
       "[Amplicon(934)]"
      ]
     },
     "execution_count": 16,
     "metadata": {},
     "output_type": "execute_result"
    }
   ],
   "source": [
    "Anneal( (p['577'], p['342'], fp), pYPKa).products"
   ]
  },
  {
   "cell_type": "markdown",
   "id": "8c0ae71e",
   "metadata": {},
   "source": [
    "The cseguid checksum for the resulting plasmid is calculated for future reference.\n",
    "The [cseguid checksum](http://pydna.readthedocs.org/en/latest/pydna.html#pydna.utils.cseguid)\n",
    "uniquely identifies a circular double stranded sequence."
   ]
  },
  {
   "cell_type": "code",
   "execution_count": 17,
   "id": "990c3b2f",
   "metadata": {
    "execution": {
     "iopub.execute_input": "2022-03-06T14:48:36.206047Z",
     "iopub.status.busy": "2022-03-06T14:48:36.205835Z",
     "iopub.status.idle": "2022-03-06T14:48:36.213409Z",
     "shell.execute_reply": "2022-03-06T14:48:36.212856Z"
    }
   },
   "outputs": [
    {
     "data": {
      "text/plain": [
       "q57RyGZNeeL1idS9Iw5-d333XPg"
      ]
     },
     "execution_count": 17,
     "metadata": {},
     "output_type": "execute_result"
    }
   ],
   "source": [
    "pYPKa_A_EcacpH.cseguid()"
   ]
  },
  {
   "cell_type": "markdown",
   "id": "041dd13e",
   "metadata": {},
   "source": [
    "The file is given a name based on the cloned insert"
   ]
  },
  {
   "cell_type": "code",
   "execution_count": 18,
   "id": "4ef4ba2f",
   "metadata": {
    "execution": {
     "iopub.execute_input": "2022-03-06T14:48:36.215718Z",
     "iopub.status.busy": "2022-03-06T14:48:36.215542Z",
     "iopub.status.idle": "2022-03-06T14:48:36.218489Z",
     "shell.execute_reply": "2022-03-06T14:48:36.217872Z"
    }
   },
   "outputs": [],
   "source": [
    "pYPKa_A_EcacpH.locus = \"pYPKa_A_EcacpH\"[:16]"
   ]
  },
  {
   "cell_type": "markdown",
   "id": "aa9580d4",
   "metadata": {},
   "source": [
    "Sequence is stamped with the cseguid checksum.\n",
    "This can be used to verify the integrity of the sequence file."
   ]
  },
  {
   "cell_type": "code",
   "execution_count": 19,
   "id": "90b57b65",
   "metadata": {
    "execution": {
     "iopub.execute_input": "2022-03-06T14:48:36.220984Z",
     "iopub.status.busy": "2022-03-06T14:48:36.220697Z",
     "iopub.status.idle": "2022-03-06T14:48:36.229197Z",
     "shell.execute_reply": "2022-03-06T14:48:36.228621Z"
    }
   },
   "outputs": [
    {
     "data": {
      "text/plain": [
       "cSEGUID_q57RyGZNeeL1idS9Iw5-d333XPg"
      ]
     },
     "execution_count": 19,
     "metadata": {},
     "output_type": "execute_result"
    }
   ],
   "source": [
    "pYPKa_A_EcacpH.stamp()"
   ]
  },
  {
   "cell_type": "markdown",
   "id": "82b0cced",
   "metadata": {},
   "source": [
    "The sequence is written to a local file."
   ]
  },
  {
   "cell_type": "code",
   "execution_count": 20,
   "id": "4a050b66",
   "metadata": {
    "execution": {
     "iopub.execute_input": "2022-03-06T14:48:36.231679Z",
     "iopub.status.busy": "2022-03-06T14:48:36.231474Z",
     "iopub.status.idle": "2022-03-06T14:48:36.236262Z",
     "shell.execute_reply": "2022-03-06T14:48:36.235452Z"
    }
   },
   "outputs": [
    {
     "data": {
      "text/html": [
       "<font face=monospace><a href='pYPKa_A_EcacpH.gb' target='_blank'>pYPKa_A_EcacpH.gb</a></font><br>"
      ]
     },
     "metadata": {},
     "output_type": "display_data"
    }
   ],
   "source": [
    "pYPKa_A_EcacpH.write(\"pYPKa_A_EcacpH.gb\")"
   ]
  }
 ],
 "metadata": {
  "language_info": {
   "codemirror_mode": {
    "name": "ipython",
    "version": 3
   },
   "file_extension": ".py",
   "mimetype": "text/x-python",
   "name": "python",
   "nbconvert_exporter": "python",
   "pygments_lexer": "ipython3",
   "version": "3.9.7"
  }
 },
 "nbformat": 4,
 "nbformat_minor": 5
}
