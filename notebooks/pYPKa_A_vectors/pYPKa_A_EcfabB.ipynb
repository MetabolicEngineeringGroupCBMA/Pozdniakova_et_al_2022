{
 "cells": [
  {
   "cell_type": "markdown",
   "id": "de5b6b31",
   "metadata": {},
   "source": [
    "# Construction of pYPKa_A_EcfabB\n",
    "\n",
    "This notebook describe the construction of the _E. coli_ vector [pYPKa_A_EcfabB](pYPKa_A_EcfabB.gb).\n",
    "\n",
    "![pYPKa_A plasmid](pYPK_A.png \"pYPKa_A plasmid\")\n",
    "\n",
    "A part of the [pydna](https://pypi.python.org/pypi/pydna/) package is imported in the code cell below."
   ]
  },
  {
   "cell_type": "code",
   "execution_count": 1,
   "id": "14061a62",
   "metadata": {
    "execution": {
     "iopub.execute_input": "2022-03-06T14:48:47.931021Z",
     "iopub.status.busy": "2022-03-06T14:48:47.930613Z",
     "iopub.status.idle": "2022-03-06T14:48:48.235444Z",
     "shell.execute_reply": "2022-03-06T14:48:48.234860Z"
    }
   },
   "outputs": [],
   "source": [
    "from pydna.readers import read\n",
    "from pydna.genbank import Genbank\n",
    "from pydna.parsers import parse_primers\n",
    "from pydna.amplify import pcr\n",
    "from pydna.amplify import Anneal"
   ]
  },
  {
   "cell_type": "markdown",
   "id": "ae9439c7",
   "metadata": {},
   "source": [
    "The vector backbone [pYPKa](pYPKa.gb) is read from a local file."
   ]
  },
  {
   "cell_type": "code",
   "execution_count": 2,
   "id": "58580e2a",
   "metadata": {
    "execution": {
     "iopub.execute_input": "2022-03-06T14:48:48.238340Z",
     "iopub.status.busy": "2022-03-06T14:48:48.238101Z",
     "iopub.status.idle": "2022-03-06T14:48:48.251771Z",
     "shell.execute_reply": "2022-03-06T14:48:48.251182Z"
    }
   },
   "outputs": [],
   "source": [
    "pYPKa = read(\"pYPKa.gb\")"
   ]
  },
  {
   "cell_type": "markdown",
   "id": "0ac7385f",
   "metadata": {},
   "source": [
    "The restriction enzyme [AjiI](http://rebase.neb.com/rebase/enz/AjiI.html) is imported from [Biopython](http://biopython.org)"
   ]
  },
  {
   "cell_type": "code",
   "execution_count": 3,
   "id": "ef7c6429",
   "metadata": {
    "execution": {
     "iopub.execute_input": "2022-03-06T14:48:48.254807Z",
     "iopub.status.busy": "2022-03-06T14:48:48.254602Z",
     "iopub.status.idle": "2022-03-06T14:48:48.257968Z",
     "shell.execute_reply": "2022-03-06T14:48:48.257339Z"
    }
   },
   "outputs": [],
   "source": [
    "from Bio.Restriction import AjiI"
   ]
  },
  {
   "cell_type": "markdown",
   "id": "a441e14d",
   "metadata": {},
   "source": [
    "The plasmid is linearized with the enzyme."
   ]
  },
  {
   "cell_type": "code",
   "execution_count": 4,
   "id": "54ad49e3",
   "metadata": {
    "execution": {
     "iopub.execute_input": "2022-03-06T14:48:48.260863Z",
     "iopub.status.busy": "2022-03-06T14:48:48.260612Z",
     "iopub.status.idle": "2022-03-06T14:48:48.266508Z",
     "shell.execute_reply": "2022-03-06T14:48:48.265452Z"
    }
   },
   "outputs": [],
   "source": [
    "pYPKa_AjiI  = pYPKa.linearize(AjiI)"
   ]
  },
  {
   "cell_type": "markdown",
   "id": "f837ac27",
   "metadata": {},
   "source": [
    "Access to [Genbank](http://www.ncbi.nlm.nih.gov/nuccore) is needed in order to download the template.\n",
    "If the email address below is not yours, change it before executing this script as you must always give NCBI a way to contact you when using their service."
   ]
  },
  {
   "cell_type": "code",
   "execution_count": 5,
   "id": "0071a43f",
   "metadata": {
    "execution": {
     "iopub.execute_input": "2022-03-06T14:48:48.269723Z",
     "iopub.status.busy": "2022-03-06T14:48:48.269452Z",
     "iopub.status.idle": "2022-03-06T14:48:48.273820Z",
     "shell.execute_reply": "2022-03-06T14:48:48.272960Z"
    }
   },
   "outputs": [],
   "source": [
    "gb = Genbank(\"bjornjobb@gmail.com\")"
   ]
  },
  {
   "cell_type": "markdown",
   "id": "fc4fd083",
   "metadata": {},
   "source": [
    "The template is downloaded from Genbank below."
   ]
  },
  {
   "cell_type": "code",
   "execution_count": 6,
   "id": "b168cb38",
   "metadata": {
    "execution": {
     "iopub.execute_input": "2022-03-06T14:48:48.277006Z",
     "iopub.status.busy": "2022-03-06T14:48:48.276711Z",
     "iopub.status.idle": "2022-03-06T14:48:49.813431Z",
     "shell.execute_reply": "2022-03-06T14:48:49.812751Z"
    }
   },
   "outputs": [
    {
     "data": {
      "text/html": [
       "<a href='https://www.ncbi.nlm.nih.gov/nuccore/ NC_000913 ?from=2440385&to=2441605&strand=2' target='_blank'> NC_000913  2440385-2441605</a>"
      ],
      "text/plain": [
       "Gbank( NC_000913  2440385-2441605)(-1221)"
      ]
     },
     "execution_count": 6,
     "metadata": {},
     "output_type": "execute_result"
    }
   ],
   "source": [
    "template  = gb.nucleotide(\" NC_000913 REGION: complement(2440385..2441605)\")\n",
    "template"
   ]
  },
  {
   "cell_type": "markdown",
   "id": "87e0cc7c",
   "metadata": {},
   "source": [
    "The two primers below are used to amplify the insert."
   ]
  },
  {
   "cell_type": "code",
   "execution_count": 7,
   "id": "6352aae6",
   "metadata": {
    "execution": {
     "iopub.execute_input": "2022-03-06T14:48:49.815912Z",
     "iopub.status.busy": "2022-03-06T14:48:49.815687Z",
     "iopub.status.idle": "2022-03-06T14:48:49.818985Z",
     "shell.execute_reply": "2022-03-06T14:48:49.818499Z"
    }
   },
   "outputs": [],
   "source": [
    "fp,rp =  parse_primers(\"\"\">710_EcfabB_fw\n",
    "                          aaATGAAACGTGCAGTGATTAC\n",
    "                          >711_EcfabB_rv\n",
    "                          TTAATCTTTCAGCTTGCG\"\"\")"
   ]
  },
  {
   "cell_type": "markdown",
   "id": "1c0f05ec",
   "metadata": {},
   "source": [
    "The gene is amplifed using the primers specified above."
   ]
  },
  {
   "cell_type": "code",
   "execution_count": 8,
   "id": "538d99e7",
   "metadata": {
    "execution": {
     "iopub.execute_input": "2022-03-06T14:48:49.821607Z",
     "iopub.status.busy": "2022-03-06T14:48:49.821164Z",
     "iopub.status.idle": "2022-03-06T14:48:49.829785Z",
     "shell.execute_reply": "2022-03-06T14:48:49.829128Z"
    }
   },
   "outputs": [],
   "source": [
    "ins = pcr(fp, rp, template)"
   ]
  },
  {
   "cell_type": "markdown",
   "id": "cc68a2eb",
   "metadata": {},
   "source": [
    "The primers anneal on the template like this."
   ]
  },
  {
   "cell_type": "code",
   "execution_count": 9,
   "id": "5881b6ae",
   "metadata": {
    "execution": {
     "iopub.execute_input": "2022-03-06T14:48:49.833068Z",
     "iopub.status.busy": "2022-03-06T14:48:49.832839Z",
     "iopub.status.idle": "2022-03-06T14:48:49.837749Z",
     "shell.execute_reply": "2022-03-06T14:48:49.836942Z"
    }
   },
   "outputs": [
    {
     "data": {
      "text/plain": [
       "  5ATGAAACGTGCAGTGATTAC...CGCAAGCTGAAAGATTAA3\n",
       "                          ||||||||||||||||||\n",
       "                         3GCGTTCGACTTTCTAATT5\n",
       "5aaATGAAACGTGCAGTGATTAC3\n",
       "   ||||||||||||||||||||\n",
       "  3TACTTTGCACGTCACTAATG...GCGTTCGACTTTCTAATT5"
      ]
     },
     "execution_count": 9,
     "metadata": {},
     "output_type": "execute_result"
    }
   ],
   "source": [
    "ins.figure()"
   ]
  },
  {
   "cell_type": "markdown",
   "id": "cfddc825",
   "metadata": {},
   "source": [
    "A suggested PCR program."
   ]
  },
  {
   "cell_type": "code",
   "execution_count": 10,
   "id": "d9f035a7",
   "metadata": {
    "execution": {
     "iopub.execute_input": "2022-03-06T14:48:49.841636Z",
     "iopub.status.busy": "2022-03-06T14:48:49.841360Z",
     "iopub.status.idle": "2022-03-06T14:48:49.847249Z",
     "shell.execute_reply": "2022-03-06T14:48:49.846490Z"
    }
   },
   "outputs": [
    {
     "data": {
      "text/plain": [
       "|95°C|95°C               |    |tmf:57.1\n",
       "|____|_____          72°C|72°C|tmr:53.7\n",
       "|3min|30s  \\ 59.0°C _____|____|45s/kb\n",
       "|    |      \\______/ 0:55|5min|GC 56%\n",
       "|    |       30s         |    |1223bp"
      ]
     },
     "execution_count": 10,
     "metadata": {},
     "output_type": "execute_result"
    }
   ],
   "source": [
    "ins.program()"
   ]
  },
  {
   "cell_type": "markdown",
   "id": "6d17c306",
   "metadata": {},
   "source": [
    "The final vector is:"
   ]
  },
  {
   "cell_type": "code",
   "execution_count": 11,
   "id": "0f1e4cc1",
   "metadata": {
    "execution": {
     "iopub.execute_input": "2022-03-06T14:48:49.850418Z",
     "iopub.status.busy": "2022-03-06T14:48:49.850134Z",
     "iopub.status.idle": "2022-03-06T14:48:50.042472Z",
     "shell.execute_reply": "2022-03-06T14:48:50.041867Z"
    }
   },
   "outputs": [],
   "source": [
    "pYPKa_A_EcfabB = (pYPKa_AjiI  + ins).looped().synced(\"gttctgatcctcgagcatcttaagaattc\")"
   ]
  },
  {
   "cell_type": "markdown",
   "id": "b40c398e",
   "metadata": {},
   "source": [
    "The vector with reverse insert is created below. This vector theoretically make up\n",
    "fifty percent of the clones. The PCR strategy below is used to identify the correct clones."
   ]
  },
  {
   "cell_type": "code",
   "execution_count": 12,
   "id": "75d3cd27",
   "metadata": {
    "execution": {
     "iopub.execute_input": "2022-03-06T14:48:50.045310Z",
     "iopub.status.busy": "2022-03-06T14:48:50.045046Z",
     "iopub.status.idle": "2022-03-06T14:48:50.233898Z",
     "shell.execute_reply": "2022-03-06T14:48:50.233356Z"
    }
   },
   "outputs": [],
   "source": [
    "pYPKa_A_EcfabBb = (pYPKa_AjiI  + ins.rc()).looped().synced(\"gttctgatcctcgagcatcttaagaattc\")"
   ]
  },
  {
   "cell_type": "markdown",
   "id": "62f6f9eb",
   "metadata": {},
   "source": [
    "A combination of standard primers and the newly designed primers are\n",
    "used for the strategy to identify correct clones.\n",
    "Standard primers are listed [here](standard_primers.txt).\n",
    "The standard primers are read into a dictonary in the code cell below."
   ]
  },
  {
   "cell_type": "code",
   "execution_count": 13,
   "id": "97e646d8",
   "metadata": {
    "execution": {
     "iopub.execute_input": "2022-03-06T14:48:50.236551Z",
     "iopub.status.busy": "2022-03-06T14:48:50.236367Z",
     "iopub.status.idle": "2022-03-06T14:48:50.240371Z",
     "shell.execute_reply": "2022-03-06T14:48:50.239828Z"
    }
   },
   "outputs": [],
   "source": [
    "p = { x.id: x for x in parse_primers(\"standard_primers.txt\") }"
   ]
  },
  {
   "cell_type": "markdown",
   "id": "e792f70f",
   "metadata": {},
   "source": [
    "## Diagnostic PCR confirmation of pYPKa_A_EcfabB\n",
    "The correct structure of pYPKa_A_EcfabB is confirmed by PCR using standard primers\n",
    "577 and 342 that are vector specific together with the EcfabBfw primer specific for the insert\n",
    "in a multiplex PCR reaction with three primers present in the PCR reaction.\n",
    "\n",
    "Two PCR products are expected if the insert was sucessfully cloned, sizes depending\n",
    "on the orientation of the insert.\n",
    "If the vector is empty, only one short product is formed.\n",
    "\n",
    "## Expected PCR products sizes:\n",
    "\n",
    "pYPKa_A_EcfabB with insert in correct orientation."
   ]
  },
  {
   "cell_type": "code",
   "execution_count": 14,
   "id": "b75e0d7e",
   "metadata": {
    "execution": {
     "iopub.execute_input": "2022-03-06T14:48:50.243162Z",
     "iopub.status.busy": "2022-03-06T14:48:50.242486Z",
     "iopub.status.idle": "2022-03-06T14:48:50.258389Z",
     "shell.execute_reply": "2022-03-06T14:48:50.257873Z"
    }
   },
   "outputs": [
    {
     "data": {
      "text/plain": [
       "[Amplicon(2157), Amplicon(1939)]"
      ]
     },
     "execution_count": 14,
     "metadata": {},
     "output_type": "execute_result"
    }
   ],
   "source": [
    "Anneal( (p['577'], p['342'], fp), pYPKa_A_EcfabB).products"
   ]
  },
  {
   "cell_type": "markdown",
   "id": "707c5896",
   "metadata": {},
   "source": [
    "pYPKa_A_EcfabB with insert in reverse orientation."
   ]
  },
  {
   "cell_type": "code",
   "execution_count": 15,
   "id": "f4d66630",
   "metadata": {
    "execution": {
     "iopub.execute_input": "2022-03-06T14:48:50.260839Z",
     "iopub.status.busy": "2022-03-06T14:48:50.260653Z",
     "iopub.status.idle": "2022-03-06T14:48:50.274590Z",
     "shell.execute_reply": "2022-03-06T14:48:50.274038Z"
    }
   },
   "outputs": [
    {
     "data": {
      "text/plain": [
       "[Amplicon(2157), Amplicon(1441)]"
      ]
     },
     "execution_count": 15,
     "metadata": {},
     "output_type": "execute_result"
    }
   ],
   "source": [
    "Anneal( (p['577'], p['342'], fp), pYPKa_A_EcfabBb).products"
   ]
  },
  {
   "cell_type": "markdown",
   "id": "8ef187a1",
   "metadata": {},
   "source": [
    "Empty clone"
   ]
  },
  {
   "cell_type": "code",
   "execution_count": 16,
   "id": "d362e32b",
   "metadata": {
    "execution": {
     "iopub.execute_input": "2022-03-06T14:48:50.276917Z",
     "iopub.status.busy": "2022-03-06T14:48:50.276712Z",
     "iopub.status.idle": "2022-03-06T14:48:50.284441Z",
     "shell.execute_reply": "2022-03-06T14:48:50.283739Z"
    }
   },
   "outputs": [
    {
     "data": {
      "text/plain": [
       "[Amplicon(934)]"
      ]
     },
     "execution_count": 16,
     "metadata": {},
     "output_type": "execute_result"
    }
   ],
   "source": [
    "Anneal( (p['577'], p['342'], fp), pYPKa).products"
   ]
  },
  {
   "cell_type": "markdown",
   "id": "982dc6c8",
   "metadata": {},
   "source": [
    "The cseguid checksum for the resulting plasmid is calculated for future reference.\n",
    "The [cseguid checksum](http://pydna.readthedocs.org/en/latest/pydna.html#pydna.utils.cseguid)\n",
    "uniquely identifies a circular double stranded sequence."
   ]
  },
  {
   "cell_type": "code",
   "execution_count": 17,
   "id": "800dd6a1",
   "metadata": {
    "execution": {
     "iopub.execute_input": "2022-03-06T14:48:50.287937Z",
     "iopub.status.busy": "2022-03-06T14:48:50.287643Z",
     "iopub.status.idle": "2022-03-06T14:48:50.296707Z",
     "shell.execute_reply": "2022-03-06T14:48:50.296050Z"
    }
   },
   "outputs": [
    {
     "data": {
      "text/plain": [
       "T40MV6MJ5CKHcVO5-Vd26ip28oQ"
      ]
     },
     "execution_count": 17,
     "metadata": {},
     "output_type": "execute_result"
    }
   ],
   "source": [
    "pYPKa_A_EcfabB.cseguid()"
   ]
  },
  {
   "cell_type": "markdown",
   "id": "6f5af5b3",
   "metadata": {},
   "source": [
    "The file is given a name based on the cloned insert"
   ]
  },
  {
   "cell_type": "code",
   "execution_count": 18,
   "id": "113e3bbe",
   "metadata": {
    "execution": {
     "iopub.execute_input": "2022-03-06T14:48:50.299608Z",
     "iopub.status.busy": "2022-03-06T14:48:50.299340Z",
     "iopub.status.idle": "2022-03-06T14:48:50.303934Z",
     "shell.execute_reply": "2022-03-06T14:48:50.302478Z"
    }
   },
   "outputs": [],
   "source": [
    "pYPKa_A_EcfabB.locus = \"pYPKa_A_EcfabB\"[:16]"
   ]
  },
  {
   "cell_type": "markdown",
   "id": "8fe2e175",
   "metadata": {},
   "source": [
    "Sequence is stamped with the cseguid checksum.\n",
    "This can be used to verify the integrity of the sequence file."
   ]
  },
  {
   "cell_type": "code",
   "execution_count": 19,
   "id": "3b74b778",
   "metadata": {
    "execution": {
     "iopub.execute_input": "2022-03-06T14:48:50.308340Z",
     "iopub.status.busy": "2022-03-06T14:48:50.308071Z",
     "iopub.status.idle": "2022-03-06T14:48:50.317668Z",
     "shell.execute_reply": "2022-03-06T14:48:50.316847Z"
    }
   },
   "outputs": [
    {
     "data": {
      "text/plain": [
       "cSEGUID_T40MV6MJ5CKHcVO5-Vd26ip28oQ"
      ]
     },
     "execution_count": 19,
     "metadata": {},
     "output_type": "execute_result"
    }
   ],
   "source": [
    "pYPKa_A_EcfabB.stamp()"
   ]
  },
  {
   "cell_type": "markdown",
   "id": "9d3c6d71",
   "metadata": {},
   "source": [
    "The sequence is written to a local file."
   ]
  },
  {
   "cell_type": "code",
   "execution_count": 20,
   "id": "d3485a65",
   "metadata": {
    "execution": {
     "iopub.execute_input": "2022-03-06T14:48:50.320378Z",
     "iopub.status.busy": "2022-03-06T14:48:50.320118Z",
     "iopub.status.idle": "2022-03-06T14:48:50.324483Z",
     "shell.execute_reply": "2022-03-06T14:48:50.323996Z"
    }
   },
   "outputs": [
    {
     "data": {
      "text/html": [
       "<font face=monospace><a href='pYPKa_A_EcfabB.gb' target='_blank'>pYPKa_A_EcfabB.gb</a></font><br>"
      ]
     },
     "metadata": {},
     "output_type": "display_data"
    }
   ],
   "source": [
    "pYPKa_A_EcfabB.write(\"pYPKa_A_EcfabB.gb\")"
   ]
  }
 ],
 "metadata": {
  "language_info": {
   "codemirror_mode": {
    "name": "ipython",
    "version": 3
   },
   "file_extension": ".py",
   "mimetype": "text/x-python",
   "name": "python",
   "nbconvert_exporter": "python",
   "pygments_lexer": "ipython3",
   "version": "3.9.7"
  }
 },
 "nbformat": 4,
 "nbformat_minor": 5
}
