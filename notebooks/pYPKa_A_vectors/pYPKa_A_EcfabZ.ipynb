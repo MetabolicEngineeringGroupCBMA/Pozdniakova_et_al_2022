{
 "cells": [
  {
   "cell_type": "markdown",
   "id": "4a47b594",
   "metadata": {},
   "source": [
    "# Construction of pYPKa_A_EcfabZ\n",
    "\n",
    "This notebook describe the construction of the _E. coli_ vector [pYPKa_A_EcfabZ](pYPKa_A_EcfabZ.gb).\n",
    "\n",
    "![pYPKa_A plasmid](pYPK_A.png \"pYPKa_A plasmid\")\n",
    "\n",
    "A part of the [pydna](https://pypi.python.org/pypi/pydna/) package is imported in the code cell below."
   ]
  },
  {
   "cell_type": "code",
   "execution_count": 1,
   "id": "a68f3144",
   "metadata": {
    "execution": {
     "iopub.execute_input": "2022-03-06T14:49:05.769331Z",
     "iopub.status.busy": "2022-03-06T14:49:05.768869Z",
     "iopub.status.idle": "2022-03-06T14:49:06.077581Z",
     "shell.execute_reply": "2022-03-06T14:49:06.076950Z"
    }
   },
   "outputs": [],
   "source": [
    "from pydna.readers import read\n",
    "from pydna.genbank import Genbank\n",
    "from pydna.parsers import parse_primers\n",
    "from pydna.amplify import pcr\n",
    "from pydna.amplify import Anneal"
   ]
  },
  {
   "cell_type": "markdown",
   "id": "5f27201f",
   "metadata": {},
   "source": [
    "The vector backbone [pYPKa](pYPKa.gb) is read from a local file."
   ]
  },
  {
   "cell_type": "code",
   "execution_count": 2,
   "id": "87eb7661",
   "metadata": {
    "execution": {
     "iopub.execute_input": "2022-03-06T14:49:06.080365Z",
     "iopub.status.busy": "2022-03-06T14:49:06.080178Z",
     "iopub.status.idle": "2022-03-06T14:49:06.094846Z",
     "shell.execute_reply": "2022-03-06T14:49:06.094343Z"
    }
   },
   "outputs": [],
   "source": [
    "pYPKa = read(\"pYPKa.gb\")"
   ]
  },
  {
   "cell_type": "markdown",
   "id": "5f061aee",
   "metadata": {},
   "source": [
    "The restriction enzyme [AjiI](http://rebase.neb.com/rebase/enz/AjiI.html) is imported from [Biopython](http://biopython.org)"
   ]
  },
  {
   "cell_type": "code",
   "execution_count": 3,
   "id": "520f17a6",
   "metadata": {
    "execution": {
     "iopub.execute_input": "2022-03-06T14:49:06.097494Z",
     "iopub.status.busy": "2022-03-06T14:49:06.097309Z",
     "iopub.status.idle": "2022-03-06T14:49:06.100156Z",
     "shell.execute_reply": "2022-03-06T14:49:06.099625Z"
    }
   },
   "outputs": [],
   "source": [
    "from Bio.Restriction import AjiI"
   ]
  },
  {
   "cell_type": "markdown",
   "id": "4df72d4d",
   "metadata": {},
   "source": [
    "The plasmid is linearized with the enzyme."
   ]
  },
  {
   "cell_type": "code",
   "execution_count": 4,
   "id": "71fe9d5c",
   "metadata": {
    "execution": {
     "iopub.execute_input": "2022-03-06T14:49:06.104093Z",
     "iopub.status.busy": "2022-03-06T14:49:06.103767Z",
     "iopub.status.idle": "2022-03-06T14:49:06.111597Z",
     "shell.execute_reply": "2022-03-06T14:49:06.110808Z"
    }
   },
   "outputs": [],
   "source": [
    "pYPKa_AjiI  = pYPKa.linearize(AjiI)"
   ]
  },
  {
   "cell_type": "markdown",
   "id": "06d9829e",
   "metadata": {},
   "source": [
    "Access to [Genbank](http://www.ncbi.nlm.nih.gov/nuccore) is needed in order to download the template.\n",
    "If the email address below is not yours, change it before executing this script as you must always give NCBI a way to contact you when using their service."
   ]
  },
  {
   "cell_type": "code",
   "execution_count": 5,
   "id": "72f31440",
   "metadata": {
    "execution": {
     "iopub.execute_input": "2022-03-06T14:49:06.114528Z",
     "iopub.status.busy": "2022-03-06T14:49:06.114320Z",
     "iopub.status.idle": "2022-03-06T14:49:06.118619Z",
     "shell.execute_reply": "2022-03-06T14:49:06.117742Z"
    }
   },
   "outputs": [],
   "source": [
    "gb = Genbank(\"bjornjobb@gmail.com\")"
   ]
  },
  {
   "cell_type": "markdown",
   "id": "f1c95f14",
   "metadata": {},
   "source": [
    "The template is downloaded from Genbank below."
   ]
  },
  {
   "cell_type": "code",
   "execution_count": 6,
   "id": "68eaa7ac",
   "metadata": {
    "execution": {
     "iopub.execute_input": "2022-03-06T14:49:06.122037Z",
     "iopub.status.busy": "2022-03-06T14:49:06.121737Z",
     "iopub.status.idle": "2022-03-06T14:49:07.714575Z",
     "shell.execute_reply": "2022-03-06T14:49:07.713877Z"
    }
   },
   "outputs": [
    {
     "data": {
      "text/html": [
       "<a href='https://www.ncbi.nlm.nih.gov/nuccore/ NC_000913 ?from=202101&to=202556&strand=1' target='_blank'> NC_000913  202101-202556</a>"
      ],
      "text/plain": [
       "Gbank( NC_000913  202101-202556)(-456)"
      ]
     },
     "execution_count": 6,
     "metadata": {},
     "output_type": "execute_result"
    }
   ],
   "source": [
    "template  = gb.nucleotide(\" NC_000913 REGION: 202101..202556\")\n",
    "template"
   ]
  },
  {
   "cell_type": "markdown",
   "id": "49a24940",
   "metadata": {},
   "source": [
    "The two primers below are used to amplify the insert."
   ]
  },
  {
   "cell_type": "code",
   "execution_count": 7,
   "id": "0d707d83",
   "metadata": {
    "execution": {
     "iopub.execute_input": "2022-03-06T14:49:07.718382Z",
     "iopub.status.busy": "2022-03-06T14:49:07.718056Z",
     "iopub.status.idle": "2022-03-06T14:49:07.723069Z",
     "shell.execute_reply": "2022-03-06T14:49:07.722156Z"
    }
   },
   "outputs": [],
   "source": [
    "fp,rp =  parse_primers(\"\"\">718_EcfabZ_fw\n",
    "                          aaATGACTACTAACACTCATACTCTGCAG\n",
    "                          >719_EcfabZ_rv\n",
    "                          TCAGGCCTCCCGGCTA\"\"\")"
   ]
  },
  {
   "cell_type": "markdown",
   "id": "79f56758",
   "metadata": {},
   "source": [
    "The gene is amplifed using the primers specified above."
   ]
  },
  {
   "cell_type": "code",
   "execution_count": 8,
   "id": "76cac03f",
   "metadata": {
    "execution": {
     "iopub.execute_input": "2022-03-06T14:49:07.726689Z",
     "iopub.status.busy": "2022-03-06T14:49:07.726380Z",
     "iopub.status.idle": "2022-03-06T14:49:07.735952Z",
     "shell.execute_reply": "2022-03-06T14:49:07.735361Z"
    }
   },
   "outputs": [],
   "source": [
    "ins = pcr(fp, rp, template)"
   ]
  },
  {
   "cell_type": "markdown",
   "id": "bd1dde73",
   "metadata": {},
   "source": [
    "The primers anneal on the template like this."
   ]
  },
  {
   "cell_type": "code",
   "execution_count": 9,
   "id": "20bc560b",
   "metadata": {
    "execution": {
     "iopub.execute_input": "2022-03-06T14:49:07.739197Z",
     "iopub.status.busy": "2022-03-06T14:49:07.738915Z",
     "iopub.status.idle": "2022-03-06T14:49:07.743618Z",
     "shell.execute_reply": "2022-03-06T14:49:07.742923Z"
    }
   },
   "outputs": [
    {
     "data": {
      "text/plain": [
       "   5TGACTACTAACACTCATACTCTGCAG...TAGCCGGGAGGCCTGA3\n",
       "                                 ||||||||||||||||\n",
       "                                3ATCGGCCCTCCGGACT5\n",
       "5aaATGACTACTAACACTCATACTCTGCAG3\n",
       "    ||||||||||||||||||||||||||\n",
       "   3ACTGATGATTGTGAGTATGAGACGTC...ATCGGCCCTCCGGACT5"
      ]
     },
     "execution_count": 9,
     "metadata": {},
     "output_type": "execute_result"
    }
   ],
   "source": [
    "ins.figure()"
   ]
  },
  {
   "cell_type": "markdown",
   "id": "95ef9706",
   "metadata": {},
   "source": [
    "A suggested PCR program."
   ]
  },
  {
   "cell_type": "code",
   "execution_count": 10,
   "id": "51b2e49e",
   "metadata": {
    "execution": {
     "iopub.execute_input": "2022-03-06T14:49:07.746675Z",
     "iopub.status.busy": "2022-03-06T14:49:07.746409Z",
     "iopub.status.idle": "2022-03-06T14:49:07.751470Z",
     "shell.execute_reply": "2022-03-06T14:49:07.750751Z"
    }
   },
   "outputs": [
    {
     "data": {
      "text/plain": [
       "|95°C|95°C               |    |tmf:63.5\n",
       "|____|_____          72°C|72°C|tmr:68.9\n",
       "|3min|30s  \\ 59.4°C _____|____|45s/kb\n",
       "|    |      \\______/ 0:30|5min|GC 50%\n",
       "|    |       30s         |    |458bp"
      ]
     },
     "execution_count": 10,
     "metadata": {},
     "output_type": "execute_result"
    }
   ],
   "source": [
    "ins.program()"
   ]
  },
  {
   "cell_type": "markdown",
   "id": "238afff0",
   "metadata": {},
   "source": [
    "The final vector is:"
   ]
  },
  {
   "cell_type": "code",
   "execution_count": 11,
   "id": "070dc924",
   "metadata": {
    "execution": {
     "iopub.execute_input": "2022-03-06T14:49:07.754659Z",
     "iopub.status.busy": "2022-03-06T14:49:07.754386Z",
     "iopub.status.idle": "2022-03-06T14:49:07.912510Z",
     "shell.execute_reply": "2022-03-06T14:49:07.911911Z"
    }
   },
   "outputs": [],
   "source": [
    "pYPKa_A_EcfabZ = (pYPKa_AjiI  + ins).looped().synced(\"gttctgatcctcgagcatcttaagaattc\")"
   ]
  },
  {
   "cell_type": "markdown",
   "id": "3a2ede89",
   "metadata": {},
   "source": [
    "The vector with reverse insert is created below. This vector theoretically make up\n",
    "fifty percent of the clones. The PCR strategy below is used to identify the correct clones."
   ]
  },
  {
   "cell_type": "code",
   "execution_count": 12,
   "id": "ac5e45cb",
   "metadata": {
    "execution": {
     "iopub.execute_input": "2022-03-06T14:49:07.915209Z",
     "iopub.status.busy": "2022-03-06T14:49:07.914986Z",
     "iopub.status.idle": "2022-03-06T14:49:08.069191Z",
     "shell.execute_reply": "2022-03-06T14:49:08.068649Z"
    }
   },
   "outputs": [],
   "source": [
    "pYPKa_A_EcfabZb = (pYPKa_AjiI  + ins.rc()).looped().synced(\"gttctgatcctcgagcatcttaagaattc\")"
   ]
  },
  {
   "cell_type": "markdown",
   "id": "2d218f48",
   "metadata": {},
   "source": [
    "A combination of standard primers and the newly designed primers are\n",
    "used for the strategy to identify correct clones.\n",
    "Standard primers are listed [here](standard_primers.txt).\n",
    "The standard primers are read into a dictonary in the code cell below."
   ]
  },
  {
   "cell_type": "code",
   "execution_count": 13,
   "id": "21ba2760",
   "metadata": {
    "execution": {
     "iopub.execute_input": "2022-03-06T14:49:08.071837Z",
     "iopub.status.busy": "2022-03-06T14:49:08.071588Z",
     "iopub.status.idle": "2022-03-06T14:49:08.075591Z",
     "shell.execute_reply": "2022-03-06T14:49:08.075120Z"
    }
   },
   "outputs": [],
   "source": [
    "p = { x.id: x for x in parse_primers(\"standard_primers.txt\") }"
   ]
  },
  {
   "cell_type": "markdown",
   "id": "ecc948cd",
   "metadata": {},
   "source": [
    "## Diagnostic PCR confirmation of pYPKa_A_EcfabZ\n",
    "The correct structure of pYPKa_A_EcfabZ is confirmed by PCR using standard primers\n",
    "577 and 342 that are vector specific together with the EcfabZfw primer specific for the insert\n",
    "in a multiplex PCR reaction with three primers present in the PCR reaction.\n",
    "\n",
    "Two PCR products are expected if the insert was sucessfully cloned, sizes depending\n",
    "on the orientation of the insert.\n",
    "If the vector is empty, only one short product is formed.\n",
    "\n",
    "## Expected PCR products sizes:\n",
    "\n",
    "pYPKa_A_EcfabZ with insert in correct orientation."
   ]
  },
  {
   "cell_type": "code",
   "execution_count": 14,
   "id": "5d4a5a85",
   "metadata": {
    "execution": {
     "iopub.execute_input": "2022-03-06T14:49:08.078527Z",
     "iopub.status.busy": "2022-03-06T14:49:08.078203Z",
     "iopub.status.idle": "2022-03-06T14:49:08.090957Z",
     "shell.execute_reply": "2022-03-06T14:49:08.090431Z"
    }
   },
   "outputs": [
    {
     "data": {
      "text/plain": [
       "[Amplicon(1392), Amplicon(1174)]"
      ]
     },
     "execution_count": 14,
     "metadata": {},
     "output_type": "execute_result"
    }
   ],
   "source": [
    "Anneal( (p['577'], p['342'], fp), pYPKa_A_EcfabZ).products"
   ]
  },
  {
   "cell_type": "markdown",
   "id": "eac35583",
   "metadata": {},
   "source": [
    "pYPKa_A_EcfabZ with insert in reverse orientation."
   ]
  },
  {
   "cell_type": "code",
   "execution_count": 15,
   "id": "78536caa",
   "metadata": {
    "execution": {
     "iopub.execute_input": "2022-03-06T14:49:08.093280Z",
     "iopub.status.busy": "2022-03-06T14:49:08.093022Z",
     "iopub.status.idle": "2022-03-06T14:49:08.102967Z",
     "shell.execute_reply": "2022-03-06T14:49:08.102456Z"
    }
   },
   "outputs": [
    {
     "data": {
      "text/plain": [
       "[Amplicon(1392), Amplicon(676)]"
      ]
     },
     "execution_count": 15,
     "metadata": {},
     "output_type": "execute_result"
    }
   ],
   "source": [
    "Anneal( (p['577'], p['342'], fp), pYPKa_A_EcfabZb).products"
   ]
  },
  {
   "cell_type": "markdown",
   "id": "e8c8acc0",
   "metadata": {},
   "source": [
    "Empty clone"
   ]
  },
  {
   "cell_type": "code",
   "execution_count": 16,
   "id": "df0fe950",
   "metadata": {
    "execution": {
     "iopub.execute_input": "2022-03-06T14:49:08.105779Z",
     "iopub.status.busy": "2022-03-06T14:49:08.105484Z",
     "iopub.status.idle": "2022-03-06T14:49:08.115238Z",
     "shell.execute_reply": "2022-03-06T14:49:08.114548Z"
    }
   },
   "outputs": [
    {
     "data": {
      "text/plain": [
       "[Amplicon(934)]"
      ]
     },
     "execution_count": 16,
     "metadata": {},
     "output_type": "execute_result"
    }
   ],
   "source": [
    "Anneal( (p['577'], p['342'], fp), pYPKa).products"
   ]
  },
  {
   "cell_type": "markdown",
   "id": "40359df1",
   "metadata": {},
   "source": [
    "The cseguid checksum for the resulting plasmid is calculated for future reference.\n",
    "The [cseguid checksum](http://pydna.readthedocs.org/en/latest/pydna.html#pydna.utils.cseguid)\n",
    "uniquely identifies a circular double stranded sequence."
   ]
  },
  {
   "cell_type": "code",
   "execution_count": 17,
   "id": "4514af89",
   "metadata": {
    "execution": {
     "iopub.execute_input": "2022-03-06T14:49:08.118344Z",
     "iopub.status.busy": "2022-03-06T14:49:08.118000Z",
     "iopub.status.idle": "2022-03-06T14:49:08.128550Z",
     "shell.execute_reply": "2022-03-06T14:49:08.127943Z"
    }
   },
   "outputs": [
    {
     "data": {
      "text/plain": [
       "ey9WAsmXdh9qWnQq0F5d0k8LMjc"
      ]
     },
     "execution_count": 17,
     "metadata": {},
     "output_type": "execute_result"
    }
   ],
   "source": [
    "pYPKa_A_EcfabZ.cseguid()"
   ]
  },
  {
   "cell_type": "markdown",
   "id": "ed545e28",
   "metadata": {},
   "source": [
    "The file is given a name based on the cloned insert"
   ]
  },
  {
   "cell_type": "code",
   "execution_count": 18,
   "id": "79a37c63",
   "metadata": {
    "execution": {
     "iopub.execute_input": "2022-03-06T14:49:08.131294Z",
     "iopub.status.busy": "2022-03-06T14:49:08.131093Z",
     "iopub.status.idle": "2022-03-06T14:49:08.134392Z",
     "shell.execute_reply": "2022-03-06T14:49:08.133787Z"
    }
   },
   "outputs": [],
   "source": [
    "pYPKa_A_EcfabZ.locus = \"pYPKa_A_EcfabZ\"[:16]"
   ]
  },
  {
   "cell_type": "markdown",
   "id": "70b1edf7",
   "metadata": {},
   "source": [
    "Sequence is stamped with the cseguid checksum.\n",
    "This can be used to verify the integrity of the sequence file."
   ]
  },
  {
   "cell_type": "code",
   "execution_count": 19,
   "id": "5532173a",
   "metadata": {
    "execution": {
     "iopub.execute_input": "2022-03-06T14:49:08.137165Z",
     "iopub.status.busy": "2022-03-06T14:49:08.136885Z",
     "iopub.status.idle": "2022-03-06T14:49:08.146236Z",
     "shell.execute_reply": "2022-03-06T14:49:08.145610Z"
    }
   },
   "outputs": [
    {
     "data": {
      "text/plain": [
       "cSEGUID_ey9WAsmXdh9qWnQq0F5d0k8LMjc"
      ]
     },
     "execution_count": 19,
     "metadata": {},
     "output_type": "execute_result"
    }
   ],
   "source": [
    "pYPKa_A_EcfabZ.stamp()"
   ]
  },
  {
   "cell_type": "markdown",
   "id": "ef05e751",
   "metadata": {},
   "source": [
    "The sequence is written to a local file."
   ]
  },
  {
   "cell_type": "code",
   "execution_count": 20,
   "id": "e79d7c5c",
   "metadata": {
    "execution": {
     "iopub.execute_input": "2022-03-06T14:49:08.148636Z",
     "iopub.status.busy": "2022-03-06T14:49:08.148426Z",
     "iopub.status.idle": "2022-03-06T14:49:08.152774Z",
     "shell.execute_reply": "2022-03-06T14:49:08.152134Z"
    }
   },
   "outputs": [
    {
     "data": {
      "text/html": [
       "<font face=monospace><a href='pYPKa_A_EcfabZ.gb' target='_blank'>pYPKa_A_EcfabZ.gb</a></font><br>"
      ]
     },
     "metadata": {},
     "output_type": "display_data"
    }
   ],
   "source": [
    "pYPKa_A_EcfabZ.write(\"pYPKa_A_EcfabZ.gb\")"
   ]
  }
 ],
 "metadata": {
  "language_info": {
   "codemirror_mode": {
    "name": "ipython",
    "version": 3
   },
   "file_extension": ".py",
   "mimetype": "text/x-python",
   "name": "python",
   "nbconvert_exporter": "python",
   "pygments_lexer": "ipython3",
   "version": "3.9.7"
  }
 },
 "nbformat": 4,
 "nbformat_minor": 5
}
