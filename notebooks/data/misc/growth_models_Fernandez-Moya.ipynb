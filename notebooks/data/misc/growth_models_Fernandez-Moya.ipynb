{
 "cells": [
  {
   "cell_type": "code",
   "execution_count": 1,
   "id": "f51c3987",
   "metadata": {},
   "outputs": [],
   "source": [
    "import numpy as np\n",
    "import matplotlib.pyplot as plt\n",
    "from scipy.optimize import curve_fit\n",
    "from pydna.utils import parse_text_table"
   ]
  },
  {
   "cell_type": "code",
   "execution_count": 2,
   "id": "5b497651",
   "metadata": {
    "lines_to_next_cell": 0
   },
   "outputs": [],
   "source": [
    "data = \"\"\"\\\n",
    "Time (h)\tOD600\n",
    "0.000\t    0.1000\n",
    "13.183\t    0.1620\n",
    "15.917\t    0.2800\n",
    "18.000\t    0.4600\n",
    "19.833\t    0.5600\n",
    "21.750\t    0.6200\n",
    "23.750\t    0.8000\n",
    "27.500\t    1.1800\n",
    "32.750\t    2.0200\n",
    "41.500\t    4.7200\n",
    "44.167\t    5.7200\n",
    "48.833\t    6.0400\n",
    "53.283\t    5.9600\n",
    "\"\"\""
   ]
  },
  {
   "cell_type": "code",
   "execution_count": 3,
   "id": "d085b67f",
   "metadata": {},
   "outputs": [],
   "source": [
    "*r, cr = parse_text_table(data)"
   ]
  },
  {
   "cell_type": "code",
   "execution_count": 4,
   "id": "add7ba56",
   "metadata": {},
   "outputs": [],
   "source": [
    "# Data input\n",
    "xData = np.array(cr[0][1:], dtype=\"f\")\n",
    "yData = np.array(cr[1][1:], dtype=\"f\")"
   ]
  },
  {
   "cell_type": "code",
   "execution_count": 5,
   "id": "133138ee",
   "metadata": {},
   "outputs": [
    {
     "data": {
      "text/plain": [
       "array([ 0.   , 13.183, 15.917, 18.   , 19.833, 21.75 , 23.75 , 27.5  ,\n",
       "       32.75 , 41.5  , 44.167, 48.833, 53.283], dtype=float32)"
      ]
     },
     "execution_count": 5,
     "metadata": {},
     "output_type": "execute_result"
    }
   ],
   "source": [
    "xData"
   ]
  },
  {
   "cell_type": "code",
   "execution_count": 6,
   "id": "4cf9fd46",
   "metadata": {},
   "outputs": [
    {
     "data": {
      "text/plain": [
       "array([0.1  , 0.162, 0.28 , 0.46 , 0.56 , 0.62 , 0.8  , 1.18 , 2.02 ,\n",
       "       4.72 , 5.72 , 6.04 , 5.96 ], dtype=float32)"
      ]
     },
     "execution_count": 6,
     "metadata": {},
     "output_type": "execute_result"
    }
   ],
   "source": [
    "yData"
   ]
  },
  {
   "cell_type": "code",
   "execution_count": 7,
   "id": "b665cff5-0742-4b0d-88be-528368e186ba",
   "metadata": {},
   "outputs": [
    {
     "data": {
      "text/plain": [
       "2.718281828459045"
      ]
     },
     "execution_count": 7,
     "metadata": {},
     "output_type": "execute_result"
    }
   ],
   "source": [
    "np.e"
   ]
  },
  {
   "cell_type": "code",
   "execution_count": 11,
   "id": "5534a85f-121e-4f7d-a464-a0e857b47c26",
   "metadata": {},
   "outputs": [],
   "source": [
    "def mgomb(t, A, Tlag, µm):\n",
    "    \"\"\"\n",
    "    Gompertz (Tjørve 2017).\n",
    "\n",
    "    A = upper asymptote\n",
    "    t = time\n",
    "    µm = growth-rate coefficient\n",
    "    Tlag =\n",
    "    \"\"\"\n",
    "    return A*np.exp(-np.exp((np.e*µm/A)*(Tlag-t)+1))"
   ]
  },
  {
   "cell_type": "markdown",
   "id": "3b321d50-626e-4e6e-87fd-a64bc856e8cb",
   "metadata": {},
   "source": [
    "    # =$C$18+$D$11*EXP(-EXP(($D$12*EXP(1))/$D$11*($D$13-B19)+1))\n",
    "\n",
    "    # = c + A*EXP(-EXP( ($D$12*EXP(1))/$D$11*($D$13-B19)+1 ))\n",
    "\n",
    "    =$C$18+$D$11*EXP(-EXP(($D$12*EXP(1))/$D$11*($D$13-B19)+1))\n",
    "\n",
    "\n",
    "    =$C$18+$D$11*EXP(-EXP((($D$12*EXP(1))/$D$11)*($D$13-B30)+1))\n",
    "\n",
    "\n",
    "    = constant + A * EXP(-EXP(((µm *EXP(1))/$D$11)*($D$13-B30)+1))"
   ]
  },
  {
   "cell_type": "code",
   "execution_count": 17,
   "id": "f431580e-a63e-48e3-b81f-934b87ab6e1f",
   "metadata": {},
   "outputs": [],
   "source": [
    "# curve fit the test data\n",
    "fittedParameters, pcov = curve_fit(mgomb, \n",
    "                                   xData, \n",
    "                                   yData,\n",
    "                                   bounds=([0.01, 20.0, 0.01], [8.0, 25.0, 1.0]))"
   ]
  },
  {
   "cell_type": "code",
   "execution_count": 18,
   "id": "d96c3bdb-8758-423b-b4a1-c279183ccbed",
   "metadata": {},
   "outputs": [],
   "source": [
    "A, Tlag, µm = fittedParameters"
   ]
  },
  {
   "cell_type": "code",
   "execution_count": 19,
   "id": "9cfdf765-469e-41e3-b66c-5a8c5560875b",
   "metadata": {},
   "outputs": [
    {
     "data": {
      "text/plain": [
       "(7.7192301177360765, 22.244029311048934, 0.2459355869158096)"
      ]
     },
     "execution_count": 19,
     "metadata": {},
     "output_type": "execute_result"
    }
   ],
   "source": [
    "A, Tlag, µm"
   ]
  },
  {
   "cell_type": "code",
   "execution_count": 20,
   "id": "3dcdec6b-38f5-4850-b260-0f9f3f9ead85",
   "metadata": {},
   "outputs": [
    {
     "data": {
      "image/png": "[encoded data removed]",
      "text/plain": [
       "<Figure size 432x288 with 1 Axes>"
      ]
     },
     "metadata": {
      "needs_background": "light"
     },
     "output_type": "display_data"
    }
   ],
   "source": [
    "fig, ax = plt.subplots()\n",
    "ax.plot(xData, yData, \"^\")\n",
    "t = np.arange(min(xData), max(xData), 0.01)\n",
    "ax.plot(t, mgomb(t, A, Tlag, µm))\n",
    "plt.show()"
   ]
  },
  {
   "cell_type": "code",
   "execution_count": 21,
   "id": "49dca22b-018e-48c4-85d9-0df13bbcd184",
   "metadata": {},
   "outputs": [],
   "source": [
    "def exp_growth(t, x0, µmax):\n",
    "    # x0 initial optical density\n",
    "    # t = time (h)\n",
    "    # µmax maximum growth rate (1/h)\n",
    "    return x0 * np.exp(µmax * t)"
   ]
  },
  {
   "cell_type": "code",
   "execution_count": 46,
   "id": "f29fa13e-8c6b-466f-9a1e-708a3834990f",
   "metadata": {},
   "outputs": [],
   "source": [
    "first_data_point = 8"
   ]
  },
  {
   "cell_type": "code",
   "execution_count": 47,
   "id": "9f34c47e-4467-4ce2-ad01-57fe3e79a5ac",
   "metadata": {},
   "outputs": [],
   "source": [
    "number_of_datapoints = 3"
   ]
  },
  {
   "cell_type": "code",
   "execution_count": 50,
   "id": "2d0c2379-d151-48b9-bb99-25e59d72f84b",
   "metadata": {},
   "outputs": [],
   "source": [
    "xSelection = xData[first_data_point:first_data_point+number_of_datapoints]"
   ]
  },
  {
   "cell_type": "code",
   "execution_count": 51,
   "id": "0e268d4e-8292-484b-be7a-ced296bd7bfe",
   "metadata": {},
   "outputs": [],
   "source": [
    "ySelection = yData[first_data_point:first_data_point+number_of_datapoints]"
   ]
  },
  {
   "cell_type": "code",
   "execution_count": 52,
   "id": "8c0e94ed-a15e-495b-b12d-3307ecaeafe6",
   "metadata": {},
   "outputs": [],
   "source": [
    "fittedParameters, pcov = curve_fit(exp_growth, \n",
    "                                   xSelection,\n",
    "                                   ySelection,\n",
    "                                   bounds=([0.0, 0.0], [1.0, 1.0]))"
   ]
  },
  {
   "cell_type": "code",
   "execution_count": 53,
   "id": "de3e58b3-1301-40e9-80f2-f57d84389a02",
   "metadata": {},
   "outputs": [],
   "source": [
    "x0, µmax = fittedParameters"
   ]
  },
  {
   "cell_type": "code",
   "execution_count": 57,
   "id": "afde91fc-a9a8-4903-a7c5-bc217e0cbfaa",
   "metadata": {},
   "outputs": [
    {
     "data": {
      "text/plain": [
       "0.11219688754330762"
      ]
     },
     "execution_count": 57,
     "metadata": {},
     "output_type": "execute_result"
    }
   ],
   "source": [
    "x0"
   ]
  },
  {
   "cell_type": "code",
   "execution_count": 58,
   "id": "f05b7622-e747-4f49-b16c-fcfd0e75175d",
   "metadata": {},
   "outputs": [
    {
     "data": {
      "text/plain": [
       "0.08935592455733433"
      ]
     },
     "execution_count": 58,
     "metadata": {},
     "output_type": "execute_result"
    }
   ],
   "source": [
    "µmax"
   ]
  },
  {
   "cell_type": "code",
   "execution_count": 64,
   "id": "3678cbda-0165-4800-a5f6-5f5a3a2b2c70",
   "metadata": {},
   "outputs": [
    {
     "data": {
      "image/png": "[encoded data removed]",
      "text/plain": [
       "<Figure size 432x288 with 1 Axes>"
      ]
     },
     "metadata": {
      "needs_background": "light"
     },
     "output_type": "display_data"
    }
   ],
   "source": [
    "fig, ax = plt.subplots()\n",
    "ax.plot(xData, yData, \"^\")\n",
    "t = np.arange(min(xData), max(xData), 0.01)\n",
    "ax.plot(t, mgomb(t, A, Tlag, µm))\n",
    "ax.plot(t, exp_growth(t, x0, µmax))\n",
    "plt.show()"
   ]
  },
  {
   "cell_type": "code",
   "execution_count": 65,
   "id": "97000808",
   "metadata": {
    "lines_to_next_cell": 0
   },
   "outputs": [],
   "source": [
    "def gomb(t, A, Ti, kg):\n",
    "    \"\"\"\n",
    "    Gompertz (Tjørve 2017).\n",
    "\n",
    "    A = upper asymptote\n",
    "    t = time\n",
    "    kg = growth-rate coefficient\n",
    "    Ti = time at inflection\n",
    "    \"\"\"\n",
    "    return A*np.exp(-np.exp(-kg*(t-Ti)))"
   ]
  },
  {
   "cell_type": "code",
   "execution_count": 66,
   "id": "b385ac81",
   "metadata": {
    "lines_to_end_of_cell_marker": 2
   },
   "outputs": [],
   "source": [
    "# curve fit the test data\n",
    "fittedParameters, pcov = curve_fit(gomb, \n",
    "                                   xData, \n",
    "                                   yData,\n",
    "                                   bounds=([0.01, 0.01, 0.01], [7.0, 50.0, 1.0]))"
   ]
  },
  {
   "cell_type": "code",
   "execution_count": 67,
   "id": "5132a9bf",
   "metadata": {},
   "outputs": [],
   "source": [
    "A, Ti, kg = fittedParameters"
   ]
  },
  {
   "cell_type": "code",
   "execution_count": 68,
   "id": "bd00ede6",
   "metadata": {},
   "outputs": [
    {
     "data": {
      "text/plain": [
       "6.999999999999999"
      ]
     },
     "execution_count": 68,
     "metadata": {},
     "output_type": "execute_result"
    }
   ],
   "source": [
    "A"
   ]
  },
  {
   "cell_type": "code",
   "execution_count": 69,
   "id": "8a79c158",
   "metadata": {},
   "outputs": [
    {
     "data": {
      "text/plain": [
       "32.46808567073663"
      ]
     },
     "execution_count": 69,
     "metadata": {},
     "output_type": "execute_result"
    }
   ],
   "source": [
    "Ti"
   ]
  },
  {
   "cell_type": "code",
   "execution_count": 70,
   "id": "bc43af82",
   "metadata": {},
   "outputs": [
    {
     "data": {
      "text/plain": [
       "0.10239461304955998"
      ]
     },
     "execution_count": 70,
     "metadata": {},
     "output_type": "execute_result"
    }
   ],
   "source": [
    "kg"
   ]
  },
  {
   "cell_type": "code",
   "execution_count": 76,
   "id": "71cc2ef3",
   "metadata": {},
   "outputs": [
    {
     "data": {
      "image/png": "[encoded data removed]",
      "text/plain": [
       "<Figure size 432x288 with 1 Axes>"
      ]
     },
     "metadata": {
      "needs_background": "light"
     },
     "output_type": "display_data"
    }
   ],
   "source": [
    "fig, ax = plt.subplots()\n",
    "ax.plot(xData, yData, \"^\")\n",
    "t = np.arange(min(xData), max(xData), 0.01)\n",
    "ax.plot(t, mgomb(t, A, Tlag, µm))\n",
    "ax.plot(t, exp_growth(t, x0, µmax))\n",
    "ax.plot(t, gomb(t, A, Ti, kg))\n",
    "plt.show()"
   ]
  },
  {
   "cell_type": "code",
   "execution_count": null,
   "id": "5d0da1d6",
   "metadata": {},
   "outputs": [],
   "source": []
  }
 ],
 "metadata": {
  "jupytext": {
   "cell_metadata_filter": "-all",
   "encoding": "# -*- coding: utf-8 -*-",
   "executable": "/usr/bin/env python",
   "formats": "ipynb,auto:light",
   "main_language": "python",
   "notebook_metadata_filter": "-all"
  },
  "kernelspec": {
   "display_name": "Python [conda env:bjorn39]",
   "language": "python",
   "name": "conda-env-bjorn39-py"
  },
  "language_info": {
   "codemirror_mode": {
    "name": "ipython",
    "version": 3
   },
   "file_extension": ".py",
   "mimetype": "text/x-python",
   "name": "python",
   "nbconvert_exporter": "python",
   "pygments_lexer": "ipython3",
   "version": "3.9.12"
  }
 },
 "nbformat": 4,
 "nbformat_minor": 5
}
