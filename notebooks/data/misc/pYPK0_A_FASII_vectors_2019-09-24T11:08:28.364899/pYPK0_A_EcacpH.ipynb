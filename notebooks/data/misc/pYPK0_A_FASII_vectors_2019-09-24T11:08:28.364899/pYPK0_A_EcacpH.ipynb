{
 "cells": [
  {
   "cell_type": "markdown",
   "metadata": {},
   "source": [
    "# Construction of pYPK0_A_EcacpH\n",
    "\n",
    "This notebook describe the construction of the _E. coli_ vector [pYPK0_A_EcacpH](pYPK0_A_EcacpH.gb).\n",
    "\n",
    "![pYPK0_A plasmid](pYPK0_A.png \"pYPK0_A plasmid\")"
   ]
  },
  {
   "cell_type": "code",
   "execution_count": 1,
   "metadata": {},
   "outputs": [],
   "source": [
    "from pydna.readers import read\n",
    "from pydna.genbank import Genbank\n",
    "from pydna.parsers import parse_primers\n",
    "from pydna.amplify import pcr\n",
    "from pydna.assembly import Assembly\n",
    "from pydna.amplify import Anneal"
   ]
  },
  {
   "cell_type": "markdown",
   "metadata": {},
   "source": [
    "The vector backbone [pYPK0](pYPK0.gb) is read from a local file."
   ]
  },
  {
   "cell_type": "code",
   "execution_count": 2,
   "metadata": {},
   "outputs": [],
   "source": [
    "pYPK0 = read(\"pYPK0.gb\")"
   ]
  },
  {
   "cell_type": "markdown",
   "metadata": {},
   "source": [
    "The restriction enzyme [AscI](http://rebase.neb.com/rebase/enz/AscI.html) is imported from [Biopython](http://biopython.org)"
   ]
  },
  {
   "cell_type": "code",
   "execution_count": 3,
   "metadata": {},
   "outputs": [],
   "source": [
    "from Bio.Restriction import AscI"
   ]
  },
  {
   "cell_type": "markdown",
   "metadata": {},
   "source": [
    "The plasmid is linearized with the enzyme."
   ]
  },
  {
   "cell_type": "code",
   "execution_count": 4,
   "metadata": {},
   "outputs": [],
   "source": [
    "pYPK0_AscI  = pYPK0.linearize(AscI)"
   ]
  },
  {
   "cell_type": "markdown",
   "metadata": {},
   "source": [
    "Access to [Genbank](http://www.ncbi.nlm.nih.gov/nuccore) is needed in order to download the template.\n",
    "If the email address below is not yours, change it before executing this script as you must always give \n",
    "NCBI a way to contact you when using their service."
   ]
  },
  {
   "cell_type": "code",
   "execution_count": 5,
   "metadata": {},
   "outputs": [],
   "source": [
    "gb = Genbank(\"bjornjobb@gmail.com\")"
   ]
  },
  {
   "cell_type": "markdown",
   "metadata": {},
   "source": [
    "The template is downloaded from Genbank below."
   ]
  },
  {
   "cell_type": "code",
   "execution_count": 6,
   "metadata": {},
   "outputs": [
    {
     "data": {
      "text/html": [
       "<a href='https://www.ncbi.nlm.nih.gov/nuccore/NC_000913 ?from=424337&to=424918&strand=2' target='_blank'>NC_000913  424337-424918</a>"
      ],
      "text/plain": [
       "Gbank(NC_000913  424337-424918)(-582)"
      ]
     },
     "execution_count": 6,
     "metadata": {},
     "output_type": "execute_result"
    }
   ],
   "source": [
    "template  = gb.nucleotide(\"NC_000913 REGION: complement(424337..424918)\")\n",
    "template"
   ]
  },
  {
   "cell_type": "markdown",
   "metadata": {},
   "source": [
    "The two primers below are used to amplify the insert."
   ]
  },
  {
   "cell_type": "code",
   "execution_count": 7,
   "metadata": {},
   "outputs": [],
   "source": [
    "fp,rp =  parse_primers(\"\"\">953_acpH_YPK_fw\n",
    "                          GCCAGGTTGCCCACTTTCTCACTAGTGACCTGCAGCCaaATGAATTTTTTAGCTCACCTG\n",
    "                          >952_acpH_YPK_rv\n",
    "                          TAAATCCGGATATCCTGATGCGTTTGTCTGCACAGATGGTTATAACGCCTTGCGTGACGC\"\"\")"
   ]
  },
  {
   "cell_type": "markdown",
   "metadata": {},
   "source": [
    "The gene is amplifed using the primers specified above."
   ]
  },
  {
   "cell_type": "code",
   "execution_count": 8,
   "metadata": {},
   "outputs": [],
   "source": [
    "ins = pcr(fp, rp, template)"
   ]
  },
  {
   "cell_type": "markdown",
   "metadata": {},
   "source": [
    "The primers anneal on the template like this."
   ]
  },
  {
   "cell_type": "code",
   "execution_count": 9,
   "metadata": {},
   "outputs": [
    {
     "data": {
      "text/plain": [
       "                                       5ATGAATTTTTTAGCTCACCTG...GCGTCACGCAAGGCGTTATAA3\n",
       "                                                                |||||||||||||||||||||\n",
       "                                                               3CGCAGTGCGTTCCGCAATATTGGTAGACACGTCTGTTTGCGTAGTCCTATAGGCCTAAAT5\n",
       "5GCCAGGTTGCCCACTTTCTCACTAGTGACCTGCAGCCaaATGAATTTTTTAGCTCACCTG3\n",
       "                                        |||||||||||||||||||||\n",
       "                                       3TACTTAAAAAATCGAGTGGAC...CGCAGTGCGTTCCGCAATATT5"
      ]
     },
     "execution_count": 9,
     "metadata": {},
     "output_type": "execute_result"
    }
   ],
   "source": [
    "ins.figure()"
   ]
  },
  {
   "cell_type": "markdown",
   "metadata": {},
   "source": [
    "A suggested PCR program."
   ]
  },
  {
   "cell_type": "code",
   "execution_count": 10,
   "metadata": {},
   "outputs": [
    {
     "data": {
      "text/plain": [
       "|95°C|95°C               |    |tmf:55.5\n",
       "|____|_____          72°C|72°C|tmr:66.3\n",
       "|5min|30s  \\ 58.1°C _____|____|30s/kb\n",
       "|    |      \\______/ 0:19|5min|GC 52%\n",
       "|    |       30s         |    |660bp\n"
      ]
     },
     "execution_count": 10,
     "metadata": {},
     "output_type": "execute_result"
    }
   ],
   "source": [
    "ins.program()"
   ]
  },
  {
   "cell_type": "markdown",
   "metadata": {},
   "source": [
    "The linearzed vector and the insert are joined by homologous recombination."
   ]
  },
  {
   "cell_type": "code",
   "execution_count": 11,
   "metadata": {},
   "outputs": [
    {
     "data": {
      "text/plain": [
       "Assembly\n",
       "fragments..: 5766bp 660bp\n",
       "limit(bp)..: 25\n",
       "G.nodes....: 4\n",
       "algorithm..: common_sub_strings"
      ]
     },
     "execution_count": 11,
     "metadata": {},
     "output_type": "execute_result"
    }
   ],
   "source": [
    "asm = Assembly((pYPK0_AscI,ins))\n",
    "asm"
   ]
  },
  {
   "cell_type": "markdown",
   "metadata": {},
   "source": [
    "Usually two equally sized products are formed."
   ]
  },
  {
   "cell_type": "code",
   "execution_count": 12,
   "metadata": {},
   "outputs": [
    {
     "data": {
      "text/plain": [
       "[Contig(o6340), Contig(o6340)]"
      ]
     },
     "execution_count": 12,
     "metadata": {},
     "output_type": "execute_result"
    }
   ],
   "source": [
    "circular_products = asm.assemble_circular()\n",
    "circular_products"
   ]
  },
  {
   "cell_type": "markdown",
   "metadata": {},
   "source": [
    "The first sequence is chosen."
   ]
  },
  {
   "cell_type": "code",
   "execution_count": 13,
   "metadata": {},
   "outputs": [],
   "source": [
    "candidate = circular_products[0]"
   ]
  },
  {
   "cell_type": "markdown",
   "metadata": {},
   "source": [
    "The final vector is:"
   ]
  },
  {
   "cell_type": "code",
   "execution_count": 14,
   "metadata": {},
   "outputs": [],
   "source": [
    "pYPK0_A_EcacpH = candidate.synced(pYPK0)"
   ]
  },
  {
   "cell_type": "markdown",
   "metadata": {},
   "source": [
    "A combination of standard primers and the gene specific primers are \n",
    "used for the strategy to identify correct clones.\n",
    "Standard primers are listed [here](standard_primers.txt).\n",
    "The standard primers are read into a dictonary in the code cell below."
   ]
  },
  {
   "cell_type": "code",
   "execution_count": 15,
   "metadata": {},
   "outputs": [],
   "source": [
    "p = { x.id: x for x in parse_primers(\"standard_primers.txt\") }"
   ]
  },
  {
   "cell_type": "markdown",
   "metadata": {},
   "source": [
    "## Diagnostic PCR confirmation of pYPK0_A_EcacpH\n",
    "\n",
    "The correct structure of pYPK0_A_EcacpH is confirmed by PCR using standard primers\n",
    "577 and 342 that are vector specific together with the EcacpHfw primer specific for the insert \n",
    "in a multiplex PCR reaction with three primers present in the PCR reaction.\n",
    "\n",
    "Two PCR products are expected if the insert was sucessfully cloned, sizes depending\n",
    "on the orientation of the insert. \n",
    "If the vector is empty, only one short product is formed.\n",
    "\n",
    "## Expected PCR products sizes:\n",
    "\n",
    "pYPK0_A_EcacpH with insert in correct orientation."
   ]
  },
  {
   "cell_type": "code",
   "execution_count": 16,
   "metadata": {},
   "outputs": [
    {
     "data": {
      "text/plain": [
       "[Amplicon(1512), Amplicon(1334)]"
      ]
     },
     "execution_count": 16,
     "metadata": {},
     "output_type": "execute_result"
    }
   ],
   "source": [
    "Anneal( (p['577'], p['342'], fp), pYPK0_A_EcacpH).products"
   ]
  },
  {
   "cell_type": "markdown",
   "metadata": {},
   "source": [
    "Empty clone"
   ]
  },
  {
   "cell_type": "code",
   "execution_count": 17,
   "metadata": {},
   "outputs": [
    {
     "data": {
      "text/plain": [
       "[Amplicon(934)]"
      ]
     },
     "execution_count": 17,
     "metadata": {},
     "output_type": "execute_result"
    }
   ],
   "source": [
    "Anneal( (p['577'], p['342'], fp), pYPK0).products"
   ]
  },
  {
   "cell_type": "markdown",
   "metadata": {},
   "source": [
    "The cseguid checksum for the resulting plasmid is calculated for future reference.\n",
    "The [cseguid checksum](http://pydna.readthedocs.org/en/latest/pydna.html#pydna.utils.cseguid) \n",
    "uniquely identifies a circular double stranded sequence."
   ]
  },
  {
   "cell_type": "code",
   "execution_count": 18,
   "metadata": {},
   "outputs": [
    {
     "data": {
      "text/plain": [
       "pdLwPpt6DySZDH23WSoTvA88dcI"
      ]
     },
     "execution_count": 18,
     "metadata": {},
     "output_type": "execute_result"
    }
   ],
   "source": [
    "pYPK0_A_EcacpH.cseguid()"
   ]
  },
  {
   "cell_type": "markdown",
   "metadata": {},
   "source": [
    "The file is given a name based on the cloned insert"
   ]
  },
  {
   "cell_type": "code",
   "execution_count": 19,
   "metadata": {},
   "outputs": [],
   "source": [
    "pYPK0_A_EcacpH.locus = \"pYPK0_A_EcacpH\"[:16]"
   ]
  },
  {
   "cell_type": "markdown",
   "metadata": {},
   "source": [
    "Sequence is stamped with the cseguid checksum. \n",
    "This can be used to verify the integrity of the sequence file."
   ]
  },
  {
   "cell_type": "code",
   "execution_count": 20,
   "metadata": {},
   "outputs": [
    {
     "data": {
      "text/plain": [
       "cSEGUID_pdLwPpt6DySZDH23WSoTvA88dcI"
      ]
     },
     "execution_count": 20,
     "metadata": {},
     "output_type": "execute_result"
    }
   ],
   "source": [
    "pYPK0_A_EcacpH.stamp()"
   ]
  },
  {
   "cell_type": "markdown",
   "metadata": {},
   "source": [
    "The sequence is written to a local file."
   ]
  },
  {
   "cell_type": "code",
   "execution_count": 21,
   "metadata": {},
   "outputs": [
    {
     "data": {
      "text/html": [
       "<font face=monospace><a href='pYPK0_A_EcacpH.gb' target='_blank'>pYPK0_A_EcacpH.gb</a></font><br>"
      ]
     },
     "metadata": {},
     "output_type": "display_data"
    }
   ],
   "source": [
    "pYPK0_A_EcacpH.write(\"pYPK0_A_EcacpH.gb\")"
   ]
  }
 ],
 "metadata": {
  "language_info": {
   "codemirror_mode": {
    "name": "ipython",
    "version": 3
   },
   "file_extension": ".py",
   "mimetype": "text/x-python",
   "name": "python",
   "nbconvert_exporter": "python",
   "pygments_lexer": "ipython3",
   "version": "3.8.5"
  }
 },
 "nbformat": 4,
 "nbformat_minor": 2
}
