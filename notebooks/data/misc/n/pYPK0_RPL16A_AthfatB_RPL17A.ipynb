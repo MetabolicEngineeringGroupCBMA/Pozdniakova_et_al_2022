{
 "cells": [
  {
   "cell_type": "markdown",
   "metadata": {},
   "source": [
    "# pYPK0_RPL16A_AthfatB_RPL17A\n",
    "\n",
    "This notebook describes the assembly of the [_Saccaromyces cerevisiae_](www.yeastgenome.org)\n",
    "single gene expression vector pYPK0_RPL16A_AthfatB_RPL17A.\n",
    "\n",
    "It is made by _in-vivo_ homologous recombination between three PCR products and one linear vector fragment.\n",
    "The PCR products are a promoter generated from a pYPK_Z vector, a gene from a pYPKa_A vector and \n",
    "a terminator from a pYPKa_E vector. The three PCR products are joined with\n",
    "a linearized [pYPKpw](https://github.com/BjornFJohansson/ypk-xylose-pathways/blob/master/notebooks/pYPKpw.ipynb) \n",
    "backbone vector that has the [URA3](http://www.yeastgenome.org/locus/S000000747/overview) \n",
    "marker and a _S. crevisiae_ [2 micron](http://blog.addgene.org/plasmids-101-yeast-vectors) origin of replication. \n",
    "\n",
    "The four linear DNA fragments are joined by homologous recombination in a \n",
    "[_Saccharomyces cerevisiae_](http://wiki.yeastgenome.org/index.php/Commonly_used_strains) ura3 mutant.\n",
    "\n",
    "![pYPK0_promoter_gene_terminator](tp_g_tp.png \"pYPK0_promoter_gene_terminator\")\n",
    "\n",
    "A part of the [pydna](https://pypi.python.org/pypi/pydna/) package is imported in the code cell below."
   ]
  },
  {
   "cell_type": "code",
   "execution_count": 1,
   "metadata": {
    "execution": {
     "iopub.execute_input": "2022-02-22T08:31:58.249064Z",
     "iopub.status.busy": "2022-02-22T08:31:58.247732Z",
     "iopub.status.idle": "2022-02-22T08:31:58.685588Z",
     "shell.execute_reply": "2022-02-22T08:31:58.684982Z"
    }
   },
   "outputs": [],
   "source": [
    "from pydna.parsers import parse_primers\n",
    "from pydna.readers import read\n",
    "from pydna.amplify import pcr\n",
    "from pydna.assembly import Assembly"
   ]
  },
  {
   "cell_type": "markdown",
   "metadata": {},
   "source": [
    "The Yeast Pathway Kit [standard primers](standard_primers.txt) are read into a dictionary in the code cell below."
   ]
  },
  {
   "cell_type": "code",
   "execution_count": 2,
   "metadata": {
    "execution": {
     "iopub.execute_input": "2022-02-22T08:31:58.697168Z",
     "iopub.status.busy": "2022-02-22T08:31:58.693896Z",
     "iopub.status.idle": "2022-02-22T08:31:58.706324Z",
     "shell.execute_reply": "2022-02-22T08:31:58.705913Z"
    }
   },
   "outputs": [],
   "source": [
    "p = { x.id: x for x in parse_primers(\"standard_primers.txt\") }"
   ]
  },
  {
   "cell_type": "markdown",
   "metadata": {},
   "source": [
    "The backbone vector [pYPKpw](pYPKpw.gb) is read from a local file in the code cell below."
   ]
  },
  {
   "cell_type": "code",
   "execution_count": 3,
   "metadata": {
    "execution": {
     "iopub.execute_input": "2022-02-22T08:31:58.716143Z",
     "iopub.status.busy": "2022-02-22T08:31:58.709518Z",
     "iopub.status.idle": "2022-02-22T08:31:58.717858Z",
     "shell.execute_reply": "2022-02-22T08:31:58.718283Z"
    }
   },
   "outputs": [],
   "source": [
    "pYPKpw = read(\"pYPKpw.gb\")"
   ]
  },
  {
   "cell_type": "markdown",
   "metadata": {},
   "source": [
    "The backbone vector is linearized by digestion with [EcoRV](http://rebase.neb.com/rebase/enz/EcoRV.html).\n",
    "The restriction enzyme functionality is provided by [biopython](http://biopython.org)."
   ]
  },
  {
   "cell_type": "code",
   "execution_count": 4,
   "metadata": {
    "execution": {
     "iopub.execute_input": "2022-02-22T08:31:58.723756Z",
     "iopub.status.busy": "2022-02-22T08:31:58.723242Z",
     "iopub.status.idle": "2022-02-22T08:31:58.727804Z",
     "shell.execute_reply": "2022-02-22T08:31:58.726826Z"
    }
   },
   "outputs": [],
   "source": [
    "from Bio.Restriction import EcoRV\n",
    "\n",
    "pYPK_EcoRV = pYPKpw.linearize(EcoRV)"
   ]
  },
  {
   "cell_type": "markdown",
   "metadata": {},
   "source": [
    "The pYPKa derived _E. coli_ plasmids containing [promoter](pYPKa_Z_RPL16A.gb), [gene](pYPKa_A_AthfatB.gb) and [terminator](pYPKa_E_RPL17A.gb)\n",
    "are read into three variables below."
   ]
  },
  {
   "cell_type": "code",
   "execution_count": 5,
   "metadata": {
    "execution": {
     "iopub.execute_input": "2022-02-22T08:31:58.733578Z",
     "iopub.status.busy": "2022-02-22T08:31:58.733003Z",
     "iopub.status.idle": "2022-02-22T08:31:58.743685Z",
     "shell.execute_reply": "2022-02-22T08:31:58.745116Z"
    }
   },
   "outputs": [],
   "source": [
    "promoter_template   = read(\"pYPKa_Z_RPL16A.gb\")\n",
    "gene_template       = read(\"pYPK0_A_AthfatB.gb\")\n",
    "terminator_template = read(\"pYPKa_E_RPL17A.gb\")"
   ]
  },
  {
   "cell_type": "markdown",
   "metadata": {},
   "source": [
    "The construction of the three vector above are described in the [pYPKa_ZE_RPL16A](pYPKa_ZE_RPL16A.ipynb) and [pYPKa_A_AthfatB](pYPKa_A_AthfatB.ipynb) notebooks.\n",
    "\n",
    "Three DNA fragments are PCR amplified using [standard primers](standard_primers.txt). Suggested PCR programs can be found at the end of this document."
   ]
  },
  {
   "cell_type": "code",
   "execution_count": 6,
   "metadata": {
    "execution": {
     "iopub.execute_input": "2022-02-22T08:31:58.755931Z",
     "iopub.status.busy": "2022-02-22T08:31:58.755098Z",
     "iopub.status.idle": "2022-02-22T08:31:58.770272Z",
     "shell.execute_reply": "2022-02-22T08:31:58.769836Z"
    }
   },
   "outputs": [],
   "source": [
    "prom = pcr( p['577'], p['567'], promoter_template)\n",
    "gene = pcr( p['468'], p['467'], gene_template)\n",
    "term = pcr( p['568'], p['578'], terminator_template)"
   ]
  },
  {
   "cell_type": "markdown",
   "metadata": {},
   "source": [
    "The four linear DNA fragments are mixed and transformed\n",
    "to a _Saccharomyces cerevisiae_ ura3 mutant.\n",
    "\n",
    "The fragments will be assembled by _in-vivo_ [homologous recombination](http://www.ncbi.nlm.nih.gov/pubmed/2828185):"
   ]
  },
  {
   "cell_type": "code",
   "execution_count": 7,
   "metadata": {
    "execution": {
     "iopub.execute_input": "2022-02-22T08:31:58.846583Z",
     "iopub.status.busy": "2022-02-22T08:31:58.803298Z",
     "iopub.status.idle": "2022-02-22T08:31:59.280447Z",
     "shell.execute_reply": "2022-02-22T08:31:59.279955Z"
    }
   },
   "outputs": [
    {
     "data": {
      "text/plain": [
       "Assembly\n",
       "fragments..: 5603bp 674bp 1180bp 1008bp\n",
       "limit(bp)..: 31\n",
       "G.nodes....: 8\n",
       "algorithm..: common_sub_strings"
      ]
     },
     "execution_count": 7,
     "metadata": {},
     "output_type": "execute_result"
    }
   ],
   "source": [
    "asm = Assembly( (pYPK_EcoRV, prom, gene, term), limit=31 )\n",
    "\n",
    "asm"
   ]
  },
  {
   "cell_type": "markdown",
   "metadata": {},
   "source": [
    "The representation of the asm object above should normally indicate one circcular product only.\n",
    "More than one circular products might indicate an incorrect assembly strategy or represent\n",
    "by-products that might arise in the assembly process.\n",
    "The largest recombination product is chosen as candidate for the pYPK0_RPL16A_AthfatB_RPL17A vector."
   ]
  },
  {
   "cell_type": "code",
   "execution_count": 8,
   "metadata": {
    "execution": {
     "iopub.execute_input": "2022-02-22T08:31:59.286105Z",
     "iopub.status.busy": "2022-02-22T08:31:59.285397Z",
     "iopub.status.idle": "2022-02-22T08:31:59.538812Z",
     "shell.execute_reply": "2022-02-22T08:31:59.538402Z"
    }
   },
   "outputs": [
    {
     "data": {
      "text/plain": [
       " -|pYPKpw_lin|124\n",
       "|             \\/\n",
       "|             /\\\n",
       "|             124|674bp_PCR_prod|48\n",
       "|                                \\/\n",
       "|                                /\\\n",
       "|                                48|1180bp_PCR_prod|34\n",
       "|                                                   \\/\n",
       "|                                                   /\\\n",
       "|                                                   34|1008bp_PCR_prod|242\n",
       "|                                                                      \\/\n",
       "|                                                                      /\\\n",
       "|                                                                      242-\n",
       "|                                                                         |\n",
       " -------------------------------------------------------------------------"
      ]
     },
     "execution_count": 8,
     "metadata": {},
     "output_type": "execute_result"
    }
   ],
   "source": [
    "candidate = asm.assemble_circular()[0]\n",
    "\n",
    "candidate.figure()"
   ]
  },
  {
   "cell_type": "markdown",
   "metadata": {},
   "source": [
    "The candidate vector is synchronized to the backbone vector. This means that\n",
    "the plasmid origin is shifted so that it matches the pYPKpw backbone vector."
   ]
  },
  {
   "cell_type": "code",
   "execution_count": 9,
   "metadata": {
    "execution": {
     "iopub.execute_input": "2022-02-22T08:31:59.552357Z",
     "iopub.status.busy": "2022-02-22T08:31:59.547587Z",
     "iopub.status.idle": "2022-02-22T08:32:00.082218Z",
     "shell.execute_reply": "2022-02-22T08:32:00.081632Z"
    }
   },
   "outputs": [],
   "source": [
    "result = candidate.synced(pYPKpw)"
   ]
  },
  {
   "cell_type": "markdown",
   "metadata": {},
   "source": [
    "### Diagnostic PCR confirmation\n",
    "\n",
    "The structure of the final vector is confirmed by two\n",
    "separate PCR reactions, one for the promoter and gene and\n",
    "one for the gene and terminator.\n",
    "\n",
    "PCR using standard primers 577 and 467 to amplify promoter and gene."
   ]
  },
  {
   "cell_type": "code",
   "execution_count": 10,
   "metadata": {
    "execution": {
     "iopub.execute_input": "2022-02-22T08:32:00.101522Z",
     "iopub.status.busy": "2022-02-22T08:32:00.100593Z",
     "iopub.status.idle": "2022-02-22T08:32:00.102239Z",
     "shell.execute_reply": "2022-02-22T08:32:00.102616Z"
    }
   },
   "outputs": [],
   "source": [
    "product = pcr( p['577'], p['467'], result)"
   ]
  },
  {
   "cell_type": "markdown",
   "metadata": {},
   "source": [
    "A correct clone should give this size in base pairs:"
   ]
  },
  {
   "cell_type": "code",
   "execution_count": 11,
   "metadata": {
    "execution": {
     "iopub.execute_input": "2022-02-22T08:32:00.106613Z",
     "iopub.status.busy": "2022-02-22T08:32:00.106116Z",
     "iopub.status.idle": "2022-02-22T08:32:00.108210Z",
     "shell.execute_reply": "2022-02-22T08:32:00.108602Z"
    }
   },
   "outputs": [
    {
     "name": "stdout",
     "output_type": "stream",
     "text": [
      "1804\n"
     ]
    }
   ],
   "source": [
    "print(len(product))"
   ]
  },
  {
   "cell_type": "markdown",
   "metadata": {},
   "source": [
    "If the promoter is missing from the assembly, the PCR product will have this size in base pairs:"
   ]
  },
  {
   "cell_type": "code",
   "execution_count": 12,
   "metadata": {
    "execution": {
     "iopub.execute_input": "2022-02-22T08:32:00.117005Z",
     "iopub.status.busy": "2022-02-22T08:32:00.113892Z",
     "iopub.status.idle": "2022-02-22T08:32:00.119604Z",
     "shell.execute_reply": "2022-02-22T08:32:00.120087Z"
    }
   },
   "outputs": [
    {
     "name": "stdout",
     "output_type": "stream",
     "text": [
      "1130\n"
     ]
    }
   ],
   "source": [
    "print(len(product) - len(prom))"
   ]
  },
  {
   "cell_type": "markdown",
   "metadata": {},
   "source": [
    "If the gene is missing from the assembly, the PCR product will have this size in base pairs:"
   ]
  },
  {
   "cell_type": "code",
   "execution_count": 13,
   "metadata": {
    "execution": {
     "iopub.execute_input": "2022-02-22T08:32:00.124763Z",
     "iopub.status.busy": "2022-02-22T08:32:00.123934Z",
     "iopub.status.idle": "2022-02-22T08:32:00.129034Z",
     "shell.execute_reply": "2022-02-22T08:32:00.127355Z"
    }
   },
   "outputs": [
    {
     "name": "stdout",
     "output_type": "stream",
     "text": [
      "624\n"
     ]
    }
   ],
   "source": [
    "print(len(product) - len(gene))"
   ]
  },
  {
   "cell_type": "markdown",
   "metadata": {},
   "source": [
    "PCR using standard primers 468 and 578 to amplify gene and terminator."
   ]
  },
  {
   "cell_type": "code",
   "execution_count": 14,
   "metadata": {
    "execution": {
     "iopub.execute_input": "2022-02-22T08:32:00.147864Z",
     "iopub.status.busy": "2022-02-22T08:32:00.146168Z",
     "iopub.status.idle": "2022-02-22T08:32:00.150331Z",
     "shell.execute_reply": "2022-02-22T08:32:00.151020Z"
    }
   },
   "outputs": [],
   "source": [
    "product2 = pcr( p['468'], p['578'], result)"
   ]
  },
  {
   "cell_type": "markdown",
   "metadata": {},
   "source": [
    "A correct clone should give this size:"
   ]
  },
  {
   "cell_type": "code",
   "execution_count": 15,
   "metadata": {
    "execution": {
     "iopub.execute_input": "2022-02-22T08:32:00.154936Z",
     "iopub.status.busy": "2022-02-22T08:32:00.153445Z",
     "iopub.status.idle": "2022-02-22T08:32:00.157164Z",
     "shell.execute_reply": "2022-02-22T08:32:00.157599Z"
    }
   },
   "outputs": [
    {
     "name": "stdout",
     "output_type": "stream",
     "text": [
      "2151\n"
     ]
    }
   ],
   "source": [
    "print(len(product2))"
   ]
  },
  {
   "cell_type": "markdown",
   "metadata": {},
   "source": [
    "If the gene is missing from the assembly, the PCR product will have this size in base pairs:"
   ]
  },
  {
   "cell_type": "code",
   "execution_count": 16,
   "metadata": {
    "execution": {
     "iopub.execute_input": "2022-02-22T08:32:00.165725Z",
     "iopub.status.busy": "2022-02-22T08:32:00.164698Z",
     "iopub.status.idle": "2022-02-22T08:32:00.169180Z",
     "shell.execute_reply": "2022-02-22T08:32:00.168597Z"
    }
   },
   "outputs": [
    {
     "name": "stdout",
     "output_type": "stream",
     "text": [
      "971\n"
     ]
    }
   ],
   "source": [
    "print(len(product2) - len(gene))"
   ]
  },
  {
   "cell_type": "markdown",
   "metadata": {},
   "source": [
    "If the terminator is missing from the assembly, the PCR product will have this size in base pairs:"
   ]
  },
  {
   "cell_type": "code",
   "execution_count": 17,
   "metadata": {
    "execution": {
     "iopub.execute_input": "2022-02-22T08:32:00.173267Z",
     "iopub.status.busy": "2022-02-22T08:32:00.172749Z",
     "iopub.status.idle": "2022-02-22T08:32:00.174784Z",
     "shell.execute_reply": "2022-02-22T08:32:00.175203Z"
    }
   },
   "outputs": [
    {
     "name": "stdout",
     "output_type": "stream",
     "text": [
      "1143\n"
     ]
    }
   ],
   "source": [
    "print(len(product2) - len(term))"
   ]
  },
  {
   "cell_type": "markdown",
   "metadata": {},
   "source": [
    "The cseguid checksum for the resulting plasmid is calculated for future reference.\n",
    "The [cseguid checksum](http://pydna.readthedocs.org/en/latest/pydna.html#pydna.utils.cseguid) \n",
    "uniquely identifies a circular double stranded sequence."
   ]
  },
  {
   "cell_type": "code",
   "execution_count": 18,
   "metadata": {
    "execution": {
     "iopub.execute_input": "2022-02-22T08:32:00.190370Z",
     "iopub.status.busy": "2022-02-22T08:32:00.189694Z",
     "iopub.status.idle": "2022-02-22T08:32:00.192733Z",
     "shell.execute_reply": "2022-02-22T08:32:00.192326Z"
    }
   },
   "outputs": [
    {
     "data": {
      "text/plain": [
       "0BU7B6Z7AA3sz-PY5GLsQBFTFDI"
      ]
     },
     "execution_count": 18,
     "metadata": {},
     "output_type": "execute_result"
    }
   ],
   "source": [
    "result.cseguid()"
   ]
  },
  {
   "cell_type": "markdown",
   "metadata": {},
   "source": [
    "The file is named based on the nemas of promoter, gene and terminator."
   ]
  },
  {
   "cell_type": "code",
   "execution_count": 19,
   "metadata": {
    "execution": {
     "iopub.execute_input": "2022-02-22T08:32:00.200866Z",
     "iopub.status.busy": "2022-02-22T08:32:00.199385Z",
     "iopub.status.idle": "2022-02-22T08:32:00.202639Z",
     "shell.execute_reply": "2022-02-22T08:32:00.202033Z"
    }
   },
   "outputs": [],
   "source": [
    "result.locus = \"pYPK0_tp_g_tp\"\n",
    "result.definition = \"pYPK0_RPL16A_AthfatB_RPL17A\""
   ]
  },
  {
   "cell_type": "markdown",
   "metadata": {},
   "source": [
    "Sequence is stamped with cseguid checksum. This can be used to verify the \n",
    "integrity of the sequence file."
   ]
  },
  {
   "cell_type": "code",
   "execution_count": 20,
   "metadata": {
    "execution": {
     "iopub.execute_input": "2022-02-22T08:32:00.216464Z",
     "iopub.status.busy": "2022-02-22T08:32:00.215691Z",
     "iopub.status.idle": "2022-02-22T08:32:00.219960Z",
     "shell.execute_reply": "2022-02-22T08:32:00.219482Z"
    }
   },
   "outputs": [
    {
     "data": {
      "text/plain": [
       "cSEGUID_0BU7B6Z7AA3sz-PY5GLsQBFTFDI"
      ]
     },
     "execution_count": 20,
     "metadata": {},
     "output_type": "execute_result"
    }
   ],
   "source": [
    "result.stamp()"
   ]
  },
  {
   "cell_type": "markdown",
   "metadata": {},
   "source": [
    "Write sequence to a local file."
   ]
  },
  {
   "cell_type": "code",
   "execution_count": 21,
   "metadata": {
    "execution": {
     "iopub.execute_input": "2022-02-22T08:32:00.234764Z",
     "iopub.status.busy": "2022-02-22T08:32:00.223241Z",
     "iopub.status.idle": "2022-02-22T08:32:00.240438Z",
     "shell.execute_reply": "2022-02-22T08:32:00.240994Z"
    }
   },
   "outputs": [
    {
     "data": {
      "text/html": [
       "<font face=monospace><a href='pYPK0_RPL16A_AthfatB_RPL17A.gb' target='_blank'>pYPK0_RPL16A_AthfatB_RPL17A.gb</a></font><br>"
      ]
     },
     "metadata": {},
     "output_type": "display_data"
    }
   ],
   "source": [
    "result.write(\"pYPK0_RPL16A_AthfatB_RPL17A.gb\")"
   ]
  },
  {
   "cell_type": "markdown",
   "metadata": {},
   "source": [
    "## PCR programs for the amplification of Promoter, Gene and Terminator\n",
    "\n",
    "see cell #6\n",
    "\n",
    "Promoter"
   ]
  },
  {
   "cell_type": "code",
   "execution_count": 22,
   "metadata": {
    "execution": {
     "iopub.execute_input": "2022-02-22T08:32:00.249470Z",
     "iopub.status.busy": "2022-02-22T08:32:00.248779Z",
     "iopub.status.idle": "2022-02-22T08:32:00.252259Z",
     "shell.execute_reply": "2022-02-22T08:32:00.252734Z"
    }
   },
   "outputs": [
    {
     "data": {
      "text/plain": [
       "|95°C|95°C               |    |tmf:64.6\n",
       "|____|_____          72°C|72°C|tmr:69.7\n",
       "|3min|30s  \\ 58.7°C _____|____|45s/kb\n",
       "|    |      \\______/ 0:30|5min|GC 45%\n",
       "|    |       30s         |    |674bp"
      ]
     },
     "execution_count": 22,
     "metadata": {},
     "output_type": "execute_result"
    }
   ],
   "source": [
    "prom.program()"
   ]
  },
  {
   "cell_type": "markdown",
   "metadata": {},
   "source": [
    "Gene"
   ]
  },
  {
   "cell_type": "code",
   "execution_count": 23,
   "metadata": {
    "execution": {
     "iopub.execute_input": "2022-02-22T08:32:00.258420Z",
     "iopub.status.busy": "2022-02-22T08:32:00.257847Z",
     "iopub.status.idle": "2022-02-22T08:32:00.262357Z",
     "shell.execute_reply": "2022-02-22T08:32:00.263095Z"
    }
   },
   "outputs": [
    {
     "data": {
      "text/plain": [
       "|95°C|95°C               |    |tmf:76.9\n",
       "|____|_____          72°C|72°C|tmr:67.9\n",
       "|3min|30s  \\ 60.3°C _____|____|45s/kb\n",
       "|    |      \\______/ 0:53|5min|GC 46%\n",
       "|    |       30s         |    |1180bp"
      ]
     },
     "execution_count": 23,
     "metadata": {},
     "output_type": "execute_result"
    }
   ],
   "source": [
    "gene.program()"
   ]
  },
  {
   "cell_type": "markdown",
   "metadata": {},
   "source": [
    "Terminator"
   ]
  },
  {
   "cell_type": "code",
   "execution_count": 24,
   "metadata": {
    "execution": {
     "iopub.execute_input": "2022-02-22T08:32:00.269397Z",
     "iopub.status.busy": "2022-02-22T08:32:00.268429Z",
     "iopub.status.idle": "2022-02-22T08:32:00.272545Z",
     "shell.execute_reply": "2022-02-22T08:32:00.271904Z"
    }
   },
   "outputs": [
    {
     "data": {
      "text/plain": [
       "|95°C|95°C               |    |tmf:66.1\n",
       "|____|_____          72°C|72°C|tmr:65.0\n",
       "|3min|30s  \\ 57.4°C _____|____|45s/kb\n",
       "|    |      \\______/ 0:45|5min|GC 39%\n",
       "|    |       30s         |    |1008bp"
      ]
     },
     "execution_count": 24,
     "metadata": {},
     "output_type": "execute_result"
    }
   ],
   "source": [
    "term.program()"
   ]
  }
 ],
 "metadata": {
  "language_info": {
   "codemirror_mode": {
    "name": "ipython",
    "version": 3
   },
   "file_extension": ".py",
   "mimetype": "text/x-python",
   "name": "python",
   "nbconvert_exporter": "python",
   "pygments_lexer": "ipython3",
   "version": "3.9.7"
  }
 },
 "nbformat": 4,
 "nbformat_minor": 2
}
