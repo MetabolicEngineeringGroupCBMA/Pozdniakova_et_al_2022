{
 "cells": [
  {
   "cell_type": "markdown",
   "metadata": {},
   "source": [
    "# pYPK0_FBA1_EcfabG_RPL22A\n",
    "\n",
    "This notebook describes the assembly of the [_Saccaromyces cerevisiae_](www.yeastgenome.org)\n",
    "single gene expression vector pYPK0_FBA1_EcfabG_RPL22A.\n",
    "\n",
    "It is made by _in-vivo_ homologous recombination between three PCR products and one linear vector fragment.\n",
    "The PCR products are a promoter generated from a pYPK_Z vector, a gene from a pYPKa_A vector and \n",
    "a terminator from a pYPKa_E vector. The three PCR products are joined with\n",
    "a linearized [pYPKpw](https://github.com/BjornFJohansson/ypk-xylose-pathways/blob/master/notebooks/pYPKpw.ipynb) \n",
    "backbone vector that has the [URA3](http://www.yeastgenome.org/locus/S000000747/overview) \n",
    "marker and a _S. crevisiae_ [2 micron](http://blog.addgene.org/plasmids-101-yeast-vectors) origin of replication. \n",
    "\n",
    "The four linear DNA fragments are joined by homologous recombination in a \n",
    "[_Saccharomyces cerevisiae_](http://wiki.yeastgenome.org/index.php/Commonly_used_strains) ura3 mutant.\n",
    "\n",
    "![pYPK0_promoter_gene_terminator](tp_g_tp.png \"pYPK0_promoter_gene_terminator\")\n",
    "\n",
    "A part of the [pydna](https://pypi.python.org/pypi/pydna/) package is imported in the code cell below."
   ]
  },
  {
   "cell_type": "code",
   "execution_count": 1,
   "metadata": {
    "execution": {
     "iopub.execute_input": "2022-02-22T08:31:48.745426Z",
     "iopub.status.busy": "2022-02-22T08:31:48.744400Z",
     "iopub.status.idle": "2022-02-22T08:31:49.102678Z",
     "shell.execute_reply": "2022-02-22T08:31:49.102177Z"
    }
   },
   "outputs": [],
   "source": [
    "from pydna.parsers import parse_primers\n",
    "from pydna.readers import read\n",
    "from pydna.amplify import pcr\n",
    "from pydna.assembly import Assembly"
   ]
  },
  {
   "cell_type": "markdown",
   "metadata": {},
   "source": [
    "The Yeast Pathway Kit [standard primers](standard_primers.txt) are read into a dictionary in the code cell below."
   ]
  },
  {
   "cell_type": "code",
   "execution_count": 2,
   "metadata": {
    "execution": {
     "iopub.execute_input": "2022-02-22T08:31:49.109368Z",
     "iopub.status.busy": "2022-02-22T08:31:49.108855Z",
     "iopub.status.idle": "2022-02-22T08:31:49.116869Z",
     "shell.execute_reply": "2022-02-22T08:31:49.117299Z"
    }
   },
   "outputs": [],
   "source": [
    "p = { x.id: x for x in parse_primers(\"standard_primers.txt\") }"
   ]
  },
  {
   "cell_type": "markdown",
   "metadata": {},
   "source": [
    "The backbone vector [pYPKpw](pYPKpw.gb) is read from a local file in the code cell below."
   ]
  },
  {
   "cell_type": "code",
   "execution_count": 3,
   "metadata": {
    "execution": {
     "iopub.execute_input": "2022-02-22T08:31:49.126106Z",
     "iopub.status.busy": "2022-02-22T08:31:49.125338Z",
     "iopub.status.idle": "2022-02-22T08:31:49.127264Z",
     "shell.execute_reply": "2022-02-22T08:31:49.127722Z"
    }
   },
   "outputs": [],
   "source": [
    "pYPKpw = read(\"pYPKpw.gb\")"
   ]
  },
  {
   "cell_type": "markdown",
   "metadata": {},
   "source": [
    "The backbone vector is linearized by digestion with [EcoRV](http://rebase.neb.com/rebase/enz/EcoRV.html).\n",
    "The restriction enzyme functionality is provided by [biopython](http://biopython.org)."
   ]
  },
  {
   "cell_type": "code",
   "execution_count": 4,
   "metadata": {
    "execution": {
     "iopub.execute_input": "2022-02-22T08:31:49.135498Z",
     "iopub.status.busy": "2022-02-22T08:31:49.134712Z",
     "iopub.status.idle": "2022-02-22T08:31:49.137238Z",
     "shell.execute_reply": "2022-02-22T08:31:49.136630Z"
    }
   },
   "outputs": [],
   "source": [
    "from Bio.Restriction import EcoRV\n",
    "\n",
    "pYPK_EcoRV = pYPKpw.linearize(EcoRV)"
   ]
  },
  {
   "cell_type": "markdown",
   "metadata": {},
   "source": [
    "The pYPKa derived _E. coli_ plasmids containing [promoter](pYPKa_Z_FBA1.gb), [gene](pYPKa_A_EcfabG.gb) and [terminator](pYPKa_E_RPL22A.gb)\n",
    "are read into three variables below."
   ]
  },
  {
   "cell_type": "code",
   "execution_count": 5,
   "metadata": {
    "execution": {
     "iopub.execute_input": "2022-02-22T08:31:49.142276Z",
     "iopub.status.busy": "2022-02-22T08:31:49.141193Z",
     "iopub.status.idle": "2022-02-22T08:31:49.152893Z",
     "shell.execute_reply": "2022-02-22T08:31:49.152400Z"
    }
   },
   "outputs": [],
   "source": [
    "promoter_template   = read(\"pYPKa_Z_FBA1.gb\")\n",
    "gene_template       = read(\"pYPKa_A_EcfabG.gb\")\n",
    "terminator_template = read(\"pYPKa_E_RPL22A.gb\")"
   ]
  },
  {
   "cell_type": "markdown",
   "metadata": {},
   "source": [
    "The construction of the three vector above are described in the [pYPKa_ZE_FBA1](pYPKa_ZE_FBA1.ipynb) and [pYPKa_A_EcfabG](pYPKa_A_EcfabG.ipynb) notebooks.\n",
    "\n",
    "Three DNA fragments are PCR amplified using [standard primers](standard_primers.txt). Suggested PCR programs can be found at the end of this document."
   ]
  },
  {
   "cell_type": "code",
   "execution_count": 6,
   "metadata": {
    "execution": {
     "iopub.execute_input": "2022-02-22T08:31:49.159327Z",
     "iopub.status.busy": "2022-02-22T08:31:49.158656Z",
     "iopub.status.idle": "2022-02-22T08:31:49.176563Z",
     "shell.execute_reply": "2022-02-22T08:31:49.176093Z"
    }
   },
   "outputs": [],
   "source": [
    "prom = pcr( p['577'], p['567'], promoter_template)\n",
    "gene = pcr( p['468'], p['467'], gene_template)\n",
    "term = pcr( p['568'], p['578'], terminator_template)"
   ]
  },
  {
   "cell_type": "markdown",
   "metadata": {},
   "source": [
    "The four linear DNA fragments are mixed and transformed\n",
    "to a _Saccharomyces cerevisiae_ ura3 mutant.\n",
    "\n",
    "The fragments will be assembled by _in-vivo_ [homologous recombination](http://www.ncbi.nlm.nih.gov/pubmed/2828185):"
   ]
  },
  {
   "cell_type": "code",
   "execution_count": 7,
   "metadata": {
    "execution": {
     "iopub.execute_input": "2022-02-22T08:31:49.229640Z",
     "iopub.status.busy": "2022-02-22T08:31:49.193909Z",
     "iopub.status.idle": "2022-02-22T08:31:49.634993Z",
     "shell.execute_reply": "2022-02-22T08:31:49.634511Z"
    }
   },
   "outputs": [
    {
     "data": {
      "text/plain": [
       "Assembly\n",
       "fragments..: 5603bp 862bp 824bp 766bp\n",
       "limit(bp)..: 31\n",
       "G.nodes....: 8\n",
       "algorithm..: common_sub_strings"
      ]
     },
     "execution_count": 7,
     "metadata": {},
     "output_type": "execute_result"
    }
   ],
   "source": [
    "asm = Assembly( (pYPK_EcoRV, prom, gene, term), limit=31 )\n",
    "\n",
    "asm"
   ]
  },
  {
   "cell_type": "markdown",
   "metadata": {},
   "source": [
    "The representation of the asm object above should normally indicate one circcular product only.\n",
    "More than one circular products might indicate an incorrect assembly strategy or represent\n",
    "by-products that might arise in the assembly process.\n",
    "The largest recombination product is chosen as candidate for the pYPK0_FBA1_EcfabG_RPL22A vector."
   ]
  },
  {
   "cell_type": "code",
   "execution_count": 8,
   "metadata": {
    "execution": {
     "iopub.execute_input": "2022-02-22T08:31:49.639938Z",
     "iopub.status.busy": "2022-02-22T08:31:49.639026Z",
     "iopub.status.idle": "2022-02-22T08:31:49.843673Z",
     "shell.execute_reply": "2022-02-22T08:31:49.844020Z"
    }
   },
   "outputs": [
    {
     "data": {
      "text/plain": [
       " -|pYPKpw_lin|124\n",
       "|             \\/\n",
       "|             /\\\n",
       "|             124|862bp_PCR_prod|50\n",
       "|                                \\/\n",
       "|                                /\\\n",
       "|                                50|824bp_PCR_prod|37\n",
       "|                                                  \\/\n",
       "|                                                  /\\\n",
       "|                                                  37|766bp_PCR_prod|242\n",
       "|                                                                    \\/\n",
       "|                                                                    /\\\n",
       "|                                                                    242-\n",
       "|                                                                       |\n",
       " -----------------------------------------------------------------------"
      ]
     },
     "execution_count": 8,
     "metadata": {},
     "output_type": "execute_result"
    }
   ],
   "source": [
    "candidate = asm.assemble_circular()[0]\n",
    "\n",
    "candidate.figure()"
   ]
  },
  {
   "cell_type": "markdown",
   "metadata": {},
   "source": [
    "The candidate vector is synchronized to the backbone vector. This means that\n",
    "the plasmid origin is shifted so that it matches the pYPKpw backbone vector."
   ]
  },
  {
   "cell_type": "code",
   "execution_count": 9,
   "metadata": {
    "execution": {
     "iopub.execute_input": "2022-02-22T08:31:49.887085Z",
     "iopub.status.busy": "2022-02-22T08:31:49.861552Z",
     "iopub.status.idle": "2022-02-22T08:31:50.290718Z",
     "shell.execute_reply": "2022-02-22T08:31:50.290201Z"
    }
   },
   "outputs": [],
   "source": [
    "result = candidate.synced(pYPKpw)"
   ]
  },
  {
   "cell_type": "markdown",
   "metadata": {},
   "source": [
    "### Diagnostic PCR confirmation\n",
    "\n",
    "The structure of the final vector is confirmed by two\n",
    "separate PCR reactions, one for the promoter and gene and\n",
    "one for the gene and terminator.\n",
    "\n",
    "PCR using standard primers 577 and 467 to amplify promoter and gene."
   ]
  },
  {
   "cell_type": "code",
   "execution_count": 10,
   "metadata": {
    "execution": {
     "iopub.execute_input": "2022-02-22T08:31:50.304533Z",
     "iopub.status.busy": "2022-02-22T08:31:50.304045Z",
     "iopub.status.idle": "2022-02-22T08:31:50.305694Z",
     "shell.execute_reply": "2022-02-22T08:31:50.306093Z"
    }
   },
   "outputs": [],
   "source": [
    "product = pcr( p['577'], p['467'], result)"
   ]
  },
  {
   "cell_type": "markdown",
   "metadata": {},
   "source": [
    "A correct clone should give this size in base pairs:"
   ]
  },
  {
   "cell_type": "code",
   "execution_count": 11,
   "metadata": {
    "execution": {
     "iopub.execute_input": "2022-02-22T08:31:50.310199Z",
     "iopub.status.busy": "2022-02-22T08:31:50.309571Z",
     "iopub.status.idle": "2022-02-22T08:31:50.312429Z",
     "shell.execute_reply": "2022-02-22T08:31:50.311973Z"
    }
   },
   "outputs": [
    {
     "name": "stdout",
     "output_type": "stream",
     "text": [
      "1636\n"
     ]
    }
   ],
   "source": [
    "print(len(product))"
   ]
  },
  {
   "cell_type": "markdown",
   "metadata": {},
   "source": [
    "If the promoter is missing from the assembly, the PCR product will have this size in base pairs:"
   ]
  },
  {
   "cell_type": "code",
   "execution_count": 12,
   "metadata": {
    "execution": {
     "iopub.execute_input": "2022-02-22T08:31:50.316668Z",
     "iopub.status.busy": "2022-02-22T08:31:50.316055Z",
     "iopub.status.idle": "2022-02-22T08:31:50.318552Z",
     "shell.execute_reply": "2022-02-22T08:31:50.319073Z"
    }
   },
   "outputs": [
    {
     "name": "stdout",
     "output_type": "stream",
     "text": [
      "774\n"
     ]
    }
   ],
   "source": [
    "print(len(product) - len(prom))"
   ]
  },
  {
   "cell_type": "markdown",
   "metadata": {},
   "source": [
    "If the gene is missing from the assembly, the PCR product will have this size in base pairs:"
   ]
  },
  {
   "cell_type": "code",
   "execution_count": 13,
   "metadata": {
    "execution": {
     "iopub.execute_input": "2022-02-22T08:31:50.324070Z",
     "iopub.status.busy": "2022-02-22T08:31:50.323329Z",
     "iopub.status.idle": "2022-02-22T08:31:50.326119Z",
     "shell.execute_reply": "2022-02-22T08:31:50.326567Z"
    }
   },
   "outputs": [
    {
     "name": "stdout",
     "output_type": "stream",
     "text": [
      "812\n"
     ]
    }
   ],
   "source": [
    "print(len(product) - len(gene))"
   ]
  },
  {
   "cell_type": "markdown",
   "metadata": {},
   "source": [
    "PCR using standard primers 468 and 578 to amplify gene and terminator."
   ]
  },
  {
   "cell_type": "code",
   "execution_count": 14,
   "metadata": {
    "execution": {
     "iopub.execute_input": "2022-02-22T08:31:50.341633Z",
     "iopub.status.busy": "2022-02-22T08:31:50.340979Z",
     "iopub.status.idle": "2022-02-22T08:31:50.343041Z",
     "shell.execute_reply": "2022-02-22T08:31:50.342657Z"
    }
   },
   "outputs": [],
   "source": [
    "product2 = pcr( p['468'], p['578'], result)"
   ]
  },
  {
   "cell_type": "markdown",
   "metadata": {},
   "source": [
    "A correct clone should give this size:"
   ]
  },
  {
   "cell_type": "code",
   "execution_count": 15,
   "metadata": {
    "execution": {
     "iopub.execute_input": "2022-02-22T08:31:50.346811Z",
     "iopub.status.busy": "2022-02-22T08:31:50.346253Z",
     "iopub.status.idle": "2022-02-22T08:31:50.348391Z",
     "shell.execute_reply": "2022-02-22T08:31:50.348747Z"
    }
   },
   "outputs": [
    {
     "name": "stdout",
     "output_type": "stream",
     "text": [
      "1553\n"
     ]
    }
   ],
   "source": [
    "print(len(product2))"
   ]
  },
  {
   "cell_type": "markdown",
   "metadata": {},
   "source": [
    "If the gene is missing from the assembly, the PCR product will have this size in base pairs:"
   ]
  },
  {
   "cell_type": "code",
   "execution_count": 16,
   "metadata": {
    "execution": {
     "iopub.execute_input": "2022-02-22T08:31:50.353141Z",
     "iopub.status.busy": "2022-02-22T08:31:50.352356Z",
     "iopub.status.idle": "2022-02-22T08:31:50.355915Z",
     "shell.execute_reply": "2022-02-22T08:31:50.355228Z"
    }
   },
   "outputs": [
    {
     "name": "stdout",
     "output_type": "stream",
     "text": [
      "729\n"
     ]
    }
   ],
   "source": [
    "print(len(product2) - len(gene))"
   ]
  },
  {
   "cell_type": "markdown",
   "metadata": {},
   "source": [
    "If the terminator is missing from the assembly, the PCR product will have this size in base pairs:"
   ]
  },
  {
   "cell_type": "code",
   "execution_count": 17,
   "metadata": {
    "execution": {
     "iopub.execute_input": "2022-02-22T08:31:50.361221Z",
     "iopub.status.busy": "2022-02-22T08:31:50.360454Z",
     "iopub.status.idle": "2022-02-22T08:31:50.363717Z",
     "shell.execute_reply": "2022-02-22T08:31:50.363235Z"
    }
   },
   "outputs": [
    {
     "name": "stdout",
     "output_type": "stream",
     "text": [
      "787\n"
     ]
    }
   ],
   "source": [
    "print(len(product2) - len(term))"
   ]
  },
  {
   "cell_type": "markdown",
   "metadata": {},
   "source": [
    "The cseguid checksum for the resulting plasmid is calculated for future reference.\n",
    "The [cseguid checksum](http://pydna.readthedocs.org/en/latest/pydna.html#pydna.utils.cseguid) \n",
    "uniquely identifies a circular double stranded sequence."
   ]
  },
  {
   "cell_type": "code",
   "execution_count": 18,
   "metadata": {
    "execution": {
     "iopub.execute_input": "2022-02-22T08:31:50.374309Z",
     "iopub.status.busy": "2022-02-22T08:31:50.373731Z",
     "iopub.status.idle": "2022-02-22T08:31:50.376196Z",
     "shell.execute_reply": "2022-02-22T08:31:50.376572Z"
    }
   },
   "outputs": [
    {
     "data": {
      "text/plain": [
       "0_8MWlK1r5MpcFdPHdcDb90Zftc"
      ]
     },
     "execution_count": 18,
     "metadata": {},
     "output_type": "execute_result"
    }
   ],
   "source": [
    "result.cseguid()"
   ]
  },
  {
   "cell_type": "markdown",
   "metadata": {},
   "source": [
    "The file is named based on the nemas of promoter, gene and terminator."
   ]
  },
  {
   "cell_type": "code",
   "execution_count": 19,
   "metadata": {
    "execution": {
     "iopub.execute_input": "2022-02-22T08:31:50.379936Z",
     "iopub.status.busy": "2022-02-22T08:31:50.379423Z",
     "iopub.status.idle": "2022-02-22T08:31:50.382530Z",
     "shell.execute_reply": "2022-02-22T08:31:50.381767Z"
    }
   },
   "outputs": [],
   "source": [
    "result.locus = \"pYPK0_tp_g_tp\"\n",
    "result.definition = \"pYPK0_FBA1_EcfabG_RPL22A\""
   ]
  },
  {
   "cell_type": "markdown",
   "metadata": {},
   "source": [
    "Sequence is stamped with cseguid checksum. This can be used to verify the \n",
    "integrity of the sequence file."
   ]
  },
  {
   "cell_type": "code",
   "execution_count": 20,
   "metadata": {
    "execution": {
     "iopub.execute_input": "2022-02-22T08:31:50.397409Z",
     "iopub.status.busy": "2022-02-22T08:31:50.396640Z",
     "iopub.status.idle": "2022-02-22T08:31:50.399735Z",
     "shell.execute_reply": "2022-02-22T08:31:50.399278Z"
    }
   },
   "outputs": [
    {
     "data": {
      "text/plain": [
       "cSEGUID_0_8MWlK1r5MpcFdPHdcDb90Zftc"
      ]
     },
     "execution_count": 20,
     "metadata": {},
     "output_type": "execute_result"
    }
   ],
   "source": [
    "result.stamp()"
   ]
  },
  {
   "cell_type": "markdown",
   "metadata": {},
   "source": [
    "Write sequence to a local file."
   ]
  },
  {
   "cell_type": "code",
   "execution_count": 21,
   "metadata": {
    "execution": {
     "iopub.execute_input": "2022-02-22T08:31:50.404729Z",
     "iopub.status.busy": "2022-02-22T08:31:50.404059Z",
     "iopub.status.idle": "2022-02-22T08:31:50.421459Z",
     "shell.execute_reply": "2022-02-22T08:31:50.422196Z"
    }
   },
   "outputs": [
    {
     "data": {
      "text/html": [
       "<font face=monospace><a href='pYPK0_FBA1_EcfabG_RPL22A.gb' target='_blank'>pYPK0_FBA1_EcfabG_RPL22A.gb</a></font><br>"
      ]
     },
     "metadata": {},
     "output_type": "display_data"
    }
   ],
   "source": [
    "result.write(\"pYPK0_FBA1_EcfabG_RPL22A.gb\")"
   ]
  },
  {
   "cell_type": "markdown",
   "metadata": {},
   "source": [
    "## PCR programs for the amplification of Promoter, Gene and Terminator\n",
    "\n",
    "see cell #6\n",
    "\n",
    "Promoter"
   ]
  },
  {
   "cell_type": "code",
   "execution_count": 22,
   "metadata": {
    "execution": {
     "iopub.execute_input": "2022-02-22T08:31:50.429791Z",
     "iopub.status.busy": "2022-02-22T08:31:50.429026Z",
     "iopub.status.idle": "2022-02-22T08:31:50.433443Z",
     "shell.execute_reply": "2022-02-22T08:31:50.432804Z"
    }
   },
   "outputs": [
    {
     "data": {
      "text/plain": [
       "|95°C|95°C               |    |tmf:64.6\n",
       "|____|_____          72°C|72°C|tmr:69.7\n",
       "|3min|30s  \\ 57.2°C _____|____|45s/kb\n",
       "|    |      \\______/ 0:38|5min|GC 39%\n",
       "|    |       30s         |    |862bp"
      ]
     },
     "execution_count": 22,
     "metadata": {},
     "output_type": "execute_result"
    }
   ],
   "source": [
    "prom.program()"
   ]
  },
  {
   "cell_type": "markdown",
   "metadata": {},
   "source": [
    "Gene"
   ]
  },
  {
   "cell_type": "code",
   "execution_count": 23,
   "metadata": {
    "execution": {
     "iopub.execute_input": "2022-02-22T08:31:50.439143Z",
     "iopub.status.busy": "2022-02-22T08:31:50.436319Z",
     "iopub.status.idle": "2022-02-22T08:31:50.442507Z",
     "shell.execute_reply": "2022-02-22T08:31:50.443071Z"
    }
   },
   "outputs": [
    {
     "data": {
      "text/plain": [
       "|95°C|95°C               |    |tmf:76.9\n",
       "|____|_____          72°C|72°C|tmr:67.9\n",
       "|3min|30s  \\ 61.6°C _____|____|45s/kb\n",
       "|    |      \\______/ 0:37|5min|GC 51%\n",
       "|    |       30s         |    |824bp"
      ]
     },
     "execution_count": 23,
     "metadata": {},
     "output_type": "execute_result"
    }
   ],
   "source": [
    "gene.program()"
   ]
  },
  {
   "cell_type": "markdown",
   "metadata": {},
   "source": [
    "Terminator"
   ]
  },
  {
   "cell_type": "code",
   "execution_count": 24,
   "metadata": {
    "execution": {
     "iopub.execute_input": "2022-02-22T08:31:50.450566Z",
     "iopub.status.busy": "2022-02-22T08:31:50.449638Z",
     "iopub.status.idle": "2022-02-22T08:31:50.452664Z",
     "shell.execute_reply": "2022-02-22T08:31:50.453026Z"
    }
   },
   "outputs": [
    {
     "data": {
      "text/plain": [
       "|95°C|95°C               |    |tmf:66.1\n",
       "|____|_____          72°C|72°C|tmr:65.0\n",
       "|3min|30s  \\ 56.0°C _____|____|45s/kb\n",
       "|    |      \\______/ 0:34|5min|GC 35%\n",
       "|    |       30s         |    |766bp"
      ]
     },
     "execution_count": 24,
     "metadata": {},
     "output_type": "execute_result"
    }
   ],
   "source": [
    "term.program()"
   ]
  }
 ],
 "metadata": {
  "kernelspec": {
   "display_name": "Python [conda env:bjorn38]",
   "language": "python",
   "name": "conda-env-bjorn38-py"
  },
  "language_info": {
   "codemirror_mode": {
    "name": "ipython",
    "version": 3
   },
   "file_extension": ".py",
   "mimetype": "text/x-python",
   "name": "python",
   "nbconvert_exporter": "python",
   "pygments_lexer": "ipython3",
   "version": "3.9.7"
  }
 },
 "nbformat": 4,
 "nbformat_minor": 4
}
