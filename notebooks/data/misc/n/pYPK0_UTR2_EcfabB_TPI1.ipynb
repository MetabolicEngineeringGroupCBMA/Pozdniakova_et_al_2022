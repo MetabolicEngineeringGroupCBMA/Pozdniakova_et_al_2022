{
 "cells": [
  {
   "cell_type": "markdown",
   "metadata": {},
   "source": [
    "# pYPK0_UTR2_EcfabB_TPI1\n",
    "\n",
    "This notebook describes the assembly of the [_Saccaromyces cerevisiae_](www.yeastgenome.org)\n",
    "single gene expression vector pYPK0_UTR2_EcfabB_TPI1.\n",
    "\n",
    "It is made by _in-vivo_ homologous recombination between three PCR products and one linear vector fragment.\n",
    "The PCR products are a promoter generated from a pYPK_Z vector, a gene from a pYPKa_A vector and \n",
    "a terminator from a pYPKa_E vector. The three PCR products are joined with\n",
    "a linearized [pYPKpw](https://github.com/BjornFJohansson/ypk-xylose-pathways/blob/master/notebooks/pYPKpw.ipynb) \n",
    "backbone vector that has the [URA3](http://www.yeastgenome.org/locus/S000000747/overview) \n",
    "marker and a _S. crevisiae_ [2 micron](http://blog.addgene.org/plasmids-101-yeast-vectors) origin of replication. \n",
    "\n",
    "The four linear DNA fragments are joined by homologous recombination in a \n",
    "[_Saccharomyces cerevisiae_](http://wiki.yeastgenome.org/index.php/Commonly_used_strains) ura3 mutant.\n",
    "\n",
    "![pYPK0_promoter_gene_terminator](tp_g_tp.png \"pYPK0_promoter_gene_terminator\")\n",
    "\n",
    "A part of the [pydna](https://pypi.python.org/pypi/pydna/) package is imported in the code cell below."
   ]
  },
  {
   "cell_type": "code",
   "execution_count": 1,
   "metadata": {
    "execution": {
     "iopub.execute_input": "2022-02-22T08:32:24.578652Z",
     "iopub.status.busy": "2022-02-22T08:32:24.578016Z",
     "iopub.status.idle": "2022-02-22T08:32:24.936168Z",
     "shell.execute_reply": "2022-02-22T08:32:24.935726Z"
    }
   },
   "outputs": [],
   "source": [
    "from pydna.parsers import parse_primers\n",
    "from pydna.readers import read\n",
    "from pydna.amplify import pcr\n",
    "from pydna.assembly import Assembly"
   ]
  },
  {
   "cell_type": "markdown",
   "metadata": {},
   "source": [
    "The Yeast Pathway Kit [standard primers](standard_primers.txt) are read into a dictionary in the code cell below."
   ]
  },
  {
   "cell_type": "code",
   "execution_count": 2,
   "metadata": {
    "execution": {
     "iopub.execute_input": "2022-02-22T08:32:24.943075Z",
     "iopub.status.busy": "2022-02-22T08:32:24.942539Z",
     "iopub.status.idle": "2022-02-22T08:32:24.952525Z",
     "shell.execute_reply": "2022-02-22T08:32:24.952043Z"
    }
   },
   "outputs": [],
   "source": [
    "p = { x.id: x for x in parse_primers(\"standard_primers.txt\") }"
   ]
  },
  {
   "cell_type": "markdown",
   "metadata": {},
   "source": [
    "The backbone vector [pYPKpw](pYPKpw.gb) is read from a local file in the code cell below."
   ]
  },
  {
   "cell_type": "code",
   "execution_count": 3,
   "metadata": {
    "execution": {
     "iopub.execute_input": "2022-02-22T08:32:24.961188Z",
     "iopub.status.busy": "2022-02-22T08:32:24.955319Z",
     "iopub.status.idle": "2022-02-22T08:32:24.963264Z",
     "shell.execute_reply": "2022-02-22T08:32:24.963646Z"
    }
   },
   "outputs": [],
   "source": [
    "pYPKpw = read(\"pYPKpw.gb\")"
   ]
  },
  {
   "cell_type": "markdown",
   "metadata": {},
   "source": [
    "The backbone vector is linearized by digestion with [EcoRV](http://rebase.neb.com/rebase/enz/EcoRV.html).\n",
    "The restriction enzyme functionality is provided by [biopython](http://biopython.org)."
   ]
  },
  {
   "cell_type": "code",
   "execution_count": 4,
   "metadata": {
    "execution": {
     "iopub.execute_input": "2022-02-22T08:32:24.969334Z",
     "iopub.status.busy": "2022-02-22T08:32:24.968814Z",
     "iopub.status.idle": "2022-02-22T08:32:24.971082Z",
     "shell.execute_reply": "2022-02-22T08:32:24.970611Z"
    }
   },
   "outputs": [],
   "source": [
    "from Bio.Restriction import EcoRV\n",
    "\n",
    "pYPK_EcoRV = pYPKpw.linearize(EcoRV)"
   ]
  },
  {
   "cell_type": "markdown",
   "metadata": {},
   "source": [
    "The pYPKa derived _E. coli_ plasmids containing [promoter](pYPKa_Z_UTR2.gb), [gene](pYPKa_A_EcfabB.gb) and [terminator](pYPKa_E_TPI1.gb)\n",
    "are read into three variables below."
   ]
  },
  {
   "cell_type": "code",
   "execution_count": 5,
   "metadata": {
    "execution": {
     "iopub.execute_input": "2022-02-22T08:32:24.975595Z",
     "iopub.status.busy": "2022-02-22T08:32:24.974695Z",
     "iopub.status.idle": "2022-02-22T08:32:24.985418Z",
     "shell.execute_reply": "2022-02-22T08:32:24.985905Z"
    }
   },
   "outputs": [],
   "source": [
    "promoter_template   = read(\"pYPKa_Z_UTR2.gb\")\n",
    "gene_template       = read(\"pYPKa_A_EcfabB.gb\")\n",
    "terminator_template = read(\"pYPKa_E_TPI1.gb\")"
   ]
  },
  {
   "cell_type": "markdown",
   "metadata": {},
   "source": [
    "The construction of the three vector above are described in the [pYPKa_ZE_UTR2](pYPKa_ZE_UTR2.ipynb) and [pYPKa_A_EcfabB](pYPKa_A_EcfabB.ipynb) notebooks.\n",
    "\n",
    "Three DNA fragments are PCR amplified using [standard primers](standard_primers.txt). Suggested PCR programs can be found at the end of this document."
   ]
  },
  {
   "cell_type": "code",
   "execution_count": 6,
   "metadata": {
    "execution": {
     "iopub.execute_input": "2022-02-22T08:32:24.993036Z",
     "iopub.status.busy": "2022-02-22T08:32:24.992436Z",
     "iopub.status.idle": "2022-02-22T08:32:25.009215Z",
     "shell.execute_reply": "2022-02-22T08:32:25.008688Z"
    }
   },
   "outputs": [],
   "source": [
    "prom = pcr( p['577'], p['567'], promoter_template)\n",
    "gene = pcr( p['468'], p['467'], gene_template)\n",
    "term = pcr( p['568'], p['578'], terminator_template)"
   ]
  },
  {
   "cell_type": "markdown",
   "metadata": {},
   "source": [
    "The four linear DNA fragments are mixed and transformed\n",
    "to a _Saccharomyces cerevisiae_ ura3 mutant.\n",
    "\n",
    "The fragments will be assembled by _in-vivo_ [homologous recombination](http://www.ncbi.nlm.nih.gov/pubmed/2828185):"
   ]
  },
  {
   "cell_type": "code",
   "execution_count": 7,
   "metadata": {
    "execution": {
     "iopub.execute_input": "2022-02-22T08:32:25.026905Z",
     "iopub.status.busy": "2022-02-22T08:32:25.021926Z",
     "iopub.status.idle": "2022-02-22T08:32:25.502740Z",
     "shell.execute_reply": "2022-02-22T08:32:25.502240Z"
    }
   },
   "outputs": [
    {
     "data": {
      "text/plain": [
       "Assembly\n",
       "fragments..: 5603bp 852bp 1310bp 922bp\n",
       "limit(bp)..: 31\n",
       "G.nodes....: 8\n",
       "algorithm..: common_sub_strings"
      ]
     },
     "execution_count": 7,
     "metadata": {},
     "output_type": "execute_result"
    }
   ],
   "source": [
    "asm = Assembly( (pYPK_EcoRV, prom, gene, term), limit=31 )\n",
    "\n",
    "asm"
   ]
  },
  {
   "cell_type": "markdown",
   "metadata": {},
   "source": [
    "The representation of the asm object above should normally indicate one circcular product only.\n",
    "More than one circular products might indicate an incorrect assembly strategy or represent\n",
    "by-products that might arise in the assembly process.\n",
    "The largest recombination product is chosen as candidate for the pYPK0_UTR2_EcfabB_TPI1 vector."
   ]
  },
  {
   "cell_type": "code",
   "execution_count": 8,
   "metadata": {
    "execution": {
     "iopub.execute_input": "2022-02-22T08:32:25.506641Z",
     "iopub.status.busy": "2022-02-22T08:32:25.506085Z",
     "iopub.status.idle": "2022-02-22T08:32:25.699479Z",
     "shell.execute_reply": "2022-02-22T08:32:25.698811Z"
    }
   },
   "outputs": [
    {
     "data": {
      "text/plain": [
       " -|pYPKpw_lin|124\n",
       "|             \\/\n",
       "|             /\\\n",
       "|             124|852bp_PCR_prod|50\n",
       "|                                \\/\n",
       "|                                /\\\n",
       "|                                50|1310bp_PCR_prod|37\n",
       "|                                                   \\/\n",
       "|                                                   /\\\n",
       "|                                                   37|922bp_PCR_prod|242\n",
       "|                                                                     \\/\n",
       "|                                                                     /\\\n",
       "|                                                                     242-\n",
       "|                                                                        |\n",
       " ------------------------------------------------------------------------"
      ]
     },
     "execution_count": 8,
     "metadata": {},
     "output_type": "execute_result"
    }
   ],
   "source": [
    "candidate = asm.assemble_circular()[0]\n",
    "\n",
    "candidate.figure()"
   ]
  },
  {
   "cell_type": "markdown",
   "metadata": {},
   "source": [
    "The candidate vector is synchronized to the backbone vector. This means that\n",
    "the plasmid origin is shifted so that it matches the pYPKpw backbone vector."
   ]
  },
  {
   "cell_type": "code",
   "execution_count": 9,
   "metadata": {
    "execution": {
     "iopub.execute_input": "2022-02-22T08:32:25.767746Z",
     "iopub.status.busy": "2022-02-22T08:32:25.737286Z",
     "iopub.status.idle": "2022-02-22T08:32:26.171227Z",
     "shell.execute_reply": "2022-02-22T08:32:26.170661Z"
    }
   },
   "outputs": [],
   "source": [
    "result = candidate.synced(pYPKpw)"
   ]
  },
  {
   "cell_type": "markdown",
   "metadata": {},
   "source": [
    "### Diagnostic PCR confirmation\n",
    "\n",
    "The structure of the final vector is confirmed by two\n",
    "separate PCR reactions, one for the promoter and gene and\n",
    "one for the gene and terminator.\n",
    "\n",
    "PCR using standard primers 577 and 467 to amplify promoter and gene."
   ]
  },
  {
   "cell_type": "code",
   "execution_count": 10,
   "metadata": {
    "execution": {
     "iopub.execute_input": "2022-02-22T08:32:26.187293Z",
     "iopub.status.busy": "2022-02-22T08:32:26.186804Z",
     "iopub.status.idle": "2022-02-22T08:32:26.189051Z",
     "shell.execute_reply": "2022-02-22T08:32:26.188579Z"
    }
   },
   "outputs": [],
   "source": [
    "product = pcr( p['577'], p['467'], result)"
   ]
  },
  {
   "cell_type": "markdown",
   "metadata": {},
   "source": [
    "A correct clone should give this size in base pairs:"
   ]
  },
  {
   "cell_type": "code",
   "execution_count": 11,
   "metadata": {
    "execution": {
     "iopub.execute_input": "2022-02-22T08:32:26.192966Z",
     "iopub.status.busy": "2022-02-22T08:32:26.192395Z",
     "iopub.status.idle": "2022-02-22T08:32:26.195530Z",
     "shell.execute_reply": "2022-02-22T08:32:26.195025Z"
    }
   },
   "outputs": [
    {
     "name": "stdout",
     "output_type": "stream",
     "text": [
      "2112\n"
     ]
    }
   ],
   "source": [
    "print(len(product))"
   ]
  },
  {
   "cell_type": "markdown",
   "metadata": {},
   "source": [
    "If the promoter is missing from the assembly, the PCR product will have this size in base pairs:"
   ]
  },
  {
   "cell_type": "code",
   "execution_count": 12,
   "metadata": {
    "execution": {
     "iopub.execute_input": "2022-02-22T08:32:26.200383Z",
     "iopub.status.busy": "2022-02-22T08:32:26.199698Z",
     "iopub.status.idle": "2022-02-22T08:32:26.202316Z",
     "shell.execute_reply": "2022-02-22T08:32:26.202760Z"
    }
   },
   "outputs": [
    {
     "name": "stdout",
     "output_type": "stream",
     "text": [
      "1260\n"
     ]
    }
   ],
   "source": [
    "print(len(product) - len(prom))"
   ]
  },
  {
   "cell_type": "markdown",
   "metadata": {},
   "source": [
    "If the gene is missing from the assembly, the PCR product will have this size in base pairs:"
   ]
  },
  {
   "cell_type": "code",
   "execution_count": 13,
   "metadata": {
    "execution": {
     "iopub.execute_input": "2022-02-22T08:32:26.207865Z",
     "iopub.status.busy": "2022-02-22T08:32:26.207118Z",
     "iopub.status.idle": "2022-02-22T08:32:26.209929Z",
     "shell.execute_reply": "2022-02-22T08:32:26.210444Z"
    }
   },
   "outputs": [
    {
     "name": "stdout",
     "output_type": "stream",
     "text": [
      "802\n"
     ]
    }
   ],
   "source": [
    "print(len(product) - len(gene))"
   ]
  },
  {
   "cell_type": "markdown",
   "metadata": {},
   "source": [
    "PCR using standard primers 468 and 578 to amplify gene and terminator."
   ]
  },
  {
   "cell_type": "code",
   "execution_count": 14,
   "metadata": {
    "execution": {
     "iopub.execute_input": "2022-02-22T08:32:26.227071Z",
     "iopub.status.busy": "2022-02-22T08:32:26.226465Z",
     "iopub.status.idle": "2022-02-22T08:32:26.228708Z",
     "shell.execute_reply": "2022-02-22T08:32:26.228292Z"
    }
   },
   "outputs": [],
   "source": [
    "product2 = pcr( p['468'], p['578'], result)"
   ]
  },
  {
   "cell_type": "markdown",
   "metadata": {},
   "source": [
    "A correct clone should give this size:"
   ]
  },
  {
   "cell_type": "code",
   "execution_count": 15,
   "metadata": {
    "execution": {
     "iopub.execute_input": "2022-02-22T08:32:26.232144Z",
     "iopub.status.busy": "2022-02-22T08:32:26.231700Z",
     "iopub.status.idle": "2022-02-22T08:32:26.233726Z",
     "shell.execute_reply": "2022-02-22T08:32:26.234098Z"
    }
   },
   "outputs": [
    {
     "name": "stdout",
     "output_type": "stream",
     "text": [
      "2195\n"
     ]
    }
   ],
   "source": [
    "print(len(product2))"
   ]
  },
  {
   "cell_type": "markdown",
   "metadata": {},
   "source": [
    "If the gene is missing from the assembly, the PCR product will have this size in base pairs:"
   ]
  },
  {
   "cell_type": "code",
   "execution_count": 16,
   "metadata": {
    "execution": {
     "iopub.execute_input": "2022-02-22T08:32:26.238126Z",
     "iopub.status.busy": "2022-02-22T08:32:26.237509Z",
     "iopub.status.idle": "2022-02-22T08:32:26.240061Z",
     "shell.execute_reply": "2022-02-22T08:32:26.240560Z"
    }
   },
   "outputs": [
    {
     "name": "stdout",
     "output_type": "stream",
     "text": [
      "885\n"
     ]
    }
   ],
   "source": [
    "print(len(product2) - len(gene))"
   ]
  },
  {
   "cell_type": "markdown",
   "metadata": {},
   "source": [
    "If the terminator is missing from the assembly, the PCR product will have this size in base pairs:"
   ]
  },
  {
   "cell_type": "code",
   "execution_count": 17,
   "metadata": {
    "execution": {
     "iopub.execute_input": "2022-02-22T08:32:26.245078Z",
     "iopub.status.busy": "2022-02-22T08:32:26.244483Z",
     "iopub.status.idle": "2022-02-22T08:32:26.247234Z",
     "shell.execute_reply": "2022-02-22T08:32:26.247668Z"
    }
   },
   "outputs": [
    {
     "name": "stdout",
     "output_type": "stream",
     "text": [
      "1273\n"
     ]
    }
   ],
   "source": [
    "print(len(product2) - len(term))"
   ]
  },
  {
   "cell_type": "markdown",
   "metadata": {},
   "source": [
    "The cseguid checksum for the resulting plasmid is calculated for future reference.\n",
    "The [cseguid checksum](http://pydna.readthedocs.org/en/latest/pydna.html#pydna.utils.cseguid) \n",
    "uniquely identifies a circular double stranded sequence."
   ]
  },
  {
   "cell_type": "code",
   "execution_count": 18,
   "metadata": {
    "execution": {
     "iopub.execute_input": "2022-02-22T08:32:26.258878Z",
     "iopub.status.busy": "2022-02-22T08:32:26.258346Z",
     "iopub.status.idle": "2022-02-22T08:32:26.260760Z",
     "shell.execute_reply": "2022-02-22T08:32:26.261086Z"
    }
   },
   "outputs": [
    {
     "data": {
      "text/plain": [
       "bNFrBIY_UaYTnBius8Td4ve2szw"
      ]
     },
     "execution_count": 18,
     "metadata": {},
     "output_type": "execute_result"
    }
   ],
   "source": [
    "result.cseguid()"
   ]
  },
  {
   "cell_type": "markdown",
   "metadata": {},
   "source": [
    "The file is named based on the nemas of promoter, gene and terminator."
   ]
  },
  {
   "cell_type": "code",
   "execution_count": 19,
   "metadata": {
    "execution": {
     "iopub.execute_input": "2022-02-22T08:32:26.265541Z",
     "iopub.status.busy": "2022-02-22T08:32:26.264762Z",
     "iopub.status.idle": "2022-02-22T08:32:26.266876Z",
     "shell.execute_reply": "2022-02-22T08:32:26.267342Z"
    }
   },
   "outputs": [],
   "source": [
    "result.locus = \"pYPK0_tp_g_tp\"\n",
    "result.definition = \"pYPK0_UTR2_EcfabB_TPI1\""
   ]
  },
  {
   "cell_type": "markdown",
   "metadata": {},
   "source": [
    "Sequence is stamped with cseguid checksum. This can be used to verify the \n",
    "integrity of the sequence file."
   ]
  },
  {
   "cell_type": "code",
   "execution_count": 20,
   "metadata": {
    "execution": {
     "iopub.execute_input": "2022-02-22T08:32:26.280879Z",
     "iopub.status.busy": "2022-02-22T08:32:26.280248Z",
     "iopub.status.idle": "2022-02-22T08:32:26.283238Z",
     "shell.execute_reply": "2022-02-22T08:32:26.282782Z"
    }
   },
   "outputs": [
    {
     "data": {
      "text/plain": [
       "cSEGUID_bNFrBIY_UaYTnBius8Td4ve2szw"
      ]
     },
     "execution_count": 20,
     "metadata": {},
     "output_type": "execute_result"
    }
   ],
   "source": [
    "result.stamp()"
   ]
  },
  {
   "cell_type": "markdown",
   "metadata": {},
   "source": [
    "Write sequence to a local file."
   ]
  },
  {
   "cell_type": "code",
   "execution_count": 21,
   "metadata": {
    "execution": {
     "iopub.execute_input": "2022-02-22T08:32:26.295252Z",
     "iopub.status.busy": "2022-02-22T08:32:26.291958Z",
     "iopub.status.idle": "2022-02-22T08:32:26.302200Z",
     "shell.execute_reply": "2022-02-22T08:32:26.302586Z"
    }
   },
   "outputs": [
    {
     "data": {
      "text/html": [
       "<font face=monospace><a href='pYPK0_UTR2_EcfabB_TPI1.gb' target='_blank'>pYPK0_UTR2_EcfabB_TPI1.gb</a></font><br>"
      ]
     },
     "metadata": {},
     "output_type": "display_data"
    }
   ],
   "source": [
    "result.write(\"pYPK0_UTR2_EcfabB_TPI1.gb\")"
   ]
  },
  {
   "cell_type": "markdown",
   "metadata": {},
   "source": [
    "## PCR programs for the amplification of Promoter, Gene and Terminator\n",
    "\n",
    "see cell #6\n",
    "\n",
    "Promoter"
   ]
  },
  {
   "cell_type": "code",
   "execution_count": 22,
   "metadata": {
    "execution": {
     "iopub.execute_input": "2022-02-22T08:32:26.313549Z",
     "iopub.status.busy": "2022-02-22T08:32:26.312262Z",
     "iopub.status.idle": "2022-02-22T08:32:26.318087Z",
     "shell.execute_reply": "2022-02-22T08:32:26.317178Z"
    }
   },
   "outputs": [
    {
     "data": {
      "text/plain": [
       "|95°C|95°C               |    |tmf:64.6\n",
       "|____|_____          72°C|72°C|tmr:69.7\n",
       "|3min|30s  \\ 57.6°C _____|____|45s/kb\n",
       "|    |      \\______/ 0:38|5min|GC 40%\n",
       "|    |       30s         |    |852bp"
      ]
     },
     "execution_count": 22,
     "metadata": {},
     "output_type": "execute_result"
    }
   ],
   "source": [
    "prom.program()"
   ]
  },
  {
   "cell_type": "markdown",
   "metadata": {},
   "source": [
    "Gene"
   ]
  },
  {
   "cell_type": "code",
   "execution_count": 23,
   "metadata": {
    "execution": {
     "iopub.execute_input": "2022-02-22T08:32:26.324140Z",
     "iopub.status.busy": "2022-02-22T08:32:26.323442Z",
     "iopub.status.idle": "2022-02-22T08:32:26.326815Z",
     "shell.execute_reply": "2022-02-22T08:32:26.327416Z"
    }
   },
   "outputs": [
    {
     "data": {
      "text/plain": [
       "|95°C|95°C               |    |tmf:76.9\n",
       "|____|_____          72°C|72°C|tmr:67.9\n",
       "|3min|30s  \\ 63.2°C _____|____|45s/kb\n",
       "|    |      \\______/ 0:58|5min|GC 56%\n",
       "|    |       30s         |    |1310bp"
      ]
     },
     "execution_count": 23,
     "metadata": {},
     "output_type": "execute_result"
    }
   ],
   "source": [
    "gene.program()"
   ]
  },
  {
   "cell_type": "markdown",
   "metadata": {},
   "source": [
    "Terminator"
   ]
  },
  {
   "cell_type": "code",
   "execution_count": 24,
   "metadata": {
    "execution": {
     "iopub.execute_input": "2022-02-22T08:32:26.335721Z",
     "iopub.status.busy": "2022-02-22T08:32:26.334863Z",
     "iopub.status.idle": "2022-02-22T08:32:26.338249Z",
     "shell.execute_reply": "2022-02-22T08:32:26.337728Z"
    }
   },
   "outputs": [
    {
     "data": {
      "text/plain": [
       "|95°C|95°C               |    |tmf:66.1\n",
       "|____|_____          72°C|72°C|tmr:65.0\n",
       "|3min|30s  \\ 57.2°C _____|____|45s/kb\n",
       "|    |      \\______/ 0:41|5min|GC 38%\n",
       "|    |       30s         |    |922bp"
      ]
     },
     "execution_count": 24,
     "metadata": {},
     "output_type": "execute_result"
    }
   ],
   "source": [
    "term.program()"
   ]
  }
 ],
 "metadata": {
  "language_info": {
   "codemirror_mode": {
    "name": "ipython",
    "version": 3
   },
   "file_extension": ".py",
   "mimetype": "text/x-python",
   "name": "python",
   "nbconvert_exporter": "python",
   "pygments_lexer": "ipython3",
   "version": "3.9.7"
  }
 },
 "nbformat": 4,
 "nbformat_minor": 2
}
