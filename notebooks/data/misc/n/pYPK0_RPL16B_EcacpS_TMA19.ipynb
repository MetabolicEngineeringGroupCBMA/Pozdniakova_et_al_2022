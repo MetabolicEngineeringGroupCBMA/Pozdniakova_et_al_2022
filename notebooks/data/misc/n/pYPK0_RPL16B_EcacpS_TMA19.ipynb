{
 "cells": [
  {
   "cell_type": "markdown",
   "metadata": {},
   "source": [
    "# pYPK0_RPL16B_EcacpS_TMA19\n",
    "\n",
    "This notebook describes the assembly of the [_Saccaromyces cerevisiae_](www.yeastgenome.org)\n",
    "single gene expression vector pYPK0_RPL16B_EcacpS_TMA19.\n",
    "\n",
    "It is made by _in-vivo_ homologous recombination between three PCR products and one linear vector fragment.\n",
    "The PCR products are a promoter generated from a pYPK_Z vector, a gene from a pYPKa_A vector and \n",
    "a terminator from a pYPKa_E vector. The three PCR products are joined with\n",
    "a linearized [pYPKpw](https://github.com/BjornFJohansson/ypk-xylose-pathways/blob/master/notebooks/pYPKpw.ipynb) \n",
    "backbone vector that has the [URA3](http://www.yeastgenome.org/locus/S000000747/overview) \n",
    "marker and a _S. crevisiae_ [2 micron](http://blog.addgene.org/plasmids-101-yeast-vectors) origin of replication. \n",
    "\n",
    "The four linear DNA fragments are joined by homologous recombination in a \n",
    "[_Saccharomyces cerevisiae_](http://wiki.yeastgenome.org/index.php/Commonly_used_strains) ura3 mutant.\n",
    "\n",
    "![pYPK0_promoter_gene_terminator](tp_g_tp.png \"pYPK0_promoter_gene_terminator\")\n",
    "\n",
    "A part of the [pydna](https://pypi.python.org/pypi/pydna/) package is imported in the code cell below."
   ]
  },
  {
   "cell_type": "code",
   "execution_count": 1,
   "metadata": {
    "execution": {
     "iopub.execute_input": "2022-02-22T08:32:01.802274Z",
     "iopub.status.busy": "2022-02-22T08:32:01.801717Z",
     "iopub.status.idle": "2022-02-22T08:32:02.220689Z",
     "shell.execute_reply": "2022-02-22T08:32:02.221162Z"
    }
   },
   "outputs": [],
   "source": [
    "from pydna.parsers import parse_primers\n",
    "from pydna.readers import read\n",
    "from pydna.amplify import pcr\n",
    "from pydna.assembly import Assembly"
   ]
  },
  {
   "cell_type": "markdown",
   "metadata": {},
   "source": [
    "The Yeast Pathway Kit [standard primers](standard_primers.txt) are read into a dictionary in the code cell below."
   ]
  },
  {
   "cell_type": "code",
   "execution_count": 2,
   "metadata": {
    "execution": {
     "iopub.execute_input": "2022-02-22T08:32:02.235800Z",
     "iopub.status.busy": "2022-02-22T08:32:02.234744Z",
     "iopub.status.idle": "2022-02-22T08:32:02.245692Z",
     "shell.execute_reply": "2022-02-22T08:32:02.244547Z"
    }
   },
   "outputs": [],
   "source": [
    "p = { x.id: x for x in parse_primers(\"standard_primers.txt\") }"
   ]
  },
  {
   "cell_type": "markdown",
   "metadata": {},
   "source": [
    "The backbone vector [pYPKpw](pYPKpw.gb) is read from a local file in the code cell below."
   ]
  },
  {
   "cell_type": "code",
   "execution_count": 3,
   "metadata": {
    "execution": {
     "iopub.execute_input": "2022-02-22T08:32:02.255336Z",
     "iopub.status.busy": "2022-02-22T08:32:02.254600Z",
     "iopub.status.idle": "2022-02-22T08:32:02.256775Z",
     "shell.execute_reply": "2022-02-22T08:32:02.257242Z"
    }
   },
   "outputs": [],
   "source": [
    "pYPKpw = read(\"pYPKpw.gb\")"
   ]
  },
  {
   "cell_type": "markdown",
   "metadata": {},
   "source": [
    "The backbone vector is linearized by digestion with [EcoRV](http://rebase.neb.com/rebase/enz/EcoRV.html).\n",
    "The restriction enzyme functionality is provided by [biopython](http://biopython.org)."
   ]
  },
  {
   "cell_type": "code",
   "execution_count": 4,
   "metadata": {
    "execution": {
     "iopub.execute_input": "2022-02-22T08:32:02.265478Z",
     "iopub.status.busy": "2022-02-22T08:32:02.264721Z",
     "iopub.status.idle": "2022-02-22T08:32:02.266850Z",
     "shell.execute_reply": "2022-02-22T08:32:02.267224Z"
    }
   },
   "outputs": [],
   "source": [
    "from Bio.Restriction import EcoRV\n",
    "\n",
    "pYPK_EcoRV = pYPKpw.linearize(EcoRV)"
   ]
  },
  {
   "cell_type": "markdown",
   "metadata": {},
   "source": [
    "The pYPKa derived _E. coli_ plasmids containing [promoter](pYPKa_Z_RPL16B.gb), [gene](pYPKa_A_EcacpS.gb) and [terminator](pYPKa_E_TMA19.gb)\n",
    "are read into three variables below."
   ]
  },
  {
   "cell_type": "code",
   "execution_count": 5,
   "metadata": {
    "execution": {
     "iopub.execute_input": "2022-02-22T08:32:02.271102Z",
     "iopub.status.busy": "2022-02-22T08:32:02.270403Z",
     "iopub.status.idle": "2022-02-22T08:32:02.282208Z",
     "shell.execute_reply": "2022-02-22T08:32:02.282866Z"
    }
   },
   "outputs": [],
   "source": [
    "promoter_template   = read(\"pYPKa_Z_RPL16B.gb\")\n",
    "gene_template       = read(\"pYPKa_A_EcacpS.gb\")\n",
    "terminator_template = read(\"pYPKa_E_TMA19.gb\")"
   ]
  },
  {
   "cell_type": "markdown",
   "metadata": {},
   "source": [
    "The construction of the three vector above are described in the [pYPKa_ZE_RPL16B](pYPKa_ZE_RPL16B.ipynb) and [pYPKa_A_EcacpS](pYPKa_A_EcacpS.ipynb) notebooks.\n",
    "\n",
    "Three DNA fragments are PCR amplified using [standard primers](standard_primers.txt). Suggested PCR programs can be found at the end of this document."
   ]
  },
  {
   "cell_type": "code",
   "execution_count": 6,
   "metadata": {
    "execution": {
     "iopub.execute_input": "2022-02-22T08:32:02.289272Z",
     "iopub.status.busy": "2022-02-22T08:32:02.288663Z",
     "iopub.status.idle": "2022-02-22T08:32:02.306307Z",
     "shell.execute_reply": "2022-02-22T08:32:02.305743Z"
    }
   },
   "outputs": [],
   "source": [
    "prom = pcr( p['577'], p['567'], promoter_template)\n",
    "gene = pcr( p['468'], p['467'], gene_template)\n",
    "term = pcr( p['568'], p['578'], terminator_template)"
   ]
  },
  {
   "cell_type": "markdown",
   "metadata": {},
   "source": [
    "The four linear DNA fragments are mixed and transformed\n",
    "to a _Saccharomyces cerevisiae_ ura3 mutant.\n",
    "\n",
    "The fragments will be assembled by _in-vivo_ [homologous recombination](http://www.ncbi.nlm.nih.gov/pubmed/2828185):"
   ]
  },
  {
   "cell_type": "code",
   "execution_count": 7,
   "metadata": {
    "execution": {
     "iopub.execute_input": "2022-02-22T08:32:02.319564Z",
     "iopub.status.busy": "2022-02-22T08:32:02.315285Z",
     "iopub.status.idle": "2022-02-22T08:32:02.746832Z",
     "shell.execute_reply": "2022-02-22T08:32:02.747206Z"
    }
   },
   "outputs": [
    {
     "data": {
      "text/plain": [
       "Assembly\n",
       "fragments..: 5603bp 930bp 470bp 744bp\n",
       "limit(bp)..: 31\n",
       "G.nodes....: 8\n",
       "algorithm..: common_sub_strings"
      ]
     },
     "execution_count": 7,
     "metadata": {},
     "output_type": "execute_result"
    }
   ],
   "source": [
    "asm = Assembly( (pYPK_EcoRV, prom, gene, term), limit=31 )\n",
    "\n",
    "asm"
   ]
  },
  {
   "cell_type": "markdown",
   "metadata": {},
   "source": [
    "The representation of the asm object above should normally indicate one circcular product only.\n",
    "More than one circular products might indicate an incorrect assembly strategy or represent\n",
    "by-products that might arise in the assembly process.\n",
    "The largest recombination product is chosen as candidate for the pYPK0_RPL16B_EcacpS_TMA19 vector."
   ]
  },
  {
   "cell_type": "code",
   "execution_count": 8,
   "metadata": {
    "execution": {
     "iopub.execute_input": "2022-02-22T08:32:02.751655Z",
     "iopub.status.busy": "2022-02-22T08:32:02.750641Z",
     "iopub.status.idle": "2022-02-22T08:32:02.954216Z",
     "shell.execute_reply": "2022-02-22T08:32:02.954600Z"
    }
   },
   "outputs": [
    {
     "data": {
      "text/plain": [
       " -|pYPKpw_lin|124\n",
       "|             \\/\n",
       "|             /\\\n",
       "|             124|930bp_PCR_prod|50\n",
       "|                                \\/\n",
       "|                                /\\\n",
       "|                                50|470bp_PCR_prod|37\n",
       "|                                                  \\/\n",
       "|                                                  /\\\n",
       "|                                                  37|744bp_PCR_prod|242\n",
       "|                                                                    \\/\n",
       "|                                                                    /\\\n",
       "|                                                                    242-\n",
       "|                                                                       |\n",
       " -----------------------------------------------------------------------"
      ]
     },
     "execution_count": 8,
     "metadata": {},
     "output_type": "execute_result"
    }
   ],
   "source": [
    "candidate = asm.assemble_circular()[0]\n",
    "\n",
    "candidate.figure()"
   ]
  },
  {
   "cell_type": "markdown",
   "metadata": {},
   "source": [
    "The candidate vector is synchronized to the backbone vector. This means that\n",
    "the plasmid origin is shifted so that it matches the pYPKpw backbone vector."
   ]
  },
  {
   "cell_type": "code",
   "execution_count": 9,
   "metadata": {
    "execution": {
     "iopub.execute_input": "2022-02-22T08:32:02.998591Z",
     "iopub.status.busy": "2022-02-22T08:32:02.962823Z",
     "iopub.status.idle": "2022-02-22T08:32:03.390018Z",
     "shell.execute_reply": "2022-02-22T08:32:03.389565Z"
    }
   },
   "outputs": [],
   "source": [
    "result = candidate.synced(pYPKpw)"
   ]
  },
  {
   "cell_type": "markdown",
   "metadata": {},
   "source": [
    "### Diagnostic PCR confirmation\n",
    "\n",
    "The structure of the final vector is confirmed by two\n",
    "separate PCR reactions, one for the promoter and gene and\n",
    "one for the gene and terminator.\n",
    "\n",
    "PCR using standard primers 577 and 467 to amplify promoter and gene."
   ]
  },
  {
   "cell_type": "code",
   "execution_count": 10,
   "metadata": {
    "execution": {
     "iopub.execute_input": "2022-02-22T08:32:03.404219Z",
     "iopub.status.busy": "2022-02-22T08:32:03.403791Z",
     "iopub.status.idle": "2022-02-22T08:32:03.405791Z",
     "shell.execute_reply": "2022-02-22T08:32:03.405416Z"
    }
   },
   "outputs": [],
   "source": [
    "product = pcr( p['577'], p['467'], result)"
   ]
  },
  {
   "cell_type": "markdown",
   "metadata": {},
   "source": [
    "A correct clone should give this size in base pairs:"
   ]
  },
  {
   "cell_type": "code",
   "execution_count": 11,
   "metadata": {
    "execution": {
     "iopub.execute_input": "2022-02-22T08:32:03.409379Z",
     "iopub.status.busy": "2022-02-22T08:32:03.408882Z",
     "iopub.status.idle": "2022-02-22T08:32:03.411120Z",
     "shell.execute_reply": "2022-02-22T08:32:03.411468Z"
    }
   },
   "outputs": [
    {
     "name": "stdout",
     "output_type": "stream",
     "text": [
      "1350\n"
     ]
    }
   ],
   "source": [
    "print(len(product))"
   ]
  },
  {
   "cell_type": "markdown",
   "metadata": {},
   "source": [
    "If the promoter is missing from the assembly, the PCR product will have this size in base pairs:"
   ]
  },
  {
   "cell_type": "code",
   "execution_count": 12,
   "metadata": {
    "execution": {
     "iopub.execute_input": "2022-02-22T08:32:03.415370Z",
     "iopub.status.busy": "2022-02-22T08:32:03.414739Z",
     "iopub.status.idle": "2022-02-22T08:32:03.417314Z",
     "shell.execute_reply": "2022-02-22T08:32:03.417793Z"
    }
   },
   "outputs": [
    {
     "name": "stdout",
     "output_type": "stream",
     "text": [
      "420\n"
     ]
    }
   ],
   "source": [
    "print(len(product) - len(prom))"
   ]
  },
  {
   "cell_type": "markdown",
   "metadata": {},
   "source": [
    "If the gene is missing from the assembly, the PCR product will have this size in base pairs:"
   ]
  },
  {
   "cell_type": "code",
   "execution_count": 13,
   "metadata": {
    "execution": {
     "iopub.execute_input": "2022-02-22T08:32:03.422403Z",
     "iopub.status.busy": "2022-02-22T08:32:03.421630Z",
     "iopub.status.idle": "2022-02-22T08:32:03.424290Z",
     "shell.execute_reply": "2022-02-22T08:32:03.424719Z"
    }
   },
   "outputs": [
    {
     "name": "stdout",
     "output_type": "stream",
     "text": [
      "880\n"
     ]
    }
   ],
   "source": [
    "print(len(product) - len(gene))"
   ]
  },
  {
   "cell_type": "markdown",
   "metadata": {},
   "source": [
    "PCR using standard primers 468 and 578 to amplify gene and terminator."
   ]
  },
  {
   "cell_type": "code",
   "execution_count": 14,
   "metadata": {
    "execution": {
     "iopub.execute_input": "2022-02-22T08:32:03.442368Z",
     "iopub.status.busy": "2022-02-22T08:32:03.441868Z",
     "iopub.status.idle": "2022-02-22T08:32:03.444048Z",
     "shell.execute_reply": "2022-02-22T08:32:03.443591Z"
    }
   },
   "outputs": [],
   "source": [
    "product2 = pcr( p['468'], p['578'], result)"
   ]
  },
  {
   "cell_type": "markdown",
   "metadata": {},
   "source": [
    "A correct clone should give this size:"
   ]
  },
  {
   "cell_type": "code",
   "execution_count": 15,
   "metadata": {
    "execution": {
     "iopub.execute_input": "2022-02-22T08:32:03.447922Z",
     "iopub.status.busy": "2022-02-22T08:32:03.447322Z",
     "iopub.status.idle": "2022-02-22T08:32:03.449678Z",
     "shell.execute_reply": "2022-02-22T08:32:03.450188Z"
    }
   },
   "outputs": [
    {
     "name": "stdout",
     "output_type": "stream",
     "text": [
      "1177\n"
     ]
    }
   ],
   "source": [
    "print(len(product2))"
   ]
  },
  {
   "cell_type": "markdown",
   "metadata": {},
   "source": [
    "If the gene is missing from the assembly, the PCR product will have this size in base pairs:"
   ]
  },
  {
   "cell_type": "code",
   "execution_count": 16,
   "metadata": {
    "execution": {
     "iopub.execute_input": "2022-02-22T08:32:03.454577Z",
     "iopub.status.busy": "2022-02-22T08:32:03.453977Z",
     "iopub.status.idle": "2022-02-22T08:32:03.456394Z",
     "shell.execute_reply": "2022-02-22T08:32:03.456856Z"
    }
   },
   "outputs": [
    {
     "name": "stdout",
     "output_type": "stream",
     "text": [
      "707\n"
     ]
    }
   ],
   "source": [
    "print(len(product2) - len(gene))"
   ]
  },
  {
   "cell_type": "markdown",
   "metadata": {},
   "source": [
    "If the terminator is missing from the assembly, the PCR product will have this size in base pairs:"
   ]
  },
  {
   "cell_type": "code",
   "execution_count": 17,
   "metadata": {
    "execution": {
     "iopub.execute_input": "2022-02-22T08:32:03.460564Z",
     "iopub.status.busy": "2022-02-22T08:32:03.460129Z",
     "iopub.status.idle": "2022-02-22T08:32:03.462094Z",
     "shell.execute_reply": "2022-02-22T08:32:03.462444Z"
    }
   },
   "outputs": [
    {
     "name": "stdout",
     "output_type": "stream",
     "text": [
      "433\n"
     ]
    }
   ],
   "source": [
    "print(len(product2) - len(term))"
   ]
  },
  {
   "cell_type": "markdown",
   "metadata": {},
   "source": [
    "The cseguid checksum for the resulting plasmid is calculated for future reference.\n",
    "The [cseguid checksum](http://pydna.readthedocs.org/en/latest/pydna.html#pydna.utils.cseguid) \n",
    "uniquely identifies a circular double stranded sequence."
   ]
  },
  {
   "cell_type": "code",
   "execution_count": 18,
   "metadata": {
    "execution": {
     "iopub.execute_input": "2022-02-22T08:32:03.474022Z",
     "iopub.status.busy": "2022-02-22T08:32:03.473165Z",
     "iopub.status.idle": "2022-02-22T08:32:03.476618Z",
     "shell.execute_reply": "2022-02-22T08:32:03.476121Z"
    }
   },
   "outputs": [
    {
     "data": {
      "text/plain": [
       "1wnQix1NzXyGL46uTlPMEGkT_Hk"
      ]
     },
     "execution_count": 18,
     "metadata": {},
     "output_type": "execute_result"
    }
   ],
   "source": [
    "result.cseguid()"
   ]
  },
  {
   "cell_type": "markdown",
   "metadata": {},
   "source": [
    "The file is named based on the nemas of promoter, gene and terminator."
   ]
  },
  {
   "cell_type": "code",
   "execution_count": 19,
   "metadata": {
    "execution": {
     "iopub.execute_input": "2022-02-22T08:32:03.481324Z",
     "iopub.status.busy": "2022-02-22T08:32:03.480447Z",
     "iopub.status.idle": "2022-02-22T08:32:03.482663Z",
     "shell.execute_reply": "2022-02-22T08:32:03.483349Z"
    }
   },
   "outputs": [],
   "source": [
    "result.locus = \"pYPK0_tp_g_tp\"\n",
    "result.definition = \"pYPK0_RPL16B_EcacpS_TMA19\""
   ]
  },
  {
   "cell_type": "markdown",
   "metadata": {},
   "source": [
    "Sequence is stamped with cseguid checksum. This can be used to verify the \n",
    "integrity of the sequence file."
   ]
  },
  {
   "cell_type": "code",
   "execution_count": 20,
   "metadata": {
    "execution": {
     "iopub.execute_input": "2022-02-22T08:32:03.495987Z",
     "iopub.status.busy": "2022-02-22T08:32:03.495292Z",
     "iopub.status.idle": "2022-02-22T08:32:03.498315Z",
     "shell.execute_reply": "2022-02-22T08:32:03.498686Z"
    }
   },
   "outputs": [
    {
     "data": {
      "text/plain": [
       "cSEGUID_1wnQix1NzXyGL46uTlPMEGkT_Hk"
      ]
     },
     "execution_count": 20,
     "metadata": {},
     "output_type": "execute_result"
    }
   ],
   "source": [
    "result.stamp()"
   ]
  },
  {
   "cell_type": "markdown",
   "metadata": {},
   "source": [
    "Write sequence to a local file."
   ]
  },
  {
   "cell_type": "code",
   "execution_count": 21,
   "metadata": {
    "execution": {
     "iopub.execute_input": "2022-02-22T08:32:03.503317Z",
     "iopub.status.busy": "2022-02-22T08:32:03.502519Z",
     "iopub.status.idle": "2022-02-22T08:32:03.523214Z",
     "shell.execute_reply": "2022-02-22T08:32:03.523804Z"
    }
   },
   "outputs": [
    {
     "data": {
      "text/html": [
       "<font face=monospace><a href='pYPK0_RPL16B_EcacpS_TMA19.gb' target='_blank'>pYPK0_RPL16B_EcacpS_TMA19.gb</a></font><br>"
      ]
     },
     "metadata": {},
     "output_type": "display_data"
    }
   ],
   "source": [
    "result.write(\"pYPK0_RPL16B_EcacpS_TMA19.gb\")"
   ]
  },
  {
   "cell_type": "markdown",
   "metadata": {},
   "source": [
    "## PCR programs for the amplification of Promoter, Gene and Terminator\n",
    "\n",
    "see cell #6\n",
    "\n",
    "Promoter"
   ]
  },
  {
   "cell_type": "code",
   "execution_count": 22,
   "metadata": {
    "execution": {
     "iopub.execute_input": "2022-02-22T08:32:03.532189Z",
     "iopub.status.busy": "2022-02-22T08:32:03.531546Z",
     "iopub.status.idle": "2022-02-22T08:32:03.534412Z",
     "shell.execute_reply": "2022-02-22T08:32:03.534010Z"
    }
   },
   "outputs": [
    {
     "data": {
      "text/plain": [
       "|95°C|95°C               |    |tmf:64.6\n",
       "|____|_____          72°C|72°C|tmr:69.7\n",
       "|3min|30s  \\ 58.3°C _____|____|45s/kb\n",
       "|    |      \\______/ 0:41|5min|GC 43%\n",
       "|    |       30s         |    |930bp"
      ]
     },
     "execution_count": 22,
     "metadata": {},
     "output_type": "execute_result"
    }
   ],
   "source": [
    "prom.program()"
   ]
  },
  {
   "cell_type": "markdown",
   "metadata": {},
   "source": [
    "Gene"
   ]
  },
  {
   "cell_type": "code",
   "execution_count": 23,
   "metadata": {
    "execution": {
     "iopub.execute_input": "2022-02-22T08:32:03.539027Z",
     "iopub.status.busy": "2022-02-22T08:32:03.538248Z",
     "iopub.status.idle": "2022-02-22T08:32:03.541343Z",
     "shell.execute_reply": "2022-02-22T08:32:03.541929Z"
    }
   },
   "outputs": [
    {
     "data": {
      "text/plain": [
       "|95°C|95°C               |    |tmf:76.9\n",
       "|____|_____          72°C|72°C|tmr:67.9\n",
       "|3min|30s  \\ 61.2°C _____|____|45s/kb\n",
       "|    |      \\______/ 0:30|5min|GC 51%\n",
       "|    |       30s         |    |470bp"
      ]
     },
     "execution_count": 23,
     "metadata": {},
     "output_type": "execute_result"
    }
   ],
   "source": [
    "gene.program()"
   ]
  },
  {
   "cell_type": "markdown",
   "metadata": {},
   "source": [
    "Terminator"
   ]
  },
  {
   "cell_type": "code",
   "execution_count": 24,
   "metadata": {
    "execution": {
     "iopub.execute_input": "2022-02-22T08:32:03.549642Z",
     "iopub.status.busy": "2022-02-22T08:32:03.549070Z",
     "iopub.status.idle": "2022-02-22T08:32:03.551891Z",
     "shell.execute_reply": "2022-02-22T08:32:03.551495Z"
    }
   },
   "outputs": [
    {
     "data": {
      "text/plain": [
       "|95°C|95°C               |    |tmf:66.1\n",
       "|____|_____          72°C|72°C|tmr:65.0\n",
       "|3min|30s  \\ 56.1°C _____|____|45s/kb\n",
       "|    |      \\______/ 0:33|5min|GC 35%\n",
       "|    |       30s         |    |744bp"
      ]
     },
     "execution_count": 24,
     "metadata": {},
     "output_type": "execute_result"
    }
   ],
   "source": [
    "term.program()"
   ]
  }
 ],
 "metadata": {
  "language_info": {
   "codemirror_mode": {
    "name": "ipython",
    "version": 3
   },
   "file_extension": ".py",
   "mimetype": "text/x-python",
   "name": "python",
   "nbconvert_exporter": "python",
   "pygments_lexer": "ipython3",
   "version": "3.9.7"
  }
 },
 "nbformat": 4,
 "nbformat_minor": 2
}
