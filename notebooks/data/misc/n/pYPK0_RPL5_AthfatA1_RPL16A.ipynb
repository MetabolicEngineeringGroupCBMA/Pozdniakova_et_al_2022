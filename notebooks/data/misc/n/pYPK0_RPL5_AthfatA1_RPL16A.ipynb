{
 "cells": [
  {
   "cell_type": "markdown",
   "metadata": {},
   "source": [
    "# pYPK0_RPL5_AthfatA1_RPL16A\n",
    "\n",
    "This notebook describes the assembly of the [_Saccaromyces cerevisiae_](www.yeastgenome.org)\n",
    "single gene expression vector pYPK0_RPL5_AthfatA1_RPL16A.\n",
    "\n",
    "It is made by _in-vivo_ homologous recombination between three PCR products and one linear vector fragment.\n",
    "The PCR products are a promoter generated from a pYPK_Z vector, a gene from a pYPKa_A vector and \n",
    "a terminator from a pYPKa_E vector. The three PCR products are joined with\n",
    "a linearized [pYPKpw](https://github.com/BjornFJohansson/ypk-xylose-pathways/blob/master/notebooks/pYPKpw.ipynb) \n",
    "backbone vector that has the [URA3](http://www.yeastgenome.org/locus/S000000747/overview) \n",
    "marker and a _S. crevisiae_ [2 micron](http://blog.addgene.org/plasmids-101-yeast-vectors) origin of replication. \n",
    "\n",
    "The four linear DNA fragments are joined by homologous recombination in a \n",
    "[_Saccharomyces cerevisiae_](http://wiki.yeastgenome.org/index.php/Commonly_used_strains) ura3 mutant.\n",
    "\n",
    "![pYPK0_promoter_gene_terminator](tp_g_tp.png \"pYPK0_promoter_gene_terminator\")\n",
    "\n",
    "A part of the [pydna](https://pypi.python.org/pypi/pydna/) package is imported in the code cell below."
   ]
  },
  {
   "cell_type": "code",
   "execution_count": 1,
   "metadata": {
    "execution": {
     "iopub.execute_input": "2022-02-22T08:32:12.051265Z",
     "iopub.status.busy": "2022-02-22T08:32:12.050585Z",
     "iopub.status.idle": "2022-02-22T08:32:12.461298Z",
     "shell.execute_reply": "2022-02-22T08:32:12.460450Z"
    }
   },
   "outputs": [],
   "source": [
    "from pydna.parsers import parse_primers\n",
    "from pydna.readers import read\n",
    "from pydna.amplify import pcr\n",
    "from pydna.assembly import Assembly"
   ]
  },
  {
   "cell_type": "markdown",
   "metadata": {},
   "source": [
    "The Yeast Pathway Kit [standard primers](standard_primers.txt) are read into a dictionary in the code cell below."
   ]
  },
  {
   "cell_type": "code",
   "execution_count": 2,
   "metadata": {
    "execution": {
     "iopub.execute_input": "2022-02-22T08:32:12.470198Z",
     "iopub.status.busy": "2022-02-22T08:32:12.469294Z",
     "iopub.status.idle": "2022-02-22T08:32:12.481116Z",
     "shell.execute_reply": "2022-02-22T08:32:12.481721Z"
    }
   },
   "outputs": [],
   "source": [
    "p = { x.id: x for x in parse_primers(\"standard_primers.txt\") }"
   ]
  },
  {
   "cell_type": "markdown",
   "metadata": {},
   "source": [
    "The backbone vector [pYPKpw](pYPKpw.gb) is read from a local file in the code cell below."
   ]
  },
  {
   "cell_type": "code",
   "execution_count": 3,
   "metadata": {
    "execution": {
     "iopub.execute_input": "2022-02-22T08:32:12.492990Z",
     "iopub.status.busy": "2022-02-22T08:32:12.486228Z",
     "iopub.status.idle": "2022-02-22T08:32:12.495806Z",
     "shell.execute_reply": "2022-02-22T08:32:12.496340Z"
    }
   },
   "outputs": [],
   "source": [
    "pYPKpw = read(\"pYPKpw.gb\")"
   ]
  },
  {
   "cell_type": "markdown",
   "metadata": {},
   "source": [
    "The backbone vector is linearized by digestion with [EcoRV](http://rebase.neb.com/rebase/enz/EcoRV.html).\n",
    "The restriction enzyme functionality is provided by [biopython](http://biopython.org)."
   ]
  },
  {
   "cell_type": "code",
   "execution_count": 4,
   "metadata": {
    "execution": {
     "iopub.execute_input": "2022-02-22T08:32:12.504007Z",
     "iopub.status.busy": "2022-02-22T08:32:12.503387Z",
     "iopub.status.idle": "2022-02-22T08:32:12.505516Z",
     "shell.execute_reply": "2022-02-22T08:32:12.506009Z"
    }
   },
   "outputs": [],
   "source": [
    "from Bio.Restriction import EcoRV\n",
    "\n",
    "pYPK_EcoRV = pYPKpw.linearize(EcoRV)"
   ]
  },
  {
   "cell_type": "markdown",
   "metadata": {},
   "source": [
    "The pYPKa derived _E. coli_ plasmids containing [promoter](pYPKa_Z_RPL5.gb), [gene](pYPKa_A_AthfatA1.gb) and [terminator](pYPKa_E_RPL16A.gb)\n",
    "are read into three variables below."
   ]
  },
  {
   "cell_type": "code",
   "execution_count": 5,
   "metadata": {
    "execution": {
     "iopub.execute_input": "2022-02-22T08:32:12.515081Z",
     "iopub.status.busy": "2022-02-22T08:32:12.510968Z",
     "iopub.status.idle": "2022-02-22T08:32:12.523460Z",
     "shell.execute_reply": "2022-02-22T08:32:12.522988Z"
    }
   },
   "outputs": [],
   "source": [
    "promoter_template   = read(\"pYPKa_Z_RPL5.gb\")\n",
    "gene_template       = read(\"pYPK0_A_AthfatA1.gb\")\n",
    "terminator_template = read(\"pYPKa_E_RPL16A.gb\")"
   ]
  },
  {
   "cell_type": "markdown",
   "metadata": {},
   "source": [
    "The construction of the three vector above are described in the [pYPKa_ZE_RPL5](pYPKa_ZE_RPL5.ipynb) and [pYPKa_A_AthfatA1](pYPKa_A_AthfatA1.ipynb) notebooks.\n",
    "\n",
    "Three DNA fragments are PCR amplified using [standard primers](standard_primers.txt). Suggested PCR programs can be found at the end of this document."
   ]
  },
  {
   "cell_type": "code",
   "execution_count": 6,
   "metadata": {
    "execution": {
     "iopub.execute_input": "2022-02-22T08:32:12.531789Z",
     "iopub.status.busy": "2022-02-22T08:32:12.530851Z",
     "iopub.status.idle": "2022-02-22T08:32:12.547892Z",
     "shell.execute_reply": "2022-02-22T08:32:12.547329Z"
    }
   },
   "outputs": [],
   "source": [
    "prom = pcr( p['577'], p['567'], promoter_template)\n",
    "gene = pcr( p['468'], p['467'], gene_template)\n",
    "term = pcr( p['568'], p['578'], terminator_template)"
   ]
  },
  {
   "cell_type": "markdown",
   "metadata": {},
   "source": [
    "The four linear DNA fragments are mixed and transformed\n",
    "to a _Saccharomyces cerevisiae_ ura3 mutant.\n",
    "\n",
    "The fragments will be assembled by _in-vivo_ [homologous recombination](http://www.ncbi.nlm.nih.gov/pubmed/2828185):"
   ]
  },
  {
   "cell_type": "code",
   "execution_count": 7,
   "metadata": {
    "execution": {
     "iopub.execute_input": "2022-02-22T08:32:12.577321Z",
     "iopub.status.busy": "2022-02-22T08:32:12.576535Z",
     "iopub.status.idle": "2022-02-22T08:32:13.049172Z",
     "shell.execute_reply": "2022-02-22T08:32:13.049521Z"
    }
   },
   "outputs": [
    {
     "data": {
      "text/plain": [
       "Assembly\n",
       "fragments..: 5603bp 733bp 1063bp 782bp\n",
       "limit(bp)..: 31\n",
       "G.nodes....: 8\n",
       "algorithm..: common_sub_strings"
      ]
     },
     "execution_count": 7,
     "metadata": {},
     "output_type": "execute_result"
    }
   ],
   "source": [
    "asm = Assembly( (pYPK_EcoRV, prom, gene, term), limit=31 )\n",
    "\n",
    "asm"
   ]
  },
  {
   "cell_type": "markdown",
   "metadata": {},
   "source": [
    "The representation of the asm object above should normally indicate one circcular product only.\n",
    "More than one circular products might indicate an incorrect assembly strategy or represent\n",
    "by-products that might arise in the assembly process.\n",
    "The largest recombination product is chosen as candidate for the pYPK0_RPL5_AthfatA1_RPL16A vector."
   ]
  },
  {
   "cell_type": "code",
   "execution_count": 8,
   "metadata": {
    "execution": {
     "iopub.execute_input": "2022-02-22T08:32:13.054289Z",
     "iopub.status.busy": "2022-02-22T08:32:13.053398Z",
     "iopub.status.idle": "2022-02-22T08:32:13.249291Z",
     "shell.execute_reply": "2022-02-22T08:32:13.248497Z"
    }
   },
   "outputs": [
    {
     "data": {
      "text/plain": [
       " -|pYPKpw_lin|124\n",
       "|             \\/\n",
       "|             /\\\n",
       "|             124|733bp_PCR_prod|48\n",
       "|                                \\/\n",
       "|                                /\\\n",
       "|                                48|1063bp_PCR_prod|34\n",
       "|                                                   \\/\n",
       "|                                                   /\\\n",
       "|                                                   34|782bp_PCR_prod|242\n",
       "|                                                                     \\/\n",
       "|                                                                     /\\\n",
       "|                                                                     242-\n",
       "|                                                                        |\n",
       " ------------------------------------------------------------------------"
      ]
     },
     "execution_count": 8,
     "metadata": {},
     "output_type": "execute_result"
    }
   ],
   "source": [
    "candidate = asm.assemble_circular()[0]\n",
    "\n",
    "candidate.figure()"
   ]
  },
  {
   "cell_type": "markdown",
   "metadata": {},
   "source": [
    "The candidate vector is synchronized to the backbone vector. This means that\n",
    "the plasmid origin is shifted so that it matches the pYPKpw backbone vector."
   ]
  },
  {
   "cell_type": "code",
   "execution_count": 9,
   "metadata": {
    "execution": {
     "iopub.execute_input": "2022-02-22T08:32:13.271101Z",
     "iopub.status.busy": "2022-02-22T08:32:13.270185Z",
     "iopub.status.idle": "2022-02-22T08:32:13.727256Z",
     "shell.execute_reply": "2022-02-22T08:32:13.727630Z"
    }
   },
   "outputs": [],
   "source": [
    "result = candidate.synced(pYPKpw)"
   ]
  },
  {
   "cell_type": "markdown",
   "metadata": {},
   "source": [
    "### Diagnostic PCR confirmation\n",
    "\n",
    "The structure of the final vector is confirmed by two\n",
    "separate PCR reactions, one for the promoter and gene and\n",
    "one for the gene and terminator.\n",
    "\n",
    "PCR using standard primers 577 and 467 to amplify promoter and gene."
   ]
  },
  {
   "cell_type": "code",
   "execution_count": 10,
   "metadata": {
    "execution": {
     "iopub.execute_input": "2022-02-22T08:32:13.741229Z",
     "iopub.status.busy": "2022-02-22T08:32:13.729599Z",
     "iopub.status.idle": "2022-02-22T08:32:13.743100Z",
     "shell.execute_reply": "2022-02-22T08:32:13.743517Z"
    }
   },
   "outputs": [],
   "source": [
    "product = pcr( p['577'], p['467'], result)"
   ]
  },
  {
   "cell_type": "markdown",
   "metadata": {},
   "source": [
    "A correct clone should give this size in base pairs:"
   ]
  },
  {
   "cell_type": "code",
   "execution_count": 11,
   "metadata": {
    "execution": {
     "iopub.execute_input": "2022-02-22T08:32:13.747013Z",
     "iopub.status.busy": "2022-02-22T08:32:13.746568Z",
     "iopub.status.idle": "2022-02-22T08:32:13.748595Z",
     "shell.execute_reply": "2022-02-22T08:32:13.748944Z"
    }
   },
   "outputs": [
    {
     "name": "stdout",
     "output_type": "stream",
     "text": [
      "1746\n"
     ]
    }
   ],
   "source": [
    "print(len(product))"
   ]
  },
  {
   "cell_type": "markdown",
   "metadata": {},
   "source": [
    "If the promoter is missing from the assembly, the PCR product will have this size in base pairs:"
   ]
  },
  {
   "cell_type": "code",
   "execution_count": 12,
   "metadata": {
    "execution": {
     "iopub.execute_input": "2022-02-22T08:32:13.754884Z",
     "iopub.status.busy": "2022-02-22T08:32:13.753898Z",
     "iopub.status.idle": "2022-02-22T08:32:13.758146Z",
     "shell.execute_reply": "2022-02-22T08:32:13.757504Z"
    }
   },
   "outputs": [
    {
     "name": "stdout",
     "output_type": "stream",
     "text": [
      "1013\n"
     ]
    }
   ],
   "source": [
    "print(len(product) - len(prom))"
   ]
  },
  {
   "cell_type": "markdown",
   "metadata": {},
   "source": [
    "If the gene is missing from the assembly, the PCR product will have this size in base pairs:"
   ]
  },
  {
   "cell_type": "code",
   "execution_count": 13,
   "metadata": {
    "execution": {
     "iopub.execute_input": "2022-02-22T08:32:13.762257Z",
     "iopub.status.busy": "2022-02-22T08:32:13.760354Z",
     "iopub.status.idle": "2022-02-22T08:32:13.765364Z",
     "shell.execute_reply": "2022-02-22T08:32:13.764767Z"
    }
   },
   "outputs": [
    {
     "name": "stdout",
     "output_type": "stream",
     "text": [
      "683\n"
     ]
    }
   ],
   "source": [
    "print(len(product) - len(gene))"
   ]
  },
  {
   "cell_type": "markdown",
   "metadata": {},
   "source": [
    "PCR using standard primers 468 and 578 to amplify gene and terminator."
   ]
  },
  {
   "cell_type": "code",
   "execution_count": 14,
   "metadata": {
    "execution": {
     "iopub.execute_input": "2022-02-22T08:32:13.778828Z",
     "iopub.status.busy": "2022-02-22T08:32:13.773591Z",
     "iopub.status.idle": "2022-02-22T08:32:13.783974Z",
     "shell.execute_reply": "2022-02-22T08:32:13.783459Z"
    }
   },
   "outputs": [],
   "source": [
    "product2 = pcr( p['468'], p['578'], result)"
   ]
  },
  {
   "cell_type": "markdown",
   "metadata": {},
   "source": [
    "A correct clone should give this size:"
   ]
  },
  {
   "cell_type": "code",
   "execution_count": 15,
   "metadata": {
    "execution": {
     "iopub.execute_input": "2022-02-22T08:32:13.788201Z",
     "iopub.status.busy": "2022-02-22T08:32:13.787493Z",
     "iopub.status.idle": "2022-02-22T08:32:13.790705Z",
     "shell.execute_reply": "2022-02-22T08:32:13.790207Z"
    }
   },
   "outputs": [
    {
     "name": "stdout",
     "output_type": "stream",
     "text": [
      "1808\n"
     ]
    }
   ],
   "source": [
    "print(len(product2))"
   ]
  },
  {
   "cell_type": "markdown",
   "metadata": {},
   "source": [
    "If the gene is missing from the assembly, the PCR product will have this size in base pairs:"
   ]
  },
  {
   "cell_type": "code",
   "execution_count": 16,
   "metadata": {
    "execution": {
     "iopub.execute_input": "2022-02-22T08:32:13.795481Z",
     "iopub.status.busy": "2022-02-22T08:32:13.794701Z",
     "iopub.status.idle": "2022-02-22T08:32:13.797601Z",
     "shell.execute_reply": "2022-02-22T08:32:13.798155Z"
    }
   },
   "outputs": [
    {
     "name": "stdout",
     "output_type": "stream",
     "text": [
      "745\n"
     ]
    }
   ],
   "source": [
    "print(len(product2) - len(gene))"
   ]
  },
  {
   "cell_type": "markdown",
   "metadata": {},
   "source": [
    "If the terminator is missing from the assembly, the PCR product will have this size in base pairs:"
   ]
  },
  {
   "cell_type": "code",
   "execution_count": 17,
   "metadata": {
    "execution": {
     "iopub.execute_input": "2022-02-22T08:32:13.802845Z",
     "iopub.status.busy": "2022-02-22T08:32:13.802206Z",
     "iopub.status.idle": "2022-02-22T08:32:13.804667Z",
     "shell.execute_reply": "2022-02-22T08:32:13.805177Z"
    }
   },
   "outputs": [
    {
     "name": "stdout",
     "output_type": "stream",
     "text": [
      "1026\n"
     ]
    }
   ],
   "source": [
    "print(len(product2) - len(term))"
   ]
  },
  {
   "cell_type": "markdown",
   "metadata": {},
   "source": [
    "The cseguid checksum for the resulting plasmid is calculated for future reference.\n",
    "The [cseguid checksum](http://pydna.readthedocs.org/en/latest/pydna.html#pydna.utils.cseguid) \n",
    "uniquely identifies a circular double stranded sequence."
   ]
  },
  {
   "cell_type": "code",
   "execution_count": 18,
   "metadata": {
    "execution": {
     "iopub.execute_input": "2022-02-22T08:32:13.816227Z",
     "iopub.status.busy": "2022-02-22T08:32:13.815589Z",
     "iopub.status.idle": "2022-02-22T08:32:13.817987Z",
     "shell.execute_reply": "2022-02-22T08:32:13.818336Z"
    }
   },
   "outputs": [
    {
     "data": {
      "text/plain": [
       "8Us5_2U7EpoVWHg4MUTKygqL4fw"
      ]
     },
     "execution_count": 18,
     "metadata": {},
     "output_type": "execute_result"
    }
   ],
   "source": [
    "result.cseguid()"
   ]
  },
  {
   "cell_type": "markdown",
   "metadata": {},
   "source": [
    "The file is named based on the nemas of promoter, gene and terminator."
   ]
  },
  {
   "cell_type": "code",
   "execution_count": 19,
   "metadata": {
    "execution": {
     "iopub.execute_input": "2022-02-22T08:32:13.821973Z",
     "iopub.status.busy": "2022-02-22T08:32:13.821360Z",
     "iopub.status.idle": "2022-02-22T08:32:13.823526Z",
     "shell.execute_reply": "2022-02-22T08:32:13.824005Z"
    }
   },
   "outputs": [],
   "source": [
    "result.locus = \"pYPK0_tp_g_tp\"\n",
    "result.definition = \"pYPK0_RPL5_AthfatA1_RPL16A\""
   ]
  },
  {
   "cell_type": "markdown",
   "metadata": {},
   "source": [
    "Sequence is stamped with cseguid checksum. This can be used to verify the \n",
    "integrity of the sequence file."
   ]
  },
  {
   "cell_type": "code",
   "execution_count": 20,
   "metadata": {
    "execution": {
     "iopub.execute_input": "2022-02-22T08:32:13.836995Z",
     "iopub.status.busy": "2022-02-22T08:32:13.836261Z",
     "iopub.status.idle": "2022-02-22T08:32:13.839152Z",
     "shell.execute_reply": "2022-02-22T08:32:13.839534Z"
    }
   },
   "outputs": [
    {
     "data": {
      "text/plain": [
       "cSEGUID_8Us5_2U7EpoVWHg4MUTKygqL4fw"
      ]
     },
     "execution_count": 20,
     "metadata": {},
     "output_type": "execute_result"
    }
   ],
   "source": [
    "result.stamp()"
   ]
  },
  {
   "cell_type": "markdown",
   "metadata": {},
   "source": [
    "Write sequence to a local file."
   ]
  },
  {
   "cell_type": "code",
   "execution_count": 21,
   "metadata": {
    "execution": {
     "iopub.execute_input": "2022-02-22T08:32:13.842656Z",
     "iopub.status.busy": "2022-02-22T08:32:13.842226Z",
     "iopub.status.idle": "2022-02-22T08:32:13.852986Z",
     "shell.execute_reply": "2022-02-22T08:32:13.853508Z"
    }
   },
   "outputs": [
    {
     "data": {
      "text/html": [
       "<font face=monospace><a href='pYPK0_RPL5_AthfatA1_RPL16A.gb' target='_blank'>pYPK0_RPL5_AthfatA1_RPL16A.gb</a></font><br>"
      ]
     },
     "metadata": {},
     "output_type": "display_data"
    }
   ],
   "source": [
    "result.write(\"pYPK0_RPL5_AthfatA1_RPL16A.gb\")"
   ]
  },
  {
   "cell_type": "markdown",
   "metadata": {},
   "source": [
    "## PCR programs for the amplification of Promoter, Gene and Terminator\n",
    "\n",
    "see cell #6\n",
    "\n",
    "Promoter"
   ]
  },
  {
   "cell_type": "code",
   "execution_count": 22,
   "metadata": {
    "execution": {
     "iopub.execute_input": "2022-02-22T08:32:13.859206Z",
     "iopub.status.busy": "2022-02-22T08:32:13.858069Z",
     "iopub.status.idle": "2022-02-22T08:32:13.863871Z",
     "shell.execute_reply": "2022-02-22T08:32:13.863383Z"
    }
   },
   "outputs": [
    {
     "data": {
      "text/plain": [
       "|95°C|95°C               |    |tmf:64.6\n",
       "|____|_____          72°C|72°C|tmr:69.7\n",
       "|3min|30s  \\ 56.8°C _____|____|45s/kb\n",
       "|    |      \\______/ 0:32|5min|GC 38%\n",
       "|    |       30s         |    |733bp"
      ]
     },
     "execution_count": 22,
     "metadata": {},
     "output_type": "execute_result"
    }
   ],
   "source": [
    "prom.program()"
   ]
  },
  {
   "cell_type": "markdown",
   "metadata": {},
   "source": [
    "Gene"
   ]
  },
  {
   "cell_type": "code",
   "execution_count": 23,
   "metadata": {
    "execution": {
     "iopub.execute_input": "2022-02-22T08:32:13.869006Z",
     "iopub.status.busy": "2022-02-22T08:32:13.868324Z",
     "iopub.status.idle": "2022-02-22T08:32:13.872652Z",
     "shell.execute_reply": "2022-02-22T08:32:13.871917Z"
    }
   },
   "outputs": [
    {
     "data": {
      "text/plain": [
       "|95°C|95°C               |    |tmf:76.9\n",
       "|____|_____          72°C|72°C|tmr:67.9\n",
       "|3min|30s  \\ 60.2°C _____|____|45s/kb\n",
       "|    |      \\______/ 0:47|5min|GC 46%\n",
       "|    |       30s         |    |1063bp"
      ]
     },
     "execution_count": 23,
     "metadata": {},
     "output_type": "execute_result"
    }
   ],
   "source": [
    "gene.program()"
   ]
  },
  {
   "cell_type": "markdown",
   "metadata": {},
   "source": [
    "Terminator"
   ]
  },
  {
   "cell_type": "code",
   "execution_count": 24,
   "metadata": {
    "execution": {
     "iopub.execute_input": "2022-02-22T08:32:13.881960Z",
     "iopub.status.busy": "2022-02-22T08:32:13.880466Z",
     "iopub.status.idle": "2022-02-22T08:32:13.886054Z",
     "shell.execute_reply": "2022-02-22T08:32:13.885439Z"
    }
   },
   "outputs": [
    {
     "data": {
      "text/plain": [
       "|95°C|95°C               |    |tmf:66.1\n",
       "|____|_____          72°C|72°C|tmr:65.0\n",
       "|3min|30s  \\ 58.4°C _____|____|45s/kb\n",
       "|    |      \\______/ 0:35|5min|GC 43%\n",
       "|    |       30s         |    |782bp"
      ]
     },
     "execution_count": 24,
     "metadata": {},
     "output_type": "execute_result"
    }
   ],
   "source": [
    "term.program()"
   ]
  }
 ],
 "metadata": {
  "language_info": {
   "codemirror_mode": {
    "name": "ipython",
    "version": 3
   },
   "file_extension": ".py",
   "mimetype": "text/x-python",
   "name": "python",
   "nbconvert_exporter": "python",
   "pygments_lexer": "ipython3",
   "version": "3.9.7"
  }
 },
 "nbformat": 4,
 "nbformat_minor": 2
}
