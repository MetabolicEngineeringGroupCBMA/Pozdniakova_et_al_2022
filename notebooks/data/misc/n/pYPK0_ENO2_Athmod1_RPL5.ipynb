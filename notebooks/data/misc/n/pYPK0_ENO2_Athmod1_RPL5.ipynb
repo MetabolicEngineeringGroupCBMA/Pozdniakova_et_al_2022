{
 "cells": [
  {
   "cell_type": "markdown",
   "metadata": {},
   "source": [
    "# pYPK0_ENO2_Athmod1_RPL5\n",
    "\n",
    "This notebook describes the assembly of the [_Saccaromyces cerevisiae_](www.yeastgenome.org)\n",
    "single gene expression vector pYPK0_ENO2_Athmod1_RPL5.\n",
    "\n",
    "It is made by _in-vivo_ homologous recombination between three PCR products and one linear vector fragment.\n",
    "The PCR products are a promoter generated from a pYPK_Z vector, a gene from a pYPKa_A vector and \n",
    "a terminator from a pYPKa_E vector. The three PCR products are joined with\n",
    "a linearized [pYPKpw](https://github.com/BjornFJohansson/ypk-xylose-pathways/blob/master/notebooks/pYPKpw.ipynb) \n",
    "backbone vector that has the [URA3](http://www.yeastgenome.org/locus/S000000747/overview) \n",
    "marker and a _S. crevisiae_ [2 micron](http://blog.addgene.org/plasmids-101-yeast-vectors) origin of replication. \n",
    "\n",
    "The four linear DNA fragments are joined by homologous recombination in a \n",
    "[_Saccharomyces cerevisiae_](http://wiki.yeastgenome.org/index.php/Commonly_used_strains) ura3 mutant.\n",
    "\n",
    "![pYPK0_promoter_gene_terminator](tp_g_tp.png \"pYPK0_promoter_gene_terminator\")\n",
    "\n",
    "A part of the [pydna](https://pypi.python.org/pypi/pydna/) package is imported in the code cell below."
   ]
  },
  {
   "cell_type": "code",
   "execution_count": 1,
   "metadata": {
    "execution": {
     "iopub.execute_input": "2022-02-22T08:31:45.667066Z",
     "iopub.status.busy": "2022-02-22T08:31:45.666521Z",
     "iopub.status.idle": "2022-02-22T08:31:46.027624Z",
     "shell.execute_reply": "2022-02-22T08:31:46.027991Z"
    }
   },
   "outputs": [],
   "source": [
    "from pydna.parsers import parse_primers\n",
    "from pydna.readers import read\n",
    "from pydna.amplify import pcr\n",
    "from pydna.assembly import Assembly"
   ]
  },
  {
   "cell_type": "markdown",
   "metadata": {},
   "source": [
    "The Yeast Pathway Kit [standard primers](standard_primers.txt) are read into a dictionary in the code cell below."
   ]
  },
  {
   "cell_type": "code",
   "execution_count": 2,
   "metadata": {
    "execution": {
     "iopub.execute_input": "2022-02-22T08:31:46.035144Z",
     "iopub.status.busy": "2022-02-22T08:31:46.034289Z",
     "iopub.status.idle": "2022-02-22T08:31:46.045833Z",
     "shell.execute_reply": "2022-02-22T08:31:46.046215Z"
    }
   },
   "outputs": [],
   "source": [
    "p = { x.id: x for x in parse_primers(\"standard_primers.txt\") }"
   ]
  },
  {
   "cell_type": "markdown",
   "metadata": {},
   "source": [
    "The backbone vector [pYPKpw](pYPKpw.gb) is read from a local file in the code cell below."
   ]
  },
  {
   "cell_type": "code",
   "execution_count": 3,
   "metadata": {
    "execution": {
     "iopub.execute_input": "2022-02-22T08:31:46.054101Z",
     "iopub.status.busy": "2022-02-22T08:31:46.049071Z",
     "iopub.status.idle": "2022-02-22T08:31:46.056474Z",
     "shell.execute_reply": "2022-02-22T08:31:46.055965Z"
    }
   },
   "outputs": [],
   "source": [
    "pYPKpw = read(\"pYPKpw.gb\")"
   ]
  },
  {
   "cell_type": "markdown",
   "metadata": {},
   "source": [
    "The backbone vector is linearized by digestion with [EcoRV](http://rebase.neb.com/rebase/enz/EcoRV.html).\n",
    "The restriction enzyme functionality is provided by [biopython](http://biopython.org)."
   ]
  },
  {
   "cell_type": "code",
   "execution_count": 4,
   "metadata": {
    "execution": {
     "iopub.execute_input": "2022-02-22T08:31:46.062374Z",
     "iopub.status.busy": "2022-02-22T08:31:46.061685Z",
     "iopub.status.idle": "2022-02-22T08:31:46.063381Z",
     "shell.execute_reply": "2022-02-22T08:31:46.063740Z"
    }
   },
   "outputs": [],
   "source": [
    "from Bio.Restriction import EcoRV\n",
    "\n",
    "pYPK_EcoRV = pYPKpw.linearize(EcoRV)"
   ]
  },
  {
   "cell_type": "markdown",
   "metadata": {},
   "source": [
    "The pYPKa derived _E. coli_ plasmids containing [promoter](pYPKa_Z_ENO2.gb), [gene](pYPKa_A_Athmod1.gb) and [terminator](pYPKa_E_RPL5.gb)\n",
    "are read into three variables below."
   ]
  },
  {
   "cell_type": "code",
   "execution_count": 5,
   "metadata": {
    "execution": {
     "iopub.execute_input": "2022-02-22T08:31:46.067895Z",
     "iopub.status.busy": "2022-02-22T08:31:46.066971Z",
     "iopub.status.idle": "2022-02-22T08:31:46.077705Z",
     "shell.execute_reply": "2022-02-22T08:31:46.077213Z"
    }
   },
   "outputs": [],
   "source": [
    "promoter_template   = read(\"pYPKa_Z_ENO2.gb\")\n",
    "gene_template       = read(\"pYPK0_A_Athmod1.gb\")\n",
    "terminator_template = read(\"pYPKa_E_RPL5.gb\")"
   ]
  },
  {
   "cell_type": "markdown",
   "metadata": {},
   "source": [
    "The construction of the three vector above are described in the [pYPKa_ZE_ENO2](pYPKa_ZE_ENO2.ipynb) and [pYPKa_A_Athmod1](pYPKa_A_Athmod1.ipynb) notebooks.\n",
    "\n",
    "Three DNA fragments are PCR amplified using [standard primers](standard_primers.txt). Suggested PCR programs can be found at the end of this document."
   ]
  },
  {
   "cell_type": "code",
   "execution_count": 6,
   "metadata": {
    "execution": {
     "iopub.execute_input": "2022-02-22T08:31:46.083773Z",
     "iopub.status.busy": "2022-02-22T08:31:46.083285Z",
     "iopub.status.idle": "2022-02-22T08:31:46.102922Z",
     "shell.execute_reply": "2022-02-22T08:31:46.102389Z"
    }
   },
   "outputs": [],
   "source": [
    "prom = pcr( p['577'], p['567'], promoter_template)\n",
    "gene = pcr( p['468'], p['467'], gene_template)\n",
    "term = pcr( p['568'], p['578'], terminator_template)"
   ]
  },
  {
   "cell_type": "markdown",
   "metadata": {},
   "source": [
    "The four linear DNA fragments are mixed and transformed\n",
    "to a _Saccharomyces cerevisiae_ ura3 mutant.\n",
    "\n",
    "The fragments will be assembled by _in-vivo_ [homologous recombination](http://www.ncbi.nlm.nih.gov/pubmed/2828185):"
   ]
  },
  {
   "cell_type": "code",
   "execution_count": 7,
   "metadata": {
    "execution": {
     "iopub.execute_input": "2022-02-22T08:31:46.181275Z",
     "iopub.status.busy": "2022-02-22T08:31:46.145711Z",
     "iopub.status.idle": "2022-02-22T08:31:46.567012Z",
     "shell.execute_reply": "2022-02-22T08:31:46.567359Z"
    }
   },
   "outputs": [
    {
     "data": {
      "text/plain": [
       "Assembly\n",
       "fragments..: 5603bp 752bp 1039bp 841bp\n",
       "limit(bp)..: 31\n",
       "G.nodes....: 8\n",
       "algorithm..: common_sub_strings"
      ]
     },
     "execution_count": 7,
     "metadata": {},
     "output_type": "execute_result"
    }
   ],
   "source": [
    "asm = Assembly( (pYPK_EcoRV, prom, gene, term), limit=31 )\n",
    "\n",
    "asm"
   ]
  },
  {
   "cell_type": "markdown",
   "metadata": {},
   "source": [
    "The representation of the asm object above should normally indicate one circcular product only.\n",
    "More than one circular products might indicate an incorrect assembly strategy or represent\n",
    "by-products that might arise in the assembly process.\n",
    "The largest recombination product is chosen as candidate for the pYPK0_ENO2_Athmod1_RPL5 vector."
   ]
  },
  {
   "cell_type": "code",
   "execution_count": 8,
   "metadata": {
    "execution": {
     "iopub.execute_input": "2022-02-22T08:31:46.570886Z",
     "iopub.status.busy": "2022-02-22T08:31:46.570425Z",
     "iopub.status.idle": "2022-02-22T08:31:46.759161Z",
     "shell.execute_reply": "2022-02-22T08:31:46.758708Z"
    }
   },
   "outputs": [
    {
     "data": {
      "text/plain": [
       " -|pYPKpw_lin|124\n",
       "|             \\/\n",
       "|             /\\\n",
       "|             124|752bp_PCR_prod|48\n",
       "|                                \\/\n",
       "|                                /\\\n",
       "|                                48|1039bp_PCR_prod|35\n",
       "|                                                   \\/\n",
       "|                                                   /\\\n",
       "|                                                   35|841bp_PCR_prod|242\n",
       "|                                                                     \\/\n",
       "|                                                                     /\\\n",
       "|                                                                     242-\n",
       "|                                                                        |\n",
       " ------------------------------------------------------------------------"
      ]
     },
     "execution_count": 8,
     "metadata": {},
     "output_type": "execute_result"
    }
   ],
   "source": [
    "candidate = asm.assemble_circular()[0]\n",
    "\n",
    "candidate.figure()"
   ]
  },
  {
   "cell_type": "markdown",
   "metadata": {},
   "source": [
    "The candidate vector is synchronized to the backbone vector. This means that\n",
    "the plasmid origin is shifted so that it matches the pYPKpw backbone vector."
   ]
  },
  {
   "cell_type": "code",
   "execution_count": 9,
   "metadata": {
    "execution": {
     "iopub.execute_input": "2022-02-22T08:31:46.827306Z",
     "iopub.status.busy": "2022-02-22T08:31:46.791853Z",
     "iopub.status.idle": "2022-02-22T08:31:47.209888Z",
     "shell.execute_reply": "2022-02-22T08:31:47.209369Z"
    }
   },
   "outputs": [],
   "source": [
    "result = candidate.synced(pYPKpw)"
   ]
  },
  {
   "cell_type": "markdown",
   "metadata": {},
   "source": [
    "### Diagnostic PCR confirmation\n",
    "\n",
    "The structure of the final vector is confirmed by two\n",
    "separate PCR reactions, one for the promoter and gene and\n",
    "one for the gene and terminator.\n",
    "\n",
    "PCR using standard primers 577 and 467 to amplify promoter and gene."
   ]
  },
  {
   "cell_type": "code",
   "execution_count": 10,
   "metadata": {
    "execution": {
     "iopub.execute_input": "2022-02-22T08:31:47.225377Z",
     "iopub.status.busy": "2022-02-22T08:31:47.217356Z",
     "iopub.status.idle": "2022-02-22T08:31:47.227676Z",
     "shell.execute_reply": "2022-02-22T08:31:47.227175Z"
    }
   },
   "outputs": [],
   "source": [
    "product = pcr( p['577'], p['467'], result)"
   ]
  },
  {
   "cell_type": "markdown",
   "metadata": {},
   "source": [
    "A correct clone should give this size in base pairs:"
   ]
  },
  {
   "cell_type": "code",
   "execution_count": 11,
   "metadata": {
    "execution": {
     "iopub.execute_input": "2022-02-22T08:31:47.231386Z",
     "iopub.status.busy": "2022-02-22T08:31:47.230882Z",
     "iopub.status.idle": "2022-02-22T08:31:47.232955Z",
     "shell.execute_reply": "2022-02-22T08:31:47.233306Z"
    }
   },
   "outputs": [
    {
     "name": "stdout",
     "output_type": "stream",
     "text": [
      "1741\n"
     ]
    }
   ],
   "source": [
    "print(len(product))"
   ]
  },
  {
   "cell_type": "markdown",
   "metadata": {},
   "source": [
    "If the promoter is missing from the assembly, the PCR product will have this size in base pairs:"
   ]
  },
  {
   "cell_type": "code",
   "execution_count": 12,
   "metadata": {
    "execution": {
     "iopub.execute_input": "2022-02-22T08:31:47.237246Z",
     "iopub.status.busy": "2022-02-22T08:31:47.236647Z",
     "iopub.status.idle": "2022-02-22T08:31:47.239594Z",
     "shell.execute_reply": "2022-02-22T08:31:47.239090Z"
    }
   },
   "outputs": [
    {
     "name": "stdout",
     "output_type": "stream",
     "text": [
      "989\n"
     ]
    }
   ],
   "source": [
    "print(len(product) - len(prom))"
   ]
  },
  {
   "cell_type": "markdown",
   "metadata": {},
   "source": [
    "If the gene is missing from the assembly, the PCR product will have this size in base pairs:"
   ]
  },
  {
   "cell_type": "code",
   "execution_count": 13,
   "metadata": {
    "execution": {
     "iopub.execute_input": "2022-02-22T08:31:47.245012Z",
     "iopub.status.busy": "2022-02-22T08:31:47.244162Z",
     "iopub.status.idle": "2022-02-22T08:31:47.247173Z",
     "shell.execute_reply": "2022-02-22T08:31:47.247693Z"
    }
   },
   "outputs": [
    {
     "name": "stdout",
     "output_type": "stream",
     "text": [
      "702\n"
     ]
    }
   ],
   "source": [
    "print(len(product) - len(gene))"
   ]
  },
  {
   "cell_type": "markdown",
   "metadata": {},
   "source": [
    "PCR using standard primers 468 and 578 to amplify gene and terminator."
   ]
  },
  {
   "cell_type": "code",
   "execution_count": 14,
   "metadata": {
    "execution": {
     "iopub.execute_input": "2022-02-22T08:31:47.261840Z",
     "iopub.status.busy": "2022-02-22T08:31:47.261367Z",
     "iopub.status.idle": "2022-02-22T08:31:47.263396Z",
     "shell.execute_reply": "2022-02-22T08:31:47.262953Z"
    }
   },
   "outputs": [],
   "source": [
    "product2 = pcr( p['468'], p['578'], result)"
   ]
  },
  {
   "cell_type": "markdown",
   "metadata": {},
   "source": [
    "A correct clone should give this size:"
   ]
  },
  {
   "cell_type": "code",
   "execution_count": 15,
   "metadata": {
    "execution": {
     "iopub.execute_input": "2022-02-22T08:31:47.267635Z",
     "iopub.status.busy": "2022-02-22T08:31:47.266993Z",
     "iopub.status.idle": "2022-02-22T08:31:47.269476Z",
     "shell.execute_reply": "2022-02-22T08:31:47.269957Z"
    }
   },
   "outputs": [
    {
     "name": "stdout",
     "output_type": "stream",
     "text": [
      "1843\n"
     ]
    }
   ],
   "source": [
    "print(len(product2))"
   ]
  },
  {
   "cell_type": "markdown",
   "metadata": {},
   "source": [
    "If the gene is missing from the assembly, the PCR product will have this size in base pairs:"
   ]
  },
  {
   "cell_type": "code",
   "execution_count": 16,
   "metadata": {
    "execution": {
     "iopub.execute_input": "2022-02-22T08:31:47.274064Z",
     "iopub.status.busy": "2022-02-22T08:31:47.273456Z",
     "iopub.status.idle": "2022-02-22T08:31:47.276581Z",
     "shell.execute_reply": "2022-02-22T08:31:47.276079Z"
    }
   },
   "outputs": [
    {
     "name": "stdout",
     "output_type": "stream",
     "text": [
      "804\n"
     ]
    }
   ],
   "source": [
    "print(len(product2) - len(gene))"
   ]
  },
  {
   "cell_type": "markdown",
   "metadata": {},
   "source": [
    "If the terminator is missing from the assembly, the PCR product will have this size in base pairs:"
   ]
  },
  {
   "cell_type": "code",
   "execution_count": 17,
   "metadata": {
    "execution": {
     "iopub.execute_input": "2022-02-22T08:31:47.282084Z",
     "iopub.status.busy": "2022-02-22T08:31:47.281094Z",
     "iopub.status.idle": "2022-02-22T08:31:47.284411Z",
     "shell.execute_reply": "2022-02-22T08:31:47.285039Z"
    }
   },
   "outputs": [
    {
     "name": "stdout",
     "output_type": "stream",
     "text": [
      "1002\n"
     ]
    }
   ],
   "source": [
    "print(len(product2) - len(term))"
   ]
  },
  {
   "cell_type": "markdown",
   "metadata": {},
   "source": [
    "The cseguid checksum for the resulting plasmid is calculated for future reference.\n",
    "The [cseguid checksum](http://pydna.readthedocs.org/en/latest/pydna.html#pydna.utils.cseguid) \n",
    "uniquely identifies a circular double stranded sequence."
   ]
  },
  {
   "cell_type": "code",
   "execution_count": 18,
   "metadata": {
    "execution": {
     "iopub.execute_input": "2022-02-22T08:31:47.299115Z",
     "iopub.status.busy": "2022-02-22T08:31:47.298515Z",
     "iopub.status.idle": "2022-02-22T08:31:47.300983Z",
     "shell.execute_reply": "2022-02-22T08:31:47.301341Z"
    }
   },
   "outputs": [
    {
     "data": {
      "text/plain": [
       "IdhQZ3he-Zy_Fc01KIjueEsNc4w"
      ]
     },
     "execution_count": 18,
     "metadata": {},
     "output_type": "execute_result"
    }
   ],
   "source": [
    "result.cseguid()"
   ]
  },
  {
   "cell_type": "markdown",
   "metadata": {},
   "source": [
    "The file is named based on the nemas of promoter, gene and terminator."
   ]
  },
  {
   "cell_type": "code",
   "execution_count": 19,
   "metadata": {
    "execution": {
     "iopub.execute_input": "2022-02-22T08:31:47.304833Z",
     "iopub.status.busy": "2022-02-22T08:31:47.304376Z",
     "iopub.status.idle": "2022-02-22T08:31:47.306249Z",
     "shell.execute_reply": "2022-02-22T08:31:47.307033Z"
    }
   },
   "outputs": [],
   "source": [
    "result.locus = \"pYPK0_tp_g_tp\"\n",
    "result.definition = \"pYPK0_ENO2_Athmod1_RPL5\""
   ]
  },
  {
   "cell_type": "markdown",
   "metadata": {},
   "source": [
    "Sequence is stamped with cseguid checksum. This can be used to verify the \n",
    "integrity of the sequence file."
   ]
  },
  {
   "cell_type": "code",
   "execution_count": 20,
   "metadata": {
    "execution": {
     "iopub.execute_input": "2022-02-22T08:31:47.321229Z",
     "iopub.status.busy": "2022-02-22T08:31:47.315660Z",
     "iopub.status.idle": "2022-02-22T08:31:47.323971Z",
     "shell.execute_reply": "2022-02-22T08:31:47.323488Z"
    }
   },
   "outputs": [
    {
     "data": {
      "text/plain": [
       "cSEGUID_IdhQZ3he-Zy_Fc01KIjueEsNc4w"
      ]
     },
     "execution_count": 20,
     "metadata": {},
     "output_type": "execute_result"
    }
   ],
   "source": [
    "result.stamp()"
   ]
  },
  {
   "cell_type": "markdown",
   "metadata": {},
   "source": [
    "Write sequence to a local file."
   ]
  },
  {
   "cell_type": "code",
   "execution_count": 21,
   "metadata": {
    "execution": {
     "iopub.execute_input": "2022-02-22T08:31:47.355833Z",
     "iopub.status.busy": "2022-02-22T08:31:47.352017Z",
     "iopub.status.idle": "2022-02-22T08:31:47.360891Z",
     "shell.execute_reply": "2022-02-22T08:31:47.361925Z"
    }
   },
   "outputs": [
    {
     "data": {
      "text/html": [
       "\n",
       "                <table style=\"padding:10px 10px;\n",
       "                word-break:normal;\n",
       "                border-color:#fe0000;\n",
       "                border-collapse:collapse;\n",
       "                border-spacing:1;\n",
       "                font-family:monospace;\n",
       "                font-size:large;\n",
       "                font-weight:bold;\n",
       "                text-align:left;\n",
       "                border: 5px solid red;\">\n",
       "                <thead>\n",
       "                  <tr style=\"color:#0000FF;border: 1px solid;text-align:left;\">\n",
       "                    <th style=\"color:#fe0000;border: 1px solid;text-align:center;font-size:xxx-large;text-align:left;\">&#9888</th>\n",
       "                    <th style=\"color:#f56b00;border: 1px solid;text-align:left;\" colspan=\"2\">Sequence change</th>\n",
       "                  </tr>\n",
       "                </thead>\n",
       "                <tbody>\n",
       "                  <tr style=\"color:#0000FF;border: 1px solid;text-align:left;\">\n",
       "                    <td>Filename</td>\n",
       "                    <td style=\"color:#fe0000;border: 1px solid;text-align:left;\"><a href='pYPK0_ENO2_Athmod1_RPL5.gb' target='_blank'>pYPK0_ENO2_Athmod1_RPL5.gb</a></td>\n",
       "                    <td style=\"color:#32cb00;border: 1px solid;text-align:left;\"><a href='pYPK0_ENO2_Athmod1_RPL5_OLD_1645518707334936.gb' target='_blank'>pYPK0_ENO2_Athmod1_RPL5_OLD_1645518707334936.gb</a></td>\n",
       "                  </tr>\n",
       "                  <tr style=\"color:#0000FF;border: 1px solid;text-align:left;\">\n",
       "                    <td >Saved</td>\n",
       "                    <td style=\"color:#fe0000;border: 1px solid;text-align:left;\">2022-02-22T08:31:47.353224</td>\n",
       "                    <td style=\"color:#32cb00;border: 1px solid;text-align:left;\">2020-12-30T08:53:34.633615</td>\n",
       "                  </tr>\n",
       "                  <tr style=\"color:#0000FF;border: 1px solid;text-align:left;\">\n",
       "                    <td>Length</td>\n",
       "                    <td style=\"color:#fe0000;border: 1px solid;text-align:left;\">7763</td>\n",
       "                    <td style=\"color:#32cb00;border: 1px solid;text-align:left;\">7988</td>\n",
       "                  </tr>\n",
       "                  <tr style=\"color:#0000FF;border: 1px solid;text-align:left;\">\n",
       "                    <td>SEGUID</td>\n",
       "                    <td style=\"color:#fe0000;border: 1px solid;text-align:left;\">zY9yuS06N_-55GFnA0uRrvVS5-w</td>\n",
       "                    <td style=\"color:#32cb00;border: 1px solid;text-align:left;\">EpUnGnzvXbRFrkZTXtLDKtpWPDo</td>\n",
       "                  </tr>\n",
       "                  <tr style=\"color:#0000FF;border: 1px solid;text-align:left;\">\n",
       "                    <td>cSEGUID</td>\n",
       "                    <td style=\"color:#fe0000;border: 1px solid;text-align:left;\">IdhQZ3he-Zy_Fc01KIjueEsNc4w</td>\n",
       "                    <td style=\"color:#32cb00;border: 1px solid;text-align:left;\">2YY1POINb65gAwfjyhndL2ipGSw</td>\n",
       "                  </tr>\n",
       "                </tbody>\n",
       "                </table>\n",
       "                "
      ]
     },
     "metadata": {},
     "output_type": "display_data"
    }
   ],
   "source": [
    "result.write(\"pYPK0_ENO2_Athmod1_RPL5.gb\")"
   ]
  },
  {
   "cell_type": "markdown",
   "metadata": {},
   "source": [
    "## PCR programs for the amplification of Promoter, Gene and Terminator\n",
    "\n",
    "see cell #6\n",
    "\n",
    "Promoter"
   ]
  },
  {
   "cell_type": "code",
   "execution_count": 22,
   "metadata": {
    "execution": {
     "iopub.execute_input": "2022-02-22T08:31:47.369644Z",
     "iopub.status.busy": "2022-02-22T08:31:47.368975Z",
     "iopub.status.idle": "2022-02-22T08:31:47.371505Z",
     "shell.execute_reply": "2022-02-22T08:31:47.371866Z"
    }
   },
   "outputs": [
    {
     "data": {
      "text/plain": [
       "|95°C|95°C               |    |tmf:64.6\n",
       "|____|_____          72°C|72°C|tmr:69.7\n",
       "|3min|30s  \\ 57.1°C _____|____|45s/kb\n",
       "|    |      \\______/ 0:33|5min|GC 39%\n",
       "|    |       30s         |    |752bp"
      ]
     },
     "execution_count": 22,
     "metadata": {},
     "output_type": "execute_result"
    }
   ],
   "source": [
    "prom.program()"
   ]
  },
  {
   "cell_type": "markdown",
   "metadata": {},
   "source": [
    "Gene"
   ]
  },
  {
   "cell_type": "code",
   "execution_count": 23,
   "metadata": {
    "execution": {
     "iopub.execute_input": "2022-02-22T08:31:47.376967Z",
     "iopub.status.busy": "2022-02-22T08:31:47.376254Z",
     "iopub.status.idle": "2022-02-22T08:31:47.379516Z",
     "shell.execute_reply": "2022-02-22T08:31:47.380048Z"
    }
   },
   "outputs": [
    {
     "data": {
      "text/plain": [
       "|95°C|95°C               |    |tmf:76.9\n",
       "|____|_____          72°C|72°C|tmr:67.9\n",
       "|3min|30s  \\ 60.1°C _____|____|45s/kb\n",
       "|    |      \\______/ 0:46|5min|GC 46%\n",
       "|    |       30s         |    |1039bp"
      ]
     },
     "execution_count": 23,
     "metadata": {},
     "output_type": "execute_result"
    }
   ],
   "source": [
    "gene.program()"
   ]
  },
  {
   "cell_type": "markdown",
   "metadata": {},
   "source": [
    "Terminator"
   ]
  },
  {
   "cell_type": "code",
   "execution_count": 24,
   "metadata": {
    "execution": {
     "iopub.execute_input": "2022-02-22T08:31:47.385801Z",
     "iopub.status.busy": "2022-02-22T08:31:47.384950Z",
     "iopub.status.idle": "2022-02-22T08:31:47.388557Z",
     "shell.execute_reply": "2022-02-22T08:31:47.388102Z"
    }
   },
   "outputs": [
    {
     "data": {
      "text/plain": [
       "|95°C|95°C               |    |tmf:66.1\n",
       "|____|_____          72°C|72°C|tmr:65.0\n",
       "|3min|30s  \\ 56.8°C _____|____|45s/kb\n",
       "|    |      \\______/ 0:37|5min|GC 37%\n",
       "|    |       30s         |    |841bp"
      ]
     },
     "execution_count": 24,
     "metadata": {},
     "output_type": "execute_result"
    }
   ],
   "source": [
    "term.program()"
   ]
  }
 ],
 "metadata": {
  "kernelspec": {
   "display_name": "Python [conda env:bjorn38]",
   "language": "python",
   "name": "conda-env-bjorn38-py"
  },
  "language_info": {
   "codemirror_mode": {
    "name": "ipython",
    "version": 3
   },
   "file_extension": ".py",
   "mimetype": "text/x-python",
   "name": "python",
   "nbconvert_exporter": "python",
   "pygments_lexer": "ipython3",
   "version": "3.9.7"
  }
 },
 "nbformat": 4,
 "nbformat_minor": 4
}
