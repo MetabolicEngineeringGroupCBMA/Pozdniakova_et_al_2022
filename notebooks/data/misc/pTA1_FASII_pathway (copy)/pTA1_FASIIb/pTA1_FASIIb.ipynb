{
 "cells": [
  {
   "cell_type": "markdown",
   "metadata": {},
   "source": [
    "## Jupyter notebook\n",
    "\n",
    "    The primers to amplify all the sequence without acpH can be:\n",
    "    984><497\n",
    "    167><626\n",
    "    153><623\n",
    "    207><621\n",
    "    419><764\n",
    "    949><1576             830><1576             \n",
    "    1577><512 or 494\n",
    "    500><1195\n",
    "    \n",
    "    I selected those in order to have identical Tm but if Professor have better suggestion.....\n",
    "    \n",
    "    >1577_ZA+EcacpS\n",
    "    gacctgcagccgacaaatggcaatattagg\n",
    "\n",
    "\n",
    "    >1576_RPL17A+ZA\n",
    "    gtcggctgcaggtcactagtgagaaagtgggcaacctggcgttcctcgactaattaatttaatctattagtagttcttga\n",
    "    \n",
    "    \n",
    "CCTAATATTGCCATTTGTCGGCTGCAGGTC\n",
    "                gtcggctgcaggtcactagtgagaaagtgggcaacctggcgttcctcgactaattaatttaatctattagtagttcttga\n",
    "    \n",
    "    \n",
    "    \n",
    "    \n",
    "    \n",
    "    "
   ]
  },
  {
   "cell_type": "code",
   "execution_count": 1,
   "metadata": {},
   "outputs": [],
   "source": [
    "from pydna.editor import ape"
   ]
  },
  {
   "cell_type": "code",
   "execution_count": 2,
   "metadata": {},
   "outputs": [],
   "source": [
    "from pydna.readers import read"
   ]
  },
  {
   "cell_type": "code",
   "execution_count": 3,
   "metadata": {},
   "outputs": [],
   "source": [
    "pTA1_FASII = read(\"pTA1_FASII.gb\").rc()"
   ]
  },
  {
   "cell_type": "code",
   "execution_count": 4,
   "metadata": {},
   "outputs": [
    {
     "data": {
      "text/plain": [
       "C9dQPJLCuZ48qFjLj0rKj-W1ZCc"
      ]
     },
     "execution_count": 4,
     "metadata": {},
     "output_type": "execute_result"
    }
   ],
   "source": [
    "pTA1_FASII.cseguid()"
   ]
  },
  {
   "cell_type": "code",
   "execution_count": 5,
   "metadata": {},
   "outputs": [],
   "source": [
    "from pydna.myprimers import primerlist"
   ]
  },
  {
   "cell_type": "code",
   "execution_count": 6,
   "metadata": {},
   "outputs": [],
   "source": [
    "p=primerlist()"
   ]
  },
  {
   "cell_type": "code",
   "execution_count": 7,
   "metadata": {},
   "outputs": [
    {
     "data": {
      "text/plain": [
       "(Seq('gtcggctgcaggtcactagtgagaaagtgggcaacctggcgttcctcgactaat...tga'),\n",
       " Seq('gacctgcagccgacaaatggcaatattagg'),\n",
       " Seq('gtcgaggaacgccaggttgcccactttctcactagtgacctgcagccgacaaat...gtg'))"
      ]
     },
     "execution_count": 7,
     "metadata": {},
     "output_type": "execute_result"
    }
   ],
   "source": [
    "p[1576].seq, p[1577].seq, p[1590].seq"
   ]
  },
  {
   "cell_type": "code",
   "execution_count": 8,
   "metadata": {},
   "outputs": [],
   "source": [
    "from pydna.amplify import pcr"
   ]
  },
  {
   "cell_type": "code",
   "execution_count": 9,
   "metadata": {},
   "outputs": [],
   "source": [
    "frags = [   pcr(p[984],p[497], pTA1_FASII),\n",
    "            pcr(p[167],p[626], pTA1_FASII),\n",
    "            pcr(p[153],p[623], pTA1_FASII),\n",
    "            pcr(p[207],p[621], pTA1_FASII),\n",
    "            pcr(p[419],p[764], pTA1_FASII),\n",
    "            pcr(p[830],p[1576], pTA1_FASII),\n",
    "            pcr(p[1590],p[512], pTA1_FASII), \n",
    "            pcr(p[500],p[1195], pTA1_FASII), ]"
   ]
  },
  {
   "cell_type": "code",
   "execution_count": 10,
   "metadata": {},
   "outputs": [
    {
     "data": {
      "text/plain": [
       "(830_RPL5tpf 27-mer:5'-ttaaatTTGTAAATA..TCA-3',\n",
       " 1576_RPL17A+ZA 80-mer:5'-gtcggctgcaggtca..tga-3')"
      ]
     },
     "execution_count": 10,
     "metadata": {},
     "output_type": "execute_result"
    }
   ],
   "source": [
    "frags[5].forward_primer, frags[5].reverse_primer"
   ]
  },
  {
   "cell_type": "code",
   "execution_count": 11,
   "metadata": {},
   "outputs": [
    {
     "data": {
      "text/html": [
       "Amplicon(3934)"
      ],
      "text/plain": [
       "Amplicon(3934)"
      ]
     },
     "execution_count": 11,
     "metadata": {},
     "output_type": "execute_result"
    }
   ],
   "source": [
    "frags[5]"
   ]
  },
  {
   "cell_type": "code",
   "execution_count": 12,
   "metadata": {},
   "outputs": [
    {
     "data": {
      "text/plain": [
       "5ttaaatTTGTAAATACAAAGTCATTCA...tcaagaactactaatagattaaattaattagtcgaggaacgccaggttgcccactttctcactagtgacctgcagccgac3\n",
       "                               ||||||||||||||||||||||||||||||||||||||||||||||||||||||||||||||||||||||||||||||||\n",
       "                              3agttcttgatgattatctaatttaattaatcagctccttgcggtccaacgggtgaaagagtgatcactggacgtcggctg5\n",
       "5ttaaatTTGTAAATACAAAGTCATTCA3\n",
       " |||||||||||||||||||||||||||\n",
       "3aatttaAACATTTATGTTTCAGTAAGT...agttcttgatgattatctaatttaattaatcagctccttgcggtccaacgggtgaaagagtgatcactggacgtcggctg5"
      ]
     },
     "execution_count": 12,
     "metadata": {},
     "output_type": "execute_result"
    }
   ],
   "source": [
    "frags[5].figure()"
   ]
  },
  {
   "cell_type": "code",
   "execution_count": 13,
   "metadata": {},
   "outputs": [
    {
     "data": {
      "text/plain": [
       "|95°C|95°C               |    |tmf:55.4\n",
       "|____|_____          72°C|72°C|tmr:81.9\n",
       "|5min|30s  \\ 55.6°C _____|____|30s/kb\n",
       "|    |      \\______/ 1:58|5min|GC 42%\n",
       "|    |       30s         |    |3934bp"
      ]
     },
     "execution_count": 13,
     "metadata": {},
     "output_type": "execute_result"
    }
   ],
   "source": [
    "frags[5].program()"
   ]
  },
  {
   "cell_type": "code",
   "execution_count": 14,
   "metadata": {},
   "outputs": [
    {
     "data": {
      "text/plain": [
       "|98°C|98°C               |    |tmf:51.6\n",
       "|____|_____          72°C|72°C|tmr:76.1\n",
       "|30s |10s  \\ 54.6°C _____|____|15s/kb\n",
       "|    |      \\______/ 0:59|5min|GC 42%\n",
       "|    |       10s         |    |3934bp\n"
      ]
     },
     "execution_count": 14,
     "metadata": {},
     "output_type": "execute_result"
    }
   ],
   "source": [
    "frags[5].dbd_program()"
   ]
  },
  {
   "cell_type": "code",
   "execution_count": 16,
   "metadata": {},
   "outputs": [
    {
     "data": {
      "text/plain": [
       "[Amplicon(3449),\n",
       " Amplicon(2697),\n",
       " Amplicon(4065),\n",
       " Amplicon(4109),\n",
       " Amplicon(6327),\n",
       " Amplicon(3934),\n",
       " Amplicon(911),\n",
       " Amplicon(2834)]"
      ]
     },
     "execution_count": 16,
     "metadata": {},
     "output_type": "execute_result"
    }
   ],
   "source": [
    "frags"
   ]
  },
  {
   "cell_type": "code",
   "execution_count": 17,
   "metadata": {},
   "outputs": [],
   "source": [
    "from pydna.common_sub_strings import terminal_overlap"
   ]
  },
  {
   "cell_type": "code",
   "execution_count": 18,
   "metadata": {},
   "outputs": [],
   "source": [
    "from pydna.assembly import Assembly"
   ]
  },
  {
   "cell_type": "code",
   "execution_count": 19,
   "metadata": {},
   "outputs": [
    {
     "data": {
      "text/plain": [
       "Assembly\n",
       "fragments..: 3449bp 2697bp 4065bp 4109bp 6327bp 3934bp 911bp 2834bp\n",
       "limit(bp)..: 25\n",
       "G.nodes....: 16\n",
       "algorithm..: terminal_overlap"
      ]
     },
     "execution_count": 19,
     "metadata": {},
     "output_type": "execute_result"
    }
   ],
   "source": [
    "asm = Assembly((frags), limit=25, algorithm=terminal_overlap)\n",
    "asm"
   ]
  },
  {
   "cell_type": "code",
   "execution_count": 20,
   "metadata": {},
   "outputs": [
    {
     "data": {
      "text/plain": [
       "[Contig(o25127), Contig(o25127)]"
      ]
     },
     "execution_count": 20,
     "metadata": {},
     "output_type": "execute_result"
    }
   ],
   "source": [
    "circular_candidates = asm.assemble_circular()\n",
    "circular_candidates"
   ]
  },
  {
   "cell_type": "code",
   "execution_count": 21,
   "metadata": {},
   "outputs": [
    {
     "data": {
      "text/plain": [
       " -|3449bp_PCR_pr_rc|30\n",
       "|                   \\/\n",
       "|                   /\\\n",
       "|                   30|2834bp_PCR_pr_rc|29\n",
       "|                                       \\/\n",
       "|                                       /\\\n",
       "|                                       29|911bp_PCR_pro_rc|50\n",
       "|                                                           \\/\n",
       "|                                                           /\\\n",
       "|                                                           50|3934bp_PCR_pr_rc|2028\n",
       "|                                                                               \\/\n",
       "|                                                                               /\\\n",
       "|                                                                               2028|6327bp_PCR_pr_rc|596\n",
       "|                                                                                                     \\/\n",
       "|                                                                                                     /\\\n",
       "|                                                                                                     596|4109bp_PCR_pr_rc|250\n",
       "|                                                                                                                          \\/\n",
       "|                                                                                                                          /\\\n",
       "|                                                                                                                          250|4065bp_PCR_pr_rc|118\n",
       "|                                                                                                                                               \\/\n",
       "|                                                                                                                                               /\\\n",
       "|                                                                                                                                               118|2697bp_PCR_pr_rc|98\n",
       "|                                                                                                                                                                    \\/\n",
       "|                                                                                                                                                                    /\\\n",
       "|                                                                                                                                                                    98-\n",
       "|                                                                                                                                                                       |\n",
       " -----------------------------------------------------------------------------------------------------------------------------------------------------------------------"
      ]
     },
     "execution_count": 21,
     "metadata": {},
     "output_type": "execute_result"
    }
   ],
   "source": [
    "candidate = circular_candidates[1]\n",
    "candidate.figure()"
   ]
  },
  {
   "cell_type": "code",
   "execution_count": 22,
   "metadata": {},
   "outputs": [],
   "source": [
    "pTA1_FASII2 = candidate.synced(\"tcgcgcgtttcggtgatgacggtgaaaacctctga\")"
   ]
  },
  {
   "cell_type": "code",
   "execution_count": 23,
   "metadata": {},
   "outputs": [],
   "source": [
    "pTA1_FASII2.name = \"pTA1_FASII2\""
   ]
  },
  {
   "cell_type": "code",
   "execution_count": 24,
   "metadata": {},
   "outputs": [
    {
     "data": {
      "text/plain": [
       "cSEGUID_ZiTzKmoBxKUGNAA_fEyThT2TipY"
      ]
     },
     "execution_count": 24,
     "metadata": {},
     "output_type": "execute_result"
    }
   ],
   "source": [
    "pTA1_FASII2.stamp()"
   ]
  },
  {
   "cell_type": "code",
   "execution_count": 25,
   "metadata": {},
   "outputs": [
    {
     "name": "stdout",
     "output_type": "stream",
     "text": [
      "LOCUS       pTA1_FASII2            25127 bp    DNA     circular UNK 01-JAN-1980\n",
      "DEFINITION  cSEGUID_ZiTzKmoBxKUGNAA_fEyThT2TipY.\n",
      "ACCESSION   id\n",
      "VERSION     id\n",
      "KEYWORDS    .\n",
      "SOURCE      .\n",
      "  ORGANISM  .\n"
     ]
    }
   ],
   "source": [
    "print(pTA1_FASII2.format()[:200])"
   ]
  },
  {
   "cell_type": "code",
   "execution_count": 26,
   "metadata": {},
   "outputs": [
    {
     "data": {
      "text/html": [
       "<font face=monospace><a href='pTA1_FASII2.gb' target='_blank'>pTA1_FASII2.gb</a></font><br>"
      ]
     },
     "metadata": {},
     "output_type": "display_data"
    }
   ],
   "source": [
    "pTA1_FASII2.write(\"pTA1_FASII2.gb\")"
   ]
  }
 ],
 "metadata": {
  "anaconda-cloud": {},
  "kernelspec": {
   "display_name": "Python [conda env:bjorn39]",
   "language": "python",
   "name": "conda-env-bjorn39-py"
  },
  "language_info": {
   "codemirror_mode": {
    "name": "ipython",
    "version": 3
   },
   "file_extension": ".py",
   "mimetype": "text/x-python",
   "name": "python",
   "nbconvert_exporter": "python",
   "pygments_lexer": "ipython3",
   "version": "3.9.0"
  }
 },
 "nbformat": 4,
 "nbformat_minor": 4
}
