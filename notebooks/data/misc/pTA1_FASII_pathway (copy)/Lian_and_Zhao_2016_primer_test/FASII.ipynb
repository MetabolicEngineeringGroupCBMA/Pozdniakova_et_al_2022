{
 "cells": [
  {
   "cell_type": "markdown",
   "id": "059f52aa-239e-4a42-b07b-157deab3dfb9",
   "metadata": {},
   "source": [
    "### Primer comparison\n",
    "\n",
    "In the paper below they reconstitute a lipolyation machinery based on the FASII of E. coli:\n",
    "\n",
    "Lian, Jiazhang, and Huimin Zhao. 2016. “Functional Reconstitution of a Pyruvate Dehydrogenase in the Cytosol of Saccharomyces Cerevisiae through Lipoylation Machinery Engineering.” *ACS Synthetic Biology* 5 (7) (July 15): 689–697.\n",
    "\n",
    "They express acpP acpS fabD fabH fabF fabG fabA and fabI.\n",
    "\n",
    "This setup has no thioesterase.\n",
    "\n",
    "The authors list primers in \"Supplementary Table S1\" in the file [Lian_and_Zhao_2016_-_sb6b00019_si_001.pdf](Lian_and_Zhao_2016_-_sb6b00019_si_001.pdf).\n",
    "\n",
    "I used [Tabula](https://github.com/tabulapdf/tabula) in order to extract the table data. I used the option described for \"tabula.jar\".\n",
    "\n",
    "I pasted these primers in this [google spreadsheet](https://docs.google.com/spreadsheets/d/1koaZCwXGtJRpSS_CSi8ceYcxGs1224Gom32e77ZiM6o/edit?usp=sharing).\n",
    "\n",
    "I used the primers marked in blue in the google spreadsheet to amplify the genes from our FASII constructs."
   ]
  },
  {
   "cell_type": "code",
   "execution_count": 22,
   "id": "94ce51c9-753a-4962-877c-3fb72a19dc7d",
   "metadata": {
    "lines_to_next_cell": 0
   },
   "outputs": [],
   "source": [
    "from pydna.amplify import Anneal\n",
    "from pydna.amplify import pcr\n",
    "from pydna.assembly import Assembly\n",
    "from pydna.genbank import genbank\n",
    "from pydna.genbank import Genbank\n",
    "from pydna.download import download_text\n",
    "from pydna.dseqrecord import Dseqrecord\n",
    "from pydna.dseq import Dseq\n",
    "from pydna.readers import read\n",
    "from pydna.readers import read_primer\n",
    "from pydna.parsers import parse\n",
    "from pydna.parsers import parse_primers\n",
    "from pydna.editor import ape\n",
    "from pydna.design import primer_design\n",
    "from pydna.design import assembly_fragments\n",
    "from pydna.design import circular_assembly_fragments\n",
    "from pydna.utils import eq\n",
    "from pydna.genbankfixer import gbtext_clean\n",
    "from pydna.myprimers import primerlist\n",
    "from pygenome import saccharomyces_cerevisiae as sg"
   ]
  },
  {
   "cell_type": "code",
   "execution_count": 3,
   "id": "stock-relative",
   "metadata": {},
   "outputs": [],
   "source": [
    "p = \"\"\"\n",
    ">FabA-F\n",
    "aaacacaaaaacaaaaagtttttttaattttaatcaaaaaatggtagataaacgcgaatc\n",
    ">FabA-R\n",
    "aattagagcgtgatcatgaattaataaaagtgttcgcaaatcagaaggcagacgtatcct\n",
    ">FabZ-F\n",
    "aaacacaaaaacaaaaagtttttttaattttaatcaaaaaatgactactaacactcatac\n",
    ">FabZ-R\n",
    "aattagagcgtgatcatgaattaataaaagtgttcgcaaatcaggcctcccggctacgag\n",
    ">FabD-F\n",
    "gttcgcggatccatgacgcaatttgcatttgtgttc\n",
    ">FabD-R\n",
    "cacccgctcgagttaaagctctagcgccgctgccatc\n",
    ">FabG-F\n",
    "tttacaagacaccaatcaaaacaaataaaacatcatcacaatgaattttgaaggaaaaat\n",
    ">FabG-R\n",
    "gagggcgtgaatgtaagcgtgacataactaattacatgattcagaccatgtacatcccgc\n",
    ">FabI-F\n",
    "tcataacaccaagcaactaatactataacatacaataataatgggttttctttccggtaa\n",
    ">FabI-R\n",
    "aaagaaaaaaattgatctatcgatttcaattcaattcaatttatttcagttcgagttcgt\n",
    ">AcpS-F\n",
    "gttggaagatctatggcaatattaggtttagg\n",
    ">AcpS-R\n",
    "cacccgctcgagttaactttcaataattacc\n",
    ">AcpP-F\n",
    "gttcgcggatccatgagcactatcgaagaacg\n",
    ">AcpP-R\n",
    "cacccgctcgagttacgcctggtggccgttg\n",
    ">FabF-F\n",
    "gttcgcggatccatgtctaagcgtcgtgtagttgtgac\n",
    ">FabF-R\n",
    "gagtcccaagcttttagatctttttaaagatcaaagaac\n",
    ">FabH-F\n",
    "gttcgcggatccatgtatacgaagattattg\n",
    ">FabH-R\n",
    "cacccgctcgagctagaaacgaaccagcgcg\n",
    ">FabH-Gib-F\n",
    "gatccagtatagtgtattcttcctggcggccgcgtgtcgacgctgcgggtatag\n",
    ">FabH-Gib-R\n",
    "accaacctgatgggttcctagatatagcggccgccag\n",
    "\"\"\""
   ]
  },
  {
   "cell_type": "code",
   "execution_count": 5,
   "id": "0162086a-ca04-47cc-9ca6-da35a61b86b4",
   "metadata": {
    "lines_to_next_cell": 3
   },
   "outputs": [],
   "source": [
    "(FabA_F,\n",
    " FabA_R,\n",
    " FabZ_F,\n",
    " FabZ_R,\n",
    " FabD_F,\n",
    " FabD_R,\n",
    " FabG_F,\n",
    " FabG_R,\n",
    " FabI_F,\n",
    " FabI_R,\n",
    " AcpS_F,\n",
    " AcpS_R,\n",
    " AcpP_F,\n",
    " AcpP_R,\n",
    " FabF_F,\n",
    " FabF_R,\n",
    " FabH_F,\n",
    " FabH_R,\n",
    " FabH_Gib_F,\n",
    " FabH_Gib_R) = parse_primers(p)\n",
    "\n",
    "ppairs = ( (FabA_F,FabA_R),\n",
    "           (FabZ_F,FabZ_R),\n",
    "           (FabD_F,FabD_R),\n",
    "           (FabG_F,FabG_R),\n",
    "           (FabI_F,FabI_R),\n",
    "           (AcpS_F,AcpS_R),\n",
    "           (AcpP_F,AcpP_R),\n",
    "           (FabF_F,FabF_R),\n",
    "           (FabH_F,FabH_R),)"
   ]
  },
  {
   "cell_type": "code",
   "execution_count": 6,
   "id": "f03b2631-e213-4ef2-a975-b84e03b3a871",
   "metadata": {
    "lines_to_next_cell": 3
   },
   "outputs": [],
   "source": [
    "templates = (\n",
    "\"pYPKa_A_EcacpH.gb\",\n",
    "\"pYPKa_A_EcacpP.gb\",\n",
    "\"pYPKa_A_EcacpS.gb\",\n",
    "\"pYPKa_A_EcfabA.gb\",\n",
    "\"pYPKa_A_EcfabB.gb\",\n",
    "\"pYPKa_A_EcfabD.gb\",\n",
    "\"pYPKa_A_EcfabF.gb\",\n",
    "\"pYPKa_A_EcfabG.gb\",\n",
    "\"pYPKa_A_EcfabH.gb\",\n",
    "\"pYPKa_A_EcfabI.gb\",\n",
    "\"pYPKa_A_EcfabZ.gb\")\n",
    "\n",
    "( pYPKa_A_EcacpH,\n",
    "  pYPKa_A_EcacpP,\n",
    "  pYPKa_A_EcacpS,\n",
    "  pYPKa_A_EcfabA,\n",
    "  pYPKa_A_EcfabB,\n",
    "  pYPKa_A_EcfabD,\n",
    "  pYPKa_A_EcfabF,\n",
    "  pYPKa_A_EcfabG,\n",
    "  pYPKa_A_EcfabH,\n",
    "  pYPKa_A_EcfabI,\n",
    "  pYPKa_A_EcfabZ ) = [read(t) for t in templates]\n",
    "\n",
    "\n",
    "templates = (   pYPKa_A_EcfabA,\n",
    "                pYPKa_A_EcfabZ,\n",
    "                pYPKa_A_EcfabD,\n",
    "                pYPKa_A_EcfabG,\n",
    "                pYPKa_A_EcfabI,\n",
    "                pYPKa_A_EcacpS,\n",
    "                pYPKa_A_EcacpP,\n",
    "                pYPKa_A_EcfabF,\n",
    "                pYPKa_A_EcfabH)"
   ]
  },
  {
   "cell_type": "code",
   "execution_count": 12,
   "id": "4b5a9cea-ed3a-4fe7-9148-916c32a311b5",
   "metadata": {},
   "outputs": [
    {
     "data": {
      "text/plain": [
       "'FabH-F'"
      ]
     },
     "execution_count": 12,
     "metadata": {},
     "output_type": "execute_result"
    }
   ],
   "source": [
    "fp.id"
   ]
  },
  {
   "cell_type": "code",
   "execution_count": 14,
   "id": "980494f6-5bfb-4215-bf45-bedf8b56e6d5",
   "metadata": {
    "lines_to_next_cell": 3
   },
   "outputs": [
    {
     "name": "stdout",
     "output_type": "stream",
     "text": [
      "FabA-F FabA-R\n",
      "                                      5aaatggtagataaacgcgaatc...aggatacgtctgccttctga3\n",
      "                                                                ||||||||||||||||||||\n",
      "                                                               3tcctatgcagacggaagactaaacgcttgtgaaaataattaagtactagtgcgagattaa5\n",
      "5aaacacaaaaacaaaaagtttttttaattttaatcaaaaaatggtagataaacgcgaatc3\n",
      "                                       ||||||||||||||||||||||\n",
      "                                      3tttaccatctatttgcgcttag...tcctatgcagacggaagact5\n",
      "\n",
      "MVDKRESYTKEDLLASGRGELFGAKGPQLPAPNMLMMDRVVKMTETGGNFDKGYVEAELDINPDLWFFGCHFIGDPVMPGCLGLDAMWQLVGFYLGWLGGEGKGRALGVGEVKFTGQVLPTAKKVTYRIHFKRIVNRRLIMGLADGEVLVDGRLIYTASDLKVGLFQDTSAF*\n",
      "----\n",
      "\n",
      "\n",
      "FabZ-F FabZ-R\n",
      "                                      5aaatgactactaacactcatac...ctcgtagccgggaggcctga3\n",
      "                                                                ||||||||||||||||||||\n",
      "                                                               3gagcatcggccctccggactaaacgcttgtgaaaataattaagtactagtgcgagattaa5\n",
      "5aaacacaaaaacaaaaagtttttttaattttaatcaaaaaatgactactaacactcatac3\n",
      "                                       ||||||||||||||||||||||\n",
      "                                      3tttactgatgattgtgagtatg...gagcatcggccctccggact5\n",
      "\n",
      "MTTNTHTLQIEEILELLPHRFPFLLVDRVLDFEEGRFLRAVKNVSVNEPFFQGHFPGKPIFPGVLILEAMAQATGILAFKSVGKLEPGELYYFAGIDEARFKRPVVPGDQMIMEVTFEKTRRGLTRFKGVALVDGKVVCEATMMCARSREA*\n",
      "----\n",
      "\n",
      "\n",
      "FabD-F FabD-R\n",
      "            5atgacgcaatttgcatttgtgttc...gatggcagcggcgct3\n",
      "                                        |||||||||||||||\n",
      "                                       3ctaccgtcgccgcgatctcgaaattgagctcgcccac5\n",
      "5gttcgcggatccatgacgcaatttgcatttgtgttc3\n",
      "             ||||||||||||||||||||||||\n",
      "            3tactgcgttaaacgtaaacacaag...ctaccgtcgccgcga5\n",
      "\n",
      "MTQFAFVFPGQGSQTVGMLADMAASYPIVEETFAEASAALGYDLWALTQQGPAEELNKTWQTQPALLTASVALYRVWQQQGGKAPAMMAGHSLGEYSALVCAGVIDFADAVRLVEMRGKFMQEAVPEGTGAMAAIIGLDDASIAKACEEAAEGQVVSPVNFNSPGQVVIAGHKEAVERAGAACKAAGAKRALPLPVSVPSHCALMKPAADKLAVELAKITFNAPTVPVVNNVDVKCETNGDAIRDALVRQLYNPVQWTKSVEYMAAQGVEHLYEVGPGKVLTGLTKRIVDTLTASALNEPSAMAAALEL*\n",
      "----\n",
      "\n",
      "\n",
      "FabG-F FabG-R\n",
      "                                       5aatgaattttgaaggaaaaat...gcgggatgtacatggtctga3\n",
      "                                                                ||||||||||||||||||||\n",
      "                                                               3cgccctacatgtaccagacttagtacattaatcaatacagtgcgaatgtaagtgcgggag5\n",
      "5tttacaagacaccaatcaaaacaaataaaacatcatcacaatgaattttgaaggaaaaat3\n",
      "                                        |||||||||||||||||||||\n",
      "                                       3ttacttaaaacttccttttta...cgccctacatgtaccagact5\n",
      "\n",
      "MNFEGKIALVTGASRGIGRAIAETLAARGAKVIGTATSENGAQAISDYLGANGKGLMLNVTDPASIESVLEKIRAEFGEVDILVNNAGITRDNLLMRMKDEEWNDIIETNLSSVFRLSKAVMRAMMKKRHGRIITIGSVVGTMGNGGQANYAAAKAGLIGFSKSLAREVASRGITVNVVAPGFIETDMTRALSDDQRAGILAQVPAGRLGGAQEIANAVAFLASDEAAYITGETLHVNGGMYMV*\n",
      "----\n",
      "\n",
      "\n",
      "FabI-F FabI-R\n",
      "                                       5aatgggttttctttccggtaa...acgaactcgaactgaaataa3\n",
      "                                                                ||||||||||||||||||||\n",
      "                                                               3tgcttgagcttgactttatttaacttaacttaactttagctatctagttaaaaaaagaaa5\n",
      "5tcataacaccaagcaactaatactataacatacaataataatgggttttctttccggtaa3\n",
      "                                        |||||||||||||||||||||\n",
      "                                       3ttacccaaaagaaaggccatt...tgcttgagcttgactttatt5\n",
      "\n",
      "MGFLSGKRILVTGVASKLSIAYGIAQAMHREGAELAFTYQNDKLKGRVEEFAAQLGSDIVLQCDVAEDASIDTMFAELGKVWPKFDGFVHSIGFAPGDQLDGDYVNAVTREGFKIAHDISSYSFVAMAKACRSMLNPGSALLTLSYLGAERAIPNYNVMGLAKASLEANVRYMANAMGPEGVRVNAISAGPIRTLAASGIKDFRKMLAHCEAVTPIRRTVTIEDVGNSAAFLCSDLSAGISGEVVHVDGGFSIAAMNELELK*\n",
      "----\n",
      "\n",
      "\n",
      "AcpS-F AcpS-R\n",
      "            5atggcaatattaggtttagg...ggtaattattgaaagttaa3\n",
      "                                    |||||||||||||||||||\n",
      "                                   3ccattaataactttcaattgagctcgcccac5\n",
      "5gttggaagatctatggcaatattaggtttagg3\n",
      "             ||||||||||||||||||||\n",
      "            3taccgttataatccaaatcc...ccattaataactttcaatt5\n",
      "\n",
      "MAILGLGTDIVEIARIEAVIARSGDRLARRVLSDNEWAIWKTHHQPVRFLAKRFAVKEAAAKAFGTGIRNGLAFNQFEVFNDELGKPRLRLWGEALKLAEKLGVANMHVTLADERHYACATVIIES*\n",
      "----\n",
      "\n",
      "\n",
      "AcpP-F AcpP-R\n",
      "            5atgagcactatcgaagaacg...caacggccaccaggcgtaa3\n",
      "                                    |||||||||||||||||||\n",
      "                                   3gttgccggtggtccgcattgagctcgcccac5\n",
      "5gttcgcggatccatgagcactatcgaagaacg3\n",
      "             ||||||||||||||||||||\n",
      "            3tactcgtgatagcttcttgc...gttgccggtggtccgcatt5\n",
      "\n",
      "MSTIEERVKKIIGEQLGVKQEEVTNNASFVEDLGADSLDTVELVMALEEEFDTEIPDEEAEKITTVQAAIDYINGHQA*\n",
      "----\n",
      "\n",
      "\n",
      "FabF-F FabF-R\n",
      "            5atgtctaagcgtcgtgtagttgtgac...gttctttgatctttaaaaagatctaa3\n",
      "                                          ||||||||||||||||||||||||||\n",
      "                                         3caagaaactagaaatttttctagattttcgaaccctgag5\n",
      "5gttcgcggatccatgtctaagcgtcgtgtagttgtgac3\n",
      "             ||||||||||||||||||||||||||\n",
      "            3tacagattcgcagcacatcaacactg...caagaaactagaaatttttctagatt5\n",
      "\n",
      "MSKRRVVVTGLGMLSPVGNTVESTWKALLAGQSGISLIDHFDTSAYATKFAGLVKDFNCEDIISRKEQRKMDAFIQYGIVAGVQAMQDSGLEITEENATRIGAAIGSGIGGLGLIEENHTSLMNGGPRKISPFFVPSTIVNMVAGHLTIMYGLRGPSISIATACTSGVHNIGHAARIIAYGDADVMVAGGAEKASTPLGVGGFGAARALSTRNDNPQAASRPWDKERDGFVLGDGAGMLVLEEYEHAKKRGAKIYAELVGFGMSSDAYHMTSPPENGAGAALAMANALRDAGIEASQIGYVNAHGTSTPAGDKAEAQAVKTIFGEAASRVLVSSTKSMTGHLLGAAGAVESIYSILALRDQAVPPTINLDNPDEGCDLDFVPHEARQVSGMEYTLCNSFGFGGTNGSLIFKKI*\n",
      "----\n",
      "\n",
      "\n",
      "FabH-F FabH-R\n",
      "            5atgtatacgaagattattg...cgcgctggttcgtttctag3\n",
      "                                   |||||||||||||||||||\n",
      "                                  3gcgcgaccaagcaaagatcgagctcgcccac5\n",
      "5gttcgcggatccatgtatacgaagattattg3\n",
      "             |||||||||||||||||||\n",
      "            3tacatatgcttctaataac...gcgcgaccaagcaaagatc5\n",
      "\n",
      "MYTKIIGTGSYLPEQVRTNADLEKMVDTSDEWIVTRTGIRERHIAAPNETVSTMGFEAATRAIEMAGIEKDQIGLIVVATTSATHAFPSAACQIQSMLGIKGCPAFDVAAACAGFTYALSVADQYVKSGAVKYALVVGSDVLARTCDPTDRGTIIIFGDGAGAAVLAASEEPGIISTHLHADGSYGELLTLPNADRVNPENSIHLTMAGNEVFKVAVTELAHIVDETLAANNLDRSQLDWLVPHQANLRIISATAKKLGMSMDNVVVTLDRHGNTSAASVPCALDEAVRDGRIKPGQLVLLEAFGGGFTWGSALVRF*\n",
      "----\n",
      "\n",
      "\n"
     ]
    }
   ],
   "source": [
    "genes = []\n",
    "for template,(fp,rp) in zip(templates, ppairs):\n",
    "    gene = pcr(fp, rp, template)\n",
    "    print(fp.id, rp.id)\n",
    "    print(gene.figure())\n",
    "    print()\n",
    "    print(gene.orfs()[0].seq.translate())\n",
    "    print(\"----\\n\\n\")"
   ]
  },
  {
   "cell_type": "markdown",
   "id": "4389053f-d1b5-44c5-8adc-2e1917cc8364",
   "metadata": {},
   "source": [
    "I manually checked the protein sequences above by Genbank BLAST, and each one corresponded to the correct protein.\n",
    "\n",
    "The vectors used are described in the table below:\n",
    "\n",
    "![Table1](table1.png)"
   ]
  },
  {
   "cell_type": "markdown",
   "id": "59cfe901-4114-449a-b7d2-d257fbc0367a",
   "metadata": {},
   "source": [
    "    EcFAS0    pRS413-GPM1p-EcFabD-ADH1t\n",
    "                    -PYK1p-EcFabG-CYC1t\n",
    "                    -ENO2p-EcFabI-PGK1t \n",
    "                    -TPI1p-EcAcpP-TPI1t\n",
    "                    -TEF1p-EcAcpS-TEF1t\n",
    "                    -PGK1p-EcFabF-HXT7t\n",
    "\n",
    "     EcFAS0A   EcFAS0-HXT7p-EcFabA-HXT7t   <----<\n",
    "\n",
    "     EcFAS     EcFAS0A-ENO2p-EcFabH-PGK1t\n",
    "     \n",
    "     \n",
    "     \n",
    "     To construct the E. coli type II FAS, EcFAS0 was\n",
    "    constructed first using the DNA assembler method, and then\n",
    "    the EcFabA cassette (HXT7p-EcFabA-HXT7t) was cloned into\n",
    "    the StuI site to construct EcFAS0A, followed by the\n",
    "    introduction of the EcFabH cassette (ENO2p-EcFabH-\n",
    "    PGK1t) into the NotI site to construct EcFAS.\n",
    "    \n",
    "    \n",
    "    \n",
    "      acpP   acpS   fabD   fabH   fabF   fabG   fabA   fabI.\n",
    "    EcAcpP-EcAcpS-EcFabD-EcFabH-EcFabF-EcFabG-EcFabA-EcFabI \n",
    " "
   ]
  },
  {
   "cell_type": "code",
   "execution_count": 2,
   "id": "de3d4302-0099-41cf-b1a3-2ea4c4d8046b",
   "metadata": {},
   "outputs": [],
   "source": [
    "from pygenome import saccharomyces_cerevisiae as sg"
   ]
  },
  {
   "cell_type": "code",
   "execution_count": 14,
   "id": "4c0702ab-4857-4a68-9428-f68887e11bf2",
   "metadata": {},
   "outputs": [],
   "source": [
    "promoters = (\"GPM1\",\n",
    "             \"CDC19\",\n",
    "             \"ENO2\",\n",
    "             \"TPI1\",\n",
    "             \"TEF1\",\n",
    "             \"PGK1\",\n",
    "             \"HXT7\",\n",
    "             \"ENO2\")"
   ]
  },
  {
   "cell_type": "code",
   "execution_count": 16,
   "id": "d04fe43f-ed44-46e9-ba5f-cdfc1b6b30b4",
   "metadata": {},
   "outputs": [
    {
     "name": "stdout",
     "output_type": "stream",
     "text": [
      "Gene GPM1/YKL152C True\n",
      "Gene CDC19/YAL038W False\n",
      "Gene ENO2/YHR174W False\n",
      "Gene TPI1/YDR050C True\n",
      "Gene TEF1/YPR080W True\n",
      "Gene PGK1/YCR012W False\n",
      "Gene HXT7/YDR342C True\n",
      "Gene ENO2/YHR174W False\n"
     ]
    }
   ],
   "source": [
    "for pr in promoters:\n",
    "    g = sg.stdgenes[pr]\n",
    "    print(g, g.tandem())"
   ]
  },
  {
   "cell_type": "code",
   "execution_count": 23,
   "id": "ff5a06b8-8e6b-4bff-a44d-e128b495ddfb",
   "metadata": {},
   "outputs": [
    {
     "data": {
      "text/plain": [
       "Dseqrecord(-531)"
      ]
     },
     "execution_count": 23,
     "metadata": {},
     "output_type": "execute_result"
    }
   ],
   "source": [
    "new = sg.stdgenes[\"GPM1\"].promoter()\n",
    "new"
   ]
  },
  {
   "cell_type": "code",
   "execution_count": 25,
   "id": "e65c021f-4b49-4e55-9a74-bf253bf73970",
   "metadata": {},
   "outputs": [],
   "source": [
    "ampl = primer_design(new)"
   ]
  },
  {
   "cell_type": "code",
   "execution_count": 31,
   "id": "3e13549e-be27-40dd-be07-0adda11c3fd7",
   "metadata": {},
   "outputs": [],
   "source": [
    "nfp = \"TTAAAT\" + ampl.forward_primer"
   ]
  },
  {
   "cell_type": "code",
   "execution_count": 32,
   "id": "ac54590a-7867-4fe1-86c7-59d62f1715fe",
   "metadata": {},
   "outputs": [],
   "source": [
    "nrp = \"TAATTAA\" + ampl.reverse_primer"
   ]
  },
  {
   "cell_type": "code",
   "execution_count": 35,
   "id": "89a8b5c7-b6be-49f5-9305-aa2c020e670d",
   "metadata": {},
   "outputs": [
    {
     "data": {
      "text/plain": [
       "      5CACATGCAGTGATGCA...CAAACAAACACACATATTACAATA3\n",
       "                          ||||||||||||||||||||||||\n",
       "                         3GTTTGTTTGTGTGTATAATGTTATAATTAAT5\n",
       "5TTAAATCACATGCAGTGATGCA3\n",
       "       ||||||||||||||||\n",
       "      3GTGTACGTCACTACGT...GTTTGTTTGTGTGTATAATGTTAT5"
      ]
     },
     "execution_count": 35,
     "metadata": {},
     "output_type": "execute_result"
    }
   ],
   "source": [
    "pcr(nfp, nrp, new).figure()"
   ]
  },
  {
   "cell_type": "code",
   "execution_count": null,
   "id": "fb9b4b67-4bf6-48ee-996f-cf1d08a1de3e",
   "metadata": {},
   "outputs": [],
   "source": []
  }
 ],
 "metadata": {
  "jupytext": {
   "cell_metadata_filter": "-all",
   "encoding": "# -*- coding: utf-8 -*-",
   "executable": "/usr/bin/env python",
   "main_language": "python",
   "notebook_metadata_filter": "-all"
  },
  "kernelspec": {
   "display_name": "Python [conda env:bjorn39]",
   "language": "python",
   "name": "conda-env-bjorn39-py"
  },
  "language_info": {
   "codemirror_mode": {
    "name": "ipython",
    "version": 3
   },
   "file_extension": ".py",
   "mimetype": "text/x-python",
   "name": "python",
   "nbconvert_exporter": "python",
   "pygments_lexer": "ipython3",
   "version": "3.9.0"
  }
 },
 "nbformat": 4,
 "nbformat_minor": 5
}
