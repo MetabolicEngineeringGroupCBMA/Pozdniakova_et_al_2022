{
 "cells": [
  {
   "cell_type": "markdown",
   "metadata": {},
   "source": [
    "# Construction of pYPKa_A_EcacpP\n",
    "\n",
    "This notebook describe the construction of the _E. coli_ vector [pYPKa_A_EcacpP](pYPKa_A_EcacpP.gb).\n",
    "\n",
    "![pYPKa_A plasmid](pYPK_A.png \"pYPKa_A plasmid\")"
   ]
  },
  {
   "cell_type": "code",
   "execution_count": 1,
   "metadata": {
    "execution": {
     "iopub.execute_input": "2021-03-24T09:55:41.218647Z",
     "iopub.status.busy": "2021-03-24T09:55:41.217942Z",
     "iopub.status.idle": "2021-03-24T09:55:41.756155Z",
     "shell.execute_reply": "2021-03-24T09:55:41.756562Z"
    }
   },
   "outputs": [],
   "source": [
    "from pydna.readers import read\n",
    "from pydna.genbank import Genbank\n",
    "from pydna.parsers import parse_primers\n",
    "from pydna.amplify import pcr\n",
    "from pydna.amplify import Anneal"
   ]
  },
  {
   "cell_type": "markdown",
   "metadata": {},
   "source": [
    "The vector backbone [pYPKa](pYPKa.gb) is read from a local file."
   ]
  },
  {
   "cell_type": "code",
   "execution_count": 2,
   "metadata": {
    "execution": {
     "iopub.execute_input": "2021-03-24T09:55:41.764836Z",
     "iopub.status.busy": "2021-03-24T09:55:41.763836Z",
     "iopub.status.idle": "2021-03-24T09:55:41.775385Z",
     "shell.execute_reply": "2021-03-24T09:55:41.776424Z"
    }
   },
   "outputs": [],
   "source": [
    "pYPKa = read(\"pYPKa.gb\")"
   ]
  },
  {
   "cell_type": "markdown",
   "metadata": {},
   "source": [
    "The restriction enzyme [AjiI](http://rebase.neb.com/rebase/enz/AjiI.html) is imported from [Biopython](http://biopython.org)"
   ]
  },
  {
   "cell_type": "code",
   "execution_count": 3,
   "metadata": {
    "execution": {
     "iopub.execute_input": "2021-03-24T09:55:41.781807Z",
     "iopub.status.busy": "2021-03-24T09:55:41.780768Z",
     "iopub.status.idle": "2021-03-24T09:55:41.782639Z",
     "shell.execute_reply": "2021-03-24T09:55:41.783422Z"
    }
   },
   "outputs": [],
   "source": [
    "from Bio.Restriction import AjiI"
   ]
  },
  {
   "cell_type": "markdown",
   "metadata": {},
   "source": [
    "The plasmid is linearized with the enzyme."
   ]
  },
  {
   "cell_type": "code",
   "execution_count": 4,
   "metadata": {
    "execution": {
     "iopub.execute_input": "2021-03-24T09:55:41.789970Z",
     "iopub.status.busy": "2021-03-24T09:55:41.788200Z",
     "iopub.status.idle": "2021-03-24T09:55:41.793486Z",
     "shell.execute_reply": "2021-03-24T09:55:41.794086Z"
    }
   },
   "outputs": [],
   "source": [
    "pYPKa_AjiI  = pYPKa.linearize(AjiI)"
   ]
  },
  {
   "cell_type": "markdown",
   "metadata": {},
   "source": [
    "Access to [Genbank](http://www.ncbi.nlm.nih.gov/nuccore) is needed in order to download the template.\n",
    "If the email address below is not yours, change it before executing this script as you must always give NCBI a way to contact you when using their service."
   ]
  },
  {
   "cell_type": "code",
   "execution_count": 5,
   "metadata": {
    "execution": {
     "iopub.execute_input": "2021-03-24T09:55:41.800520Z",
     "iopub.status.busy": "2021-03-24T09:55:41.796672Z",
     "iopub.status.idle": "2021-03-24T09:55:41.802176Z",
     "shell.execute_reply": "2021-03-24T09:55:41.802565Z"
    }
   },
   "outputs": [],
   "source": [
    "gb = Genbank(\"bjornjobb@gmail.com\")"
   ]
  },
  {
   "cell_type": "markdown",
   "metadata": {},
   "source": [
    "The template is downloaded from Genbank below."
   ]
  },
  {
   "cell_type": "code",
   "execution_count": 6,
   "metadata": {
    "execution": {
     "iopub.execute_input": "2021-03-24T09:55:41.807385Z",
     "iopub.status.busy": "2021-03-24T09:55:41.806507Z",
     "iopub.status.idle": "2021-03-24T09:55:41.827146Z",
     "shell.execute_reply": "2021-03-24T09:55:41.827882Z"
    }
   },
   "outputs": [
    {
     "data": {
      "text/html": [
       "<a href='https://www.ncbi.nlm.nih.gov/nuccore/ NC_000913 ?from=1151615&to=1151851&strand=1' target='_blank'> NC_000913  1151615-1151851</a>"
      ],
      "text/plain": [
       "Gbank( NC_000913  1151615-1151851)(-237)"
      ]
     },
     "execution_count": 1,
     "metadata": {},
     "output_type": "execute_result"
    }
   ],
   "source": [
    "template  = gb.nucleotide(\" NC_000913 REGION: 1151615..1151851\")\n",
    "template"
   ]
  },
  {
   "cell_type": "code",
   "execution_count": 7,
   "metadata": {
    "execution": {
     "iopub.execute_input": "2021-03-24T09:55:41.833139Z",
     "iopub.status.busy": "2021-03-24T09:55:41.832361Z",
     "iopub.status.idle": "2021-03-24T09:55:41.837062Z",
     "shell.execute_reply": "2021-03-24T09:55:41.837613Z"
    }
   },
   "outputs": [
    {
     "data": {
      "text/plain": [
       "+-----------+------+-------+-------+-----+------+-------+-----+-----+-----+-----+-----+-----+-------+\n",
       "|    cds    | len  |  cai  |   gc  | sta | stp  | n-end | CGA | CGG | CGC | CCG | CTC | GCG |  rare |\n",
       "+-----------+------+-------+-------+-----+------+-------+-----+-----+-----+-----+-----+-----+-------+\n",
       "| ATG...TAA | 79.0 | 0.667 | 0.481 | 1.0 | 0.47 | >30 h |  0  |  0  |  1  |  1  |  0  |  2  | 0.051 |\n",
       "+-----------+------+-------+-------+-----+------+-------+-----+-----+-----+-----+-----+-----+-------+"
      ]
     },
     "execution_count": 1,
     "metadata": {},
     "output_type": "execute_result"
    }
   ],
   "source": [
    "template.express(\"sce\")"
   ]
  },
  {
   "cell_type": "markdown",
   "metadata": {},
   "source": [
    "The two primers below are used to amplify the insert."
   ]
  },
  {
   "cell_type": "code",
   "execution_count": 8,
   "metadata": {
    "execution": {
     "iopub.execute_input": "2021-03-24T09:55:41.840891Z",
     "iopub.status.busy": "2021-03-24T09:55:41.840046Z",
     "iopub.status.idle": "2021-03-24T09:55:41.844447Z",
     "shell.execute_reply": "2021-03-24T09:55:41.843950Z"
    }
   },
   "outputs": [],
   "source": [
    "fp,rp =  parse_primers(\"\"\">726_EcacpP_fw\n",
    "                          aaATGAGCACTATCGAAGAAC\n",
    "                          >727_EcacpP_rv\n",
    "                          TTACGCCTGGTGGCCG\"\"\")"
   ]
  },
  {
   "cell_type": "markdown",
   "metadata": {},
   "source": [
    "The gene is amplifed using the primers specified above."
   ]
  },
  {
   "cell_type": "code",
   "execution_count": 9,
   "metadata": {
    "execution": {
     "iopub.execute_input": "2021-03-24T09:55:41.851843Z",
     "iopub.status.busy": "2021-03-24T09:55:41.851338Z",
     "iopub.status.idle": "2021-03-24T09:55:41.853116Z",
     "shell.execute_reply": "2021-03-24T09:55:41.853568Z"
    }
   },
   "outputs": [],
   "source": [
    "ins = pcr(fp, rp, template)"
   ]
  },
  {
   "cell_type": "markdown",
   "metadata": {},
   "source": [
    "The primers anneal on the template like this."
   ]
  },
  {
   "cell_type": "code",
   "execution_count": 10,
   "metadata": {
    "execution": {
     "iopub.execute_input": "2021-03-24T09:55:41.857390Z",
     "iopub.status.busy": "2021-03-24T09:55:41.856768Z",
     "iopub.status.idle": "2021-03-24T09:55:41.861146Z",
     "shell.execute_reply": "2021-03-24T09:55:41.860401Z"
    }
   },
   "outputs": [
    {
     "data": {
      "text/plain": [
       "  5ATGAGCACTATCGAAGAAC...CGGCCACCAGGCGTAA3\n",
       "                         ||||||||||||||||\n",
       "                        3GCCGGTGGTCCGCATT5\n",
       "5aaATGAGCACTATCGAAGAAC3\n",
       "   |||||||||||||||||||\n",
       "  3TACTCGTGATAGCTTCTTG...GCCGGTGGTCCGCATT5"
      ]
     },
     "execution_count": 1,
     "metadata": {},
     "output_type": "execute_result"
    }
   ],
   "source": [
    "ins.figure()"
   ]
  },
  {
   "cell_type": "markdown",
   "metadata": {},
   "source": [
    "A suggested PCR program."
   ]
  },
  {
   "cell_type": "code",
   "execution_count": 11,
   "metadata": {
    "execution": {
     "iopub.execute_input": "2021-03-24T09:55:41.867429Z",
     "iopub.status.busy": "2021-03-24T09:55:41.866446Z",
     "iopub.status.idle": "2021-03-24T09:55:41.870625Z",
     "shell.execute_reply": "2021-03-24T09:55:41.869962Z"
    }
   },
   "outputs": [
    {
     "data": {
      "text/plain": [
       "|95°C|95°C               |    |tmf:55.3\n",
       "|____|_____          72°C|72°C|tmr:67.7\n",
       "|5min|30s  \\ 55.4°C _____|____|30s/kb\n",
       "|    |      \\______/ 0: 7|5min|GC 0%\n",
       "|    |       30s         |    |239bp\n"
      ]
     },
     "execution_count": 1,
     "metadata": {},
     "output_type": "execute_result"
    }
   ],
   "source": [
    "ins.program()"
   ]
  },
  {
   "cell_type": "markdown",
   "metadata": {},
   "source": [
    "The final vector is:"
   ]
  },
  {
   "cell_type": "code",
   "execution_count": 12,
   "metadata": {
    "execution": {
     "iopub.execute_input": "2021-03-24T09:55:41.898906Z",
     "iopub.status.busy": "2021-03-24T09:55:41.888349Z",
     "iopub.status.idle": "2021-03-24T09:55:42.093543Z",
     "shell.execute_reply": "2021-03-24T09:55:42.093020Z"
    }
   },
   "outputs": [],
   "source": [
    "pYPKa_A_EcacpP = (pYPKa_AjiI  + ins).looped().synced(pYPKa)"
   ]
  },
  {
   "cell_type": "markdown",
   "metadata": {},
   "source": [
    "The vector with reverse insert is created below. This vector theoretically make up\n",
    "fifty percent of the clones. The PCR strategy below is used to identify the correct clones."
   ]
  },
  {
   "cell_type": "code",
   "execution_count": 13,
   "metadata": {
    "execution": {
     "iopub.execute_input": "2021-03-24T09:55:42.162728Z",
     "iopub.status.busy": "2021-03-24T09:55:42.132303Z",
     "iopub.status.idle": "2021-03-24T09:55:42.326021Z",
     "shell.execute_reply": "2021-03-24T09:55:42.326732Z"
    }
   },
   "outputs": [],
   "source": [
    "pYPKa_A_EcacpPb = (pYPKa_AjiI  + ins.rc()).looped().synced(pYPKa)"
   ]
  },
  {
   "cell_type": "markdown",
   "metadata": {},
   "source": [
    "A combination of standard primers and the newly designed primers are \n",
    "used for the strategy to identify correct clones.\n",
    "Standard primers are listed [here](standard_primers.txt).\n",
    "The standard primers are read into a dictonary in the code cell below."
   ]
  },
  {
   "cell_type": "code",
   "execution_count": 14,
   "metadata": {
    "execution": {
     "iopub.execute_input": "2021-03-24T09:55:42.331400Z",
     "iopub.status.busy": "2021-03-24T09:55:42.330259Z",
     "iopub.status.idle": "2021-03-24T09:55:42.333483Z",
     "shell.execute_reply": "2021-03-24T09:55:42.333913Z"
    }
   },
   "outputs": [],
   "source": [
    "p = { x.id: x for x in parse_primers(\"standard_primers.txt\") }"
   ]
  },
  {
   "cell_type": "markdown",
   "metadata": {},
   "source": [
    "## Diagnostic PCR confirmation of pYPKa_A_EcacpP\n",
    "The correct structure of pYPKa_A_EcacpP is confirmed by PCR using standard primers\n",
    "577 and 342 that are vector specific together with the EcacpPfw primer specific for the insert \n",
    "in a multiplex PCR reaction with three primers present in the PCR reaction.\n",
    "\n",
    "Two PCR products are expected if the insert was sucessfully cloned, sizes depending\n",
    "on the orientation of the insert. \n",
    "If the vector is empty, only one short product is formed.\n",
    "\n",
    "## Expected PCR products sizes:\n",
    "\n",
    "pYPKa_A_EcacpP with insert in correct orientation."
   ]
  },
  {
   "cell_type": "code",
   "execution_count": 15,
   "metadata": {
    "execution": {
     "iopub.execute_input": "2021-03-24T09:55:42.346582Z",
     "iopub.status.busy": "2021-03-24T09:55:42.345993Z",
     "iopub.status.idle": "2021-03-24T09:55:42.352504Z",
     "shell.execute_reply": "2021-03-24T09:55:42.352058Z"
    }
   },
   "outputs": [
    {
     "data": {
      "text/plain": [
       "[Amplicon(1173), Amplicon(955)]"
      ]
     },
     "execution_count": 1,
     "metadata": {},
     "output_type": "execute_result"
    }
   ],
   "source": [
    "Anneal( (p['577'], p['342'], fp), pYPKa_A_EcacpP).products"
   ]
  },
  {
   "cell_type": "markdown",
   "metadata": {},
   "source": [
    "pYPKa_A_EcacpP with insert in reverse orientation."
   ]
  },
  {
   "cell_type": "code",
   "execution_count": 16,
   "metadata": {
    "execution": {
     "iopub.execute_input": "2021-03-24T09:55:42.374714Z",
     "iopub.status.busy": "2021-03-24T09:55:42.373761Z",
     "iopub.status.idle": "2021-03-24T09:55:42.381024Z",
     "shell.execute_reply": "2021-03-24T09:55:42.381806Z"
    }
   },
   "outputs": [
    {
     "data": {
      "text/plain": [
       "[Amplicon(1173), Amplicon(457)]"
      ]
     },
     "execution_count": 1,
     "metadata": {},
     "output_type": "execute_result"
    }
   ],
   "source": [
    "Anneal( (p['577'], p['342'], fp), pYPKa_A_EcacpPb).products"
   ]
  },
  {
   "cell_type": "markdown",
   "metadata": {},
   "source": [
    "Empty clone"
   ]
  },
  {
   "cell_type": "code",
   "execution_count": 17,
   "metadata": {
    "execution": {
     "iopub.execute_input": "2021-03-24T09:55:42.385345Z",
     "iopub.status.busy": "2021-03-24T09:55:42.384837Z",
     "iopub.status.idle": "2021-03-24T09:55:42.399069Z",
     "shell.execute_reply": "2021-03-24T09:55:42.399523Z"
    }
   },
   "outputs": [
    {
     "data": {
      "text/plain": [
       "[Amplicon(934)]"
      ]
     },
     "execution_count": 1,
     "metadata": {},
     "output_type": "execute_result"
    }
   ],
   "source": [
    "Anneal( (p['577'], p['342'], fp), pYPKa).products"
   ]
  },
  {
   "cell_type": "markdown",
   "metadata": {},
   "source": [
    "The cseguid checksum for the resulting plasmid is calculated for future reference.\n",
    "The [cseguid checksum](http://pydna.readthedocs.org/en/latest/pydna.html#pydna.utils.cseguid) \n",
    "uniquely identifies a circular double stranded sequence."
   ]
  },
  {
   "cell_type": "code",
   "execution_count": 18,
   "metadata": {
    "execution": {
     "iopub.execute_input": "2021-03-24T09:55:42.411407Z",
     "iopub.status.busy": "2021-03-24T09:55:42.405022Z",
     "iopub.status.idle": "2021-03-24T09:55:42.419537Z",
     "shell.execute_reply": "2021-03-24T09:55:42.420726Z"
    }
   },
   "outputs": [
    {
     "data": {
      "text/plain": [
       "Brjs5_T3QU0J4muKwecK0Vlgcxs"
      ]
     },
     "execution_count": 1,
     "metadata": {},
     "output_type": "execute_result"
    }
   ],
   "source": [
    "pYPKa_A_EcacpP.cseguid()"
   ]
  },
  {
   "cell_type": "markdown",
   "metadata": {},
   "source": [
    "The file is given a name based on the cloned insert"
   ]
  },
  {
   "cell_type": "code",
   "execution_count": 19,
   "metadata": {
    "execution": {
     "iopub.execute_input": "2021-03-24T09:55:42.425995Z",
     "iopub.status.busy": "2021-03-24T09:55:42.424403Z",
     "iopub.status.idle": "2021-03-24T09:55:42.430336Z",
     "shell.execute_reply": "2021-03-24T09:55:42.430813Z"
    }
   },
   "outputs": [],
   "source": [
    "pYPKa_A_EcacpP.locus = \"pYPKa_A_EcacpP\"[:16]"
   ]
  },
  {
   "cell_type": "markdown",
   "metadata": {},
   "source": [
    "Sequence is stamped with the cseguid checksum. \n",
    "This can be used to verify the integrity of the sequence file."
   ]
  },
  {
   "cell_type": "code",
   "execution_count": 20,
   "metadata": {
    "execution": {
     "iopub.execute_input": "2021-03-24T09:55:42.437370Z",
     "iopub.status.busy": "2021-03-24T09:55:42.436875Z",
     "iopub.status.idle": "2021-03-24T09:55:42.440221Z",
     "shell.execute_reply": "2021-03-24T09:55:42.439732Z"
    }
   },
   "outputs": [
    {
     "data": {
      "text/plain": [
       "cSEGUID_Brjs5_T3QU0J4muKwecK0Vlgcxs"
      ]
     },
     "execution_count": 1,
     "metadata": {},
     "output_type": "execute_result"
    }
   ],
   "source": [
    "pYPKa_A_EcacpP.stamp()"
   ]
  },
  {
   "cell_type": "markdown",
   "metadata": {},
   "source": [
    "The sequence is written to a local file."
   ]
  },
  {
   "cell_type": "code",
   "execution_count": 21,
   "metadata": {
    "execution": {
     "iopub.execute_input": "2021-03-24T09:55:42.447961Z",
     "iopub.status.busy": "2021-03-24T09:55:42.443493Z",
     "iopub.status.idle": "2021-03-24T09:55:42.453405Z",
     "shell.execute_reply": "2021-03-24T09:55:42.453976Z"
    }
   },
   "outputs": [
    {
     "data": {
      "text/html": [
       "<font face=monospace><a href='pYPKa_A_EcacpP.gb' target='_blank'>pYPKa_A_EcacpP.gb</a></font><br>"
      ]
     },
     "metadata": {},
     "output_type": "display_data"
    }
   ],
   "source": [
    "pYPKa_A_EcacpP.write(\"pYPKa_A_EcacpP.gb\")"
   ]
  }
 ],
 "metadata": {
  "kernelspec": {
   "display_name": "Python [conda env:bjorn39]",
   "language": "python",
   "name": "conda-env-bjorn39-py"
  },
  "language_info": {
   "codemirror_mode": {
    "name": "ipython",
    "version": 3
   },
   "file_extension": ".py",
   "mimetype": "text/x-python",
   "name": "python",
   "nbconvert_exporter": "python",
   "pygments_lexer": "ipython3",
   "version": "3.9.0"
  }
 },
 "nbformat": 4,
 "nbformat_minor": 4
}
