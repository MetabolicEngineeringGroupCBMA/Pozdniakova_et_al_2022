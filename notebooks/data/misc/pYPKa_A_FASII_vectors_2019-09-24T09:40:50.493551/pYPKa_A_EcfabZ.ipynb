{
 "cells": [
  {
   "cell_type": "markdown",
   "metadata": {},
   "source": [
    "# Construction of pYPKa_A_EcfabZ\n",
    "\n",
    "This notebook describe the construction of the _E. coli_ vector [pYPKa_A_EcfabZ](pYPKa_A_EcfabZ.gb).\n",
    "\n",
    "![pYPKa_A plasmid](pYPK_A.png \"pYPKa_A plasmid\")"
   ]
  },
  {
   "cell_type": "code",
   "execution_count": 22,
   "metadata": {},
   "outputs": [],
   "source": [
    "from pydna.readers import read\n",
    "from pydna.genbank import Genbank\n",
    "from pydna.parsers import parse_primers\n",
    "from pydna.amplify import pcr\n",
    "from pydna.amplify import Anneal"
   ]
  },
  {
   "cell_type": "markdown",
   "metadata": {},
   "source": [
    "The vector backbone [pYPKa](pYPKa.gb) is read from a local file."
   ]
  },
  {
   "cell_type": "code",
   "execution_count": 23,
   "metadata": {},
   "outputs": [],
   "source": [
    "pYPKa = read(\"pYPKa.gb\")"
   ]
  },
  {
   "cell_type": "markdown",
   "metadata": {},
   "source": [
    "The restriction enzyme [AjiI](http://rebase.neb.com/rebase/enz/AjiI.html) is imported from [Biopython](http://biopython.org)"
   ]
  },
  {
   "cell_type": "code",
   "execution_count": 24,
   "metadata": {},
   "outputs": [],
   "source": [
    "from Bio.Restriction import AjiI"
   ]
  },
  {
   "cell_type": "markdown",
   "metadata": {},
   "source": [
    "The plasmid is linearized with the enzyme."
   ]
  },
  {
   "cell_type": "code",
   "execution_count": 25,
   "metadata": {},
   "outputs": [],
   "source": [
    "pYPKa_AjiI  = pYPKa.linearize(AjiI)"
   ]
  },
  {
   "cell_type": "markdown",
   "metadata": {},
   "source": [
    "Access to [Genbank](http://www.ncbi.nlm.nih.gov/nuccore) is needed in order to download the template.\n",
    "If the email address below is not yours, change it before executing this script as you must always give NCBI a way to contact you when using their service."
   ]
  },
  {
   "cell_type": "code",
   "execution_count": 26,
   "metadata": {},
   "outputs": [],
   "source": [
    "gb = Genbank(\"bjornjobb@gmail.com\")"
   ]
  },
  {
   "cell_type": "markdown",
   "metadata": {},
   "source": [
    "The template is downloaded from Genbank below."
   ]
  },
  {
   "cell_type": "code",
   "execution_count": 27,
   "metadata": {},
   "outputs": [
    {
     "data": {
      "text/html": [
       "<a href='https://www.ncbi.nlm.nih.gov/nuccore/ NC_000913 ?from=202101&to=202556&strand=1' target='_blank'> NC_000913  202101-202556</a>"
      ],
      "text/plain": [
       "Gbank( NC_000913  202101-202556)(-456)"
      ]
     },
     "execution_count": 27,
     "metadata": {},
     "output_type": "execute_result"
    }
   ],
   "source": [
    "template  = gb.nucleotide(\" NC_000913 REGION: 202101..202556\")\n",
    "template"
   ]
  },
  {
   "cell_type": "code",
   "execution_count": 28,
   "metadata": {},
   "outputs": [
    {
     "data": {
      "text/markdown": [
       "|    cds    |  len  |  cai  |   gc  |  sta  | stp | n-end | CGA | CGG | CGC | CCG | CTC | GCG |  rare |\n",
       "|-----------|-------|-------|-------|-------|-----|-------|-----|-----|-----|-----|-----|-----|-------|\n",
       "| TTG...TGA | 152.0 | 0.599 | 0.504 | 0.069 | 0.3 | >30 h |  0  |  1  |  6  |  6  |  0  |  2  | 0.099 |"
      ],
      "text/plain": [
       "+-----------+-------+-------+-------+-------+-----+-------+-----+-----+-----+-----+-----+-----+-------+\n",
       "|    cds    |  len  |  cai  |   gc  |  sta  | stp | n-end | CGA | CGG | CGC | CCG | CTC | GCG |  rare |\n",
       "+-----------+-------+-------+-------+-------+-----+-------+-----+-----+-----+-----+-----+-----+-------+\n",
       "| TTG...TGA | 152.0 | 0.599 | 0.504 | 0.069 | 0.3 | >30 h |  0  |  1  |  6  |  6  |  0  |  2  | 0.099 |\n",
       "+-----------+-------+-------+-------+-------+-----+-------+-----+-----+-----+-----+-----+-----+-------+"
      ]
     },
     "execution_count": 28,
     "metadata": {},
     "output_type": "execute_result"
    }
   ],
   "source": [
    "template.express(\"sce\")"
   ]
  },
  {
   "cell_type": "markdown",
   "metadata": {},
   "source": [
    "The two primers below are used to amplify the insert."
   ]
  },
  {
   "cell_type": "code",
   "execution_count": 29,
   "metadata": {},
   "outputs": [],
   "source": [
    "fp,rp =  parse_primers(\"\"\">718_EcfabZ_fw\n",
    "                          aaATGACTACTAACACTCATACTCTGCAG\n",
    "                          >719_EcfabZ_rv\n",
    "                          TCAGGCCTCCCGGCTA\"\"\")"
   ]
  },
  {
   "cell_type": "markdown",
   "metadata": {},
   "source": [
    "The gene is amplifed using the primers specified above."
   ]
  },
  {
   "cell_type": "code",
   "execution_count": 30,
   "metadata": {},
   "outputs": [],
   "source": [
    "ins = pcr(fp, rp, template)"
   ]
  },
  {
   "cell_type": "code",
   "execution_count": 44,
   "metadata": {},
   "outputs": [
    {
     "data": {
      "text/plain": [
       "SeqRecord(seq=Seq('MTTNTHTLQIEEILELLPHRFPFLLVDRVLDFEEGRFLRAVKNVSVNEPFFQGH...EA*'), id='<unknown id>', name='<unknown name>', description='<unknown description>', dbxrefs=[])"
      ]
     },
     "execution_count": 44,
     "metadata": {},
     "output_type": "execute_result"
    }
   ],
   "source": [
    "ins[2:].translate()"
   ]
  },
  {
   "cell_type": "markdown",
   "metadata": {},
   "source": [
    "The primers anneal on the template like this."
   ]
  },
  {
   "cell_type": "code",
   "execution_count": 31,
   "metadata": {},
   "outputs": [
    {
     "data": {
      "text/plain": [
       "   5TGACTACTAACACTCATACTCTGCAG...TAGCCGGGAGGCCTGA3\n",
       "                                 ||||||||||||||||\n",
       "                                3ATCGGCCCTCCGGACT5\n",
       "5aaATGACTACTAACACTCATACTCTGCAG3\n",
       "    ||||||||||||||||||||||||||\n",
       "   3ACTGATGATTGTGAGTATGAGACGTC...ATCGGCCCTCCGGACT5"
      ]
     },
     "execution_count": 31,
     "metadata": {},
     "output_type": "execute_result"
    }
   ],
   "source": [
    "ins.figure()"
   ]
  },
  {
   "cell_type": "markdown",
   "metadata": {},
   "source": [
    "A suggested PCR program."
   ]
  },
  {
   "cell_type": "code",
   "execution_count": 32,
   "metadata": {},
   "outputs": [
    {
     "data": {
      "text/plain": [
       "|95°C|95°C               |    |tmf:63.5\n",
       "|____|_____          72°C|72°C|tmr:68.9\n",
       "|5min|30s  \\ 59.4°C _____|____|30s/kb\n",
       "|    |      \\______/ 0:13|5min|GC 0%\n",
       "|    |       30s         |    |458bp\n"
      ]
     },
     "execution_count": 32,
     "metadata": {},
     "output_type": "execute_result"
    }
   ],
   "source": [
    "ins.program()"
   ]
  },
  {
   "cell_type": "markdown",
   "metadata": {},
   "source": [
    "The final vector is:"
   ]
  },
  {
   "cell_type": "code",
   "execution_count": 33,
   "metadata": {},
   "outputs": [],
   "source": [
    "pYPKa_A_EcfabZ = (pYPKa_AjiI  + ins).looped().synced(pYPKa)"
   ]
  },
  {
   "cell_type": "markdown",
   "metadata": {},
   "source": [
    "The vector with reverse insert is created below. This vector theoretically make up\n",
    "fifty percent of the clones. The PCR strategy below is used to identify the correct clones."
   ]
  },
  {
   "cell_type": "code",
   "execution_count": 34,
   "metadata": {},
   "outputs": [],
   "source": [
    "pYPKa_A_EcfabZb = (pYPKa_AjiI  + ins.rc()).looped().synced(pYPKa)"
   ]
  },
  {
   "cell_type": "markdown",
   "metadata": {},
   "source": [
    "A combination of standard primers and the newly designed primers are \n",
    "used for the strategy to identify correct clones.\n",
    "Standard primers are listed [here](standard_primers.txt).\n",
    "The standard primers are read into a dictonary in the code cell below."
   ]
  },
  {
   "cell_type": "code",
   "execution_count": 35,
   "metadata": {},
   "outputs": [],
   "source": [
    "p = { x.id: x for x in parse_primers(\"standard_primers.txt\") }"
   ]
  },
  {
   "cell_type": "markdown",
   "metadata": {},
   "source": [
    "## Diagnostic PCR confirmation of pYPKa_A_EcfabZ\n",
    "The correct structure of pYPKa_A_EcfabZ is confirmed by PCR using standard primers\n",
    "577 and 342 that are vector specific together with the EcfabZfw primer specific for the insert \n",
    "in a multiplex PCR reaction with three primers present in the PCR reaction.\n",
    "\n",
    "Two PCR products are expected if the insert was sucessfully cloned, sizes depending\n",
    "on the orientation of the insert. \n",
    "If the vector is empty, only one short product is formed.\n",
    "\n",
    "## Expected PCR products sizes:\n",
    "\n",
    "pYPKa_A_EcfabZ with insert in correct orientation."
   ]
  },
  {
   "cell_type": "code",
   "execution_count": 36,
   "metadata": {},
   "outputs": [
    {
     "data": {
      "text/plain": [
       "[Amplicon(1392), Amplicon(1174)]"
      ]
     },
     "execution_count": 36,
     "metadata": {},
     "output_type": "execute_result"
    }
   ],
   "source": [
    "Anneal( (p['577'], p['342'], fp), pYPKa_A_EcfabZ).products"
   ]
  },
  {
   "cell_type": "markdown",
   "metadata": {},
   "source": [
    "pYPKa_A_EcfabZ with insert in reverse orientation."
   ]
  },
  {
   "cell_type": "code",
   "execution_count": 37,
   "metadata": {},
   "outputs": [
    {
     "data": {
      "text/plain": [
       "[Amplicon(1392), Amplicon(676)]"
      ]
     },
     "execution_count": 37,
     "metadata": {},
     "output_type": "execute_result"
    }
   ],
   "source": [
    "Anneal( (p['577'], p['342'], fp), pYPKa_A_EcfabZb).products"
   ]
  },
  {
   "cell_type": "markdown",
   "metadata": {},
   "source": [
    "Empty clone"
   ]
  },
  {
   "cell_type": "code",
   "execution_count": 38,
   "metadata": {},
   "outputs": [
    {
     "data": {
      "text/plain": [
       "[Amplicon(934)]"
      ]
     },
     "execution_count": 38,
     "metadata": {},
     "output_type": "execute_result"
    }
   ],
   "source": [
    "Anneal( (p['577'], p['342'], fp), pYPKa).products"
   ]
  },
  {
   "cell_type": "markdown",
   "metadata": {},
   "source": [
    "The cseguid checksum for the resulting plasmid is calculated for future reference.\n",
    "The [cseguid checksum](http://pydna.readthedocs.org/en/latest/pydna.html#pydna.utils.cseguid) \n",
    "uniquely identifies a circular double stranded sequence."
   ]
  },
  {
   "cell_type": "code",
   "execution_count": 39,
   "metadata": {},
   "outputs": [
    {
     "data": {
      "text/plain": [
       "ey9WAsmXdh9qWnQq0F5d0k8LMjc"
      ]
     },
     "execution_count": 39,
     "metadata": {},
     "output_type": "execute_result"
    }
   ],
   "source": [
    "pYPKa_A_EcfabZ.cseguid()"
   ]
  },
  {
   "cell_type": "markdown",
   "metadata": {},
   "source": [
    "The file is given a name based on the cloned insert"
   ]
  },
  {
   "cell_type": "code",
   "execution_count": 40,
   "metadata": {},
   "outputs": [],
   "source": [
    "pYPKa_A_EcfabZ.locus = \"pYPKa_A_EcfabZ\"[:16]"
   ]
  },
  {
   "cell_type": "markdown",
   "metadata": {},
   "source": [
    "Sequence is stamped with the cseguid checksum. \n",
    "This can be used to verify the integrity of the sequence file."
   ]
  },
  {
   "cell_type": "code",
   "execution_count": 41,
   "metadata": {},
   "outputs": [
    {
     "data": {
      "text/plain": [
       "cSEGUID_ey9WAsmXdh9qWnQq0F5d0k8LMjc"
      ]
     },
     "execution_count": 41,
     "metadata": {},
     "output_type": "execute_result"
    }
   ],
   "source": [
    "pYPKa_A_EcfabZ.stamp()"
   ]
  },
  {
   "cell_type": "markdown",
   "metadata": {},
   "source": [
    "The sequence is written to a local file."
   ]
  },
  {
   "cell_type": "code",
   "execution_count": 42,
   "metadata": {
    "tags": []
   },
   "outputs": [
    {
     "data": {
      "text/html": [
       "<font face=monospace><a href='pYPKa_A_EcfabZ.gb' target='_blank'>pYPKa_A_EcfabZ.gb</a></font><br>"
      ]
     },
     "metadata": {},
     "output_type": "display_data"
    }
   ],
   "source": [
    "pYPKa_A_EcfabZ.write(\"pYPKa_A_EcfabZ.gb\")"
   ]
  }
 ],
 "metadata": {
  "kernelspec": {
   "display_name": "Python [conda env:bjorn39]",
   "language": "python",
   "name": "conda-env-bjorn39-py"
  },
  "language_info": {
   "codemirror_mode": {
    "name": "ipython",
    "version": 3
   },
   "file_extension": ".py",
   "mimetype": "text/x-python",
   "name": "python",
   "nbconvert_exporter": "python",
   "pygments_lexer": "ipython3",
   "version": "3.9.0"
  }
 },
 "nbformat": 4,
 "nbformat_minor": 4
}
