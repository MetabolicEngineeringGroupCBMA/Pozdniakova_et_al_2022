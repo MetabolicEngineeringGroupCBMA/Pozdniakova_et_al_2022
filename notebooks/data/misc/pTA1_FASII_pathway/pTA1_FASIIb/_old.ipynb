{
 "cells": [
  {
   "cell_type": "markdown",
   "metadata": {},
   "source": [
    "## Jupyter notebook\n",
    "\n",
    "    The primers to amplify all the sequence without acpH can be:\n",
    "    984><497\n",
    "    167><626\n",
    "    153><623\n",
    "    207><621\n",
    "    419><764\n",
    "    949><1576\n",
    "    1577><512 or 494\n",
    "    500><1195\n",
    "    \n",
    "    I selected those in order to have identical Tm but if Professor have better suggestion.....\n",
    "    \n",
    "    >1577_ZA+EcacpS\n",
    "    gacctgcagccgacaaatggcaatattagg\n",
    "\n",
    "\n",
    "    >1576_RPL17A+ZA\n",
    "    gtcggctgcaggtcactagtgagaaagtgggcaacctggcgttcctcgactaattaatttaatctattagtagttcttga\n",
    "    \n",
    "    \n",
    "CCTAATATTGCCATTTGTCGGCTGCAGGTC\n",
    "                gtcggctgcaggtcactagtgagaaagtgggcaacctggcgttcctcgactaattaatttaatctattagtagttcttga\n",
    "    \n",
    "    \n",
    "    \n",
    "    \n",
    "    \n",
    "    "
   ]
  },
  {
   "cell_type": "code",
   "execution_count": 1,
   "metadata": {},
   "outputs": [],
   "source": [
    "from pydna.editor import ape"
   ]
  },
  {
   "cell_type": "code",
   "execution_count": 2,
   "metadata": {},
   "outputs": [],
   "source": [
    "from pydna.readers import read"
   ]
  },
  {
   "cell_type": "code",
   "execution_count": 3,
   "metadata": {},
   "outputs": [],
   "source": [
    "pTA1_FASII = read(\"pTA1_FASII.gb\").rc()"
   ]
  },
  {
   "cell_type": "code",
   "execution_count": 4,
   "metadata": {},
   "outputs": [
    {
     "data": {
      "text/plain": [
       "C9dQPJLCuZ48qFjLj0rKj-W1ZCc"
      ]
     },
     "execution_count": 4,
     "metadata": {},
     "output_type": "execute_result"
    }
   ],
   "source": [
    "pTA1_FASII.cseguid()"
   ]
  },
  {
   "cell_type": "code",
   "execution_count": 5,
   "metadata": {},
   "outputs": [],
   "source": [
    "from pydna.myprimers import primerlist"
   ]
  },
  {
   "cell_type": "code",
   "execution_count": 6,
   "metadata": {},
   "outputs": [],
   "source": [
    "p=primerlist()"
   ]
  },
  {
   "cell_type": "code",
   "execution_count": 8,
   "metadata": {},
   "outputs": [
    {
     "data": {
      "text/plain": [
       "(Seq('gtcggctgcaggtcactagtgagaaagtgggcaacctggcgttcctcgactaat...tga'),\n",
       " Seq('gacctgcagccgacaaatggcaatattagg'),\n",
       " Seq('gtcgaggaacgccaggttgcccactttctcactagtgacctgcagccgacaaat...gtg'))"
      ]
     },
     "execution_count": 8,
     "metadata": {},
     "output_type": "execute_result"
    }
   ],
   "source": [
    "p[1576].seq, p[1577].seq, p[1590].seq"
   ]
  },
  {
   "cell_type": "code",
   "execution_count": 9,
   "metadata": {},
   "outputs": [],
   "source": [
    "from pydna.amplify import pcr"
   ]
  },
  {
   "cell_type": "code",
   "execution_count": 10,
   "metadata": {},
   "outputs": [],
   "source": [
    "frags = [   pcr(p[984],p[497], pTA1_FASII),\n",
    "            pcr(p[167],p[626], pTA1_FASII),\n",
    "            pcr(p[153],p[623], pTA1_FASII),\n",
    "            pcr(p[207],p[621], pTA1_FASII),\n",
    "            pcr(p[419],p[764], pTA1_FASII),\n",
    "            pcr(p[949],p[1576], pTA1_FASII),\n",
    "            pcr(p[1590],p[512], pTA1_FASII), \n",
    "            pcr(p[500],p[1195], pTA1_FASII), ]"
   ]
  },
  {
   "cell_type": "code",
   "execution_count": 11,
   "metadata": {},
   "outputs": [
    {
     "data": {
      "text/plain": [
       "[Amplicon(3449),\n",
       " Amplicon(2697),\n",
       " Amplicon(4065),\n",
       " Amplicon(4109),\n",
       " Amplicon(6327),\n",
       " Amplicon(3409),\n",
       " Amplicon(911),\n",
       " Amplicon(2834)]"
      ]
     },
     "execution_count": 11,
     "metadata": {},
     "output_type": "execute_result"
    }
   ],
   "source": [
    "frags"
   ]
  },
  {
   "cell_type": "code",
   "execution_count": 12,
   "metadata": {},
   "outputs": [],
   "source": [
    "from pydna.common_sub_strings import terminal_overlap"
   ]
  },
  {
   "cell_type": "code",
   "execution_count": 13,
   "metadata": {},
   "outputs": [],
   "source": [
    "from pydna.assembly import Assembly"
   ]
  },
  {
   "cell_type": "code",
   "execution_count": 14,
   "metadata": {},
   "outputs": [
    {
     "data": {
      "text/plain": [
       "Assembly\n",
       "fragments..: 3449bp 2697bp 4065bp 4109bp 6327bp 3409bp 911bp 2834bp\n",
       "limit(bp)..: 25\n",
       "G.nodes....: 16\n",
       "algorithm..: terminal_overlap"
      ]
     },
     "execution_count": 14,
     "metadata": {},
     "output_type": "execute_result"
    }
   ],
   "source": [
    "asm = Assembly((frags), limit=25, algorithm=terminal_overlap)\n",
    "asm"
   ]
  },
  {
   "cell_type": "code",
   "execution_count": 15,
   "metadata": {},
   "outputs": [
    {
     "data": {
      "text/plain": [
       "[Contig(o25127), Contig(o25127)]"
      ]
     },
     "execution_count": 15,
     "metadata": {},
     "output_type": "execute_result"
    }
   ],
   "source": [
    "circular_candidates = asm.assemble_circular()\n",
    "circular_candidates"
   ]
  },
  {
   "cell_type": "code",
   "execution_count": 24,
   "metadata": {},
   "outputs": [
    {
     "data": {
      "text/plain": [
       " -|3449bp_PCR_pr_rc|30\n",
       "|                   \\/\n",
       "|                   /\\\n",
       "|                   30|2834bp_PCR_pr_rc|29\n",
       "|                                       \\/\n",
       "|                                       /\\\n",
       "|                                       29|911bp_PCR_pro_rc|50\n",
       "|                                                           \\/\n",
       "|                                                           /\\\n",
       "|                                                           50|3409bp_PCR_pr_rc|1503\n",
       "|                                                                               \\/\n",
       "|                                                                               /\\\n",
       "|                                                                               1503|6327bp_PCR_pr_rc|596\n",
       "|                                                                                                     \\/\n",
       "|                                                                                                     /\\\n",
       "|                                                                                                     596|4109bp_PCR_pr_rc|250\n",
       "|                                                                                                                          \\/\n",
       "|                                                                                                                          /\\\n",
       "|                                                                                                                          250|4065bp_PCR_pr_rc|118\n",
       "|                                                                                                                                               \\/\n",
       "|                                                                                                                                               /\\\n",
       "|                                                                                                                                               118|2697bp_PCR_pr_rc|98\n",
       "|                                                                                                                                                                    \\/\n",
       "|                                                                                                                                                                    /\\\n",
       "|                                                                                                                                                                    98-\n",
       "|                                                                                                                                                                       |\n",
       " -----------------------------------------------------------------------------------------------------------------------------------------------------------------------"
      ]
     },
     "execution_count": 24,
     "metadata": {},
     "output_type": "execute_result"
    }
   ],
   "source": [
    "candidate = circular_candidates[1]\n",
    "candidate.figure()"
   ]
  },
  {
   "cell_type": "code",
   "execution_count": 27,
   "metadata": {},
   "outputs": [],
   "source": [
    "pTA1_FASII2 = candidate.synced(\"tcgcgcgtttcggtgatgacggtgaaaacctctga\")"
   ]
  },
  {
   "cell_type": "code",
   "execution_count": 28,
   "metadata": {},
   "outputs": [],
   "source": [
    "ape(pTA1_FASII2)"
   ]
  },
  {
   "cell_type": "code",
   "execution_count": null,
   "metadata": {},
   "outputs": [],
   "source": []
  },
  {
   "cell_type": "code",
   "execution_count": null,
   "metadata": {},
   "outputs": [],
   "source": []
  },
  {
   "cell_type": "code",
   "execution_count": null,
   "metadata": {},
   "outputs": [],
   "source": []
  },
  {
   "cell_type": "code",
   "execution_count": null,
   "metadata": {},
   "outputs": [],
   "source": []
  },
  {
   "cell_type": "code",
   "execution_count": null,
   "metadata": {},
   "outputs": [],
   "source": [
    "asm = Assembly((frags[0:8]), limit=25, algorithm=terminal_overlap)\n",
    "asm"
   ]
  },
  {
   "cell_type": "code",
   "execution_count": null,
   "metadata": {},
   "outputs": [],
   "source": [
    "circular_candidates = asm.assemble_circular()\n",
    "circular_candidates"
   ]
  },
  {
   "cell_type": "code",
   "execution_count": null,
   "metadata": {},
   "outputs": [],
   "source": [
    "candidates = asm.assemble_linear()\n",
    "candidates"
   ]
  },
  {
   "cell_type": "code",
   "execution_count": null,
   "metadata": {},
   "outputs": [],
   "source": [
    "candidate = candidates[0]\n",
    "candidate.figure()"
   ]
  },
  {
   "cell_type": "code",
   "execution_count": null,
   "metadata": {},
   "outputs": [],
   "source": [
    "asm2 = Assembly((frags[0:6]), limit=25, algorithm=terminal_overlap)\n",
    "asm2"
   ]
  },
  {
   "cell_type": "code",
   "execution_count": null,
   "metadata": {},
   "outputs": [],
   "source": [
    "candidates2 = asm2.assemble_linear()\n",
    "candidates2"
   ]
  },
  {
   "cell_type": "code",
   "execution_count": null,
   "metadata": {},
   "outputs": [],
   "source": [
    "candidate2 = candidates2[0]\n",
    "candidate2.figure()"
   ]
  },
  {
   "cell_type": "code",
   "execution_count": null,
   "metadata": {},
   "outputs": [],
   "source": [
    "contig = candidate2"
   ]
  },
  {
   "cell_type": "code",
   "execution_count": null,
   "metadata": {},
   "outputs": [],
   "source": [
    "frag6 = frags[6]\n",
    "frag7 = frags[7]"
   ]
  },
  {
   "cell_type": "code",
   "execution_count": null,
   "metadata": {},
   "outputs": [],
   "source": [
    "asm3 = Assembly((frag6, frag7), limit=25, algorithm=terminal_overlap)\n",
    "asm3"
   ]
  },
  {
   "cell_type": "code",
   "execution_count": null,
   "metadata": {},
   "outputs": [],
   "source": [
    "candidates3 = asm3.assemble_linear()\n",
    "candidates3"
   ]
  },
  {
   "cell_type": "code",
   "execution_count": null,
   "metadata": {},
   "outputs": [],
   "source": [
    "candidate3 = candidates3[0]\n",
    "candidate3.figure()"
   ]
  },
  {
   "cell_type": "code",
   "execution_count": null,
   "metadata": {},
   "outputs": [],
   "source": [
    "contig2 = candidate3"
   ]
  },
  {
   "cell_type": "code",
   "execution_count": null,
   "metadata": {},
   "outputs": [],
   "source": [
    "asm4 = Assembly((contig, contig2), limit=25, algorithm=terminal_overlap)\n",
    "asm4"
   ]
  },
  {
   "cell_type": "code",
   "execution_count": null,
   "metadata": {},
   "outputs": [],
   "source": [
    "asm4.assemble_circular()"
   ]
  },
  {
   "cell_type": "code",
   "execution_count": null,
   "metadata": {},
   "outputs": [],
   "source": [
    "candidates4 = asm4.assemble_linear()\n",
    "candidates4"
   ]
  },
  {
   "cell_type": "code",
   "execution_count": null,
   "metadata": {},
   "outputs": [],
   "source": [
    "candidate4 = candidates4[0]\n",
    "candidate4.figure()"
   ]
  },
  {
   "cell_type": "code",
   "execution_count": null,
   "metadata": {},
   "outputs": [],
   "source": [
    "ape(candidate4)"
   ]
  },
  {
   "cell_type": "code",
   "execution_count": null,
   "metadata": {},
   "outputs": [],
   "source": [
    "frag5 = frags[5]"
   ]
  },
  {
   "cell_type": "code",
   "execution_count": null,
   "metadata": {},
   "outputs": [],
   "source": [
    "frag5"
   ]
  },
  {
   "cell_type": "code",
   "execution_count": null,
   "metadata": {},
   "outputs": [],
   "source": [
    "ape(frag5)"
   ]
  },
  {
   "cell_type": "code",
   "execution_count": null,
   "metadata": {},
   "outputs": [],
   "source": [
    "ape(frag6)"
   ]
  },
  {
   "cell_type": "code",
   "execution_count": null,
   "metadata": {},
   "outputs": [],
   "source": [
    "frag5.figure()"
   ]
  },
  {
   "cell_type": "code",
   "execution_count": null,
   "metadata": {},
   "outputs": [],
   "source": [
    "frag5.forward_primer"
   ]
  },
  {
   "cell_type": "code",
   "execution_count": null,
   "metadata": {},
   "outputs": [],
   "source": [
    "frag5.reverse_primer"
   ]
  },
  {
   "cell_type": "code",
   "execution_count": null,
   "metadata": {},
   "outputs": [],
   "source": [
    "frag6.figure()"
   ]
  },
  {
   "cell_type": "code",
   "execution_count": null,
   "metadata": {},
   "outputs": [],
   "source": [
    "frag5.reverse_primer"
   ]
  },
  {
   "cell_type": "code",
   "execution_count": null,
   "metadata": {},
   "outputs": [],
   "source": []
  }
 ],
 "metadata": {
  "anaconda-cloud": {},
  "kernelspec": {
   "display_name": "Python [conda env:bjorn39]",
   "language": "python",
   "name": "conda-env-bjorn39-py"
  },
  "language_info": {
   "codemirror_mode": {
    "name": "ipython",
    "version": 3
   },
   "file_extension": ".py",
   "mimetype": "text/x-python",
   "name": "python",
   "nbconvert_exporter": "python",
   "pygments_lexer": "ipython3",
   "version": "3.9.0"
  }
 },
 "nbformat": 4,
 "nbformat_minor": 4
}
